{
 "cells": [
  {
   "cell_type": "markdown",
   "metadata": {},
   "source": [
    "IMPORTING DATASETS"
   ]
  },
  {
   "cell_type": "code",
   "execution_count": 107,
   "metadata": {},
   "outputs": [
    {
     "name": "stdout",
     "output_type": "stream",
     "text": [
      "/Users/pranshmaurya/Desktop/AIML_Project/archive/.DS_Store\n",
      "/Users/pranshmaurya/Desktop/AIML_Project/archive/test/apple/Image_10.jpg\n",
      "/Users/pranshmaurya/Desktop/AIML_Project/archive/test/apple/Image_8.jpg\n",
      "/Users/pranshmaurya/Desktop/AIML_Project/archive/test/apple/Image_9.jpg\n",
      "/Users/pranshmaurya/Desktop/AIML_Project/archive/test/apple/Image_2.jpg\n",
      "/Users/pranshmaurya/Desktop/AIML_Project/archive/test/apple/Image_3.jpg\n",
      "/Users/pranshmaurya/Desktop/AIML_Project/archive/test/apple/Image_1.jpg\n",
      "/Users/pranshmaurya/Desktop/AIML_Project/archive/test/apple/Image_4.jpg\n",
      "/Users/pranshmaurya/Desktop/AIML_Project/archive/test/apple/Image_5.jpg\n",
      "/Users/pranshmaurya/Desktop/AIML_Project/archive/test/apple/Image_7.jpg\n",
      "/Users/pranshmaurya/Desktop/AIML_Project/archive/test/apple/Image_6.JPG\n",
      "/Users/pranshmaurya/Desktop/AIML_Project/archive/test/turnip/Image_10.jpg\n",
      "/Users/pranshmaurya/Desktop/AIML_Project/archive/test/turnip/Image_8.jpg\n",
      "/Users/pranshmaurya/Desktop/AIML_Project/archive/test/turnip/Image_9.jpg\n",
      "/Users/pranshmaurya/Desktop/AIML_Project/archive/test/turnip/Image_2.jpg\n",
      "/Users/pranshmaurya/Desktop/AIML_Project/archive/test/turnip/Image_3.jpg\n",
      "/Users/pranshmaurya/Desktop/AIML_Project/archive/test/turnip/Image_1.jpg\n",
      "/Users/pranshmaurya/Desktop/AIML_Project/archive/test/turnip/Image_4.jpg\n",
      "/Users/pranshmaurya/Desktop/AIML_Project/archive/test/turnip/Image_5.jpg\n",
      "/Users/pranshmaurya/Desktop/AIML_Project/archive/test/turnip/Image_7.jpg\n",
      "/Users/pranshmaurya/Desktop/AIML_Project/archive/test/turnip/Image_6.jpg\n",
      "/Users/pranshmaurya/Desktop/AIML_Project/archive/test/chilli pepper/Image_6.jpeg\n",
      "/Users/pranshmaurya/Desktop/AIML_Project/archive/test/chilli pepper/Image_10.jpg\n",
      "/Users/pranshmaurya/Desktop/AIML_Project/archive/test/chilli pepper/Image_8.jpg\n",
      "/Users/pranshmaurya/Desktop/AIML_Project/archive/test/chilli pepper/Image_9.jpg\n",
      "/Users/pranshmaurya/Desktop/AIML_Project/archive/test/chilli pepper/Image_2.png\n",
      "/Users/pranshmaurya/Desktop/AIML_Project/archive/test/chilli pepper/Image_3.jpg\n",
      "/Users/pranshmaurya/Desktop/AIML_Project/archive/test/chilli pepper/Image_1.jpg\n",
      "/Users/pranshmaurya/Desktop/AIML_Project/archive/test/chilli pepper/Image_4.jpg\n",
      "/Users/pranshmaurya/Desktop/AIML_Project/archive/test/chilli pepper/Image_5.png\n",
      "/Users/pranshmaurya/Desktop/AIML_Project/archive/test/chilli pepper/Image_7.jpg\n",
      "/Users/pranshmaurya/Desktop/AIML_Project/archive/test/raddish/Image_10.jpg\n",
      "/Users/pranshmaurya/Desktop/AIML_Project/archive/test/raddish/Image_8.jpg\n",
      "/Users/pranshmaurya/Desktop/AIML_Project/archive/test/raddish/Image_2.jpg\n",
      "/Users/pranshmaurya/Desktop/AIML_Project/archive/test/raddish/Image_3.jpg\n",
      "/Users/pranshmaurya/Desktop/AIML_Project/archive/test/raddish/Image_1.jpg\n",
      "/Users/pranshmaurya/Desktop/AIML_Project/archive/test/raddish/Image_4.jpg\n",
      "/Users/pranshmaurya/Desktop/AIML_Project/archive/test/raddish/Image_5.png\n",
      "/Users/pranshmaurya/Desktop/AIML_Project/archive/test/raddish/Image_7.jpg\n",
      "/Users/pranshmaurya/Desktop/AIML_Project/archive/test/raddish/Image_6.jpg\n",
      "/Users/pranshmaurya/Desktop/AIML_Project/archive/test/raddish/Image_9.jpeg\n",
      "/Users/pranshmaurya/Desktop/AIML_Project/archive/test/bell pepper/Image_10.jpg\n",
      "/Users/pranshmaurya/Desktop/AIML_Project/archive/test/bell pepper/Image_8.jpg\n",
      "/Users/pranshmaurya/Desktop/AIML_Project/archive/test/bell pepper/Image_9.jpg\n",
      "/Users/pranshmaurya/Desktop/AIML_Project/archive/test/bell pepper/Image_2.jpg\n",
      "/Users/pranshmaurya/Desktop/AIML_Project/archive/test/bell pepper/Image_1.jpg\n",
      "/Users/pranshmaurya/Desktop/AIML_Project/archive/test/bell pepper/Image_4.jpg\n",
      "/Users/pranshmaurya/Desktop/AIML_Project/archive/test/bell pepper/Image_5.jpg\n",
      "/Users/pranshmaurya/Desktop/AIML_Project/archive/test/bell pepper/Image_3.jpeg\n",
      "/Users/pranshmaurya/Desktop/AIML_Project/archive/test/bell pepper/Image_7.jpg\n",
      "/Users/pranshmaurya/Desktop/AIML_Project/archive/test/bell pepper/Image_6.jpg\n",
      "/Users/pranshmaurya/Desktop/AIML_Project/archive/test/pear/Image_10.jpg\n",
      "/Users/pranshmaurya/Desktop/AIML_Project/archive/test/pear/Image_8.jpg\n",
      "/Users/pranshmaurya/Desktop/AIML_Project/archive/test/pear/Image_9.jpg\n",
      "/Users/pranshmaurya/Desktop/AIML_Project/archive/test/pear/Image_2.jpg\n",
      "/Users/pranshmaurya/Desktop/AIML_Project/archive/test/pear/Image_3.jpg\n",
      "/Users/pranshmaurya/Desktop/AIML_Project/archive/test/pear/Image_1.jpg\n",
      "/Users/pranshmaurya/Desktop/AIML_Project/archive/test/pear/Image_4.jpg\n",
      "/Users/pranshmaurya/Desktop/AIML_Project/archive/test/pear/Image_5.jpg\n",
      "/Users/pranshmaurya/Desktop/AIML_Project/archive/test/pear/Image_7.jpg\n",
      "/Users/pranshmaurya/Desktop/AIML_Project/archive/test/pear/Image_6.jpg\n",
      "/Users/pranshmaurya/Desktop/AIML_Project/archive/test/sweetpotato/Image_10.jpg\n",
      "/Users/pranshmaurya/Desktop/AIML_Project/archive/test/sweetpotato/Image_8.jpg\n",
      "/Users/pranshmaurya/Desktop/AIML_Project/archive/test/sweetpotato/Image_9.jpg\n",
      "/Users/pranshmaurya/Desktop/AIML_Project/archive/test/sweetpotato/Image_2.jpg\n",
      "/Users/pranshmaurya/Desktop/AIML_Project/archive/test/sweetpotato/Image_3.jpg\n",
      "/Users/pranshmaurya/Desktop/AIML_Project/archive/test/sweetpotato/Image_1.jpg\n",
      "/Users/pranshmaurya/Desktop/AIML_Project/archive/test/sweetpotato/Image_4.jpg\n",
      "/Users/pranshmaurya/Desktop/AIML_Project/archive/test/sweetpotato/Image_5.jpg\n",
      "/Users/pranshmaurya/Desktop/AIML_Project/archive/test/sweetpotato/Image_7.jpg\n",
      "/Users/pranshmaurya/Desktop/AIML_Project/archive/test/sweetpotato/Image_6.jpg\n",
      "/Users/pranshmaurya/Desktop/AIML_Project/archive/test/pomegranate/Image_10.jpg\n",
      "/Users/pranshmaurya/Desktop/AIML_Project/archive/test/pomegranate/Image_8.jpg\n",
      "/Users/pranshmaurya/Desktop/AIML_Project/archive/test/pomegranate/Image_9.jpg\n",
      "/Users/pranshmaurya/Desktop/AIML_Project/archive/test/pomegranate/Image_2.jpg\n",
      "/Users/pranshmaurya/Desktop/AIML_Project/archive/test/pomegranate/Image_3.jpg\n",
      "/Users/pranshmaurya/Desktop/AIML_Project/archive/test/pomegranate/Image_1.jpg\n",
      "/Users/pranshmaurya/Desktop/AIML_Project/archive/test/pomegranate/Image_4.jpg\n",
      "/Users/pranshmaurya/Desktop/AIML_Project/archive/test/pomegranate/Image_5.jpg\n",
      "/Users/pranshmaurya/Desktop/AIML_Project/archive/test/pomegranate/Image_7.jpg\n",
      "/Users/pranshmaurya/Desktop/AIML_Project/archive/test/pomegranate/Image_6.jpg\n",
      "/Users/pranshmaurya/Desktop/AIML_Project/archive/test/peas/Image_10.jpg\n",
      "/Users/pranshmaurya/Desktop/AIML_Project/archive/test/peas/Image_8.jpg\n",
      "/Users/pranshmaurya/Desktop/AIML_Project/archive/test/peas/Image_9.jpg\n",
      "/Users/pranshmaurya/Desktop/AIML_Project/archive/test/peas/Image_2.jpg\n",
      "/Users/pranshmaurya/Desktop/AIML_Project/archive/test/peas/Image_3.jpg\n",
      "/Users/pranshmaurya/Desktop/AIML_Project/archive/test/peas/Image_1.jpg\n",
      "/Users/pranshmaurya/Desktop/AIML_Project/archive/test/peas/Image_4.jpg\n",
      "/Users/pranshmaurya/Desktop/AIML_Project/archive/test/peas/Image_5.jpg\n",
      "/Users/pranshmaurya/Desktop/AIML_Project/archive/test/peas/Image_7.jpg\n",
      "/Users/pranshmaurya/Desktop/AIML_Project/archive/test/peas/Image_6.png\n",
      "/Users/pranshmaurya/Desktop/AIML_Project/archive/test/capsicum/Image_10.jpg\n",
      "/Users/pranshmaurya/Desktop/AIML_Project/archive/test/capsicum/Image_8.jpg\n",
      "/Users/pranshmaurya/Desktop/AIML_Project/archive/test/capsicum/Image_9.jpg\n",
      "/Users/pranshmaurya/Desktop/AIML_Project/archive/test/capsicum/Image_2.jpg\n",
      "/Users/pranshmaurya/Desktop/AIML_Project/archive/test/capsicum/Image_3.JPG\n",
      "/Users/pranshmaurya/Desktop/AIML_Project/archive/test/capsicum/Image_1.jpg\n",
      "/Users/pranshmaurya/Desktop/AIML_Project/archive/test/capsicum/Image_4.jpg\n",
      "/Users/pranshmaurya/Desktop/AIML_Project/archive/test/capsicum/Image_5.jpg\n",
      "/Users/pranshmaurya/Desktop/AIML_Project/archive/test/capsicum/Image_7.jpg\n",
      "/Users/pranshmaurya/Desktop/AIML_Project/archive/test/capsicum/Image_6.jpg\n",
      "/Users/pranshmaurya/Desktop/AIML_Project/archive/test/spinach/Image_10.jpg\n",
      "/Users/pranshmaurya/Desktop/AIML_Project/archive/test/spinach/Image_8.jpg\n",
      "/Users/pranshmaurya/Desktop/AIML_Project/archive/test/spinach/Image_9.jpg\n",
      "/Users/pranshmaurya/Desktop/AIML_Project/archive/test/spinach/Image_2.jpg\n",
      "/Users/pranshmaurya/Desktop/AIML_Project/archive/test/spinach/Image_3.jpg\n",
      "/Users/pranshmaurya/Desktop/AIML_Project/archive/test/spinach/Image_1.jpg\n",
      "/Users/pranshmaurya/Desktop/AIML_Project/archive/test/spinach/Image_4.jpg\n",
      "/Users/pranshmaurya/Desktop/AIML_Project/archive/test/spinach/Image_5.jpg\n",
      "/Users/pranshmaurya/Desktop/AIML_Project/archive/test/spinach/Image_7.jpg\n",
      "/Users/pranshmaurya/Desktop/AIML_Project/archive/test/spinach/Image_6.jpg\n",
      "/Users/pranshmaurya/Desktop/AIML_Project/archive/test/lettuce/Image_10.jpg\n",
      "/Users/pranshmaurya/Desktop/AIML_Project/archive/test/lettuce/Image_8.jpg\n",
      "/Users/pranshmaurya/Desktop/AIML_Project/archive/test/lettuce/Image_9.jpg\n",
      "/Users/pranshmaurya/Desktop/AIML_Project/archive/test/lettuce/Image_2.jpg\n",
      "/Users/pranshmaurya/Desktop/AIML_Project/archive/test/lettuce/Image_3.jpg\n",
      "/Users/pranshmaurya/Desktop/AIML_Project/archive/test/lettuce/Image_1.jpg\n",
      "/Users/pranshmaurya/Desktop/AIML_Project/archive/test/lettuce/Image_4.jpg\n",
      "/Users/pranshmaurya/Desktop/AIML_Project/archive/test/lettuce/Image_7.jpg\n",
      "/Users/pranshmaurya/Desktop/AIML_Project/archive/test/lettuce/Image_6.jpg\n",
      "/Users/pranshmaurya/Desktop/AIML_Project/archive/test/lettuce/Image_5.jpeg\n",
      "/Users/pranshmaurya/Desktop/AIML_Project/archive/test/kiwi/Image_10.jpg\n",
      "/Users/pranshmaurya/Desktop/AIML_Project/archive/test/kiwi/Image_8.jpg\n",
      "/Users/pranshmaurya/Desktop/AIML_Project/archive/test/kiwi/Image_9.jpg\n",
      "/Users/pranshmaurya/Desktop/AIML_Project/archive/test/kiwi/Image_2.jpg\n",
      "/Users/pranshmaurya/Desktop/AIML_Project/archive/test/kiwi/Image_3.jpg\n",
      "/Users/pranshmaurya/Desktop/AIML_Project/archive/test/kiwi/Image_1.jpg\n",
      "/Users/pranshmaurya/Desktop/AIML_Project/archive/test/kiwi/Image_4.jpg\n",
      "/Users/pranshmaurya/Desktop/AIML_Project/archive/test/kiwi/Image_5.jpg\n",
      "/Users/pranshmaurya/Desktop/AIML_Project/archive/test/kiwi/Image_7.jpg\n",
      "/Users/pranshmaurya/Desktop/AIML_Project/archive/test/kiwi/Image_6.jpg\n",
      "/Users/pranshmaurya/Desktop/AIML_Project/archive/test/lemon/Image_10.jpg\n",
      "/Users/pranshmaurya/Desktop/AIML_Project/archive/test/lemon/Image_8.jpg\n",
      "/Users/pranshmaurya/Desktop/AIML_Project/archive/test/lemon/Image_9.png\n",
      "/Users/pranshmaurya/Desktop/AIML_Project/archive/test/lemon/Image_2.jpg\n",
      "/Users/pranshmaurya/Desktop/AIML_Project/archive/test/lemon/Image_3.jpg\n",
      "/Users/pranshmaurya/Desktop/AIML_Project/archive/test/lemon/Image_1.png\n",
      "/Users/pranshmaurya/Desktop/AIML_Project/archive/test/lemon/Image_4.jpg\n",
      "/Users/pranshmaurya/Desktop/AIML_Project/archive/test/lemon/Image_5.jpg\n",
      "/Users/pranshmaurya/Desktop/AIML_Project/archive/test/lemon/Image_7.jpg\n",
      "/Users/pranshmaurya/Desktop/AIML_Project/archive/test/lemon/Image_6.png\n",
      "/Users/pranshmaurya/Desktop/AIML_Project/archive/test/onion/Image_10.jpg\n",
      "/Users/pranshmaurya/Desktop/AIML_Project/archive/test/onion/Image_8.jpg\n",
      "/Users/pranshmaurya/Desktop/AIML_Project/archive/test/onion/Image_9.jpg\n",
      "/Users/pranshmaurya/Desktop/AIML_Project/archive/test/onion/Image_2.jpg\n",
      "/Users/pranshmaurya/Desktop/AIML_Project/archive/test/onion/Image_3.jpg\n",
      "/Users/pranshmaurya/Desktop/AIML_Project/archive/test/onion/Image_1.jpg\n",
      "/Users/pranshmaurya/Desktop/AIML_Project/archive/test/onion/Image_4.jpg\n",
      "/Users/pranshmaurya/Desktop/AIML_Project/archive/test/onion/Image_5.jpg\n",
      "/Users/pranshmaurya/Desktop/AIML_Project/archive/test/onion/Image_7.png\n",
      "/Users/pranshmaurya/Desktop/AIML_Project/archive/test/onion/Image_6.jpg\n",
      "/Users/pranshmaurya/Desktop/AIML_Project/archive/test/cauliflower/Image_10.jpg\n",
      "/Users/pranshmaurya/Desktop/AIML_Project/archive/test/cauliflower/Image_8.jpg\n",
      "/Users/pranshmaurya/Desktop/AIML_Project/archive/test/cauliflower/Image_9.jpg\n",
      "/Users/pranshmaurya/Desktop/AIML_Project/archive/test/cauliflower/Image_2.jpg\n",
      "/Users/pranshmaurya/Desktop/AIML_Project/archive/test/cauliflower/Image_3.jpg\n",
      "/Users/pranshmaurya/Desktop/AIML_Project/archive/test/cauliflower/Image_1.jpg\n",
      "/Users/pranshmaurya/Desktop/AIML_Project/archive/test/cauliflower/Image_4.jpg\n",
      "/Users/pranshmaurya/Desktop/AIML_Project/archive/test/cauliflower/Image_5.JPG\n",
      "/Users/pranshmaurya/Desktop/AIML_Project/archive/test/cauliflower/Image_7.jpg\n",
      "/Users/pranshmaurya/Desktop/AIML_Project/archive/test/cauliflower/Image_6.jpg\n",
      "/Users/pranshmaurya/Desktop/AIML_Project/archive/test/potato/Image_10.jpg\n",
      "/Users/pranshmaurya/Desktop/AIML_Project/archive/test/potato/Image_8.jpg\n",
      "/Users/pranshmaurya/Desktop/AIML_Project/archive/test/potato/Image_9.jpg\n",
      "/Users/pranshmaurya/Desktop/AIML_Project/archive/test/potato/Image_2.jpg\n",
      "/Users/pranshmaurya/Desktop/AIML_Project/archive/test/potato/Image_3.jpg\n",
      "/Users/pranshmaurya/Desktop/AIML_Project/archive/test/potato/Image_1.jpg\n",
      "/Users/pranshmaurya/Desktop/AIML_Project/archive/test/potato/Image_4.jpg\n",
      "/Users/pranshmaurya/Desktop/AIML_Project/archive/test/potato/Image_5.JPG\n",
      "/Users/pranshmaurya/Desktop/AIML_Project/archive/test/potato/Image_7.jpg\n",
      "/Users/pranshmaurya/Desktop/AIML_Project/archive/test/potato/Image_6.jpg\n",
      "/Users/pranshmaurya/Desktop/AIML_Project/archive/test/jalepeno/Image_10.jpg\n",
      "/Users/pranshmaurya/Desktop/AIML_Project/archive/test/jalepeno/Image_8.jpg\n",
      "/Users/pranshmaurya/Desktop/AIML_Project/archive/test/jalepeno/Image_9.jpg\n",
      "/Users/pranshmaurya/Desktop/AIML_Project/archive/test/jalepeno/Image_1.jpeg\n",
      "/Users/pranshmaurya/Desktop/AIML_Project/archive/test/jalepeno/Image_2.jpg\n",
      "/Users/pranshmaurya/Desktop/AIML_Project/archive/test/jalepeno/Image_3.jpg\n",
      "/Users/pranshmaurya/Desktop/AIML_Project/archive/test/jalepeno/Image_4.jpg\n",
      "/Users/pranshmaurya/Desktop/AIML_Project/archive/test/jalepeno/Image_5.jpg\n",
      "/Users/pranshmaurya/Desktop/AIML_Project/archive/test/jalepeno/Image_7.jpg\n",
      "/Users/pranshmaurya/Desktop/AIML_Project/archive/test/jalepeno/Image_6.jpg\n",
      "/Users/pranshmaurya/Desktop/AIML_Project/archive/test/sweetcorn/Image_10.jpg\n",
      "/Users/pranshmaurya/Desktop/AIML_Project/archive/test/sweetcorn/Image_8.jpg\n",
      "/Users/pranshmaurya/Desktop/AIML_Project/archive/test/sweetcorn/Image_9.jpg\n",
      "/Users/pranshmaurya/Desktop/AIML_Project/archive/test/sweetcorn/Image_2.jpg\n",
      "/Users/pranshmaurya/Desktop/AIML_Project/archive/test/sweetcorn/Image_3.jpg\n",
      "/Users/pranshmaurya/Desktop/AIML_Project/archive/test/sweetcorn/Image_1.jpg\n",
      "/Users/pranshmaurya/Desktop/AIML_Project/archive/test/sweetcorn/Image_4.jpg\n",
      "/Users/pranshmaurya/Desktop/AIML_Project/archive/test/sweetcorn/Image_5.jpg\n",
      "/Users/pranshmaurya/Desktop/AIML_Project/archive/test/sweetcorn/Image_7.jpg\n",
      "/Users/pranshmaurya/Desktop/AIML_Project/archive/test/sweetcorn/Image_6.jpg\n",
      "/Users/pranshmaurya/Desktop/AIML_Project/archive/test/cucumber/Image_10.jpg\n",
      "/Users/pranshmaurya/Desktop/AIML_Project/archive/test/cucumber/Image_8.jpg\n",
      "/Users/pranshmaurya/Desktop/AIML_Project/archive/test/cucumber/Image_9.jpg\n",
      "/Users/pranshmaurya/Desktop/AIML_Project/archive/test/cucumber/Image_2.jpg\n",
      "/Users/pranshmaurya/Desktop/AIML_Project/archive/test/cucumber/Image_3.jpg\n",
      "/Users/pranshmaurya/Desktop/AIML_Project/archive/test/cucumber/Image_1.jpg\n",
      "/Users/pranshmaurya/Desktop/AIML_Project/archive/test/cucumber/Image_4.jpg\n",
      "/Users/pranshmaurya/Desktop/AIML_Project/archive/test/cucumber/Image_5.jpg\n",
      "/Users/pranshmaurya/Desktop/AIML_Project/archive/test/cucumber/Image_7.jpg\n",
      "/Users/pranshmaurya/Desktop/AIML_Project/archive/test/cucumber/Image_6.jpg\n",
      "/Users/pranshmaurya/Desktop/AIML_Project/archive/test/paprika/Image_10.jpg\n",
      "/Users/pranshmaurya/Desktop/AIML_Project/archive/test/paprika/Image_8.jpg\n",
      "/Users/pranshmaurya/Desktop/AIML_Project/archive/test/paprika/Image_9.jpg\n",
      "/Users/pranshmaurya/Desktop/AIML_Project/archive/test/paprika/Image_2.jpg\n",
      "/Users/pranshmaurya/Desktop/AIML_Project/archive/test/paprika/Image_3.jpg\n",
      "/Users/pranshmaurya/Desktop/AIML_Project/archive/test/paprika/Image_1.jpg\n",
      "/Users/pranshmaurya/Desktop/AIML_Project/archive/test/paprika/Image_4.jpg\n",
      "/Users/pranshmaurya/Desktop/AIML_Project/archive/test/paprika/Image_5.jpg\n",
      "/Users/pranshmaurya/Desktop/AIML_Project/archive/test/paprika/Image_7.jpg\n",
      "/Users/pranshmaurya/Desktop/AIML_Project/archive/test/paprika/Image_6.jpg\n",
      "/Users/pranshmaurya/Desktop/AIML_Project/archive/test/watermelon/Image_10.jpg\n",
      "/Users/pranshmaurya/Desktop/AIML_Project/archive/test/watermelon/Image_8.jpg\n",
      "/Users/pranshmaurya/Desktop/AIML_Project/archive/test/watermelon/Image_9.jpg\n",
      "/Users/pranshmaurya/Desktop/AIML_Project/archive/test/watermelon/Image_2.jpg\n",
      "/Users/pranshmaurya/Desktop/AIML_Project/archive/test/watermelon/Image_3.jpg\n",
      "/Users/pranshmaurya/Desktop/AIML_Project/archive/test/watermelon/Image_1.jpg\n",
      "/Users/pranshmaurya/Desktop/AIML_Project/archive/test/watermelon/Image_4.jpg\n",
      "/Users/pranshmaurya/Desktop/AIML_Project/archive/test/watermelon/Image_5.jpg\n",
      "/Users/pranshmaurya/Desktop/AIML_Project/archive/test/watermelon/Image_7.jpg\n",
      "/Users/pranshmaurya/Desktop/AIML_Project/archive/test/watermelon/Image_6.jpg\n",
      "/Users/pranshmaurya/Desktop/AIML_Project/archive/test/mango/Image_10.jpg\n",
      "/Users/pranshmaurya/Desktop/AIML_Project/archive/test/mango/Image_8.jpg\n",
      "/Users/pranshmaurya/Desktop/AIML_Project/archive/test/mango/Image_9.jpg\n",
      "/Users/pranshmaurya/Desktop/AIML_Project/archive/test/mango/Image_2.jpg\n",
      "/Users/pranshmaurya/Desktop/AIML_Project/archive/test/mango/Image_3.jpg\n",
      "/Users/pranshmaurya/Desktop/AIML_Project/archive/test/mango/Image_1.jpg\n",
      "/Users/pranshmaurya/Desktop/AIML_Project/archive/test/mango/Image_4.jpg\n",
      "/Users/pranshmaurya/Desktop/AIML_Project/archive/test/mango/Image_5.jpg\n",
      "/Users/pranshmaurya/Desktop/AIML_Project/archive/test/mango/Image_7.jpg\n",
      "/Users/pranshmaurya/Desktop/AIML_Project/archive/test/mango/Image_6.jpg\n",
      "/Users/pranshmaurya/Desktop/AIML_Project/archive/test/cabbage/Image_10.jpg\n",
      "/Users/pranshmaurya/Desktop/AIML_Project/archive/test/cabbage/Image_8.jpg\n",
      "/Users/pranshmaurya/Desktop/AIML_Project/archive/test/cabbage/Image_9.jpg\n",
      "/Users/pranshmaurya/Desktop/AIML_Project/archive/test/cabbage/Image_2.jpg\n",
      "/Users/pranshmaurya/Desktop/AIML_Project/archive/test/cabbage/Image_3.jpg\n",
      "/Users/pranshmaurya/Desktop/AIML_Project/archive/test/cabbage/Image_1.jpg\n",
      "/Users/pranshmaurya/Desktop/AIML_Project/archive/test/cabbage/Image_4.jpg\n",
      "/Users/pranshmaurya/Desktop/AIML_Project/archive/test/cabbage/Image_5.jpg\n",
      "/Users/pranshmaurya/Desktop/AIML_Project/archive/test/cabbage/Image_7.jpg\n",
      "/Users/pranshmaurya/Desktop/AIML_Project/archive/test/cabbage/Image_6.jpg\n",
      "/Users/pranshmaurya/Desktop/AIML_Project/archive/test/grapes/Image_10.jpg\n",
      "/Users/pranshmaurya/Desktop/AIML_Project/archive/test/grapes/Image_8.jpg\n",
      "/Users/pranshmaurya/Desktop/AIML_Project/archive/test/grapes/Image_9.jpg\n",
      "/Users/pranshmaurya/Desktop/AIML_Project/archive/test/grapes/Image_2.jpg\n",
      "/Users/pranshmaurya/Desktop/AIML_Project/archive/test/grapes/Image_3.jpg\n",
      "/Users/pranshmaurya/Desktop/AIML_Project/archive/test/grapes/Image_1.jpg\n",
      "/Users/pranshmaurya/Desktop/AIML_Project/archive/test/grapes/Image_4.jpg\n",
      "/Users/pranshmaurya/Desktop/AIML_Project/archive/test/grapes/Image_7.JPG\n",
      "/Users/pranshmaurya/Desktop/AIML_Project/archive/test/grapes/Image_6.jpg\n",
      "/Users/pranshmaurya/Desktop/AIML_Project/archive/test/grapes/Image_5.jpeg\n",
      "/Users/pranshmaurya/Desktop/AIML_Project/archive/test/beetroot/Image_10.jpg\n",
      "/Users/pranshmaurya/Desktop/AIML_Project/archive/test/beetroot/Image_8.jpg\n",
      "/Users/pranshmaurya/Desktop/AIML_Project/archive/test/beetroot/Image_9.jpg\n",
      "/Users/pranshmaurya/Desktop/AIML_Project/archive/test/beetroot/Image_2.jpg\n",
      "/Users/pranshmaurya/Desktop/AIML_Project/archive/test/beetroot/Image_3.jpg\n",
      "/Users/pranshmaurya/Desktop/AIML_Project/archive/test/beetroot/Image_1.jpg\n",
      "/Users/pranshmaurya/Desktop/AIML_Project/archive/test/beetroot/Image_4.jpg\n",
      "/Users/pranshmaurya/Desktop/AIML_Project/archive/test/beetroot/Image_5.jpg\n",
      "/Users/pranshmaurya/Desktop/AIML_Project/archive/test/beetroot/Image_7.jpg\n",
      "/Users/pranshmaurya/Desktop/AIML_Project/archive/test/beetroot/Image_6.jpg\n",
      "/Users/pranshmaurya/Desktop/AIML_Project/archive/test/eggplant/Image_10.jpg\n",
      "/Users/pranshmaurya/Desktop/AIML_Project/archive/test/eggplant/Image_8.jpg\n",
      "/Users/pranshmaurya/Desktop/AIML_Project/archive/test/eggplant/Image_9.jpg\n",
      "/Users/pranshmaurya/Desktop/AIML_Project/archive/test/eggplant/Image_2.jpg\n",
      "/Users/pranshmaurya/Desktop/AIML_Project/archive/test/eggplant/Image_3.jpg\n",
      "/Users/pranshmaurya/Desktop/AIML_Project/archive/test/eggplant/Image_1.jpg\n",
      "/Users/pranshmaurya/Desktop/AIML_Project/archive/test/eggplant/Image_4.jpg\n",
      "/Users/pranshmaurya/Desktop/AIML_Project/archive/test/eggplant/Image_5.jpg\n",
      "/Users/pranshmaurya/Desktop/AIML_Project/archive/test/eggplant/Image_7.jpg\n",
      "/Users/pranshmaurya/Desktop/AIML_Project/archive/test/eggplant/Image_6.jpg\n",
      "/Users/pranshmaurya/Desktop/AIML_Project/archive/test/corn/Image_10.jpg\n",
      "/Users/pranshmaurya/Desktop/AIML_Project/archive/test/corn/Image_8.jpg\n",
      "/Users/pranshmaurya/Desktop/AIML_Project/archive/test/corn/Image_9.jpg\n",
      "/Users/pranshmaurya/Desktop/AIML_Project/archive/test/corn/Image_2.jpg\n",
      "/Users/pranshmaurya/Desktop/AIML_Project/archive/test/corn/Image_3.jpg\n",
      "/Users/pranshmaurya/Desktop/AIML_Project/archive/test/corn/Image_1.jpg\n",
      "/Users/pranshmaurya/Desktop/AIML_Project/archive/test/corn/Image_4.jpg\n",
      "/Users/pranshmaurya/Desktop/AIML_Project/archive/test/corn/Image_5.jpg\n",
      "/Users/pranshmaurya/Desktop/AIML_Project/archive/test/corn/Image_7.jpg\n",
      "/Users/pranshmaurya/Desktop/AIML_Project/archive/test/corn/Image_6.jpg\n",
      "/Users/pranshmaurya/Desktop/AIML_Project/archive/test/soy beans/Image_10.jpg\n",
      "/Users/pranshmaurya/Desktop/AIML_Project/archive/test/soy beans/Image_8.jpg\n",
      "/Users/pranshmaurya/Desktop/AIML_Project/archive/test/soy beans/Image_9.jpg\n",
      "/Users/pranshmaurya/Desktop/AIML_Project/archive/test/soy beans/Image_2.jpg\n",
      "/Users/pranshmaurya/Desktop/AIML_Project/archive/test/soy beans/Image_3.jpg\n",
      "/Users/pranshmaurya/Desktop/AIML_Project/archive/test/soy beans/Image_1.jpg\n",
      "/Users/pranshmaurya/Desktop/AIML_Project/archive/test/soy beans/Image_4.jpg\n",
      "/Users/pranshmaurya/Desktop/AIML_Project/archive/test/soy beans/Image_5.jpg\n",
      "/Users/pranshmaurya/Desktop/AIML_Project/archive/test/soy beans/Image_7.jpg\n",
      "/Users/pranshmaurya/Desktop/AIML_Project/archive/test/soy beans/Image_6.jpg\n",
      "/Users/pranshmaurya/Desktop/AIML_Project/archive/test/banana/Image_10.jpg\n",
      "/Users/pranshmaurya/Desktop/AIML_Project/archive/test/banana/Image_8.jpg\n",
      "/Users/pranshmaurya/Desktop/AIML_Project/archive/test/banana/Image_9.jpg\n",
      "/Users/pranshmaurya/Desktop/AIML_Project/archive/test/banana/Image_2.jpg\n",
      "/Users/pranshmaurya/Desktop/AIML_Project/archive/test/banana/Image_3.jpg\n",
      "/Users/pranshmaurya/Desktop/AIML_Project/archive/test/banana/Image_1.jpg\n",
      "/Users/pranshmaurya/Desktop/AIML_Project/archive/test/banana/Image_4.jpg\n",
      "/Users/pranshmaurya/Desktop/AIML_Project/archive/test/banana/Image_5.jpg\n",
      "/Users/pranshmaurya/Desktop/AIML_Project/archive/test/banana/Image_6.jpg\n",
      "/Users/pranshmaurya/Desktop/AIML_Project/archive/test/ginger/Image_10.jpg\n",
      "/Users/pranshmaurya/Desktop/AIML_Project/archive/test/ginger/Image_8.jpg\n",
      "/Users/pranshmaurya/Desktop/AIML_Project/archive/test/ginger/Image_9.jpg\n",
      "/Users/pranshmaurya/Desktop/AIML_Project/archive/test/ginger/Image_2.jpg\n",
      "/Users/pranshmaurya/Desktop/AIML_Project/archive/test/ginger/Image_3.jpg\n",
      "/Users/pranshmaurya/Desktop/AIML_Project/archive/test/ginger/Image_1.jpg\n",
      "/Users/pranshmaurya/Desktop/AIML_Project/archive/test/ginger/Image_4.jpg\n",
      "/Users/pranshmaurya/Desktop/AIML_Project/archive/test/ginger/Image_5.jpg\n",
      "/Users/pranshmaurya/Desktop/AIML_Project/archive/test/ginger/Image_7.jpg\n",
      "/Users/pranshmaurya/Desktop/AIML_Project/archive/test/ginger/Image_6.jpg\n",
      "/Users/pranshmaurya/Desktop/AIML_Project/archive/test/garlic/Image_10.jpg\n",
      "/Users/pranshmaurya/Desktop/AIML_Project/archive/test/garlic/Image_8.jpg\n",
      "/Users/pranshmaurya/Desktop/AIML_Project/archive/test/garlic/Image_9.jpg\n",
      "/Users/pranshmaurya/Desktop/AIML_Project/archive/test/garlic/Image_2.jpg\n",
      "/Users/pranshmaurya/Desktop/AIML_Project/archive/test/garlic/Image_3.jpg\n",
      "/Users/pranshmaurya/Desktop/AIML_Project/archive/test/garlic/Image_1.jpg\n",
      "/Users/pranshmaurya/Desktop/AIML_Project/archive/test/garlic/Image_4.jpg\n",
      "/Users/pranshmaurya/Desktop/AIML_Project/archive/test/garlic/Image_5.jpg\n",
      "/Users/pranshmaurya/Desktop/AIML_Project/archive/test/garlic/Image_7.jpg\n",
      "/Users/pranshmaurya/Desktop/AIML_Project/archive/test/garlic/Image_6.jpg\n",
      "/Users/pranshmaurya/Desktop/AIML_Project/archive/test/pineapple/Image_10.jpg\n",
      "/Users/pranshmaurya/Desktop/AIML_Project/archive/test/pineapple/Image_8.jpg\n",
      "/Users/pranshmaurya/Desktop/AIML_Project/archive/test/pineapple/Image_9.jpg\n",
      "/Users/pranshmaurya/Desktop/AIML_Project/archive/test/pineapple/Image_2.jpg\n",
      "/Users/pranshmaurya/Desktop/AIML_Project/archive/test/pineapple/Image_3.jpg\n",
      "/Users/pranshmaurya/Desktop/AIML_Project/archive/test/pineapple/Image_1.jpg\n",
      "/Users/pranshmaurya/Desktop/AIML_Project/archive/test/pineapple/Image_4.jpg\n",
      "/Users/pranshmaurya/Desktop/AIML_Project/archive/test/pineapple/Image_5.jpg\n",
      "/Users/pranshmaurya/Desktop/AIML_Project/archive/test/pineapple/Image_7.jpg\n",
      "/Users/pranshmaurya/Desktop/AIML_Project/archive/test/pineapple/Image_6.jpg\n",
      "/Users/pranshmaurya/Desktop/AIML_Project/archive/test/tomato/Image_10.jpg\n",
      "/Users/pranshmaurya/Desktop/AIML_Project/archive/test/tomato/Image_8.jpg\n",
      "/Users/pranshmaurya/Desktop/AIML_Project/archive/test/tomato/Image_9.jpg\n",
      "/Users/pranshmaurya/Desktop/AIML_Project/archive/test/tomato/Image_2.jpg\n",
      "/Users/pranshmaurya/Desktop/AIML_Project/archive/test/tomato/Image_3.jpg\n",
      "/Users/pranshmaurya/Desktop/AIML_Project/archive/test/tomato/Image_1.jpg\n",
      "/Users/pranshmaurya/Desktop/AIML_Project/archive/test/tomato/Image_4.jpg\n",
      "/Users/pranshmaurya/Desktop/AIML_Project/archive/test/tomato/Image_5.jpg\n",
      "/Users/pranshmaurya/Desktop/AIML_Project/archive/test/tomato/Image_7.jpg\n",
      "/Users/pranshmaurya/Desktop/AIML_Project/archive/test/tomato/Image_6.jpg\n",
      "/Users/pranshmaurya/Desktop/AIML_Project/archive/test/orange/Image_10.png\n",
      "/Users/pranshmaurya/Desktop/AIML_Project/archive/test/orange/Image_9.jpg\n",
      "/Users/pranshmaurya/Desktop/AIML_Project/archive/test/orange/Image_2.jpg\n",
      "/Users/pranshmaurya/Desktop/AIML_Project/archive/test/orange/Image_3.jpg\n",
      "/Users/pranshmaurya/Desktop/AIML_Project/archive/test/orange/Image_1.png\n",
      "/Users/pranshmaurya/Desktop/AIML_Project/archive/test/orange/Image_4.jpg\n",
      "/Users/pranshmaurya/Desktop/AIML_Project/archive/test/orange/Image_5.jpg\n",
      "/Users/pranshmaurya/Desktop/AIML_Project/archive/test/orange/Image_7.jpg\n",
      "/Users/pranshmaurya/Desktop/AIML_Project/archive/test/orange/Image_6.jpg\n",
      "/Users/pranshmaurya/Desktop/AIML_Project/archive/test/orange/Image_8.jpeg\n",
      "/Users/pranshmaurya/Desktop/AIML_Project/archive/test/carrot/Image_10.jpg\n",
      "/Users/pranshmaurya/Desktop/AIML_Project/archive/test/carrot/Image_8.jpg\n",
      "/Users/pranshmaurya/Desktop/AIML_Project/archive/test/carrot/Image_2.jpg\n",
      "/Users/pranshmaurya/Desktop/AIML_Project/archive/test/carrot/Image_3.jpg\n",
      "/Users/pranshmaurya/Desktop/AIML_Project/archive/test/carrot/Image_1.jpg\n",
      "/Users/pranshmaurya/Desktop/AIML_Project/archive/test/carrot/Image_4.png\n",
      "/Users/pranshmaurya/Desktop/AIML_Project/archive/test/carrot/Image_5.jpg\n",
      "/Users/pranshmaurya/Desktop/AIML_Project/archive/test/carrot/Image_7.JPG\n",
      "/Users/pranshmaurya/Desktop/AIML_Project/archive/test/carrot/Image_6.jpg\n",
      "/Users/pranshmaurya/Desktop/AIML_Project/archive/test/carrot/Image_9.jpeg\n",
      "/Users/pranshmaurya/Desktop/AIML_Project/archive/train/apple/Image_28.jpg\n",
      "/Users/pranshmaurya/Desktop/AIML_Project/archive/train/apple/Image_16.jpg\n",
      "/Users/pranshmaurya/Desktop/AIML_Project/archive/train/apple/Image_17.jpg\n",
      "/Users/pranshmaurya/Desktop/AIML_Project/archive/train/apple/Image_38.jpg\n",
      "/Users/pranshmaurya/Desktop/AIML_Project/archive/train/apple/Image_10.jpg\n",
      "/Users/pranshmaurya/Desktop/AIML_Project/archive/train/apple/Image_39.jpg\n",
      "/Users/pranshmaurya/Desktop/AIML_Project/archive/train/apple/Image_76.png\n",
      "/Users/pranshmaurya/Desktop/AIML_Project/archive/train/apple/Image_62.jpg\n",
      "/Users/pranshmaurya/Desktop/AIML_Project/archive/train/apple/Image_63.jpg\n",
      "/Users/pranshmaurya/Desktop/AIML_Project/archive/train/apple/Image_61.jpg\n",
      "/Users/pranshmaurya/Desktop/AIML_Project/archive/train/apple/Image_49.jpg\n",
      "/Users/pranshmaurya/Desktop/AIML_Project/archive/train/apple/Image_48.jpg\n",
      "/Users/pranshmaurya/Desktop/AIML_Project/archive/train/apple/Image_9.jpg\n",
      "/Users/pranshmaurya/Desktop/AIML_Project/archive/train/apple/Image_60.jpg\n",
      "/Users/pranshmaurya/Desktop/AIML_Project/archive/train/apple/Image_58.jpg\n",
      "/Users/pranshmaurya/Desktop/AIML_Project/archive/train/apple/Image_64.jpg\n",
      "/Users/pranshmaurya/Desktop/AIML_Project/archive/train/apple/Image_65.png\n",
      "/Users/pranshmaurya/Desktop/AIML_Project/archive/train/apple/Image_71.png\n",
      "/Users/pranshmaurya/Desktop/AIML_Project/archive/train/apple/Image_59.png\n",
      "/Users/pranshmaurya/Desktop/AIML_Project/archive/train/apple/Image_67.jpg\n",
      "/Users/pranshmaurya/Desktop/AIML_Project/archive/train/apple/Image_57.jpg\n",
      "/Users/pranshmaurya/Desktop/AIML_Project/archive/train/apple/Image_2.jpg\n",
      "/Users/pranshmaurya/Desktop/AIML_Project/archive/train/apple/Image_43.jpg\n",
      "/Users/pranshmaurya/Desktop/AIML_Project/archive/train/apple/Image_80.jpg\n",
      "/Users/pranshmaurya/Desktop/AIML_Project/archive/train/apple/Image_42.jpg\n",
      "/Users/pranshmaurya/Desktop/AIML_Project/archive/train/apple/Image_56.jpg\n",
      "/Users/pranshmaurya/Desktop/AIML_Project/archive/train/apple/Image_3.jpg\n",
      "/Users/pranshmaurya/Desktop/AIML_Project/archive/train/apple/Image_81.png\n",
      "/Users/pranshmaurya/Desktop/AIML_Project/archive/train/apple/Image_83.png\n",
      "/Users/pranshmaurya/Desktop/AIML_Project/archive/train/apple/Image_40.jpg\n",
      "/Users/pranshmaurya/Desktop/AIML_Project/archive/train/apple/Image_1.jpg\n",
      "/Users/pranshmaurya/Desktop/AIML_Project/archive/train/apple/Image_54.jpg\n",
      "/Users/pranshmaurya/Desktop/AIML_Project/archive/train/apple/Image_68.jpg\n",
      "/Users/pranshmaurya/Desktop/AIML_Project/archive/train/apple/Image_82.jpg\n",
      "/Users/pranshmaurya/Desktop/AIML_Project/archive/train/apple/Image_69.jpg\n",
      "/Users/pranshmaurya/Desktop/AIML_Project/archive/train/apple/Image_55.jpg\n",
      "/Users/pranshmaurya/Desktop/AIML_Project/archive/train/apple/Image_41.jpg\n",
      "/Users/pranshmaurya/Desktop/AIML_Project/archive/train/apple/Image_92.png\n",
      "/Users/pranshmaurya/Desktop/AIML_Project/archive/train/apple/Image_45.jpg\n",
      "/Users/pranshmaurya/Desktop/AIML_Project/archive/train/apple/Image_51.jpg\n",
      "/Users/pranshmaurya/Desktop/AIML_Project/archive/train/apple/Image_86.jpg\n",
      "/Users/pranshmaurya/Desktop/AIML_Project/archive/train/apple/Image_87.jpg\n",
      "/Users/pranshmaurya/Desktop/AIML_Project/archive/train/apple/Image_50.jpg\n",
      "/Users/pranshmaurya/Desktop/AIML_Project/archive/train/apple/Image_5.JPG\n",
      "/Users/pranshmaurya/Desktop/AIML_Project/archive/train/apple/Image_44.jpg\n",
      "/Users/pranshmaurya/Desktop/AIML_Project/archive/train/apple/Image_78.jpg\n",
      "/Users/pranshmaurya/Desktop/AIML_Project/archive/train/apple/Image_7.jpg\n",
      "/Users/pranshmaurya/Desktop/AIML_Project/archive/train/apple/Image_52.jpg\n",
      "/Users/pranshmaurya/Desktop/AIML_Project/archive/train/apple/Image_90.jpg\n",
      "/Users/pranshmaurya/Desktop/AIML_Project/archive/train/apple/Image_47.jpg\n",
      "/Users/pranshmaurya/Desktop/AIML_Project/archive/train/apple/Image_6.jpg\n",
      "/Users/pranshmaurya/Desktop/AIML_Project/archive/train/apple/Image_53.png\n",
      "/Users/pranshmaurya/Desktop/AIML_Project/archive/train/apple/Image_34.jpg\n",
      "/Users/pranshmaurya/Desktop/AIML_Project/archive/train/apple/Image_20.jpg\n",
      "/Users/pranshmaurya/Desktop/AIML_Project/archive/train/apple/Image_21.jpg\n",
      "/Users/pranshmaurya/Desktop/AIML_Project/archive/train/apple/Image_35.png\n",
      "/Users/pranshmaurya/Desktop/AIML_Project/archive/train/apple/Image_23.jpg\n",
      "/Users/pranshmaurya/Desktop/AIML_Project/archive/train/apple/Image_37.jpg\n",
      "/Users/pranshmaurya/Desktop/AIML_Project/archive/train/apple/Image_36.jpg\n",
      "/Users/pranshmaurya/Desktop/AIML_Project/archive/train/apple/Image_26.jpg\n",
      "/Users/pranshmaurya/Desktop/AIML_Project/archive/train/apple/Image_32.jpg\n",
      "/Users/pranshmaurya/Desktop/AIML_Project/archive/train/apple/Image_33.jpg\n",
      "/Users/pranshmaurya/Desktop/AIML_Project/archive/train/apple/Image_27.jpg\n",
      "/Users/pranshmaurya/Desktop/AIML_Project/archive/train/apple/Image_19.jpg\n",
      "/Users/pranshmaurya/Desktop/AIML_Project/archive/train/apple/Image_31.jpg\n",
      "/Users/pranshmaurya/Desktop/AIML_Project/archive/train/apple/Image_25.jpg\n",
      "/Users/pranshmaurya/Desktop/AIML_Project/archive/train/apple/Image_24.jpg\n",
      "/Users/pranshmaurya/Desktop/AIML_Project/archive/train/apple/Image_18.jpg\n",
      "/Users/pranshmaurya/Desktop/AIML_Project/archive/train/turnip/Image_29.jpg\n",
      "/Users/pranshmaurya/Desktop/AIML_Project/archive/train/turnip/Image_28.jpg\n",
      "/Users/pranshmaurya/Desktop/AIML_Project/archive/train/turnip/Image_14.jpg\n",
      "/Users/pranshmaurya/Desktop/AIML_Project/archive/train/turnip/Image_16.JPG\n",
      "/Users/pranshmaurya/Desktop/AIML_Project/archive/train/turnip/Image_17.jpg\n",
      "/Users/pranshmaurya/Desktop/AIML_Project/archive/train/turnip/Image_13.jpg\n",
      "/Users/pranshmaurya/Desktop/AIML_Project/archive/train/turnip/Image_90.jpeg\n",
      "/Users/pranshmaurya/Desktop/AIML_Project/archive/train/turnip/Image_12.jpg\n",
      "/Users/pranshmaurya/Desktop/AIML_Project/archive/train/turnip/Image_38.jpg\n",
      "/Users/pranshmaurya/Desktop/AIML_Project/archive/train/turnip/Image_10.jpg\n",
      "/Users/pranshmaurya/Desktop/AIML_Project/archive/train/turnip/Image_11.jpg\n",
      "/Users/pranshmaurya/Desktop/AIML_Project/archive/train/turnip/Image_39.png\n",
      "/Users/pranshmaurya/Desktop/AIML_Project/archive/train/turnip/Image_76.jpg\n",
      "/Users/pranshmaurya/Desktop/AIML_Project/archive/train/turnip/Image_62.jpg\n",
      "/Users/pranshmaurya/Desktop/AIML_Project/archive/train/turnip/Image_89.jpg\n",
      "/Users/pranshmaurya/Desktop/AIML_Project/archive/train/turnip/Image_88.jpg\n",
      "/Users/pranshmaurya/Desktop/AIML_Project/archive/train/turnip/Image_15.jpeg\n",
      "/Users/pranshmaurya/Desktop/AIML_Project/archive/train/turnip/Image_63.JPG\n",
      "/Users/pranshmaurya/Desktop/AIML_Project/archive/train/turnip/Image_77.jpg\n",
      "/Users/pranshmaurya/Desktop/AIML_Project/archive/train/turnip/Image_61.jpg\n",
      "/Users/pranshmaurya/Desktop/AIML_Project/archive/train/turnip/Image_75.jpg\n",
      "/Users/pranshmaurya/Desktop/AIML_Project/archive/train/turnip/Image_8.jpg\n",
      "/Users/pranshmaurya/Desktop/AIML_Project/archive/train/turnip/Image_48.jpg\n",
      "/Users/pranshmaurya/Desktop/AIML_Project/archive/train/turnip/Image_9.jpg\n",
      "/Users/pranshmaurya/Desktop/AIML_Project/archive/train/turnip/Image_74.jpg\n",
      "/Users/pranshmaurya/Desktop/AIML_Project/archive/train/turnip/Image_60.jpg\n",
      "/Users/pranshmaurya/Desktop/AIML_Project/archive/train/turnip/Image_58.jpg\n",
      "/Users/pranshmaurya/Desktop/AIML_Project/archive/train/turnip/Image_64.jpg\n",
      "/Users/pranshmaurya/Desktop/AIML_Project/archive/train/turnip/Image_70.jpg\n",
      "/Users/pranshmaurya/Desktop/AIML_Project/archive/train/turnip/Image_71.jpg\n",
      "/Users/pranshmaurya/Desktop/AIML_Project/archive/train/turnip/Image_65.jpg\n",
      "/Users/pranshmaurya/Desktop/AIML_Project/archive/train/turnip/Image_59.jpg\n",
      "/Users/pranshmaurya/Desktop/AIML_Project/archive/train/turnip/Image_73.jpg\n",
      "/Users/pranshmaurya/Desktop/AIML_Project/archive/train/turnip/Image_67.jpg\n",
      "/Users/pranshmaurya/Desktop/AIML_Project/archive/train/turnip/Image_98.jpg\n",
      "/Users/pranshmaurya/Desktop/AIML_Project/archive/train/turnip/Image_99.jpg\n",
      "/Users/pranshmaurya/Desktop/AIML_Project/archive/train/turnip/Image_72.JPG\n",
      "/Users/pranshmaurya/Desktop/AIML_Project/archive/train/turnip/Image_66.png\n",
      "/Users/pranshmaurya/Desktop/AIML_Project/archive/train/turnip/Image_57.jpg\n",
      "/Users/pranshmaurya/Desktop/AIML_Project/archive/train/turnip/Image_2.jpg\n",
      "/Users/pranshmaurya/Desktop/AIML_Project/archive/train/turnip/Image_43.jpg\n",
      "/Users/pranshmaurya/Desktop/AIML_Project/archive/train/turnip/Image_94.jpg\n",
      "/Users/pranshmaurya/Desktop/AIML_Project/archive/train/turnip/Image_80.jpg\n",
      "/Users/pranshmaurya/Desktop/AIML_Project/archive/train/turnip/Image_81.jpg\n",
      "/Users/pranshmaurya/Desktop/AIML_Project/archive/train/turnip/Image_95.jpg\n",
      "/Users/pranshmaurya/Desktop/AIML_Project/archive/train/turnip/Image_42.jpg\n",
      "/Users/pranshmaurya/Desktop/AIML_Project/archive/train/turnip/Image_56.jpg\n",
      "/Users/pranshmaurya/Desktop/AIML_Project/archive/train/turnip/Image_3.jpg\n",
      "/Users/pranshmaurya/Desktop/AIML_Project/archive/train/turnip/Image_83.png\n",
      "/Users/pranshmaurya/Desktop/AIML_Project/archive/train/turnip/Image_40.jpg\n",
      "/Users/pranshmaurya/Desktop/AIML_Project/archive/train/turnip/Image_1.jpg\n",
      "/Users/pranshmaurya/Desktop/AIML_Project/archive/train/turnip/Image_54.jpg\n",
      "/Users/pranshmaurya/Desktop/AIML_Project/archive/train/turnip/Image_68.JPG\n",
      "/Users/pranshmaurya/Desktop/AIML_Project/archive/train/turnip/Image_97.jpg\n",
      "/Users/pranshmaurya/Desktop/AIML_Project/archive/train/turnip/Image_96.jpg\n",
      "/Users/pranshmaurya/Desktop/AIML_Project/archive/train/turnip/Image_82.jpg\n",
      "/Users/pranshmaurya/Desktop/AIML_Project/archive/train/turnip/Image_55.jpg\n",
      "/Users/pranshmaurya/Desktop/AIML_Project/archive/train/turnip/Image_41.jpg\n",
      "/Users/pranshmaurya/Desktop/AIML_Project/archive/train/turnip/Image_69.png\n",
      "/Users/pranshmaurya/Desktop/AIML_Project/archive/train/turnip/Image_100.jpg\n",
      "/Users/pranshmaurya/Desktop/AIML_Project/archive/train/turnip/Image_51.png\n",
      "/Users/pranshmaurya/Desktop/AIML_Project/archive/train/turnip/Image_79.jpg\n",
      "/Users/pranshmaurya/Desktop/AIML_Project/archive/train/turnip/Image_45.jpg\n",
      "/Users/pranshmaurya/Desktop/AIML_Project/archive/train/turnip/Image_4.jpg\n",
      "/Users/pranshmaurya/Desktop/AIML_Project/archive/train/turnip/Image_86.jpg\n",
      "/Users/pranshmaurya/Desktop/AIML_Project/archive/train/turnip/Image_92.jpg\n",
      "/Users/pranshmaurya/Desktop/AIML_Project/archive/train/turnip/Image_93.JPG\n",
      "/Users/pranshmaurya/Desktop/AIML_Project/archive/train/turnip/Image_87.jpg\n",
      "/Users/pranshmaurya/Desktop/AIML_Project/archive/train/turnip/Image_50.jpg\n",
      "/Users/pranshmaurya/Desktop/AIML_Project/archive/train/turnip/Image_5.jpg\n",
      "/Users/pranshmaurya/Desktop/AIML_Project/archive/train/turnip/Image_44.jpg\n",
      "/Users/pranshmaurya/Desktop/AIML_Project/archive/train/turnip/Image_78.jpg\n",
      "/Users/pranshmaurya/Desktop/AIML_Project/archive/train/turnip/Image_7.jpg\n",
      "/Users/pranshmaurya/Desktop/AIML_Project/archive/train/turnip/Image_52.jpg\n",
      "/Users/pranshmaurya/Desktop/AIML_Project/archive/train/turnip/Image_46.jpg\n",
      "/Users/pranshmaurya/Desktop/AIML_Project/archive/train/turnip/Image_91.jpg\n",
      "/Users/pranshmaurya/Desktop/AIML_Project/archive/train/turnip/Image_85.jpg\n",
      "/Users/pranshmaurya/Desktop/AIML_Project/archive/train/turnip/Image_84.jpg\n",
      "/Users/pranshmaurya/Desktop/AIML_Project/archive/train/turnip/Image_6.jpg\n",
      "/Users/pranshmaurya/Desktop/AIML_Project/archive/train/turnip/Image_53.jpg\n",
      "/Users/pranshmaurya/Desktop/AIML_Project/archive/train/turnip/Image_34.jpg\n",
      "/Users/pranshmaurya/Desktop/AIML_Project/archive/train/turnip/Image_20.jpg\n",
      "/Users/pranshmaurya/Desktop/AIML_Project/archive/train/turnip/Image_21.jpg\n",
      "/Users/pranshmaurya/Desktop/AIML_Project/archive/train/turnip/Image_35.jpg\n",
      "/Users/pranshmaurya/Desktop/AIML_Project/archive/train/turnip/Image_23.jpg\n",
      "/Users/pranshmaurya/Desktop/AIML_Project/archive/train/turnip/Image_37.jpg\n",
      "/Users/pranshmaurya/Desktop/AIML_Project/archive/train/turnip/Image_36.jpg\n",
      "/Users/pranshmaurya/Desktop/AIML_Project/archive/train/turnip/Image_22.png\n",
      "/Users/pranshmaurya/Desktop/AIML_Project/archive/train/turnip/Image_26.jpg\n",
      "/Users/pranshmaurya/Desktop/AIML_Project/archive/train/turnip/Image_32.jpg\n",
      "/Users/pranshmaurya/Desktop/AIML_Project/archive/train/turnip/Image_33.jpg\n",
      "/Users/pranshmaurya/Desktop/AIML_Project/archive/train/turnip/Image_27.jpg\n",
      "/Users/pranshmaurya/Desktop/AIML_Project/archive/train/turnip/Image_19.jpg\n",
      "/Users/pranshmaurya/Desktop/AIML_Project/archive/train/turnip/Image_31.jpg\n",
      "/Users/pranshmaurya/Desktop/AIML_Project/archive/train/turnip/Image_25.jpg\n",
      "/Users/pranshmaurya/Desktop/AIML_Project/archive/train/turnip/Image_24.jpg\n",
      "/Users/pranshmaurya/Desktop/AIML_Project/archive/train/turnip/Image_30.jpg\n",
      "/Users/pranshmaurya/Desktop/AIML_Project/archive/train/turnip/Image_18.jpg\n",
      "/Users/pranshmaurya/Desktop/AIML_Project/archive/train/chilli pepper/Image_15.jpg\n",
      "/Users/pranshmaurya/Desktop/AIML_Project/archive/train/chilli pepper/Image_29.jpg\n",
      "/Users/pranshmaurya/Desktop/AIML_Project/archive/train/chilli pepper/Image_14.jpg\n",
      "/Users/pranshmaurya/Desktop/AIML_Project/archive/train/chilli pepper/Image_28.png\n",
      "/Users/pranshmaurya/Desktop/AIML_Project/archive/train/chilli pepper/Image_16.JPG\n",
      "/Users/pranshmaurya/Desktop/AIML_Project/archive/train/chilli pepper/Image_17.jpg\n",
      "/Users/pranshmaurya/Desktop/AIML_Project/archive/train/chilli pepper/Image_13.jpg\n",
      "/Users/pranshmaurya/Desktop/AIML_Project/archive/train/chilli pepper/Image_12.JPG\n",
      "/Users/pranshmaurya/Desktop/AIML_Project/archive/train/chilli pepper/Image_7.jpeg\n",
      "/Users/pranshmaurya/Desktop/AIML_Project/archive/train/chilli pepper/Image_38.jpg\n",
      "/Users/pranshmaurya/Desktop/AIML_Project/archive/train/chilli pepper/Image_10.jpg\n",
      "/Users/pranshmaurya/Desktop/AIML_Project/archive/train/chilli pepper/Image_11.jpg\n",
      "/Users/pranshmaurya/Desktop/AIML_Project/archive/train/chilli pepper/Image_39.jpg\n",
      "/Users/pranshmaurya/Desktop/AIML_Project/archive/train/chilli pepper/Image_62.jpg\n",
      "/Users/pranshmaurya/Desktop/AIML_Project/archive/train/chilli pepper/Image_89.jpg\n",
      "/Users/pranshmaurya/Desktop/AIML_Project/archive/train/chilli pepper/Image_54.jpeg\n",
      "/Users/pranshmaurya/Desktop/AIML_Project/archive/train/chilli pepper/Image_88.JPG\n",
      "/Users/pranshmaurya/Desktop/AIML_Project/archive/train/chilli pepper/Image_63.jpg\n",
      "/Users/pranshmaurya/Desktop/AIML_Project/archive/train/chilli pepper/Image_61.jpg\n",
      "/Users/pranshmaurya/Desktop/AIML_Project/archive/train/chilli pepper/Image_8.jpg\n",
      "/Users/pranshmaurya/Desktop/AIML_Project/archive/train/chilli pepper/Image_49.jpg\n",
      "/Users/pranshmaurya/Desktop/AIML_Project/archive/train/chilli pepper/Image_48.jpg\n",
      "/Users/pranshmaurya/Desktop/AIML_Project/archive/train/chilli pepper/Image_9.jpg\n",
      "/Users/pranshmaurya/Desktop/AIML_Project/archive/train/chilli pepper/Image_74.jpg\n",
      "/Users/pranshmaurya/Desktop/AIML_Project/archive/train/chilli pepper/Image_60.jpg\n",
      "/Users/pranshmaurya/Desktop/AIML_Project/archive/train/chilli pepper/Image_64.jpg\n",
      "/Users/pranshmaurya/Desktop/AIML_Project/archive/train/chilli pepper/Image_70.jpg\n",
      "/Users/pranshmaurya/Desktop/AIML_Project/archive/train/chilli pepper/Image_71.jpg\n",
      "/Users/pranshmaurya/Desktop/AIML_Project/archive/train/chilli pepper/Image_65.jpg\n",
      "/Users/pranshmaurya/Desktop/AIML_Project/archive/train/chilli pepper/Image_59.jpg\n",
      "/Users/pranshmaurya/Desktop/AIML_Project/archive/train/chilli pepper/Image_73.jpg\n",
      "/Users/pranshmaurya/Desktop/AIML_Project/archive/train/chilli pepper/Image_67.jpg\n",
      "/Users/pranshmaurya/Desktop/AIML_Project/archive/train/chilli pepper/Image_98.jpg\n",
      "/Users/pranshmaurya/Desktop/AIML_Project/archive/train/chilli pepper/Image_99.jpg\n",
      "/Users/pranshmaurya/Desktop/AIML_Project/archive/train/chilli pepper/Image_66.jpg\n",
      "/Users/pranshmaurya/Desktop/AIML_Project/archive/train/chilli pepper/Image_72.jpg\n",
      "/Users/pranshmaurya/Desktop/AIML_Project/archive/train/chilli pepper/Image_57.jpg\n",
      "/Users/pranshmaurya/Desktop/AIML_Project/archive/train/chilli pepper/Image_43.jpg\n",
      "/Users/pranshmaurya/Desktop/AIML_Project/archive/train/chilli pepper/Image_94.jpg\n",
      "/Users/pranshmaurya/Desktop/AIML_Project/archive/train/chilli pepper/Image_81.jpg\n",
      "/Users/pranshmaurya/Desktop/AIML_Project/archive/train/chilli pepper/Image_42.jpg\n",
      "/Users/pranshmaurya/Desktop/AIML_Project/archive/train/chilli pepper/Image_56.jpg\n",
      "/Users/pranshmaurya/Desktop/AIML_Project/archive/train/chilli pepper/Image_3.jpg\n",
      "/Users/pranshmaurya/Desktop/AIML_Project/archive/train/chilli pepper/Image_95.png\n",
      "/Users/pranshmaurya/Desktop/AIML_Project/archive/train/chilli pepper/Image_40.jpg\n",
      "/Users/pranshmaurya/Desktop/AIML_Project/archive/train/chilli pepper/Image_1.jpg\n",
      "/Users/pranshmaurya/Desktop/AIML_Project/archive/train/chilli pepper/Image_68.jpg\n",
      "/Users/pranshmaurya/Desktop/AIML_Project/archive/train/chilli pepper/Image_83.jpg\n",
      "/Users/pranshmaurya/Desktop/AIML_Project/archive/train/chilli pepper/Image_97.jpg\n",
      "/Users/pranshmaurya/Desktop/AIML_Project/archive/train/chilli pepper/Image_96.jpg\n",
      "/Users/pranshmaurya/Desktop/AIML_Project/archive/train/chilli pepper/Image_69.jpg\n",
      "/Users/pranshmaurya/Desktop/AIML_Project/archive/train/chilli pepper/Image_55.jpg\n",
      "/Users/pranshmaurya/Desktop/AIML_Project/archive/train/chilli pepper/Image_41.jpg\n",
      "/Users/pranshmaurya/Desktop/AIML_Project/archive/train/chilli pepper/Image_79.jpg\n",
      "/Users/pranshmaurya/Desktop/AIML_Project/archive/train/chilli pepper/Image_45.jpg\n",
      "/Users/pranshmaurya/Desktop/AIML_Project/archive/train/chilli pepper/Image_51.jpg\n",
      "/Users/pranshmaurya/Desktop/AIML_Project/archive/train/chilli pepper/Image_4.jpg\n",
      "/Users/pranshmaurya/Desktop/AIML_Project/archive/train/chilli pepper/Image_92.jpg\n",
      "/Users/pranshmaurya/Desktop/AIML_Project/archive/train/chilli pepper/Image_87.jpg\n",
      "/Users/pranshmaurya/Desktop/AIML_Project/archive/train/chilli pepper/Image_50.jpg\n",
      "/Users/pranshmaurya/Desktop/AIML_Project/archive/train/chilli pepper/Image_5.jpg\n",
      "/Users/pranshmaurya/Desktop/AIML_Project/archive/train/chilli pepper/Image_44.JPG\n",
      "/Users/pranshmaurya/Desktop/AIML_Project/archive/train/chilli pepper/Image_78.JPG\n",
      "/Users/pranshmaurya/Desktop/AIML_Project/archive/train/chilli pepper/Image_52.jpg\n",
      "/Users/pranshmaurya/Desktop/AIML_Project/archive/train/chilli pepper/Image_91.jpg\n",
      "/Users/pranshmaurya/Desktop/AIML_Project/archive/train/chilli pepper/Image_84.jpg\n",
      "/Users/pranshmaurya/Desktop/AIML_Project/archive/train/chilli pepper/Image_90.jpg\n",
      "/Users/pranshmaurya/Desktop/AIML_Project/archive/train/chilli pepper/Image_47.JPG\n",
      "/Users/pranshmaurya/Desktop/AIML_Project/archive/train/chilli pepper/Image_53.jpg\n",
      "/Users/pranshmaurya/Desktop/AIML_Project/archive/train/chilli pepper/Image_6.png\n",
      "/Users/pranshmaurya/Desktop/AIML_Project/archive/train/chilli pepper/Image_34.jpg\n",
      "/Users/pranshmaurya/Desktop/AIML_Project/archive/train/chilli pepper/Image_20.jpg\n",
      "/Users/pranshmaurya/Desktop/AIML_Project/archive/train/chilli pepper/Image_21.jpg\n",
      "/Users/pranshmaurya/Desktop/AIML_Project/archive/train/chilli pepper/Image_35.jpg\n",
      "/Users/pranshmaurya/Desktop/AIML_Project/archive/train/chilli pepper/Image_23.jpg\n",
      "/Users/pranshmaurya/Desktop/AIML_Project/archive/train/chilli pepper/Image_37.jpg\n",
      "/Users/pranshmaurya/Desktop/AIML_Project/archive/train/chilli pepper/Image_36.jpg\n",
      "/Users/pranshmaurya/Desktop/AIML_Project/archive/train/chilli pepper/Image_22.jpg\n",
      "/Users/pranshmaurya/Desktop/AIML_Project/archive/train/chilli pepper/Image_26.jpg\n",
      "/Users/pranshmaurya/Desktop/AIML_Project/archive/train/chilli pepper/Image_32.jpg\n",
      "/Users/pranshmaurya/Desktop/AIML_Project/archive/train/chilli pepper/Image_33.jpg\n",
      "/Users/pranshmaurya/Desktop/AIML_Project/archive/train/chilli pepper/Image_27.jpg\n",
      "/Users/pranshmaurya/Desktop/AIML_Project/archive/train/chilli pepper/Image_31.jpg\n",
      "/Users/pranshmaurya/Desktop/AIML_Project/archive/train/chilli pepper/Image_25.jpg\n",
      "/Users/pranshmaurya/Desktop/AIML_Project/archive/train/chilli pepper/Image_24.jpg\n",
      "/Users/pranshmaurya/Desktop/AIML_Project/archive/train/chilli pepper/Image_30.jpg\n",
      "/Users/pranshmaurya/Desktop/AIML_Project/archive/train/chilli pepper/Image_18.jpg\n",
      "/Users/pranshmaurya/Desktop/AIML_Project/archive/train/raddish/Image_15.jpg\n",
      "/Users/pranshmaurya/Desktop/AIML_Project/archive/train/raddish/Image_29.jpg\n",
      "/Users/pranshmaurya/Desktop/AIML_Project/archive/train/raddish/Image_28.jpg\n",
      "/Users/pranshmaurya/Desktop/AIML_Project/archive/train/raddish/Image_14.jpg\n",
      "/Users/pranshmaurya/Desktop/AIML_Project/archive/train/raddish/Image_16.jpg\n",
      "/Users/pranshmaurya/Desktop/AIML_Project/archive/train/raddish/Image_17.jpg\n",
      "/Users/pranshmaurya/Desktop/AIML_Project/archive/train/raddish/Image_13.jpg\n",
      "/Users/pranshmaurya/Desktop/AIML_Project/archive/train/raddish/Image_12.jpg\n",
      "/Users/pranshmaurya/Desktop/AIML_Project/archive/train/raddish/Image_38.png\n",
      "/Users/pranshmaurya/Desktop/AIML_Project/archive/train/raddish/Image_10.jpg\n",
      "/Users/pranshmaurya/Desktop/AIML_Project/archive/train/raddish/Image_39.jpg\n",
      "/Users/pranshmaurya/Desktop/AIML_Project/archive/train/raddish/Image_11.png\n",
      "/Users/pranshmaurya/Desktop/AIML_Project/archive/train/raddish/Image_89.jpg\n",
      "/Users/pranshmaurya/Desktop/AIML_Project/archive/train/raddish/Image_63.jpg\n",
      "/Users/pranshmaurya/Desktop/AIML_Project/archive/train/raddish/Image_88.png\n",
      "/Users/pranshmaurya/Desktop/AIML_Project/archive/train/raddish/Image_75.jpg\n",
      "/Users/pranshmaurya/Desktop/AIML_Project/archive/train/raddish/Image_49.jpg\n",
      "/Users/pranshmaurya/Desktop/AIML_Project/archive/train/raddish/Image_60.jpg\n",
      "/Users/pranshmaurya/Desktop/AIML_Project/archive/train/raddish/Image_9.png\n",
      "/Users/pranshmaurya/Desktop/AIML_Project/archive/train/raddish/Image_48.png\n",
      "/Users/pranshmaurya/Desktop/AIML_Project/archive/train/raddish/Image_58.jpg\n",
      "/Users/pranshmaurya/Desktop/AIML_Project/archive/train/raddish/Image_64.jpg\n",
      "/Users/pranshmaurya/Desktop/AIML_Project/archive/train/raddish/Image_70.jpg\n",
      "/Users/pranshmaurya/Desktop/AIML_Project/archive/train/raddish/Image_65.jpg\n",
      "/Users/pranshmaurya/Desktop/AIML_Project/archive/train/raddish/Image_71.png\n",
      "/Users/pranshmaurya/Desktop/AIML_Project/archive/train/raddish/Image_59.png\n",
      "/Users/pranshmaurya/Desktop/AIML_Project/archive/train/raddish/Image_67.jpg\n",
      "/Users/pranshmaurya/Desktop/AIML_Project/archive/train/raddish/Image_98.jpg\n",
      "/Users/pranshmaurya/Desktop/AIML_Project/archive/train/raddish/Image_99.jpg\n",
      "/Users/pranshmaurya/Desktop/AIML_Project/archive/train/raddish/Image_66.jpg\n",
      "/Users/pranshmaurya/Desktop/AIML_Project/archive/train/raddish/Image_72.jpg\n",
      "/Users/pranshmaurya/Desktop/AIML_Project/archive/train/raddish/Image_57.jpg\n",
      "/Users/pranshmaurya/Desktop/AIML_Project/archive/train/raddish/Image_2.jpg\n",
      "/Users/pranshmaurya/Desktop/AIML_Project/archive/train/raddish/Image_43.jpg\n",
      "/Users/pranshmaurya/Desktop/AIML_Project/archive/train/raddish/Image_81.jpg\n",
      "/Users/pranshmaurya/Desktop/AIML_Project/archive/train/raddish/Image_42.jpg\n",
      "/Users/pranshmaurya/Desktop/AIML_Project/archive/train/raddish/Image_56.jpg\n",
      "/Users/pranshmaurya/Desktop/AIML_Project/archive/train/raddish/Image_3.jpg\n",
      "/Users/pranshmaurya/Desktop/AIML_Project/archive/train/raddish/Image_54.png\n",
      "/Users/pranshmaurya/Desktop/AIML_Project/archive/train/raddish/Image_40.jpg\n",
      "/Users/pranshmaurya/Desktop/AIML_Project/archive/train/raddish/Image_1.jpg\n",
      "/Users/pranshmaurya/Desktop/AIML_Project/archive/train/raddish/Image_68.jpg\n",
      "/Users/pranshmaurya/Desktop/AIML_Project/archive/train/raddish/Image_97.jpg\n",
      "/Users/pranshmaurya/Desktop/AIML_Project/archive/train/raddish/Image_96.jpg\n",
      "/Users/pranshmaurya/Desktop/AIML_Project/archive/train/raddish/Image_82.jpg\n",
      "/Users/pranshmaurya/Desktop/AIML_Project/archive/train/raddish/Image_69.jpg\n",
      "/Users/pranshmaurya/Desktop/AIML_Project/archive/train/raddish/Image_55.jpg\n",
      "/Users/pranshmaurya/Desktop/AIML_Project/archive/train/raddish/Image_41.jpg\n",
      "/Users/pranshmaurya/Desktop/AIML_Project/archive/train/raddish/Image_100.jpg\n",
      "/Users/pranshmaurya/Desktop/AIML_Project/archive/train/raddish/Image_45.jpg\n",
      "/Users/pranshmaurya/Desktop/AIML_Project/archive/train/raddish/Image_4.jpg\n",
      "/Users/pranshmaurya/Desktop/AIML_Project/archive/train/raddish/Image_50.jpg\n",
      "/Users/pranshmaurya/Desktop/AIML_Project/archive/train/raddish/Image_5.jpg\n",
      "/Users/pranshmaurya/Desktop/AIML_Project/archive/train/raddish/Image_44.jpg\n",
      "/Users/pranshmaurya/Desktop/AIML_Project/archive/train/raddish/Image_78.jpg\n",
      "/Users/pranshmaurya/Desktop/AIML_Project/archive/train/raddish/Image_7.jpg\n",
      "/Users/pranshmaurya/Desktop/AIML_Project/archive/train/raddish/Image_52.jpg\n",
      "/Users/pranshmaurya/Desktop/AIML_Project/archive/train/raddish/Image_91.jpg\n",
      "/Users/pranshmaurya/Desktop/AIML_Project/archive/train/raddish/Image_85.jpg\n",
      "/Users/pranshmaurya/Desktop/AIML_Project/archive/train/raddish/Image_84.jpg\n",
      "/Users/pranshmaurya/Desktop/AIML_Project/archive/train/raddish/Image_90.jpg\n",
      "/Users/pranshmaurya/Desktop/AIML_Project/archive/train/raddish/Image_6.jpg\n",
      "/Users/pranshmaurya/Desktop/AIML_Project/archive/train/raddish/Image_34.jpg\n",
      "/Users/pranshmaurya/Desktop/AIML_Project/archive/train/raddish/Image_20.jpg\n",
      "/Users/pranshmaurya/Desktop/AIML_Project/archive/train/raddish/Image_21.jpg\n",
      "/Users/pranshmaurya/Desktop/AIML_Project/archive/train/raddish/Image_35.jpg\n",
      "/Users/pranshmaurya/Desktop/AIML_Project/archive/train/raddish/Image_8.jpeg\n",
      "/Users/pranshmaurya/Desktop/AIML_Project/archive/train/raddish/Image_23.jpg\n",
      "/Users/pranshmaurya/Desktop/AIML_Project/archive/train/raddish/Image_37.jpg\n",
      "/Users/pranshmaurya/Desktop/AIML_Project/archive/train/raddish/Image_36.jpg\n",
      "/Users/pranshmaurya/Desktop/AIML_Project/archive/train/raddish/Image_22.jpg\n",
      "/Users/pranshmaurya/Desktop/AIML_Project/archive/train/raddish/Image_26.jpg\n",
      "/Users/pranshmaurya/Desktop/AIML_Project/archive/train/raddish/Image_32.jpg\n",
      "/Users/pranshmaurya/Desktop/AIML_Project/archive/train/raddish/Image_33.jpg\n",
      "/Users/pranshmaurya/Desktop/AIML_Project/archive/train/raddish/Image_27.jpg\n",
      "/Users/pranshmaurya/Desktop/AIML_Project/archive/train/raddish/Image_19.jpg\n",
      "/Users/pranshmaurya/Desktop/AIML_Project/archive/train/raddish/Image_31.jpg\n",
      "/Users/pranshmaurya/Desktop/AIML_Project/archive/train/raddish/Image_25.jpg\n",
      "/Users/pranshmaurya/Desktop/AIML_Project/archive/train/raddish/Image_24.JPG\n",
      "/Users/pranshmaurya/Desktop/AIML_Project/archive/train/raddish/Image_30.JPG\n",
      "/Users/pranshmaurya/Desktop/AIML_Project/archive/train/raddish/Image_18.jpg\n",
      "/Users/pranshmaurya/Desktop/AIML_Project/archive/train/bell pepper/Image_15.jpg\n",
      "/Users/pranshmaurya/Desktop/AIML_Project/archive/train/bell pepper/Image_29.jpg\n",
      "/Users/pranshmaurya/Desktop/AIML_Project/archive/train/bell pepper/Image_28.jpg\n",
      "/Users/pranshmaurya/Desktop/AIML_Project/archive/train/bell pepper/Image_14.jpg\n",
      "/Users/pranshmaurya/Desktop/AIML_Project/archive/train/bell pepper/Image_16.jpg\n",
      "/Users/pranshmaurya/Desktop/AIML_Project/archive/train/bell pepper/Image_68.jpeg\n",
      "/Users/pranshmaurya/Desktop/AIML_Project/archive/train/bell pepper/Image_13.jpg\n",
      "/Users/pranshmaurya/Desktop/AIML_Project/archive/train/bell pepper/Image_12.jpg\n",
      "/Users/pranshmaurya/Desktop/AIML_Project/archive/train/bell pepper/Image_38.jpg\n",
      "/Users/pranshmaurya/Desktop/AIML_Project/archive/train/bell pepper/Image_10.jpg\n",
      "/Users/pranshmaurya/Desktop/AIML_Project/archive/train/bell pepper/Image_11.jpg\n",
      "/Users/pranshmaurya/Desktop/AIML_Project/archive/train/bell pepper/Image_39.jpg\n",
      "/Users/pranshmaurya/Desktop/AIML_Project/archive/train/bell pepper/Image_76.jpg\n",
      "/Users/pranshmaurya/Desktop/AIML_Project/archive/train/bell pepper/Image_62.jpg\n",
      "/Users/pranshmaurya/Desktop/AIML_Project/archive/train/bell pepper/Image_89.jpg\n",
      "/Users/pranshmaurya/Desktop/AIML_Project/archive/train/bell pepper/Image_88.jpg\n",
      "/Users/pranshmaurya/Desktop/AIML_Project/archive/train/bell pepper/Image_63.jpg\n",
      "/Users/pranshmaurya/Desktop/AIML_Project/archive/train/bell pepper/Image_77.jpg\n",
      "/Users/pranshmaurya/Desktop/AIML_Project/archive/train/bell pepper/Image_61.jpg\n",
      "/Users/pranshmaurya/Desktop/AIML_Project/archive/train/bell pepper/Image_75.jpg\n",
      "/Users/pranshmaurya/Desktop/AIML_Project/archive/train/bell pepper/Image_8.jpg\n",
      "/Users/pranshmaurya/Desktop/AIML_Project/archive/train/bell pepper/Image_49.jpg\n",
      "/Users/pranshmaurya/Desktop/AIML_Project/archive/train/bell pepper/Image_9.jpg\n",
      "/Users/pranshmaurya/Desktop/AIML_Project/archive/train/bell pepper/Image_74.jpg\n",
      "/Users/pranshmaurya/Desktop/AIML_Project/archive/train/bell pepper/Image_60.jpg\n",
      "/Users/pranshmaurya/Desktop/AIML_Project/archive/train/bell pepper/Image_48.png\n",
      "/Users/pranshmaurya/Desktop/AIML_Project/archive/train/bell pepper/Image_64.jpg\n",
      "/Users/pranshmaurya/Desktop/AIML_Project/archive/train/bell pepper/Image_70.jpg\n",
      "/Users/pranshmaurya/Desktop/AIML_Project/archive/train/bell pepper/Image_71.jpg\n",
      "/Users/pranshmaurya/Desktop/AIML_Project/archive/train/bell pepper/Image_65.jpg\n",
      "/Users/pranshmaurya/Desktop/AIML_Project/archive/train/bell pepper/Image_67.png\n",
      "/Users/pranshmaurya/Desktop/AIML_Project/archive/train/bell pepper/Image_73.jpg\n",
      "/Users/pranshmaurya/Desktop/AIML_Project/archive/train/bell pepper/Image_98.jpg\n",
      "/Users/pranshmaurya/Desktop/AIML_Project/archive/train/bell pepper/Image_66.jpg\n",
      "/Users/pranshmaurya/Desktop/AIML_Project/archive/train/bell pepper/Image_72.png\n",
      "/Users/pranshmaurya/Desktop/AIML_Project/archive/train/bell pepper/Image_57.jpg\n",
      "/Users/pranshmaurya/Desktop/AIML_Project/archive/train/bell pepper/Image_2.jpg\n",
      "/Users/pranshmaurya/Desktop/AIML_Project/archive/train/bell pepper/Image_43.jpg\n",
      "/Users/pranshmaurya/Desktop/AIML_Project/archive/train/bell pepper/Image_94.jpg\n",
      "/Users/pranshmaurya/Desktop/AIML_Project/archive/train/bell pepper/Image_95.jpg\n",
      "/Users/pranshmaurya/Desktop/AIML_Project/archive/train/bell pepper/Image_42.jpg\n",
      "/Users/pranshmaurya/Desktop/AIML_Project/archive/train/bell pepper/Image_56.jpg\n",
      "/Users/pranshmaurya/Desktop/AIML_Project/archive/train/bell pepper/Image_40.jpg\n",
      "/Users/pranshmaurya/Desktop/AIML_Project/archive/train/bell pepper/Image_1.jpg\n",
      "/Users/pranshmaurya/Desktop/AIML_Project/archive/train/bell pepper/Image_54.jpg\n",
      "/Users/pranshmaurya/Desktop/AIML_Project/archive/train/bell pepper/Image_83.jpg\n",
      "/Users/pranshmaurya/Desktop/AIML_Project/archive/train/bell pepper/Image_97.jpg\n",
      "/Users/pranshmaurya/Desktop/AIML_Project/archive/train/bell pepper/Image_99.jpeg\n",
      "/Users/pranshmaurya/Desktop/AIML_Project/archive/train/bell pepper/Image_82.jpg\n",
      "/Users/pranshmaurya/Desktop/AIML_Project/archive/train/bell pepper/Image_69.jpg\n",
      "/Users/pranshmaurya/Desktop/AIML_Project/archive/train/bell pepper/Image_55.jpg\n",
      "/Users/pranshmaurya/Desktop/AIML_Project/archive/train/bell pepper/Image_41.png\n",
      "/Users/pranshmaurya/Desktop/AIML_Project/archive/train/bell pepper/Image_100.jpg\n",
      "/Users/pranshmaurya/Desktop/AIML_Project/archive/train/bell pepper/Image_79.JPG\n",
      "/Users/pranshmaurya/Desktop/AIML_Project/archive/train/bell pepper/Image_45.jpg\n",
      "/Users/pranshmaurya/Desktop/AIML_Project/archive/train/bell pepper/Image_51.jpg\n",
      "/Users/pranshmaurya/Desktop/AIML_Project/archive/train/bell pepper/Image_4.jpg\n",
      "/Users/pranshmaurya/Desktop/AIML_Project/archive/train/bell pepper/Image_86.jpg\n",
      "/Users/pranshmaurya/Desktop/AIML_Project/archive/train/bell pepper/Image_93.jpg\n",
      "/Users/pranshmaurya/Desktop/AIML_Project/archive/train/bell pepper/Image_50.jpg\n",
      "/Users/pranshmaurya/Desktop/AIML_Project/archive/train/bell pepper/Image_5.jpg\n",
      "/Users/pranshmaurya/Desktop/AIML_Project/archive/train/bell pepper/Image_44.jpg\n",
      "/Users/pranshmaurya/Desktop/AIML_Project/archive/train/bell pepper/Image_78.jpg\n",
      "/Users/pranshmaurya/Desktop/AIML_Project/archive/train/bell pepper/Image_3.jpeg\n",
      "/Users/pranshmaurya/Desktop/AIML_Project/archive/train/bell pepper/Image_46.png\n",
      "/Users/pranshmaurya/Desktop/AIML_Project/archive/train/bell pepper/Image_7.jpg\n",
      "/Users/pranshmaurya/Desktop/AIML_Project/archive/train/bell pepper/Image_52.jpg\n",
      "/Users/pranshmaurya/Desktop/AIML_Project/archive/train/bell pepper/Image_85.jpg\n",
      "/Users/pranshmaurya/Desktop/AIML_Project/archive/train/bell pepper/Image_84.jpg\n",
      "/Users/pranshmaurya/Desktop/AIML_Project/archive/train/bell pepper/Image_90.jpg\n",
      "/Users/pranshmaurya/Desktop/AIML_Project/archive/train/bell pepper/Image_6.jpg\n",
      "/Users/pranshmaurya/Desktop/AIML_Project/archive/train/bell pepper/Image_53.jpg\n",
      "/Users/pranshmaurya/Desktop/AIML_Project/archive/train/bell pepper/Image_47.png\n",
      "/Users/pranshmaurya/Desktop/AIML_Project/archive/train/bell pepper/Image_34.jpg\n",
      "/Users/pranshmaurya/Desktop/AIML_Project/archive/train/bell pepper/Image_20.jpg\n",
      "/Users/pranshmaurya/Desktop/AIML_Project/archive/train/bell pepper/Image_21.jpg\n",
      "/Users/pranshmaurya/Desktop/AIML_Project/archive/train/bell pepper/Image_35.jpg\n",
      "/Users/pranshmaurya/Desktop/AIML_Project/archive/train/bell pepper/Image_31.jpeg\n",
      "/Users/pranshmaurya/Desktop/AIML_Project/archive/train/bell pepper/Image_23.jpg\n",
      "/Users/pranshmaurya/Desktop/AIML_Project/archive/train/bell pepper/Image_37.jpg\n",
      "/Users/pranshmaurya/Desktop/AIML_Project/archive/train/bell pepper/Image_36.jpg\n",
      "/Users/pranshmaurya/Desktop/AIML_Project/archive/train/bell pepper/Image_22.jpg\n",
      "/Users/pranshmaurya/Desktop/AIML_Project/archive/train/bell pepper/Image_26.jpg\n",
      "/Users/pranshmaurya/Desktop/AIML_Project/archive/train/bell pepper/Image_32.JPG\n",
      "/Users/pranshmaurya/Desktop/AIML_Project/archive/train/bell pepper/Image_33.jpg\n",
      "/Users/pranshmaurya/Desktop/AIML_Project/archive/train/bell pepper/Image_27.jpg\n",
      "/Users/pranshmaurya/Desktop/AIML_Project/archive/train/bell pepper/Image_19.jpg\n",
      "/Users/pranshmaurya/Desktop/AIML_Project/archive/train/bell pepper/Image_25.jpg\n",
      "/Users/pranshmaurya/Desktop/AIML_Project/archive/train/bell pepper/Image_24.jpg\n",
      "/Users/pranshmaurya/Desktop/AIML_Project/archive/train/bell pepper/Image_30.jpg\n",
      "/Users/pranshmaurya/Desktop/AIML_Project/archive/train/pear/Image_15.jpg\n",
      "/Users/pranshmaurya/Desktop/AIML_Project/archive/train/pear/Image_29.jpg\n",
      "/Users/pranshmaurya/Desktop/AIML_Project/archive/train/pear/Image_28.jpg\n",
      "/Users/pranshmaurya/Desktop/AIML_Project/archive/train/pear/Image_14.jpg\n",
      "/Users/pranshmaurya/Desktop/AIML_Project/archive/train/pear/Image_16.jpg\n",
      "/Users/pranshmaurya/Desktop/AIML_Project/archive/train/pear/Image_17.jpg\n",
      "/Users/pranshmaurya/Desktop/AIML_Project/archive/train/pear/Image_13.jpg\n",
      "/Users/pranshmaurya/Desktop/AIML_Project/archive/train/pear/Image_12.jpg\n",
      "/Users/pranshmaurya/Desktop/AIML_Project/archive/train/pear/Image_38.png\n",
      "/Users/pranshmaurya/Desktop/AIML_Project/archive/train/pear/Image_10.png\n",
      "/Users/pranshmaurya/Desktop/AIML_Project/archive/train/pear/Image_11.jpg\n",
      "/Users/pranshmaurya/Desktop/AIML_Project/archive/train/pear/Image_39.jpg\n",
      "/Users/pranshmaurya/Desktop/AIML_Project/archive/train/pear/Image_76.jpg\n",
      "/Users/pranshmaurya/Desktop/AIML_Project/archive/train/pear/Image_62.jpg\n",
      "/Users/pranshmaurya/Desktop/AIML_Project/archive/train/pear/Image_89.jpg\n",
      "/Users/pranshmaurya/Desktop/AIML_Project/archive/train/pear/Image_88.jpg\n",
      "/Users/pranshmaurya/Desktop/AIML_Project/archive/train/pear/Image_63.jpg\n",
      "/Users/pranshmaurya/Desktop/AIML_Project/archive/train/pear/Image_61.png\n",
      "/Users/pranshmaurya/Desktop/AIML_Project/archive/train/pear/Image_49.png\n",
      "/Users/pranshmaurya/Desktop/AIML_Project/archive/train/pear/Image_8.jpg\n",
      "/Users/pranshmaurya/Desktop/AIML_Project/archive/train/pear/Image_9.jpg\n",
      "/Users/pranshmaurya/Desktop/AIML_Project/archive/train/pear/Image_60.jpg\n",
      "/Users/pranshmaurya/Desktop/AIML_Project/archive/train/pear/Image_48.png\n",
      "/Users/pranshmaurya/Desktop/AIML_Project/archive/train/pear/Image_58.png\n",
      "/Users/pranshmaurya/Desktop/AIML_Project/archive/train/pear/Image_64.jpg\n",
      "/Users/pranshmaurya/Desktop/AIML_Project/archive/train/pear/Image_70.jpg\n",
      "/Users/pranshmaurya/Desktop/AIML_Project/archive/train/pear/Image_65.jpg\n",
      "/Users/pranshmaurya/Desktop/AIML_Project/archive/train/pear/Image_59.jpg\n",
      "/Users/pranshmaurya/Desktop/AIML_Project/archive/train/pear/Image_73.jpg\n",
      "/Users/pranshmaurya/Desktop/AIML_Project/archive/train/pear/Image_67.jpg\n",
      "/Users/pranshmaurya/Desktop/AIML_Project/archive/train/pear/Image_98.jpg\n",
      "/Users/pranshmaurya/Desktop/AIML_Project/archive/train/pear/Image_99.jpg\n",
      "/Users/pranshmaurya/Desktop/AIML_Project/archive/train/pear/Image_66.jpg\n",
      "/Users/pranshmaurya/Desktop/AIML_Project/archive/train/pear/Image_72.jpg\n",
      "/Users/pranshmaurya/Desktop/AIML_Project/archive/train/pear/Image_57.png\n",
      "/Users/pranshmaurya/Desktop/AIML_Project/archive/train/pear/Image_2.jpg\n",
      "/Users/pranshmaurya/Desktop/AIML_Project/archive/train/pear/Image_43.jpg\n",
      "/Users/pranshmaurya/Desktop/AIML_Project/archive/train/pear/Image_94.jpg\n",
      "/Users/pranshmaurya/Desktop/AIML_Project/archive/train/pear/Image_80.jpg\n",
      "/Users/pranshmaurya/Desktop/AIML_Project/archive/train/pear/Image_81.jpg\n",
      "/Users/pranshmaurya/Desktop/AIML_Project/archive/train/pear/Image_95.jpg\n",
      "/Users/pranshmaurya/Desktop/AIML_Project/archive/train/pear/Image_42.jpg\n",
      "/Users/pranshmaurya/Desktop/AIML_Project/archive/train/pear/Image_3.jpg\n",
      "/Users/pranshmaurya/Desktop/AIML_Project/archive/train/pear/Image_56.png\n",
      "/Users/pranshmaurya/Desktop/AIML_Project/archive/train/pear/Image_40.jpg\n",
      "/Users/pranshmaurya/Desktop/AIML_Project/archive/train/pear/Image_1.jpg\n",
      "/Users/pranshmaurya/Desktop/AIML_Project/archive/train/pear/Image_54.jpg\n",
      "/Users/pranshmaurya/Desktop/AIML_Project/archive/train/pear/Image_68.jpg\n",
      "/Users/pranshmaurya/Desktop/AIML_Project/archive/train/pear/Image_97.jpg\n",
      "/Users/pranshmaurya/Desktop/AIML_Project/archive/train/pear/Image_96.jpg\n",
      "/Users/pranshmaurya/Desktop/AIML_Project/archive/train/pear/Image_69.jpg\n",
      "/Users/pranshmaurya/Desktop/AIML_Project/archive/train/pear/Image_55.jpg\n",
      "/Users/pranshmaurya/Desktop/AIML_Project/archive/train/pear/Image_82.png\n",
      "/Users/pranshmaurya/Desktop/AIML_Project/archive/train/pear/Image_86.png\n",
      "/Users/pranshmaurya/Desktop/AIML_Project/archive/train/pear/Image_100.jpg\n",
      "/Users/pranshmaurya/Desktop/AIML_Project/archive/train/pear/Image_79.jpg\n",
      "/Users/pranshmaurya/Desktop/AIML_Project/archive/train/pear/Image_45.jpg\n",
      "/Users/pranshmaurya/Desktop/AIML_Project/archive/train/pear/Image_51.jpg\n",
      "/Users/pranshmaurya/Desktop/AIML_Project/archive/train/pear/Image_4.jpg\n",
      "/Users/pranshmaurya/Desktop/AIML_Project/archive/train/pear/Image_93.jpg\n",
      "/Users/pranshmaurya/Desktop/AIML_Project/archive/train/pear/Image_87.jpg\n",
      "/Users/pranshmaurya/Desktop/AIML_Project/archive/train/pear/Image_50.jpg\n",
      "/Users/pranshmaurya/Desktop/AIML_Project/archive/train/pear/Image_5.jpg\n",
      "/Users/pranshmaurya/Desktop/AIML_Project/archive/train/pear/Image_78.jpg\n",
      "/Users/pranshmaurya/Desktop/AIML_Project/archive/train/pear/Image_7.jpg\n",
      "/Users/pranshmaurya/Desktop/AIML_Project/archive/train/pear/Image_52.jpg\n",
      "/Users/pranshmaurya/Desktop/AIML_Project/archive/train/pear/Image_46.jpg\n",
      "/Users/pranshmaurya/Desktop/AIML_Project/archive/train/pear/Image_85.jpg\n",
      "/Users/pranshmaurya/Desktop/AIML_Project/archive/train/pear/Image_6.jpg\n",
      "/Users/pranshmaurya/Desktop/AIML_Project/archive/train/pear/Image_53.jpg\n",
      "/Users/pranshmaurya/Desktop/AIML_Project/archive/train/pear/Image_34.jpg\n",
      "/Users/pranshmaurya/Desktop/AIML_Project/archive/train/pear/Image_20.JPG\n",
      "/Users/pranshmaurya/Desktop/AIML_Project/archive/train/pear/Image_21.jpg\n",
      "/Users/pranshmaurya/Desktop/AIML_Project/archive/train/pear/Image_35.jpg\n",
      "/Users/pranshmaurya/Desktop/AIML_Project/archive/train/pear/Image_23.jpg\n",
      "/Users/pranshmaurya/Desktop/AIML_Project/archive/train/pear/Image_37.jpg\n",
      "/Users/pranshmaurya/Desktop/AIML_Project/archive/train/pear/Image_36.jpg\n",
      "/Users/pranshmaurya/Desktop/AIML_Project/archive/train/pear/Image_22.jpg\n",
      "/Users/pranshmaurya/Desktop/AIML_Project/archive/train/pear/Image_26.jpg\n",
      "/Users/pranshmaurya/Desktop/AIML_Project/archive/train/pear/Image_32.jpg\n",
      "/Users/pranshmaurya/Desktop/AIML_Project/archive/train/pear/Image_27.jpg\n",
      "/Users/pranshmaurya/Desktop/AIML_Project/archive/train/pear/Image_47.jpeg\n",
      "/Users/pranshmaurya/Desktop/AIML_Project/archive/train/pear/Image_33.png\n",
      "/Users/pranshmaurya/Desktop/AIML_Project/archive/train/pear/Image_19.jpg\n",
      "/Users/pranshmaurya/Desktop/AIML_Project/archive/train/pear/Image_31.jpg\n",
      "/Users/pranshmaurya/Desktop/AIML_Project/archive/train/pear/Image_25.jpg\n",
      "/Users/pranshmaurya/Desktop/AIML_Project/archive/train/pear/Image_24.jpg\n",
      "/Users/pranshmaurya/Desktop/AIML_Project/archive/train/pear/Image_30.jpg\n",
      "/Users/pranshmaurya/Desktop/AIML_Project/archive/train/pear/Image_18.jpg\n",
      "/Users/pranshmaurya/Desktop/AIML_Project/archive/train/sweetpotato/Image_15.jpg\n",
      "/Users/pranshmaurya/Desktop/AIML_Project/archive/train/sweetpotato/Image_29.jpg\n",
      "/Users/pranshmaurya/Desktop/AIML_Project/archive/train/sweetpotato/Image_28.jpg\n",
      "/Users/pranshmaurya/Desktop/AIML_Project/archive/train/sweetpotato/Image_14.jpg\n",
      "/Users/pranshmaurya/Desktop/AIML_Project/archive/train/sweetpotato/Image_16.jpg\n",
      "/Users/pranshmaurya/Desktop/AIML_Project/archive/train/sweetpotato/Image_13.jpg\n",
      "/Users/pranshmaurya/Desktop/AIML_Project/archive/train/sweetpotato/Image_12.jpg\n",
      "/Users/pranshmaurya/Desktop/AIML_Project/archive/train/sweetpotato/Image_38.jpg\n",
      "/Users/pranshmaurya/Desktop/AIML_Project/archive/train/sweetpotato/Image_10.jpg\n",
      "/Users/pranshmaurya/Desktop/AIML_Project/archive/train/sweetpotato/Image_11.jpg\n",
      "/Users/pranshmaurya/Desktop/AIML_Project/archive/train/sweetpotato/Image_39.jpg\n",
      "/Users/pranshmaurya/Desktop/AIML_Project/archive/train/sweetpotato/Image_76.jpg\n",
      "/Users/pranshmaurya/Desktop/AIML_Project/archive/train/sweetpotato/Image_62.jpg\n",
      "/Users/pranshmaurya/Desktop/AIML_Project/archive/train/sweetpotato/Image_88.jpg\n",
      "/Users/pranshmaurya/Desktop/AIML_Project/archive/train/sweetpotato/Image_63.jpg\n",
      "/Users/pranshmaurya/Desktop/AIML_Project/archive/train/sweetpotato/Image_77.jpg\n",
      "/Users/pranshmaurya/Desktop/AIML_Project/archive/train/sweetpotato/Image_8.jpg\n",
      "/Users/pranshmaurya/Desktop/AIML_Project/archive/train/sweetpotato/Image_9.jpg\n",
      "/Users/pranshmaurya/Desktop/AIML_Project/archive/train/sweetpotato/Image_60.jpg\n",
      "/Users/pranshmaurya/Desktop/AIML_Project/archive/train/sweetpotato/Image_58.jpg\n",
      "/Users/pranshmaurya/Desktop/AIML_Project/archive/train/sweetpotato/Image_64.jpg\n",
      "/Users/pranshmaurya/Desktop/AIML_Project/archive/train/sweetpotato/Image_70.jpg\n",
      "/Users/pranshmaurya/Desktop/AIML_Project/archive/train/sweetpotato/Image_71.jpg\n",
      "/Users/pranshmaurya/Desktop/AIML_Project/archive/train/sweetpotato/Image_73.jpg\n",
      "/Users/pranshmaurya/Desktop/AIML_Project/archive/train/sweetpotato/Image_67.jpg\n",
      "/Users/pranshmaurya/Desktop/AIML_Project/archive/train/sweetpotato/Image_98.jpg\n",
      "/Users/pranshmaurya/Desktop/AIML_Project/archive/train/sweetpotato/Image_99.jpg\n",
      "/Users/pranshmaurya/Desktop/AIML_Project/archive/train/sweetpotato/Image_66.jpg\n",
      "/Users/pranshmaurya/Desktop/AIML_Project/archive/train/sweetpotato/Image_57.jpg\n",
      "/Users/pranshmaurya/Desktop/AIML_Project/archive/train/sweetpotato/Image_2.jpg\n",
      "/Users/pranshmaurya/Desktop/AIML_Project/archive/train/sweetpotato/Image_43.jpg\n",
      "/Users/pranshmaurya/Desktop/AIML_Project/archive/train/sweetpotato/Image_94.jpg\n",
      "/Users/pranshmaurya/Desktop/AIML_Project/archive/train/sweetpotato/Image_80.jpg\n",
      "/Users/pranshmaurya/Desktop/AIML_Project/archive/train/sweetpotato/Image_81.jpg\n",
      "/Users/pranshmaurya/Desktop/AIML_Project/archive/train/sweetpotato/Image_95.jpg\n",
      "/Users/pranshmaurya/Desktop/AIML_Project/archive/train/sweetpotato/Image_42.jpg\n",
      "/Users/pranshmaurya/Desktop/AIML_Project/archive/train/sweetpotato/Image_3.jpg\n",
      "/Users/pranshmaurya/Desktop/AIML_Project/archive/train/sweetpotato/Image_40.jpg\n",
      "/Users/pranshmaurya/Desktop/AIML_Project/archive/train/sweetpotato/Image_54.jpg\n",
      "/Users/pranshmaurya/Desktop/AIML_Project/archive/train/sweetpotato/Image_68.jpg\n",
      "/Users/pranshmaurya/Desktop/AIML_Project/archive/train/sweetpotato/Image_97.jpg\n",
      "/Users/pranshmaurya/Desktop/AIML_Project/archive/train/sweetpotato/Image_69.jpg\n",
      "/Users/pranshmaurya/Desktop/AIML_Project/archive/train/sweetpotato/Image_55.jpg\n",
      "/Users/pranshmaurya/Desktop/AIML_Project/archive/train/sweetpotato/Image_41.jpg\n",
      "/Users/pranshmaurya/Desktop/AIML_Project/archive/train/sweetpotato/Image_100.jpg\n",
      "/Users/pranshmaurya/Desktop/AIML_Project/archive/train/sweetpotato/Image_4.jpg\n",
      "/Users/pranshmaurya/Desktop/AIML_Project/archive/train/sweetpotato/Image_86.jpg\n",
      "/Users/pranshmaurya/Desktop/AIML_Project/archive/train/sweetpotato/Image_92.jpg\n",
      "/Users/pranshmaurya/Desktop/AIML_Project/archive/train/sweetpotato/Image_93.jpg\n",
      "/Users/pranshmaurya/Desktop/AIML_Project/archive/train/sweetpotato/Image_87.jpg\n",
      "/Users/pranshmaurya/Desktop/AIML_Project/archive/train/sweetpotato/Image_50.jpg\n",
      "/Users/pranshmaurya/Desktop/AIML_Project/archive/train/sweetpotato/Image_5.jpg\n",
      "/Users/pranshmaurya/Desktop/AIML_Project/archive/train/sweetpotato/Image_78.jpg\n",
      "/Users/pranshmaurya/Desktop/AIML_Project/archive/train/sweetpotato/Image_85.jpg\n",
      "/Users/pranshmaurya/Desktop/AIML_Project/archive/train/sweetpotato/Image_84.jpg\n",
      "/Users/pranshmaurya/Desktop/AIML_Project/archive/train/sweetpotato/Image_90.jpg\n",
      "/Users/pranshmaurya/Desktop/AIML_Project/archive/train/sweetpotato/Image_53.jpg\n",
      "/Users/pranshmaurya/Desktop/AIML_Project/archive/train/sweetpotato/Image_34.jpg\n",
      "/Users/pranshmaurya/Desktop/AIML_Project/archive/train/sweetpotato/Image_21.jpg\n",
      "/Users/pranshmaurya/Desktop/AIML_Project/archive/train/sweetpotato/Image_35.jpg\n",
      "/Users/pranshmaurya/Desktop/AIML_Project/archive/train/sweetpotato/Image_23.jpg\n",
      "/Users/pranshmaurya/Desktop/AIML_Project/archive/train/sweetpotato/Image_37.jpg\n",
      "/Users/pranshmaurya/Desktop/AIML_Project/archive/train/sweetpotato/Image_36.jpg\n",
      "/Users/pranshmaurya/Desktop/AIML_Project/archive/train/sweetpotato/Image_22.jpg\n",
      "/Users/pranshmaurya/Desktop/AIML_Project/archive/train/sweetpotato/Image_32.jpg\n",
      "/Users/pranshmaurya/Desktop/AIML_Project/archive/train/sweetpotato/Image_19.jpg\n",
      "/Users/pranshmaurya/Desktop/AIML_Project/archive/train/sweetpotato/Image_25.jpg\n",
      "/Users/pranshmaurya/Desktop/AIML_Project/archive/train/sweetpotato/Image_30.jpg\n",
      "/Users/pranshmaurya/Desktop/AIML_Project/archive/train/sweetpotato/Image_18.jpg\n",
      "/Users/pranshmaurya/Desktop/AIML_Project/archive/train/pomegranate/Image_15.jpg\n",
      "/Users/pranshmaurya/Desktop/AIML_Project/archive/train/pomegranate/Image_29.jpg\n",
      "/Users/pranshmaurya/Desktop/AIML_Project/archive/train/pomegranate/Image_14.jpg\n",
      "/Users/pranshmaurya/Desktop/AIML_Project/archive/train/pomegranate/Image_16.jpg\n",
      "/Users/pranshmaurya/Desktop/AIML_Project/archive/train/pomegranate/Image_17.jpg\n",
      "/Users/pranshmaurya/Desktop/AIML_Project/archive/train/pomegranate/Image_13.jpg\n",
      "/Users/pranshmaurya/Desktop/AIML_Project/archive/train/pomegranate/Image_28.jpeg\n",
      "/Users/pranshmaurya/Desktop/AIML_Project/archive/train/pomegranate/Image_12.jpg\n",
      "/Users/pranshmaurya/Desktop/AIML_Project/archive/train/pomegranate/Image_38.jpg\n",
      "/Users/pranshmaurya/Desktop/AIML_Project/archive/train/pomegranate/Image_10.jpg\n",
      "/Users/pranshmaurya/Desktop/AIML_Project/archive/train/pomegranate/Image_11.jpg\n",
      "/Users/pranshmaurya/Desktop/AIML_Project/archive/train/pomegranate/Image_39.jpg\n",
      "/Users/pranshmaurya/Desktop/AIML_Project/archive/train/pomegranate/Image_89.png\n",
      "/Users/pranshmaurya/Desktop/AIML_Project/archive/train/pomegranate/Image_88.jpg\n",
      "/Users/pranshmaurya/Desktop/AIML_Project/archive/train/pomegranate/Image_63.jpg\n",
      "/Users/pranshmaurya/Desktop/AIML_Project/archive/train/pomegranate/Image_77.jpg\n",
      "/Users/pranshmaurya/Desktop/AIML_Project/archive/train/pomegranate/Image_61.jpg\n",
      "/Users/pranshmaurya/Desktop/AIML_Project/archive/train/pomegranate/Image_75.jpg\n",
      "/Users/pranshmaurya/Desktop/AIML_Project/archive/train/pomegranate/Image_8.jpg\n",
      "/Users/pranshmaurya/Desktop/AIML_Project/archive/train/pomegranate/Image_9.jpg\n",
      "/Users/pranshmaurya/Desktop/AIML_Project/archive/train/pomegranate/Image_74.jpg\n",
      "/Users/pranshmaurya/Desktop/AIML_Project/archive/train/pomegranate/Image_60.jpg\n",
      "/Users/pranshmaurya/Desktop/AIML_Project/archive/train/pomegranate/Image_58.jpg\n",
      "/Users/pranshmaurya/Desktop/AIML_Project/archive/train/pomegranate/Image_64.jpg\n",
      "/Users/pranshmaurya/Desktop/AIML_Project/archive/train/pomegranate/Image_70.jpg\n",
      "/Users/pranshmaurya/Desktop/AIML_Project/archive/train/pomegranate/Image_71.jpg\n",
      "/Users/pranshmaurya/Desktop/AIML_Project/archive/train/pomegranate/Image_65.jpg\n",
      "/Users/pranshmaurya/Desktop/AIML_Project/archive/train/pomegranate/Image_59.jpg\n",
      "/Users/pranshmaurya/Desktop/AIML_Project/archive/train/pomegranate/Image_67.png\n",
      "/Users/pranshmaurya/Desktop/AIML_Project/archive/train/pomegranate/Image_73.JPG\n",
      "/Users/pranshmaurya/Desktop/AIML_Project/archive/train/pomegranate/Image_99.jpg\n",
      "/Users/pranshmaurya/Desktop/AIML_Project/archive/train/pomegranate/Image_66.jpg\n",
      "/Users/pranshmaurya/Desktop/AIML_Project/archive/train/pomegranate/Image_72.jpg\n",
      "/Users/pranshmaurya/Desktop/AIML_Project/archive/train/pomegranate/Image_80.png\n",
      "/Users/pranshmaurya/Desktop/AIML_Project/archive/train/pomegranate/Image_57.jpg\n",
      "/Users/pranshmaurya/Desktop/AIML_Project/archive/train/pomegranate/Image_2.jpg\n",
      "/Users/pranshmaurya/Desktop/AIML_Project/archive/train/pomegranate/Image_43.jpg\n",
      "/Users/pranshmaurya/Desktop/AIML_Project/archive/train/pomegranate/Image_56.jpg\n",
      "/Users/pranshmaurya/Desktop/AIML_Project/archive/train/pomegranate/Image_3.jpg\n",
      "/Users/pranshmaurya/Desktop/AIML_Project/archive/train/pomegranate/Image_40.jpg\n",
      "/Users/pranshmaurya/Desktop/AIML_Project/archive/train/pomegranate/Image_1.jpg\n",
      "/Users/pranshmaurya/Desktop/AIML_Project/archive/train/pomegranate/Image_54.jpg\n",
      "/Users/pranshmaurya/Desktop/AIML_Project/archive/train/pomegranate/Image_68.jpg\n",
      "/Users/pranshmaurya/Desktop/AIML_Project/archive/train/pomegranate/Image_83.jpg\n",
      "/Users/pranshmaurya/Desktop/AIML_Project/archive/train/pomegranate/Image_97.jpg\n",
      "/Users/pranshmaurya/Desktop/AIML_Project/archive/train/pomegranate/Image_96.jpg\n",
      "/Users/pranshmaurya/Desktop/AIML_Project/archive/train/pomegranate/Image_69.jpg\n",
      "/Users/pranshmaurya/Desktop/AIML_Project/archive/train/pomegranate/Image_41.jpg\n",
      "/Users/pranshmaurya/Desktop/AIML_Project/archive/train/pomegranate/Image_100.jpg\n",
      "/Users/pranshmaurya/Desktop/AIML_Project/archive/train/pomegranate/Image_79.jpg\n",
      "/Users/pranshmaurya/Desktop/AIML_Project/archive/train/pomegranate/Image_45.jpg\n",
      "/Users/pranshmaurya/Desktop/AIML_Project/archive/train/pomegranate/Image_51.jpg\n",
      "/Users/pranshmaurya/Desktop/AIML_Project/archive/train/pomegranate/Image_4.jpg\n",
      "/Users/pranshmaurya/Desktop/AIML_Project/archive/train/pomegranate/Image_87.jpg\n",
      "/Users/pranshmaurya/Desktop/AIML_Project/archive/train/pomegranate/Image_50.jpg\n",
      "/Users/pranshmaurya/Desktop/AIML_Project/archive/train/pomegranate/Image_5.jpg\n",
      "/Users/pranshmaurya/Desktop/AIML_Project/archive/train/pomegranate/Image_44.jpg\n",
      "/Users/pranshmaurya/Desktop/AIML_Project/archive/train/pomegranate/Image_7.jpg\n",
      "/Users/pranshmaurya/Desktop/AIML_Project/archive/train/pomegranate/Image_52.jpg\n",
      "/Users/pranshmaurya/Desktop/AIML_Project/archive/train/pomegranate/Image_46.jpg\n",
      "/Users/pranshmaurya/Desktop/AIML_Project/archive/train/pomegranate/Image_91.jpg\n",
      "/Users/pranshmaurya/Desktop/AIML_Project/archive/train/pomegranate/Image_6.jpg\n",
      "/Users/pranshmaurya/Desktop/AIML_Project/archive/train/pomegranate/Image_20.jpg\n",
      "/Users/pranshmaurya/Desktop/AIML_Project/archive/train/pomegranate/Image_21.jpg\n",
      "/Users/pranshmaurya/Desktop/AIML_Project/archive/train/pomegranate/Image_35.jpg\n",
      "/Users/pranshmaurya/Desktop/AIML_Project/archive/train/pomegranate/Image_23.jpg\n",
      "/Users/pranshmaurya/Desktop/AIML_Project/archive/train/pomegranate/Image_37.jpg\n",
      "/Users/pranshmaurya/Desktop/AIML_Project/archive/train/pomegranate/Image_36.jpg\n",
      "/Users/pranshmaurya/Desktop/AIML_Project/archive/train/pomegranate/Image_22.jpg\n",
      "/Users/pranshmaurya/Desktop/AIML_Project/archive/train/pomegranate/Image_26.jpg\n",
      "/Users/pranshmaurya/Desktop/AIML_Project/archive/train/pomegranate/Image_32.jpg\n",
      "/Users/pranshmaurya/Desktop/AIML_Project/archive/train/pomegranate/Image_33.jpg\n",
      "/Users/pranshmaurya/Desktop/AIML_Project/archive/train/pomegranate/Image_27.jpg\n",
      "/Users/pranshmaurya/Desktop/AIML_Project/archive/train/pomegranate/Image_19.jpg\n",
      "/Users/pranshmaurya/Desktop/AIML_Project/archive/train/pomegranate/Image_31.jpg\n",
      "/Users/pranshmaurya/Desktop/AIML_Project/archive/train/pomegranate/Image_25.jpg\n",
      "/Users/pranshmaurya/Desktop/AIML_Project/archive/train/pomegranate/Image_24.jpg\n",
      "/Users/pranshmaurya/Desktop/AIML_Project/archive/train/pomegranate/Image_30.jpg\n",
      "/Users/pranshmaurya/Desktop/AIML_Project/archive/train/pomegranate/Image_18.jpg\n",
      "/Users/pranshmaurya/Desktop/AIML_Project/archive/train/peas/Image_15.jpg\n",
      "/Users/pranshmaurya/Desktop/AIML_Project/archive/train/peas/Image_29.jpg\n",
      "/Users/pranshmaurya/Desktop/AIML_Project/archive/train/peas/Image_28.jpg\n",
      "/Users/pranshmaurya/Desktop/AIML_Project/archive/train/peas/Image_14.jpg\n",
      "/Users/pranshmaurya/Desktop/AIML_Project/archive/train/peas/Image_16.jpg\n",
      "/Users/pranshmaurya/Desktop/AIML_Project/archive/train/peas/Image_17.jpg\n",
      "/Users/pranshmaurya/Desktop/AIML_Project/archive/train/peas/Image_13.jpg\n",
      "/Users/pranshmaurya/Desktop/AIML_Project/archive/train/peas/Image_12.jpg\n",
      "/Users/pranshmaurya/Desktop/AIML_Project/archive/train/peas/Image_38.jpg\n",
      "/Users/pranshmaurya/Desktop/AIML_Project/archive/train/peas/Image_10.jpg\n",
      "/Users/pranshmaurya/Desktop/AIML_Project/archive/train/peas/Image_11.jpg\n",
      "/Users/pranshmaurya/Desktop/AIML_Project/archive/train/peas/Image_39.JPG\n",
      "/Users/pranshmaurya/Desktop/AIML_Project/archive/train/peas/Image_76.JPG\n",
      "/Users/pranshmaurya/Desktop/AIML_Project/archive/train/peas/Image_62.jpg\n",
      "/Users/pranshmaurya/Desktop/AIML_Project/archive/train/peas/Image_89.jpg\n",
      "/Users/pranshmaurya/Desktop/AIML_Project/archive/train/peas/Image_88.jpg\n",
      "/Users/pranshmaurya/Desktop/AIML_Project/archive/train/peas/Image_63.JPG\n",
      "/Users/pranshmaurya/Desktop/AIML_Project/archive/train/peas/Image_77.jpg\n",
      "/Users/pranshmaurya/Desktop/AIML_Project/archive/train/peas/Image_61.jpg\n",
      "/Users/pranshmaurya/Desktop/AIML_Project/archive/train/peas/Image_75.jpg\n",
      "/Users/pranshmaurya/Desktop/AIML_Project/archive/train/peas/Image_8.jpg\n",
      "/Users/pranshmaurya/Desktop/AIML_Project/archive/train/peas/Image_49.jpg\n",
      "/Users/pranshmaurya/Desktop/AIML_Project/archive/train/peas/Image_48.jpg\n",
      "/Users/pranshmaurya/Desktop/AIML_Project/archive/train/peas/Image_9.jpg\n",
      "/Users/pranshmaurya/Desktop/AIML_Project/archive/train/peas/Image_74.jpg\n",
      "/Users/pranshmaurya/Desktop/AIML_Project/archive/train/peas/Image_60.jpg\n",
      "/Users/pranshmaurya/Desktop/AIML_Project/archive/train/peas/Image_58.jpg\n",
      "/Users/pranshmaurya/Desktop/AIML_Project/archive/train/peas/Image_64.jpg\n",
      "/Users/pranshmaurya/Desktop/AIML_Project/archive/train/peas/Image_70.jpg\n",
      "/Users/pranshmaurya/Desktop/AIML_Project/archive/train/peas/Image_71.jpg\n",
      "/Users/pranshmaurya/Desktop/AIML_Project/archive/train/peas/Image_65.jpg\n",
      "/Users/pranshmaurya/Desktop/AIML_Project/archive/train/peas/Image_59.jpg\n",
      "/Users/pranshmaurya/Desktop/AIML_Project/archive/train/peas/Image_73.jpg\n",
      "/Users/pranshmaurya/Desktop/AIML_Project/archive/train/peas/Image_67.jpg\n",
      "/Users/pranshmaurya/Desktop/AIML_Project/archive/train/peas/Image_98.jpg\n",
      "/Users/pranshmaurya/Desktop/AIML_Project/archive/train/peas/Image_99.jpg\n",
      "/Users/pranshmaurya/Desktop/AIML_Project/archive/train/peas/Image_66.JPG\n",
      "/Users/pranshmaurya/Desktop/AIML_Project/archive/train/peas/Image_72.jpg\n",
      "/Users/pranshmaurya/Desktop/AIML_Project/archive/train/peas/Image_57.jpg\n",
      "/Users/pranshmaurya/Desktop/AIML_Project/archive/train/peas/Image_2.jpg\n",
      "/Users/pranshmaurya/Desktop/AIML_Project/archive/train/peas/Image_43.jpg\n",
      "/Users/pranshmaurya/Desktop/AIML_Project/archive/train/peas/Image_94.jpg\n",
      "/Users/pranshmaurya/Desktop/AIML_Project/archive/train/peas/Image_80.jpg\n",
      "/Users/pranshmaurya/Desktop/AIML_Project/archive/train/peas/Image_81.jpg\n",
      "/Users/pranshmaurya/Desktop/AIML_Project/archive/train/peas/Image_95.jpg\n",
      "/Users/pranshmaurya/Desktop/AIML_Project/archive/train/peas/Image_42.jpg\n",
      "/Users/pranshmaurya/Desktop/AIML_Project/archive/train/peas/Image_56.jpg\n",
      "/Users/pranshmaurya/Desktop/AIML_Project/archive/train/peas/Image_3.jpg\n",
      "/Users/pranshmaurya/Desktop/AIML_Project/archive/train/peas/Image_97.png\n",
      "/Users/pranshmaurya/Desktop/AIML_Project/archive/train/peas/Image_40.jpg\n",
      "/Users/pranshmaurya/Desktop/AIML_Project/archive/train/peas/Image_1.jpg\n",
      "/Users/pranshmaurya/Desktop/AIML_Project/archive/train/peas/Image_54.jpg\n",
      "/Users/pranshmaurya/Desktop/AIML_Project/archive/train/peas/Image_68.jpg\n",
      "/Users/pranshmaurya/Desktop/AIML_Project/archive/train/peas/Image_83.jpg\n",
      "/Users/pranshmaurya/Desktop/AIML_Project/archive/train/peas/Image_96.jpg\n",
      "/Users/pranshmaurya/Desktop/AIML_Project/archive/train/peas/Image_82.jpg\n",
      "/Users/pranshmaurya/Desktop/AIML_Project/archive/train/peas/Image_69.jpg\n",
      "/Users/pranshmaurya/Desktop/AIML_Project/archive/train/peas/Image_55.jpg\n",
      "/Users/pranshmaurya/Desktop/AIML_Project/archive/train/peas/Image_41.jpg\n",
      "/Users/pranshmaurya/Desktop/AIML_Project/archive/train/peas/Image_100.jpg\n",
      "/Users/pranshmaurya/Desktop/AIML_Project/archive/train/peas/Image_79.jpg\n",
      "/Users/pranshmaurya/Desktop/AIML_Project/archive/train/peas/Image_45.jpg\n",
      "/Users/pranshmaurya/Desktop/AIML_Project/archive/train/peas/Image_51.jpg\n",
      "/Users/pranshmaurya/Desktop/AIML_Project/archive/train/peas/Image_4.jpg\n",
      "/Users/pranshmaurya/Desktop/AIML_Project/archive/train/peas/Image_86.jpg\n",
      "/Users/pranshmaurya/Desktop/AIML_Project/archive/train/peas/Image_92.jpg\n",
      "/Users/pranshmaurya/Desktop/AIML_Project/archive/train/peas/Image_93.jpg\n",
      "/Users/pranshmaurya/Desktop/AIML_Project/archive/train/peas/Image_87.jpg\n",
      "/Users/pranshmaurya/Desktop/AIML_Project/archive/train/peas/Image_50.jpg\n",
      "/Users/pranshmaurya/Desktop/AIML_Project/archive/train/peas/Image_44.jpg\n",
      "/Users/pranshmaurya/Desktop/AIML_Project/archive/train/peas/Image_78.jpg\n",
      "/Users/pranshmaurya/Desktop/AIML_Project/archive/train/peas/Image_5.png\n",
      "/Users/pranshmaurya/Desktop/AIML_Project/archive/train/peas/Image_7.jpg\n",
      "/Users/pranshmaurya/Desktop/AIML_Project/archive/train/peas/Image_52.jpg\n",
      "/Users/pranshmaurya/Desktop/AIML_Project/archive/train/peas/Image_46.jpg\n",
      "/Users/pranshmaurya/Desktop/AIML_Project/archive/train/peas/Image_91.jpg\n",
      "/Users/pranshmaurya/Desktop/AIML_Project/archive/train/peas/Image_85.jpg\n",
      "/Users/pranshmaurya/Desktop/AIML_Project/archive/train/peas/Image_84.jpg\n",
      "/Users/pranshmaurya/Desktop/AIML_Project/archive/train/peas/Image_90.jpg\n",
      "/Users/pranshmaurya/Desktop/AIML_Project/archive/train/peas/Image_47.jpg\n",
      "/Users/pranshmaurya/Desktop/AIML_Project/archive/train/peas/Image_6.jpg\n",
      "/Users/pranshmaurya/Desktop/AIML_Project/archive/train/peas/Image_53.jpg\n",
      "/Users/pranshmaurya/Desktop/AIML_Project/archive/train/peas/Image_34.jpg\n",
      "/Users/pranshmaurya/Desktop/AIML_Project/archive/train/peas/Image_20.jpg\n",
      "/Users/pranshmaurya/Desktop/AIML_Project/archive/train/peas/Image_21.jpg\n",
      "/Users/pranshmaurya/Desktop/AIML_Project/archive/train/peas/Image_35.jpg\n",
      "/Users/pranshmaurya/Desktop/AIML_Project/archive/train/peas/Image_37.png\n",
      "/Users/pranshmaurya/Desktop/AIML_Project/archive/train/peas/Image_23.jpg\n",
      "/Users/pranshmaurya/Desktop/AIML_Project/archive/train/peas/Image_36.jpg\n",
      "/Users/pranshmaurya/Desktop/AIML_Project/archive/train/peas/Image_22.jpg\n",
      "/Users/pranshmaurya/Desktop/AIML_Project/archive/train/peas/Image_26.png\n",
      "/Users/pranshmaurya/Desktop/AIML_Project/archive/train/peas/Image_32.jpg\n",
      "/Users/pranshmaurya/Desktop/AIML_Project/archive/train/peas/Image_27.jpg\n",
      "/Users/pranshmaurya/Desktop/AIML_Project/archive/train/peas/Image_33.png\n",
      "/Users/pranshmaurya/Desktop/AIML_Project/archive/train/peas/Image_19.jpg\n",
      "/Users/pranshmaurya/Desktop/AIML_Project/archive/train/peas/Image_31.jpg\n",
      "/Users/pranshmaurya/Desktop/AIML_Project/archive/train/peas/Image_25.jpg\n",
      "/Users/pranshmaurya/Desktop/AIML_Project/archive/train/peas/Image_24.jpg\n",
      "/Users/pranshmaurya/Desktop/AIML_Project/archive/train/peas/Image_18.jpg\n",
      "/Users/pranshmaurya/Desktop/AIML_Project/archive/train/peas/Image_30.png\n",
      "/Users/pranshmaurya/Desktop/AIML_Project/archive/train/capsicum/Image_15.jpg\n",
      "/Users/pranshmaurya/Desktop/AIML_Project/archive/train/capsicum/Image_29.jpg\n",
      "/Users/pranshmaurya/Desktop/AIML_Project/archive/train/capsicum/Image_28.jpg\n",
      "/Users/pranshmaurya/Desktop/AIML_Project/archive/train/capsicum/Image_14.jpg\n",
      "/Users/pranshmaurya/Desktop/AIML_Project/archive/train/capsicum/Image_16.jpg\n",
      "/Users/pranshmaurya/Desktop/AIML_Project/archive/train/capsicum/Image_17.jpg\n",
      "/Users/pranshmaurya/Desktop/AIML_Project/archive/train/capsicum/Image_13.jpg\n",
      "/Users/pranshmaurya/Desktop/AIML_Project/archive/train/capsicum/Image_12.jpg\n",
      "/Users/pranshmaurya/Desktop/AIML_Project/archive/train/capsicum/Image_38.jpg\n",
      "/Users/pranshmaurya/Desktop/AIML_Project/archive/train/capsicum/Image_10.jpg\n",
      "/Users/pranshmaurya/Desktop/AIML_Project/archive/train/capsicum/Image_11.JPG\n",
      "/Users/pranshmaurya/Desktop/AIML_Project/archive/train/capsicum/Image_39.jpg\n",
      "/Users/pranshmaurya/Desktop/AIML_Project/archive/train/capsicum/Image_76.jpg\n",
      "/Users/pranshmaurya/Desktop/AIML_Project/archive/train/capsicum/Image_62.jpg\n",
      "/Users/pranshmaurya/Desktop/AIML_Project/archive/train/capsicum/Image_89.jpg\n",
      "/Users/pranshmaurya/Desktop/AIML_Project/archive/train/capsicum/Image_49.png\n",
      "/Users/pranshmaurya/Desktop/AIML_Project/archive/train/capsicum/Image_75.jpg\n",
      "/Users/pranshmaurya/Desktop/AIML_Project/archive/train/capsicum/Image_8.jpg\n",
      "/Users/pranshmaurya/Desktop/AIML_Project/archive/train/capsicum/Image_48.jpg\n",
      "/Users/pranshmaurya/Desktop/AIML_Project/archive/train/capsicum/Image_9.jpg\n",
      "/Users/pranshmaurya/Desktop/AIML_Project/archive/train/capsicum/Image_74.jpg\n",
      "/Users/pranshmaurya/Desktop/AIML_Project/archive/train/capsicum/Image_60.jpg\n",
      "/Users/pranshmaurya/Desktop/AIML_Project/archive/train/capsicum/Image_64.jpg\n",
      "/Users/pranshmaurya/Desktop/AIML_Project/archive/train/capsicum/Image_70.jpg\n",
      "/Users/pranshmaurya/Desktop/AIML_Project/archive/train/capsicum/Image_65.jpg\n",
      "/Users/pranshmaurya/Desktop/AIML_Project/archive/train/capsicum/Image_73.jpg\n",
      "/Users/pranshmaurya/Desktop/AIML_Project/archive/train/capsicum/Image_67.jpg\n",
      "/Users/pranshmaurya/Desktop/AIML_Project/archive/train/capsicum/Image_98.jpg\n",
      "/Users/pranshmaurya/Desktop/AIML_Project/archive/train/capsicum/Image_99.jpg\n",
      "/Users/pranshmaurya/Desktop/AIML_Project/archive/train/capsicum/Image_66.jpg\n",
      "/Users/pranshmaurya/Desktop/AIML_Project/archive/train/capsicum/Image_2.jpg\n",
      "/Users/pranshmaurya/Desktop/AIML_Project/archive/train/capsicum/Image_43.jpg\n",
      "/Users/pranshmaurya/Desktop/AIML_Project/archive/train/capsicum/Image_80.jpg\n",
      "/Users/pranshmaurya/Desktop/AIML_Project/archive/train/capsicum/Image_81.jpg\n",
      "/Users/pranshmaurya/Desktop/AIML_Project/archive/train/capsicum/Image_42.jpg\n",
      "/Users/pranshmaurya/Desktop/AIML_Project/archive/train/capsicum/Image_56.jpg\n",
      "/Users/pranshmaurya/Desktop/AIML_Project/archive/train/capsicum/Image_3.JPG\n",
      "/Users/pranshmaurya/Desktop/AIML_Project/archive/train/capsicum/Image_95.png\n",
      "/Users/pranshmaurya/Desktop/AIML_Project/archive/train/capsicum/Image_40.jpg\n",
      "/Users/pranshmaurya/Desktop/AIML_Project/archive/train/capsicum/Image_1.jpg\n",
      "/Users/pranshmaurya/Desktop/AIML_Project/archive/train/capsicum/Image_54.jpg\n",
      "/Users/pranshmaurya/Desktop/AIML_Project/archive/train/capsicum/Image_68.jpg\n",
      "/Users/pranshmaurya/Desktop/AIML_Project/archive/train/capsicum/Image_83.jpg\n",
      "/Users/pranshmaurya/Desktop/AIML_Project/archive/train/capsicum/Image_97.jpg\n",
      "/Users/pranshmaurya/Desktop/AIML_Project/archive/train/capsicum/Image_96.JPG\n",
      "/Users/pranshmaurya/Desktop/AIML_Project/archive/train/capsicum/Image_82.jpg\n",
      "/Users/pranshmaurya/Desktop/AIML_Project/archive/train/capsicum/Image_69.jpg\n",
      "/Users/pranshmaurya/Desktop/AIML_Project/archive/train/capsicum/Image_55.jpg\n",
      "/Users/pranshmaurya/Desktop/AIML_Project/archive/train/capsicum/Image_41.jpg\n",
      "/Users/pranshmaurya/Desktop/AIML_Project/archive/train/capsicum/Image_100.JPG\n",
      "/Users/pranshmaurya/Desktop/AIML_Project/archive/train/capsicum/Image_79.JPG\n",
      "/Users/pranshmaurya/Desktop/AIML_Project/archive/train/capsicum/Image_45.jpg\n",
      "/Users/pranshmaurya/Desktop/AIML_Project/archive/train/capsicum/Image_51.jpg\n",
      "/Users/pranshmaurya/Desktop/AIML_Project/archive/train/capsicum/Image_4.jpg\n",
      "/Users/pranshmaurya/Desktop/AIML_Project/archive/train/capsicum/Image_86.jpg\n",
      "/Users/pranshmaurya/Desktop/AIML_Project/archive/train/capsicum/Image_92.jpg\n",
      "/Users/pranshmaurya/Desktop/AIML_Project/archive/train/capsicum/Image_93.jpg\n",
      "/Users/pranshmaurya/Desktop/AIML_Project/archive/train/capsicum/Image_87.jpg\n",
      "/Users/pranshmaurya/Desktop/AIML_Project/archive/train/capsicum/Image_50.jpg\n",
      "/Users/pranshmaurya/Desktop/AIML_Project/archive/train/capsicum/Image_5.jpg\n",
      "/Users/pranshmaurya/Desktop/AIML_Project/archive/train/capsicum/Image_78.jpg\n",
      "/Users/pranshmaurya/Desktop/AIML_Project/archive/train/capsicum/Image_7.jpg\n",
      "/Users/pranshmaurya/Desktop/AIML_Project/archive/train/capsicum/Image_46.jpg\n",
      "/Users/pranshmaurya/Desktop/AIML_Project/archive/train/capsicum/Image_85.jpg\n",
      "/Users/pranshmaurya/Desktop/AIML_Project/archive/train/capsicum/Image_84.jpg\n",
      "/Users/pranshmaurya/Desktop/AIML_Project/archive/train/capsicum/Image_90.jpg\n",
      "/Users/pranshmaurya/Desktop/AIML_Project/archive/train/capsicum/Image_47.jpg\n",
      "/Users/pranshmaurya/Desktop/AIML_Project/archive/train/capsicum/Image_6.jpg\n",
      "/Users/pranshmaurya/Desktop/AIML_Project/archive/train/capsicum/Image_53.jpg\n",
      "/Users/pranshmaurya/Desktop/AIML_Project/archive/train/capsicum/Image_34.jpg\n",
      "/Users/pranshmaurya/Desktop/AIML_Project/archive/train/capsicum/Image_20.jpg\n",
      "/Users/pranshmaurya/Desktop/AIML_Project/archive/train/capsicum/Image_21.jpg\n",
      "/Users/pranshmaurya/Desktop/AIML_Project/archive/train/capsicum/Image_35.jpg\n",
      "/Users/pranshmaurya/Desktop/AIML_Project/archive/train/capsicum/Image_23.jpg\n",
      "/Users/pranshmaurya/Desktop/AIML_Project/archive/train/capsicum/Image_37.jpg\n",
      "/Users/pranshmaurya/Desktop/AIML_Project/archive/train/capsicum/Image_36.jpg\n",
      "/Users/pranshmaurya/Desktop/AIML_Project/archive/train/capsicum/Image_22.jpg\n",
      "/Users/pranshmaurya/Desktop/AIML_Project/archive/train/capsicum/Image_26.jpg\n",
      "/Users/pranshmaurya/Desktop/AIML_Project/archive/train/capsicum/Image_32.jpg\n",
      "/Users/pranshmaurya/Desktop/AIML_Project/archive/train/capsicum/Image_33.jpg\n",
      "/Users/pranshmaurya/Desktop/AIML_Project/archive/train/capsicum/Image_27.jpg\n",
      "/Users/pranshmaurya/Desktop/AIML_Project/archive/train/capsicum/Image_19.jpg\n",
      "/Users/pranshmaurya/Desktop/AIML_Project/archive/train/capsicum/Image_31.jpg\n",
      "/Users/pranshmaurya/Desktop/AIML_Project/archive/train/capsicum/Image_25.jpg\n",
      "/Users/pranshmaurya/Desktop/AIML_Project/archive/train/capsicum/Image_88.jpeg\n",
      "/Users/pranshmaurya/Desktop/AIML_Project/archive/train/capsicum/Image_71.jpeg\n",
      "/Users/pranshmaurya/Desktop/AIML_Project/archive/train/capsicum/Image_24.jpg\n",
      "/Users/pranshmaurya/Desktop/AIML_Project/archive/train/capsicum/Image_30.jpg\n",
      "/Users/pranshmaurya/Desktop/AIML_Project/archive/train/capsicum/Image_18.jpg\n",
      "/Users/pranshmaurya/Desktop/AIML_Project/archive/train/spinach/Image_15.jpg\n",
      "/Users/pranshmaurya/Desktop/AIML_Project/archive/train/spinach/Image_29.jpg\n",
      "/Users/pranshmaurya/Desktop/AIML_Project/archive/train/spinach/Image_28.jpg\n",
      "/Users/pranshmaurya/Desktop/AIML_Project/archive/train/spinach/Image_14.jpg\n",
      "/Users/pranshmaurya/Desktop/AIML_Project/archive/train/spinach/Image_16.jpg\n",
      "/Users/pranshmaurya/Desktop/AIML_Project/archive/train/spinach/Image_52.jpeg\n",
      "/Users/pranshmaurya/Desktop/AIML_Project/archive/train/spinach/Image_17.jpg\n",
      "/Users/pranshmaurya/Desktop/AIML_Project/archive/train/spinach/Image_13.jpg\n",
      "/Users/pranshmaurya/Desktop/AIML_Project/archive/train/spinach/Image_12.jpg\n",
      "/Users/pranshmaurya/Desktop/AIML_Project/archive/train/spinach/Image_38.jpg\n",
      "/Users/pranshmaurya/Desktop/AIML_Project/archive/train/spinach/Image_10.jpg\n",
      "/Users/pranshmaurya/Desktop/AIML_Project/archive/train/spinach/Image_11.jpg\n",
      "/Users/pranshmaurya/Desktop/AIML_Project/archive/train/spinach/Image_39.jpg\n",
      "/Users/pranshmaurya/Desktop/AIML_Project/archive/train/spinach/Image_76.jpg\n",
      "/Users/pranshmaurya/Desktop/AIML_Project/archive/train/spinach/Image_62.jpg\n",
      "/Users/pranshmaurya/Desktop/AIML_Project/archive/train/spinach/Image_89.jpg\n",
      "/Users/pranshmaurya/Desktop/AIML_Project/archive/train/spinach/Image_88.jpg\n",
      "/Users/pranshmaurya/Desktop/AIML_Project/archive/train/spinach/Image_77.jpg\n",
      "/Users/pranshmaurya/Desktop/AIML_Project/archive/train/spinach/Image_63.png\n",
      "/Users/pranshmaurya/Desktop/AIML_Project/archive/train/spinach/Image_49.png\n",
      "/Users/pranshmaurya/Desktop/AIML_Project/archive/train/spinach/Image_61.jpg\n",
      "/Users/pranshmaurya/Desktop/AIML_Project/archive/train/spinach/Image_75.jpg\n",
      "/Users/pranshmaurya/Desktop/AIML_Project/archive/train/spinach/Image_8.jpg\n",
      "/Users/pranshmaurya/Desktop/AIML_Project/archive/train/spinach/Image_48.jpg\n",
      "/Users/pranshmaurya/Desktop/AIML_Project/archive/train/spinach/Image_9.jpg\n",
      "/Users/pranshmaurya/Desktop/AIML_Project/archive/train/spinach/Image_74.jpg\n",
      "/Users/pranshmaurya/Desktop/AIML_Project/archive/train/spinach/Image_60.jpg\n",
      "/Users/pranshmaurya/Desktop/AIML_Project/archive/train/spinach/Image_58.jpg\n",
      "/Users/pranshmaurya/Desktop/AIML_Project/archive/train/spinach/Image_70.JPG\n",
      "/Users/pranshmaurya/Desktop/AIML_Project/archive/train/spinach/Image_71.JPG\n",
      "/Users/pranshmaurya/Desktop/AIML_Project/archive/train/spinach/Image_65.jpg\n",
      "/Users/pranshmaurya/Desktop/AIML_Project/archive/train/spinach/Image_59.jpg\n",
      "/Users/pranshmaurya/Desktop/AIML_Project/archive/train/spinach/Image_67.png\n",
      "/Users/pranshmaurya/Desktop/AIML_Project/archive/train/spinach/Image_73.jpg\n",
      "/Users/pranshmaurya/Desktop/AIML_Project/archive/train/spinach/Image_98.jpg\n",
      "/Users/pranshmaurya/Desktop/AIML_Project/archive/train/spinach/Image_99.jpg\n",
      "/Users/pranshmaurya/Desktop/AIML_Project/archive/train/spinach/Image_66.jpg\n",
      "/Users/pranshmaurya/Desktop/AIML_Project/archive/train/spinach/Image_72.jpg\n",
      "/Users/pranshmaurya/Desktop/AIML_Project/archive/train/spinach/Image_80.png\n",
      "/Users/pranshmaurya/Desktop/AIML_Project/archive/train/spinach/Image_57.jpg\n",
      "/Users/pranshmaurya/Desktop/AIML_Project/archive/train/spinach/Image_2.jpg\n",
      "/Users/pranshmaurya/Desktop/AIML_Project/archive/train/spinach/Image_43.jpg\n",
      "/Users/pranshmaurya/Desktop/AIML_Project/archive/train/spinach/Image_94.jpg\n",
      "/Users/pranshmaurya/Desktop/AIML_Project/archive/train/spinach/Image_81.jpg\n",
      "/Users/pranshmaurya/Desktop/AIML_Project/archive/train/spinach/Image_95.jpg\n",
      "/Users/pranshmaurya/Desktop/AIML_Project/archive/train/spinach/Image_42.jpg\n",
      "/Users/pranshmaurya/Desktop/AIML_Project/archive/train/spinach/Image_3.jpg\n",
      "/Users/pranshmaurya/Desktop/AIML_Project/archive/train/spinach/Image_68.png\n",
      "/Users/pranshmaurya/Desktop/AIML_Project/archive/train/spinach/Image_40.jpg\n",
      "/Users/pranshmaurya/Desktop/AIML_Project/archive/train/spinach/Image_1.jpg\n",
      "/Users/pranshmaurya/Desktop/AIML_Project/archive/train/spinach/Image_54.jpg\n",
      "/Users/pranshmaurya/Desktop/AIML_Project/archive/train/spinach/Image_83.jpg\n",
      "/Users/pranshmaurya/Desktop/AIML_Project/archive/train/spinach/Image_97.jpg\n",
      "/Users/pranshmaurya/Desktop/AIML_Project/archive/train/spinach/Image_96.jpg\n",
      "/Users/pranshmaurya/Desktop/AIML_Project/archive/train/spinach/Image_82.jpg\n",
      "/Users/pranshmaurya/Desktop/AIML_Project/archive/train/spinach/Image_69.jpg\n",
      "/Users/pranshmaurya/Desktop/AIML_Project/archive/train/spinach/Image_55.jpg\n",
      "/Users/pranshmaurya/Desktop/AIML_Project/archive/train/spinach/Image_41.jpg\n",
      "/Users/pranshmaurya/Desktop/AIML_Project/archive/train/spinach/Image_100.jpg\n",
      "/Users/pranshmaurya/Desktop/AIML_Project/archive/train/spinach/Image_79.jpg\n",
      "/Users/pranshmaurya/Desktop/AIML_Project/archive/train/spinach/Image_45.jpg\n",
      "/Users/pranshmaurya/Desktop/AIML_Project/archive/train/spinach/Image_51.jpg\n",
      "/Users/pranshmaurya/Desktop/AIML_Project/archive/train/spinach/Image_4.jpg\n",
      "/Users/pranshmaurya/Desktop/AIML_Project/archive/train/spinach/Image_86.jpg\n",
      "/Users/pranshmaurya/Desktop/AIML_Project/archive/train/spinach/Image_92.jpg\n",
      "/Users/pranshmaurya/Desktop/AIML_Project/archive/train/spinach/Image_93.jpg\n",
      "/Users/pranshmaurya/Desktop/AIML_Project/archive/train/spinach/Image_50.jpg\n",
      "/Users/pranshmaurya/Desktop/AIML_Project/archive/train/spinach/Image_5.jpg\n",
      "/Users/pranshmaurya/Desktop/AIML_Project/archive/train/spinach/Image_44.jpg\n",
      "/Users/pranshmaurya/Desktop/AIML_Project/archive/train/spinach/Image_78.jpg\n",
      "/Users/pranshmaurya/Desktop/AIML_Project/archive/train/spinach/Image_7.jpg\n",
      "/Users/pranshmaurya/Desktop/AIML_Project/archive/train/spinach/Image_46.jpg\n",
      "/Users/pranshmaurya/Desktop/AIML_Project/archive/train/spinach/Image_91.JPG\n",
      "/Users/pranshmaurya/Desktop/AIML_Project/archive/train/spinach/Image_85.jpg\n",
      "/Users/pranshmaurya/Desktop/AIML_Project/archive/train/spinach/Image_84.jpg\n",
      "/Users/pranshmaurya/Desktop/AIML_Project/archive/train/spinach/Image_47.jpg\n",
      "/Users/pranshmaurya/Desktop/AIML_Project/archive/train/spinach/Image_6.jpg\n",
      "/Users/pranshmaurya/Desktop/AIML_Project/archive/train/spinach/Image_53.jpg\n",
      "/Users/pranshmaurya/Desktop/AIML_Project/archive/train/spinach/Image_90.png\n",
      "/Users/pranshmaurya/Desktop/AIML_Project/archive/train/spinach/Image_34.jpg\n",
      "/Users/pranshmaurya/Desktop/AIML_Project/archive/train/spinach/Image_20.jpg\n",
      "/Users/pranshmaurya/Desktop/AIML_Project/archive/train/spinach/Image_21.jpg\n",
      "/Users/pranshmaurya/Desktop/AIML_Project/archive/train/spinach/Image_35.jpg\n",
      "/Users/pranshmaurya/Desktop/AIML_Project/archive/train/spinach/Image_23.jpg\n",
      "/Users/pranshmaurya/Desktop/AIML_Project/archive/train/spinach/Image_37.jpg\n",
      "/Users/pranshmaurya/Desktop/AIML_Project/archive/train/spinach/Image_36.jpg\n",
      "/Users/pranshmaurya/Desktop/AIML_Project/archive/train/spinach/Image_22.jpg\n",
      "/Users/pranshmaurya/Desktop/AIML_Project/archive/train/spinach/Image_26.jpg\n",
      "/Users/pranshmaurya/Desktop/AIML_Project/archive/train/spinach/Image_32.jpg\n",
      "/Users/pranshmaurya/Desktop/AIML_Project/archive/train/spinach/Image_33.jpg\n",
      "/Users/pranshmaurya/Desktop/AIML_Project/archive/train/spinach/Image_27.jpg\n",
      "/Users/pranshmaurya/Desktop/AIML_Project/archive/train/spinach/Image_19.jpg\n",
      "/Users/pranshmaurya/Desktop/AIML_Project/archive/train/spinach/Image_31.jpg\n",
      "/Users/pranshmaurya/Desktop/AIML_Project/archive/train/spinach/Image_25.jpg\n",
      "/Users/pranshmaurya/Desktop/AIML_Project/archive/train/spinach/Image_24.jpg\n",
      "/Users/pranshmaurya/Desktop/AIML_Project/archive/train/spinach/Image_30.jpg\n",
      "/Users/pranshmaurya/Desktop/AIML_Project/archive/train/spinach/Image_18.jpg\n",
      "/Users/pranshmaurya/Desktop/AIML_Project/archive/train/lettuce/Image_15.jpg\n",
      "/Users/pranshmaurya/Desktop/AIML_Project/archive/train/lettuce/Image_29.jpg\n",
      "/Users/pranshmaurya/Desktop/AIML_Project/archive/train/lettuce/Image_28.JPG\n",
      "/Users/pranshmaurya/Desktop/AIML_Project/archive/train/lettuce/Image_14.jpg\n",
      "/Users/pranshmaurya/Desktop/AIML_Project/archive/train/lettuce/Image_16.jpg\n",
      "/Users/pranshmaurya/Desktop/AIML_Project/archive/train/lettuce/Image_17.jpg\n",
      "/Users/pranshmaurya/Desktop/AIML_Project/archive/train/lettuce/Image_13.jpg\n",
      "/Users/pranshmaurya/Desktop/AIML_Project/archive/train/lettuce/Image_12.jpg\n",
      "/Users/pranshmaurya/Desktop/AIML_Project/archive/train/lettuce/Image_38.jpg\n",
      "/Users/pranshmaurya/Desktop/AIML_Project/archive/train/lettuce/Image_10.jpg\n",
      "/Users/pranshmaurya/Desktop/AIML_Project/archive/train/lettuce/Image_11.jpg\n",
      "/Users/pranshmaurya/Desktop/AIML_Project/archive/train/lettuce/Image_39.jpg\n",
      "/Users/pranshmaurya/Desktop/AIML_Project/archive/train/lettuce/Image_100.jpeg\n",
      "/Users/pranshmaurya/Desktop/AIML_Project/archive/train/lettuce/Image_76.jpg\n",
      "/Users/pranshmaurya/Desktop/AIML_Project/archive/train/lettuce/Image_62.jpg\n",
      "/Users/pranshmaurya/Desktop/AIML_Project/archive/train/lettuce/Image_89.jpg\n",
      "/Users/pranshmaurya/Desktop/AIML_Project/archive/train/lettuce/Image_88.jpg\n",
      "/Users/pranshmaurya/Desktop/AIML_Project/archive/train/lettuce/Image_63.jpg\n",
      "/Users/pranshmaurya/Desktop/AIML_Project/archive/train/lettuce/Image_77.jpg\n",
      "/Users/pranshmaurya/Desktop/AIML_Project/archive/train/lettuce/Image_61.jpg\n",
      "/Users/pranshmaurya/Desktop/AIML_Project/archive/train/lettuce/Image_8.jpg\n",
      "/Users/pranshmaurya/Desktop/AIML_Project/archive/train/lettuce/Image_49.jpg\n",
      "/Users/pranshmaurya/Desktop/AIML_Project/archive/train/lettuce/Image_23.jpeg\n",
      "/Users/pranshmaurya/Desktop/AIML_Project/archive/train/lettuce/Image_48.jpg\n",
      "/Users/pranshmaurya/Desktop/AIML_Project/archive/train/lettuce/Image_9.jpg\n",
      "/Users/pranshmaurya/Desktop/AIML_Project/archive/train/lettuce/Image_60.jpg\n",
      "/Users/pranshmaurya/Desktop/AIML_Project/archive/train/lettuce/Image_74.png\n",
      "/Users/pranshmaurya/Desktop/AIML_Project/archive/train/lettuce/Image_70.png\n",
      "/Users/pranshmaurya/Desktop/AIML_Project/archive/train/lettuce/Image_58.jpg\n",
      "/Users/pranshmaurya/Desktop/AIML_Project/archive/train/lettuce/Image_64.jpg\n",
      "/Users/pranshmaurya/Desktop/AIML_Project/archive/train/lettuce/Image_71.jpg\n",
      "/Users/pranshmaurya/Desktop/AIML_Project/archive/train/lettuce/Image_65.jpg\n",
      "/Users/pranshmaurya/Desktop/AIML_Project/archive/train/lettuce/Image_73.jpg\n",
      "/Users/pranshmaurya/Desktop/AIML_Project/archive/train/lettuce/Image_67.jpg\n",
      "/Users/pranshmaurya/Desktop/AIML_Project/archive/train/lettuce/Image_98.jpg\n",
      "/Users/pranshmaurya/Desktop/AIML_Project/archive/train/lettuce/Image_99.jpg\n",
      "/Users/pranshmaurya/Desktop/AIML_Project/archive/train/lettuce/Image_66.jpg\n",
      "/Users/pranshmaurya/Desktop/AIML_Project/archive/train/lettuce/Image_72.jpg\n",
      "/Users/pranshmaurya/Desktop/AIML_Project/archive/train/lettuce/Image_57.jpg\n",
      "/Users/pranshmaurya/Desktop/AIML_Project/archive/train/lettuce/Image_2.jpg\n",
      "/Users/pranshmaurya/Desktop/AIML_Project/archive/train/lettuce/Image_43.jpg\n",
      "/Users/pranshmaurya/Desktop/AIML_Project/archive/train/lettuce/Image_94.jpg\n",
      "/Users/pranshmaurya/Desktop/AIML_Project/archive/train/lettuce/Image_80.jpg\n",
      "/Users/pranshmaurya/Desktop/AIML_Project/archive/train/lettuce/Image_95.jpg\n",
      "/Users/pranshmaurya/Desktop/AIML_Project/archive/train/lettuce/Image_42.jpg\n",
      "/Users/pranshmaurya/Desktop/AIML_Project/archive/train/lettuce/Image_56.jpg\n",
      "/Users/pranshmaurya/Desktop/AIML_Project/archive/train/lettuce/Image_3.jpg\n",
      "/Users/pranshmaurya/Desktop/AIML_Project/archive/train/lettuce/Image_81.png\n",
      "/Users/pranshmaurya/Desktop/AIML_Project/archive/train/lettuce/Image_40.jpg\n",
      "/Users/pranshmaurya/Desktop/AIML_Project/archive/train/lettuce/Image_1.jpg\n",
      "/Users/pranshmaurya/Desktop/AIML_Project/archive/train/lettuce/Image_54.jpg\n",
      "/Users/pranshmaurya/Desktop/AIML_Project/archive/train/lettuce/Image_83.jpg\n",
      "/Users/pranshmaurya/Desktop/AIML_Project/archive/train/lettuce/Image_97.jpg\n",
      "/Users/pranshmaurya/Desktop/AIML_Project/archive/train/lettuce/Image_96.jpg\n",
      "/Users/pranshmaurya/Desktop/AIML_Project/archive/train/lettuce/Image_82.jpg\n",
      "/Users/pranshmaurya/Desktop/AIML_Project/archive/train/lettuce/Image_69.jpg\n",
      "/Users/pranshmaurya/Desktop/AIML_Project/archive/train/lettuce/Image_55.jpg\n",
      "/Users/pranshmaurya/Desktop/AIML_Project/archive/train/lettuce/Image_41.jpg\n",
      "/Users/pranshmaurya/Desktop/AIML_Project/archive/train/lettuce/Image_92.png\n",
      "/Users/pranshmaurya/Desktop/AIML_Project/archive/train/lettuce/Image_79.jpg\n",
      "/Users/pranshmaurya/Desktop/AIML_Project/archive/train/lettuce/Image_45.jpg\n",
      "/Users/pranshmaurya/Desktop/AIML_Project/archive/train/lettuce/Image_51.jpg\n",
      "/Users/pranshmaurya/Desktop/AIML_Project/archive/train/lettuce/Image_4.jpg\n",
      "/Users/pranshmaurya/Desktop/AIML_Project/archive/train/lettuce/Image_86.jpg\n",
      "/Users/pranshmaurya/Desktop/AIML_Project/archive/train/lettuce/Image_93.jpg\n",
      "/Users/pranshmaurya/Desktop/AIML_Project/archive/train/lettuce/Image_50.jpg\n",
      "/Users/pranshmaurya/Desktop/AIML_Project/archive/train/lettuce/Image_44.jpg\n",
      "/Users/pranshmaurya/Desktop/AIML_Project/archive/train/lettuce/Image_78.jpg\n",
      "/Users/pranshmaurya/Desktop/AIML_Project/archive/train/lettuce/Image_87.png\n",
      "/Users/pranshmaurya/Desktop/AIML_Project/archive/train/lettuce/Image_7.jpg\n",
      "/Users/pranshmaurya/Desktop/AIML_Project/archive/train/lettuce/Image_52.jpg\n",
      "/Users/pranshmaurya/Desktop/AIML_Project/archive/train/lettuce/Image_46.jpg\n",
      "/Users/pranshmaurya/Desktop/AIML_Project/archive/train/lettuce/Image_91.jpg\n",
      "/Users/pranshmaurya/Desktop/AIML_Project/archive/train/lettuce/Image_85.jpg\n",
      "/Users/pranshmaurya/Desktop/AIML_Project/archive/train/lettuce/Image_84.jpg\n",
      "/Users/pranshmaurya/Desktop/AIML_Project/archive/train/lettuce/Image_90.jpg\n",
      "/Users/pranshmaurya/Desktop/AIML_Project/archive/train/lettuce/Image_47.jpg\n",
      "/Users/pranshmaurya/Desktop/AIML_Project/archive/train/lettuce/Image_6.jpg\n",
      "/Users/pranshmaurya/Desktop/AIML_Project/archive/train/lettuce/Image_53.jpg\n",
      "/Users/pranshmaurya/Desktop/AIML_Project/archive/train/lettuce/Image_34.jpg\n",
      "/Users/pranshmaurya/Desktop/AIML_Project/archive/train/lettuce/Image_20.jpg\n",
      "/Users/pranshmaurya/Desktop/AIML_Project/archive/train/lettuce/Image_21.jpg\n",
      "/Users/pranshmaurya/Desktop/AIML_Project/archive/train/lettuce/Image_35.jpg\n",
      "/Users/pranshmaurya/Desktop/AIML_Project/archive/train/lettuce/Image_37.jpg\n",
      "/Users/pranshmaurya/Desktop/AIML_Project/archive/train/lettuce/Image_36.JPG\n",
      "/Users/pranshmaurya/Desktop/AIML_Project/archive/train/lettuce/Image_22.jpg\n",
      "/Users/pranshmaurya/Desktop/AIML_Project/archive/train/lettuce/Image_5.jpeg\n",
      "/Users/pranshmaurya/Desktop/AIML_Project/archive/train/lettuce/Image_26.jpg\n",
      "/Users/pranshmaurya/Desktop/AIML_Project/archive/train/lettuce/Image_32.jpg\n",
      "/Users/pranshmaurya/Desktop/AIML_Project/archive/train/lettuce/Image_33.jpg\n",
      "/Users/pranshmaurya/Desktop/AIML_Project/archive/train/lettuce/Image_27.jpg\n",
      "/Users/pranshmaurya/Desktop/AIML_Project/archive/train/lettuce/Image_19.jpg\n",
      "/Users/pranshmaurya/Desktop/AIML_Project/archive/train/lettuce/Image_31.jpg\n",
      "/Users/pranshmaurya/Desktop/AIML_Project/archive/train/lettuce/Image_25.jpg\n",
      "/Users/pranshmaurya/Desktop/AIML_Project/archive/train/lettuce/Image_24.jpg\n",
      "/Users/pranshmaurya/Desktop/AIML_Project/archive/train/lettuce/Image_30.jpg\n",
      "/Users/pranshmaurya/Desktop/AIML_Project/archive/train/lettuce/Image_18.jpg\n",
      "/Users/pranshmaurya/Desktop/AIML_Project/archive/train/kiwi/Image_29.png\n",
      "/Users/pranshmaurya/Desktop/AIML_Project/archive/train/kiwi/Image_15.jpg\n",
      "/Users/pranshmaurya/Desktop/AIML_Project/archive/train/kiwi/Image_28.jpg\n",
      "/Users/pranshmaurya/Desktop/AIML_Project/archive/train/kiwi/Image_14.jpg\n",
      "/Users/pranshmaurya/Desktop/AIML_Project/archive/train/kiwi/Image_16.jpg\n",
      "/Users/pranshmaurya/Desktop/AIML_Project/archive/train/kiwi/Image_17.jpg\n",
      "/Users/pranshmaurya/Desktop/AIML_Project/archive/train/kiwi/Image_13.jpg\n",
      "/Users/pranshmaurya/Desktop/AIML_Project/archive/train/kiwi/Image_12.jpg\n",
      "/Users/pranshmaurya/Desktop/AIML_Project/archive/train/kiwi/Image_38.jpg\n",
      "/Users/pranshmaurya/Desktop/AIML_Project/archive/train/kiwi/Image_10.jpg\n",
      "/Users/pranshmaurya/Desktop/AIML_Project/archive/train/kiwi/Image_11.jpg\n",
      "/Users/pranshmaurya/Desktop/AIML_Project/archive/train/kiwi/Image_76.jpg\n",
      "/Users/pranshmaurya/Desktop/AIML_Project/archive/train/kiwi/Image_62.jpg\n",
      "/Users/pranshmaurya/Desktop/AIML_Project/archive/train/kiwi/Image_89.jpg\n",
      "/Users/pranshmaurya/Desktop/AIML_Project/archive/train/kiwi/Image_88.jpg\n",
      "/Users/pranshmaurya/Desktop/AIML_Project/archive/train/kiwi/Image_77.jpg\n",
      "/Users/pranshmaurya/Desktop/AIML_Project/archive/train/kiwi/Image_63.png\n",
      "/Users/pranshmaurya/Desktop/AIML_Project/archive/train/kiwi/Image_61.jpg\n",
      "/Users/pranshmaurya/Desktop/AIML_Project/archive/train/kiwi/Image_75.jpg\n",
      "/Users/pranshmaurya/Desktop/AIML_Project/archive/train/kiwi/Image_8.jpg\n",
      "/Users/pranshmaurya/Desktop/AIML_Project/archive/train/kiwi/Image_49.jpg\n",
      "/Users/pranshmaurya/Desktop/AIML_Project/archive/train/kiwi/Image_48.jpg\n",
      "/Users/pranshmaurya/Desktop/AIML_Project/archive/train/kiwi/Image_9.jpg\n",
      "/Users/pranshmaurya/Desktop/AIML_Project/archive/train/kiwi/Image_60.jpg\n",
      "/Users/pranshmaurya/Desktop/AIML_Project/archive/train/kiwi/Image_64.png\n",
      "/Users/pranshmaurya/Desktop/AIML_Project/archive/train/kiwi/Image_70.jpg\n",
      "/Users/pranshmaurya/Desktop/AIML_Project/archive/train/kiwi/Image_71.jpg\n",
      "/Users/pranshmaurya/Desktop/AIML_Project/archive/train/kiwi/Image_59.jpg\n",
      "/Users/pranshmaurya/Desktop/AIML_Project/archive/train/kiwi/Image_65.png\n",
      "/Users/pranshmaurya/Desktop/AIML_Project/archive/train/kiwi/Image_73.jpg\n",
      "/Users/pranshmaurya/Desktop/AIML_Project/archive/train/kiwi/Image_67.jpg\n",
      "/Users/pranshmaurya/Desktop/AIML_Project/archive/train/kiwi/Image_98.jpg\n",
      "/Users/pranshmaurya/Desktop/AIML_Project/archive/train/kiwi/Image_99.jpg\n",
      "/Users/pranshmaurya/Desktop/AIML_Project/archive/train/kiwi/Image_66.jpg\n",
      "/Users/pranshmaurya/Desktop/AIML_Project/archive/train/kiwi/Image_72.jpg\n",
      "/Users/pranshmaurya/Desktop/AIML_Project/archive/train/kiwi/Image_57.jpg\n",
      "/Users/pranshmaurya/Desktop/AIML_Project/archive/train/kiwi/Image_2.jpg\n",
      "/Users/pranshmaurya/Desktop/AIML_Project/archive/train/kiwi/Image_43.jpg\n",
      "/Users/pranshmaurya/Desktop/AIML_Project/archive/train/kiwi/Image_80.jpg\n",
      "/Users/pranshmaurya/Desktop/AIML_Project/archive/train/kiwi/Image_95.jpg\n",
      "/Users/pranshmaurya/Desktop/AIML_Project/archive/train/kiwi/Image_42.jpg\n",
      "/Users/pranshmaurya/Desktop/AIML_Project/archive/train/kiwi/Image_56.jpg\n",
      "/Users/pranshmaurya/Desktop/AIML_Project/archive/train/kiwi/Image_3.jpg\n",
      "/Users/pranshmaurya/Desktop/AIML_Project/archive/train/kiwi/Image_40.jpg\n",
      "/Users/pranshmaurya/Desktop/AIML_Project/archive/train/kiwi/Image_1.jpg\n",
      "/Users/pranshmaurya/Desktop/AIML_Project/archive/train/kiwi/Image_54.jpg\n",
      "/Users/pranshmaurya/Desktop/AIML_Project/archive/train/kiwi/Image_68.jpg\n",
      "/Users/pranshmaurya/Desktop/AIML_Project/archive/train/kiwi/Image_83.jpg\n",
      "/Users/pranshmaurya/Desktop/AIML_Project/archive/train/kiwi/Image_97.jpg\n",
      "/Users/pranshmaurya/Desktop/AIML_Project/archive/train/kiwi/Image_82.jpg\n",
      "/Users/pranshmaurya/Desktop/AIML_Project/archive/train/kiwi/Image_55.jpg\n",
      "/Users/pranshmaurya/Desktop/AIML_Project/archive/train/kiwi/Image_41.jpg\n",
      "/Users/pranshmaurya/Desktop/AIML_Project/archive/train/kiwi/Image_100.jpg\n",
      "/Users/pranshmaurya/Desktop/AIML_Project/archive/train/kiwi/Image_79.jpg\n",
      "/Users/pranshmaurya/Desktop/AIML_Project/archive/train/kiwi/Image_51.jpg\n",
      "/Users/pranshmaurya/Desktop/AIML_Project/archive/train/kiwi/Image_4.jpg\n",
      "/Users/pranshmaurya/Desktop/AIML_Project/archive/train/kiwi/Image_92.jpg\n",
      "/Users/pranshmaurya/Desktop/AIML_Project/archive/train/kiwi/Image_93.jpg\n",
      "/Users/pranshmaurya/Desktop/AIML_Project/archive/train/kiwi/Image_50.jpg\n",
      "/Users/pranshmaurya/Desktop/AIML_Project/archive/train/kiwi/Image_5.jpg\n",
      "/Users/pranshmaurya/Desktop/AIML_Project/archive/train/kiwi/Image_44.jpg\n",
      "/Users/pranshmaurya/Desktop/AIML_Project/archive/train/kiwi/Image_78.jpg\n",
      "/Users/pranshmaurya/Desktop/AIML_Project/archive/train/kiwi/Image_87.png\n",
      "/Users/pranshmaurya/Desktop/AIML_Project/archive/train/kiwi/Image_7.jpg\n",
      "/Users/pranshmaurya/Desktop/AIML_Project/archive/train/kiwi/Image_52.jpg\n",
      "/Users/pranshmaurya/Desktop/AIML_Project/archive/train/kiwi/Image_85.jpg\n",
      "/Users/pranshmaurya/Desktop/AIML_Project/archive/train/kiwi/Image_84.jpg\n",
      "/Users/pranshmaurya/Desktop/AIML_Project/archive/train/kiwi/Image_90.jpg\n",
      "/Users/pranshmaurya/Desktop/AIML_Project/archive/train/kiwi/Image_6.jpg\n",
      "/Users/pranshmaurya/Desktop/AIML_Project/archive/train/kiwi/Image_53.jpg\n",
      "/Users/pranshmaurya/Desktop/AIML_Project/archive/train/kiwi/Image_34.jpg\n",
      "/Users/pranshmaurya/Desktop/AIML_Project/archive/train/kiwi/Image_20.jpg\n",
      "/Users/pranshmaurya/Desktop/AIML_Project/archive/train/kiwi/Image_21.jpg\n",
      "/Users/pranshmaurya/Desktop/AIML_Project/archive/train/kiwi/Image_35.jpg\n",
      "/Users/pranshmaurya/Desktop/AIML_Project/archive/train/kiwi/Image_37.png\n",
      "/Users/pranshmaurya/Desktop/AIML_Project/archive/train/kiwi/Image_23.jpg\n",
      "/Users/pranshmaurya/Desktop/AIML_Project/archive/train/kiwi/Image_36.jpg\n",
      "/Users/pranshmaurya/Desktop/AIML_Project/archive/train/kiwi/Image_22.jpg\n",
      "/Users/pranshmaurya/Desktop/AIML_Project/archive/train/kiwi/Image_26.jpg\n",
      "/Users/pranshmaurya/Desktop/AIML_Project/archive/train/kiwi/Image_32.jpg\n",
      "/Users/pranshmaurya/Desktop/AIML_Project/archive/train/kiwi/Image_33.jpg\n",
      "/Users/pranshmaurya/Desktop/AIML_Project/archive/train/kiwi/Image_27.jpg\n",
      "/Users/pranshmaurya/Desktop/AIML_Project/archive/train/kiwi/Image_19.jpg\n",
      "/Users/pranshmaurya/Desktop/AIML_Project/archive/train/kiwi/Image_31.jpg\n",
      "/Users/pranshmaurya/Desktop/AIML_Project/archive/train/kiwi/Image_25.jpg\n",
      "/Users/pranshmaurya/Desktop/AIML_Project/archive/train/kiwi/Image_24.jpg\n",
      "/Users/pranshmaurya/Desktop/AIML_Project/archive/train/kiwi/Image_30.jpg\n",
      "/Users/pranshmaurya/Desktop/AIML_Project/archive/train/kiwi/Image_18.jpg\n",
      "/Users/pranshmaurya/Desktop/AIML_Project/archive/train/lemon/Image_33.jpeg\n",
      "/Users/pranshmaurya/Desktop/AIML_Project/archive/train/lemon/Image_15.JPG\n",
      "/Users/pranshmaurya/Desktop/AIML_Project/archive/train/lemon/Image_28.jpg\n",
      "/Users/pranshmaurya/Desktop/AIML_Project/archive/train/lemon/Image_14.jpg\n",
      "/Users/pranshmaurya/Desktop/AIML_Project/archive/train/lemon/Image_16.jpg\n",
      "/Users/pranshmaurya/Desktop/AIML_Project/archive/train/lemon/Image_29.jpeg\n",
      "/Users/pranshmaurya/Desktop/AIML_Project/archive/train/lemon/Image_17.jpg\n",
      "/Users/pranshmaurya/Desktop/AIML_Project/archive/train/lemon/Image_13.jpg\n",
      "/Users/pranshmaurya/Desktop/AIML_Project/archive/train/lemon/Image_12.jpg\n",
      "/Users/pranshmaurya/Desktop/AIML_Project/archive/train/lemon/Image_38.jpg\n",
      "/Users/pranshmaurya/Desktop/AIML_Project/archive/train/lemon/Image_10.jpg\n",
      "/Users/pranshmaurya/Desktop/AIML_Project/archive/train/lemon/Image_11.jpg\n",
      "/Users/pranshmaurya/Desktop/AIML_Project/archive/train/lemon/Image_39.png\n",
      "/Users/pranshmaurya/Desktop/AIML_Project/archive/train/lemon/Image_88.jpg\n",
      "/Users/pranshmaurya/Desktop/AIML_Project/archive/train/lemon/Image_63.jpg\n",
      "/Users/pranshmaurya/Desktop/AIML_Project/archive/train/lemon/Image_77.jpg\n",
      "/Users/pranshmaurya/Desktop/AIML_Project/archive/train/lemon/Image_61.png\n",
      "/Users/pranshmaurya/Desktop/AIML_Project/archive/train/lemon/Image_8.png\n",
      "/Users/pranshmaurya/Desktop/AIML_Project/archive/train/lemon/Image_75.jpg\n",
      "/Users/pranshmaurya/Desktop/AIML_Project/archive/train/lemon/Image_49.jpg\n",
      "/Users/pranshmaurya/Desktop/AIML_Project/archive/train/lemon/Image_48.jpg\n",
      "/Users/pranshmaurya/Desktop/AIML_Project/archive/train/lemon/Image_9.jpg\n",
      "/Users/pranshmaurya/Desktop/AIML_Project/archive/train/lemon/Image_74.jpg\n",
      "/Users/pranshmaurya/Desktop/AIML_Project/archive/train/lemon/Image_60.jpg\n",
      "/Users/pranshmaurya/Desktop/AIML_Project/archive/train/lemon/Image_64.png\n",
      "/Users/pranshmaurya/Desktop/AIML_Project/archive/train/lemon/Image_58.jpg\n",
      "/Users/pranshmaurya/Desktop/AIML_Project/archive/train/lemon/Image_70.jpg\n",
      "/Users/pranshmaurya/Desktop/AIML_Project/archive/train/lemon/Image_71.jpg\n",
      "/Users/pranshmaurya/Desktop/AIML_Project/archive/train/lemon/Image_65.jpg\n",
      "/Users/pranshmaurya/Desktop/AIML_Project/archive/train/lemon/Image_43.jpeg\n",
      "/Users/pranshmaurya/Desktop/AIML_Project/archive/train/lemon/Image_98.jpg\n",
      "/Users/pranshmaurya/Desktop/AIML_Project/archive/train/lemon/Image_99.jpg\n",
      "/Users/pranshmaurya/Desktop/AIML_Project/archive/train/lemon/Image_57.jpg\n",
      "/Users/pranshmaurya/Desktop/AIML_Project/archive/train/lemon/Image_2.jpg\n",
      "/Users/pranshmaurya/Desktop/AIML_Project/archive/train/lemon/Image_94.jpg\n",
      "/Users/pranshmaurya/Desktop/AIML_Project/archive/train/lemon/Image_80.jpg\n",
      "/Users/pranshmaurya/Desktop/AIML_Project/archive/train/lemon/Image_42.jpg\n",
      "/Users/pranshmaurya/Desktop/AIML_Project/archive/train/lemon/Image_56.jpg\n",
      "/Users/pranshmaurya/Desktop/AIML_Project/archive/train/lemon/Image_3.jpg\n",
      "/Users/pranshmaurya/Desktop/AIML_Project/archive/train/lemon/Image_95.png\n",
      "/Users/pranshmaurya/Desktop/AIML_Project/archive/train/lemon/Image_1.png\n",
      "/Users/pranshmaurya/Desktop/AIML_Project/archive/train/lemon/Image_54.jpg\n",
      "/Users/pranshmaurya/Desktop/AIML_Project/archive/train/lemon/Image_97.jpg\n",
      "/Users/pranshmaurya/Desktop/AIML_Project/archive/train/lemon/Image_76.jpeg\n",
      "/Users/pranshmaurya/Desktop/AIML_Project/archive/train/lemon/Image_96.jpg\n",
      "/Users/pranshmaurya/Desktop/AIML_Project/archive/train/lemon/Image_69.jpg\n",
      "/Users/pranshmaurya/Desktop/AIML_Project/archive/train/lemon/Image_55.jpg\n",
      "/Users/pranshmaurya/Desktop/AIML_Project/archive/train/lemon/Image_41.jpg\n",
      "/Users/pranshmaurya/Desktop/AIML_Project/archive/train/lemon/Image_45.png\n",
      "/Users/pranshmaurya/Desktop/AIML_Project/archive/train/lemon/Image_100.png\n",
      "/Users/pranshmaurya/Desktop/AIML_Project/archive/train/lemon/Image_51.jpg\n",
      "/Users/pranshmaurya/Desktop/AIML_Project/archive/train/lemon/Image_4.jpg\n",
      "/Users/pranshmaurya/Desktop/AIML_Project/archive/train/lemon/Image_92.jpg\n",
      "/Users/pranshmaurya/Desktop/AIML_Project/archive/train/lemon/Image_93.jpg\n",
      "/Users/pranshmaurya/Desktop/AIML_Project/archive/train/lemon/Image_50.jpg\n",
      "/Users/pranshmaurya/Desktop/AIML_Project/archive/train/lemon/Image_5.jpg\n",
      "/Users/pranshmaurya/Desktop/AIML_Project/archive/train/lemon/Image_44.jpg\n",
      "/Users/pranshmaurya/Desktop/AIML_Project/archive/train/lemon/Image_78.jpg\n",
      "/Users/pranshmaurya/Desktop/AIML_Project/archive/train/lemon/Image_87.png\n",
      "/Users/pranshmaurya/Desktop/AIML_Project/archive/train/lemon/Image_52.png\n",
      "/Users/pranshmaurya/Desktop/AIML_Project/archive/train/lemon/Image_7.jpg\n",
      "/Users/pranshmaurya/Desktop/AIML_Project/archive/train/lemon/Image_85.jpg\n",
      "/Users/pranshmaurya/Desktop/AIML_Project/archive/train/lemon/Image_84.jpg\n",
      "/Users/pranshmaurya/Desktop/AIML_Project/archive/train/lemon/Image_90.jpg\n",
      "/Users/pranshmaurya/Desktop/AIML_Project/archive/train/lemon/Image_47.jpg\n",
      "/Users/pranshmaurya/Desktop/AIML_Project/archive/train/lemon/Image_53.jpg\n",
      "/Users/pranshmaurya/Desktop/AIML_Project/archive/train/lemon/Image_6.png\n",
      "/Users/pranshmaurya/Desktop/AIML_Project/archive/train/lemon/Image_34.jpg\n",
      "/Users/pranshmaurya/Desktop/AIML_Project/archive/train/lemon/Image_21.jpg\n",
      "/Users/pranshmaurya/Desktop/AIML_Project/archive/train/lemon/Image_35.jpg\n",
      "/Users/pranshmaurya/Desktop/AIML_Project/archive/train/lemon/Image_37.png\n",
      "/Users/pranshmaurya/Desktop/AIML_Project/archive/train/lemon/Image_23.jpg\n",
      "/Users/pranshmaurya/Desktop/AIML_Project/archive/train/lemon/Image_22.jpg\n",
      "/Users/pranshmaurya/Desktop/AIML_Project/archive/train/lemon/Image_36.png\n",
      "/Users/pranshmaurya/Desktop/AIML_Project/archive/train/lemon/Image_32.jpg\n",
      "/Users/pranshmaurya/Desktop/AIML_Project/archive/train/lemon/Image_27.jpg\n",
      "/Users/pranshmaurya/Desktop/AIML_Project/archive/train/lemon/Image_19.jpg\n",
      "/Users/pranshmaurya/Desktop/AIML_Project/archive/train/lemon/Image_31.jpg\n",
      "/Users/pranshmaurya/Desktop/AIML_Project/archive/train/lemon/Image_25.jpg\n",
      "/Users/pranshmaurya/Desktop/AIML_Project/archive/train/lemon/Image_24.jpg\n",
      "/Users/pranshmaurya/Desktop/AIML_Project/archive/train/lemon/Image_30.jpg\n",
      "/Users/pranshmaurya/Desktop/AIML_Project/archive/train/lemon/Image_18.jpg\n",
      "/Users/pranshmaurya/Desktop/AIML_Project/archive/train/onion/Image_15.jpg\n",
      "/Users/pranshmaurya/Desktop/AIML_Project/archive/train/onion/Image_29.jpg\n",
      "/Users/pranshmaurya/Desktop/AIML_Project/archive/train/onion/Image_64.jpeg\n",
      "/Users/pranshmaurya/Desktop/AIML_Project/archive/train/onion/Image_28.jpg\n",
      "/Users/pranshmaurya/Desktop/AIML_Project/archive/train/onion/Image_14.jpg\n",
      "/Users/pranshmaurya/Desktop/AIML_Project/archive/train/onion/Image_16.jpg\n",
      "/Users/pranshmaurya/Desktop/AIML_Project/archive/train/onion/Image_17.jpg\n",
      "/Users/pranshmaurya/Desktop/AIML_Project/archive/train/onion/Image_13.jpg\n",
      "/Users/pranshmaurya/Desktop/AIML_Project/archive/train/onion/Image_12.jpg\n",
      "/Users/pranshmaurya/Desktop/AIML_Project/archive/train/onion/Image_38.jpg\n",
      "/Users/pranshmaurya/Desktop/AIML_Project/archive/train/onion/Image_10.jpg\n",
      "/Users/pranshmaurya/Desktop/AIML_Project/archive/train/onion/Image_11.jpg\n",
      "/Users/pranshmaurya/Desktop/AIML_Project/archive/train/onion/Image_39.jpg\n",
      "/Users/pranshmaurya/Desktop/AIML_Project/archive/train/onion/Image_62.jpg\n",
      "/Users/pranshmaurya/Desktop/AIML_Project/archive/train/onion/Image_89.jpg\n",
      "/Users/pranshmaurya/Desktop/AIML_Project/archive/train/onion/Image_88.jpg\n",
      "/Users/pranshmaurya/Desktop/AIML_Project/archive/train/onion/Image_63.png\n",
      "/Users/pranshmaurya/Desktop/AIML_Project/archive/train/onion/Image_49.png\n",
      "/Users/pranshmaurya/Desktop/AIML_Project/archive/train/onion/Image_61.jpg\n",
      "/Users/pranshmaurya/Desktop/AIML_Project/archive/train/onion/Image_75.jpg\n",
      "/Users/pranshmaurya/Desktop/AIML_Project/archive/train/onion/Image_8.jpg\n",
      "/Users/pranshmaurya/Desktop/AIML_Project/archive/train/onion/Image_48.jpg\n",
      "/Users/pranshmaurya/Desktop/AIML_Project/archive/train/onion/Image_74.jpg\n",
      "/Users/pranshmaurya/Desktop/AIML_Project/archive/train/onion/Image_60.jpg\n",
      "/Users/pranshmaurya/Desktop/AIML_Project/archive/train/onion/Image_9.png\n",
      "/Users/pranshmaurya/Desktop/AIML_Project/archive/train/onion/Image_58.jpg\n",
      "/Users/pranshmaurya/Desktop/AIML_Project/archive/train/onion/Image_70.jpg\n",
      "/Users/pranshmaurya/Desktop/AIML_Project/archive/train/onion/Image_65.jpg\n",
      "/Users/pranshmaurya/Desktop/AIML_Project/archive/train/onion/Image_59.jpg\n",
      "/Users/pranshmaurya/Desktop/AIML_Project/archive/train/onion/Image_71.png\n",
      "/Users/pranshmaurya/Desktop/AIML_Project/archive/train/onion/Image_73.jpg\n",
      "/Users/pranshmaurya/Desktop/AIML_Project/archive/train/onion/Image_98.jpg\n",
      "/Users/pranshmaurya/Desktop/AIML_Project/archive/train/onion/Image_99.jpg\n",
      "/Users/pranshmaurya/Desktop/AIML_Project/archive/train/onion/Image_66.jpg\n",
      "/Users/pranshmaurya/Desktop/AIML_Project/archive/train/onion/Image_72.jpg\n",
      "/Users/pranshmaurya/Desktop/AIML_Project/archive/train/onion/Image_94.png\n",
      "/Users/pranshmaurya/Desktop/AIML_Project/archive/train/onion/Image_2.jpg\n",
      "/Users/pranshmaurya/Desktop/AIML_Project/archive/train/onion/Image_43.jpg\n",
      "/Users/pranshmaurya/Desktop/AIML_Project/archive/train/onion/Image_80.jpg\n",
      "/Users/pranshmaurya/Desktop/AIML_Project/archive/train/onion/Image_81.jpg\n",
      "/Users/pranshmaurya/Desktop/AIML_Project/archive/train/onion/Image_95.jpg\n",
      "/Users/pranshmaurya/Desktop/AIML_Project/archive/train/onion/Image_42.JPG\n",
      "/Users/pranshmaurya/Desktop/AIML_Project/archive/train/onion/Image_56.jpg\n",
      "/Users/pranshmaurya/Desktop/AIML_Project/archive/train/onion/Image_3.jpg\n",
      "/Users/pranshmaurya/Desktop/AIML_Project/archive/train/onion/Image_68.png\n",
      "/Users/pranshmaurya/Desktop/AIML_Project/archive/train/onion/Image_40.jpg\n",
      "/Users/pranshmaurya/Desktop/AIML_Project/archive/train/onion/Image_1.jpg\n",
      "/Users/pranshmaurya/Desktop/AIML_Project/archive/train/onion/Image_54.jpg\n",
      "/Users/pranshmaurya/Desktop/AIML_Project/archive/train/onion/Image_83.jpg\n",
      "/Users/pranshmaurya/Desktop/AIML_Project/archive/train/onion/Image_97.jpg\n",
      "/Users/pranshmaurya/Desktop/AIML_Project/archive/train/onion/Image_96.jpg\n",
      "/Users/pranshmaurya/Desktop/AIML_Project/archive/train/onion/Image_82.jpg\n",
      "/Users/pranshmaurya/Desktop/AIML_Project/archive/train/onion/Image_69.jpg\n",
      "/Users/pranshmaurya/Desktop/AIML_Project/archive/train/onion/Image_55.jpg\n",
      "/Users/pranshmaurya/Desktop/AIML_Project/archive/train/onion/Image_41.jpg\n",
      "/Users/pranshmaurya/Desktop/AIML_Project/archive/train/onion/Image_100.jpg\n",
      "/Users/pranshmaurya/Desktop/AIML_Project/archive/train/onion/Image_79.jpg\n",
      "/Users/pranshmaurya/Desktop/AIML_Project/archive/train/onion/Image_45.jpg\n",
      "/Users/pranshmaurya/Desktop/AIML_Project/archive/train/onion/Image_4.jpg\n",
      "/Users/pranshmaurya/Desktop/AIML_Project/archive/train/onion/Image_86.jpg\n",
      "/Users/pranshmaurya/Desktop/AIML_Project/archive/train/onion/Image_92.jpg\n",
      "/Users/pranshmaurya/Desktop/AIML_Project/archive/train/onion/Image_93.jpg\n",
      "/Users/pranshmaurya/Desktop/AIML_Project/archive/train/onion/Image_87.jpg\n",
      "/Users/pranshmaurya/Desktop/AIML_Project/archive/train/onion/Image_50.jpg\n",
      "/Users/pranshmaurya/Desktop/AIML_Project/archive/train/onion/Image_5.jpg\n",
      "/Users/pranshmaurya/Desktop/AIML_Project/archive/train/onion/Image_78.png\n",
      "/Users/pranshmaurya/Desktop/AIML_Project/archive/train/onion/Image_7.jpg\n",
      "/Users/pranshmaurya/Desktop/AIML_Project/archive/train/onion/Image_52.jpg\n",
      "/Users/pranshmaurya/Desktop/AIML_Project/archive/train/onion/Image_46.jpg\n",
      "/Users/pranshmaurya/Desktop/AIML_Project/archive/train/onion/Image_91.jpg\n",
      "/Users/pranshmaurya/Desktop/AIML_Project/archive/train/onion/Image_85.jpg\n",
      "/Users/pranshmaurya/Desktop/AIML_Project/archive/train/onion/Image_84.jpg\n",
      "/Users/pranshmaurya/Desktop/AIML_Project/archive/train/onion/Image_90.jpg\n",
      "/Users/pranshmaurya/Desktop/AIML_Project/archive/train/onion/Image_47.jpg\n",
      "/Users/pranshmaurya/Desktop/AIML_Project/archive/train/onion/Image_6.jpg\n",
      "/Users/pranshmaurya/Desktop/AIML_Project/archive/train/onion/Image_53.jpg\n",
      "/Users/pranshmaurya/Desktop/AIML_Project/archive/train/onion/Image_34.png\n",
      "/Users/pranshmaurya/Desktop/AIML_Project/archive/train/onion/Image_20.jpg\n",
      "/Users/pranshmaurya/Desktop/AIML_Project/archive/train/onion/Image_21.jpg\n",
      "/Users/pranshmaurya/Desktop/AIML_Project/archive/train/onion/Image_35.png\n",
      "/Users/pranshmaurya/Desktop/AIML_Project/archive/train/onion/Image_37.png\n",
      "/Users/pranshmaurya/Desktop/AIML_Project/archive/train/onion/Image_23.jpg\n",
      "/Users/pranshmaurya/Desktop/AIML_Project/archive/train/onion/Image_36.jpg\n",
      "/Users/pranshmaurya/Desktop/AIML_Project/archive/train/onion/Image_22.jpg\n",
      "/Users/pranshmaurya/Desktop/AIML_Project/archive/train/onion/Image_26.jpg\n",
      "/Users/pranshmaurya/Desktop/AIML_Project/archive/train/onion/Image_32.jpg\n",
      "/Users/pranshmaurya/Desktop/AIML_Project/archive/train/onion/Image_27.jpg\n",
      "/Users/pranshmaurya/Desktop/AIML_Project/archive/train/onion/Image_33.png\n",
      "/Users/pranshmaurya/Desktop/AIML_Project/archive/train/onion/Image_31.png\n",
      "/Users/pranshmaurya/Desktop/AIML_Project/archive/train/onion/Image_19.jpg\n",
      "/Users/pranshmaurya/Desktop/AIML_Project/archive/train/onion/Image_25.jpg\n",
      "/Users/pranshmaurya/Desktop/AIML_Project/archive/train/onion/Image_24.jpg\n",
      "/Users/pranshmaurya/Desktop/AIML_Project/archive/train/onion/Image_30.jpg\n",
      "/Users/pranshmaurya/Desktop/AIML_Project/archive/train/onion/Image_18.jpg\n",
      "/Users/pranshmaurya/Desktop/AIML_Project/archive/train/cauliflower/Image_15.jpg\n",
      "/Users/pranshmaurya/Desktop/AIML_Project/archive/train/cauliflower/Image_29.jpg\n",
      "/Users/pranshmaurya/Desktop/AIML_Project/archive/train/cauliflower/Image_28.jpg\n",
      "/Users/pranshmaurya/Desktop/AIML_Project/archive/train/cauliflower/Image_14.jpg\n",
      "/Users/pranshmaurya/Desktop/AIML_Project/archive/train/cauliflower/Image_16.jpg\n",
      "/Users/pranshmaurya/Desktop/AIML_Project/archive/train/cauliflower/Image_17.jpg\n",
      "/Users/pranshmaurya/Desktop/AIML_Project/archive/train/cauliflower/Image_13.jpg\n",
      "/Users/pranshmaurya/Desktop/AIML_Project/archive/train/cauliflower/Image_12.jpg\n",
      "/Users/pranshmaurya/Desktop/AIML_Project/archive/train/cauliflower/Image_38.jpg\n",
      "/Users/pranshmaurya/Desktop/AIML_Project/archive/train/cauliflower/Image_10.jpg\n",
      "/Users/pranshmaurya/Desktop/AIML_Project/archive/train/cauliflower/Image_11.jpg\n",
      "/Users/pranshmaurya/Desktop/AIML_Project/archive/train/cauliflower/Image_39.png\n",
      "/Users/pranshmaurya/Desktop/AIML_Project/archive/train/cauliflower/Image_76.jpg\n",
      "/Users/pranshmaurya/Desktop/AIML_Project/archive/train/cauliflower/Image_62.jpg\n",
      "/Users/pranshmaurya/Desktop/AIML_Project/archive/train/cauliflower/Image_89.jpg\n",
      "/Users/pranshmaurya/Desktop/AIML_Project/archive/train/cauliflower/Image_88.jpg\n",
      "/Users/pranshmaurya/Desktop/AIML_Project/archive/train/cauliflower/Image_63.jpg\n",
      "/Users/pranshmaurya/Desktop/AIML_Project/archive/train/cauliflower/Image_77.jpg\n",
      "/Users/pranshmaurya/Desktop/AIML_Project/archive/train/cauliflower/Image_61.jpg\n",
      "/Users/pranshmaurya/Desktop/AIML_Project/archive/train/cauliflower/Image_75.jpg\n",
      "/Users/pranshmaurya/Desktop/AIML_Project/archive/train/cauliflower/Image_8.jpg\n",
      "/Users/pranshmaurya/Desktop/AIML_Project/archive/train/cauliflower/Image_49.jpg\n",
      "/Users/pranshmaurya/Desktop/AIML_Project/archive/train/cauliflower/Image_9.jpg\n",
      "/Users/pranshmaurya/Desktop/AIML_Project/archive/train/cauliflower/Image_74.jpg\n",
      "/Users/pranshmaurya/Desktop/AIML_Project/archive/train/cauliflower/Image_60.jpg\n",
      "/Users/pranshmaurya/Desktop/AIML_Project/archive/train/cauliflower/Image_48.png\n",
      "/Users/pranshmaurya/Desktop/AIML_Project/archive/train/cauliflower/Image_58.jpg\n",
      "/Users/pranshmaurya/Desktop/AIML_Project/archive/train/cauliflower/Image_70.jpg\n",
      "/Users/pranshmaurya/Desktop/AIML_Project/archive/train/cauliflower/Image_71.jpg\n",
      "/Users/pranshmaurya/Desktop/AIML_Project/archive/train/cauliflower/Image_65.jpg\n",
      "/Users/pranshmaurya/Desktop/AIML_Project/archive/train/cauliflower/Image_59.jpg\n",
      "/Users/pranshmaurya/Desktop/AIML_Project/archive/train/cauliflower/Image_73.jpg\n",
      "/Users/pranshmaurya/Desktop/AIML_Project/archive/train/cauliflower/Image_98.jpg\n",
      "/Users/pranshmaurya/Desktop/AIML_Project/archive/train/cauliflower/Image_99.jpg\n",
      "/Users/pranshmaurya/Desktop/AIML_Project/archive/train/cauliflower/Image_66.jpg\n",
      "/Users/pranshmaurya/Desktop/AIML_Project/archive/train/cauliflower/Image_57.jpg\n",
      "/Users/pranshmaurya/Desktop/AIML_Project/archive/train/cauliflower/Image_2.jpg\n",
      "/Users/pranshmaurya/Desktop/AIML_Project/archive/train/cauliflower/Image_43.jpg\n",
      "/Users/pranshmaurya/Desktop/AIML_Project/archive/train/cauliflower/Image_95.jpg\n",
      "/Users/pranshmaurya/Desktop/AIML_Project/archive/train/cauliflower/Image_42.jpg\n",
      "/Users/pranshmaurya/Desktop/AIML_Project/archive/train/cauliflower/Image_56.jpg\n",
      "/Users/pranshmaurya/Desktop/AIML_Project/archive/train/cauliflower/Image_3.jpg\n",
      "/Users/pranshmaurya/Desktop/AIML_Project/archive/train/cauliflower/Image_40.jpg\n",
      "/Users/pranshmaurya/Desktop/AIML_Project/archive/train/cauliflower/Image_1.jpg\n",
      "/Users/pranshmaurya/Desktop/AIML_Project/archive/train/cauliflower/Image_97.jpg\n",
      "/Users/pranshmaurya/Desktop/AIML_Project/archive/train/cauliflower/Image_96.jpg\n",
      "/Users/pranshmaurya/Desktop/AIML_Project/archive/train/cauliflower/Image_82.jpg\n",
      "/Users/pranshmaurya/Desktop/AIML_Project/archive/train/cauliflower/Image_55.jpg\n",
      "/Users/pranshmaurya/Desktop/AIML_Project/archive/train/cauliflower/Image_41.jpg\n",
      "/Users/pranshmaurya/Desktop/AIML_Project/archive/train/cauliflower/Image_100.jpg\n",
      "/Users/pranshmaurya/Desktop/AIML_Project/archive/train/cauliflower/Image_4.jpg\n",
      "/Users/pranshmaurya/Desktop/AIML_Project/archive/train/cauliflower/Image_93.jpg\n",
      "/Users/pranshmaurya/Desktop/AIML_Project/archive/train/cauliflower/Image_50.jpg\n",
      "/Users/pranshmaurya/Desktop/AIML_Project/archive/train/cauliflower/Image_5.JPG\n",
      "/Users/pranshmaurya/Desktop/AIML_Project/archive/train/cauliflower/Image_44.jpg\n",
      "/Users/pranshmaurya/Desktop/AIML_Project/archive/train/cauliflower/Image_52.png\n",
      "/Users/pranshmaurya/Desktop/AIML_Project/archive/train/cauliflower/Image_7.jpg\n",
      "/Users/pranshmaurya/Desktop/AIML_Project/archive/train/cauliflower/Image_85.jpg\n",
      "/Users/pranshmaurya/Desktop/AIML_Project/archive/train/cauliflower/Image_47.jpg\n",
      "/Users/pranshmaurya/Desktop/AIML_Project/archive/train/cauliflower/Image_6.jpg\n",
      "/Users/pranshmaurya/Desktop/AIML_Project/archive/train/cauliflower/Image_53.jpg\n",
      "/Users/pranshmaurya/Desktop/AIML_Project/archive/train/cauliflower/Image_34.JPG\n",
      "/Users/pranshmaurya/Desktop/AIML_Project/archive/train/cauliflower/Image_20.jpg\n",
      "/Users/pranshmaurya/Desktop/AIML_Project/archive/train/cauliflower/Image_35.jpg\n",
      "/Users/pranshmaurya/Desktop/AIML_Project/archive/train/cauliflower/Image_21.png\n",
      "/Users/pranshmaurya/Desktop/AIML_Project/archive/train/cauliflower/Image_23.jpg\n",
      "/Users/pranshmaurya/Desktop/AIML_Project/archive/train/cauliflower/Image_37.jpg\n",
      "/Users/pranshmaurya/Desktop/AIML_Project/archive/train/cauliflower/Image_36.jpg\n",
      "/Users/pranshmaurya/Desktop/AIML_Project/archive/train/cauliflower/Image_22.jpg\n",
      "/Users/pranshmaurya/Desktop/AIML_Project/archive/train/cauliflower/Image_26.jpg\n",
      "/Users/pranshmaurya/Desktop/AIML_Project/archive/train/cauliflower/Image_32.jpg\n",
      "/Users/pranshmaurya/Desktop/AIML_Project/archive/train/cauliflower/Image_27.jpg\n",
      "/Users/pranshmaurya/Desktop/AIML_Project/archive/train/cauliflower/Image_33.png\n",
      "/Users/pranshmaurya/Desktop/AIML_Project/archive/train/cauliflower/Image_19.jpg\n",
      "/Users/pranshmaurya/Desktop/AIML_Project/archive/train/cauliflower/Image_31.jpg\n",
      "/Users/pranshmaurya/Desktop/AIML_Project/archive/train/cauliflower/Image_25.JPG\n",
      "/Users/pranshmaurya/Desktop/AIML_Project/archive/train/cauliflower/Image_24.jpg\n",
      "/Users/pranshmaurya/Desktop/AIML_Project/archive/train/cauliflower/Image_30.jpg\n",
      "/Users/pranshmaurya/Desktop/AIML_Project/archive/train/cauliflower/Image_18.jpg\n",
      "/Users/pranshmaurya/Desktop/AIML_Project/archive/train/potato/Image_15.jpg\n",
      "/Users/pranshmaurya/Desktop/AIML_Project/archive/train/potato/Image_29.jpg\n",
      "/Users/pranshmaurya/Desktop/AIML_Project/archive/train/potato/Image_28.jpg\n",
      "/Users/pranshmaurya/Desktop/AIML_Project/archive/train/potato/Image_14.jpg\n",
      "/Users/pranshmaurya/Desktop/AIML_Project/archive/train/potato/Image_16.jpg\n",
      "/Users/pranshmaurya/Desktop/AIML_Project/archive/train/potato/Image_13.jpg\n",
      "/Users/pranshmaurya/Desktop/AIML_Project/archive/train/potato/Image_12.jpg\n",
      "/Users/pranshmaurya/Desktop/AIML_Project/archive/train/potato/Image_38.jpg\n",
      "/Users/pranshmaurya/Desktop/AIML_Project/archive/train/potato/Image_10.jpg\n",
      "/Users/pranshmaurya/Desktop/AIML_Project/archive/train/potato/Image_11.jpg\n",
      "/Users/pranshmaurya/Desktop/AIML_Project/archive/train/potato/Image_76.jpg\n",
      "/Users/pranshmaurya/Desktop/AIML_Project/archive/train/potato/Image_62.jpg\n",
      "/Users/pranshmaurya/Desktop/AIML_Project/archive/train/potato/Image_89.jpg\n",
      "/Users/pranshmaurya/Desktop/AIML_Project/archive/train/potato/Image_63.jpg\n",
      "/Users/pranshmaurya/Desktop/AIML_Project/archive/train/potato/Image_77.jpg\n",
      "/Users/pranshmaurya/Desktop/AIML_Project/archive/train/potato/Image_61.jpg\n",
      "/Users/pranshmaurya/Desktop/AIML_Project/archive/train/potato/Image_8.jpg\n",
      "/Users/pranshmaurya/Desktop/AIML_Project/archive/train/potato/Image_49.jpg\n",
      "/Users/pranshmaurya/Desktop/AIML_Project/archive/train/potato/Image_48.jpg\n",
      "/Users/pranshmaurya/Desktop/AIML_Project/archive/train/potato/Image_74.jpg\n",
      "/Users/pranshmaurya/Desktop/AIML_Project/archive/train/potato/Image_60.jpg\n",
      "/Users/pranshmaurya/Desktop/AIML_Project/archive/train/potato/Image_58.jpg\n",
      "/Users/pranshmaurya/Desktop/AIML_Project/archive/train/potato/Image_64.jpg\n",
      "/Users/pranshmaurya/Desktop/AIML_Project/archive/train/potato/Image_71.jpg\n",
      "/Users/pranshmaurya/Desktop/AIML_Project/archive/train/potato/Image_65.png\n",
      "/Users/pranshmaurya/Desktop/AIML_Project/archive/train/potato/Image_73.jpg\n",
      "/Users/pranshmaurya/Desktop/AIML_Project/archive/train/potato/Image_67.jpg\n",
      "/Users/pranshmaurya/Desktop/AIML_Project/archive/train/potato/Image_98.jpg\n",
      "/Users/pranshmaurya/Desktop/AIML_Project/archive/train/potato/Image_99.JPG\n",
      "/Users/pranshmaurya/Desktop/AIML_Project/archive/train/potato/Image_66.jpg\n",
      "/Users/pranshmaurya/Desktop/AIML_Project/archive/train/potato/Image_72.jpg\n",
      "/Users/pranshmaurya/Desktop/AIML_Project/archive/train/potato/Image_80.png\n",
      "/Users/pranshmaurya/Desktop/AIML_Project/archive/train/potato/Image_57.jpg\n",
      "/Users/pranshmaurya/Desktop/AIML_Project/archive/train/potato/Image_43.jpg\n",
      "/Users/pranshmaurya/Desktop/AIML_Project/archive/train/potato/Image_94.jpg\n",
      "/Users/pranshmaurya/Desktop/AIML_Project/archive/train/potato/Image_81.jpg\n",
      "/Users/pranshmaurya/Desktop/AIML_Project/archive/train/potato/Image_95.jpg\n",
      "/Users/pranshmaurya/Desktop/AIML_Project/archive/train/potato/Image_56.jpg\n",
      "/Users/pranshmaurya/Desktop/AIML_Project/archive/train/potato/Image_3.jpg\n",
      "/Users/pranshmaurya/Desktop/AIML_Project/archive/train/potato/Image_1.jpg\n",
      "/Users/pranshmaurya/Desktop/AIML_Project/archive/train/potato/Image_54.jpg\n",
      "/Users/pranshmaurya/Desktop/AIML_Project/archive/train/potato/Image_68.jpg\n",
      "/Users/pranshmaurya/Desktop/AIML_Project/archive/train/potato/Image_83.jpg\n",
      "/Users/pranshmaurya/Desktop/AIML_Project/archive/train/potato/Image_97.jpg\n",
      "/Users/pranshmaurya/Desktop/AIML_Project/archive/train/potato/Image_82.jpg\n",
      "/Users/pranshmaurya/Desktop/AIML_Project/archive/train/potato/Image_55.jpg\n",
      "/Users/pranshmaurya/Desktop/AIML_Project/archive/train/potato/Image_69.png\n",
      "/Users/pranshmaurya/Desktop/AIML_Project/archive/train/potato/Image_100.jpg\n",
      "/Users/pranshmaurya/Desktop/AIML_Project/archive/train/potato/Image_79.jpg\n",
      "/Users/pranshmaurya/Desktop/AIML_Project/archive/train/potato/Image_45.jpg\n",
      "/Users/pranshmaurya/Desktop/AIML_Project/archive/train/potato/Image_51.jpg\n",
      "/Users/pranshmaurya/Desktop/AIML_Project/archive/train/potato/Image_4.jpg\n",
      "/Users/pranshmaurya/Desktop/AIML_Project/archive/train/potato/Image_86.jpg\n",
      "/Users/pranshmaurya/Desktop/AIML_Project/archive/train/potato/Image_92.jpg\n",
      "/Users/pranshmaurya/Desktop/AIML_Project/archive/train/potato/Image_50.jpg\n",
      "/Users/pranshmaurya/Desktop/AIML_Project/archive/train/potato/Image_5.JPG\n",
      "/Users/pranshmaurya/Desktop/AIML_Project/archive/train/potato/Image_44.jpg\n",
      "/Users/pranshmaurya/Desktop/AIML_Project/archive/train/potato/Image_78.jpg\n",
      "/Users/pranshmaurya/Desktop/AIML_Project/archive/train/potato/Image_46.png\n",
      "/Users/pranshmaurya/Desktop/AIML_Project/archive/train/potato/Image_7.jpg\n",
      "/Users/pranshmaurya/Desktop/AIML_Project/archive/train/potato/Image_52.jpg\n",
      "/Users/pranshmaurya/Desktop/AIML_Project/archive/train/potato/Image_91.jpg\n",
      "/Users/pranshmaurya/Desktop/AIML_Project/archive/train/potato/Image_85.jpg\n",
      "/Users/pranshmaurya/Desktop/AIML_Project/archive/train/potato/Image_47.jpg\n",
      "/Users/pranshmaurya/Desktop/AIML_Project/archive/train/potato/Image_6.jpg\n",
      "/Users/pranshmaurya/Desktop/AIML_Project/archive/train/potato/Image_53.jpg\n",
      "/Users/pranshmaurya/Desktop/AIML_Project/archive/train/potato/Image_90.png\n",
      "/Users/pranshmaurya/Desktop/AIML_Project/archive/train/potato/Image_84.png\n",
      "/Users/pranshmaurya/Desktop/AIML_Project/archive/train/potato/Image_34.jpg\n",
      "/Users/pranshmaurya/Desktop/AIML_Project/archive/train/potato/Image_20.jpg\n",
      "/Users/pranshmaurya/Desktop/AIML_Project/archive/train/potato/Image_23.jpg\n",
      "/Users/pranshmaurya/Desktop/AIML_Project/archive/train/potato/Image_22.png\n",
      "/Users/pranshmaurya/Desktop/AIML_Project/archive/train/potato/Image_32.jpg\n",
      "/Users/pranshmaurya/Desktop/AIML_Project/archive/train/potato/Image_33.jpg\n",
      "/Users/pranshmaurya/Desktop/AIML_Project/archive/train/potato/Image_30.jpeg\n",
      "/Users/pranshmaurya/Desktop/AIML_Project/archive/train/potato/Image_31.jpg\n",
      "/Users/pranshmaurya/Desktop/AIML_Project/archive/train/potato/Image_88.jpeg\n",
      "/Users/pranshmaurya/Desktop/AIML_Project/archive/train/jalepeno/Image_15.png\n",
      "/Users/pranshmaurya/Desktop/AIML_Project/archive/train/jalepeno/Image_29.jpg\n",
      "/Users/pranshmaurya/Desktop/AIML_Project/archive/train/jalepeno/Image_28.jpg\n",
      "/Users/pranshmaurya/Desktop/AIML_Project/archive/train/jalepeno/Image_14.jpg\n",
      "/Users/pranshmaurya/Desktop/AIML_Project/archive/train/jalepeno/Image_16.jpg\n",
      "/Users/pranshmaurya/Desktop/AIML_Project/archive/train/jalepeno/Image_17.jpg\n",
      "/Users/pranshmaurya/Desktop/AIML_Project/archive/train/jalepeno/Image_13.jpg\n",
      "/Users/pranshmaurya/Desktop/AIML_Project/archive/train/jalepeno/Image_12.jpg\n",
      "/Users/pranshmaurya/Desktop/AIML_Project/archive/train/jalepeno/Image_38.jpg\n",
      "/Users/pranshmaurya/Desktop/AIML_Project/archive/train/jalepeno/Image_10.jpg\n",
      "/Users/pranshmaurya/Desktop/AIML_Project/archive/train/jalepeno/Image_39.jpg\n",
      "/Users/pranshmaurya/Desktop/AIML_Project/archive/train/jalepeno/Image_76.png\n",
      "/Users/pranshmaurya/Desktop/AIML_Project/archive/train/jalepeno/Image_62.jpg\n",
      "/Users/pranshmaurya/Desktop/AIML_Project/archive/train/jalepeno/Image_89.jpg\n",
      "/Users/pranshmaurya/Desktop/AIML_Project/archive/train/jalepeno/Image_88.jpg\n",
      "/Users/pranshmaurya/Desktop/AIML_Project/archive/train/jalepeno/Image_63.jpg\n",
      "/Users/pranshmaurya/Desktop/AIML_Project/archive/train/jalepeno/Image_77.jpg\n",
      "/Users/pranshmaurya/Desktop/AIML_Project/archive/train/jalepeno/Image_61.jpg\n",
      "/Users/pranshmaurya/Desktop/AIML_Project/archive/train/jalepeno/Image_75.jpg\n",
      "/Users/pranshmaurya/Desktop/AIML_Project/archive/train/jalepeno/Image_8.jpg\n",
      "/Users/pranshmaurya/Desktop/AIML_Project/archive/train/jalepeno/Image_9.jpg\n",
      "/Users/pranshmaurya/Desktop/AIML_Project/archive/train/jalepeno/Image_74.jpg\n",
      "/Users/pranshmaurya/Desktop/AIML_Project/archive/train/jalepeno/Image_60.jpg\n",
      "/Users/pranshmaurya/Desktop/AIML_Project/archive/train/jalepeno/Image_70.png\n",
      "/Users/pranshmaurya/Desktop/AIML_Project/archive/train/jalepeno/Image_58.jpg\n",
      "/Users/pranshmaurya/Desktop/AIML_Project/archive/train/jalepeno/Image_64.jpg\n",
      "/Users/pranshmaurya/Desktop/AIML_Project/archive/train/jalepeno/Image_71.jpg\n",
      "/Users/pranshmaurya/Desktop/AIML_Project/archive/train/jalepeno/Image_65.jpg\n",
      "/Users/pranshmaurya/Desktop/AIML_Project/archive/train/jalepeno/Image_59.jpg\n",
      "/Users/pranshmaurya/Desktop/AIML_Project/archive/train/jalepeno/Image_67.jpg\n",
      "/Users/pranshmaurya/Desktop/AIML_Project/archive/train/jalepeno/Image_55.jpeg\n",
      "/Users/pranshmaurya/Desktop/AIML_Project/archive/train/jalepeno/Image_99.jpg\n",
      "/Users/pranshmaurya/Desktop/AIML_Project/archive/train/jalepeno/Image_66.jpg\n",
      "/Users/pranshmaurya/Desktop/AIML_Project/archive/train/jalepeno/Image_72.jpg\n",
      "/Users/pranshmaurya/Desktop/AIML_Project/archive/train/jalepeno/Image_1.jpeg\n",
      "/Users/pranshmaurya/Desktop/AIML_Project/archive/train/jalepeno/Image_57.jpg\n",
      "/Users/pranshmaurya/Desktop/AIML_Project/archive/train/jalepeno/Image_2.jpg\n",
      "/Users/pranshmaurya/Desktop/AIML_Project/archive/train/jalepeno/Image_80.jpg\n",
      "/Users/pranshmaurya/Desktop/AIML_Project/archive/train/jalepeno/Image_81.jpg\n",
      "/Users/pranshmaurya/Desktop/AIML_Project/archive/train/jalepeno/Image_42.jpg\n",
      "/Users/pranshmaurya/Desktop/AIML_Project/archive/train/jalepeno/Image_56.jpg\n",
      "/Users/pranshmaurya/Desktop/AIML_Project/archive/train/jalepeno/Image_3.jpg\n",
      "/Users/pranshmaurya/Desktop/AIML_Project/archive/train/jalepeno/Image_40.jpg\n",
      "/Users/pranshmaurya/Desktop/AIML_Project/archive/train/jalepeno/Image_54.jpg\n",
      "/Users/pranshmaurya/Desktop/AIML_Project/archive/train/jalepeno/Image_68.jpg\n",
      "/Users/pranshmaurya/Desktop/AIML_Project/archive/train/jalepeno/Image_83.jpg\n",
      "/Users/pranshmaurya/Desktop/AIML_Project/archive/train/jalepeno/Image_82.jpg\n",
      "/Users/pranshmaurya/Desktop/AIML_Project/archive/train/jalepeno/Image_69.jpg\n",
      "/Users/pranshmaurya/Desktop/AIML_Project/archive/train/jalepeno/Image_41.jpg\n",
      "/Users/pranshmaurya/Desktop/AIML_Project/archive/train/jalepeno/Image_100.jpg\n",
      "/Users/pranshmaurya/Desktop/AIML_Project/archive/train/jalepeno/Image_79.jpg\n",
      "/Users/pranshmaurya/Desktop/AIML_Project/archive/train/jalepeno/Image_45.jpg\n",
      "/Users/pranshmaurya/Desktop/AIML_Project/archive/train/jalepeno/Image_51.jpg\n",
      "/Users/pranshmaurya/Desktop/AIML_Project/archive/train/jalepeno/Image_4.jpg\n",
      "/Users/pranshmaurya/Desktop/AIML_Project/archive/train/jalepeno/Image_98.jpeg\n",
      "/Users/pranshmaurya/Desktop/AIML_Project/archive/train/jalepeno/Image_87.jpg\n",
      "/Users/pranshmaurya/Desktop/AIML_Project/archive/train/jalepeno/Image_50.jpg\n",
      "/Users/pranshmaurya/Desktop/AIML_Project/archive/train/jalepeno/Image_5.jpg\n",
      "/Users/pranshmaurya/Desktop/AIML_Project/archive/train/jalepeno/Image_44.jpg\n",
      "/Users/pranshmaurya/Desktop/AIML_Project/archive/train/jalepeno/Image_78.jpg\n",
      "/Users/pranshmaurya/Desktop/AIML_Project/archive/train/jalepeno/Image_7.jpg\n",
      "/Users/pranshmaurya/Desktop/AIML_Project/archive/train/jalepeno/Image_52.jpg\n",
      "/Users/pranshmaurya/Desktop/AIML_Project/archive/train/jalepeno/Image_46.jpg\n",
      "/Users/pranshmaurya/Desktop/AIML_Project/archive/train/jalepeno/Image_85.jpg\n",
      "/Users/pranshmaurya/Desktop/AIML_Project/archive/train/jalepeno/Image_84.jpg\n",
      "/Users/pranshmaurya/Desktop/AIML_Project/archive/train/jalepeno/Image_90.jpg\n",
      "/Users/pranshmaurya/Desktop/AIML_Project/archive/train/jalepeno/Image_47.jpg\n",
      "/Users/pranshmaurya/Desktop/AIML_Project/archive/train/jalepeno/Image_6.jpg\n",
      "/Users/pranshmaurya/Desktop/AIML_Project/archive/train/jalepeno/Image_53.jpg\n",
      "/Users/pranshmaurya/Desktop/AIML_Project/archive/train/jalepeno/Image_34.jpg\n",
      "/Users/pranshmaurya/Desktop/AIML_Project/archive/train/jalepeno/Image_20.jpg\n",
      "/Users/pranshmaurya/Desktop/AIML_Project/archive/train/jalepeno/Image_21.jpg\n",
      "/Users/pranshmaurya/Desktop/AIML_Project/archive/train/jalepeno/Image_35.jpg\n",
      "/Users/pranshmaurya/Desktop/AIML_Project/archive/train/jalepeno/Image_23.jpg\n",
      "/Users/pranshmaurya/Desktop/AIML_Project/archive/train/jalepeno/Image_37.jpg\n",
      "/Users/pranshmaurya/Desktop/AIML_Project/archive/train/jalepeno/Image_11.jpeg\n",
      "/Users/pranshmaurya/Desktop/AIML_Project/archive/train/jalepeno/Image_36.jpg\n",
      "/Users/pranshmaurya/Desktop/AIML_Project/archive/train/jalepeno/Image_22.jpg\n",
      "/Users/pranshmaurya/Desktop/AIML_Project/archive/train/jalepeno/Image_26.jpg\n",
      "/Users/pranshmaurya/Desktop/AIML_Project/archive/train/jalepeno/Image_32.JPG\n",
      "/Users/pranshmaurya/Desktop/AIML_Project/archive/train/jalepeno/Image_33.jpg\n",
      "/Users/pranshmaurya/Desktop/AIML_Project/archive/train/jalepeno/Image_27.jpg\n",
      "/Users/pranshmaurya/Desktop/AIML_Project/archive/train/jalepeno/Image_19.png\n",
      "/Users/pranshmaurya/Desktop/AIML_Project/archive/train/jalepeno/Image_31.jpg\n",
      "/Users/pranshmaurya/Desktop/AIML_Project/archive/train/jalepeno/Image_25.jpg\n",
      "/Users/pranshmaurya/Desktop/AIML_Project/archive/train/jalepeno/Image_24.jpg\n",
      "/Users/pranshmaurya/Desktop/AIML_Project/archive/train/jalepeno/Image_30.jpg\n",
      "/Users/pranshmaurya/Desktop/AIML_Project/archive/train/jalepeno/Image_18.jpg\n",
      "/Users/pranshmaurya/Desktop/AIML_Project/archive/train/sweetcorn/Image_15.JPG\n",
      "/Users/pranshmaurya/Desktop/AIML_Project/archive/train/sweetcorn/Image_29.jpg\n",
      "/Users/pranshmaurya/Desktop/AIML_Project/archive/train/sweetcorn/Image_28.JPG\n",
      "/Users/pranshmaurya/Desktop/AIML_Project/archive/train/sweetcorn/Image_14.jpg\n",
      "/Users/pranshmaurya/Desktop/AIML_Project/archive/train/sweetcorn/Image_16.JPG\n",
      "/Users/pranshmaurya/Desktop/AIML_Project/archive/train/sweetcorn/Image_17.jpg\n",
      "/Users/pranshmaurya/Desktop/AIML_Project/archive/train/sweetcorn/Image_13.jpg\n",
      "/Users/pranshmaurya/Desktop/AIML_Project/archive/train/sweetcorn/Image_12.jpg\n",
      "/Users/pranshmaurya/Desktop/AIML_Project/archive/train/sweetcorn/Image_38.jpg\n",
      "/Users/pranshmaurya/Desktop/AIML_Project/archive/train/sweetcorn/Image_10.jpg\n",
      "/Users/pranshmaurya/Desktop/AIML_Project/archive/train/sweetcorn/Image_11.jpg\n",
      "/Users/pranshmaurya/Desktop/AIML_Project/archive/train/sweetcorn/Image_39.jpg\n",
      "/Users/pranshmaurya/Desktop/AIML_Project/archive/train/sweetcorn/Image_76.jpg\n",
      "/Users/pranshmaurya/Desktop/AIML_Project/archive/train/sweetcorn/Image_62.jpg\n",
      "/Users/pranshmaurya/Desktop/AIML_Project/archive/train/sweetcorn/Image_89.jpg\n",
      "/Users/pranshmaurya/Desktop/AIML_Project/archive/train/sweetcorn/Image_88.jpg\n",
      "/Users/pranshmaurya/Desktop/AIML_Project/archive/train/sweetcorn/Image_63.jpg\n",
      "/Users/pranshmaurya/Desktop/AIML_Project/archive/train/sweetcorn/Image_77.jpg\n",
      "/Users/pranshmaurya/Desktop/AIML_Project/archive/train/sweetcorn/Image_75.png\n",
      "/Users/pranshmaurya/Desktop/AIML_Project/archive/train/sweetcorn/Image_61.jpg\n",
      "/Users/pranshmaurya/Desktop/AIML_Project/archive/train/sweetcorn/Image_8.jpg\n",
      "/Users/pranshmaurya/Desktop/AIML_Project/archive/train/sweetcorn/Image_48.jpg\n",
      "/Users/pranshmaurya/Desktop/AIML_Project/archive/train/sweetcorn/Image_9.jpg\n",
      "/Users/pranshmaurya/Desktop/AIML_Project/archive/train/sweetcorn/Image_74.jpg\n",
      "/Users/pranshmaurya/Desktop/AIML_Project/archive/train/sweetcorn/Image_60.jpg\n",
      "/Users/pranshmaurya/Desktop/AIML_Project/archive/train/sweetcorn/Image_64.png\n",
      "/Users/pranshmaurya/Desktop/AIML_Project/archive/train/sweetcorn/Image_58.jpg\n",
      "/Users/pranshmaurya/Desktop/AIML_Project/archive/train/sweetcorn/Image_70.jpg\n",
      "/Users/pranshmaurya/Desktop/AIML_Project/archive/train/sweetcorn/Image_71.jpg\n",
      "/Users/pranshmaurya/Desktop/AIML_Project/archive/train/sweetcorn/Image_65.jpg\n",
      "/Users/pranshmaurya/Desktop/AIML_Project/archive/train/sweetcorn/Image_59.jpg\n",
      "/Users/pranshmaurya/Desktop/AIML_Project/archive/train/sweetcorn/Image_67.jpg\n",
      "/Users/pranshmaurya/Desktop/AIML_Project/archive/train/sweetcorn/Image_98.jpg\n",
      "/Users/pranshmaurya/Desktop/AIML_Project/archive/train/sweetcorn/Image_99.jpg\n",
      "/Users/pranshmaurya/Desktop/AIML_Project/archive/train/sweetcorn/Image_66.jpg\n",
      "/Users/pranshmaurya/Desktop/AIML_Project/archive/train/sweetcorn/Image_72.jpg\n",
      "/Users/pranshmaurya/Desktop/AIML_Project/archive/train/sweetcorn/Image_57.jpg\n",
      "/Users/pranshmaurya/Desktop/AIML_Project/archive/train/sweetcorn/Image_2.jpg\n",
      "/Users/pranshmaurya/Desktop/AIML_Project/archive/train/sweetcorn/Image_43.jpg\n",
      "/Users/pranshmaurya/Desktop/AIML_Project/archive/train/sweetcorn/Image_94.jpg\n",
      "/Users/pranshmaurya/Desktop/AIML_Project/archive/train/sweetcorn/Image_80.jpg\n",
      "/Users/pranshmaurya/Desktop/AIML_Project/archive/train/sweetcorn/Image_95.jpg\n",
      "/Users/pranshmaurya/Desktop/AIML_Project/archive/train/sweetcorn/Image_42.jpg\n",
      "/Users/pranshmaurya/Desktop/AIML_Project/archive/train/sweetcorn/Image_3.jpg\n",
      "/Users/pranshmaurya/Desktop/AIML_Project/archive/train/sweetcorn/Image_56.png\n",
      "/Users/pranshmaurya/Desktop/AIML_Project/archive/train/sweetcorn/Image_40.jpg\n",
      "/Users/pranshmaurya/Desktop/AIML_Project/archive/train/sweetcorn/Image_1.jpg\n",
      "/Users/pranshmaurya/Desktop/AIML_Project/archive/train/sweetcorn/Image_54.jpg\n",
      "/Users/pranshmaurya/Desktop/AIML_Project/archive/train/sweetcorn/Image_83.jpg\n",
      "/Users/pranshmaurya/Desktop/AIML_Project/archive/train/sweetcorn/Image_97.jpg\n",
      "/Users/pranshmaurya/Desktop/AIML_Project/archive/train/sweetcorn/Image_96.jpg\n",
      "/Users/pranshmaurya/Desktop/AIML_Project/archive/train/sweetcorn/Image_69.jpg\n",
      "/Users/pranshmaurya/Desktop/AIML_Project/archive/train/sweetcorn/Image_41.jpg\n",
      "/Users/pranshmaurya/Desktop/AIML_Project/archive/train/sweetcorn/Image_55.png\n",
      "/Users/pranshmaurya/Desktop/AIML_Project/archive/train/sweetcorn/Image_100.jpg\n",
      "/Users/pranshmaurya/Desktop/AIML_Project/archive/train/sweetcorn/Image_79.jpg\n",
      "/Users/pranshmaurya/Desktop/AIML_Project/archive/train/sweetcorn/Image_45.jpg\n",
      "/Users/pranshmaurya/Desktop/AIML_Project/archive/train/sweetcorn/Image_51.jpg\n",
      "/Users/pranshmaurya/Desktop/AIML_Project/archive/train/sweetcorn/Image_4.jpg\n",
      "/Users/pranshmaurya/Desktop/AIML_Project/archive/train/sweetcorn/Image_93.jpg\n",
      "/Users/pranshmaurya/Desktop/AIML_Project/archive/train/sweetcorn/Image_87.jpg\n",
      "/Users/pranshmaurya/Desktop/AIML_Project/archive/train/sweetcorn/Image_50.jpg\n",
      "/Users/pranshmaurya/Desktop/AIML_Project/archive/train/sweetcorn/Image_5.jpg\n",
      "/Users/pranshmaurya/Desktop/AIML_Project/archive/train/sweetcorn/Image_44.jpg\n",
      "/Users/pranshmaurya/Desktop/AIML_Project/archive/train/sweetcorn/Image_78.jpg\n",
      "/Users/pranshmaurya/Desktop/AIML_Project/archive/train/sweetcorn/Image_7.jpg\n",
      "/Users/pranshmaurya/Desktop/AIML_Project/archive/train/sweetcorn/Image_52.jpg\n",
      "/Users/pranshmaurya/Desktop/AIML_Project/archive/train/sweetcorn/Image_46.jpg\n",
      "/Users/pranshmaurya/Desktop/AIML_Project/archive/train/sweetcorn/Image_85.jpg\n",
      "/Users/pranshmaurya/Desktop/AIML_Project/archive/train/sweetcorn/Image_84.jpg\n",
      "/Users/pranshmaurya/Desktop/AIML_Project/archive/train/sweetcorn/Image_90.jpg\n",
      "/Users/pranshmaurya/Desktop/AIML_Project/archive/train/sweetcorn/Image_47.jpg\n",
      "/Users/pranshmaurya/Desktop/AIML_Project/archive/train/sweetcorn/Image_6.jpg\n",
      "/Users/pranshmaurya/Desktop/AIML_Project/archive/train/sweetcorn/Image_53.jpg\n",
      "/Users/pranshmaurya/Desktop/AIML_Project/archive/train/sweetcorn/Image_34.jpg\n",
      "/Users/pranshmaurya/Desktop/AIML_Project/archive/train/sweetcorn/Image_20.jpg\n",
      "/Users/pranshmaurya/Desktop/AIML_Project/archive/train/sweetcorn/Image_21.jpg\n",
      "/Users/pranshmaurya/Desktop/AIML_Project/archive/train/sweetcorn/Image_35.jpg\n",
      "/Users/pranshmaurya/Desktop/AIML_Project/archive/train/sweetcorn/Image_23.jpg\n",
      "/Users/pranshmaurya/Desktop/AIML_Project/archive/train/sweetcorn/Image_37.jpg\n",
      "/Users/pranshmaurya/Desktop/AIML_Project/archive/train/sweetcorn/Image_36.jpg\n",
      "/Users/pranshmaurya/Desktop/AIML_Project/archive/train/sweetcorn/Image_22.jpg\n",
      "/Users/pranshmaurya/Desktop/AIML_Project/archive/train/sweetcorn/Image_26.jpg\n",
      "/Users/pranshmaurya/Desktop/AIML_Project/archive/train/sweetcorn/Image_32.jpg\n",
      "/Users/pranshmaurya/Desktop/AIML_Project/archive/train/sweetcorn/Image_33.jpg\n",
      "/Users/pranshmaurya/Desktop/AIML_Project/archive/train/sweetcorn/Image_27.jpg\n",
      "/Users/pranshmaurya/Desktop/AIML_Project/archive/train/sweetcorn/Image_19.jpg\n",
      "/Users/pranshmaurya/Desktop/AIML_Project/archive/train/sweetcorn/Image_31.jpg\n",
      "/Users/pranshmaurya/Desktop/AIML_Project/archive/train/sweetcorn/Image_25.jpg\n",
      "/Users/pranshmaurya/Desktop/AIML_Project/archive/train/sweetcorn/Image_24.jpg\n",
      "/Users/pranshmaurya/Desktop/AIML_Project/archive/train/sweetcorn/Image_30.png\n",
      "/Users/pranshmaurya/Desktop/AIML_Project/archive/train/cucumber/Image_15.jpg\n",
      "/Users/pranshmaurya/Desktop/AIML_Project/archive/train/cucumber/Image_29.jpg\n",
      "/Users/pranshmaurya/Desktop/AIML_Project/archive/train/cucumber/Image_28.jpg\n",
      "/Users/pranshmaurya/Desktop/AIML_Project/archive/train/cucumber/Image_14.jpg\n",
      "/Users/pranshmaurya/Desktop/AIML_Project/archive/train/cucumber/Image_16.jpg\n",
      "/Users/pranshmaurya/Desktop/AIML_Project/archive/train/cucumber/Image_91.jpeg\n",
      "/Users/pranshmaurya/Desktop/AIML_Project/archive/train/cucumber/Image_17.jpg\n",
      "/Users/pranshmaurya/Desktop/AIML_Project/archive/train/cucumber/Image_13.JPG\n",
      "/Users/pranshmaurya/Desktop/AIML_Project/archive/train/cucumber/Image_12.jpg\n",
      "/Users/pranshmaurya/Desktop/AIML_Project/archive/train/cucumber/Image_38.png\n",
      "/Users/pranshmaurya/Desktop/AIML_Project/archive/train/cucumber/Image_10.jpg\n",
      "/Users/pranshmaurya/Desktop/AIML_Project/archive/train/cucumber/Image_11.jpg\n",
      "/Users/pranshmaurya/Desktop/AIML_Project/archive/train/cucumber/Image_39.jpg\n",
      "/Users/pranshmaurya/Desktop/AIML_Project/archive/train/cucumber/Image_76.JPG\n",
      "/Users/pranshmaurya/Desktop/AIML_Project/archive/train/cucumber/Image_89.jpg\n",
      "/Users/pranshmaurya/Desktop/AIML_Project/archive/train/cucumber/Image_88.jpg\n",
      "/Users/pranshmaurya/Desktop/AIML_Project/archive/train/cucumber/Image_63.jpg\n",
      "/Users/pranshmaurya/Desktop/AIML_Project/archive/train/cucumber/Image_77.jpg\n",
      "/Users/pranshmaurya/Desktop/AIML_Project/archive/train/cucumber/Image_61.jpg\n",
      "/Users/pranshmaurya/Desktop/AIML_Project/archive/train/cucumber/Image_75.jpg\n",
      "/Users/pranshmaurya/Desktop/AIML_Project/archive/train/cucumber/Image_8.jpg\n",
      "/Users/pranshmaurya/Desktop/AIML_Project/archive/train/cucumber/Image_49.JPG\n",
      "/Users/pranshmaurya/Desktop/AIML_Project/archive/train/cucumber/Image_48.jpg\n",
      "/Users/pranshmaurya/Desktop/AIML_Project/archive/train/cucumber/Image_9.jpg\n",
      "/Users/pranshmaurya/Desktop/AIML_Project/archive/train/cucumber/Image_74.jpg\n",
      "/Users/pranshmaurya/Desktop/AIML_Project/archive/train/cucumber/Image_58.jpg\n",
      "/Users/pranshmaurya/Desktop/AIML_Project/archive/train/cucumber/Image_64.jpg\n",
      "/Users/pranshmaurya/Desktop/AIML_Project/archive/train/cucumber/Image_70.jpg\n",
      "/Users/pranshmaurya/Desktop/AIML_Project/archive/train/cucumber/Image_71.jpg\n",
      "/Users/pranshmaurya/Desktop/AIML_Project/archive/train/cucumber/Image_59.png\n",
      "/Users/pranshmaurya/Desktop/AIML_Project/archive/train/cucumber/Image_73.jpg\n",
      "/Users/pranshmaurya/Desktop/AIML_Project/archive/train/cucumber/Image_98.jpg\n",
      "/Users/pranshmaurya/Desktop/AIML_Project/archive/train/cucumber/Image_99.jpg\n",
      "/Users/pranshmaurya/Desktop/AIML_Project/archive/train/cucumber/Image_66.jpg\n",
      "/Users/pranshmaurya/Desktop/AIML_Project/archive/train/cucumber/Image_80.jpeg\n",
      "/Users/pranshmaurya/Desktop/AIML_Project/archive/train/cucumber/Image_57.jpg\n",
      "/Users/pranshmaurya/Desktop/AIML_Project/archive/train/cucumber/Image_2.jpg\n",
      "/Users/pranshmaurya/Desktop/AIML_Project/archive/train/cucumber/Image_43.jpg\n",
      "/Users/pranshmaurya/Desktop/AIML_Project/archive/train/cucumber/Image_94.jpg\n",
      "/Users/pranshmaurya/Desktop/AIML_Project/archive/train/cucumber/Image_81.jpg\n",
      "/Users/pranshmaurya/Desktop/AIML_Project/archive/train/cucumber/Image_95.jpg\n",
      "/Users/pranshmaurya/Desktop/AIML_Project/archive/train/cucumber/Image_56.jpg\n",
      "/Users/pranshmaurya/Desktop/AIML_Project/archive/train/cucumber/Image_3.jpg\n",
      "/Users/pranshmaurya/Desktop/AIML_Project/archive/train/cucumber/Image_42.png\n",
      "/Users/pranshmaurya/Desktop/AIML_Project/archive/train/cucumber/Image_54.png\n",
      "/Users/pranshmaurya/Desktop/AIML_Project/archive/train/cucumber/Image_40.jpg\n",
      "/Users/pranshmaurya/Desktop/AIML_Project/archive/train/cucumber/Image_1.jpg\n",
      "/Users/pranshmaurya/Desktop/AIML_Project/archive/train/cucumber/Image_68.jpg\n",
      "/Users/pranshmaurya/Desktop/AIML_Project/archive/train/cucumber/Image_83.jpg\n",
      "/Users/pranshmaurya/Desktop/AIML_Project/archive/train/cucumber/Image_97.jpg\n",
      "/Users/pranshmaurya/Desktop/AIML_Project/archive/train/cucumber/Image_96.jpg\n",
      "/Users/pranshmaurya/Desktop/AIML_Project/archive/train/cucumber/Image_69.jpg\n",
      "/Users/pranshmaurya/Desktop/AIML_Project/archive/train/cucumber/Image_41.png\n",
      "/Users/pranshmaurya/Desktop/AIML_Project/archive/train/cucumber/Image_55.png\n",
      "/Users/pranshmaurya/Desktop/AIML_Project/archive/train/cucumber/Image_82.png\n",
      "/Users/pranshmaurya/Desktop/AIML_Project/archive/train/cucumber/Image_100.jpg\n",
      "/Users/pranshmaurya/Desktop/AIML_Project/archive/train/cucumber/Image_36.jpeg\n",
      "/Users/pranshmaurya/Desktop/AIML_Project/archive/train/cucumber/Image_79.jpg\n",
      "/Users/pranshmaurya/Desktop/AIML_Project/archive/train/cucumber/Image_45.jpg\n",
      "/Users/pranshmaurya/Desktop/AIML_Project/archive/train/cucumber/Image_4.jpg\n",
      "/Users/pranshmaurya/Desktop/AIML_Project/archive/train/cucumber/Image_86.jpg\n",
      "/Users/pranshmaurya/Desktop/AIML_Project/archive/train/cucumber/Image_92.JPG\n",
      "/Users/pranshmaurya/Desktop/AIML_Project/archive/train/cucumber/Image_93.jpg\n",
      "/Users/pranshmaurya/Desktop/AIML_Project/archive/train/cucumber/Image_87.jpg\n",
      "/Users/pranshmaurya/Desktop/AIML_Project/archive/train/cucumber/Image_50.JPG\n",
      "/Users/pranshmaurya/Desktop/AIML_Project/archive/train/cucumber/Image_5.jpg\n",
      "/Users/pranshmaurya/Desktop/AIML_Project/archive/train/cucumber/Image_44.jpg\n",
      "/Users/pranshmaurya/Desktop/AIML_Project/archive/train/cucumber/Image_78.jpg\n",
      "/Users/pranshmaurya/Desktop/AIML_Project/archive/train/cucumber/Image_7.jpg\n",
      "/Users/pranshmaurya/Desktop/AIML_Project/archive/train/cucumber/Image_52.jpg\n",
      "/Users/pranshmaurya/Desktop/AIML_Project/archive/train/cucumber/Image_46.jpg\n",
      "/Users/pranshmaurya/Desktop/AIML_Project/archive/train/cucumber/Image_85.jpg\n",
      "/Users/pranshmaurya/Desktop/AIML_Project/archive/train/cucumber/Image_84.jpg\n",
      "/Users/pranshmaurya/Desktop/AIML_Project/archive/train/cucumber/Image_90.jpg\n",
      "/Users/pranshmaurya/Desktop/AIML_Project/archive/train/cucumber/Image_47.jpg\n",
      "/Users/pranshmaurya/Desktop/AIML_Project/archive/train/cucumber/Image_6.jpg\n",
      "/Users/pranshmaurya/Desktop/AIML_Project/archive/train/cucumber/Image_53.JPG\n",
      "/Users/pranshmaurya/Desktop/AIML_Project/archive/train/cucumber/Image_34.jpg\n",
      "/Users/pranshmaurya/Desktop/AIML_Project/archive/train/cucumber/Image_20.jpg\n",
      "/Users/pranshmaurya/Desktop/AIML_Project/archive/train/cucumber/Image_21.jpg\n",
      "/Users/pranshmaurya/Desktop/AIML_Project/archive/train/cucumber/Image_35.jpg\n",
      "/Users/pranshmaurya/Desktop/AIML_Project/archive/train/cucumber/Image_23.jpg\n",
      "/Users/pranshmaurya/Desktop/AIML_Project/archive/train/cucumber/Image_37.jpg\n",
      "/Users/pranshmaurya/Desktop/AIML_Project/archive/train/cucumber/Image_22.jpg\n",
      "/Users/pranshmaurya/Desktop/AIML_Project/archive/train/cucumber/Image_26.jpg\n",
      "/Users/pranshmaurya/Desktop/AIML_Project/archive/train/cucumber/Image_32.jpg\n",
      "/Users/pranshmaurya/Desktop/AIML_Project/archive/train/cucumber/Image_33.jpg\n",
      "/Users/pranshmaurya/Desktop/AIML_Project/archive/train/cucumber/Image_27.jpg\n",
      "/Users/pranshmaurya/Desktop/AIML_Project/archive/train/cucumber/Image_19.jpg\n",
      "/Users/pranshmaurya/Desktop/AIML_Project/archive/train/cucumber/Image_31.jpg\n",
      "/Users/pranshmaurya/Desktop/AIML_Project/archive/train/cucumber/Image_25.jpg\n",
      "/Users/pranshmaurya/Desktop/AIML_Project/archive/train/cucumber/Image_24.jpg\n",
      "/Users/pranshmaurya/Desktop/AIML_Project/archive/train/cucumber/Image_30.jpg\n",
      "/Users/pranshmaurya/Desktop/AIML_Project/archive/train/cucumber/Image_18.jpg\n",
      "/Users/pranshmaurya/Desktop/AIML_Project/archive/train/paprika/Image_15.jpg\n",
      "/Users/pranshmaurya/Desktop/AIML_Project/archive/train/paprika/Image_29.jpg\n",
      "/Users/pranshmaurya/Desktop/AIML_Project/archive/train/paprika/Image_28.jpg\n",
      "/Users/pranshmaurya/Desktop/AIML_Project/archive/train/paprika/Image_14.png\n",
      "/Users/pranshmaurya/Desktop/AIML_Project/archive/train/paprika/Image_16.jpg\n",
      "/Users/pranshmaurya/Desktop/AIML_Project/archive/train/paprika/Image_17.jpg\n",
      "/Users/pranshmaurya/Desktop/AIML_Project/archive/train/paprika/Image_13.jpg\n",
      "/Users/pranshmaurya/Desktop/AIML_Project/archive/train/paprika/Image_12.jpg\n",
      "/Users/pranshmaurya/Desktop/AIML_Project/archive/train/paprika/Image_38.jpg\n",
      "/Users/pranshmaurya/Desktop/AIML_Project/archive/train/paprika/Image_11.jpg\n",
      "/Users/pranshmaurya/Desktop/AIML_Project/archive/train/paprika/Image_39.jpg\n",
      "/Users/pranshmaurya/Desktop/AIML_Project/archive/train/paprika/Image_89.jpg\n",
      "/Users/pranshmaurya/Desktop/AIML_Project/archive/train/paprika/Image_63.jpg\n",
      "/Users/pranshmaurya/Desktop/AIML_Project/archive/train/paprika/Image_77.jpg\n",
      "/Users/pranshmaurya/Desktop/AIML_Project/archive/train/paprika/Image_61.jpg\n",
      "/Users/pranshmaurya/Desktop/AIML_Project/archive/train/paprika/Image_75.jpg\n",
      "/Users/pranshmaurya/Desktop/AIML_Project/archive/train/paprika/Image_8.jpg\n",
      "/Users/pranshmaurya/Desktop/AIML_Project/archive/train/paprika/Image_9.jpg\n",
      "/Users/pranshmaurya/Desktop/AIML_Project/archive/train/paprika/Image_74.jpg\n",
      "/Users/pranshmaurya/Desktop/AIML_Project/archive/train/paprika/Image_60.jpg\n",
      "/Users/pranshmaurya/Desktop/AIML_Project/archive/train/paprika/Image_58.jpg\n",
      "/Users/pranshmaurya/Desktop/AIML_Project/archive/train/paprika/Image_64.jpg\n",
      "/Users/pranshmaurya/Desktop/AIML_Project/archive/train/paprika/Image_18.jpeg\n",
      "/Users/pranshmaurya/Desktop/AIML_Project/archive/train/paprika/Image_70.jpg\n",
      "/Users/pranshmaurya/Desktop/AIML_Project/archive/train/paprika/Image_71.jpg\n",
      "/Users/pranshmaurya/Desktop/AIML_Project/archive/train/paprika/Image_65.jpg\n",
      "/Users/pranshmaurya/Desktop/AIML_Project/archive/train/paprika/Image_59.jpg\n",
      "/Users/pranshmaurya/Desktop/AIML_Project/archive/train/paprika/Image_73.jpg\n",
      "/Users/pranshmaurya/Desktop/AIML_Project/archive/train/paprika/Image_67.jpg\n",
      "/Users/pranshmaurya/Desktop/AIML_Project/archive/train/paprika/Image_98.jpg\n",
      "/Users/pranshmaurya/Desktop/AIML_Project/archive/train/paprika/Image_99.jpg\n",
      "/Users/pranshmaurya/Desktop/AIML_Project/archive/train/paprika/Image_66.jpg\n",
      "/Users/pranshmaurya/Desktop/AIML_Project/archive/train/paprika/Image_72.jpg\n",
      "/Users/pranshmaurya/Desktop/AIML_Project/archive/train/paprika/Image_57.jpg\n",
      "/Users/pranshmaurya/Desktop/AIML_Project/archive/train/paprika/Image_2.jpg\n",
      "/Users/pranshmaurya/Desktop/AIML_Project/archive/train/paprika/Image_94.jpg\n",
      "/Users/pranshmaurya/Desktop/AIML_Project/archive/train/paprika/Image_80.jpg\n",
      "/Users/pranshmaurya/Desktop/AIML_Project/archive/train/paprika/Image_81.jpg\n",
      "/Users/pranshmaurya/Desktop/AIML_Project/archive/train/paprika/Image_95.jpg\n",
      "/Users/pranshmaurya/Desktop/AIML_Project/archive/train/paprika/Image_42.jpg\n",
      "/Users/pranshmaurya/Desktop/AIML_Project/archive/train/paprika/Image_56.jpg\n",
      "/Users/pranshmaurya/Desktop/AIML_Project/archive/train/paprika/Image_3.jpg\n",
      "/Users/pranshmaurya/Desktop/AIML_Project/archive/train/paprika/Image_40.jpg\n",
      "/Users/pranshmaurya/Desktop/AIML_Project/archive/train/paprika/Image_1.jpg\n",
      "/Users/pranshmaurya/Desktop/AIML_Project/archive/train/paprika/Image_68.jpg\n",
      "/Users/pranshmaurya/Desktop/AIML_Project/archive/train/paprika/Image_83.jpg\n",
      "/Users/pranshmaurya/Desktop/AIML_Project/archive/train/paprika/Image_97.jpg\n",
      "/Users/pranshmaurya/Desktop/AIML_Project/archive/train/paprika/Image_96.jpg\n",
      "/Users/pranshmaurya/Desktop/AIML_Project/archive/train/paprika/Image_82.jpg\n",
      "/Users/pranshmaurya/Desktop/AIML_Project/archive/train/paprika/Image_55.JPG\n",
      "/Users/pranshmaurya/Desktop/AIML_Project/archive/train/paprika/Image_41.jpg\n",
      "/Users/pranshmaurya/Desktop/AIML_Project/archive/train/paprika/Image_86.png\n",
      "/Users/pranshmaurya/Desktop/AIML_Project/archive/train/paprika/Image_100.jpg\n",
      "/Users/pranshmaurya/Desktop/AIML_Project/archive/train/paprika/Image_36.jpeg\n",
      "/Users/pranshmaurya/Desktop/AIML_Project/archive/train/paprika/Image_79.jpg\n",
      "/Users/pranshmaurya/Desktop/AIML_Project/archive/train/paprika/Image_45.jpg\n",
      "/Users/pranshmaurya/Desktop/AIML_Project/archive/train/paprika/Image_51.jpg\n",
      "/Users/pranshmaurya/Desktop/AIML_Project/archive/train/paprika/Image_4.jpg\n",
      "/Users/pranshmaurya/Desktop/AIML_Project/archive/train/paprika/Image_87.jpg\n",
      "/Users/pranshmaurya/Desktop/AIML_Project/archive/train/paprika/Image_5.jpg\n",
      "/Users/pranshmaurya/Desktop/AIML_Project/archive/train/paprika/Image_7.jpg\n",
      "/Users/pranshmaurya/Desktop/AIML_Project/archive/train/paprika/Image_46.jpg\n",
      "/Users/pranshmaurya/Desktop/AIML_Project/archive/train/paprika/Image_91.jpg\n",
      "/Users/pranshmaurya/Desktop/AIML_Project/archive/train/paprika/Image_84.jpg\n",
      "/Users/pranshmaurya/Desktop/AIML_Project/archive/train/paprika/Image_90.jpg\n",
      "/Users/pranshmaurya/Desktop/AIML_Project/archive/train/paprika/Image_47.jpg\n",
      "/Users/pranshmaurya/Desktop/AIML_Project/archive/train/paprika/Image_6.jpg\n",
      "/Users/pranshmaurya/Desktop/AIML_Project/archive/train/paprika/Image_34.jpg\n",
      "/Users/pranshmaurya/Desktop/AIML_Project/archive/train/paprika/Image_20.jpg\n",
      "/Users/pranshmaurya/Desktop/AIML_Project/archive/train/paprika/Image_21.jpg\n",
      "/Users/pranshmaurya/Desktop/AIML_Project/archive/train/paprika/Image_35.jpg\n",
      "/Users/pranshmaurya/Desktop/AIML_Project/archive/train/paprika/Image_37.jpg\n",
      "/Users/pranshmaurya/Desktop/AIML_Project/archive/train/paprika/Image_85.jpeg\n",
      "/Users/pranshmaurya/Desktop/AIML_Project/archive/train/paprika/Image_22.png\n",
      "/Users/pranshmaurya/Desktop/AIML_Project/archive/train/paprika/Image_26.png\n",
      "/Users/pranshmaurya/Desktop/AIML_Project/archive/train/paprika/Image_32.jpg\n",
      "/Users/pranshmaurya/Desktop/AIML_Project/archive/train/paprika/Image_10.jpeg\n",
      "/Users/pranshmaurya/Desktop/AIML_Project/archive/train/paprika/Image_27.jpg\n",
      "/Users/pranshmaurya/Desktop/AIML_Project/archive/train/paprika/Image_19.jpg\n",
      "/Users/pranshmaurya/Desktop/AIML_Project/archive/train/paprika/Image_31.jpg\n",
      "/Users/pranshmaurya/Desktop/AIML_Project/archive/train/paprika/Image_25.jpg\n",
      "/Users/pranshmaurya/Desktop/AIML_Project/archive/train/paprika/Image_24.jpg\n",
      "/Users/pranshmaurya/Desktop/AIML_Project/archive/train/paprika/Image_30.jpg\n",
      "/Users/pranshmaurya/Desktop/AIML_Project/archive/train/watermelon/Image_15.jpg\n",
      "/Users/pranshmaurya/Desktop/AIML_Project/archive/train/watermelon/Image_29.jpg\n",
      "/Users/pranshmaurya/Desktop/AIML_Project/archive/train/watermelon/Image_28.jpg\n",
      "/Users/pranshmaurya/Desktop/AIML_Project/archive/train/watermelon/Image_16.jpg\n",
      "/Users/pranshmaurya/Desktop/AIML_Project/archive/train/watermelon/Image_17.jpg\n",
      "/Users/pranshmaurya/Desktop/AIML_Project/archive/train/watermelon/Image_13.jpg\n",
      "/Users/pranshmaurya/Desktop/AIML_Project/archive/train/watermelon/Image_38.jpg\n",
      "/Users/pranshmaurya/Desktop/AIML_Project/archive/train/watermelon/Image_10.jpg\n",
      "/Users/pranshmaurya/Desktop/AIML_Project/archive/train/watermelon/Image_39.jpg\n",
      "/Users/pranshmaurya/Desktop/AIML_Project/archive/train/watermelon/Image_89.png\n",
      "/Users/pranshmaurya/Desktop/AIML_Project/archive/train/watermelon/Image_62.jpg\n",
      "/Users/pranshmaurya/Desktop/AIML_Project/archive/train/watermelon/Image_88.jpg\n",
      "/Users/pranshmaurya/Desktop/AIML_Project/archive/train/watermelon/Image_63.jpg\n",
      "/Users/pranshmaurya/Desktop/AIML_Project/archive/train/watermelon/Image_61.jpg\n",
      "/Users/pranshmaurya/Desktop/AIML_Project/archive/train/watermelon/Image_8.jpg\n",
      "/Users/pranshmaurya/Desktop/AIML_Project/archive/train/watermelon/Image_49.jpg\n",
      "/Users/pranshmaurya/Desktop/AIML_Project/archive/train/watermelon/Image_9.jpg\n",
      "/Users/pranshmaurya/Desktop/AIML_Project/archive/train/watermelon/Image_58.jpg\n",
      "/Users/pranshmaurya/Desktop/AIML_Project/archive/train/watermelon/Image_70.jpg\n",
      "/Users/pranshmaurya/Desktop/AIML_Project/archive/train/watermelon/Image_65.jpg\n",
      "/Users/pranshmaurya/Desktop/AIML_Project/archive/train/watermelon/Image_59.jpg\n",
      "/Users/pranshmaurya/Desktop/AIML_Project/archive/train/watermelon/Image_73.jpg\n",
      "/Users/pranshmaurya/Desktop/AIML_Project/archive/train/watermelon/Image_67.jpg\n",
      "/Users/pranshmaurya/Desktop/AIML_Project/archive/train/watermelon/Image_98.jpg\n",
      "/Users/pranshmaurya/Desktop/AIML_Project/archive/train/watermelon/Image_14.jpeg\n",
      "/Users/pranshmaurya/Desktop/AIML_Project/archive/train/watermelon/Image_99.jpg\n",
      "/Users/pranshmaurya/Desktop/AIML_Project/archive/train/watermelon/Image_66.jpg\n",
      "/Users/pranshmaurya/Desktop/AIML_Project/archive/train/watermelon/Image_57.jpg\n",
      "/Users/pranshmaurya/Desktop/AIML_Project/archive/train/watermelon/Image_2.jpg\n",
      "/Users/pranshmaurya/Desktop/AIML_Project/archive/train/watermelon/Image_43.jpg\n",
      "/Users/pranshmaurya/Desktop/AIML_Project/archive/train/watermelon/Image_94.jpg\n",
      "/Users/pranshmaurya/Desktop/AIML_Project/archive/train/watermelon/Image_81.jpg\n",
      "/Users/pranshmaurya/Desktop/AIML_Project/archive/train/watermelon/Image_95.jpg\n",
      "/Users/pranshmaurya/Desktop/AIML_Project/archive/train/watermelon/Image_42.jpg\n",
      "/Users/pranshmaurya/Desktop/AIML_Project/archive/train/watermelon/Image_56.jpg\n",
      "/Users/pranshmaurya/Desktop/AIML_Project/archive/train/watermelon/Image_3.jpg\n",
      "/Users/pranshmaurya/Desktop/AIML_Project/archive/train/watermelon/Image_40.jpg\n",
      "/Users/pranshmaurya/Desktop/AIML_Project/archive/train/watermelon/Image_1.jpg\n",
      "/Users/pranshmaurya/Desktop/AIML_Project/archive/train/watermelon/Image_68.jpg\n",
      "/Users/pranshmaurya/Desktop/AIML_Project/archive/train/watermelon/Image_83.jpg\n",
      "/Users/pranshmaurya/Desktop/AIML_Project/archive/train/watermelon/Image_97.jpg\n",
      "/Users/pranshmaurya/Desktop/AIML_Project/archive/train/watermelon/Image_96.jpg\n",
      "/Users/pranshmaurya/Desktop/AIML_Project/archive/train/watermelon/Image_69.jpg\n",
      "/Users/pranshmaurya/Desktop/AIML_Project/archive/train/watermelon/Image_55.jpg\n",
      "/Users/pranshmaurya/Desktop/AIML_Project/archive/train/watermelon/Image_41.jpg\n",
      "/Users/pranshmaurya/Desktop/AIML_Project/archive/train/watermelon/Image_100.jpg\n",
      "/Users/pranshmaurya/Desktop/AIML_Project/archive/train/watermelon/Image_79.jpg\n",
      "/Users/pranshmaurya/Desktop/AIML_Project/archive/train/watermelon/Image_45.jpg\n",
      "/Users/pranshmaurya/Desktop/AIML_Project/archive/train/watermelon/Image_51.jpg\n",
      "/Users/pranshmaurya/Desktop/AIML_Project/archive/train/watermelon/Image_4.jpg\n",
      "/Users/pranshmaurya/Desktop/AIML_Project/archive/train/watermelon/Image_86.jpg\n",
      "/Users/pranshmaurya/Desktop/AIML_Project/archive/train/watermelon/Image_92.jpg\n",
      "/Users/pranshmaurya/Desktop/AIML_Project/archive/train/watermelon/Image_50.jpg\n",
      "/Users/pranshmaurya/Desktop/AIML_Project/archive/train/watermelon/Image_5.jpg\n",
      "/Users/pranshmaurya/Desktop/AIML_Project/archive/train/watermelon/Image_44.jpg\n",
      "/Users/pranshmaurya/Desktop/AIML_Project/archive/train/watermelon/Image_78.jpg\n",
      "/Users/pranshmaurya/Desktop/AIML_Project/archive/train/watermelon/Image_7.jpg\n",
      "/Users/pranshmaurya/Desktop/AIML_Project/archive/train/watermelon/Image_52.jpg\n",
      "/Users/pranshmaurya/Desktop/AIML_Project/archive/train/watermelon/Image_46.jpg\n",
      "/Users/pranshmaurya/Desktop/AIML_Project/archive/train/watermelon/Image_91.jpg\n",
      "/Users/pranshmaurya/Desktop/AIML_Project/archive/train/watermelon/Image_85.jpg\n",
      "/Users/pranshmaurya/Desktop/AIML_Project/archive/train/watermelon/Image_84.jpg\n",
      "/Users/pranshmaurya/Desktop/AIML_Project/archive/train/watermelon/Image_90.jpg\n",
      "/Users/pranshmaurya/Desktop/AIML_Project/archive/train/watermelon/Image_47.jpg\n",
      "/Users/pranshmaurya/Desktop/AIML_Project/archive/train/watermelon/Image_6.jpg\n",
      "/Users/pranshmaurya/Desktop/AIML_Project/archive/train/watermelon/Image_53.jpg\n",
      "/Users/pranshmaurya/Desktop/AIML_Project/archive/train/watermelon/Image_34.jpg\n",
      "/Users/pranshmaurya/Desktop/AIML_Project/archive/train/watermelon/Image_20.jpg\n",
      "/Users/pranshmaurya/Desktop/AIML_Project/archive/train/watermelon/Image_21.jpg\n",
      "/Users/pranshmaurya/Desktop/AIML_Project/archive/train/watermelon/Image_35.jpg\n",
      "/Users/pranshmaurya/Desktop/AIML_Project/archive/train/watermelon/Image_23.jpg\n",
      "/Users/pranshmaurya/Desktop/AIML_Project/archive/train/watermelon/Image_37.jpg\n",
      "/Users/pranshmaurya/Desktop/AIML_Project/archive/train/watermelon/Image_36.jpg\n",
      "/Users/pranshmaurya/Desktop/AIML_Project/archive/train/watermelon/Image_22.jpg\n",
      "/Users/pranshmaurya/Desktop/AIML_Project/archive/train/watermelon/Image_26.jpg\n",
      "/Users/pranshmaurya/Desktop/AIML_Project/archive/train/watermelon/Image_32.jpg\n",
      "/Users/pranshmaurya/Desktop/AIML_Project/archive/train/watermelon/Image_27.jpg\n",
      "/Users/pranshmaurya/Desktop/AIML_Project/archive/train/watermelon/Image_33.png\n",
      "/Users/pranshmaurya/Desktop/AIML_Project/archive/train/watermelon/Image_19.png\n",
      "/Users/pranshmaurya/Desktop/AIML_Project/archive/train/watermelon/Image_31.JPG\n",
      "/Users/pranshmaurya/Desktop/AIML_Project/archive/train/watermelon/Image_25.jpg\n",
      "/Users/pranshmaurya/Desktop/AIML_Project/archive/train/watermelon/Image_24.jpg\n",
      "/Users/pranshmaurya/Desktop/AIML_Project/archive/train/watermelon/Image_30.jpg\n",
      "/Users/pranshmaurya/Desktop/AIML_Project/archive/train/watermelon/Image_18.jpg\n",
      "/Users/pranshmaurya/Desktop/AIML_Project/archive/train/mango/Image_29.png\n",
      "/Users/pranshmaurya/Desktop/AIML_Project/archive/train/mango/Image_15.jpg\n",
      "/Users/pranshmaurya/Desktop/AIML_Project/archive/train/mango/Image_28.jpg\n",
      "/Users/pranshmaurya/Desktop/AIML_Project/archive/train/mango/Image_14.jpg\n",
      "/Users/pranshmaurya/Desktop/AIML_Project/archive/train/mango/Image_16.jpg\n",
      "/Users/pranshmaurya/Desktop/AIML_Project/archive/train/mango/Image_17.JPG\n",
      "/Users/pranshmaurya/Desktop/AIML_Project/archive/train/mango/Image_13.jpg\n",
      "/Users/pranshmaurya/Desktop/AIML_Project/archive/train/mango/Image_12.jpg\n",
      "/Users/pranshmaurya/Desktop/AIML_Project/archive/train/mango/Image_38.jpg\n",
      "/Users/pranshmaurya/Desktop/AIML_Project/archive/train/mango/Image_10.jpg\n",
      "/Users/pranshmaurya/Desktop/AIML_Project/archive/train/mango/Image_39.jpg\n",
      "/Users/pranshmaurya/Desktop/AIML_Project/archive/train/mango/Image_11.png\n",
      "/Users/pranshmaurya/Desktop/AIML_Project/archive/train/mango/Image_62.jpg\n",
      "/Users/pranshmaurya/Desktop/AIML_Project/archive/train/mango/Image_88.jpg\n",
      "/Users/pranshmaurya/Desktop/AIML_Project/archive/train/mango/Image_63.jpg\n",
      "/Users/pranshmaurya/Desktop/AIML_Project/archive/train/mango/Image_77.jpg\n",
      "/Users/pranshmaurya/Desktop/AIML_Project/archive/train/mango/Image_61.jpg\n",
      "/Users/pranshmaurya/Desktop/AIML_Project/archive/train/mango/Image_75.jpg\n",
      "/Users/pranshmaurya/Desktop/AIML_Project/archive/train/mango/Image_8.jpg\n",
      "/Users/pranshmaurya/Desktop/AIML_Project/archive/train/mango/Image_49.jpg\n",
      "/Users/pranshmaurya/Desktop/AIML_Project/archive/train/mango/Image_48.jpg\n",
      "/Users/pranshmaurya/Desktop/AIML_Project/archive/train/mango/Image_9.jpg\n",
      "/Users/pranshmaurya/Desktop/AIML_Project/archive/train/mango/Image_64.jpg\n",
      "/Users/pranshmaurya/Desktop/AIML_Project/archive/train/mango/Image_71.jpg\n",
      "/Users/pranshmaurya/Desktop/AIML_Project/archive/train/mango/Image_59.jpg\n",
      "/Users/pranshmaurya/Desktop/AIML_Project/archive/train/mango/Image_73.jpg\n",
      "/Users/pranshmaurya/Desktop/AIML_Project/archive/train/mango/Image_67.jpg\n",
      "/Users/pranshmaurya/Desktop/AIML_Project/archive/train/mango/Image_98.jpg\n",
      "/Users/pranshmaurya/Desktop/AIML_Project/archive/train/mango/Image_99.jpg\n",
      "/Users/pranshmaurya/Desktop/AIML_Project/archive/train/mango/Image_66.jpg\n",
      "/Users/pranshmaurya/Desktop/AIML_Project/archive/train/mango/Image_2.jpg\n",
      "/Users/pranshmaurya/Desktop/AIML_Project/archive/train/mango/Image_43.jpg\n",
      "/Users/pranshmaurya/Desktop/AIML_Project/archive/train/mango/Image_94.jpg\n",
      "/Users/pranshmaurya/Desktop/AIML_Project/archive/train/mango/Image_81.jpg\n",
      "/Users/pranshmaurya/Desktop/AIML_Project/archive/train/mango/Image_95.jpg\n",
      "/Users/pranshmaurya/Desktop/AIML_Project/archive/train/mango/Image_42.jpg\n",
      "/Users/pranshmaurya/Desktop/AIML_Project/archive/train/mango/Image_3.jpg\n",
      "/Users/pranshmaurya/Desktop/AIML_Project/archive/train/mango/Image_56.png\n",
      "/Users/pranshmaurya/Desktop/AIML_Project/archive/train/mango/Image_1.jpg\n",
      "/Users/pranshmaurya/Desktop/AIML_Project/archive/train/mango/Image_54.jpg\n",
      "/Users/pranshmaurya/Desktop/AIML_Project/archive/train/mango/Image_68.jpg\n",
      "/Users/pranshmaurya/Desktop/AIML_Project/archive/train/mango/Image_83.jpg\n",
      "/Users/pranshmaurya/Desktop/AIML_Project/archive/train/mango/Image_97.jpg\n",
      "/Users/pranshmaurya/Desktop/AIML_Project/archive/train/mango/Image_96.jpg\n",
      "/Users/pranshmaurya/Desktop/AIML_Project/archive/train/mango/Image_69.jpg\n",
      "/Users/pranshmaurya/Desktop/AIML_Project/archive/train/mango/Image_55.JPG\n",
      "/Users/pranshmaurya/Desktop/AIML_Project/archive/train/mango/Image_41.jpg\n",
      "/Users/pranshmaurya/Desktop/AIML_Project/archive/train/mango/Image_100.jpg\n",
      "/Users/pranshmaurya/Desktop/AIML_Project/archive/train/mango/Image_79.png\n",
      "/Users/pranshmaurya/Desktop/AIML_Project/archive/train/mango/Image_51.png\n",
      "/Users/pranshmaurya/Desktop/AIML_Project/archive/train/mango/Image_45.jpg\n",
      "/Users/pranshmaurya/Desktop/AIML_Project/archive/train/mango/Image_4.jpg\n",
      "/Users/pranshmaurya/Desktop/AIML_Project/archive/train/mango/Image_86.jpg\n",
      "/Users/pranshmaurya/Desktop/AIML_Project/archive/train/mango/Image_92.jpg\n",
      "/Users/pranshmaurya/Desktop/AIML_Project/archive/train/mango/Image_93.jpg\n",
      "/Users/pranshmaurya/Desktop/AIML_Project/archive/train/mango/Image_87.jpg\n",
      "/Users/pranshmaurya/Desktop/AIML_Project/archive/train/mango/Image_50.jpg\n",
      "/Users/pranshmaurya/Desktop/AIML_Project/archive/train/mango/Image_5.jpg\n",
      "/Users/pranshmaurya/Desktop/AIML_Project/archive/train/mango/Image_44.jpg\n",
      "/Users/pranshmaurya/Desktop/AIML_Project/archive/train/mango/Image_7.jpg\n",
      "/Users/pranshmaurya/Desktop/AIML_Project/archive/train/mango/Image_52.jpg\n",
      "/Users/pranshmaurya/Desktop/AIML_Project/archive/train/mango/Image_46.jpg\n",
      "/Users/pranshmaurya/Desktop/AIML_Project/archive/train/mango/Image_91.jpg\n",
      "/Users/pranshmaurya/Desktop/AIML_Project/archive/train/mango/Image_85.jpg\n",
      "/Users/pranshmaurya/Desktop/AIML_Project/archive/train/mango/Image_47.jpg\n",
      "/Users/pranshmaurya/Desktop/AIML_Project/archive/train/mango/Image_6.jpg\n",
      "/Users/pranshmaurya/Desktop/AIML_Project/archive/train/mango/Image_53.jpg\n",
      "/Users/pranshmaurya/Desktop/AIML_Project/archive/train/mango/Image_90.png\n",
      "/Users/pranshmaurya/Desktop/AIML_Project/archive/train/mango/Image_34.jpg\n",
      "/Users/pranshmaurya/Desktop/AIML_Project/archive/train/mango/Image_20.jpg\n",
      "/Users/pranshmaurya/Desktop/AIML_Project/archive/train/mango/Image_21.jpg\n",
      "/Users/pranshmaurya/Desktop/AIML_Project/archive/train/mango/Image_35.jpg\n",
      "/Users/pranshmaurya/Desktop/AIML_Project/archive/train/mango/Image_23.png\n",
      "/Users/pranshmaurya/Desktop/AIML_Project/archive/train/mango/Image_37.jpg\n",
      "/Users/pranshmaurya/Desktop/AIML_Project/archive/train/mango/Image_36.jpg\n",
      "/Users/pranshmaurya/Desktop/AIML_Project/archive/train/mango/Image_22.jpg\n",
      "/Users/pranshmaurya/Desktop/AIML_Project/archive/train/mango/Image_26.jpg\n",
      "/Users/pranshmaurya/Desktop/AIML_Project/archive/train/mango/Image_32.jpg\n",
      "/Users/pranshmaurya/Desktop/AIML_Project/archive/train/mango/Image_33.jpg\n",
      "/Users/pranshmaurya/Desktop/AIML_Project/archive/train/mango/Image_27.jpg\n",
      "/Users/pranshmaurya/Desktop/AIML_Project/archive/train/mango/Image_19.jpg\n",
      "/Users/pranshmaurya/Desktop/AIML_Project/archive/train/mango/Image_31.jpg\n",
      "/Users/pranshmaurya/Desktop/AIML_Project/archive/train/mango/Image_25.jpg\n",
      "/Users/pranshmaurya/Desktop/AIML_Project/archive/train/mango/Image_24.jpg\n",
      "/Users/pranshmaurya/Desktop/AIML_Project/archive/train/mango/Image_30.jpg\n",
      "/Users/pranshmaurya/Desktop/AIML_Project/archive/train/mango/Image_18.jpg\n",
      "/Users/pranshmaurya/Desktop/AIML_Project/archive/train/cabbage/Image_15.jpg\n",
      "/Users/pranshmaurya/Desktop/AIML_Project/archive/train/cabbage/Image_29.jpg\n",
      "/Users/pranshmaurya/Desktop/AIML_Project/archive/train/cabbage/Image_28.jpg\n",
      "/Users/pranshmaurya/Desktop/AIML_Project/archive/train/cabbage/Image_14.jpg\n",
      "/Users/pranshmaurya/Desktop/AIML_Project/archive/train/cabbage/Image_16.jpg\n",
      "/Users/pranshmaurya/Desktop/AIML_Project/archive/train/cabbage/Image_17.jpg\n",
      "/Users/pranshmaurya/Desktop/AIML_Project/archive/train/cabbage/Image_13.jpg\n",
      "/Users/pranshmaurya/Desktop/AIML_Project/archive/train/cabbage/Image_12.jpg\n",
      "/Users/pranshmaurya/Desktop/AIML_Project/archive/train/cabbage/Image_86.jpeg\n",
      "/Users/pranshmaurya/Desktop/AIML_Project/archive/train/cabbage/Image_38.jpg\n",
      "/Users/pranshmaurya/Desktop/AIML_Project/archive/train/cabbage/Image_10.jpg\n",
      "/Users/pranshmaurya/Desktop/AIML_Project/archive/train/cabbage/Image_11.jpg\n",
      "/Users/pranshmaurya/Desktop/AIML_Project/archive/train/cabbage/Image_39.jpg\n",
      "/Users/pranshmaurya/Desktop/AIML_Project/archive/train/cabbage/Image_76.jpg\n",
      "/Users/pranshmaurya/Desktop/AIML_Project/archive/train/cabbage/Image_89.jpg\n",
      "/Users/pranshmaurya/Desktop/AIML_Project/archive/train/cabbage/Image_88.jpg\n",
      "/Users/pranshmaurya/Desktop/AIML_Project/archive/train/cabbage/Image_77.jpg\n",
      "/Users/pranshmaurya/Desktop/AIML_Project/archive/train/cabbage/Image_63.png\n",
      "/Users/pranshmaurya/Desktop/AIML_Project/archive/train/cabbage/Image_61.jpg\n",
      "/Users/pranshmaurya/Desktop/AIML_Project/archive/train/cabbage/Image_75.jpg\n",
      "/Users/pranshmaurya/Desktop/AIML_Project/archive/train/cabbage/Image_8.jpg\n",
      "/Users/pranshmaurya/Desktop/AIML_Project/archive/train/cabbage/Image_49.JPG\n",
      "/Users/pranshmaurya/Desktop/AIML_Project/archive/train/cabbage/Image_48.jpg\n",
      "/Users/pranshmaurya/Desktop/AIML_Project/archive/train/cabbage/Image_9.jpg\n",
      "/Users/pranshmaurya/Desktop/AIML_Project/archive/train/cabbage/Image_74.jpg\n",
      "/Users/pranshmaurya/Desktop/AIML_Project/archive/train/cabbage/Image_60.JPG\n",
      "/Users/pranshmaurya/Desktop/AIML_Project/archive/train/cabbage/Image_58.jpg\n",
      "/Users/pranshmaurya/Desktop/AIML_Project/archive/train/cabbage/Image_70.jpg\n",
      "/Users/pranshmaurya/Desktop/AIML_Project/archive/train/cabbage/Image_71.jpg\n",
      "/Users/pranshmaurya/Desktop/AIML_Project/archive/train/cabbage/Image_65.jpg\n",
      "/Users/pranshmaurya/Desktop/AIML_Project/archive/train/cabbage/Image_59.jpg\n",
      "/Users/pranshmaurya/Desktop/AIML_Project/archive/train/cabbage/Image_73.jpg\n",
      "/Users/pranshmaurya/Desktop/AIML_Project/archive/train/cabbage/Image_67.jpg\n",
      "/Users/pranshmaurya/Desktop/AIML_Project/archive/train/cabbage/Image_98.jpg\n",
      "/Users/pranshmaurya/Desktop/AIML_Project/archive/train/cabbage/Image_99.jpg\n",
      "/Users/pranshmaurya/Desktop/AIML_Project/archive/train/cabbage/Image_66.jpg\n",
      "/Users/pranshmaurya/Desktop/AIML_Project/archive/train/cabbage/Image_72.jpg\n",
      "/Users/pranshmaurya/Desktop/AIML_Project/archive/train/cabbage/Image_57.jpg\n",
      "/Users/pranshmaurya/Desktop/AIML_Project/archive/train/cabbage/Image_2.jpg\n",
      "/Users/pranshmaurya/Desktop/AIML_Project/archive/train/cabbage/Image_43.jpg\n",
      "/Users/pranshmaurya/Desktop/AIML_Project/archive/train/cabbage/Image_94.jpg\n",
      "/Users/pranshmaurya/Desktop/AIML_Project/archive/train/cabbage/Image_80.jpg\n",
      "/Users/pranshmaurya/Desktop/AIML_Project/archive/train/cabbage/Image_81.jpg\n",
      "/Users/pranshmaurya/Desktop/AIML_Project/archive/train/cabbage/Image_95.jpg\n",
      "/Users/pranshmaurya/Desktop/AIML_Project/archive/train/cabbage/Image_42.jpg\n",
      "/Users/pranshmaurya/Desktop/AIML_Project/archive/train/cabbage/Image_56.jpg\n",
      "/Users/pranshmaurya/Desktop/AIML_Project/archive/train/cabbage/Image_3.jpg\n",
      "/Users/pranshmaurya/Desktop/AIML_Project/archive/train/cabbage/Image_1.jpg\n",
      "/Users/pranshmaurya/Desktop/AIML_Project/archive/train/cabbage/Image_54.jpg\n",
      "/Users/pranshmaurya/Desktop/AIML_Project/archive/train/cabbage/Image_68.jpg\n",
      "/Users/pranshmaurya/Desktop/AIML_Project/archive/train/cabbage/Image_97.jpg\n",
      "/Users/pranshmaurya/Desktop/AIML_Project/archive/train/cabbage/Image_96.jpg\n",
      "/Users/pranshmaurya/Desktop/AIML_Project/archive/train/cabbage/Image_69.JPG\n",
      "/Users/pranshmaurya/Desktop/AIML_Project/archive/train/cabbage/Image_55.jpg\n",
      "/Users/pranshmaurya/Desktop/AIML_Project/archive/train/cabbage/Image_100.jpg\n",
      "/Users/pranshmaurya/Desktop/AIML_Project/archive/train/cabbage/Image_36.jpeg\n",
      "/Users/pranshmaurya/Desktop/AIML_Project/archive/train/cabbage/Image_79.jpg\n",
      "/Users/pranshmaurya/Desktop/AIML_Project/archive/train/cabbage/Image_45.jpg\n",
      "/Users/pranshmaurya/Desktop/AIML_Project/archive/train/cabbage/Image_51.jpg\n",
      "/Users/pranshmaurya/Desktop/AIML_Project/archive/train/cabbage/Image_4.jpg\n",
      "/Users/pranshmaurya/Desktop/AIML_Project/archive/train/cabbage/Image_92.jpg\n",
      "/Users/pranshmaurya/Desktop/AIML_Project/archive/train/cabbage/Image_93.jpg\n",
      "/Users/pranshmaurya/Desktop/AIML_Project/archive/train/cabbage/Image_87.jpg\n",
      "/Users/pranshmaurya/Desktop/AIML_Project/archive/train/cabbage/Image_50.jpg\n",
      "/Users/pranshmaurya/Desktop/AIML_Project/archive/train/cabbage/Image_5.jpg\n",
      "/Users/pranshmaurya/Desktop/AIML_Project/archive/train/cabbage/Image_44.jpg\n",
      "/Users/pranshmaurya/Desktop/AIML_Project/archive/train/cabbage/Image_78.jpg\n",
      "/Users/pranshmaurya/Desktop/AIML_Project/archive/train/cabbage/Image_7.jpg\n",
      "/Users/pranshmaurya/Desktop/AIML_Project/archive/train/cabbage/Image_52.jpg\n",
      "/Users/pranshmaurya/Desktop/AIML_Project/archive/train/cabbage/Image_46.jpg\n",
      "/Users/pranshmaurya/Desktop/AIML_Project/archive/train/cabbage/Image_91.jpg\n",
      "/Users/pranshmaurya/Desktop/AIML_Project/archive/train/cabbage/Image_85.jpg\n",
      "/Users/pranshmaurya/Desktop/AIML_Project/archive/train/cabbage/Image_90.jpg\n",
      "/Users/pranshmaurya/Desktop/AIML_Project/archive/train/cabbage/Image_47.JPG\n",
      "/Users/pranshmaurya/Desktop/AIML_Project/archive/train/cabbage/Image_6.jpg\n",
      "/Users/pranshmaurya/Desktop/AIML_Project/archive/train/cabbage/Image_53.jpg\n",
      "/Users/pranshmaurya/Desktop/AIML_Project/archive/train/cabbage/Image_34.jpg\n",
      "/Users/pranshmaurya/Desktop/AIML_Project/archive/train/cabbage/Image_20.jpg\n",
      "/Users/pranshmaurya/Desktop/AIML_Project/archive/train/cabbage/Image_21.jpg\n",
      "/Users/pranshmaurya/Desktop/AIML_Project/archive/train/cabbage/Image_35.jpg\n",
      "/Users/pranshmaurya/Desktop/AIML_Project/archive/train/cabbage/Image_23.jpg\n",
      "/Users/pranshmaurya/Desktop/AIML_Project/archive/train/cabbage/Image_37.jpg\n",
      "/Users/pranshmaurya/Desktop/AIML_Project/archive/train/cabbage/Image_22.jpg\n",
      "/Users/pranshmaurya/Desktop/AIML_Project/archive/train/cabbage/Image_26.JPG\n",
      "/Users/pranshmaurya/Desktop/AIML_Project/archive/train/cabbage/Image_32.jpg\n",
      "/Users/pranshmaurya/Desktop/AIML_Project/archive/train/cabbage/Image_33.jpg\n",
      "/Users/pranshmaurya/Desktop/AIML_Project/archive/train/cabbage/Image_27.jpg\n",
      "/Users/pranshmaurya/Desktop/AIML_Project/archive/train/cabbage/Image_31.jpg\n",
      "/Users/pranshmaurya/Desktop/AIML_Project/archive/train/cabbage/Image_25.jpg\n",
      "/Users/pranshmaurya/Desktop/AIML_Project/archive/train/cabbage/Image_24.jpg\n",
      "/Users/pranshmaurya/Desktop/AIML_Project/archive/train/cabbage/Image_30.jpg\n",
      "/Users/pranshmaurya/Desktop/AIML_Project/archive/train/cabbage/Image_18.jpg\n",
      "/Users/pranshmaurya/Desktop/AIML_Project/archive/train/grapes/Image_15.jpg\n",
      "/Users/pranshmaurya/Desktop/AIML_Project/archive/train/grapes/Image_29.jpg\n",
      "/Users/pranshmaurya/Desktop/AIML_Project/archive/train/grapes/Image_25.jpeg\n",
      "/Users/pranshmaurya/Desktop/AIML_Project/archive/train/grapes/Image_14.jpg\n",
      "/Users/pranshmaurya/Desktop/AIML_Project/archive/train/grapes/Image_16.jpg\n",
      "/Users/pranshmaurya/Desktop/AIML_Project/archive/train/grapes/Image_17.jpg\n",
      "/Users/pranshmaurya/Desktop/AIML_Project/archive/train/grapes/Image_13.jpg\n",
      "/Users/pranshmaurya/Desktop/AIML_Project/archive/train/grapes/Image_28.jpeg\n",
      "/Users/pranshmaurya/Desktop/AIML_Project/archive/train/grapes/Image_12.jpg\n",
      "/Users/pranshmaurya/Desktop/AIML_Project/archive/train/grapes/Image_38.jpg\n",
      "/Users/pranshmaurya/Desktop/AIML_Project/archive/train/grapes/Image_10.jpg\n",
      "/Users/pranshmaurya/Desktop/AIML_Project/archive/train/grapes/Image_11.jpg\n",
      "/Users/pranshmaurya/Desktop/AIML_Project/archive/train/grapes/Image_39.png\n",
      "/Users/pranshmaurya/Desktop/AIML_Project/archive/train/grapes/Image_100.jpeg\n",
      "/Users/pranshmaurya/Desktop/AIML_Project/archive/train/grapes/Image_76.jpg\n",
      "/Users/pranshmaurya/Desktop/AIML_Project/archive/train/grapes/Image_62.jpg\n",
      "/Users/pranshmaurya/Desktop/AIML_Project/archive/train/grapes/Image_89.jpg\n",
      "/Users/pranshmaurya/Desktop/AIML_Project/archive/train/grapes/Image_88.jpg\n",
      "/Users/pranshmaurya/Desktop/AIML_Project/archive/train/grapes/Image_63.jpg\n",
      "/Users/pranshmaurya/Desktop/AIML_Project/archive/train/grapes/Image_77.jpg\n",
      "/Users/pranshmaurya/Desktop/AIML_Project/archive/train/grapes/Image_61.jpg\n",
      "/Users/pranshmaurya/Desktop/AIML_Project/archive/train/grapes/Image_75.jpg\n",
      "/Users/pranshmaurya/Desktop/AIML_Project/archive/train/grapes/Image_8.jpg\n",
      "/Users/pranshmaurya/Desktop/AIML_Project/archive/train/grapes/Image_49.JPG\n",
      "/Users/pranshmaurya/Desktop/AIML_Project/archive/train/grapes/Image_48.jpg\n",
      "/Users/pranshmaurya/Desktop/AIML_Project/archive/train/grapes/Image_9.jpg\n",
      "/Users/pranshmaurya/Desktop/AIML_Project/archive/train/grapes/Image_74.jpg\n",
      "/Users/pranshmaurya/Desktop/AIML_Project/archive/train/grapes/Image_60.jpg\n",
      "/Users/pranshmaurya/Desktop/AIML_Project/archive/train/grapes/Image_58.jpg\n",
      "/Users/pranshmaurya/Desktop/AIML_Project/archive/train/grapes/Image_64.jpg\n",
      "/Users/pranshmaurya/Desktop/AIML_Project/archive/train/grapes/Image_70.jpg\n",
      "/Users/pranshmaurya/Desktop/AIML_Project/archive/train/grapes/Image_71.jpg\n",
      "/Users/pranshmaurya/Desktop/AIML_Project/archive/train/grapes/Image_65.jpg\n",
      "/Users/pranshmaurya/Desktop/AIML_Project/archive/train/grapes/Image_59.jpg\n",
      "/Users/pranshmaurya/Desktop/AIML_Project/archive/train/grapes/Image_73.jpg\n",
      "/Users/pranshmaurya/Desktop/AIML_Project/archive/train/grapes/Image_67.jpg\n",
      "/Users/pranshmaurya/Desktop/AIML_Project/archive/train/grapes/Image_98.jpg\n",
      "/Users/pranshmaurya/Desktop/AIML_Project/archive/train/grapes/Image_99.jpg\n",
      "/Users/pranshmaurya/Desktop/AIML_Project/archive/train/grapes/Image_66.jpg\n",
      "/Users/pranshmaurya/Desktop/AIML_Project/archive/train/grapes/Image_72.JPG\n",
      "/Users/pranshmaurya/Desktop/AIML_Project/archive/train/grapes/Image_40.jpeg\n",
      "/Users/pranshmaurya/Desktop/AIML_Project/archive/train/grapes/Image_57.jpg\n",
      "/Users/pranshmaurya/Desktop/AIML_Project/archive/train/grapes/Image_2.jpg\n",
      "/Users/pranshmaurya/Desktop/AIML_Project/archive/train/grapes/Image_43.jpg\n",
      "/Users/pranshmaurya/Desktop/AIML_Project/archive/train/grapes/Image_94.jpg\n",
      "/Users/pranshmaurya/Desktop/AIML_Project/archive/train/grapes/Image_80.jpg\n",
      "/Users/pranshmaurya/Desktop/AIML_Project/archive/train/grapes/Image_81.jpg\n",
      "/Users/pranshmaurya/Desktop/AIML_Project/archive/train/grapes/Image_95.jpg\n",
      "/Users/pranshmaurya/Desktop/AIML_Project/archive/train/grapes/Image_42.jpg\n",
      "/Users/pranshmaurya/Desktop/AIML_Project/archive/train/grapes/Image_56.jpg\n",
      "/Users/pranshmaurya/Desktop/AIML_Project/archive/train/grapes/Image_3.jpg\n",
      "/Users/pranshmaurya/Desktop/AIML_Project/archive/train/grapes/Image_1.jpg\n",
      "/Users/pranshmaurya/Desktop/AIML_Project/archive/train/grapes/Image_54.jpg\n",
      "/Users/pranshmaurya/Desktop/AIML_Project/archive/train/grapes/Image_68.jpg\n",
      "/Users/pranshmaurya/Desktop/AIML_Project/archive/train/grapes/Image_83.JPG\n",
      "/Users/pranshmaurya/Desktop/AIML_Project/archive/train/grapes/Image_97.jpg\n",
      "/Users/pranshmaurya/Desktop/AIML_Project/archive/train/grapes/Image_96.jpg\n",
      "/Users/pranshmaurya/Desktop/AIML_Project/archive/train/grapes/Image_82.JPG\n",
      "/Users/pranshmaurya/Desktop/AIML_Project/archive/train/grapes/Image_69.jpg\n",
      "/Users/pranshmaurya/Desktop/AIML_Project/archive/train/grapes/Image_55.jpg\n",
      "/Users/pranshmaurya/Desktop/AIML_Project/archive/train/grapes/Image_41.jpg\n",
      "/Users/pranshmaurya/Desktop/AIML_Project/archive/train/grapes/Image_45.png\n",
      "/Users/pranshmaurya/Desktop/AIML_Project/archive/train/grapes/Image_79.jpg\n",
      "/Users/pranshmaurya/Desktop/AIML_Project/archive/train/grapes/Image_51.jpg\n",
      "/Users/pranshmaurya/Desktop/AIML_Project/archive/train/grapes/Image_4.jpg\n",
      "/Users/pranshmaurya/Desktop/AIML_Project/archive/train/grapes/Image_86.jpg\n",
      "/Users/pranshmaurya/Desktop/AIML_Project/archive/train/grapes/Image_92.jpg\n",
      "/Users/pranshmaurya/Desktop/AIML_Project/archive/train/grapes/Image_93.jpg\n",
      "/Users/pranshmaurya/Desktop/AIML_Project/archive/train/grapes/Image_50.jpg\n",
      "/Users/pranshmaurya/Desktop/AIML_Project/archive/train/grapes/Image_44.jpg\n",
      "/Users/pranshmaurya/Desktop/AIML_Project/archive/train/grapes/Image_78.jpg\n",
      "/Users/pranshmaurya/Desktop/AIML_Project/archive/train/grapes/Image_87.png\n",
      "/Users/pranshmaurya/Desktop/AIML_Project/archive/train/grapes/Image_7.png\n",
      "/Users/pranshmaurya/Desktop/AIML_Project/archive/train/grapes/Image_52.jpg\n",
      "/Users/pranshmaurya/Desktop/AIML_Project/archive/train/grapes/Image_46.jpg\n",
      "/Users/pranshmaurya/Desktop/AIML_Project/archive/train/grapes/Image_91.jpg\n",
      "/Users/pranshmaurya/Desktop/AIML_Project/archive/train/grapes/Image_85.jpg\n",
      "/Users/pranshmaurya/Desktop/AIML_Project/archive/train/grapes/Image_84.jpg\n",
      "/Users/pranshmaurya/Desktop/AIML_Project/archive/train/grapes/Image_90.jpg\n",
      "/Users/pranshmaurya/Desktop/AIML_Project/archive/train/grapes/Image_47.jpg\n",
      "/Users/pranshmaurya/Desktop/AIML_Project/archive/train/grapes/Image_6.JPG\n",
      "/Users/pranshmaurya/Desktop/AIML_Project/archive/train/grapes/Image_53.jpg\n",
      "/Users/pranshmaurya/Desktop/AIML_Project/archive/train/grapes/Image_34.jpg\n",
      "/Users/pranshmaurya/Desktop/AIML_Project/archive/train/grapes/Image_20.jpg\n",
      "/Users/pranshmaurya/Desktop/AIML_Project/archive/train/grapes/Image_21.jpg\n",
      "/Users/pranshmaurya/Desktop/AIML_Project/archive/train/grapes/Image_35.jpg\n",
      "/Users/pranshmaurya/Desktop/AIML_Project/archive/train/grapes/Image_23.jpg\n",
      "/Users/pranshmaurya/Desktop/AIML_Project/archive/train/grapes/Image_37.jpg\n",
      "/Users/pranshmaurya/Desktop/AIML_Project/archive/train/grapes/Image_36.JPG\n",
      "/Users/pranshmaurya/Desktop/AIML_Project/archive/train/grapes/Image_22.jpg\n",
      "/Users/pranshmaurya/Desktop/AIML_Project/archive/train/grapes/Image_5.jpeg\n",
      "/Users/pranshmaurya/Desktop/AIML_Project/archive/train/grapes/Image_26.jpg\n",
      "/Users/pranshmaurya/Desktop/AIML_Project/archive/train/grapes/Image_32.jpg\n",
      "/Users/pranshmaurya/Desktop/AIML_Project/archive/train/grapes/Image_33.jpg\n",
      "/Users/pranshmaurya/Desktop/AIML_Project/archive/train/grapes/Image_27.jpg\n",
      "/Users/pranshmaurya/Desktop/AIML_Project/archive/train/grapes/Image_19.jpg\n",
      "/Users/pranshmaurya/Desktop/AIML_Project/archive/train/grapes/Image_31.jpg\n",
      "/Users/pranshmaurya/Desktop/AIML_Project/archive/train/grapes/Image_24.jpg\n",
      "/Users/pranshmaurya/Desktop/AIML_Project/archive/train/grapes/Image_30.jpg\n",
      "/Users/pranshmaurya/Desktop/AIML_Project/archive/train/grapes/Image_18.jpg\n",
      "/Users/pranshmaurya/Desktop/AIML_Project/archive/train/beetroot/Image_15.jpg\n",
      "/Users/pranshmaurya/Desktop/AIML_Project/archive/train/beetroot/Image_29.jpg\n",
      "/Users/pranshmaurya/Desktop/AIML_Project/archive/train/beetroot/Image_28.jpg\n",
      "/Users/pranshmaurya/Desktop/AIML_Project/archive/train/beetroot/Image_14.jpg\n",
      "/Users/pranshmaurya/Desktop/AIML_Project/archive/train/beetroot/Image_16.jpg\n",
      "/Users/pranshmaurya/Desktop/AIML_Project/archive/train/beetroot/Image_17.jpg\n",
      "/Users/pranshmaurya/Desktop/AIML_Project/archive/train/beetroot/Image_13.jpg\n",
      "/Users/pranshmaurya/Desktop/AIML_Project/archive/train/beetroot/Image_12.jpg\n",
      "/Users/pranshmaurya/Desktop/AIML_Project/archive/train/beetroot/Image_38.jpg\n",
      "/Users/pranshmaurya/Desktop/AIML_Project/archive/train/beetroot/Image_10.jpg\n",
      "/Users/pranshmaurya/Desktop/AIML_Project/archive/train/beetroot/Image_11.jpg\n",
      "/Users/pranshmaurya/Desktop/AIML_Project/archive/train/beetroot/Image_39.jpg\n",
      "/Users/pranshmaurya/Desktop/AIML_Project/archive/train/beetroot/Image_76.jpg\n",
      "/Users/pranshmaurya/Desktop/AIML_Project/archive/train/beetroot/Image_62.jpg\n",
      "/Users/pranshmaurya/Desktop/AIML_Project/archive/train/beetroot/Image_89.jpg\n",
      "/Users/pranshmaurya/Desktop/AIML_Project/archive/train/beetroot/Image_63.jpg\n",
      "/Users/pranshmaurya/Desktop/AIML_Project/archive/train/beetroot/Image_77.jpg\n",
      "/Users/pranshmaurya/Desktop/AIML_Project/archive/train/beetroot/Image_61.jpg\n",
      "/Users/pranshmaurya/Desktop/AIML_Project/archive/train/beetroot/Image_75.jpg\n",
      "/Users/pranshmaurya/Desktop/AIML_Project/archive/train/beetroot/Image_8.jpg\n",
      "/Users/pranshmaurya/Desktop/AIML_Project/archive/train/beetroot/Image_49.jpg\n",
      "/Users/pranshmaurya/Desktop/AIML_Project/archive/train/beetroot/Image_48.jpg\n",
      "/Users/pranshmaurya/Desktop/AIML_Project/archive/train/beetroot/Image_9.jpg\n",
      "/Users/pranshmaurya/Desktop/AIML_Project/archive/train/beetroot/Image_58.jpg\n",
      "/Users/pranshmaurya/Desktop/AIML_Project/archive/train/beetroot/Image_64.jpg\n",
      "/Users/pranshmaurya/Desktop/AIML_Project/archive/train/beetroot/Image_65.jpg\n",
      "/Users/pranshmaurya/Desktop/AIML_Project/archive/train/beetroot/Image_98.jpg\n",
      "/Users/pranshmaurya/Desktop/AIML_Project/archive/train/beetroot/Image_99.jpg\n",
      "/Users/pranshmaurya/Desktop/AIML_Project/archive/train/beetroot/Image_66.jpg\n",
      "/Users/pranshmaurya/Desktop/AIML_Project/archive/train/beetroot/Image_72.jpg\n",
      "/Users/pranshmaurya/Desktop/AIML_Project/archive/train/beetroot/Image_2.jpg\n",
      "/Users/pranshmaurya/Desktop/AIML_Project/archive/train/beetroot/Image_43.jpg\n",
      "/Users/pranshmaurya/Desktop/AIML_Project/archive/train/beetroot/Image_94.jpg\n",
      "/Users/pranshmaurya/Desktop/AIML_Project/archive/train/beetroot/Image_81.jpg\n",
      "/Users/pranshmaurya/Desktop/AIML_Project/archive/train/beetroot/Image_95.jpg\n",
      "/Users/pranshmaurya/Desktop/AIML_Project/archive/train/beetroot/Image_42.jpg\n",
      "/Users/pranshmaurya/Desktop/AIML_Project/archive/train/beetroot/Image_56.jpg\n",
      "/Users/pranshmaurya/Desktop/AIML_Project/archive/train/beetroot/Image_3.jpg\n",
      "/Users/pranshmaurya/Desktop/AIML_Project/archive/train/beetroot/Image_54.png\n",
      "/Users/pranshmaurya/Desktop/AIML_Project/archive/train/beetroot/Image_40.jpg\n",
      "/Users/pranshmaurya/Desktop/AIML_Project/archive/train/beetroot/Image_1.jpg\n",
      "/Users/pranshmaurya/Desktop/AIML_Project/archive/train/beetroot/Image_68.jpg\n",
      "/Users/pranshmaurya/Desktop/AIML_Project/archive/train/beetroot/Image_83.jpg\n",
      "/Users/pranshmaurya/Desktop/AIML_Project/archive/train/beetroot/Image_97.jpg\n",
      "/Users/pranshmaurya/Desktop/AIML_Project/archive/train/beetroot/Image_96.jpg\n",
      "/Users/pranshmaurya/Desktop/AIML_Project/archive/train/beetroot/Image_69.jpg\n",
      "/Users/pranshmaurya/Desktop/AIML_Project/archive/train/beetroot/Image_55.jpg\n",
      "/Users/pranshmaurya/Desktop/AIML_Project/archive/train/beetroot/Image_41.jpg\n",
      "/Users/pranshmaurya/Desktop/AIML_Project/archive/train/beetroot/Image_86.png\n",
      "/Users/pranshmaurya/Desktop/AIML_Project/archive/train/beetroot/Image_100.jpg\n",
      "/Users/pranshmaurya/Desktop/AIML_Project/archive/train/beetroot/Image_79.jpg\n",
      "/Users/pranshmaurya/Desktop/AIML_Project/archive/train/beetroot/Image_45.jpg\n",
      "/Users/pranshmaurya/Desktop/AIML_Project/archive/train/beetroot/Image_51.jpg\n",
      "/Users/pranshmaurya/Desktop/AIML_Project/archive/train/beetroot/Image_4.jpg\n",
      "/Users/pranshmaurya/Desktop/AIML_Project/archive/train/beetroot/Image_92.jpg\n",
      "/Users/pranshmaurya/Desktop/AIML_Project/archive/train/beetroot/Image_93.jpg\n",
      "/Users/pranshmaurya/Desktop/AIML_Project/archive/train/beetroot/Image_87.jpg\n",
      "/Users/pranshmaurya/Desktop/AIML_Project/archive/train/beetroot/Image_50.jpg\n",
      "/Users/pranshmaurya/Desktop/AIML_Project/archive/train/beetroot/Image_5.jpg\n",
      "/Users/pranshmaurya/Desktop/AIML_Project/archive/train/beetroot/Image_44.jpg\n",
      "/Users/pranshmaurya/Desktop/AIML_Project/archive/train/beetroot/Image_78.jpg\n",
      "/Users/pranshmaurya/Desktop/AIML_Project/archive/train/beetroot/Image_7.jpg\n",
      "/Users/pranshmaurya/Desktop/AIML_Project/archive/train/beetroot/Image_52.jpg\n",
      "/Users/pranshmaurya/Desktop/AIML_Project/archive/train/beetroot/Image_46.jpg\n",
      "/Users/pranshmaurya/Desktop/AIML_Project/archive/train/beetroot/Image_91.jpg\n",
      "/Users/pranshmaurya/Desktop/AIML_Project/archive/train/beetroot/Image_90.jpg\n",
      "/Users/pranshmaurya/Desktop/AIML_Project/archive/train/beetroot/Image_47.jpg\n",
      "/Users/pranshmaurya/Desktop/AIML_Project/archive/train/beetroot/Image_6.jpg\n",
      "/Users/pranshmaurya/Desktop/AIML_Project/archive/train/beetroot/Image_53.jpg\n",
      "/Users/pranshmaurya/Desktop/AIML_Project/archive/train/beetroot/Image_84.png\n",
      "/Users/pranshmaurya/Desktop/AIML_Project/archive/train/beetroot/Image_34.jpg\n",
      "/Users/pranshmaurya/Desktop/AIML_Project/archive/train/beetroot/Image_20.jpg\n",
      "/Users/pranshmaurya/Desktop/AIML_Project/archive/train/beetroot/Image_21.JPG\n",
      "/Users/pranshmaurya/Desktop/AIML_Project/archive/train/beetroot/Image_35.jpg\n",
      "/Users/pranshmaurya/Desktop/AIML_Project/archive/train/beetroot/Image_23.jpg\n",
      "/Users/pranshmaurya/Desktop/AIML_Project/archive/train/beetroot/Image_37.jpg\n",
      "/Users/pranshmaurya/Desktop/AIML_Project/archive/train/beetroot/Image_36.jpg\n",
      "/Users/pranshmaurya/Desktop/AIML_Project/archive/train/beetroot/Image_22.jpg\n",
      "/Users/pranshmaurya/Desktop/AIML_Project/archive/train/beetroot/Image_26.jpg\n",
      "/Users/pranshmaurya/Desktop/AIML_Project/archive/train/beetroot/Image_32.jpg\n",
      "/Users/pranshmaurya/Desktop/AIML_Project/archive/train/beetroot/Image_33.jpg\n",
      "/Users/pranshmaurya/Desktop/AIML_Project/archive/train/beetroot/Image_27.jpg\n",
      "/Users/pranshmaurya/Desktop/AIML_Project/archive/train/beetroot/Image_19.jpg\n",
      "/Users/pranshmaurya/Desktop/AIML_Project/archive/train/beetroot/Image_31.jpg\n",
      "/Users/pranshmaurya/Desktop/AIML_Project/archive/train/beetroot/Image_25.jpg\n",
      "/Users/pranshmaurya/Desktop/AIML_Project/archive/train/beetroot/Image_24.jpg\n",
      "/Users/pranshmaurya/Desktop/AIML_Project/archive/train/beetroot/Image_30.jpg\n",
      "/Users/pranshmaurya/Desktop/AIML_Project/archive/train/beetroot/Image_18.jpg\n",
      "/Users/pranshmaurya/Desktop/AIML_Project/archive/train/eggplant/Image_15.jpg\n",
      "/Users/pranshmaurya/Desktop/AIML_Project/archive/train/eggplant/Image_29.jpg\n",
      "/Users/pranshmaurya/Desktop/AIML_Project/archive/train/eggplant/Image_28.jpg\n",
      "/Users/pranshmaurya/Desktop/AIML_Project/archive/train/eggplant/Image_14.jpg\n",
      "/Users/pranshmaurya/Desktop/AIML_Project/archive/train/eggplant/Image_16.jpg\n",
      "/Users/pranshmaurya/Desktop/AIML_Project/archive/train/eggplant/Image_17.jpg\n",
      "/Users/pranshmaurya/Desktop/AIML_Project/archive/train/eggplant/Image_13.jpg\n",
      "/Users/pranshmaurya/Desktop/AIML_Project/archive/train/eggplant/Image_12.jpg\n",
      "/Users/pranshmaurya/Desktop/AIML_Project/archive/train/eggplant/Image_38.png\n",
      "/Users/pranshmaurya/Desktop/AIML_Project/archive/train/eggplant/Image_10.jpg\n",
      "/Users/pranshmaurya/Desktop/AIML_Project/archive/train/eggplant/Image_11.jpg\n",
      "/Users/pranshmaurya/Desktop/AIML_Project/archive/train/eggplant/Image_39.jpg\n",
      "/Users/pranshmaurya/Desktop/AIML_Project/archive/train/eggplant/Image_62.jpg\n",
      "/Users/pranshmaurya/Desktop/AIML_Project/archive/train/eggplant/Image_89.jpg\n",
      "/Users/pranshmaurya/Desktop/AIML_Project/archive/train/eggplant/Image_63.jpg\n",
      "/Users/pranshmaurya/Desktop/AIML_Project/archive/train/eggplant/Image_61.jpg\n",
      "/Users/pranshmaurya/Desktop/AIML_Project/archive/train/eggplant/Image_8.jpg\n",
      "/Users/pranshmaurya/Desktop/AIML_Project/archive/train/eggplant/Image_48.jpg\n",
      "/Users/pranshmaurya/Desktop/AIML_Project/archive/train/eggplant/Image_9.jpg\n",
      "/Users/pranshmaurya/Desktop/AIML_Project/archive/train/eggplant/Image_74.jpg\n",
      "/Users/pranshmaurya/Desktop/AIML_Project/archive/train/eggplant/Image_58.jpg\n",
      "/Users/pranshmaurya/Desktop/AIML_Project/archive/train/eggplant/Image_64.jpg\n",
      "/Users/pranshmaurya/Desktop/AIML_Project/archive/train/eggplant/Image_71.jpg\n",
      "/Users/pranshmaurya/Desktop/AIML_Project/archive/train/eggplant/Image_65.jpg\n",
      "/Users/pranshmaurya/Desktop/AIML_Project/archive/train/eggplant/Image_59.jpg\n",
      "/Users/pranshmaurya/Desktop/AIML_Project/archive/train/eggplant/Image_73.jpg\n",
      "/Users/pranshmaurya/Desktop/AIML_Project/archive/train/eggplant/Image_67.jpg\n",
      "/Users/pranshmaurya/Desktop/AIML_Project/archive/train/eggplant/Image_98.jpg\n",
      "/Users/pranshmaurya/Desktop/AIML_Project/archive/train/eggplant/Image_99.jpg\n",
      "/Users/pranshmaurya/Desktop/AIML_Project/archive/train/eggplant/Image_66.jpg\n",
      "/Users/pranshmaurya/Desktop/AIML_Project/archive/train/eggplant/Image_72.jpg\n",
      "/Users/pranshmaurya/Desktop/AIML_Project/archive/train/eggplant/Image_2.jpg\n",
      "/Users/pranshmaurya/Desktop/AIML_Project/archive/train/eggplant/Image_43.jpg\n",
      "/Users/pranshmaurya/Desktop/AIML_Project/archive/train/eggplant/Image_94.jpg\n",
      "/Users/pranshmaurya/Desktop/AIML_Project/archive/train/eggplant/Image_80.jpg\n",
      "/Users/pranshmaurya/Desktop/AIML_Project/archive/train/eggplant/Image_81.jpg\n",
      "/Users/pranshmaurya/Desktop/AIML_Project/archive/train/eggplant/Image_95.jpg\n",
      "/Users/pranshmaurya/Desktop/AIML_Project/archive/train/eggplant/Image_42.jpg\n",
      "/Users/pranshmaurya/Desktop/AIML_Project/archive/train/eggplant/Image_56.jpg\n",
      "/Users/pranshmaurya/Desktop/AIML_Project/archive/train/eggplant/Image_3.jpg\n",
      "/Users/pranshmaurya/Desktop/AIML_Project/archive/train/eggplant/Image_54.png\n",
      "/Users/pranshmaurya/Desktop/AIML_Project/archive/train/eggplant/Image_40.png\n",
      "/Users/pranshmaurya/Desktop/AIML_Project/archive/train/eggplant/Image_1.jpg\n",
      "/Users/pranshmaurya/Desktop/AIML_Project/archive/train/eggplant/Image_68.jpg\n",
      "/Users/pranshmaurya/Desktop/AIML_Project/archive/train/eggplant/Image_97.jpg\n",
      "/Users/pranshmaurya/Desktop/AIML_Project/archive/train/eggplant/Image_96.jpg\n",
      "/Users/pranshmaurya/Desktop/AIML_Project/archive/train/eggplant/Image_82.jpg\n",
      "/Users/pranshmaurya/Desktop/AIML_Project/archive/train/eggplant/Image_69.jpg\n",
      "/Users/pranshmaurya/Desktop/AIML_Project/archive/train/eggplant/Image_55.jpg\n",
      "/Users/pranshmaurya/Desktop/AIML_Project/archive/train/eggplant/Image_41.jpg\n",
      "/Users/pranshmaurya/Desktop/AIML_Project/archive/train/eggplant/Image_100.jpg\n",
      "/Users/pranshmaurya/Desktop/AIML_Project/archive/train/eggplant/Image_79.jpg\n",
      "/Users/pranshmaurya/Desktop/AIML_Project/archive/train/eggplant/Image_45.jpg\n",
      "/Users/pranshmaurya/Desktop/AIML_Project/archive/train/eggplant/Image_51.jpg\n",
      "/Users/pranshmaurya/Desktop/AIML_Project/archive/train/eggplant/Image_4.jpg\n",
      "/Users/pranshmaurya/Desktop/AIML_Project/archive/train/eggplant/Image_92.jpg\n",
      "/Users/pranshmaurya/Desktop/AIML_Project/archive/train/eggplant/Image_93.jpg\n",
      "/Users/pranshmaurya/Desktop/AIML_Project/archive/train/eggplant/Image_87.jpg\n",
      "/Users/pranshmaurya/Desktop/AIML_Project/archive/train/eggplant/Image_5.jpg\n",
      "/Users/pranshmaurya/Desktop/AIML_Project/archive/train/eggplant/Image_44.jpg\n",
      "/Users/pranshmaurya/Desktop/AIML_Project/archive/train/eggplant/Image_78.jpg\n",
      "/Users/pranshmaurya/Desktop/AIML_Project/archive/train/eggplant/Image_7.jpg\n",
      "/Users/pranshmaurya/Desktop/AIML_Project/archive/train/eggplant/Image_46.jpg\n",
      "/Users/pranshmaurya/Desktop/AIML_Project/archive/train/eggplant/Image_84.jpg\n",
      "/Users/pranshmaurya/Desktop/AIML_Project/archive/train/eggplant/Image_47.jpg\n",
      "/Users/pranshmaurya/Desktop/AIML_Project/archive/train/eggplant/Image_6.jpg\n",
      "/Users/pranshmaurya/Desktop/AIML_Project/archive/train/eggplant/Image_34.JPG\n",
      "/Users/pranshmaurya/Desktop/AIML_Project/archive/train/eggplant/Image_20.jpg\n",
      "/Users/pranshmaurya/Desktop/AIML_Project/archive/train/eggplant/Image_21.jpg\n",
      "/Users/pranshmaurya/Desktop/AIML_Project/archive/train/eggplant/Image_35.jpg\n",
      "/Users/pranshmaurya/Desktop/AIML_Project/archive/train/eggplant/Image_23.JPG\n",
      "/Users/pranshmaurya/Desktop/AIML_Project/archive/train/eggplant/Image_37.jpg\n",
      "/Users/pranshmaurya/Desktop/AIML_Project/archive/train/eggplant/Image_36.jpg\n",
      "/Users/pranshmaurya/Desktop/AIML_Project/archive/train/eggplant/Image_22.jpg\n",
      "/Users/pranshmaurya/Desktop/AIML_Project/archive/train/eggplant/Image_26.png\n",
      "/Users/pranshmaurya/Desktop/AIML_Project/archive/train/eggplant/Image_32.jpg\n",
      "/Users/pranshmaurya/Desktop/AIML_Project/archive/train/eggplant/Image_33.jpg\n",
      "/Users/pranshmaurya/Desktop/AIML_Project/archive/train/eggplant/Image_27.jpg\n",
      "/Users/pranshmaurya/Desktop/AIML_Project/archive/train/eggplant/Image_19.jpg\n",
      "/Users/pranshmaurya/Desktop/AIML_Project/archive/train/eggplant/Image_31.jpg\n",
      "/Users/pranshmaurya/Desktop/AIML_Project/archive/train/eggplant/Image_25.JPG\n",
      "/Users/pranshmaurya/Desktop/AIML_Project/archive/train/eggplant/Image_24.jpg\n",
      "/Users/pranshmaurya/Desktop/AIML_Project/archive/train/eggplant/Image_30.jpg\n",
      "/Users/pranshmaurya/Desktop/AIML_Project/archive/train/eggplant/Image_18.jpg\n",
      "/Users/pranshmaurya/Desktop/AIML_Project/archive/train/corn/Image_15.jpg\n",
      "/Users/pranshmaurya/Desktop/AIML_Project/archive/train/corn/Image_29.jpg\n",
      "/Users/pranshmaurya/Desktop/AIML_Project/archive/train/corn/Image_28.jpg\n",
      "/Users/pranshmaurya/Desktop/AIML_Project/archive/train/corn/Image_14.jpg\n",
      "/Users/pranshmaurya/Desktop/AIML_Project/archive/train/corn/Image_16.jpg\n",
      "/Users/pranshmaurya/Desktop/AIML_Project/archive/train/corn/Image_17.jpg\n",
      "/Users/pranshmaurya/Desktop/AIML_Project/archive/train/corn/Image_13.jpg\n",
      "/Users/pranshmaurya/Desktop/AIML_Project/archive/train/corn/Image_12.jpg\n",
      "/Users/pranshmaurya/Desktop/AIML_Project/archive/train/corn/Image_38.jpg\n",
      "/Users/pranshmaurya/Desktop/AIML_Project/archive/train/corn/Image_10.jpg\n",
      "/Users/pranshmaurya/Desktop/AIML_Project/archive/train/corn/Image_11.jpg\n",
      "/Users/pranshmaurya/Desktop/AIML_Project/archive/train/corn/Image_39.jpg\n",
      "/Users/pranshmaurya/Desktop/AIML_Project/archive/train/corn/Image_62.jpg\n",
      "/Users/pranshmaurya/Desktop/AIML_Project/archive/train/corn/Image_89.jpg\n",
      "/Users/pranshmaurya/Desktop/AIML_Project/archive/train/corn/Image_63.jpg\n",
      "/Users/pranshmaurya/Desktop/AIML_Project/archive/train/corn/Image_61.jpg\n",
      "/Users/pranshmaurya/Desktop/AIML_Project/archive/train/corn/Image_75.jpg\n",
      "/Users/pranshmaurya/Desktop/AIML_Project/archive/train/corn/Image_8.jpg\n",
      "/Users/pranshmaurya/Desktop/AIML_Project/archive/train/corn/Image_49.jpg\n",
      "/Users/pranshmaurya/Desktop/AIML_Project/archive/train/corn/Image_48.jpg\n",
      "/Users/pranshmaurya/Desktop/AIML_Project/archive/train/corn/Image_9.jpg\n",
      "/Users/pranshmaurya/Desktop/AIML_Project/archive/train/corn/Image_74.jpg\n",
      "/Users/pranshmaurya/Desktop/AIML_Project/archive/train/corn/Image_60.jpg\n",
      "/Users/pranshmaurya/Desktop/AIML_Project/archive/train/corn/Image_58.jpg\n",
      "/Users/pranshmaurya/Desktop/AIML_Project/archive/train/corn/Image_71.jpg\n",
      "/Users/pranshmaurya/Desktop/AIML_Project/archive/train/corn/Image_65.jpg\n",
      "/Users/pranshmaurya/Desktop/AIML_Project/archive/train/corn/Image_59.jpg\n",
      "/Users/pranshmaurya/Desktop/AIML_Project/archive/train/corn/Image_73.jpg\n",
      "/Users/pranshmaurya/Desktop/AIML_Project/archive/train/corn/Image_67.jpg\n",
      "/Users/pranshmaurya/Desktop/AIML_Project/archive/train/corn/Image_98.jpg\n",
      "/Users/pranshmaurya/Desktop/AIML_Project/archive/train/corn/Image_99.jpg\n",
      "/Users/pranshmaurya/Desktop/AIML_Project/archive/train/corn/Image_66.jpg\n",
      "/Users/pranshmaurya/Desktop/AIML_Project/archive/train/corn/Image_72.jpg\n",
      "/Users/pranshmaurya/Desktop/AIML_Project/archive/train/corn/Image_57.jpg\n",
      "/Users/pranshmaurya/Desktop/AIML_Project/archive/train/corn/Image_2.jpg\n",
      "/Users/pranshmaurya/Desktop/AIML_Project/archive/train/corn/Image_94.jpg\n",
      "/Users/pranshmaurya/Desktop/AIML_Project/archive/train/corn/Image_81.jpg\n",
      "/Users/pranshmaurya/Desktop/AIML_Project/archive/train/corn/Image_95.jpg\n",
      "/Users/pranshmaurya/Desktop/AIML_Project/archive/train/corn/Image_42.jpg\n",
      "/Users/pranshmaurya/Desktop/AIML_Project/archive/train/corn/Image_56.jpg\n",
      "/Users/pranshmaurya/Desktop/AIML_Project/archive/train/corn/Image_3.jpg\n",
      "/Users/pranshmaurya/Desktop/AIML_Project/archive/train/corn/Image_40.jpg\n",
      "/Users/pranshmaurya/Desktop/AIML_Project/archive/train/corn/Image_1.jpg\n",
      "/Users/pranshmaurya/Desktop/AIML_Project/archive/train/corn/Image_54.jpg\n",
      "/Users/pranshmaurya/Desktop/AIML_Project/archive/train/corn/Image_68.jpg\n",
      "/Users/pranshmaurya/Desktop/AIML_Project/archive/train/corn/Image_83.jpg\n",
      "/Users/pranshmaurya/Desktop/AIML_Project/archive/train/corn/Image_97.jpg\n",
      "/Users/pranshmaurya/Desktop/AIML_Project/archive/train/corn/Image_96.jpg\n",
      "/Users/pranshmaurya/Desktop/AIML_Project/archive/train/corn/Image_82.jpg\n",
      "/Users/pranshmaurya/Desktop/AIML_Project/archive/train/corn/Image_55.jpg\n",
      "/Users/pranshmaurya/Desktop/AIML_Project/archive/train/corn/Image_41.jpg\n",
      "/Users/pranshmaurya/Desktop/AIML_Project/archive/train/corn/Image_100.jpg\n",
      "/Users/pranshmaurya/Desktop/AIML_Project/archive/train/corn/Image_79.jpg\n",
      "/Users/pranshmaurya/Desktop/AIML_Project/archive/train/corn/Image_45.jpg\n",
      "/Users/pranshmaurya/Desktop/AIML_Project/archive/train/corn/Image_51.jpg\n",
      "/Users/pranshmaurya/Desktop/AIML_Project/archive/train/corn/Image_4.jpg\n",
      "/Users/pranshmaurya/Desktop/AIML_Project/archive/train/corn/Image_86.jpg\n",
      "/Users/pranshmaurya/Desktop/AIML_Project/archive/train/corn/Image_92.jpg\n",
      "/Users/pranshmaurya/Desktop/AIML_Project/archive/train/corn/Image_93.jpg\n",
      "/Users/pranshmaurya/Desktop/AIML_Project/archive/train/corn/Image_50.jpg\n",
      "/Users/pranshmaurya/Desktop/AIML_Project/archive/train/corn/Image_5.jpg\n",
      "/Users/pranshmaurya/Desktop/AIML_Project/archive/train/corn/Image_78.jpg\n",
      "/Users/pranshmaurya/Desktop/AIML_Project/archive/train/corn/Image_7.jpg\n",
      "/Users/pranshmaurya/Desktop/AIML_Project/archive/train/corn/Image_52.jpg\n",
      "/Users/pranshmaurya/Desktop/AIML_Project/archive/train/corn/Image_91.jpg\n",
      "/Users/pranshmaurya/Desktop/AIML_Project/archive/train/corn/Image_85.jpg\n",
      "/Users/pranshmaurya/Desktop/AIML_Project/archive/train/corn/Image_84.jpg\n",
      "/Users/pranshmaurya/Desktop/AIML_Project/archive/train/corn/Image_90.jpg\n",
      "/Users/pranshmaurya/Desktop/AIML_Project/archive/train/corn/Image_47.jpg\n",
      "/Users/pranshmaurya/Desktop/AIML_Project/archive/train/corn/Image_6.jpg\n",
      "/Users/pranshmaurya/Desktop/AIML_Project/archive/train/corn/Image_53.jpg\n",
      "/Users/pranshmaurya/Desktop/AIML_Project/archive/train/corn/Image_20.png\n",
      "/Users/pranshmaurya/Desktop/AIML_Project/archive/train/corn/Image_34.JPG\n",
      "/Users/pranshmaurya/Desktop/AIML_Project/archive/train/corn/Image_21.jpg\n",
      "/Users/pranshmaurya/Desktop/AIML_Project/archive/train/corn/Image_35.jpg\n",
      "/Users/pranshmaurya/Desktop/AIML_Project/archive/train/corn/Image_23.jpg\n",
      "/Users/pranshmaurya/Desktop/AIML_Project/archive/train/corn/Image_37.jpg\n",
      "/Users/pranshmaurya/Desktop/AIML_Project/archive/train/corn/Image_22.jpg\n",
      "/Users/pranshmaurya/Desktop/AIML_Project/archive/train/corn/Image_32.png\n",
      "/Users/pranshmaurya/Desktop/AIML_Project/archive/train/corn/Image_26.jpg\n",
      "/Users/pranshmaurya/Desktop/AIML_Project/archive/train/corn/Image_33.jpg\n",
      "/Users/pranshmaurya/Desktop/AIML_Project/archive/train/corn/Image_27.jpg\n",
      "/Users/pranshmaurya/Desktop/AIML_Project/archive/train/corn/Image_31.jpg\n",
      "/Users/pranshmaurya/Desktop/AIML_Project/archive/train/corn/Image_25.jpg\n",
      "/Users/pranshmaurya/Desktop/AIML_Project/archive/train/corn/Image_24.jpg\n",
      "/Users/pranshmaurya/Desktop/AIML_Project/archive/train/corn/Image_30.jpg\n",
      "/Users/pranshmaurya/Desktop/AIML_Project/archive/train/corn/Image_18.jpg\n",
      "/Users/pranshmaurya/Desktop/AIML_Project/archive/train/soy beans/Image_15.jpg\n",
      "/Users/pranshmaurya/Desktop/AIML_Project/archive/train/soy beans/Image_29.jpg\n",
      "/Users/pranshmaurya/Desktop/AIML_Project/archive/train/soy beans/Image_28.jpg\n",
      "/Users/pranshmaurya/Desktop/AIML_Project/archive/train/soy beans/Image_14.jpg\n",
      "/Users/pranshmaurya/Desktop/AIML_Project/archive/train/soy beans/Image_16.jpg\n",
      "/Users/pranshmaurya/Desktop/AIML_Project/archive/train/soy beans/Image_17.jpg\n",
      "/Users/pranshmaurya/Desktop/AIML_Project/archive/train/soy beans/Image_13.png\n",
      "/Users/pranshmaurya/Desktop/AIML_Project/archive/train/soy beans/Image_12.jpg\n",
      "/Users/pranshmaurya/Desktop/AIML_Project/archive/train/soy beans/Image_38.jpg\n",
      "/Users/pranshmaurya/Desktop/AIML_Project/archive/train/soy beans/Image_10.jpg\n",
      "/Users/pranshmaurya/Desktop/AIML_Project/archive/train/soy beans/Image_11.jpg\n",
      "/Users/pranshmaurya/Desktop/AIML_Project/archive/train/soy beans/Image_39.jpg\n",
      "/Users/pranshmaurya/Desktop/AIML_Project/archive/train/soy beans/Image_76.jpg\n",
      "/Users/pranshmaurya/Desktop/AIML_Project/archive/train/soy beans/Image_62.jpg\n",
      "/Users/pranshmaurya/Desktop/AIML_Project/archive/train/soy beans/Image_89.jpg\n",
      "/Users/pranshmaurya/Desktop/AIML_Project/archive/train/soy beans/Image_88.jpg\n",
      "/Users/pranshmaurya/Desktop/AIML_Project/archive/train/soy beans/Image_63.jpg\n",
      "/Users/pranshmaurya/Desktop/AIML_Project/archive/train/soy beans/Image_77.jpg\n",
      "/Users/pranshmaurya/Desktop/AIML_Project/archive/train/soy beans/Image_61.jpg\n",
      "/Users/pranshmaurya/Desktop/AIML_Project/archive/train/soy beans/Image_75.jpg\n",
      "/Users/pranshmaurya/Desktop/AIML_Project/archive/train/soy beans/Image_8.jpg\n",
      "/Users/pranshmaurya/Desktop/AIML_Project/archive/train/soy beans/Image_49.jpg\n",
      "/Users/pranshmaurya/Desktop/AIML_Project/archive/train/soy beans/Image_48.jpg\n",
      "/Users/pranshmaurya/Desktop/AIML_Project/archive/train/soy beans/Image_9.jpg\n",
      "/Users/pranshmaurya/Desktop/AIML_Project/archive/train/soy beans/Image_74.jpg\n",
      "/Users/pranshmaurya/Desktop/AIML_Project/archive/train/soy beans/Image_60.jpg\n",
      "/Users/pranshmaurya/Desktop/AIML_Project/archive/train/soy beans/Image_58.jpg\n",
      "/Users/pranshmaurya/Desktop/AIML_Project/archive/train/soy beans/Image_64.jpg\n",
      "/Users/pranshmaurya/Desktop/AIML_Project/archive/train/soy beans/Image_70.jpg\n",
      "/Users/pranshmaurya/Desktop/AIML_Project/archive/train/soy beans/Image_71.jpg\n",
      "/Users/pranshmaurya/Desktop/AIML_Project/archive/train/soy beans/Image_65.jpg\n",
      "/Users/pranshmaurya/Desktop/AIML_Project/archive/train/soy beans/Image_59.jpg\n",
      "/Users/pranshmaurya/Desktop/AIML_Project/archive/train/soy beans/Image_73.jpg\n",
      "/Users/pranshmaurya/Desktop/AIML_Project/archive/train/soy beans/Image_67.jpg\n",
      "/Users/pranshmaurya/Desktop/AIML_Project/archive/train/soy beans/Image_98.jpg\n",
      "/Users/pranshmaurya/Desktop/AIML_Project/archive/train/soy beans/Image_99.jpg\n",
      "/Users/pranshmaurya/Desktop/AIML_Project/archive/train/soy beans/Image_66.jpg\n",
      "/Users/pranshmaurya/Desktop/AIML_Project/archive/train/soy beans/Image_72.jpg\n",
      "/Users/pranshmaurya/Desktop/AIML_Project/archive/train/soy beans/Image_57.jpg\n",
      "/Users/pranshmaurya/Desktop/AIML_Project/archive/train/soy beans/Image_2.jpg\n",
      "/Users/pranshmaurya/Desktop/AIML_Project/archive/train/soy beans/Image_43.jpg\n",
      "/Users/pranshmaurya/Desktop/AIML_Project/archive/train/soy beans/Image_94.jpg\n",
      "/Users/pranshmaurya/Desktop/AIML_Project/archive/train/soy beans/Image_80.jpg\n",
      "/Users/pranshmaurya/Desktop/AIML_Project/archive/train/soy beans/Image_81.jpg\n",
      "/Users/pranshmaurya/Desktop/AIML_Project/archive/train/soy beans/Image_95.jpg\n",
      "/Users/pranshmaurya/Desktop/AIML_Project/archive/train/soy beans/Image_56.jpg\n",
      "/Users/pranshmaurya/Desktop/AIML_Project/archive/train/soy beans/Image_3.jpg\n",
      "/Users/pranshmaurya/Desktop/AIML_Project/archive/train/soy beans/Image_42.png\n",
      "/Users/pranshmaurya/Desktop/AIML_Project/archive/train/soy beans/Image_40.jpg\n",
      "/Users/pranshmaurya/Desktop/AIML_Project/archive/train/soy beans/Image_1.jpg\n",
      "/Users/pranshmaurya/Desktop/AIML_Project/archive/train/soy beans/Image_54.jpg\n",
      "/Users/pranshmaurya/Desktop/AIML_Project/archive/train/soy beans/Image_68.jpg\n",
      "/Users/pranshmaurya/Desktop/AIML_Project/archive/train/soy beans/Image_83.jpg\n",
      "/Users/pranshmaurya/Desktop/AIML_Project/archive/train/soy beans/Image_97.jpg\n",
      "/Users/pranshmaurya/Desktop/AIML_Project/archive/train/soy beans/Image_69.jpg\n",
      "/Users/pranshmaurya/Desktop/AIML_Project/archive/train/soy beans/Image_55.jpg\n",
      "/Users/pranshmaurya/Desktop/AIML_Project/archive/train/soy beans/Image_41.jpg\n",
      "/Users/pranshmaurya/Desktop/AIML_Project/archive/train/soy beans/Image_100.jpg\n",
      "/Users/pranshmaurya/Desktop/AIML_Project/archive/train/soy beans/Image_79.jpg\n",
      "/Users/pranshmaurya/Desktop/AIML_Project/archive/train/soy beans/Image_45.jpg\n",
      "/Users/pranshmaurya/Desktop/AIML_Project/archive/train/soy beans/Image_51.jpg\n",
      "/Users/pranshmaurya/Desktop/AIML_Project/archive/train/soy beans/Image_4.jpg\n",
      "/Users/pranshmaurya/Desktop/AIML_Project/archive/train/soy beans/Image_86.jpg\n",
      "/Users/pranshmaurya/Desktop/AIML_Project/archive/train/soy beans/Image_92.jpg\n",
      "/Users/pranshmaurya/Desktop/AIML_Project/archive/train/soy beans/Image_93.jpg\n",
      "/Users/pranshmaurya/Desktop/AIML_Project/archive/train/soy beans/Image_87.jpg\n",
      "/Users/pranshmaurya/Desktop/AIML_Project/archive/train/soy beans/Image_50.jpg\n",
      "/Users/pranshmaurya/Desktop/AIML_Project/archive/train/soy beans/Image_5.jpg\n",
      "/Users/pranshmaurya/Desktop/AIML_Project/archive/train/soy beans/Image_44.jpg\n",
      "/Users/pranshmaurya/Desktop/AIML_Project/archive/train/soy beans/Image_78.jpg\n",
      "/Users/pranshmaurya/Desktop/AIML_Project/archive/train/soy beans/Image_7.jpg\n",
      "/Users/pranshmaurya/Desktop/AIML_Project/archive/train/soy beans/Image_52.jpg\n",
      "/Users/pranshmaurya/Desktop/AIML_Project/archive/train/soy beans/Image_46.jpg\n",
      "/Users/pranshmaurya/Desktop/AIML_Project/archive/train/soy beans/Image_91.jpg\n",
      "/Users/pranshmaurya/Desktop/AIML_Project/archive/train/soy beans/Image_85.jpg\n",
      "/Users/pranshmaurya/Desktop/AIML_Project/archive/train/soy beans/Image_84.jpg\n",
      "/Users/pranshmaurya/Desktop/AIML_Project/archive/train/soy beans/Image_90.jpg\n",
      "/Users/pranshmaurya/Desktop/AIML_Project/archive/train/soy beans/Image_47.jpg\n",
      "/Users/pranshmaurya/Desktop/AIML_Project/archive/train/soy beans/Image_6.jpg\n",
      "/Users/pranshmaurya/Desktop/AIML_Project/archive/train/soy beans/Image_34.png\n",
      "/Users/pranshmaurya/Desktop/AIML_Project/archive/train/soy beans/Image_20.jpg\n",
      "/Users/pranshmaurya/Desktop/AIML_Project/archive/train/soy beans/Image_21.jpg\n",
      "/Users/pranshmaurya/Desktop/AIML_Project/archive/train/soy beans/Image_35.jpg\n",
      "/Users/pranshmaurya/Desktop/AIML_Project/archive/train/soy beans/Image_23.jpg\n",
      "/Users/pranshmaurya/Desktop/AIML_Project/archive/train/soy beans/Image_37.jpg\n",
      "/Users/pranshmaurya/Desktop/AIML_Project/archive/train/soy beans/Image_36.jpg\n",
      "/Users/pranshmaurya/Desktop/AIML_Project/archive/train/soy beans/Image_22.jpg\n",
      "/Users/pranshmaurya/Desktop/AIML_Project/archive/train/soy beans/Image_32.png\n",
      "/Users/pranshmaurya/Desktop/AIML_Project/archive/train/soy beans/Image_26.jpg\n",
      "/Users/pranshmaurya/Desktop/AIML_Project/archive/train/soy beans/Image_33.jpg\n",
      "/Users/pranshmaurya/Desktop/AIML_Project/archive/train/soy beans/Image_27.jpg\n",
      "/Users/pranshmaurya/Desktop/AIML_Project/archive/train/soy beans/Image_19.jpg\n",
      "/Users/pranshmaurya/Desktop/AIML_Project/archive/train/soy beans/Image_31.jpg\n",
      "/Users/pranshmaurya/Desktop/AIML_Project/archive/train/soy beans/Image_25.jpg\n",
      "/Users/pranshmaurya/Desktop/AIML_Project/archive/train/soy beans/Image_24.jpg\n",
      "/Users/pranshmaurya/Desktop/AIML_Project/archive/train/soy beans/Image_30.jpg\n",
      "/Users/pranshmaurya/Desktop/AIML_Project/archive/train/soy beans/Image_18.JPG\n",
      "/Users/pranshmaurya/Desktop/AIML_Project/archive/train/banana/Image_15.jpg\n",
      "/Users/pranshmaurya/Desktop/AIML_Project/archive/train/banana/Image_28.jpg\n",
      "/Users/pranshmaurya/Desktop/AIML_Project/archive/train/banana/Image_14.jpg\n",
      "/Users/pranshmaurya/Desktop/AIML_Project/archive/train/banana/Image_16.jpg\n",
      "/Users/pranshmaurya/Desktop/AIML_Project/archive/train/banana/Image_13.jpg\n",
      "/Users/pranshmaurya/Desktop/AIML_Project/archive/train/banana/Image_11.png\n",
      "/Users/pranshmaurya/Desktop/AIML_Project/archive/train/banana/Image_76.jpg\n",
      "/Users/pranshmaurya/Desktop/AIML_Project/archive/train/banana/Image_62.jpg\n",
      "/Users/pranshmaurya/Desktop/AIML_Project/archive/train/banana/Image_81.jpeg\n",
      "/Users/pranshmaurya/Desktop/AIML_Project/archive/train/banana/Image_89.jpg\n",
      "/Users/pranshmaurya/Desktop/AIML_Project/archive/train/banana/Image_63.jpg\n",
      "/Users/pranshmaurya/Desktop/AIML_Project/archive/train/banana/Image_77.jpg\n",
      "/Users/pranshmaurya/Desktop/AIML_Project/archive/train/banana/Image_88.png\n",
      "/Users/pranshmaurya/Desktop/AIML_Project/archive/train/banana/Image_61.png\n",
      "/Users/pranshmaurya/Desktop/AIML_Project/archive/train/banana/Image_75.jpg\n",
      "/Users/pranshmaurya/Desktop/AIML_Project/archive/train/banana/Image_8.jpg\n",
      "/Users/pranshmaurya/Desktop/AIML_Project/archive/train/banana/Image_49.jpg\n",
      "/Users/pranshmaurya/Desktop/AIML_Project/archive/train/banana/Image_9.jpg\n",
      "/Users/pranshmaurya/Desktop/AIML_Project/archive/train/banana/Image_48.png\n",
      "/Users/pranshmaurya/Desktop/AIML_Project/archive/train/banana/Image_58.png\n",
      "/Users/pranshmaurya/Desktop/AIML_Project/archive/train/banana/Image_64.jpg\n",
      "/Users/pranshmaurya/Desktop/AIML_Project/archive/train/banana/Image_71.jpg\n",
      "/Users/pranshmaurya/Desktop/AIML_Project/archive/train/banana/Image_59.jpg\n",
      "/Users/pranshmaurya/Desktop/AIML_Project/archive/train/banana/Image_65.png\n",
      "/Users/pranshmaurya/Desktop/AIML_Project/archive/train/banana/Image_73.jpg\n",
      "/Users/pranshmaurya/Desktop/AIML_Project/archive/train/banana/Image_67.jpg\n",
      "/Users/pranshmaurya/Desktop/AIML_Project/archive/train/banana/Image_98.jpg\n",
      "/Users/pranshmaurya/Desktop/AIML_Project/archive/train/banana/Image_66.jpg\n",
      "/Users/pranshmaurya/Desktop/AIML_Project/archive/train/banana/Image_72.jpg\n",
      "/Users/pranshmaurya/Desktop/AIML_Project/archive/train/banana/Image_80.png\n",
      "/Users/pranshmaurya/Desktop/AIML_Project/archive/train/banana/Image_43.png\n",
      "/Users/pranshmaurya/Desktop/AIML_Project/archive/train/banana/Image_57.jpg\n",
      "/Users/pranshmaurya/Desktop/AIML_Project/archive/train/banana/Image_95.jpg\n",
      "/Users/pranshmaurya/Desktop/AIML_Project/archive/train/banana/Image_42.jpg\n",
      "/Users/pranshmaurya/Desktop/AIML_Project/archive/train/banana/Image_56.jpg\n",
      "/Users/pranshmaurya/Desktop/AIML_Project/archive/train/banana/Image_3.jpg\n",
      "/Users/pranshmaurya/Desktop/AIML_Project/archive/train/banana/Image_83.png\n",
      "/Users/pranshmaurya/Desktop/AIML_Project/archive/train/banana/Image_40.jpg\n",
      "/Users/pranshmaurya/Desktop/AIML_Project/archive/train/banana/Image_1.jpg\n",
      "/Users/pranshmaurya/Desktop/AIML_Project/archive/train/banana/Image_54.jpg\n",
      "/Users/pranshmaurya/Desktop/AIML_Project/archive/train/banana/Image_68.jpg\n",
      "/Users/pranshmaurya/Desktop/AIML_Project/archive/train/banana/Image_97.jpg\n",
      "/Users/pranshmaurya/Desktop/AIML_Project/archive/train/banana/Image_96.jpg\n",
      "/Users/pranshmaurya/Desktop/AIML_Project/archive/train/banana/Image_82.jpg\n",
      "/Users/pranshmaurya/Desktop/AIML_Project/archive/train/banana/Image_69.jpg\n",
      "/Users/pranshmaurya/Desktop/AIML_Project/archive/train/banana/Image_55.jpg\n",
      "/Users/pranshmaurya/Desktop/AIML_Project/archive/train/banana/Image_41.jpg\n",
      "/Users/pranshmaurya/Desktop/AIML_Project/archive/train/banana/Image_100.jpg\n",
      "/Users/pranshmaurya/Desktop/AIML_Project/archive/train/banana/Image_79.jpg\n",
      "/Users/pranshmaurya/Desktop/AIML_Project/archive/train/banana/Image_45.jpg\n",
      "/Users/pranshmaurya/Desktop/AIML_Project/archive/train/banana/Image_4.jpg\n",
      "/Users/pranshmaurya/Desktop/AIML_Project/archive/train/banana/Image_86.jpg\n",
      "/Users/pranshmaurya/Desktop/AIML_Project/archive/train/banana/Image_92.jpg\n",
      "/Users/pranshmaurya/Desktop/AIML_Project/archive/train/banana/Image_93.jpg\n",
      "/Users/pranshmaurya/Desktop/AIML_Project/archive/train/banana/Image_50.jpg\n",
      "/Users/pranshmaurya/Desktop/AIML_Project/archive/train/banana/Image_5.jpg\n",
      "/Users/pranshmaurya/Desktop/AIML_Project/archive/train/banana/Image_44.jpg\n",
      "/Users/pranshmaurya/Desktop/AIML_Project/archive/train/banana/Image_52.jpg\n",
      "/Users/pranshmaurya/Desktop/AIML_Project/archive/train/banana/Image_46.jpg\n",
      "/Users/pranshmaurya/Desktop/AIML_Project/archive/train/banana/Image_91.jpg\n",
      "/Users/pranshmaurya/Desktop/AIML_Project/archive/train/banana/Image_85.jpg\n",
      "/Users/pranshmaurya/Desktop/AIML_Project/archive/train/banana/Image_84.jpg\n",
      "/Users/pranshmaurya/Desktop/AIML_Project/archive/train/banana/Image_90.jpg\n",
      "/Users/pranshmaurya/Desktop/AIML_Project/archive/train/banana/Image_47.jpg\n",
      "/Users/pranshmaurya/Desktop/AIML_Project/archive/train/banana/Image_6.jpg\n",
      "/Users/pranshmaurya/Desktop/AIML_Project/archive/train/banana/Image_53.png\n",
      "/Users/pranshmaurya/Desktop/AIML_Project/archive/train/banana/Image_21.JPG\n",
      "/Users/pranshmaurya/Desktop/AIML_Project/archive/train/banana/Image_23.jpg\n",
      "/Users/pranshmaurya/Desktop/AIML_Project/archive/train/banana/Image_37.jpg\n",
      "/Users/pranshmaurya/Desktop/AIML_Project/archive/train/banana/Image_32.jpg\n",
      "/Users/pranshmaurya/Desktop/AIML_Project/archive/train/banana/Image_51.jpeg\n",
      "/Users/pranshmaurya/Desktop/AIML_Project/archive/train/banana/Image_27.jpg\n",
      "/Users/pranshmaurya/Desktop/AIML_Project/archive/train/banana/Image_31.jpg\n",
      "/Users/pranshmaurya/Desktop/AIML_Project/archive/train/banana/Image_25.jpg\n",
      "/Users/pranshmaurya/Desktop/AIML_Project/archive/train/banana/Image_24.jpg\n",
      "/Users/pranshmaurya/Desktop/AIML_Project/archive/train/ginger/Image_29.png\n",
      "/Users/pranshmaurya/Desktop/AIML_Project/archive/train/ginger/Image_15.jpg\n",
      "/Users/pranshmaurya/Desktop/AIML_Project/archive/train/ginger/Image_28.jpg\n",
      "/Users/pranshmaurya/Desktop/AIML_Project/archive/train/ginger/Image_14.jpg\n",
      "/Users/pranshmaurya/Desktop/AIML_Project/archive/train/ginger/Image_16.jpg\n",
      "/Users/pranshmaurya/Desktop/AIML_Project/archive/train/ginger/Image_17.jpg\n",
      "/Users/pranshmaurya/Desktop/AIML_Project/archive/train/ginger/Image_13.jpg\n",
      "/Users/pranshmaurya/Desktop/AIML_Project/archive/train/ginger/Image_12.jpg\n",
      "/Users/pranshmaurya/Desktop/AIML_Project/archive/train/ginger/Image_38.jpg\n",
      "/Users/pranshmaurya/Desktop/AIML_Project/archive/train/ginger/Image_10.jpg\n",
      "/Users/pranshmaurya/Desktop/AIML_Project/archive/train/ginger/Image_11.jpg\n",
      "/Users/pranshmaurya/Desktop/AIML_Project/archive/train/ginger/Image_39.png\n",
      "/Users/pranshmaurya/Desktop/AIML_Project/archive/train/ginger/Image_62.jpg\n",
      "/Users/pranshmaurya/Desktop/AIML_Project/archive/train/ginger/Image_63.jpg\n",
      "/Users/pranshmaurya/Desktop/AIML_Project/archive/train/ginger/Image_61.jpg\n",
      "/Users/pranshmaurya/Desktop/AIML_Project/archive/train/ginger/Image_8.jpg\n",
      "/Users/pranshmaurya/Desktop/AIML_Project/archive/train/ginger/Image_9.jpg\n",
      "/Users/pranshmaurya/Desktop/AIML_Project/archive/train/ginger/Image_74.jpg\n",
      "/Users/pranshmaurya/Desktop/AIML_Project/archive/train/ginger/Image_60.jpg\n",
      "/Users/pranshmaurya/Desktop/AIML_Project/archive/train/ginger/Image_58.jpg\n",
      "/Users/pranshmaurya/Desktop/AIML_Project/archive/train/ginger/Image_64.jpg\n",
      "/Users/pranshmaurya/Desktop/AIML_Project/archive/train/ginger/Image_71.jpg\n",
      "/Users/pranshmaurya/Desktop/AIML_Project/archive/train/ginger/Image_73.jpg\n",
      "/Users/pranshmaurya/Desktop/AIML_Project/archive/train/ginger/Image_67.jpg\n",
      "/Users/pranshmaurya/Desktop/AIML_Project/archive/train/ginger/Image_98.jpg\n",
      "/Users/pranshmaurya/Desktop/AIML_Project/archive/train/ginger/Image_99.jpg\n",
      "/Users/pranshmaurya/Desktop/AIML_Project/archive/train/ginger/Image_72.jpg\n",
      "/Users/pranshmaurya/Desktop/AIML_Project/archive/train/ginger/Image_57.jpg\n",
      "/Users/pranshmaurya/Desktop/AIML_Project/archive/train/ginger/Image_2.jpg\n",
      "/Users/pranshmaurya/Desktop/AIML_Project/archive/train/ginger/Image_43.jpg\n",
      "/Users/pranshmaurya/Desktop/AIML_Project/archive/train/ginger/Image_95.jpg\n",
      "/Users/pranshmaurya/Desktop/AIML_Project/archive/train/ginger/Image_3.jpg\n",
      "/Users/pranshmaurya/Desktop/AIML_Project/archive/train/ginger/Image_42.png\n",
      "/Users/pranshmaurya/Desktop/AIML_Project/archive/train/ginger/Image_40.jpg\n",
      "/Users/pranshmaurya/Desktop/AIML_Project/archive/train/ginger/Image_1.jpg\n",
      "/Users/pranshmaurya/Desktop/AIML_Project/archive/train/ginger/Image_54.jpg\n",
      "/Users/pranshmaurya/Desktop/AIML_Project/archive/train/ginger/Image_68.jpg\n",
      "/Users/pranshmaurya/Desktop/AIML_Project/archive/train/ginger/Image_96.jpg\n",
      "/Users/pranshmaurya/Desktop/AIML_Project/archive/train/ginger/Image_69.jpg\n",
      "/Users/pranshmaurya/Desktop/AIML_Project/archive/train/ginger/Image_41.jpg\n",
      "/Users/pranshmaurya/Desktop/AIML_Project/archive/train/ginger/Image_100.jpg\n",
      "/Users/pranshmaurya/Desktop/AIML_Project/archive/train/ginger/Image_79.jpg\n",
      "/Users/pranshmaurya/Desktop/AIML_Project/archive/train/ginger/Image_4.jpg\n",
      "/Users/pranshmaurya/Desktop/AIML_Project/archive/train/ginger/Image_92.jpg\n",
      "/Users/pranshmaurya/Desktop/AIML_Project/archive/train/ginger/Image_5.jpg\n",
      "/Users/pranshmaurya/Desktop/AIML_Project/archive/train/ginger/Image_78.jpg\n",
      "/Users/pranshmaurya/Desktop/AIML_Project/archive/train/ginger/Image_82.jpeg\n",
      "/Users/pranshmaurya/Desktop/AIML_Project/archive/train/ginger/Image_7.jpg\n",
      "/Users/pranshmaurya/Desktop/AIML_Project/archive/train/ginger/Image_85.jpg\n",
      "/Users/pranshmaurya/Desktop/AIML_Project/archive/train/ginger/Image_6.jpg\n",
      "/Users/pranshmaurya/Desktop/AIML_Project/archive/train/ginger/Image_53.jpg\n",
      "/Users/pranshmaurya/Desktop/AIML_Project/archive/train/ginger/Image_34.jpg\n",
      "/Users/pranshmaurya/Desktop/AIML_Project/archive/train/ginger/Image_20.jpg\n",
      "/Users/pranshmaurya/Desktop/AIML_Project/archive/train/ginger/Image_21.jpg\n",
      "/Users/pranshmaurya/Desktop/AIML_Project/archive/train/ginger/Image_35.jpg\n",
      "/Users/pranshmaurya/Desktop/AIML_Project/archive/train/ginger/Image_37.jpg\n",
      "/Users/pranshmaurya/Desktop/AIML_Project/archive/train/ginger/Image_36.jpg\n",
      "/Users/pranshmaurya/Desktop/AIML_Project/archive/train/ginger/Image_22.jpg\n",
      "/Users/pranshmaurya/Desktop/AIML_Project/archive/train/ginger/Image_26.jpg\n",
      "/Users/pranshmaurya/Desktop/AIML_Project/archive/train/ginger/Image_32.jpg\n",
      "/Users/pranshmaurya/Desktop/AIML_Project/archive/train/ginger/Image_33.jpg\n",
      "/Users/pranshmaurya/Desktop/AIML_Project/archive/train/ginger/Image_27.jpg\n",
      "/Users/pranshmaurya/Desktop/AIML_Project/archive/train/ginger/Image_19.jpg\n",
      "/Users/pranshmaurya/Desktop/AIML_Project/archive/train/ginger/Image_31.jpg\n",
      "/Users/pranshmaurya/Desktop/AIML_Project/archive/train/ginger/Image_25.jpg\n",
      "/Users/pranshmaurya/Desktop/AIML_Project/archive/train/ginger/Image_24.jpg\n",
      "/Users/pranshmaurya/Desktop/AIML_Project/archive/train/ginger/Image_30.jpg\n",
      "/Users/pranshmaurya/Desktop/AIML_Project/archive/train/ginger/Image_18.jpg\n",
      "/Users/pranshmaurya/Desktop/AIML_Project/archive/train/garlic/Image_15.jpg\n",
      "/Users/pranshmaurya/Desktop/AIML_Project/archive/train/garlic/Image_29.jpg\n",
      "/Users/pranshmaurya/Desktop/AIML_Project/archive/train/garlic/Image_25.jpeg\n",
      "/Users/pranshmaurya/Desktop/AIML_Project/archive/train/garlic/Image_28.jpg\n",
      "/Users/pranshmaurya/Desktop/AIML_Project/archive/train/garlic/Image_14.jpg\n",
      "/Users/pranshmaurya/Desktop/AIML_Project/archive/train/garlic/Image_16.jpg\n",
      "/Users/pranshmaurya/Desktop/AIML_Project/archive/train/garlic/Image_17.jpg\n",
      "/Users/pranshmaurya/Desktop/AIML_Project/archive/train/garlic/Image_13.jpg\n",
      "/Users/pranshmaurya/Desktop/AIML_Project/archive/train/garlic/Image_12.jpg\n",
      "/Users/pranshmaurya/Desktop/AIML_Project/archive/train/garlic/Image_38.jpg\n",
      "/Users/pranshmaurya/Desktop/AIML_Project/archive/train/garlic/Image_10.jpg\n",
      "/Users/pranshmaurya/Desktop/AIML_Project/archive/train/garlic/Image_11.jpg\n",
      "/Users/pranshmaurya/Desktop/AIML_Project/archive/train/garlic/Image_39.jpg\n",
      "/Users/pranshmaurya/Desktop/AIML_Project/archive/train/garlic/Image_76.jpg\n",
      "/Users/pranshmaurya/Desktop/AIML_Project/archive/train/garlic/Image_62.jpg\n",
      "/Users/pranshmaurya/Desktop/AIML_Project/archive/train/garlic/Image_88.jpg\n",
      "/Users/pranshmaurya/Desktop/AIML_Project/archive/train/garlic/Image_63.jpg\n",
      "/Users/pranshmaurya/Desktop/AIML_Project/archive/train/garlic/Image_77.jpg\n",
      "/Users/pranshmaurya/Desktop/AIML_Project/archive/train/garlic/Image_61.jpg\n",
      "/Users/pranshmaurya/Desktop/AIML_Project/archive/train/garlic/Image_75.jpg\n",
      "/Users/pranshmaurya/Desktop/AIML_Project/archive/train/garlic/Image_8.jpg\n",
      "/Users/pranshmaurya/Desktop/AIML_Project/archive/train/garlic/Image_49.jpg\n",
      "/Users/pranshmaurya/Desktop/AIML_Project/archive/train/garlic/Image_48.jpg\n",
      "/Users/pranshmaurya/Desktop/AIML_Project/archive/train/garlic/Image_9.jpg\n",
      "/Users/pranshmaurya/Desktop/AIML_Project/archive/train/garlic/Image_74.jpg\n",
      "/Users/pranshmaurya/Desktop/AIML_Project/archive/train/garlic/Image_60.jpg\n",
      "/Users/pranshmaurya/Desktop/AIML_Project/archive/train/garlic/Image_58.jpg\n",
      "/Users/pranshmaurya/Desktop/AIML_Project/archive/train/garlic/Image_64.jpg\n",
      "/Users/pranshmaurya/Desktop/AIML_Project/archive/train/garlic/Image_71.jpg\n",
      "/Users/pranshmaurya/Desktop/AIML_Project/archive/train/garlic/Image_65.jpg\n",
      "/Users/pranshmaurya/Desktop/AIML_Project/archive/train/garlic/Image_59.png\n",
      "/Users/pranshmaurya/Desktop/AIML_Project/archive/train/garlic/Image_67.jpg\n",
      "/Users/pranshmaurya/Desktop/AIML_Project/archive/train/garlic/Image_98.jpg\n",
      "/Users/pranshmaurya/Desktop/AIML_Project/archive/train/garlic/Image_99.jpg\n",
      "/Users/pranshmaurya/Desktop/AIML_Project/archive/train/garlic/Image_66.jpg\n",
      "/Users/pranshmaurya/Desktop/AIML_Project/archive/train/garlic/Image_57.jpg\n",
      "/Users/pranshmaurya/Desktop/AIML_Project/archive/train/garlic/Image_2.jpg\n",
      "/Users/pranshmaurya/Desktop/AIML_Project/archive/train/garlic/Image_43.jpg\n",
      "/Users/pranshmaurya/Desktop/AIML_Project/archive/train/garlic/Image_94.jpg\n",
      "/Users/pranshmaurya/Desktop/AIML_Project/archive/train/garlic/Image_56.jpeg\n",
      "/Users/pranshmaurya/Desktop/AIML_Project/archive/train/garlic/Image_81.jpg\n",
      "/Users/pranshmaurya/Desktop/AIML_Project/archive/train/garlic/Image_95.jpg\n",
      "/Users/pranshmaurya/Desktop/AIML_Project/archive/train/garlic/Image_3.jpg\n",
      "/Users/pranshmaurya/Desktop/AIML_Project/archive/train/garlic/Image_42.png\n",
      "/Users/pranshmaurya/Desktop/AIML_Project/archive/train/garlic/Image_40.jpg\n",
      "/Users/pranshmaurya/Desktop/AIML_Project/archive/train/garlic/Image_1.jpg\n",
      "/Users/pranshmaurya/Desktop/AIML_Project/archive/train/garlic/Image_54.jpg\n",
      "/Users/pranshmaurya/Desktop/AIML_Project/archive/train/garlic/Image_68.jpg\n",
      "/Users/pranshmaurya/Desktop/AIML_Project/archive/train/garlic/Image_83.jpg\n",
      "/Users/pranshmaurya/Desktop/AIML_Project/archive/train/garlic/Image_97.jpg\n",
      "/Users/pranshmaurya/Desktop/AIML_Project/archive/train/garlic/Image_96.jpg\n",
      "/Users/pranshmaurya/Desktop/AIML_Project/archive/train/garlic/Image_82.jpg\n",
      "/Users/pranshmaurya/Desktop/AIML_Project/archive/train/garlic/Image_69.jpg\n",
      "/Users/pranshmaurya/Desktop/AIML_Project/archive/train/garlic/Image_55.jpg\n",
      "/Users/pranshmaurya/Desktop/AIML_Project/archive/train/garlic/Image_41.jpg\n",
      "/Users/pranshmaurya/Desktop/AIML_Project/archive/train/garlic/Image_100.jpg\n",
      "/Users/pranshmaurya/Desktop/AIML_Project/archive/train/garlic/Image_45.png\n",
      "/Users/pranshmaurya/Desktop/AIML_Project/archive/train/garlic/Image_51.jpg\n",
      "/Users/pranshmaurya/Desktop/AIML_Project/archive/train/garlic/Image_4.jpg\n",
      "/Users/pranshmaurya/Desktop/AIML_Project/archive/train/garlic/Image_86.jpg\n",
      "/Users/pranshmaurya/Desktop/AIML_Project/archive/train/garlic/Image_93.jpg\n",
      "/Users/pranshmaurya/Desktop/AIML_Project/archive/train/garlic/Image_50.jpg\n",
      "/Users/pranshmaurya/Desktop/AIML_Project/archive/train/garlic/Image_5.jpg\n",
      "/Users/pranshmaurya/Desktop/AIML_Project/archive/train/garlic/Image_44.jpg\n",
      "/Users/pranshmaurya/Desktop/AIML_Project/archive/train/garlic/Image_78.jpg\n",
      "/Users/pranshmaurya/Desktop/AIML_Project/archive/train/garlic/Image_7.jpg\n",
      "/Users/pranshmaurya/Desktop/AIML_Project/archive/train/garlic/Image_52.jpg\n",
      "/Users/pranshmaurya/Desktop/AIML_Project/archive/train/garlic/Image_46.jpg\n",
      "/Users/pranshmaurya/Desktop/AIML_Project/archive/train/garlic/Image_91.jpg\n",
      "/Users/pranshmaurya/Desktop/AIML_Project/archive/train/garlic/Image_85.jpg\n",
      "/Users/pranshmaurya/Desktop/AIML_Project/archive/train/garlic/Image_84.jpg\n",
      "/Users/pranshmaurya/Desktop/AIML_Project/archive/train/garlic/Image_90.jpg\n",
      "/Users/pranshmaurya/Desktop/AIML_Project/archive/train/garlic/Image_47.JPG\n",
      "/Users/pranshmaurya/Desktop/AIML_Project/archive/train/garlic/Image_6.jpg\n",
      "/Users/pranshmaurya/Desktop/AIML_Project/archive/train/garlic/Image_53.jpg\n",
      "/Users/pranshmaurya/Desktop/AIML_Project/archive/train/garlic/Image_34.jpg\n",
      "/Users/pranshmaurya/Desktop/AIML_Project/archive/train/garlic/Image_20.jpg\n",
      "/Users/pranshmaurya/Desktop/AIML_Project/archive/train/garlic/Image_21.jpg\n",
      "/Users/pranshmaurya/Desktop/AIML_Project/archive/train/garlic/Image_35.png\n",
      "/Users/pranshmaurya/Desktop/AIML_Project/archive/train/garlic/Image_23.jpg\n",
      "/Users/pranshmaurya/Desktop/AIML_Project/archive/train/garlic/Image_37.jpg\n",
      "/Users/pranshmaurya/Desktop/AIML_Project/archive/train/garlic/Image_22.jpg\n",
      "/Users/pranshmaurya/Desktop/AIML_Project/archive/train/garlic/Image_36.png\n",
      "/Users/pranshmaurya/Desktop/AIML_Project/archive/train/garlic/Image_26.jpg\n",
      "/Users/pranshmaurya/Desktop/AIML_Project/archive/train/garlic/Image_32.jpg\n",
      "/Users/pranshmaurya/Desktop/AIML_Project/archive/train/garlic/Image_33.jpg\n",
      "/Users/pranshmaurya/Desktop/AIML_Project/archive/train/garlic/Image_27.jpg\n",
      "/Users/pranshmaurya/Desktop/AIML_Project/archive/train/garlic/Image_19.jpg\n",
      "/Users/pranshmaurya/Desktop/AIML_Project/archive/train/garlic/Image_31.jpg\n",
      "/Users/pranshmaurya/Desktop/AIML_Project/archive/train/garlic/Image_30.jpg\n",
      "/Users/pranshmaurya/Desktop/AIML_Project/archive/train/garlic/Image_18.jpg\n",
      "/Users/pranshmaurya/Desktop/AIML_Project/archive/train/garlic/Image_24.png\n",
      "/Users/pranshmaurya/Desktop/AIML_Project/archive/train/pineapple/Image_29.png\n",
      "/Users/pranshmaurya/Desktop/AIML_Project/archive/train/pineapple/Image_15.jpg\n",
      "/Users/pranshmaurya/Desktop/AIML_Project/archive/train/pineapple/Image_28.jpg\n",
      "/Users/pranshmaurya/Desktop/AIML_Project/archive/train/pineapple/Image_14.jpg\n",
      "/Users/pranshmaurya/Desktop/AIML_Project/archive/train/pineapple/Image_16.jpg\n",
      "/Users/pranshmaurya/Desktop/AIML_Project/archive/train/pineapple/Image_17.jpg\n",
      "/Users/pranshmaurya/Desktop/AIML_Project/archive/train/pineapple/Image_13.jpg\n",
      "/Users/pranshmaurya/Desktop/AIML_Project/archive/train/pineapple/Image_12.jpg\n",
      "/Users/pranshmaurya/Desktop/AIML_Project/archive/train/pineapple/Image_10.jpg\n",
      "/Users/pranshmaurya/Desktop/AIML_Project/archive/train/pineapple/Image_11.jpg\n",
      "/Users/pranshmaurya/Desktop/AIML_Project/archive/train/pineapple/Image_39.jpg\n",
      "/Users/pranshmaurya/Desktop/AIML_Project/archive/train/pineapple/Image_89.png\n",
      "/Users/pranshmaurya/Desktop/AIML_Project/archive/train/pineapple/Image_76.jpg\n",
      "/Users/pranshmaurya/Desktop/AIML_Project/archive/train/pineapple/Image_62.jpg\n",
      "/Users/pranshmaurya/Desktop/AIML_Project/archive/train/pineapple/Image_88.jpg\n",
      "/Users/pranshmaurya/Desktop/AIML_Project/archive/train/pineapple/Image_63.jpg\n",
      "/Users/pranshmaurya/Desktop/AIML_Project/archive/train/pineapple/Image_77.jpg\n",
      "/Users/pranshmaurya/Desktop/AIML_Project/archive/train/pineapple/Image_61.jpg\n",
      "/Users/pranshmaurya/Desktop/AIML_Project/archive/train/pineapple/Image_75.jpg\n",
      "/Users/pranshmaurya/Desktop/AIML_Project/archive/train/pineapple/Image_8.jpg\n",
      "/Users/pranshmaurya/Desktop/AIML_Project/archive/train/pineapple/Image_49.jpg\n",
      "/Users/pranshmaurya/Desktop/AIML_Project/archive/train/pineapple/Image_48.jpg\n",
      "/Users/pranshmaurya/Desktop/AIML_Project/archive/train/pineapple/Image_9.jpg\n",
      "/Users/pranshmaurya/Desktop/AIML_Project/archive/train/pineapple/Image_74.jpg\n",
      "/Users/pranshmaurya/Desktop/AIML_Project/archive/train/pineapple/Image_58.png\n",
      "/Users/pranshmaurya/Desktop/AIML_Project/archive/train/pineapple/Image_64.jpg\n",
      "/Users/pranshmaurya/Desktop/AIML_Project/archive/train/pineapple/Image_70.jpg\n",
      "/Users/pranshmaurya/Desktop/AIML_Project/archive/train/pineapple/Image_71.jpg\n",
      "/Users/pranshmaurya/Desktop/AIML_Project/archive/train/pineapple/Image_65.jpg\n",
      "/Users/pranshmaurya/Desktop/AIML_Project/archive/train/pineapple/Image_59.jpg\n",
      "/Users/pranshmaurya/Desktop/AIML_Project/archive/train/pineapple/Image_73.jpg\n",
      "/Users/pranshmaurya/Desktop/AIML_Project/archive/train/pineapple/Image_67.jpg\n",
      "/Users/pranshmaurya/Desktop/AIML_Project/archive/train/pineapple/Image_98.jpg\n",
      "/Users/pranshmaurya/Desktop/AIML_Project/archive/train/pineapple/Image_99.jpg\n",
      "/Users/pranshmaurya/Desktop/AIML_Project/archive/train/pineapple/Image_66.jpg\n",
      "/Users/pranshmaurya/Desktop/AIML_Project/archive/train/pineapple/Image_72.jpg\n",
      "/Users/pranshmaurya/Desktop/AIML_Project/archive/train/pineapple/Image_38.jpeg\n",
      "/Users/pranshmaurya/Desktop/AIML_Project/archive/train/pineapple/Image_57.jpg\n",
      "/Users/pranshmaurya/Desktop/AIML_Project/archive/train/pineapple/Image_2.jpg\n",
      "/Users/pranshmaurya/Desktop/AIML_Project/archive/train/pineapple/Image_43.jpg\n",
      "/Users/pranshmaurya/Desktop/AIML_Project/archive/train/pineapple/Image_80.jpg\n",
      "/Users/pranshmaurya/Desktop/AIML_Project/archive/train/pineapple/Image_81.jpg\n",
      "/Users/pranshmaurya/Desktop/AIML_Project/archive/train/pineapple/Image_95.jpg\n",
      "/Users/pranshmaurya/Desktop/AIML_Project/archive/train/pineapple/Image_42.jpg\n",
      "/Users/pranshmaurya/Desktop/AIML_Project/archive/train/pineapple/Image_56.jpg\n",
      "/Users/pranshmaurya/Desktop/AIML_Project/archive/train/pineapple/Image_3.jpg\n",
      "/Users/pranshmaurya/Desktop/AIML_Project/archive/train/pineapple/Image_68.png\n",
      "/Users/pranshmaurya/Desktop/AIML_Project/archive/train/pineapple/Image_40.jpg\n",
      "/Users/pranshmaurya/Desktop/AIML_Project/archive/train/pineapple/Image_1.jpg\n",
      "/Users/pranshmaurya/Desktop/AIML_Project/archive/train/pineapple/Image_54.jpg\n",
      "/Users/pranshmaurya/Desktop/AIML_Project/archive/train/pineapple/Image_83.jpg\n",
      "/Users/pranshmaurya/Desktop/AIML_Project/archive/train/pineapple/Image_97.jpg\n",
      "/Users/pranshmaurya/Desktop/AIML_Project/archive/train/pineapple/Image_60.jpeg\n",
      "/Users/pranshmaurya/Desktop/AIML_Project/archive/train/pineapple/Image_96.jpg\n",
      "/Users/pranshmaurya/Desktop/AIML_Project/archive/train/pineapple/Image_82.jpg\n",
      "/Users/pranshmaurya/Desktop/AIML_Project/archive/train/pineapple/Image_69.jpg\n",
      "/Users/pranshmaurya/Desktop/AIML_Project/archive/train/pineapple/Image_55.jpg\n",
      "/Users/pranshmaurya/Desktop/AIML_Project/archive/train/pineapple/Image_41.png\n",
      "/Users/pranshmaurya/Desktop/AIML_Project/archive/train/pineapple/Image_92.png\n",
      "/Users/pranshmaurya/Desktop/AIML_Project/archive/train/pineapple/Image_100.jpg\n",
      "/Users/pranshmaurya/Desktop/AIML_Project/archive/train/pineapple/Image_79.png\n",
      "/Users/pranshmaurya/Desktop/AIML_Project/archive/train/pineapple/Image_45.png\n",
      "/Users/pranshmaurya/Desktop/AIML_Project/archive/train/pineapple/Image_51.JPG\n",
      "/Users/pranshmaurya/Desktop/AIML_Project/archive/train/pineapple/Image_4.jpg\n",
      "/Users/pranshmaurya/Desktop/AIML_Project/archive/train/pineapple/Image_86.jpg\n",
      "/Users/pranshmaurya/Desktop/AIML_Project/archive/train/pineapple/Image_93.jpg\n",
      "/Users/pranshmaurya/Desktop/AIML_Project/archive/train/pineapple/Image_50.jpg\n",
      "/Users/pranshmaurya/Desktop/AIML_Project/archive/train/pineapple/Image_5.jpg\n",
      "/Users/pranshmaurya/Desktop/AIML_Project/archive/train/pineapple/Image_44.jpg\n",
      "/Users/pranshmaurya/Desktop/AIML_Project/archive/train/pineapple/Image_78.jpg\n",
      "/Users/pranshmaurya/Desktop/AIML_Project/archive/train/pineapple/Image_87.png\n",
      "/Users/pranshmaurya/Desktop/AIML_Project/archive/train/pineapple/Image_7.jpg\n",
      "/Users/pranshmaurya/Desktop/AIML_Project/archive/train/pineapple/Image_52.jpg\n",
      "/Users/pranshmaurya/Desktop/AIML_Project/archive/train/pineapple/Image_46.jpg\n",
      "/Users/pranshmaurya/Desktop/AIML_Project/archive/train/pineapple/Image_91.jpg\n",
      "/Users/pranshmaurya/Desktop/AIML_Project/archive/train/pineapple/Image_85.jpg\n",
      "/Users/pranshmaurya/Desktop/AIML_Project/archive/train/pineapple/Image_84.jpg\n",
      "/Users/pranshmaurya/Desktop/AIML_Project/archive/train/pineapple/Image_90.jpg\n",
      "/Users/pranshmaurya/Desktop/AIML_Project/archive/train/pineapple/Image_47.jpg\n",
      "/Users/pranshmaurya/Desktop/AIML_Project/archive/train/pineapple/Image_6.jpg\n",
      "/Users/pranshmaurya/Desktop/AIML_Project/archive/train/pineapple/Image_53.jpg\n",
      "/Users/pranshmaurya/Desktop/AIML_Project/archive/train/pineapple/Image_34.jpg\n",
      "/Users/pranshmaurya/Desktop/AIML_Project/archive/train/pineapple/Image_20.jpg\n",
      "/Users/pranshmaurya/Desktop/AIML_Project/archive/train/pineapple/Image_21.jpg\n",
      "/Users/pranshmaurya/Desktop/AIML_Project/archive/train/pineapple/Image_35.jpg\n",
      "/Users/pranshmaurya/Desktop/AIML_Project/archive/train/pineapple/Image_31.jpeg\n",
      "/Users/pranshmaurya/Desktop/AIML_Project/archive/train/pineapple/Image_23.jpg\n",
      "/Users/pranshmaurya/Desktop/AIML_Project/archive/train/pineapple/Image_37.jpg\n",
      "/Users/pranshmaurya/Desktop/AIML_Project/archive/train/pineapple/Image_36.jpg\n",
      "/Users/pranshmaurya/Desktop/AIML_Project/archive/train/pineapple/Image_22.jpg\n",
      "/Users/pranshmaurya/Desktop/AIML_Project/archive/train/pineapple/Image_26.png\n",
      "/Users/pranshmaurya/Desktop/AIML_Project/archive/train/pineapple/Image_32.jpg\n",
      "/Users/pranshmaurya/Desktop/AIML_Project/archive/train/pineapple/Image_33.jpg\n",
      "/Users/pranshmaurya/Desktop/AIML_Project/archive/train/pineapple/Image_27.jpg\n",
      "/Users/pranshmaurya/Desktop/AIML_Project/archive/train/pineapple/Image_19.jpg\n",
      "/Users/pranshmaurya/Desktop/AIML_Project/archive/train/pineapple/Image_25.jpg\n",
      "/Users/pranshmaurya/Desktop/AIML_Project/archive/train/pineapple/Image_30.jpg\n",
      "/Users/pranshmaurya/Desktop/AIML_Project/archive/train/pineapple/Image_18.jpg\n",
      "/Users/pranshmaurya/Desktop/AIML_Project/archive/train/pineapple/Image_24.png\n",
      "/Users/pranshmaurya/Desktop/AIML_Project/archive/train/tomato/Image_15.jpg\n",
      "/Users/pranshmaurya/Desktop/AIML_Project/archive/train/tomato/Image_29.jpg\n",
      "/Users/pranshmaurya/Desktop/AIML_Project/archive/train/tomato/Image_28.jpg\n",
      "/Users/pranshmaurya/Desktop/AIML_Project/archive/train/tomato/Image_14.jpg\n",
      "/Users/pranshmaurya/Desktop/AIML_Project/archive/train/tomato/Image_16.jpg\n",
      "/Users/pranshmaurya/Desktop/AIML_Project/archive/train/tomato/Image_17.jpg\n",
      "/Users/pranshmaurya/Desktop/AIML_Project/archive/train/tomato/Image_13.jpg\n",
      "/Users/pranshmaurya/Desktop/AIML_Project/archive/train/tomato/Image_12.jpg\n",
      "/Users/pranshmaurya/Desktop/AIML_Project/archive/train/tomato/Image_38.jpg\n",
      "/Users/pranshmaurya/Desktop/AIML_Project/archive/train/tomato/Image_10.jpg\n",
      "/Users/pranshmaurya/Desktop/AIML_Project/archive/train/tomato/Image_11.jpg\n",
      "/Users/pranshmaurya/Desktop/AIML_Project/archive/train/tomato/Image_39.jpg\n",
      "/Users/pranshmaurya/Desktop/AIML_Project/archive/train/tomato/Image_62.png\n",
      "/Users/pranshmaurya/Desktop/AIML_Project/archive/train/tomato/Image_76.jpg\n",
      "/Users/pranshmaurya/Desktop/AIML_Project/archive/train/tomato/Image_89.jpg\n",
      "/Users/pranshmaurya/Desktop/AIML_Project/archive/train/tomato/Image_63.jpg\n",
      "/Users/pranshmaurya/Desktop/AIML_Project/archive/train/tomato/Image_77.jpg\n",
      "/Users/pranshmaurya/Desktop/AIML_Project/archive/train/tomato/Image_35.jpeg\n",
      "/Users/pranshmaurya/Desktop/AIML_Project/archive/train/tomato/Image_61.jpg\n",
      "/Users/pranshmaurya/Desktop/AIML_Project/archive/train/tomato/Image_8.jpg\n",
      "/Users/pranshmaurya/Desktop/AIML_Project/archive/train/tomato/Image_9.jpg\n",
      "/Users/pranshmaurya/Desktop/AIML_Project/archive/train/tomato/Image_74.jpg\n",
      "/Users/pranshmaurya/Desktop/AIML_Project/archive/train/tomato/Image_60.jpg\n",
      "/Users/pranshmaurya/Desktop/AIML_Project/archive/train/tomato/Image_48.png\n",
      "/Users/pranshmaurya/Desktop/AIML_Project/archive/train/tomato/Image_58.jpg\n",
      "/Users/pranshmaurya/Desktop/AIML_Project/archive/train/tomato/Image_70.jpg\n",
      "/Users/pranshmaurya/Desktop/AIML_Project/archive/train/tomato/Image_75.jpeg\n",
      "/Users/pranshmaurya/Desktop/AIML_Project/archive/train/tomato/Image_71.jpg\n",
      "/Users/pranshmaurya/Desktop/AIML_Project/archive/train/tomato/Image_65.jpg\n",
      "/Users/pranshmaurya/Desktop/AIML_Project/archive/train/tomato/Image_59.jpg\n",
      "/Users/pranshmaurya/Desktop/AIML_Project/archive/train/tomato/Image_73.jpg\n",
      "/Users/pranshmaurya/Desktop/AIML_Project/archive/train/tomato/Image_67.jpg\n",
      "/Users/pranshmaurya/Desktop/AIML_Project/archive/train/tomato/Image_98.jpg\n",
      "/Users/pranshmaurya/Desktop/AIML_Project/archive/train/tomato/Image_99.jpg\n",
      "/Users/pranshmaurya/Desktop/AIML_Project/archive/train/tomato/Image_66.jpg\n",
      "/Users/pranshmaurya/Desktop/AIML_Project/archive/train/tomato/Image_72.jpg\n",
      "/Users/pranshmaurya/Desktop/AIML_Project/archive/train/tomato/Image_80.png\n",
      "/Users/pranshmaurya/Desktop/AIML_Project/archive/train/tomato/Image_57.jpg\n",
      "/Users/pranshmaurya/Desktop/AIML_Project/archive/train/tomato/Image_2.jpg\n",
      "/Users/pranshmaurya/Desktop/AIML_Project/archive/train/tomato/Image_43.jpg\n",
      "/Users/pranshmaurya/Desktop/AIML_Project/archive/train/tomato/Image_81.jpg\n",
      "/Users/pranshmaurya/Desktop/AIML_Project/archive/train/tomato/Image_56.jpg\n",
      "/Users/pranshmaurya/Desktop/AIML_Project/archive/train/tomato/Image_3.jpg\n",
      "/Users/pranshmaurya/Desktop/AIML_Project/archive/train/tomato/Image_42.png\n",
      "/Users/pranshmaurya/Desktop/AIML_Project/archive/train/tomato/Image_40.jpg\n",
      "/Users/pranshmaurya/Desktop/AIML_Project/archive/train/tomato/Image_1.jpg\n",
      "/Users/pranshmaurya/Desktop/AIML_Project/archive/train/tomato/Image_54.jpg\n",
      "/Users/pranshmaurya/Desktop/AIML_Project/archive/train/tomato/Image_68.jpg\n",
      "/Users/pranshmaurya/Desktop/AIML_Project/archive/train/tomato/Image_83.jpg\n",
      "/Users/pranshmaurya/Desktop/AIML_Project/archive/train/tomato/Image_97.jpg\n",
      "/Users/pranshmaurya/Desktop/AIML_Project/archive/train/tomato/Image_96.jpg\n",
      "/Users/pranshmaurya/Desktop/AIML_Project/archive/train/tomato/Image_82.jpg\n",
      "/Users/pranshmaurya/Desktop/AIML_Project/archive/train/tomato/Image_69.jpg\n",
      "/Users/pranshmaurya/Desktop/AIML_Project/archive/train/tomato/Image_55.jpg\n",
      "/Users/pranshmaurya/Desktop/AIML_Project/archive/train/tomato/Image_41.jpg\n",
      "/Users/pranshmaurya/Desktop/AIML_Project/archive/train/tomato/Image_100.jpg\n",
      "/Users/pranshmaurya/Desktop/AIML_Project/archive/train/tomato/Image_79.jpg\n",
      "/Users/pranshmaurya/Desktop/AIML_Project/archive/train/tomato/Image_45.jpg\n",
      "/Users/pranshmaurya/Desktop/AIML_Project/archive/train/tomato/Image_51.jpg\n",
      "/Users/pranshmaurya/Desktop/AIML_Project/archive/train/tomato/Image_4.jpg\n",
      "/Users/pranshmaurya/Desktop/AIML_Project/archive/train/tomato/Image_86.jpg\n",
      "/Users/pranshmaurya/Desktop/AIML_Project/archive/train/tomato/Image_93.jpg\n",
      "/Users/pranshmaurya/Desktop/AIML_Project/archive/train/tomato/Image_87.jpg\n",
      "/Users/pranshmaurya/Desktop/AIML_Project/archive/train/tomato/Image_50.jpg\n",
      "/Users/pranshmaurya/Desktop/AIML_Project/archive/train/tomato/Image_5.jpg\n",
      "/Users/pranshmaurya/Desktop/AIML_Project/archive/train/tomato/Image_44.jpg\n",
      "/Users/pranshmaurya/Desktop/AIML_Project/archive/train/tomato/Image_78.jpg\n",
      "/Users/pranshmaurya/Desktop/AIML_Project/archive/train/tomato/Image_46.png\n",
      "/Users/pranshmaurya/Desktop/AIML_Project/archive/train/tomato/Image_7.jpg\n",
      "/Users/pranshmaurya/Desktop/AIML_Project/archive/train/tomato/Image_52.jpg\n",
      "/Users/pranshmaurya/Desktop/AIML_Project/archive/train/tomato/Image_91.jpg\n",
      "/Users/pranshmaurya/Desktop/AIML_Project/archive/train/tomato/Image_84.jpg\n",
      "/Users/pranshmaurya/Desktop/AIML_Project/archive/train/tomato/Image_90.jpg\n",
      "/Users/pranshmaurya/Desktop/AIML_Project/archive/train/tomato/Image_47.jpg\n",
      "/Users/pranshmaurya/Desktop/AIML_Project/archive/train/tomato/Image_6.jpg\n",
      "/Users/pranshmaurya/Desktop/AIML_Project/archive/train/tomato/Image_53.jpg\n",
      "/Users/pranshmaurya/Desktop/AIML_Project/archive/train/tomato/Image_34.jpg\n",
      "/Users/pranshmaurya/Desktop/AIML_Project/archive/train/tomato/Image_20.jpg\n",
      "/Users/pranshmaurya/Desktop/AIML_Project/archive/train/tomato/Image_21.jpg\n",
      "/Users/pranshmaurya/Desktop/AIML_Project/archive/train/tomato/Image_23.jpg\n",
      "/Users/pranshmaurya/Desktop/AIML_Project/archive/train/tomato/Image_37.jpg\n",
      "/Users/pranshmaurya/Desktop/AIML_Project/archive/train/tomato/Image_22.jpg\n",
      "/Users/pranshmaurya/Desktop/AIML_Project/archive/train/tomato/Image_26.jpg\n",
      "/Users/pranshmaurya/Desktop/AIML_Project/archive/train/tomato/Image_32.jpg\n",
      "/Users/pranshmaurya/Desktop/AIML_Project/archive/train/tomato/Image_33.jpg\n",
      "/Users/pranshmaurya/Desktop/AIML_Project/archive/train/tomato/Image_27.jpg\n",
      "/Users/pranshmaurya/Desktop/AIML_Project/archive/train/tomato/Image_31.png\n",
      "/Users/pranshmaurya/Desktop/AIML_Project/archive/train/tomato/Image_19.jpg\n",
      "/Users/pranshmaurya/Desktop/AIML_Project/archive/train/tomato/Image_25.jpg\n",
      "/Users/pranshmaurya/Desktop/AIML_Project/archive/train/tomato/Image_24.jpg\n",
      "/Users/pranshmaurya/Desktop/AIML_Project/archive/train/tomato/Image_30.jpg\n",
      "/Users/pranshmaurya/Desktop/AIML_Project/archive/train/tomato/Image_18.jpg\n",
      "/Users/pranshmaurya/Desktop/AIML_Project/archive/train/orange/Image_15.jpg\n",
      "/Users/pranshmaurya/Desktop/AIML_Project/archive/train/orange/Image_29.jpg\n",
      "/Users/pranshmaurya/Desktop/AIML_Project/archive/train/orange/Image_28.jpg\n",
      "/Users/pranshmaurya/Desktop/AIML_Project/archive/train/orange/Image_14.jpg\n",
      "/Users/pranshmaurya/Desktop/AIML_Project/archive/train/orange/Image_16.jpg\n",
      "/Users/pranshmaurya/Desktop/AIML_Project/archive/train/orange/Image_17.JPG\n",
      "/Users/pranshmaurya/Desktop/AIML_Project/archive/train/orange/Image_13.jpg\n",
      "/Users/pranshmaurya/Desktop/AIML_Project/archive/train/orange/Image_12.jpg\n",
      "/Users/pranshmaurya/Desktop/AIML_Project/archive/train/orange/Image_38.jpg\n",
      "/Users/pranshmaurya/Desktop/AIML_Project/archive/train/orange/Image_10.jpg\n",
      "/Users/pranshmaurya/Desktop/AIML_Project/archive/train/orange/Image_11.jpg\n",
      "/Users/pranshmaurya/Desktop/AIML_Project/archive/train/orange/Image_39.jpeg\n",
      "/Users/pranshmaurya/Desktop/AIML_Project/archive/train/orange/Image_76.jpg\n",
      "/Users/pranshmaurya/Desktop/AIML_Project/archive/train/orange/Image_88.jpg\n",
      "/Users/pranshmaurya/Desktop/AIML_Project/archive/train/orange/Image_63.jpg\n",
      "/Users/pranshmaurya/Desktop/AIML_Project/archive/train/orange/Image_77.jpg\n",
      "/Users/pranshmaurya/Desktop/AIML_Project/archive/train/orange/Image_9.jpg\n",
      "/Users/pranshmaurya/Desktop/AIML_Project/archive/train/orange/Image_74.jpg\n",
      "/Users/pranshmaurya/Desktop/AIML_Project/archive/train/orange/Image_60.png\n",
      "/Users/pranshmaurya/Desktop/AIML_Project/archive/train/orange/Image_70.jpg\n",
      "/Users/pranshmaurya/Desktop/AIML_Project/archive/train/orange/Image_65.jpg\n",
      "/Users/pranshmaurya/Desktop/AIML_Project/archive/train/orange/Image_73.jpg\n",
      "/Users/pranshmaurya/Desktop/AIML_Project/archive/train/orange/Image_67.jpg\n",
      "/Users/pranshmaurya/Desktop/AIML_Project/archive/train/orange/Image_98.jpg\n",
      "/Users/pranshmaurya/Desktop/AIML_Project/archive/train/orange/Image_99.jpg\n",
      "/Users/pranshmaurya/Desktop/AIML_Project/archive/train/orange/Image_72.jpg\n",
      "/Users/pranshmaurya/Desktop/AIML_Project/archive/train/orange/Image_2.jpg\n",
      "/Users/pranshmaurya/Desktop/AIML_Project/archive/train/orange/Image_43.jpg\n",
      "/Users/pranshmaurya/Desktop/AIML_Project/archive/train/orange/Image_95.jpg\n",
      "/Users/pranshmaurya/Desktop/AIML_Project/archive/train/orange/Image_56.jpg\n",
      "/Users/pranshmaurya/Desktop/AIML_Project/archive/train/orange/Image_3.jpg\n",
      "/Users/pranshmaurya/Desktop/AIML_Project/archive/train/orange/Image_42.png\n",
      "/Users/pranshmaurya/Desktop/AIML_Project/archive/train/orange/Image_97.png\n",
      "/Users/pranshmaurya/Desktop/AIML_Project/archive/train/orange/Image_1.png\n",
      "/Users/pranshmaurya/Desktop/AIML_Project/archive/train/orange/Image_40.jpg\n",
      "/Users/pranshmaurya/Desktop/AIML_Project/archive/train/orange/Image_68.jpg\n",
      "/Users/pranshmaurya/Desktop/AIML_Project/archive/train/orange/Image_55.jpg\n",
      "/Users/pranshmaurya/Desktop/AIML_Project/archive/train/orange/Image_100.jpg\n",
      "/Users/pranshmaurya/Desktop/AIML_Project/archive/train/orange/Image_79.jpg\n",
      "/Users/pranshmaurya/Desktop/AIML_Project/archive/train/orange/Image_45.jpg\n",
      "/Users/pranshmaurya/Desktop/AIML_Project/archive/train/orange/Image_51.jpg\n",
      "/Users/pranshmaurya/Desktop/AIML_Project/archive/train/orange/Image_4.jpg\n",
      "/Users/pranshmaurya/Desktop/AIML_Project/archive/train/orange/Image_87.jpg\n",
      "/Users/pranshmaurya/Desktop/AIML_Project/archive/train/orange/Image_5.jpg\n",
      "/Users/pranshmaurya/Desktop/AIML_Project/archive/train/orange/Image_44.jpg\n",
      "/Users/pranshmaurya/Desktop/AIML_Project/archive/train/orange/Image_7.jpg\n",
      "/Users/pranshmaurya/Desktop/AIML_Project/archive/train/orange/Image_52.jpg\n",
      "/Users/pranshmaurya/Desktop/AIML_Project/archive/train/orange/Image_46.jpg\n",
      "/Users/pranshmaurya/Desktop/AIML_Project/archive/train/orange/Image_85.jpg\n",
      "/Users/pranshmaurya/Desktop/AIML_Project/archive/train/orange/Image_90.jpg\n",
      "/Users/pranshmaurya/Desktop/AIML_Project/archive/train/orange/Image_6.jpg\n",
      "/Users/pranshmaurya/Desktop/AIML_Project/archive/train/orange/Image_84.png\n",
      "/Users/pranshmaurya/Desktop/AIML_Project/archive/train/orange/Image_34.jpg\n",
      "/Users/pranshmaurya/Desktop/AIML_Project/archive/train/orange/Image_20.jpg\n",
      "/Users/pranshmaurya/Desktop/AIML_Project/archive/train/orange/Image_21.jpg\n",
      "/Users/pranshmaurya/Desktop/AIML_Project/archive/train/orange/Image_8.jpeg\n",
      "/Users/pranshmaurya/Desktop/AIML_Project/archive/train/orange/Image_23.jpg\n",
      "/Users/pranshmaurya/Desktop/AIML_Project/archive/train/orange/Image_37.jpg\n",
      "/Users/pranshmaurya/Desktop/AIML_Project/archive/train/orange/Image_36.jpg\n",
      "/Users/pranshmaurya/Desktop/AIML_Project/archive/train/orange/Image_22.jpg\n",
      "/Users/pranshmaurya/Desktop/AIML_Project/archive/train/orange/Image_26.jpg\n",
      "/Users/pranshmaurya/Desktop/AIML_Project/archive/train/orange/Image_32.jpg\n",
      "/Users/pranshmaurya/Desktop/AIML_Project/archive/train/orange/Image_33.jpg\n",
      "/Users/pranshmaurya/Desktop/AIML_Project/archive/train/orange/Image_27.jpg\n",
      "/Users/pranshmaurya/Desktop/AIML_Project/archive/train/orange/Image_19.jpg\n",
      "/Users/pranshmaurya/Desktop/AIML_Project/archive/train/orange/Image_25.jpg\n",
      "/Users/pranshmaurya/Desktop/AIML_Project/archive/train/orange/Image_24.jpg\n",
      "/Users/pranshmaurya/Desktop/AIML_Project/archive/train/orange/Image_30.jpg\n",
      "/Users/pranshmaurya/Desktop/AIML_Project/archive/train/orange/Image_18.jpg\n",
      "/Users/pranshmaurya/Desktop/AIML_Project/archive/train/carrot/Image_15.jpg\n",
      "/Users/pranshmaurya/Desktop/AIML_Project/archive/train/carrot/Image_29.jpg\n",
      "/Users/pranshmaurya/Desktop/AIML_Project/archive/train/carrot/Image_28.jpg\n",
      "/Users/pranshmaurya/Desktop/AIML_Project/archive/train/carrot/Image_13.jpg\n",
      "/Users/pranshmaurya/Desktop/AIML_Project/archive/train/carrot/Image_12.jpg\n",
      "/Users/pranshmaurya/Desktop/AIML_Project/archive/train/carrot/Image_73.jpeg\n",
      "/Users/pranshmaurya/Desktop/AIML_Project/archive/train/carrot/Image_11.jpg\n",
      "/Users/pranshmaurya/Desktop/AIML_Project/archive/train/carrot/Image_62.png\n",
      "/Users/pranshmaurya/Desktop/AIML_Project/archive/train/carrot/Image_76.jpg\n",
      "/Users/pranshmaurya/Desktop/AIML_Project/archive/train/carrot/Image_89.jpg\n",
      "/Users/pranshmaurya/Desktop/AIML_Project/archive/train/carrot/Image_88.jpg\n",
      "/Users/pranshmaurya/Desktop/AIML_Project/archive/train/carrot/Image_63.jpg\n",
      "/Users/pranshmaurya/Desktop/AIML_Project/archive/train/carrot/Image_77.jpg\n",
      "/Users/pranshmaurya/Desktop/AIML_Project/archive/train/carrot/Image_61.jpg\n",
      "/Users/pranshmaurya/Desktop/AIML_Project/archive/train/carrot/Image_75.jpg\n",
      "/Users/pranshmaurya/Desktop/AIML_Project/archive/train/carrot/Image_8.JPG\n",
      "/Users/pranshmaurya/Desktop/AIML_Project/archive/train/carrot/Image_49.jpg\n",
      "/Users/pranshmaurya/Desktop/AIML_Project/archive/train/carrot/Image_9.jpg\n",
      "/Users/pranshmaurya/Desktop/AIML_Project/archive/train/carrot/Image_60.jpg\n",
      "/Users/pranshmaurya/Desktop/AIML_Project/archive/train/carrot/Image_58.jpg\n",
      "/Users/pranshmaurya/Desktop/AIML_Project/archive/train/carrot/Image_64.jpg\n",
      "/Users/pranshmaurya/Desktop/AIML_Project/archive/train/carrot/Image_70.jpg\n",
      "/Users/pranshmaurya/Desktop/AIML_Project/archive/train/carrot/Image_71.jpg\n",
      "/Users/pranshmaurya/Desktop/AIML_Project/archive/train/carrot/Image_65.jpg\n",
      "/Users/pranshmaurya/Desktop/AIML_Project/archive/train/carrot/Image_59.jpg\n",
      "/Users/pranshmaurya/Desktop/AIML_Project/archive/train/carrot/Image_67.jpg\n",
      "/Users/pranshmaurya/Desktop/AIML_Project/archive/train/carrot/Image_98.jpg\n",
      "/Users/pranshmaurya/Desktop/AIML_Project/archive/train/carrot/Image_14.jpeg\n",
      "/Users/pranshmaurya/Desktop/AIML_Project/archive/train/carrot/Image_99.jpg\n",
      "/Users/pranshmaurya/Desktop/AIML_Project/archive/train/carrot/Image_66.jpg\n",
      "/Users/pranshmaurya/Desktop/AIML_Project/archive/train/carrot/Image_72.jpg\n",
      "/Users/pranshmaurya/Desktop/AIML_Project/archive/train/carrot/Image_80.png\n",
      "/Users/pranshmaurya/Desktop/AIML_Project/archive/train/carrot/Image_57.jpg\n",
      "/Users/pranshmaurya/Desktop/AIML_Project/archive/train/carrot/Image_2.jpg\n",
      "/Users/pranshmaurya/Desktop/AIML_Project/archive/train/carrot/Image_94.jpg\n",
      "/Users/pranshmaurya/Desktop/AIML_Project/archive/train/carrot/Image_17.jpeg\n",
      "/Users/pranshmaurya/Desktop/AIML_Project/archive/train/carrot/Image_81.jpg\n",
      "/Users/pranshmaurya/Desktop/AIML_Project/archive/train/carrot/Image_42.jpg\n",
      "/Users/pranshmaurya/Desktop/AIML_Project/archive/train/carrot/Image_56.jpg\n",
      "/Users/pranshmaurya/Desktop/AIML_Project/archive/train/carrot/Image_3.jpg\n",
      "/Users/pranshmaurya/Desktop/AIML_Project/archive/train/carrot/Image_68.png\n",
      "/Users/pranshmaurya/Desktop/AIML_Project/archive/train/carrot/Image_40.jpg\n",
      "/Users/pranshmaurya/Desktop/AIML_Project/archive/train/carrot/Image_1.jpg\n",
      "/Users/pranshmaurya/Desktop/AIML_Project/archive/train/carrot/Image_54.jpg\n",
      "/Users/pranshmaurya/Desktop/AIML_Project/archive/train/carrot/Image_83.jpg\n",
      "/Users/pranshmaurya/Desktop/AIML_Project/archive/train/carrot/Image_96.jpg\n",
      "/Users/pranshmaurya/Desktop/AIML_Project/archive/train/carrot/Image_82.jpg\n",
      "/Users/pranshmaurya/Desktop/AIML_Project/archive/train/carrot/Image_69.jpg\n",
      "/Users/pranshmaurya/Desktop/AIML_Project/archive/train/carrot/Image_55.jpg\n",
      "/Users/pranshmaurya/Desktop/AIML_Project/archive/train/carrot/Image_41.jpg\n",
      "/Users/pranshmaurya/Desktop/AIML_Project/archive/train/carrot/Image_100.jpg\n",
      "/Users/pranshmaurya/Desktop/AIML_Project/archive/train/carrot/Image_79.jpg\n",
      "/Users/pranshmaurya/Desktop/AIML_Project/archive/train/carrot/Image_51.jpg\n",
      "/Users/pranshmaurya/Desktop/AIML_Project/archive/train/carrot/Image_86.jpg\n",
      "/Users/pranshmaurya/Desktop/AIML_Project/archive/train/carrot/Image_93.jpg\n",
      "/Users/pranshmaurya/Desktop/AIML_Project/archive/train/carrot/Image_50.jpg\n",
      "/Users/pranshmaurya/Desktop/AIML_Project/archive/train/carrot/Image_5.jpg\n",
      "/Users/pranshmaurya/Desktop/AIML_Project/archive/train/carrot/Image_78.jpg\n",
      "/Users/pranshmaurya/Desktop/AIML_Project/archive/train/carrot/Image_44.png\n",
      "/Users/pranshmaurya/Desktop/AIML_Project/archive/train/carrot/Image_7.jpg\n",
      "/Users/pranshmaurya/Desktop/AIML_Project/archive/train/carrot/Image_52.jpg\n",
      "/Users/pranshmaurya/Desktop/AIML_Project/archive/train/carrot/Image_46.jpg\n",
      "/Users/pranshmaurya/Desktop/AIML_Project/archive/train/carrot/Image_91.jpg\n",
      "/Users/pranshmaurya/Desktop/AIML_Project/archive/train/carrot/Image_85.jpg\n",
      "/Users/pranshmaurya/Desktop/AIML_Project/archive/train/carrot/Image_84.jpg\n",
      "/Users/pranshmaurya/Desktop/AIML_Project/archive/train/carrot/Image_90.jpg\n",
      "/Users/pranshmaurya/Desktop/AIML_Project/archive/train/carrot/Image_47.jpg\n",
      "/Users/pranshmaurya/Desktop/AIML_Project/archive/train/carrot/Image_6.jpg\n",
      "/Users/pranshmaurya/Desktop/AIML_Project/archive/train/carrot/Image_53.jpg\n",
      "/Users/pranshmaurya/Desktop/AIML_Project/archive/train/carrot/Image_34.jpg\n",
      "/Users/pranshmaurya/Desktop/AIML_Project/archive/train/carrot/Image_20.jpg\n",
      "/Users/pranshmaurya/Desktop/AIML_Project/archive/train/carrot/Image_35.jpg\n",
      "/Users/pranshmaurya/Desktop/AIML_Project/archive/train/carrot/Image_23.jpg\n",
      "/Users/pranshmaurya/Desktop/AIML_Project/archive/train/carrot/Image_37.jpg\n",
      "/Users/pranshmaurya/Desktop/AIML_Project/archive/train/carrot/Image_36.jpg\n",
      "/Users/pranshmaurya/Desktop/AIML_Project/archive/train/carrot/Image_26.jpg\n",
      "/Users/pranshmaurya/Desktop/AIML_Project/archive/train/carrot/Image_32.jpg\n",
      "/Users/pranshmaurya/Desktop/AIML_Project/archive/train/carrot/Image_10.jpeg\n",
      "/Users/pranshmaurya/Desktop/AIML_Project/archive/train/carrot/Image_27.jpg\n",
      "/Users/pranshmaurya/Desktop/AIML_Project/archive/train/carrot/Image_31.jpg\n",
      "/Users/pranshmaurya/Desktop/AIML_Project/archive/train/carrot/Image_25.jpg\n",
      "/Users/pranshmaurya/Desktop/AIML_Project/archive/train/carrot/Image_24.jpg\n",
      "/Users/pranshmaurya/Desktop/AIML_Project/archive/validation/apple/Image_10.jpg\n",
      "/Users/pranshmaurya/Desktop/AIML_Project/archive/validation/apple/Image_8.jpg\n",
      "/Users/pranshmaurya/Desktop/AIML_Project/archive/validation/apple/Image_9.jpg\n",
      "/Users/pranshmaurya/Desktop/AIML_Project/archive/validation/apple/Image_2.jpg\n",
      "/Users/pranshmaurya/Desktop/AIML_Project/archive/validation/apple/Image_3.jpg\n",
      "/Users/pranshmaurya/Desktop/AIML_Project/archive/validation/apple/Image_1.jpg\n",
      "/Users/pranshmaurya/Desktop/AIML_Project/archive/validation/apple/Image_4.jpg\n",
      "/Users/pranshmaurya/Desktop/AIML_Project/archive/validation/apple/Image_5.jpg\n",
      "/Users/pranshmaurya/Desktop/AIML_Project/archive/validation/apple/Image_7.jpg\n",
      "/Users/pranshmaurya/Desktop/AIML_Project/archive/validation/apple/Image_6.JPG\n",
      "/Users/pranshmaurya/Desktop/AIML_Project/archive/validation/turnip/Image_10.jpg\n",
      "/Users/pranshmaurya/Desktop/AIML_Project/archive/validation/turnip/Image_8.jpg\n",
      "/Users/pranshmaurya/Desktop/AIML_Project/archive/validation/turnip/Image_9.jpg\n",
      "/Users/pranshmaurya/Desktop/AIML_Project/archive/validation/turnip/Image_2.jpg\n",
      "/Users/pranshmaurya/Desktop/AIML_Project/archive/validation/turnip/Image_3.jpg\n",
      "/Users/pranshmaurya/Desktop/AIML_Project/archive/validation/turnip/Image_1.jpg\n",
      "/Users/pranshmaurya/Desktop/AIML_Project/archive/validation/turnip/Image_4.jpg\n",
      "/Users/pranshmaurya/Desktop/AIML_Project/archive/validation/turnip/Image_5.jpg\n",
      "/Users/pranshmaurya/Desktop/AIML_Project/archive/validation/turnip/Image_7.jpg\n",
      "/Users/pranshmaurya/Desktop/AIML_Project/archive/validation/turnip/Image_6.jpg\n",
      "/Users/pranshmaurya/Desktop/AIML_Project/archive/validation/chilli pepper/Image_10.jpg\n",
      "/Users/pranshmaurya/Desktop/AIML_Project/archive/validation/chilli pepper/Image_8.jpg\n",
      "/Users/pranshmaurya/Desktop/AIML_Project/archive/validation/chilli pepper/Image_9.jpg\n",
      "/Users/pranshmaurya/Desktop/AIML_Project/archive/validation/chilli pepper/Image_2.png\n",
      "/Users/pranshmaurya/Desktop/AIML_Project/archive/validation/chilli pepper/Image_3.jpg\n",
      "/Users/pranshmaurya/Desktop/AIML_Project/archive/validation/chilli pepper/Image_1.jpg\n",
      "/Users/pranshmaurya/Desktop/AIML_Project/archive/validation/chilli pepper/Image_4.jpg\n",
      "/Users/pranshmaurya/Desktop/AIML_Project/archive/validation/chilli pepper/Image_5.png\n",
      "/Users/pranshmaurya/Desktop/AIML_Project/archive/validation/chilli pepper/Image_7.jpg\n",
      "/Users/pranshmaurya/Desktop/AIML_Project/archive/validation/raddish/Image_10.jpg\n",
      "/Users/pranshmaurya/Desktop/AIML_Project/archive/validation/raddish/Image_8.jpg\n",
      "/Users/pranshmaurya/Desktop/AIML_Project/archive/validation/raddish/Image_2.jpg\n",
      "/Users/pranshmaurya/Desktop/AIML_Project/archive/validation/raddish/Image_3.jpg\n",
      "/Users/pranshmaurya/Desktop/AIML_Project/archive/validation/raddish/Image_1.jpg\n",
      "/Users/pranshmaurya/Desktop/AIML_Project/archive/validation/raddish/Image_4.jpg\n",
      "/Users/pranshmaurya/Desktop/AIML_Project/archive/validation/raddish/Image_5.png\n",
      "/Users/pranshmaurya/Desktop/AIML_Project/archive/validation/raddish/Image_7.jpg\n",
      "/Users/pranshmaurya/Desktop/AIML_Project/archive/validation/raddish/Image_6.jpg\n",
      "/Users/pranshmaurya/Desktop/AIML_Project/archive/validation/bell pepper/Image_10.jpg\n",
      "/Users/pranshmaurya/Desktop/AIML_Project/archive/validation/bell pepper/Image_8.jpg\n",
      "/Users/pranshmaurya/Desktop/AIML_Project/archive/validation/bell pepper/Image_9.jpg\n",
      "/Users/pranshmaurya/Desktop/AIML_Project/archive/validation/bell pepper/Image_2.jpg\n",
      "/Users/pranshmaurya/Desktop/AIML_Project/archive/validation/bell pepper/Image_1.jpg\n",
      "/Users/pranshmaurya/Desktop/AIML_Project/archive/validation/bell pepper/Image_4.jpg\n",
      "/Users/pranshmaurya/Desktop/AIML_Project/archive/validation/bell pepper/Image_5.jpg\n",
      "/Users/pranshmaurya/Desktop/AIML_Project/archive/validation/bell pepper/Image_7.jpg\n",
      "/Users/pranshmaurya/Desktop/AIML_Project/archive/validation/bell pepper/Image_6.jpg\n",
      "/Users/pranshmaurya/Desktop/AIML_Project/archive/validation/pear/Image_10.jpg\n",
      "/Users/pranshmaurya/Desktop/AIML_Project/archive/validation/pear/Image_8.jpg\n",
      "/Users/pranshmaurya/Desktop/AIML_Project/archive/validation/pear/Image_9.jpg\n",
      "/Users/pranshmaurya/Desktop/AIML_Project/archive/validation/pear/Image_2.jpg\n",
      "/Users/pranshmaurya/Desktop/AIML_Project/archive/validation/pear/Image_3.jpg\n",
      "/Users/pranshmaurya/Desktop/AIML_Project/archive/validation/pear/Image_1.jpg\n",
      "/Users/pranshmaurya/Desktop/AIML_Project/archive/validation/pear/Image_4.jpg\n",
      "/Users/pranshmaurya/Desktop/AIML_Project/archive/validation/pear/Image_5.jpg\n",
      "/Users/pranshmaurya/Desktop/AIML_Project/archive/validation/pear/Image_7.jpg\n",
      "/Users/pranshmaurya/Desktop/AIML_Project/archive/validation/pear/Image_6.jpg\n",
      "/Users/pranshmaurya/Desktop/AIML_Project/archive/validation/sweetpotato/Image_10.jpg\n",
      "/Users/pranshmaurya/Desktop/AIML_Project/archive/validation/sweetpotato/Image_8.jpg\n",
      "/Users/pranshmaurya/Desktop/AIML_Project/archive/validation/sweetpotato/Image_9.jpg\n",
      "/Users/pranshmaurya/Desktop/AIML_Project/archive/validation/sweetpotato/Image_2.jpg\n",
      "/Users/pranshmaurya/Desktop/AIML_Project/archive/validation/sweetpotato/Image_3.jpg\n",
      "/Users/pranshmaurya/Desktop/AIML_Project/archive/validation/sweetpotato/Image_1.jpg\n",
      "/Users/pranshmaurya/Desktop/AIML_Project/archive/validation/sweetpotato/Image_4.jpg\n",
      "/Users/pranshmaurya/Desktop/AIML_Project/archive/validation/sweetpotato/Image_5.jpg\n",
      "/Users/pranshmaurya/Desktop/AIML_Project/archive/validation/sweetpotato/Image_7.jpg\n",
      "/Users/pranshmaurya/Desktop/AIML_Project/archive/validation/sweetpotato/Image_6.jpg\n",
      "/Users/pranshmaurya/Desktop/AIML_Project/archive/validation/pomegranate/Image_10.jpg\n",
      "/Users/pranshmaurya/Desktop/AIML_Project/archive/validation/pomegranate/Image_8.jpg\n",
      "/Users/pranshmaurya/Desktop/AIML_Project/archive/validation/pomegranate/Image_9.jpg\n",
      "/Users/pranshmaurya/Desktop/AIML_Project/archive/validation/pomegranate/Image_2.jpg\n",
      "/Users/pranshmaurya/Desktop/AIML_Project/archive/validation/pomegranate/Image_3.jpg\n",
      "/Users/pranshmaurya/Desktop/AIML_Project/archive/validation/pomegranate/Image_1.jpg\n",
      "/Users/pranshmaurya/Desktop/AIML_Project/archive/validation/pomegranate/Image_4.jpg\n",
      "/Users/pranshmaurya/Desktop/AIML_Project/archive/validation/pomegranate/Image_5.jpg\n",
      "/Users/pranshmaurya/Desktop/AIML_Project/archive/validation/pomegranate/Image_7.jpg\n",
      "/Users/pranshmaurya/Desktop/AIML_Project/archive/validation/pomegranate/Image_6.jpg\n",
      "/Users/pranshmaurya/Desktop/AIML_Project/archive/validation/peas/Image_10.jpg\n",
      "/Users/pranshmaurya/Desktop/AIML_Project/archive/validation/peas/Image_8.jpg\n",
      "/Users/pranshmaurya/Desktop/AIML_Project/archive/validation/peas/Image_9.jpg\n",
      "/Users/pranshmaurya/Desktop/AIML_Project/archive/validation/peas/Image_2.jpg\n",
      "/Users/pranshmaurya/Desktop/AIML_Project/archive/validation/peas/Image_3.jpg\n",
      "/Users/pranshmaurya/Desktop/AIML_Project/archive/validation/peas/Image_1.jpg\n",
      "/Users/pranshmaurya/Desktop/AIML_Project/archive/validation/peas/Image_4.jpg\n",
      "/Users/pranshmaurya/Desktop/AIML_Project/archive/validation/peas/Image_5.jpg\n",
      "/Users/pranshmaurya/Desktop/AIML_Project/archive/validation/peas/Image_7.jpg\n",
      "/Users/pranshmaurya/Desktop/AIML_Project/archive/validation/peas/Image_6.png\n",
      "/Users/pranshmaurya/Desktop/AIML_Project/archive/validation/capsicum/Image_10.jpg\n",
      "/Users/pranshmaurya/Desktop/AIML_Project/archive/validation/capsicum/Image_8.jpg\n",
      "/Users/pranshmaurya/Desktop/AIML_Project/archive/validation/capsicum/Image_9.jpg\n",
      "/Users/pranshmaurya/Desktop/AIML_Project/archive/validation/capsicum/Image_2.jpg\n",
      "/Users/pranshmaurya/Desktop/AIML_Project/archive/validation/capsicum/Image_3.JPG\n",
      "/Users/pranshmaurya/Desktop/AIML_Project/archive/validation/capsicum/Image_1.jpg\n",
      "/Users/pranshmaurya/Desktop/AIML_Project/archive/validation/capsicum/Image_4.jpg\n",
      "/Users/pranshmaurya/Desktop/AIML_Project/archive/validation/capsicum/Image_5.jpg\n",
      "/Users/pranshmaurya/Desktop/AIML_Project/archive/validation/capsicum/Image_7.jpg\n",
      "/Users/pranshmaurya/Desktop/AIML_Project/archive/validation/capsicum/Image_6.jpg\n",
      "/Users/pranshmaurya/Desktop/AIML_Project/archive/validation/spinach/Image_10.jpg\n",
      "/Users/pranshmaurya/Desktop/AIML_Project/archive/validation/spinach/Image_8.jpg\n",
      "/Users/pranshmaurya/Desktop/AIML_Project/archive/validation/spinach/Image_9.jpg\n",
      "/Users/pranshmaurya/Desktop/AIML_Project/archive/validation/spinach/Image_2.jpg\n",
      "/Users/pranshmaurya/Desktop/AIML_Project/archive/validation/spinach/Image_3.jpg\n",
      "/Users/pranshmaurya/Desktop/AIML_Project/archive/validation/spinach/Image_1.jpg\n",
      "/Users/pranshmaurya/Desktop/AIML_Project/archive/validation/spinach/Image_4.jpg\n",
      "/Users/pranshmaurya/Desktop/AIML_Project/archive/validation/spinach/Image_5.jpg\n",
      "/Users/pranshmaurya/Desktop/AIML_Project/archive/validation/spinach/Image_7.jpg\n",
      "/Users/pranshmaurya/Desktop/AIML_Project/archive/validation/spinach/Image_6.jpg\n",
      "/Users/pranshmaurya/Desktop/AIML_Project/archive/validation/lettuce/Image_10.jpg\n",
      "/Users/pranshmaurya/Desktop/AIML_Project/archive/validation/lettuce/Image_8.jpg\n",
      "/Users/pranshmaurya/Desktop/AIML_Project/archive/validation/lettuce/Image_9.jpg\n",
      "/Users/pranshmaurya/Desktop/AIML_Project/archive/validation/lettuce/Image_2.jpg\n",
      "/Users/pranshmaurya/Desktop/AIML_Project/archive/validation/lettuce/Image_3.jpg\n",
      "/Users/pranshmaurya/Desktop/AIML_Project/archive/validation/lettuce/Image_1.jpg\n",
      "/Users/pranshmaurya/Desktop/AIML_Project/archive/validation/lettuce/Image_4.jpg\n",
      "/Users/pranshmaurya/Desktop/AIML_Project/archive/validation/lettuce/Image_7.jpg\n",
      "/Users/pranshmaurya/Desktop/AIML_Project/archive/validation/lettuce/Image_6.jpg\n",
      "/Users/pranshmaurya/Desktop/AIML_Project/archive/validation/kiwi/Image_10.jpg\n",
      "/Users/pranshmaurya/Desktop/AIML_Project/archive/validation/kiwi/Image_8.jpg\n",
      "/Users/pranshmaurya/Desktop/AIML_Project/archive/validation/kiwi/Image_9.jpg\n",
      "/Users/pranshmaurya/Desktop/AIML_Project/archive/validation/kiwi/Image_2.jpg\n",
      "/Users/pranshmaurya/Desktop/AIML_Project/archive/validation/kiwi/Image_3.jpg\n",
      "/Users/pranshmaurya/Desktop/AIML_Project/archive/validation/kiwi/Image_1.jpg\n",
      "/Users/pranshmaurya/Desktop/AIML_Project/archive/validation/kiwi/Image_4.jpg\n",
      "/Users/pranshmaurya/Desktop/AIML_Project/archive/validation/kiwi/Image_5.jpg\n",
      "/Users/pranshmaurya/Desktop/AIML_Project/archive/validation/kiwi/Image_7.jpg\n",
      "/Users/pranshmaurya/Desktop/AIML_Project/archive/validation/kiwi/Image_6.jpg\n",
      "/Users/pranshmaurya/Desktop/AIML_Project/archive/validation/lemon/Image_10.jpg\n",
      "/Users/pranshmaurya/Desktop/AIML_Project/archive/validation/lemon/Image_8.jpg\n",
      "/Users/pranshmaurya/Desktop/AIML_Project/archive/validation/lemon/Image_9.png\n",
      "/Users/pranshmaurya/Desktop/AIML_Project/archive/validation/lemon/Image_2.jpg\n",
      "/Users/pranshmaurya/Desktop/AIML_Project/archive/validation/lemon/Image_3.jpg\n",
      "/Users/pranshmaurya/Desktop/AIML_Project/archive/validation/lemon/Image_1.png\n",
      "/Users/pranshmaurya/Desktop/AIML_Project/archive/validation/lemon/Image_4.jpg\n",
      "/Users/pranshmaurya/Desktop/AIML_Project/archive/validation/lemon/Image_5.jpg\n",
      "/Users/pranshmaurya/Desktop/AIML_Project/archive/validation/lemon/Image_7.jpg\n",
      "/Users/pranshmaurya/Desktop/AIML_Project/archive/validation/lemon/Image_6.png\n",
      "/Users/pranshmaurya/Desktop/AIML_Project/archive/validation/onion/Image_10.jpg\n",
      "/Users/pranshmaurya/Desktop/AIML_Project/archive/validation/onion/Image_8.jpg\n",
      "/Users/pranshmaurya/Desktop/AIML_Project/archive/validation/onion/Image_9.jpg\n",
      "/Users/pranshmaurya/Desktop/AIML_Project/archive/validation/onion/Image_2.jpg\n",
      "/Users/pranshmaurya/Desktop/AIML_Project/archive/validation/onion/Image_3.jpg\n",
      "/Users/pranshmaurya/Desktop/AIML_Project/archive/validation/onion/Image_1.jpg\n",
      "/Users/pranshmaurya/Desktop/AIML_Project/archive/validation/onion/Image_4.jpg\n",
      "/Users/pranshmaurya/Desktop/AIML_Project/archive/validation/onion/Image_5.jpg\n",
      "/Users/pranshmaurya/Desktop/AIML_Project/archive/validation/onion/Image_7.png\n",
      "/Users/pranshmaurya/Desktop/AIML_Project/archive/validation/onion/Image_6.jpg\n",
      "/Users/pranshmaurya/Desktop/AIML_Project/archive/validation/cauliflower/Image_10.jpg\n",
      "/Users/pranshmaurya/Desktop/AIML_Project/archive/validation/cauliflower/Image_8.jpg\n",
      "/Users/pranshmaurya/Desktop/AIML_Project/archive/validation/cauliflower/Image_9.jpg\n",
      "/Users/pranshmaurya/Desktop/AIML_Project/archive/validation/cauliflower/Image_2.jpg\n",
      "/Users/pranshmaurya/Desktop/AIML_Project/archive/validation/cauliflower/Image_3.jpg\n",
      "/Users/pranshmaurya/Desktop/AIML_Project/archive/validation/cauliflower/Image_1.jpg\n",
      "/Users/pranshmaurya/Desktop/AIML_Project/archive/validation/cauliflower/Image_4.jpg\n",
      "/Users/pranshmaurya/Desktop/AIML_Project/archive/validation/cauliflower/Image_5.JPG\n",
      "/Users/pranshmaurya/Desktop/AIML_Project/archive/validation/cauliflower/Image_7.jpg\n",
      "/Users/pranshmaurya/Desktop/AIML_Project/archive/validation/cauliflower/Image_6.jpg\n",
      "/Users/pranshmaurya/Desktop/AIML_Project/archive/validation/potato/Image_10.jpg\n",
      "/Users/pranshmaurya/Desktop/AIML_Project/archive/validation/potato/Image_8.jpg\n",
      "/Users/pranshmaurya/Desktop/AIML_Project/archive/validation/potato/Image_9.jpg\n",
      "/Users/pranshmaurya/Desktop/AIML_Project/archive/validation/potato/Image_2.jpg\n",
      "/Users/pranshmaurya/Desktop/AIML_Project/archive/validation/potato/Image_3.jpg\n",
      "/Users/pranshmaurya/Desktop/AIML_Project/archive/validation/potato/Image_1.jpg\n",
      "/Users/pranshmaurya/Desktop/AIML_Project/archive/validation/potato/Image_4.jpg\n",
      "/Users/pranshmaurya/Desktop/AIML_Project/archive/validation/potato/Image_5.JPG\n",
      "/Users/pranshmaurya/Desktop/AIML_Project/archive/validation/potato/Image_7.jpg\n",
      "/Users/pranshmaurya/Desktop/AIML_Project/archive/validation/potato/Image_6.jpg\n",
      "/Users/pranshmaurya/Desktop/AIML_Project/archive/validation/jalepeno/Image_10.jpg\n",
      "/Users/pranshmaurya/Desktop/AIML_Project/archive/validation/jalepeno/Image_8.jpg\n",
      "/Users/pranshmaurya/Desktop/AIML_Project/archive/validation/jalepeno/Image_9.jpg\n",
      "/Users/pranshmaurya/Desktop/AIML_Project/archive/validation/jalepeno/Image_2.jpg\n",
      "/Users/pranshmaurya/Desktop/AIML_Project/archive/validation/jalepeno/Image_3.jpg\n",
      "/Users/pranshmaurya/Desktop/AIML_Project/archive/validation/jalepeno/Image_4.jpg\n",
      "/Users/pranshmaurya/Desktop/AIML_Project/archive/validation/jalepeno/Image_5.jpg\n",
      "/Users/pranshmaurya/Desktop/AIML_Project/archive/validation/jalepeno/Image_7.jpg\n",
      "/Users/pranshmaurya/Desktop/AIML_Project/archive/validation/jalepeno/Image_6.jpg\n",
      "/Users/pranshmaurya/Desktop/AIML_Project/archive/validation/sweetcorn/Image_10.jpg\n",
      "/Users/pranshmaurya/Desktop/AIML_Project/archive/validation/sweetcorn/Image_8.jpg\n",
      "/Users/pranshmaurya/Desktop/AIML_Project/archive/validation/sweetcorn/Image_9.jpg\n",
      "/Users/pranshmaurya/Desktop/AIML_Project/archive/validation/sweetcorn/Image_2.jpg\n",
      "/Users/pranshmaurya/Desktop/AIML_Project/archive/validation/sweetcorn/Image_3.jpg\n",
      "/Users/pranshmaurya/Desktop/AIML_Project/archive/validation/sweetcorn/Image_1.jpg\n",
      "/Users/pranshmaurya/Desktop/AIML_Project/archive/validation/sweetcorn/Image_4.jpg\n",
      "/Users/pranshmaurya/Desktop/AIML_Project/archive/validation/sweetcorn/Image_5.jpg\n",
      "/Users/pranshmaurya/Desktop/AIML_Project/archive/validation/sweetcorn/Image_7.jpg\n",
      "/Users/pranshmaurya/Desktop/AIML_Project/archive/validation/sweetcorn/Image_6.jpg\n",
      "/Users/pranshmaurya/Desktop/AIML_Project/archive/validation/cucumber/Image_10.jpg\n",
      "/Users/pranshmaurya/Desktop/AIML_Project/archive/validation/cucumber/Image_8.jpg\n",
      "/Users/pranshmaurya/Desktop/AIML_Project/archive/validation/cucumber/Image_9.jpg\n",
      "/Users/pranshmaurya/Desktop/AIML_Project/archive/validation/cucumber/Image_2.jpg\n",
      "/Users/pranshmaurya/Desktop/AIML_Project/archive/validation/cucumber/Image_3.jpg\n",
      "/Users/pranshmaurya/Desktop/AIML_Project/archive/validation/cucumber/Image_1.jpg\n",
      "/Users/pranshmaurya/Desktop/AIML_Project/archive/validation/cucumber/Image_4.jpg\n",
      "/Users/pranshmaurya/Desktop/AIML_Project/archive/validation/cucumber/Image_5.jpg\n",
      "/Users/pranshmaurya/Desktop/AIML_Project/archive/validation/cucumber/Image_7.jpg\n",
      "/Users/pranshmaurya/Desktop/AIML_Project/archive/validation/cucumber/Image_6.jpg\n",
      "/Users/pranshmaurya/Desktop/AIML_Project/archive/validation/paprika/Image_10.jpg\n",
      "/Users/pranshmaurya/Desktop/AIML_Project/archive/validation/paprika/Image_8.jpg\n",
      "/Users/pranshmaurya/Desktop/AIML_Project/archive/validation/paprika/Image_9.jpg\n",
      "/Users/pranshmaurya/Desktop/AIML_Project/archive/validation/paprika/Image_2.jpg\n",
      "/Users/pranshmaurya/Desktop/AIML_Project/archive/validation/paprika/Image_3.jpg\n",
      "/Users/pranshmaurya/Desktop/AIML_Project/archive/validation/paprika/Image_1.jpg\n",
      "/Users/pranshmaurya/Desktop/AIML_Project/archive/validation/paprika/Image_4.jpg\n",
      "/Users/pranshmaurya/Desktop/AIML_Project/archive/validation/paprika/Image_5.jpg\n",
      "/Users/pranshmaurya/Desktop/AIML_Project/archive/validation/paprika/Image_7.jpg\n",
      "/Users/pranshmaurya/Desktop/AIML_Project/archive/validation/paprika/Image_6.jpg\n",
      "/Users/pranshmaurya/Desktop/AIML_Project/archive/validation/watermelon/Image_10.jpg\n",
      "/Users/pranshmaurya/Desktop/AIML_Project/archive/validation/watermelon/Image_8.jpg\n",
      "/Users/pranshmaurya/Desktop/AIML_Project/archive/validation/watermelon/Image_9.jpg\n",
      "/Users/pranshmaurya/Desktop/AIML_Project/archive/validation/watermelon/Image_2.jpg\n",
      "/Users/pranshmaurya/Desktop/AIML_Project/archive/validation/watermelon/Image_3.jpg\n",
      "/Users/pranshmaurya/Desktop/AIML_Project/archive/validation/watermelon/Image_1.jpg\n",
      "/Users/pranshmaurya/Desktop/AIML_Project/archive/validation/watermelon/Image_4.jpg\n",
      "/Users/pranshmaurya/Desktop/AIML_Project/archive/validation/watermelon/Image_5.jpg\n",
      "/Users/pranshmaurya/Desktop/AIML_Project/archive/validation/watermelon/Image_7.jpg\n",
      "/Users/pranshmaurya/Desktop/AIML_Project/archive/validation/watermelon/Image_6.jpg\n",
      "/Users/pranshmaurya/Desktop/AIML_Project/archive/validation/mango/Image_10.jpg\n",
      "/Users/pranshmaurya/Desktop/AIML_Project/archive/validation/mango/Image_8.jpg\n",
      "/Users/pranshmaurya/Desktop/AIML_Project/archive/validation/mango/Image_9.jpg\n",
      "/Users/pranshmaurya/Desktop/AIML_Project/archive/validation/mango/Image_2.jpg\n",
      "/Users/pranshmaurya/Desktop/AIML_Project/archive/validation/mango/Image_3.jpg\n",
      "/Users/pranshmaurya/Desktop/AIML_Project/archive/validation/mango/Image_1.jpg\n",
      "/Users/pranshmaurya/Desktop/AIML_Project/archive/validation/mango/Image_4.jpg\n",
      "/Users/pranshmaurya/Desktop/AIML_Project/archive/validation/mango/Image_5.jpg\n",
      "/Users/pranshmaurya/Desktop/AIML_Project/archive/validation/mango/Image_7.jpg\n",
      "/Users/pranshmaurya/Desktop/AIML_Project/archive/validation/mango/Image_6.jpg\n",
      "/Users/pranshmaurya/Desktop/AIML_Project/archive/validation/cabbage/Image_10.jpg\n",
      "/Users/pranshmaurya/Desktop/AIML_Project/archive/validation/cabbage/Image_8.jpg\n",
      "/Users/pranshmaurya/Desktop/AIML_Project/archive/validation/cabbage/Image_9.jpg\n",
      "/Users/pranshmaurya/Desktop/AIML_Project/archive/validation/cabbage/Image_2.jpg\n",
      "/Users/pranshmaurya/Desktop/AIML_Project/archive/validation/cabbage/Image_3.jpg\n",
      "/Users/pranshmaurya/Desktop/AIML_Project/archive/validation/cabbage/Image_1.jpg\n",
      "/Users/pranshmaurya/Desktop/AIML_Project/archive/validation/cabbage/Image_4.jpg\n",
      "/Users/pranshmaurya/Desktop/AIML_Project/archive/validation/cabbage/Image_5.jpg\n",
      "/Users/pranshmaurya/Desktop/AIML_Project/archive/validation/cabbage/Image_7.jpg\n",
      "/Users/pranshmaurya/Desktop/AIML_Project/archive/validation/cabbage/Image_6.jpg\n",
      "/Users/pranshmaurya/Desktop/AIML_Project/archive/validation/grapes/Image_10.jpg\n",
      "/Users/pranshmaurya/Desktop/AIML_Project/archive/validation/grapes/Image_8.jpg\n",
      "/Users/pranshmaurya/Desktop/AIML_Project/archive/validation/grapes/Image_9.jpg\n",
      "/Users/pranshmaurya/Desktop/AIML_Project/archive/validation/grapes/Image_2.jpg\n",
      "/Users/pranshmaurya/Desktop/AIML_Project/archive/validation/grapes/Image_3.jpg\n",
      "/Users/pranshmaurya/Desktop/AIML_Project/archive/validation/grapes/Image_1.jpg\n",
      "/Users/pranshmaurya/Desktop/AIML_Project/archive/validation/grapes/Image_4.jpg\n",
      "/Users/pranshmaurya/Desktop/AIML_Project/archive/validation/grapes/Image_7.JPG\n",
      "/Users/pranshmaurya/Desktop/AIML_Project/archive/validation/grapes/Image_6.jpg\n",
      "/Users/pranshmaurya/Desktop/AIML_Project/archive/validation/beetroot/Image_10.jpg\n",
      "/Users/pranshmaurya/Desktop/AIML_Project/archive/validation/beetroot/Image_8.jpg\n",
      "/Users/pranshmaurya/Desktop/AIML_Project/archive/validation/beetroot/Image_9.jpg\n",
      "/Users/pranshmaurya/Desktop/AIML_Project/archive/validation/beetroot/Image_2.jpg\n",
      "/Users/pranshmaurya/Desktop/AIML_Project/archive/validation/beetroot/Image_3.jpg\n",
      "/Users/pranshmaurya/Desktop/AIML_Project/archive/validation/beetroot/Image_1.jpg\n",
      "/Users/pranshmaurya/Desktop/AIML_Project/archive/validation/beetroot/Image_4.jpg\n",
      "/Users/pranshmaurya/Desktop/AIML_Project/archive/validation/beetroot/Image_5.jpg\n",
      "/Users/pranshmaurya/Desktop/AIML_Project/archive/validation/beetroot/Image_7.jpg\n",
      "/Users/pranshmaurya/Desktop/AIML_Project/archive/validation/beetroot/Image_6.jpg\n",
      "/Users/pranshmaurya/Desktop/AIML_Project/archive/validation/eggplant/Image_10.jpg\n",
      "/Users/pranshmaurya/Desktop/AIML_Project/archive/validation/eggplant/Image_8.jpg\n",
      "/Users/pranshmaurya/Desktop/AIML_Project/archive/validation/eggplant/Image_9.jpg\n",
      "/Users/pranshmaurya/Desktop/AIML_Project/archive/validation/eggplant/Image_2.jpg\n",
      "/Users/pranshmaurya/Desktop/AIML_Project/archive/validation/eggplant/Image_3.jpg\n",
      "/Users/pranshmaurya/Desktop/AIML_Project/archive/validation/eggplant/Image_1.jpg\n",
      "/Users/pranshmaurya/Desktop/AIML_Project/archive/validation/eggplant/Image_4.jpg\n",
      "/Users/pranshmaurya/Desktop/AIML_Project/archive/validation/eggplant/Image_5.jpg\n",
      "/Users/pranshmaurya/Desktop/AIML_Project/archive/validation/eggplant/Image_7.jpg\n",
      "/Users/pranshmaurya/Desktop/AIML_Project/archive/validation/eggplant/Image_6.jpg\n",
      "/Users/pranshmaurya/Desktop/AIML_Project/archive/validation/corn/Image_10.jpg\n",
      "/Users/pranshmaurya/Desktop/AIML_Project/archive/validation/corn/Image_8.jpg\n",
      "/Users/pranshmaurya/Desktop/AIML_Project/archive/validation/corn/Image_9.jpg\n",
      "/Users/pranshmaurya/Desktop/AIML_Project/archive/validation/corn/Image_2.jpg\n",
      "/Users/pranshmaurya/Desktop/AIML_Project/archive/validation/corn/Image_3.jpg\n",
      "/Users/pranshmaurya/Desktop/AIML_Project/archive/validation/corn/Image_1.jpg\n",
      "/Users/pranshmaurya/Desktop/AIML_Project/archive/validation/corn/Image_4.jpg\n",
      "/Users/pranshmaurya/Desktop/AIML_Project/archive/validation/corn/Image_5.jpg\n",
      "/Users/pranshmaurya/Desktop/AIML_Project/archive/validation/corn/Image_7.jpg\n",
      "/Users/pranshmaurya/Desktop/AIML_Project/archive/validation/corn/Image_6.jpg\n",
      "/Users/pranshmaurya/Desktop/AIML_Project/archive/validation/soy beans/Image_10.jpg\n",
      "/Users/pranshmaurya/Desktop/AIML_Project/archive/validation/soy beans/Image_8.jpg\n",
      "/Users/pranshmaurya/Desktop/AIML_Project/archive/validation/soy beans/Image_9.jpg\n",
      "/Users/pranshmaurya/Desktop/AIML_Project/archive/validation/soy beans/Image_2.jpg\n",
      "/Users/pranshmaurya/Desktop/AIML_Project/archive/validation/soy beans/Image_3.jpg\n",
      "/Users/pranshmaurya/Desktop/AIML_Project/archive/validation/soy beans/Image_1.jpg\n",
      "/Users/pranshmaurya/Desktop/AIML_Project/archive/validation/soy beans/Image_4.jpg\n",
      "/Users/pranshmaurya/Desktop/AIML_Project/archive/validation/soy beans/Image_5.jpg\n",
      "/Users/pranshmaurya/Desktop/AIML_Project/archive/validation/soy beans/Image_7.jpg\n",
      "/Users/pranshmaurya/Desktop/AIML_Project/archive/validation/soy beans/Image_6.jpg\n",
      "/Users/pranshmaurya/Desktop/AIML_Project/archive/validation/banana/Image_10.jpg\n",
      "/Users/pranshmaurya/Desktop/AIML_Project/archive/validation/banana/Image_8.jpg\n",
      "/Users/pranshmaurya/Desktop/AIML_Project/archive/validation/banana/Image_9.jpg\n",
      "/Users/pranshmaurya/Desktop/AIML_Project/archive/validation/banana/Image_2.jpg\n",
      "/Users/pranshmaurya/Desktop/AIML_Project/archive/validation/banana/Image_3.jpg\n",
      "/Users/pranshmaurya/Desktop/AIML_Project/archive/validation/banana/Image_1.jpg\n",
      "/Users/pranshmaurya/Desktop/AIML_Project/archive/validation/banana/Image_4.jpg\n",
      "/Users/pranshmaurya/Desktop/AIML_Project/archive/validation/banana/Image_5.jpg\n",
      "/Users/pranshmaurya/Desktop/AIML_Project/archive/validation/banana/Image_6.jpg\n",
      "/Users/pranshmaurya/Desktop/AIML_Project/archive/validation/ginger/Image_10.jpg\n",
      "/Users/pranshmaurya/Desktop/AIML_Project/archive/validation/ginger/Image_8.jpg\n",
      "/Users/pranshmaurya/Desktop/AIML_Project/archive/validation/ginger/Image_9.jpg\n",
      "/Users/pranshmaurya/Desktop/AIML_Project/archive/validation/ginger/Image_2.jpg\n",
      "/Users/pranshmaurya/Desktop/AIML_Project/archive/validation/ginger/Image_3.jpg\n",
      "/Users/pranshmaurya/Desktop/AIML_Project/archive/validation/ginger/Image_1.jpg\n",
      "/Users/pranshmaurya/Desktop/AIML_Project/archive/validation/ginger/Image_4.jpg\n",
      "/Users/pranshmaurya/Desktop/AIML_Project/archive/validation/ginger/Image_5.jpg\n",
      "/Users/pranshmaurya/Desktop/AIML_Project/archive/validation/ginger/Image_7.jpg\n",
      "/Users/pranshmaurya/Desktop/AIML_Project/archive/validation/ginger/Image_6.jpg\n",
      "/Users/pranshmaurya/Desktop/AIML_Project/archive/validation/garlic/Image_10.jpg\n",
      "/Users/pranshmaurya/Desktop/AIML_Project/archive/validation/garlic/Image_8.jpg\n",
      "/Users/pranshmaurya/Desktop/AIML_Project/archive/validation/garlic/Image_9.jpg\n",
      "/Users/pranshmaurya/Desktop/AIML_Project/archive/validation/garlic/Image_2.jpg\n",
      "/Users/pranshmaurya/Desktop/AIML_Project/archive/validation/garlic/Image_3.jpg\n",
      "/Users/pranshmaurya/Desktop/AIML_Project/archive/validation/garlic/Image_1.jpg\n",
      "/Users/pranshmaurya/Desktop/AIML_Project/archive/validation/garlic/Image_4.jpg\n",
      "/Users/pranshmaurya/Desktop/AIML_Project/archive/validation/garlic/Image_5.jpg\n",
      "/Users/pranshmaurya/Desktop/AIML_Project/archive/validation/garlic/Image_7.jpg\n",
      "/Users/pranshmaurya/Desktop/AIML_Project/archive/validation/garlic/Image_6.jpg\n",
      "/Users/pranshmaurya/Desktop/AIML_Project/archive/validation/pineapple/Image_10.jpg\n",
      "/Users/pranshmaurya/Desktop/AIML_Project/archive/validation/pineapple/Image_8.jpg\n",
      "/Users/pranshmaurya/Desktop/AIML_Project/archive/validation/pineapple/Image_9.jpg\n",
      "/Users/pranshmaurya/Desktop/AIML_Project/archive/validation/pineapple/Image_2.jpg\n",
      "/Users/pranshmaurya/Desktop/AIML_Project/archive/validation/pineapple/Image_3.jpg\n",
      "/Users/pranshmaurya/Desktop/AIML_Project/archive/validation/pineapple/Image_1.jpg\n",
      "/Users/pranshmaurya/Desktop/AIML_Project/archive/validation/pineapple/Image_4.jpg\n",
      "/Users/pranshmaurya/Desktop/AIML_Project/archive/validation/pineapple/Image_5.jpg\n",
      "/Users/pranshmaurya/Desktop/AIML_Project/archive/validation/pineapple/Image_7.jpg\n",
      "/Users/pranshmaurya/Desktop/AIML_Project/archive/validation/pineapple/Image_6.jpg\n",
      "/Users/pranshmaurya/Desktop/AIML_Project/archive/validation/tomato/Image_10.jpg\n",
      "/Users/pranshmaurya/Desktop/AIML_Project/archive/validation/tomato/Image_8.jpg\n",
      "/Users/pranshmaurya/Desktop/AIML_Project/archive/validation/tomato/Image_9.jpg\n",
      "/Users/pranshmaurya/Desktop/AIML_Project/archive/validation/tomato/Image_2.jpg\n",
      "/Users/pranshmaurya/Desktop/AIML_Project/archive/validation/tomato/Image_3.jpg\n",
      "/Users/pranshmaurya/Desktop/AIML_Project/archive/validation/tomato/Image_1.jpg\n",
      "/Users/pranshmaurya/Desktop/AIML_Project/archive/validation/tomato/Image_4.jpg\n",
      "/Users/pranshmaurya/Desktop/AIML_Project/archive/validation/tomato/Image_5.jpg\n",
      "/Users/pranshmaurya/Desktop/AIML_Project/archive/validation/tomato/Image_7.jpg\n",
      "/Users/pranshmaurya/Desktop/AIML_Project/archive/validation/tomato/Image_6.jpg\n",
      "/Users/pranshmaurya/Desktop/AIML_Project/archive/validation/orange/Image_10.png\n",
      "/Users/pranshmaurya/Desktop/AIML_Project/archive/validation/orange/Image_9.jpg\n",
      "/Users/pranshmaurya/Desktop/AIML_Project/archive/validation/orange/Image_2.jpg\n",
      "/Users/pranshmaurya/Desktop/AIML_Project/archive/validation/orange/Image_3.jpg\n",
      "/Users/pranshmaurya/Desktop/AIML_Project/archive/validation/orange/Image_1.png\n",
      "/Users/pranshmaurya/Desktop/AIML_Project/archive/validation/orange/Image_4.jpg\n",
      "/Users/pranshmaurya/Desktop/AIML_Project/archive/validation/orange/Image_5.jpg\n",
      "/Users/pranshmaurya/Desktop/AIML_Project/archive/validation/orange/Image_7.jpg\n",
      "/Users/pranshmaurya/Desktop/AIML_Project/archive/validation/orange/Image_6.jpg\n",
      "/Users/pranshmaurya/Desktop/AIML_Project/archive/validation/carrot/Image_10.jpg\n",
      "/Users/pranshmaurya/Desktop/AIML_Project/archive/validation/carrot/Image_8.jpg\n",
      "/Users/pranshmaurya/Desktop/AIML_Project/archive/validation/carrot/Image_2.jpg\n",
      "/Users/pranshmaurya/Desktop/AIML_Project/archive/validation/carrot/Image_3.jpg\n",
      "/Users/pranshmaurya/Desktop/AIML_Project/archive/validation/carrot/Image_1.jpg\n",
      "/Users/pranshmaurya/Desktop/AIML_Project/archive/validation/carrot/Image_4.png\n",
      "/Users/pranshmaurya/Desktop/AIML_Project/archive/validation/carrot/Image_5.jpg\n",
      "/Users/pranshmaurya/Desktop/AIML_Project/archive/validation/carrot/Image_7.JPG\n",
      "/Users/pranshmaurya/Desktop/AIML_Project/archive/validation/carrot/Image_6.jpg\n"
     ]
    }
   ],
   "source": [
    "import os.path\n",
    "for dirname, _, filenames in os.walk('/Users/pranshmaurya/Desktop/AIML_Project/archive'):\n",
    "    for filename in filenames:\n",
    "        print(os.path.join(dirname, filename))"
   ]
  },
  {
   "cell_type": "markdown",
   "metadata": {},
   "source": [
    "IMPORTING LIBRARIES"
   ]
  },
  {
   "cell_type": "code",
   "execution_count": 108,
   "metadata": {},
   "outputs": [],
   "source": [
    "import numpy as np\n",
    "import tensorflow as tf\n",
    "import matplotlib.pyplot as plt"
   ]
  },
  {
   "cell_type": "markdown",
   "metadata": {},
   "source": [
    "DATA PREPROCESSING\n",
    "\n",
    "Training image preprocessing"
   ]
  },
  {
   "cell_type": "code",
   "execution_count": 109,
   "metadata": {},
   "outputs": [
    {
     "name": "stdout",
     "output_type": "stream",
     "text": [
      "Found 3115 files belonging to 36 classes.\n"
     ]
    }
   ],
   "source": [
    "training_set = tf.keras.utils.image_dataset_from_directory(\n",
    "\t'/Users/pranshmaurya/Desktop/AIML_Project/archive/train',\n",
    "\tlabels = 'inferred',\n",
    "\tlabel_mode = 'categorical',\n",
    "\tclass_names = None,\n",
    "\tcolor_mode = 'rgb',\n",
    "\tbatch_size = 32,\n",
    "\timage_size = (64, 64),\n",
    " \tshuffle = True,\n",
    "  seed = None,\n",
    "  validation_split = None,\n",
    "  subset = None,\n",
    "  interpolation = 'bilinear',\n",
    "  follow_links = False,\n",
    "  crop_to_aspect_ratio = False\n",
    ")"
   ]
  },
  {
   "cell_type": "markdown",
   "metadata": {},
   "source": [
    "Validation image preprocessing"
   ]
  },
  {
   "cell_type": "code",
   "execution_count": 110,
   "metadata": {},
   "outputs": [
    {
     "name": "stdout",
     "output_type": "stream",
     "text": [
      "Found 351 files belonging to 36 classes.\n"
     ]
    }
   ],
   "source": [
    "validation_set = tf.keras.utils.image_dataset_from_directory(\n",
    "\t'/Users/pranshmaurya/Desktop/AIML_Project/archive/validation',\n",
    "\tlabels = 'inferred',\n",
    "\tlabel_mode = 'categorical',\n",
    "\tclass_names = None,\n",
    "\tcolor_mode = 'rgb',\n",
    "\tbatch_size = 32,\n",
    "\timage_size = (64, 64),\n",
    " \tshuffle = True,\n",
    "  seed = None,\n",
    "  validation_split = None,\n",
    "  subset = None,\n",
    "  interpolation = 'bilinear',\n",
    "  follow_links = False,\n",
    "  crop_to_aspect_ratio = False\n",
    ")"
   ]
  },
  {
   "cell_type": "markdown",
   "metadata": {},
   "source": [
    "BUILDING MODEL"
   ]
  },
  {
   "cell_type": "code",
   "execution_count": 111,
   "metadata": {},
   "outputs": [],
   "source": [
    "cnn = tf.keras.models.Sequential()"
   ]
  },
  {
   "cell_type": "markdown",
   "metadata": {},
   "source": [
    "Building convolution layer"
   ]
  },
  {
   "cell_type": "code",
   "execution_count": 112,
   "metadata": {},
   "outputs": [],
   "source": [
    "cnn.add(tf.keras.layers.Conv2D(filters=32,kernel_size=3,padding='same',activation='relu',input_shape=[64,64,3]))\n",
    "cnn.add(tf.keras.layers.Conv2D(filters=32,kernel_size=3,activation='relu'))\n",
    "cnn.add(tf.keras.layers.MaxPool2D(pool_size=2,strides=2))   # doing max pooling "
   ]
  },
  {
   "cell_type": "code",
   "execution_count": 113,
   "metadata": {},
   "outputs": [],
   "source": [
    "cnn.add(tf.keras.layers.Dropout(0.25)) "
   ]
  },
  {
   "cell_type": "code",
   "execution_count": 114,
   "metadata": {},
   "outputs": [],
   "source": [
    "cnn.add(tf.keras.layers.Conv2D(filters=64,kernel_size=3,padding='same',activation='relu'))\n",
    "cnn.add(tf.keras.layers.Conv2D(filters=64,kernel_size=3,activation='relu'))\n",
    "cnn.add(tf.keras.layers.MaxPool2D(pool_size=2,strides=2))"
   ]
  },
  {
   "cell_type": "code",
   "execution_count": 115,
   "metadata": {},
   "outputs": [],
   "source": [
    "cnn.add(tf.keras.layers.Dropout(0.25))"
   ]
  },
  {
   "cell_type": "code",
   "execution_count": 116,
   "metadata": {},
   "outputs": [],
   "source": [
    "cnn.add(tf.keras.layers.Flatten())"
   ]
  },
  {
   "cell_type": "code",
   "execution_count": 117,
   "metadata": {},
   "outputs": [],
   "source": [
    "# neural network\n",
    "cnn.add(tf.keras.layers.Dense(units=512,activation='relu')) # here 128 units means we have 128 neutrons"
   ]
  },
  {
   "cell_type": "code",
   "execution_count": 118,
   "metadata": {},
   "outputs": [],
   "source": [
    "cnn.add(tf.keras.layers.Dense(units=256,activation='relu'))"
   ]
  },
  {
   "cell_type": "code",
   "execution_count": 119,
   "metadata": {},
   "outputs": [],
   "source": [
    "\n",
    "cnn.add(tf.keras.layers.Dropout(0.5)) # to avoid overfitting"
   ]
  },
  {
   "cell_type": "code",
   "execution_count": 120,
   "metadata": {},
   "outputs": [],
   "source": [
    "# output layer\n",
    "cnn.add(tf.keras.layers.Dense(units=36,activation='softmax'))\n",
    "\n",
    "# we have taken 36 units because we have 36 classes and we need output only for those 36 classes"
   ]
  },
  {
   "cell_type": "markdown",
   "metadata": {},
   "source": [
    "COMPILING AND TRAINING PHASE"
   ]
  },
  {
   "cell_type": "code",
   "execution_count": 121,
   "metadata": {},
   "outputs": [],
   "source": [
    "cnn.compile(optimizer='adam',loss='categorical_crossentropy',metrics=['accuracy'])"
   ]
  },
  {
   "cell_type": "code",
   "execution_count": 122,
   "metadata": {},
   "outputs": [
    {
     "name": "stdout",
     "output_type": "stream",
     "text": [
      "Epoch 1/32\n",
      "\u001b[1m 2/98\u001b[0m \u001b[37m━━━━━━━━━━━━━━━━━━━━\u001b[0m \u001b[1m48s\u001b[0m 506ms/step - accuracy: 0.0547 - loss: 108.5124"
     ]
    },
    {
     "name": "stderr",
     "output_type": "stream",
     "text": [
      "2024-04-30 13:56:12.205041: W tensorflow/core/lib/png/png_io.cc:89] PNG warning: iCCP: known incorrect sRGB profile\n",
      "2024-04-30 13:56:12.256217: W tensorflow/core/lib/png/png_io.cc:89] PNG warning: iCCP: known incorrect sRGB profile\n"
     ]
    },
    {
     "name": "stdout",
     "output_type": "stream",
     "text": [
      "\u001b[1m13/98\u001b[0m \u001b[32m━━\u001b[0m\u001b[37m━━━━━━━━━━━━━━━━━━\u001b[0m \u001b[1m31s\u001b[0m 366ms/step - accuracy: 0.0435 - loss: 82.2188"
     ]
    },
    {
     "name": "stderr",
     "output_type": "stream",
     "text": [
      "2024-04-30 13:56:15.872267: W tensorflow/core/lib/png/png_io.cc:89] PNG warning: iCCP: known incorrect sRGB profile\n",
      "2024-04-30 13:56:15.877764: W tensorflow/core/lib/png/png_io.cc:89] PNG warning: iCCP: known incorrect sRGB profile\n"
     ]
    },
    {
     "name": "stdout",
     "output_type": "stream",
     "text": [
      "\u001b[1m14/98\u001b[0m \u001b[32m━━\u001b[0m\u001b[37m━━━━━━━━━━━━━━━━━━\u001b[0m \u001b[1m30s\u001b[0m 358ms/step - accuracy: 0.0428 - loss: 79.2704"
     ]
    },
    {
     "name": "stderr",
     "output_type": "stream",
     "text": [
      "2024-04-30 13:56:16.084625: W tensorflow/core/lib/png/png_io.cc:89] PNG warning: iCCP: known incorrect sRGB profile\n",
      "2024-04-30 13:56:16.290520: W tensorflow/core/lib/png/png_io.cc:89] PNG warning: iCCP: known incorrect sRGB profile\n",
      "2024-04-30 13:56:16.395817: W tensorflow/core/lib/png/png_io.cc:89] PNG warning: iCCP: known incorrect sRGB profile\n"
     ]
    },
    {
     "name": "stdout",
     "output_type": "stream",
     "text": [
      "\u001b[1m16/98\u001b[0m \u001b[32m━━━\u001b[0m\u001b[37m━━━━━━━━━━━━━━━━━\u001b[0m \u001b[1m28s\u001b[0m 353ms/step - accuracy: 0.0412 - loss: 74.0329"
     ]
    },
    {
     "name": "stderr",
     "output_type": "stream",
     "text": [
      "2024-04-30 13:56:16.951765: W tensorflow/core/lib/png/png_io.cc:89] PNG warning: iCCP: known incorrect sRGB profile\n"
     ]
    },
    {
     "name": "stdout",
     "output_type": "stream",
     "text": [
      "\u001b[1m22/98\u001b[0m \u001b[32m━━━━\u001b[0m\u001b[37m━━━━━━━━━━━━━━━━\u001b[0m \u001b[1m25s\u001b[0m 333ms/step - accuracy: 0.0378 - loss: 62.1944"
     ]
    },
    {
     "name": "stderr",
     "output_type": "stream",
     "text": [
      "2024-04-30 13:56:18.537595: W tensorflow/core/lib/png/png_io.cc:89] PNG warning: iCCP: known incorrect sRGB profile\n",
      "2024-04-30 13:56:18.635735: W tensorflow/core/lib/png/png_io.cc:89] PNG warning: iCCP: known incorrect sRGB profile\n"
     ]
    },
    {
     "name": "stdout",
     "output_type": "stream",
     "text": [
      "\u001b[1m27/98\u001b[0m \u001b[32m━━━━━\u001b[0m\u001b[37m━━━━━━━━━━━━━━━\u001b[0m \u001b[1m22s\u001b[0m 322ms/step - accuracy: 0.0366 - loss: 55.2292"
     ]
    },
    {
     "name": "stderr",
     "output_type": "stream",
     "text": [
      "2024-04-30 13:56:19.845828: W tensorflow/core/lib/png/png_io.cc:89] PNG warning: iCCP: known incorrect sRGB profile\n"
     ]
    },
    {
     "name": "stdout",
     "output_type": "stream",
     "text": [
      "\u001b[1m30/98\u001b[0m \u001b[32m━━━━━━\u001b[0m\u001b[37m━━━━━━━━━━━━━━\u001b[0m \u001b[1m21s\u001b[0m 317ms/step - accuracy: 0.0362 - loss: 51.8704"
     ]
    },
    {
     "name": "stderr",
     "output_type": "stream",
     "text": [
      "2024-04-30 13:56:20.759346: W tensorflow/core/lib/png/png_io.cc:89] PNG warning: iCCP: known incorrect sRGB profile\n"
     ]
    },
    {
     "name": "stdout",
     "output_type": "stream",
     "text": [
      "\u001b[1m33/98\u001b[0m \u001b[32m━━━━━━\u001b[0m\u001b[37m━━━━━━━━━━━━━━\u001b[0m \u001b[1m20s\u001b[0m 315ms/step - accuracy: 0.0358 - loss: 48.9683"
     ]
    },
    {
     "name": "stderr",
     "output_type": "stream",
     "text": [
      "2024-04-30 13:56:21.707386: W tensorflow/core/lib/png/png_io.cc:89] PNG warning: iCCP: known incorrect sRGB profile\n"
     ]
    },
    {
     "name": "stdout",
     "output_type": "stream",
     "text": [
      "\u001b[1m34/98\u001b[0m \u001b[32m━━━━━━\u001b[0m\u001b[37m━━━━━━━━━━━━━━\u001b[0m \u001b[1m20s\u001b[0m 313ms/step - accuracy: 0.0357 - loss: 48.0861"
     ]
    },
    {
     "name": "stderr",
     "output_type": "stream",
     "text": [
      "2024-04-30 13:56:21.928288: W tensorflow/core/lib/png/png_io.cc:89] PNG warning: iCCP: known incorrect sRGB profile\n"
     ]
    },
    {
     "name": "stdout",
     "output_type": "stream",
     "text": [
      "\u001b[1m36/98\u001b[0m \u001b[32m━━━━━━━\u001b[0m\u001b[37m━━━━━━━━━━━━━\u001b[0m \u001b[1m19s\u001b[0m 311ms/step - accuracy: 0.0353 - loss: 46.4329"
     ]
    },
    {
     "name": "stderr",
     "output_type": "stream",
     "text": [
      "2024-04-30 13:56:22.529925: W tensorflow/core/lib/png/png_io.cc:89] PNG warning: iCCP: known incorrect sRGB profile\n",
      "2024-04-30 13:56:22.593406: W tensorflow/core/lib/png/png_io.cc:89] PNG warning: iCCP: known incorrect sRGB profile\n"
     ]
    },
    {
     "name": "stdout",
     "output_type": "stream",
     "text": [
      "\u001b[1m42/98\u001b[0m \u001b[32m━━━━━━━━\u001b[0m\u001b[37m━━━━━━━━━━━━\u001b[0m \u001b[1m17s\u001b[0m 307ms/step - accuracy: 0.0345 - loss: 42.2076"
     ]
    },
    {
     "name": "stderr",
     "output_type": "stream",
     "text": [
      "2024-04-30 13:56:24.126145: W tensorflow/core/lib/png/png_io.cc:89] PNG warning: iCCP: known incorrect sRGB profile\n"
     ]
    },
    {
     "name": "stdout",
     "output_type": "stream",
     "text": [
      "\u001b[1m51/98\u001b[0m \u001b[32m━━━━━━━━━━\u001b[0m\u001b[37m━━━━━━━━━━\u001b[0m \u001b[1m14s\u001b[0m 299ms/step - accuracy: 0.0339 - loss: 37.3624"
     ]
    },
    {
     "name": "stderr",
     "output_type": "stream",
     "text": [
      "2024-04-30 13:56:26.404884: W tensorflow/core/lib/png/png_io.cc:89] PNG warning: iCCP: known incorrect sRGB profile\n"
     ]
    },
    {
     "name": "stdout",
     "output_type": "stream",
     "text": [
      "\u001b[1m63/98\u001b[0m \u001b[32m━━━━━━━━━━━━\u001b[0m\u001b[37m━━━━━━━━\u001b[0m \u001b[1m10s\u001b[0m 289ms/step - accuracy: 0.0331 - loss: 32.6681"
     ]
    },
    {
     "name": "stderr",
     "output_type": "stream",
     "text": [
      "2024-04-30 13:56:29.329241: W tensorflow/core/lib/png/png_io.cc:89] PNG warning: iCCP: known incorrect sRGB profile\n"
     ]
    },
    {
     "name": "stdout",
     "output_type": "stream",
     "text": [
      "\u001b[1m68/98\u001b[0m \u001b[32m━━━━━━━━━━━━━\u001b[0m\u001b[37m━━━━━━━\u001b[0m \u001b[1m8s\u001b[0m 286ms/step - accuracy: 0.0329 - loss: 31.1128"
     ]
    },
    {
     "name": "stderr",
     "output_type": "stream",
     "text": [
      "2024-04-30 13:56:30.665067: W tensorflow/core/lib/png/png_io.cc:89] PNG warning: iCCP: known incorrect sRGB profile\n"
     ]
    },
    {
     "name": "stdout",
     "output_type": "stream",
     "text": [
      "\u001b[1m71/98\u001b[0m \u001b[32m━━━━━━━━━━━━━━\u001b[0m\u001b[37m━━━━━━\u001b[0m \u001b[1m7s\u001b[0m 286ms/step - accuracy: 0.0327 - loss: 30.2655"
     ]
    },
    {
     "name": "stderr",
     "output_type": "stream",
     "text": [
      "2024-04-30 13:56:31.473350: W tensorflow/core/lib/png/png_io.cc:89] PNG warning: iCCP: known incorrect sRGB profile\n"
     ]
    },
    {
     "name": "stdout",
     "output_type": "stream",
     "text": [
      "\u001b[1m79/98\u001b[0m \u001b[32m━━━━━━━━━━━━━━━━\u001b[0m\u001b[37m━━━━\u001b[0m \u001b[1m5s\u001b[0m 285ms/step - accuracy: 0.0323 - loss: 28.2661"
     ]
    },
    {
     "name": "stderr",
     "output_type": "stream",
     "text": [
      "2024-04-30 13:56:33.830003: W tensorflow/core/lib/png/png_io.cc:89] PNG warning: iCCP: known incorrect sRGB profile\n"
     ]
    },
    {
     "name": "stdout",
     "output_type": "stream",
     "text": [
      "\u001b[1m85/98\u001b[0m \u001b[32m━━━━━━━━━━━━━━━━━\u001b[0m\u001b[37m━━━\u001b[0m \u001b[1m3s\u001b[0m 283ms/step - accuracy: 0.0320 - loss: 26.9717"
     ]
    },
    {
     "name": "stderr",
     "output_type": "stream",
     "text": [
      "2024-04-30 13:56:35.202540: W tensorflow/core/lib/png/png_io.cc:89] PNG warning: iCCP: known incorrect sRGB profile\n"
     ]
    },
    {
     "name": "stdout",
     "output_type": "stream",
     "text": [
      "\u001b[1m98/98\u001b[0m \u001b[32m━━━━━━━━━━━━━━━━━━━━\u001b[0m\u001b[37m\u001b[0m \u001b[1m0s\u001b[0m 264ms/step - accuracy: 0.0315 - loss: 24.6254"
     ]
    },
    {
     "name": "stderr",
     "output_type": "stream",
     "text": [
      "2024-04-30 13:56:38.763091: W tensorflow/core/lib/png/png_io.cc:89] PNG warning: iCCP: known incorrect sRGB profile\n",
      "2024-04-30 13:56:39.252350: W tensorflow/core/lib/png/png_io.cc:89] PNG warning: iCCP: known incorrect sRGB profile\n"
     ]
    },
    {
     "name": "stdout",
     "output_type": "stream",
     "text": [
      "\u001b[1m98/98\u001b[0m \u001b[32m━━━━━━━━━━━━━━━━━━━━\u001b[0m\u001b[37m\u001b[0m \u001b[1m30s\u001b[0m 290ms/step - accuracy: 0.0315 - loss: 24.4671 - val_accuracy: 0.0313 - val_loss: 3.5809\n",
      "Epoch 2/32\n",
      "\u001b[1m 1/98\u001b[0m \u001b[37m━━━━━━━━━━━━━━━━━━━━\u001b[0m \u001b[1m49s\u001b[0m 506ms/step - accuracy: 0.0312 - loss: 3.5841"
     ]
    },
    {
     "name": "stderr",
     "output_type": "stream",
     "text": [
      "2024-04-30 13:56:40.083374: W tensorflow/core/lib/png/png_io.cc:89] PNG warning: iCCP: known incorrect sRGB profile\n",
      "2024-04-30 13:56:40.910526: W tensorflow/core/lib/png/png_io.cc:89] PNG warning: iCCP: known incorrect sRGB profile\n"
     ]
    },
    {
     "name": "stdout",
     "output_type": "stream",
     "text": [
      "\u001b[1m 4/98\u001b[0m \u001b[37m━━━━━━━━━━━━━━━━━━━━\u001b[0m \u001b[1m44s\u001b[0m 476ms/step - accuracy: 0.0286 - loss: 3.5828"
     ]
    },
    {
     "name": "stderr",
     "output_type": "stream",
     "text": [
      "2024-04-30 13:56:41.752056: W tensorflow/core/lib/png/png_io.cc:89] PNG warning: iCCP: known incorrect sRGB profile\n"
     ]
    },
    {
     "name": "stdout",
     "output_type": "stream",
     "text": [
      "\u001b[1m16/98\u001b[0m \u001b[32m━━━\u001b[0m\u001b[37m━━━━━━━━━━━━━━━━━\u001b[0m \u001b[1m26s\u001b[0m 329ms/step - accuracy: 0.0305 - loss: 3.5814"
     ]
    },
    {
     "name": "stderr",
     "output_type": "stream",
     "text": [
      "2024-04-30 13:56:45.012651: W tensorflow/core/lib/png/png_io.cc:89] PNG warning: iCCP: known incorrect sRGB profile\n"
     ]
    },
    {
     "name": "stdout",
     "output_type": "stream",
     "text": [
      "\u001b[1m22/98\u001b[0m \u001b[32m━━━━\u001b[0m\u001b[37m━━━━━━━━━━━━━━━━\u001b[0m \u001b[1m24s\u001b[0m 319ms/step - accuracy: 0.0306 - loss: 3.5810"
     ]
    },
    {
     "name": "stderr",
     "output_type": "stream",
     "text": [
      "2024-04-30 13:56:46.840613: W tensorflow/core/lib/png/png_io.cc:89] PNG warning: iCCP: known incorrect sRGB profile\n"
     ]
    },
    {
     "name": "stdout",
     "output_type": "stream",
     "text": [
      "\u001b[1m23/98\u001b[0m \u001b[32m━━━━\u001b[0m\u001b[37m━━━━━━━━━━━━━━━━\u001b[0m \u001b[1m23s\u001b[0m 318ms/step - accuracy: 0.0306 - loss: 3.5811"
     ]
    },
    {
     "name": "stderr",
     "output_type": "stream",
     "text": [
      "2024-04-30 13:56:47.315814: W tensorflow/core/lib/png/png_io.cc:89] PNG warning: iCCP: known incorrect sRGB profile\n"
     ]
    },
    {
     "name": "stdout",
     "output_type": "stream",
     "text": [
      "\u001b[1m25/98\u001b[0m \u001b[32m━━━━━\u001b[0m\u001b[37m━━━━━━━━━━━━━━━\u001b[0m \u001b[1m23s\u001b[0m 316ms/step - accuracy: 0.0306 - loss: 3.5813"
     ]
    },
    {
     "name": "stderr",
     "output_type": "stream",
     "text": [
      "2024-04-30 13:56:47.762501: W tensorflow/core/lib/png/png_io.cc:89] PNG warning: iCCP: known incorrect sRGB profile\n",
      "2024-04-30 13:56:47.913635: W tensorflow/core/lib/png/png_io.cc:89] PNG warning: iCCP: known incorrect sRGB profile\n"
     ]
    },
    {
     "name": "stdout",
     "output_type": "stream",
     "text": [
      "\u001b[1m26/98\u001b[0m \u001b[32m━━━━━\u001b[0m\u001b[37m━━━━━━━━━━━━━━━\u001b[0m \u001b[1m22s\u001b[0m 314ms/step - accuracy: 0.0307 - loss: 3.5814"
     ]
    },
    {
     "name": "stderr",
     "output_type": "stream",
     "text": [
      "2024-04-30 13:56:48.083852: W tensorflow/core/lib/png/png_io.cc:89] PNG warning: iCCP: known incorrect sRGB profile\n",
      "2024-04-30 13:56:48.223336: W tensorflow/core/lib/png/png_io.cc:89] PNG warning: iCCP: known incorrect sRGB profile\n"
     ]
    },
    {
     "name": "stdout",
     "output_type": "stream",
     "text": [
      "\u001b[1m29/98\u001b[0m \u001b[32m━━━━━\u001b[0m\u001b[37m━━━━━━━━━━━━━━━\u001b[0m \u001b[1m21s\u001b[0m 310ms/step - accuracy: 0.0309 - loss: 3.5818"
     ]
    },
    {
     "name": "stderr",
     "output_type": "stream",
     "text": [
      "2024-04-30 13:56:48.900527: W tensorflow/core/lib/png/png_io.cc:89] PNG warning: iCCP: known incorrect sRGB profile\n"
     ]
    },
    {
     "name": "stdout",
     "output_type": "stream",
     "text": [
      "\u001b[1m35/98\u001b[0m \u001b[32m━━━━━━━\u001b[0m\u001b[37m━━━━━━━━━━━━━\u001b[0m \u001b[1m19s\u001b[0m 307ms/step - accuracy: 0.0306 - loss: 3.5822"
     ]
    },
    {
     "name": "stderr",
     "output_type": "stream",
     "text": [
      "2024-04-30 13:56:50.721658: W tensorflow/core/lib/png/png_io.cc:89] PNG warning: iCCP: known incorrect sRGB profile\n"
     ]
    },
    {
     "name": "stdout",
     "output_type": "stream",
     "text": [
      "\u001b[1m37/98\u001b[0m \u001b[32m━━━━━━━\u001b[0m\u001b[37m━━━━━━━━━━━━━\u001b[0m \u001b[1m18s\u001b[0m 307ms/step - accuracy: 0.0305 - loss: 3.5823"
     ]
    },
    {
     "name": "stderr",
     "output_type": "stream",
     "text": [
      "2024-04-30 13:56:51.143581: W tensorflow/core/lib/png/png_io.cc:89] PNG warning: iCCP: known incorrect sRGB profile\n",
      "2024-04-30 13:56:51.326716: W tensorflow/core/lib/png/png_io.cc:89] PNG warning: iCCP: known incorrect sRGB profile\n",
      "2024-04-30 13:56:51.341208: W tensorflow/core/lib/png/png_io.cc:89] PNG warning: iCCP: known incorrect sRGB profile\n"
     ]
    },
    {
     "name": "stdout",
     "output_type": "stream",
     "text": [
      "\u001b[1m40/98\u001b[0m \u001b[32m━━━━━━━━\u001b[0m\u001b[37m━━━━━━━━━━━━\u001b[0m \u001b[1m17s\u001b[0m 304ms/step - accuracy: 0.0307 - loss: 3.5824"
     ]
    },
    {
     "name": "stderr",
     "output_type": "stream",
     "text": [
      "2024-04-30 13:56:51.967899: W tensorflow/core/lib/png/png_io.cc:89] PNG warning: iCCP: known incorrect sRGB profile\n"
     ]
    },
    {
     "name": "stdout",
     "output_type": "stream",
     "text": [
      "\u001b[1m44/98\u001b[0m \u001b[32m━━━━━━━━\u001b[0m\u001b[37m━━━━━━━━━━━━\u001b[0m \u001b[1m16s\u001b[0m 300ms/step - accuracy: 0.0308 - loss: 3.5824"
     ]
    },
    {
     "name": "stderr",
     "output_type": "stream",
     "text": [
      "2024-04-30 13:56:53.244228: W tensorflow/core/lib/png/png_io.cc:89] PNG warning: iCCP: known incorrect sRGB profile\n"
     ]
    },
    {
     "name": "stdout",
     "output_type": "stream",
     "text": [
      "\u001b[1m47/98\u001b[0m \u001b[32m━━━━━━━━━\u001b[0m\u001b[37m━━━━━━━━━━━\u001b[0m \u001b[1m15s\u001b[0m 300ms/step - accuracy: 0.0310 - loss: 3.5825"
     ]
    },
    {
     "name": "stderr",
     "output_type": "stream",
     "text": [
      "2024-04-30 13:56:54.001671: W tensorflow/core/lib/png/png_io.cc:89] PNG warning: iCCP: known incorrect sRGB profile\n"
     ]
    },
    {
     "name": "stdout",
     "output_type": "stream",
     "text": [
      "\u001b[1m61/98\u001b[0m \u001b[32m━━━━━━━━━━━━\u001b[0m\u001b[37m━━━━━━━━\u001b[0m \u001b[1m10s\u001b[0m 290ms/step - accuracy: 0.0320 - loss: 3.5823"
     ]
    },
    {
     "name": "stderr",
     "output_type": "stream",
     "text": [
      "2024-04-30 13:56:57.723692: W tensorflow/core/lib/png/png_io.cc:89] PNG warning: iCCP: known incorrect sRGB profile\n"
     ]
    },
    {
     "name": "stdout",
     "output_type": "stream",
     "text": [
      "\u001b[1m66/98\u001b[0m \u001b[32m━━━━━━━━━━━━━\u001b[0m\u001b[37m━━━━━━━\u001b[0m \u001b[1m9s\u001b[0m 289ms/step - accuracy: 0.0324 - loss: 3.5821"
     ]
    },
    {
     "name": "stderr",
     "output_type": "stream",
     "text": [
      "2024-04-30 13:56:59.038531: W tensorflow/core/lib/png/png_io.cc:89] PNG warning: iCCP: known incorrect sRGB profile\n"
     ]
    },
    {
     "name": "stdout",
     "output_type": "stream",
     "text": [
      "\u001b[1m79/98\u001b[0m \u001b[32m━━━━━━━━━━━━━━━━\u001b[0m\u001b[37m━━━━\u001b[0m \u001b[1m5s\u001b[0m 287ms/step - accuracy: 0.0333 - loss: 3.5816"
     ]
    },
    {
     "name": "stderr",
     "output_type": "stream",
     "text": [
      "2024-04-30 13:57:02.528245: W tensorflow/core/lib/png/png_io.cc:89] PNG warning: iCCP: known incorrect sRGB profile\n"
     ]
    },
    {
     "name": "stdout",
     "output_type": "stream",
     "text": [
      "\u001b[1m85/98\u001b[0m \u001b[32m━━━━━━━━━━━━━━━━━\u001b[0m\u001b[37m━━━\u001b[0m \u001b[1m3s\u001b[0m 285ms/step - accuracy: 0.0336 - loss: 3.5814"
     ]
    },
    {
     "name": "stderr",
     "output_type": "stream",
     "text": [
      "2024-04-30 13:57:03.978370: W tensorflow/core/lib/png/png_io.cc:89] PNG warning: iCCP: known incorrect sRGB profile\n"
     ]
    },
    {
     "name": "stdout",
     "output_type": "stream",
     "text": [
      "\u001b[1m87/98\u001b[0m \u001b[32m━━━━━━━━━━━━━━━━━\u001b[0m\u001b[37m━━━\u001b[0m \u001b[1m3s\u001b[0m 284ms/step - accuracy: 0.0337 - loss: 3.5813"
     ]
    },
    {
     "name": "stderr",
     "output_type": "stream",
     "text": [
      "2024-04-30 13:57:04.713524: W tensorflow/core/lib/png/png_io.cc:89] PNG warning: iCCP: known incorrect sRGB profile\n"
     ]
    },
    {
     "name": "stdout",
     "output_type": "stream",
     "text": [
      "\u001b[1m98/98\u001b[0m \u001b[32m━━━━━━━━━━━━━━━━━━━━\u001b[0m\u001b[37m\u001b[0m \u001b[1m0s\u001b[0m 269ms/step - accuracy: 0.0342 - loss: 3.5807"
     ]
    },
    {
     "name": "stderr",
     "output_type": "stream",
     "text": [
      "2024-04-30 13:57:06.530076: W tensorflow/core/lib/png/png_io.cc:89] PNG warning: iCCP: known incorrect sRGB profile\n",
      "2024-04-30 13:57:08.106423: W tensorflow/core/lib/png/png_io.cc:89] PNG warning: iCCP: known incorrect sRGB profile\n"
     ]
    },
    {
     "name": "stdout",
     "output_type": "stream",
     "text": [
      "\u001b[1m98/98\u001b[0m \u001b[32m━━━━━━━━━━━━━━━━━━━━\u001b[0m\u001b[37m\u001b[0m \u001b[1m29s\u001b[0m 294ms/step - accuracy: 0.0342 - loss: 3.5807 - val_accuracy: 0.0399 - val_loss: 3.5739\n",
      "Epoch 3/32\n"
     ]
    },
    {
     "name": "stderr",
     "output_type": "stream",
     "text": [
      "2024-04-30 13:57:08.986799: W tensorflow/core/lib/png/png_io.cc:89] PNG warning: iCCP: known incorrect sRGB profile\n"
     ]
    },
    {
     "name": "stdout",
     "output_type": "stream",
     "text": [
      "\u001b[1m 1/98\u001b[0m \u001b[37m━━━━━━━━━━━━━━━━━━━━\u001b[0m \u001b[1m55s\u001b[0m 573ms/step - accuracy: 0.0000e+00 - loss: 3.5812"
     ]
    },
    {
     "name": "stderr",
     "output_type": "stream",
     "text": [
      "2024-04-30 13:57:09.854189: W tensorflow/core/lib/png/png_io.cc:89] PNG warning: iCCP: known incorrect sRGB profile\n"
     ]
    },
    {
     "name": "stdout",
     "output_type": "stream",
     "text": [
      "\u001b[1m 3/98\u001b[0m \u001b[37m━━━━━━━━━━━━━━━━━━━━\u001b[0m \u001b[1m54s\u001b[0m 569ms/step - accuracy: 0.0260 - loss: 3.5822  "
     ]
    },
    {
     "name": "stderr",
     "output_type": "stream",
     "text": [
      "2024-04-30 13:57:10.412960: W tensorflow/core/lib/png/png_io.cc:89] PNG warning: iCCP: known incorrect sRGB profile\n"
     ]
    },
    {
     "name": "stdout",
     "output_type": "stream",
     "text": [
      "\u001b[1m10/98\u001b[0m \u001b[32m━━\u001b[0m\u001b[37m━━━━━━━━━━━━━━━━━━\u001b[0m \u001b[1m31s\u001b[0m 352ms/step - accuracy: 0.0284 - loss: 3.5747"
     ]
    },
    {
     "name": "stderr",
     "output_type": "stream",
     "text": [
      "2024-04-30 13:57:12.435676: W tensorflow/core/lib/png/png_io.cc:89] PNG warning: iCCP: known incorrect sRGB profile\n"
     ]
    },
    {
     "name": "stdout",
     "output_type": "stream",
     "text": [
      "\u001b[1m11/98\u001b[0m \u001b[32m━━\u001b[0m\u001b[37m━━━━━━━━━━━━━━━━━━\u001b[0m \u001b[1m30s\u001b[0m 345ms/step - accuracy: 0.0281 - loss: 3.5745"
     ]
    },
    {
     "name": "stderr",
     "output_type": "stream",
     "text": [
      "2024-04-30 13:57:12.819613: W tensorflow/core/lib/png/png_io.cc:89] PNG warning: iCCP: known incorrect sRGB profile\n"
     ]
    },
    {
     "name": "stdout",
     "output_type": "stream",
     "text": [
      "\u001b[1m12/98\u001b[0m \u001b[32m━━\u001b[0m\u001b[37m━━━━━━━━━━━━━━━━━━\u001b[0m \u001b[1m29s\u001b[0m 339ms/step - accuracy: 0.0278 - loss: 3.5745"
     ]
    },
    {
     "name": "stderr",
     "output_type": "stream",
     "text": [
      "2024-04-30 13:57:13.037259: W tensorflow/core/lib/png/png_io.cc:89] PNG warning: iCCP: known incorrect sRGB profile\n"
     ]
    },
    {
     "name": "stdout",
     "output_type": "stream",
     "text": [
      "\u001b[1m14/98\u001b[0m \u001b[32m━━\u001b[0m\u001b[37m━━━━━━━━━━━━━━━━━━\u001b[0m \u001b[1m27s\u001b[0m 329ms/step - accuracy: 0.0273 - loss: 3.5741"
     ]
    },
    {
     "name": "stderr",
     "output_type": "stream",
     "text": [
      "2024-04-30 13:57:13.587632: W tensorflow/core/lib/png/png_io.cc:89] PNG warning: iCCP: known incorrect sRGB profile\n"
     ]
    },
    {
     "name": "stdout",
     "output_type": "stream",
     "text": [
      "\u001b[1m17/98\u001b[0m \u001b[32m━━━\u001b[0m\u001b[37m━━━━━━━━━━━━━━━━━\u001b[0m \u001b[1m25s\u001b[0m 319ms/step - accuracy: 0.0266 - loss: 3.5741"
     ]
    },
    {
     "name": "stderr",
     "output_type": "stream",
     "text": [
      "2024-04-30 13:57:14.498880: W tensorflow/core/lib/png/png_io.cc:89] PNG warning: iCCP: known incorrect sRGB profile\n"
     ]
    },
    {
     "name": "stdout",
     "output_type": "stream",
     "text": [
      "\u001b[1m18/98\u001b[0m \u001b[32m━━━\u001b[0m\u001b[37m━━━━━━━━━━━━━━━━━\u001b[0m \u001b[1m25s\u001b[0m 316ms/step - accuracy: 0.0264 - loss: 3.5741"
     ]
    },
    {
     "name": "stderr",
     "output_type": "stream",
     "text": [
      "2024-04-30 13:57:14.726646: W tensorflow/core/lib/png/png_io.cc:89] PNG warning: iCCP: known incorrect sRGB profile\n"
     ]
    },
    {
     "name": "stdout",
     "output_type": "stream",
     "text": [
      "\u001b[1m21/98\u001b[0m \u001b[32m━━━━\u001b[0m\u001b[37m━━━━━━━━━━━━━━━━\u001b[0m \u001b[1m23s\u001b[0m 309ms/step - accuracy: 0.0267 - loss: 3.5740"
     ]
    },
    {
     "name": "stderr",
     "output_type": "stream",
     "text": [
      "2024-04-30 13:57:15.535974: W tensorflow/core/lib/png/png_io.cc:89] PNG warning: iCCP: known incorrect sRGB profile\n"
     ]
    },
    {
     "name": "stdout",
     "output_type": "stream",
     "text": [
      "\u001b[1m29/98\u001b[0m \u001b[32m━━━━━\u001b[0m\u001b[37m━━━━━━━━━━━━━━━\u001b[0m \u001b[1m19s\u001b[0m 288ms/step - accuracy: 0.0282 - loss: 3.5742"
     ]
    },
    {
     "name": "stderr",
     "output_type": "stream",
     "text": [
      "2024-04-30 13:57:17.462424: W tensorflow/core/lib/png/png_io.cc:89] PNG warning: iCCP: known incorrect sRGB profile\n"
     ]
    },
    {
     "name": "stdout",
     "output_type": "stream",
     "text": [
      "\u001b[1m30/98\u001b[0m \u001b[32m━━━━━━\u001b[0m\u001b[37m━━━━━━━━━━━━━━\u001b[0m \u001b[1m19s\u001b[0m 288ms/step - accuracy: 0.0283 - loss: 3.5742"
     ]
    },
    {
     "name": "stderr",
     "output_type": "stream",
     "text": [
      "2024-04-30 13:57:17.755076: W tensorflow/core/lib/png/png_io.cc:89] PNG warning: iCCP: known incorrect sRGB profile\n",
      "2024-04-30 13:57:17.838548: W tensorflow/core/lib/png/png_io.cc:89] PNG warning: iCCP: known incorrect sRGB profile\n"
     ]
    },
    {
     "name": "stdout",
     "output_type": "stream",
     "text": [
      "\u001b[1m35/98\u001b[0m \u001b[32m━━━━━━━\u001b[0m\u001b[37m━━━━━━━━━━━━━\u001b[0m \u001b[1m17s\u001b[0m 283ms/step - accuracy: 0.0289 - loss: 3.5743"
     ]
    },
    {
     "name": "stderr",
     "output_type": "stream",
     "text": [
      "2024-04-30 13:57:18.988818: W tensorflow/core/lib/png/png_io.cc:89] PNG warning: iCCP: known incorrect sRGB profile\n",
      "2024-04-30 13:57:19.036505: W tensorflow/core/lib/png/png_io.cc:89] PNG warning: iCCP: known incorrect sRGB profile\n"
     ]
    },
    {
     "name": "stdout",
     "output_type": "stream",
     "text": [
      "\u001b[1m39/98\u001b[0m \u001b[32m━━━━━━━\u001b[0m\u001b[37m━━━━━━━━━━━━━\u001b[0m \u001b[1m16s\u001b[0m 280ms/step - accuracy: 0.0294 - loss: 3.5743"
     ]
    },
    {
     "name": "stderr",
     "output_type": "stream",
     "text": [
      "2024-04-30 13:57:19.999372: W tensorflow/core/lib/png/png_io.cc:89] PNG warning: iCCP: known incorrect sRGB profile\n"
     ]
    },
    {
     "name": "stdout",
     "output_type": "stream",
     "text": [
      "\u001b[1m44/98\u001b[0m \u001b[32m━━━━━━━━\u001b[0m\u001b[37m━━━━━━━━━━━━\u001b[0m \u001b[1m14s\u001b[0m 276ms/step - accuracy: 0.0300 - loss: 3.5743"
     ]
    },
    {
     "name": "stderr",
     "output_type": "stream",
     "text": [
      "2024-04-30 13:57:21.240355: W tensorflow/core/lib/png/png_io.cc:89] PNG warning: iCCP: known incorrect sRGB profile\n"
     ]
    },
    {
     "name": "stdout",
     "output_type": "stream",
     "text": [
      "\u001b[1m57/98\u001b[0m \u001b[32m━━━━━━━━━━━\u001b[0m\u001b[37m━━━━━━━━━\u001b[0m \u001b[1m11s\u001b[0m 273ms/step - accuracy: 0.0308 - loss: 3.5739"
     ]
    },
    {
     "name": "stderr",
     "output_type": "stream",
     "text": [
      "2024-04-30 13:57:24.548693: W tensorflow/core/lib/png/png_io.cc:89] PNG warning: iCCP: known incorrect sRGB profile\n"
     ]
    },
    {
     "name": "stdout",
     "output_type": "stream",
     "text": [
      "\u001b[1m59/98\u001b[0m \u001b[32m━━━━━━━━━━━━\u001b[0m\u001b[37m━━━━━━━━\u001b[0m \u001b[1m10s\u001b[0m 272ms/step - accuracy: 0.0309 - loss: 3.5738"
     ]
    },
    {
     "name": "stderr",
     "output_type": "stream",
     "text": [
      "2024-04-30 13:57:24.984268: W tensorflow/core/lib/png/png_io.cc:89] PNG warning: iCCP: known incorrect sRGB profile\n"
     ]
    },
    {
     "name": "stdout",
     "output_type": "stream",
     "text": [
      "\u001b[1m72/98\u001b[0m \u001b[32m━━━━━━━━━━━━━━\u001b[0m\u001b[37m━━━━━━\u001b[0m \u001b[1m6s\u001b[0m 269ms/step - accuracy: 0.0320 - loss: 3.5703"
     ]
    },
    {
     "name": "stderr",
     "output_type": "stream",
     "text": [
      "2024-04-30 13:57:28.234800: W tensorflow/core/lib/png/png_io.cc:89] PNG warning: iCCP: known incorrect sRGB profile\n"
     ]
    },
    {
     "name": "stdout",
     "output_type": "stream",
     "text": [
      "\u001b[1m74/98\u001b[0m \u001b[32m━━━━━━━━━━━━━━━\u001b[0m\u001b[37m━━━━━\u001b[0m \u001b[1m6s\u001b[0m 269ms/step - accuracy: 0.0322 - loss: 3.5697"
     ]
    },
    {
     "name": "stderr",
     "output_type": "stream",
     "text": [
      "2024-04-30 13:57:29.035302: W tensorflow/core/lib/png/png_io.cc:89] PNG warning: iCCP: known incorrect sRGB profile\n"
     ]
    },
    {
     "name": "stdout",
     "output_type": "stream",
     "text": [
      "\u001b[1m86/98\u001b[0m \u001b[32m━━━━━━━━━━━━━━━━━\u001b[0m\u001b[37m━━━\u001b[0m \u001b[1m3s\u001b[0m 270ms/step - accuracy: 0.0331 - loss: 3.5666"
     ]
    },
    {
     "name": "stderr",
     "output_type": "stream",
     "text": [
      "2024-04-30 13:57:32.112297: W tensorflow/core/lib/png/png_io.cc:89] PNG warning: iCCP: known incorrect sRGB profile\n",
      "2024-04-30 13:57:32.295586: W tensorflow/core/lib/png/png_io.cc:89] PNG warning: iCCP: known incorrect sRGB profile\n"
     ]
    },
    {
     "name": "stdout",
     "output_type": "stream",
     "text": [
      "\u001b[1m98/98\u001b[0m \u001b[32m━━━━━━━━━━━━━━━━━━━━\u001b[0m\u001b[37m\u001b[0m \u001b[1m0s\u001b[0m 257ms/step - accuracy: 0.0337 - loss: 3.5647"
     ]
    },
    {
     "name": "stderr",
     "output_type": "stream",
     "text": [
      "2024-04-30 13:57:34.696967: W tensorflow/core/lib/png/png_io.cc:89] PNG warning: iCCP: known incorrect sRGB profile\n"
     ]
    },
    {
     "name": "stdout",
     "output_type": "stream",
     "text": [
      "\u001b[1m98/98\u001b[0m \u001b[32m━━━━━━━━━━━━━━━━━━━━\u001b[0m\u001b[37m\u001b[0m \u001b[1m28s\u001b[0m 281ms/step - accuracy: 0.0337 - loss: 3.5645 - val_accuracy: 0.0342 - val_loss: 3.5773\n",
      "Epoch 4/32\n"
     ]
    },
    {
     "name": "stderr",
     "output_type": "stream",
     "text": [
      "2024-04-30 13:57:36.493005: W tensorflow/core/lib/png/png_io.cc:89] PNG warning: iCCP: known incorrect sRGB profile\n"
     ]
    },
    {
     "name": "stdout",
     "output_type": "stream",
     "text": [
      "\u001b[1m 3/98\u001b[0m \u001b[37m━━━━━━━━━━━━━━━━━━━━\u001b[0m \u001b[1m27s\u001b[0m 289ms/step - accuracy: 0.0278 - loss: 3.5869   "
     ]
    },
    {
     "name": "stderr",
     "output_type": "stream",
     "text": [
      "2024-04-30 13:57:37.844992: W tensorflow/core/lib/png/png_io.cc:89] PNG warning: iCCP: known incorrect sRGB profile\n",
      "2024-04-30 13:57:38.021636: W tensorflow/core/lib/png/png_io.cc:89] PNG warning: iCCP: known incorrect sRGB profile\n"
     ]
    },
    {
     "name": "stdout",
     "output_type": "stream",
     "text": [
      "\u001b[1m11/98\u001b[0m \u001b[32m━━\u001b[0m\u001b[37m━━━━━━━━━━━━━━━━━━\u001b[0m \u001b[1m26s\u001b[0m 307ms/step - accuracy: 0.0421 - loss: 3.5802"
     ]
    },
    {
     "name": "stderr",
     "output_type": "stream",
     "text": [
      "2024-04-30 13:57:40.215158: W tensorflow/core/lib/png/png_io.cc:89] PNG warning: iCCP: known incorrect sRGB profile\n"
     ]
    },
    {
     "name": "stdout",
     "output_type": "stream",
     "text": [
      "\u001b[1m12/98\u001b[0m \u001b[32m━━\u001b[0m\u001b[37m━━━━━━━━━━━━━━━━━━\u001b[0m \u001b[1m26s\u001b[0m 307ms/step - accuracy: 0.0416 - loss: 3.5798"
     ]
    },
    {
     "name": "stderr",
     "output_type": "stream",
     "text": [
      "2024-04-30 13:57:40.586326: W tensorflow/core/lib/png/png_io.cc:89] PNG warning: iCCP: known incorrect sRGB profile\n",
      "2024-04-30 13:57:40.607159: W tensorflow/core/lib/png/png_io.cc:89] PNG warning: iCCP: known incorrect sRGB profile\n"
     ]
    },
    {
     "name": "stdout",
     "output_type": "stream",
     "text": [
      "\u001b[1m14/98\u001b[0m \u001b[32m━━\u001b[0m\u001b[37m━━━━━━━━━━━━━━━━━━\u001b[0m \u001b[1m25s\u001b[0m 303ms/step - accuracy: 0.0408 - loss: 3.5799"
     ]
    },
    {
     "name": "stderr",
     "output_type": "stream",
     "text": [
      "2024-04-30 13:57:41.201410: W tensorflow/core/lib/png/png_io.cc:89] PNG warning: iCCP: known incorrect sRGB profile\n"
     ]
    },
    {
     "name": "stdout",
     "output_type": "stream",
     "text": [
      "\u001b[1m21/98\u001b[0m \u001b[32m━━━━\u001b[0m\u001b[37m━━━━━━━━━━━━━━━━\u001b[0m \u001b[1m23s\u001b[0m 302ms/step - accuracy: 0.0377 - loss: 3.5811"
     ]
    },
    {
     "name": "stderr",
     "output_type": "stream",
     "text": [
      "2024-04-30 13:57:43.321103: W tensorflow/core/lib/png/png_io.cc:89] PNG warning: iCCP: known incorrect sRGB profile\n"
     ]
    },
    {
     "name": "stdout",
     "output_type": "stream",
     "text": [
      "\u001b[1m25/98\u001b[0m \u001b[32m━━━━━\u001b[0m\u001b[37m━━━━━━━━━━━━━━━\u001b[0m \u001b[1m21s\u001b[0m 298ms/step - accuracy: 0.0370 - loss: 3.5811"
     ]
    },
    {
     "name": "stderr",
     "output_type": "stream",
     "text": [
      "2024-04-30 13:57:44.405857: W tensorflow/core/lib/png/png_io.cc:89] PNG warning: iCCP: known incorrect sRGB profile\n"
     ]
    },
    {
     "name": "stdout",
     "output_type": "stream",
     "text": [
      "\u001b[1m31/98\u001b[0m \u001b[32m━━━━━━\u001b[0m\u001b[37m━━━━━━━━━━━━━━\u001b[0m \u001b[1m19s\u001b[0m 288ms/step - accuracy: 0.0369 - loss: 3.5806"
     ]
    },
    {
     "name": "stderr",
     "output_type": "stream",
     "text": [
      "2024-04-30 13:57:45.745024: W tensorflow/core/lib/png/png_io.cc:89] PNG warning: iCCP: known incorrect sRGB profile\n",
      "2024-04-30 13:57:45.911033: W tensorflow/core/lib/png/png_io.cc:89] PNG warning: iCCP: known incorrect sRGB profile\n",
      "2024-04-30 13:57:45.914974: W tensorflow/core/lib/png/png_io.cc:89] PNG warning: iCCP: known incorrect sRGB profile\n"
     ]
    },
    {
     "name": "stdout",
     "output_type": "stream",
     "text": [
      "\u001b[1m34/98\u001b[0m \u001b[32m━━━━━━\u001b[0m\u001b[37m━━━━━━━━━━━━━━\u001b[0m \u001b[1m18s\u001b[0m 284ms/step - accuracy: 0.0371 - loss: 3.5801"
     ]
    },
    {
     "name": "stderr",
     "output_type": "stream",
     "text": [
      "2024-04-30 13:57:46.636132: W tensorflow/core/lib/png/png_io.cc:89] PNG warning: iCCP: known incorrect sRGB profile\n"
     ]
    },
    {
     "name": "stdout",
     "output_type": "stream",
     "text": [
      "\u001b[1m37/98\u001b[0m \u001b[32m━━━━━━━\u001b[0m\u001b[37m━━━━━━━━━━━━━\u001b[0m \u001b[1m17s\u001b[0m 280ms/step - accuracy: 0.0372 - loss: 3.5795"
     ]
    },
    {
     "name": "stderr",
     "output_type": "stream",
     "text": [
      "2024-04-30 13:57:47.120934: W tensorflow/core/lib/png/png_io.cc:89] PNG warning: iCCP: known incorrect sRGB profile\n"
     ]
    },
    {
     "name": "stdout",
     "output_type": "stream",
     "text": [
      "\u001b[1m41/98\u001b[0m \u001b[32m━━━━━━━━\u001b[0m\u001b[37m━━━━━━━━━━━━\u001b[0m \u001b[1m15s\u001b[0m 277ms/step - accuracy: 0.0373 - loss: 3.5786"
     ]
    },
    {
     "name": "stderr",
     "output_type": "stream",
     "text": [
      "2024-04-30 13:57:48.368776: W tensorflow/core/lib/png/png_io.cc:89] PNG warning: iCCP: known incorrect sRGB profile\n"
     ]
    },
    {
     "name": "stdout",
     "output_type": "stream",
     "text": [
      "\u001b[1m43/98\u001b[0m \u001b[32m━━━━━━━━\u001b[0m\u001b[37m━━━━━━━━━━━━\u001b[0m \u001b[1m15s\u001b[0m 276ms/step - accuracy: 0.0373 - loss: 3.5780"
     ]
    },
    {
     "name": "stderr",
     "output_type": "stream",
     "text": [
      "2024-04-30 13:57:48.683821: W tensorflow/core/lib/png/png_io.cc:89] PNG warning: iCCP: known incorrect sRGB profile\n"
     ]
    },
    {
     "name": "stdout",
     "output_type": "stream",
     "text": [
      "\u001b[1m45/98\u001b[0m \u001b[32m━━━━━━━━━\u001b[0m\u001b[37m━━━━━━━━━━━\u001b[0m \u001b[1m14s\u001b[0m 276ms/step - accuracy: 0.0373 - loss: 3.5775"
     ]
    },
    {
     "name": "stderr",
     "output_type": "stream",
     "text": [
      "2024-04-30 13:57:49.193788: W tensorflow/core/lib/png/png_io.cc:89] PNG warning: iCCP: known incorrect sRGB profile\n"
     ]
    },
    {
     "name": "stdout",
     "output_type": "stream",
     "text": [
      "\u001b[1m46/98\u001b[0m \u001b[32m━━━━━━━━━\u001b[0m\u001b[37m━━━━━━━━━━━\u001b[0m \u001b[1m14s\u001b[0m 274ms/step - accuracy: 0.0373 - loss: 3.5772"
     ]
    },
    {
     "name": "stderr",
     "output_type": "stream",
     "text": [
      "2024-04-30 13:57:49.605525: W tensorflow/core/lib/png/png_io.cc:89] PNG warning: iCCP: known incorrect sRGB profile\n"
     ]
    },
    {
     "name": "stdout",
     "output_type": "stream",
     "text": [
      "\u001b[1m58/98\u001b[0m \u001b[32m━━━━━━━━━━━\u001b[0m\u001b[37m━━━━━━━━━\u001b[0m \u001b[1m10s\u001b[0m 272ms/step - accuracy: 0.0375 - loss: 3.5723"
     ]
    },
    {
     "name": "stderr",
     "output_type": "stream",
     "text": [
      "2024-04-30 13:57:52.558754: W tensorflow/core/lib/png/png_io.cc:89] PNG warning: iCCP: known incorrect sRGB profile\n"
     ]
    },
    {
     "name": "stdout",
     "output_type": "stream",
     "text": [
      "\u001b[1m60/98\u001b[0m \u001b[32m━━━━━━━━━━━━\u001b[0m\u001b[37m━━━━━━━━\u001b[0m \u001b[1m10s\u001b[0m 271ms/step - accuracy: 0.0375 - loss: 3.5713"
     ]
    },
    {
     "name": "stderr",
     "output_type": "stream",
     "text": [
      "2024-04-30 13:57:53.036383: W tensorflow/core/lib/png/png_io.cc:89] PNG warning: iCCP: known incorrect sRGB profile\n"
     ]
    },
    {
     "name": "stdout",
     "output_type": "stream",
     "text": [
      "\u001b[1m65/98\u001b[0m \u001b[32m━━━━━━━━━━━━━\u001b[0m\u001b[37m━━━━━━━\u001b[0m \u001b[1m8s\u001b[0m 269ms/step - accuracy: 0.0377 - loss: 3.5692"
     ]
    },
    {
     "name": "stderr",
     "output_type": "stream",
     "text": [
      "2024-04-30 13:57:54.453356: W tensorflow/core/lib/png/png_io.cc:89] PNG warning: iCCP: known incorrect sRGB profile\n"
     ]
    },
    {
     "name": "stdout",
     "output_type": "stream",
     "text": [
      "\u001b[1m73/98\u001b[0m \u001b[32m━━━━━━━━━━━━━━\u001b[0m\u001b[37m━━━━━━\u001b[0m \u001b[1m6s\u001b[0m 270ms/step - accuracy: 0.0383 - loss: 3.5658"
     ]
    },
    {
     "name": "stderr",
     "output_type": "stream",
     "text": [
      "2024-04-30 13:57:56.583896: W tensorflow/core/lib/png/png_io.cc:89] PNG warning: iCCP: known incorrect sRGB profile\n"
     ]
    },
    {
     "name": "stdout",
     "output_type": "stream",
     "text": [
      "\u001b[1m75/98\u001b[0m \u001b[32m━━━━━━━━━━━━━━━\u001b[0m\u001b[37m━━━━━\u001b[0m \u001b[1m6s\u001b[0m 270ms/step - accuracy: 0.0384 - loss: 3.5649"
     ]
    },
    {
     "name": "stderr",
     "output_type": "stream",
     "text": [
      "2024-04-30 13:57:57.229431: W tensorflow/core/lib/png/png_io.cc:89] PNG warning: iCCP: known incorrect sRGB profile\n"
     ]
    },
    {
     "name": "stdout",
     "output_type": "stream",
     "text": [
      "\u001b[1m77/98\u001b[0m \u001b[32m━━━━━━━━━━━━━━━\u001b[0m\u001b[37m━━━━━\u001b[0m \u001b[1m5s\u001b[0m 270ms/step - accuracy: 0.0386 - loss: 3.5641"
     ]
    },
    {
     "name": "stderr",
     "output_type": "stream",
     "text": [
      "2024-04-30 13:57:57.799438: W tensorflow/core/lib/png/png_io.cc:89] PNG warning: iCCP: known incorrect sRGB profile\n"
     ]
    },
    {
     "name": "stdout",
     "output_type": "stream",
     "text": [
      "\u001b[1m98/98\u001b[0m \u001b[32m━━━━━━━━━━━━━━━━━━━━\u001b[0m\u001b[37m\u001b[0m \u001b[1m0s\u001b[0m 257ms/step - accuracy: 0.0400 - loss: 3.5565"
     ]
    },
    {
     "name": "stderr",
     "output_type": "stream",
     "text": [
      "2024-04-30 13:58:03.318754: W tensorflow/core/lib/png/png_io.cc:89] PNG warning: iCCP: known incorrect sRGB profile\n",
      "2024-04-30 13:58:03.494989: W tensorflow/core/lib/png/png_io.cc:89] PNG warning: iCCP: known incorrect sRGB profile\n"
     ]
    },
    {
     "name": "stdout",
     "output_type": "stream",
     "text": [
      "\u001b[1m98/98\u001b[0m \u001b[32m━━━━━━━━━━━━━━━━━━━━\u001b[0m\u001b[37m\u001b[0m \u001b[1m28s\u001b[0m 283ms/step - accuracy: 0.0401 - loss: 3.5562 - val_accuracy: 0.0712 - val_loss: 3.5215\n",
      "Epoch 5/32\n"
     ]
    },
    {
     "name": "stderr",
     "output_type": "stream",
     "text": [
      "2024-04-30 13:58:05.163093: W tensorflow/core/lib/png/png_io.cc:89] PNG warning: iCCP: known incorrect sRGB profile\n"
     ]
    },
    {
     "name": "stdout",
     "output_type": "stream",
     "text": [
      "\u001b[1m 3/98\u001b[0m \u001b[37m━━━━━━━━━━━━━━━━━━━━\u001b[0m \u001b[1m27s\u001b[0m 287ms/step - accuracy: 0.0764 - loss: 3.5184"
     ]
    },
    {
     "name": "stderr",
     "output_type": "stream",
     "text": [
      "2024-04-30 13:58:06.383454: W tensorflow/core/lib/png/png_io.cc:89] PNG warning: iCCP: known incorrect sRGB profile\n"
     ]
    },
    {
     "name": "stdout",
     "output_type": "stream",
     "text": [
      "\u001b[1m 7/98\u001b[0m \u001b[32m━\u001b[0m\u001b[37m━━━━━━━━━━━━━━━━━━━\u001b[0m \u001b[1m35s\u001b[0m 394ms/step - accuracy: 0.0664 - loss: 3.4966"
     ]
    },
    {
     "name": "stderr",
     "output_type": "stream",
     "text": [
      "2024-04-30 13:58:07.649220: W tensorflow/core/lib/png/png_io.cc:89] PNG warning: iCCP: known incorrect sRGB profile\n",
      "2024-04-30 13:58:07.887217: W tensorflow/core/lib/png/png_io.cc:89] PNG warning: iCCP: known incorrect sRGB profile\n",
      "2024-04-30 13:58:08.064307: W tensorflow/core/lib/png/png_io.cc:89] PNG warning: iCCP: known incorrect sRGB profile\n"
     ]
    },
    {
     "name": "stdout",
     "output_type": "stream",
     "text": [
      "\u001b[1m 9/98\u001b[0m \u001b[32m━\u001b[0m\u001b[37m━━━━━━━━━━━━━━━━━━━\u001b[0m \u001b[1m32s\u001b[0m 366ms/step - accuracy: 0.0631 - loss: 3.4947"
     ]
    },
    {
     "name": "stderr",
     "output_type": "stream",
     "text": [
      "2024-04-30 13:58:08.309306: W tensorflow/core/lib/png/png_io.cc:89] PNG warning: iCCP: known incorrect sRGB profile\n"
     ]
    },
    {
     "name": "stdout",
     "output_type": "stream",
     "text": [
      "\u001b[1m16/98\u001b[0m \u001b[32m━━━\u001b[0m\u001b[37m━━━━━━━━━━━━━━━━━\u001b[0m \u001b[1m27s\u001b[0m 330ms/step - accuracy: 0.0573 - loss: 3.4979"
     ]
    },
    {
     "name": "stderr",
     "output_type": "stream",
     "text": [
      "2024-04-30 13:58:10.420895: W tensorflow/core/lib/png/png_io.cc:89] PNG warning: iCCP: known incorrect sRGB profile\n"
     ]
    },
    {
     "name": "stdout",
     "output_type": "stream",
     "text": [
      "\u001b[1m17/98\u001b[0m \u001b[32m━━━\u001b[0m\u001b[37m━━━━━━━━━━━━━━━━━\u001b[0m \u001b[1m26s\u001b[0m 328ms/step - accuracy: 0.0571 - loss: 3.4983"
     ]
    },
    {
     "name": "stderr",
     "output_type": "stream",
     "text": [
      "2024-04-30 13:58:10.667984: W tensorflow/core/lib/png/png_io.cc:89] PNG warning: iCCP: known incorrect sRGB profile\n"
     ]
    },
    {
     "name": "stdout",
     "output_type": "stream",
     "text": [
      "\u001b[1m19/98\u001b[0m \u001b[32m━━━\u001b[0m\u001b[37m━━━━━━━━━━━━━━━━━\u001b[0m \u001b[1m25s\u001b[0m 320ms/step - accuracy: 0.0566 - loss: 3.4989"
     ]
    },
    {
     "name": "stderr",
     "output_type": "stream",
     "text": [
      "2024-04-30 13:58:11.025562: W tensorflow/core/lib/png/png_io.cc:89] PNG warning: iCCP: known incorrect sRGB profile\n"
     ]
    },
    {
     "name": "stdout",
     "output_type": "stream",
     "text": [
      "\u001b[1m20/98\u001b[0m \u001b[32m━━━━\u001b[0m\u001b[37m━━━━━━━━━━━━━━━━\u001b[0m \u001b[1m24s\u001b[0m 320ms/step - accuracy: 0.0564 - loss: 3.4991"
     ]
    },
    {
     "name": "stderr",
     "output_type": "stream",
     "text": [
      "2024-04-30 13:58:11.443698: W tensorflow/core/lib/png/png_io.cc:89] PNG warning: iCCP: known incorrect sRGB profile\n",
      "2024-04-30 13:58:11.580767: W tensorflow/core/lib/png/png_io.cc:89] PNG warning: iCCP: known incorrect sRGB profile\n"
     ]
    },
    {
     "name": "stdout",
     "output_type": "stream",
     "text": [
      "\u001b[1m27/98\u001b[0m \u001b[32m━━━━━\u001b[0m\u001b[37m━━━━━━━━━━━━━━━\u001b[0m \u001b[1m21s\u001b[0m 302ms/step - accuracy: 0.0551 - loss: 3.4972"
     ]
    },
    {
     "name": "stderr",
     "output_type": "stream",
     "text": [
      "2024-04-30 13:58:13.142848: W tensorflow/core/lib/png/png_io.cc:89] PNG warning: iCCP: known incorrect sRGB profile\n"
     ]
    },
    {
     "name": "stdout",
     "output_type": "stream",
     "text": [
      "\u001b[1m33/98\u001b[0m \u001b[32m━━━━━━\u001b[0m\u001b[37m━━━━━━━━━━━━━━\u001b[0m \u001b[1m18s\u001b[0m 290ms/step - accuracy: 0.0559 - loss: 3.4939"
     ]
    },
    {
     "name": "stderr",
     "output_type": "stream",
     "text": [
      "2024-04-30 13:58:14.540855: W tensorflow/core/lib/png/png_io.cc:89] PNG warning: iCCP: known incorrect sRGB profile\n"
     ]
    },
    {
     "name": "stdout",
     "output_type": "stream",
     "text": [
      "\u001b[1m36/98\u001b[0m \u001b[32m━━━━━━━\u001b[0m\u001b[37m━━━━━━━━━━━━━\u001b[0m \u001b[1m17s\u001b[0m 286ms/step - accuracy: 0.0567 - loss: 3.4922"
     ]
    },
    {
     "name": "stderr",
     "output_type": "stream",
     "text": [
      "2024-04-30 13:58:15.520369: W tensorflow/core/lib/png/png_io.cc:89] PNG warning: iCCP: known incorrect sRGB profile\n"
     ]
    },
    {
     "name": "stdout",
     "output_type": "stream",
     "text": [
      "\u001b[1m40/98\u001b[0m \u001b[32m━━━━━━━━\u001b[0m\u001b[37m━━━━━━━━━━━━\u001b[0m \u001b[1m16s\u001b[0m 284ms/step - accuracy: 0.0579 - loss: 3.4905"
     ]
    },
    {
     "name": "stderr",
     "output_type": "stream",
     "text": [
      "2024-04-30 13:58:16.549407: W tensorflow/core/lib/png/png_io.cc:89] PNG warning: iCCP: known incorrect sRGB profile\n",
      "2024-04-30 13:58:16.559438: W tensorflow/core/lib/png/png_io.cc:89] PNG warning: iCCP: known incorrect sRGB profile\n"
     ]
    },
    {
     "name": "stdout",
     "output_type": "stream",
     "text": [
      "\u001b[1m44/98\u001b[0m \u001b[32m━━━━━━━━\u001b[0m\u001b[37m━━━━━━━━━━━━\u001b[0m \u001b[1m15s\u001b[0m 280ms/step - accuracy: 0.0588 - loss: 3.4890"
     ]
    },
    {
     "name": "stderr",
     "output_type": "stream",
     "text": [
      "2024-04-30 13:58:17.281765: W tensorflow/core/lib/png/png_io.cc:89] PNG warning: iCCP: known incorrect sRGB profile\n"
     ]
    },
    {
     "name": "stdout",
     "output_type": "stream",
     "text": [
      "\u001b[1m56/98\u001b[0m \u001b[32m━━━━━━━━━━━\u001b[0m\u001b[37m━━━━━━━━━\u001b[0m \u001b[1m11s\u001b[0m 276ms/step - accuracy: 0.0611 - loss: 3.4844"
     ]
    },
    {
     "name": "stderr",
     "output_type": "stream",
     "text": [
      "2024-04-30 13:58:20.460682: W tensorflow/core/lib/png/png_io.cc:89] PNG warning: iCCP: known incorrect sRGB profile\n"
     ]
    },
    {
     "name": "stdout",
     "output_type": "stream",
     "text": [
      "\u001b[1m65/98\u001b[0m \u001b[32m━━━━━━━━━━━━━\u001b[0m\u001b[37m━━━━━━━\u001b[0m \u001b[1m8s\u001b[0m 272ms/step - accuracy: 0.0625 - loss: 3.4807"
     ]
    },
    {
     "name": "stderr",
     "output_type": "stream",
     "text": [
      "2024-04-30 13:58:22.694823: W tensorflow/core/lib/png/png_io.cc:89] PNG warning: iCCP: known incorrect sRGB profile\n"
     ]
    },
    {
     "name": "stdout",
     "output_type": "stream",
     "text": [
      "\u001b[1m68/98\u001b[0m \u001b[32m━━━━━━━━━━━━━\u001b[0m\u001b[37m━━━━━━━\u001b[0m \u001b[1m8s\u001b[0m 271ms/step - accuracy: 0.0630 - loss: 3.4793"
     ]
    },
    {
     "name": "stderr",
     "output_type": "stream",
     "text": [
      "2024-04-30 13:58:23.475749: W tensorflow/core/lib/png/png_io.cc:89] PNG warning: iCCP: known incorrect sRGB profile\n"
     ]
    },
    {
     "name": "stdout",
     "output_type": "stream",
     "text": [
      "\u001b[1m72/98\u001b[0m \u001b[32m━━━━━━━━━━━━━━\u001b[0m\u001b[37m━━━━━━\u001b[0m \u001b[1m7s\u001b[0m 273ms/step - accuracy: 0.0636 - loss: 3.4776"
     ]
    },
    {
     "name": "stderr",
     "output_type": "stream",
     "text": [
      "2024-04-30 13:58:24.935561: W tensorflow/core/lib/png/png_io.cc:89] PNG warning: iCCP: known incorrect sRGB profile\n",
      "2024-04-30 13:58:25.067301: W tensorflow/core/lib/png/png_io.cc:89] PNG warning: iCCP: known incorrect sRGB profile\n"
     ]
    },
    {
     "name": "stdout",
     "output_type": "stream",
     "text": [
      "\u001b[1m80/98\u001b[0m \u001b[32m━━━━━━━━━━━━━━━━\u001b[0m\u001b[37m━━━━\u001b[0m \u001b[1m4s\u001b[0m 275ms/step - accuracy: 0.0645 - loss: 3.4745"
     ]
    },
    {
     "name": "stderr",
     "output_type": "stream",
     "text": [
      "2024-04-30 13:58:27.011160: W tensorflow/core/lib/png/png_io.cc:89] PNG warning: iCCP: known incorrect sRGB profile\n"
     ]
    },
    {
     "name": "stdout",
     "output_type": "stream",
     "text": [
      "\u001b[1m98/98\u001b[0m \u001b[32m━━━━━━━━━━━━━━━━━━━━\u001b[0m\u001b[37m\u001b[0m \u001b[1m0s\u001b[0m 258ms/step - accuracy: 0.0659 - loss: 3.4683"
     ]
    },
    {
     "name": "stderr",
     "output_type": "stream",
     "text": [
      "2024-04-30 13:58:31.327428: W tensorflow/core/lib/png/png_io.cc:89] PNG warning: iCCP: known incorrect sRGB profile\n",
      "2024-04-30 13:58:31.494417: W tensorflow/core/lib/png/png_io.cc:89] PNG warning: iCCP: known incorrect sRGB profile\n"
     ]
    },
    {
     "name": "stdout",
     "output_type": "stream",
     "text": [
      "\u001b[1m98/98\u001b[0m \u001b[32m━━━━━━━━━━━━━━━━━━━━\u001b[0m\u001b[37m\u001b[0m \u001b[1m28s\u001b[0m 284ms/step - accuracy: 0.0659 - loss: 3.4680 - val_accuracy: 0.1111 - val_loss: 3.3544\n",
      "Epoch 6/32\n",
      "\u001b[1m 2/98\u001b[0m \u001b[37m━━━━━━━━━━━━━━━━━━━━\u001b[0m \u001b[1m25s\u001b[0m 265ms/step - accuracy: 0.0547 - loss: 3.3302 "
     ]
    },
    {
     "name": "stderr",
     "output_type": "stream",
     "text": [
      "2024-04-30 13:58:33.860674: W tensorflow/core/lib/png/png_io.cc:89] PNG warning: iCCP: known incorrect sRGB profile\n"
     ]
    },
    {
     "name": "stdout",
     "output_type": "stream",
     "text": [
      "\u001b[1m 6/98\u001b[0m \u001b[32m━\u001b[0m\u001b[37m━━━━━━━━━━━━━━━━━━━\u001b[0m \u001b[1m24s\u001b[0m 270ms/step - accuracy: 0.0616 - loss: 3.3572"
     ]
    },
    {
     "name": "stderr",
     "output_type": "stream",
     "text": [
      "2024-04-30 13:58:34.868166: W tensorflow/core/lib/png/png_io.cc:89] PNG warning: iCCP: known incorrect sRGB profile\n"
     ]
    },
    {
     "name": "stdout",
     "output_type": "stream",
     "text": [
      "\u001b[1m 9/98\u001b[0m \u001b[32m━\u001b[0m\u001b[37m━━━━━━━━━━━━━━━━━━━\u001b[0m \u001b[1m24s\u001b[0m 273ms/step - accuracy: 0.0609 - loss: 3.3659"
     ]
    },
    {
     "name": "stderr",
     "output_type": "stream",
     "text": [
      "2024-04-30 13:58:35.764855: W tensorflow/core/lib/png/png_io.cc:89] PNG warning: iCCP: known incorrect sRGB profile\n"
     ]
    },
    {
     "name": "stdout",
     "output_type": "stream",
     "text": [
      "\u001b[1m11/98\u001b[0m \u001b[32m━━\u001b[0m\u001b[37m━━━━━━━━━━━━━━━━━━\u001b[0m \u001b[1m23s\u001b[0m 274ms/step - accuracy: 0.0620 - loss: 3.3713"
     ]
    },
    {
     "name": "stderr",
     "output_type": "stream",
     "text": [
      "2024-04-30 13:58:36.416112: W tensorflow/core/lib/png/png_io.cc:89] PNG warning: iCCP: known incorrect sRGB profile\n"
     ]
    },
    {
     "name": "stdout",
     "output_type": "stream",
     "text": [
      "\u001b[1m13/98\u001b[0m \u001b[32m━━\u001b[0m\u001b[37m━━━━━━━━━━━━━━━━━━\u001b[0m \u001b[1m23s\u001b[0m 278ms/step - accuracy: 0.0630 - loss: 3.3737"
     ]
    },
    {
     "name": "stderr",
     "output_type": "stream",
     "text": [
      "2024-04-30 13:58:36.859079: W tensorflow/core/lib/png/png_io.cc:89] PNG warning: iCCP: known incorrect sRGB profile\n",
      "2024-04-30 13:58:37.050818: W tensorflow/core/lib/png/png_io.cc:89] PNG warning: iCCP: known incorrect sRGB profile\n",
      "2024-04-30 13:58:37.061343: W tensorflow/core/lib/png/png_io.cc:89] PNG warning: iCCP: known incorrect sRGB profile\n"
     ]
    },
    {
     "name": "stdout",
     "output_type": "stream",
     "text": [
      "\u001b[1m22/98\u001b[0m \u001b[32m━━━━\u001b[0m\u001b[37m━━━━━━━━━━━━━━━━\u001b[0m \u001b[1m22s\u001b[0m 293ms/step - accuracy: 0.0672 - loss: 3.3767"
     ]
    },
    {
     "name": "stderr",
     "output_type": "stream",
     "text": [
      "2024-04-30 13:58:39.809089: W tensorflow/core/lib/png/png_io.cc:89] PNG warning: iCCP: known incorrect sRGB profile\n"
     ]
    },
    {
     "name": "stdout",
     "output_type": "stream",
     "text": [
      "\u001b[1m26/98\u001b[0m \u001b[32m━━━━━\u001b[0m\u001b[37m━━━━━━━━━━━━━━━\u001b[0m \u001b[1m20s\u001b[0m 289ms/step - accuracy: 0.0687 - loss: 3.3777"
     ]
    },
    {
     "name": "stderr",
     "output_type": "stream",
     "text": [
      "2024-04-30 13:58:40.815609: W tensorflow/core/lib/png/png_io.cc:89] PNG warning: iCCP: known incorrect sRGB profile\n",
      "2024-04-30 13:58:40.824720: W tensorflow/core/lib/png/png_io.cc:89] PNG warning: iCCP: known incorrect sRGB profile\n"
     ]
    },
    {
     "name": "stdout",
     "output_type": "stream",
     "text": [
      "\u001b[1m27/98\u001b[0m \u001b[32m━━━━━\u001b[0m\u001b[37m━━━━━━━━━━━━━━━\u001b[0m \u001b[1m20s\u001b[0m 289ms/step - accuracy: 0.0689 - loss: 3.3783"
     ]
    },
    {
     "name": "stderr",
     "output_type": "stream",
     "text": [
      "2024-04-30 13:58:41.113977: W tensorflow/core/lib/png/png_io.cc:89] PNG warning: iCCP: known incorrect sRGB profile\n"
     ]
    },
    {
     "name": "stdout",
     "output_type": "stream",
     "text": [
      "\u001b[1m28/98\u001b[0m \u001b[32m━━━━━\u001b[0m\u001b[37m━━━━━━━━━━━━━━━\u001b[0m \u001b[1m20s\u001b[0m 289ms/step - accuracy: 0.0692 - loss: 3.3786"
     ]
    },
    {
     "name": "stderr",
     "output_type": "stream",
     "text": [
      "2024-04-30 13:58:41.447577: W tensorflow/core/lib/png/png_io.cc:89] PNG warning: iCCP: known incorrect sRGB profile\n"
     ]
    },
    {
     "name": "stdout",
     "output_type": "stream",
     "text": [
      "\u001b[1m32/98\u001b[0m \u001b[32m━━━━━━\u001b[0m\u001b[37m━━━━━━━━━━━━━━\u001b[0m \u001b[1m19s\u001b[0m 288ms/step - accuracy: 0.0700 - loss: 3.3794"
     ]
    },
    {
     "name": "stderr",
     "output_type": "stream",
     "text": [
      "2024-04-30 13:58:42.557040: W tensorflow/core/lib/png/png_io.cc:89] PNG warning: iCCP: known incorrect sRGB profile\n"
     ]
    },
    {
     "name": "stdout",
     "output_type": "stream",
     "text": [
      "\u001b[1m33/98\u001b[0m \u001b[32m━━━━━━\u001b[0m\u001b[37m━━━━━━━━━━━━━━\u001b[0m \u001b[1m18s\u001b[0m 288ms/step - accuracy: 0.0702 - loss: 3.3798"
     ]
    },
    {
     "name": "stderr",
     "output_type": "stream",
     "text": [
      "2024-04-30 13:58:42.880640: W tensorflow/core/lib/png/png_io.cc:89] PNG warning: iCCP: known incorrect sRGB profile\n",
      "2024-04-30 13:58:42.923445: W tensorflow/core/lib/png/png_io.cc:89] PNG warning: iCCP: known incorrect sRGB profile\n"
     ]
    },
    {
     "name": "stdout",
     "output_type": "stream",
     "text": [
      "\u001b[1m44/98\u001b[0m \u001b[32m━━━━━━━━\u001b[0m\u001b[37m━━━━━━━━━━━━\u001b[0m \u001b[1m15s\u001b[0m 286ms/step - accuracy: 0.0722 - loss: 3.3850"
     ]
    },
    {
     "name": "stderr",
     "output_type": "stream",
     "text": [
      "2024-04-30 13:58:46.009139: W tensorflow/core/lib/png/png_io.cc:89] PNG warning: iCCP: known incorrect sRGB profile\n"
     ]
    },
    {
     "name": "stdout",
     "output_type": "stream",
     "text": [
      "\u001b[1m48/98\u001b[0m \u001b[32m━━━━━━━━━\u001b[0m\u001b[37m━━━━━━━━━━━\u001b[0m \u001b[1m14s\u001b[0m 284ms/step - accuracy: 0.0728 - loss: 3.3868"
     ]
    },
    {
     "name": "stderr",
     "output_type": "stream",
     "text": [
      "2024-04-30 13:58:47.054107: W tensorflow/core/lib/png/png_io.cc:89] PNG warning: iCCP: known incorrect sRGB profile\n"
     ]
    },
    {
     "name": "stdout",
     "output_type": "stream",
     "text": [
      "\u001b[1m60/98\u001b[0m \u001b[32m━━━━━━━━━━━━\u001b[0m\u001b[37m━━━━━━━━\u001b[0m \u001b[1m10s\u001b[0m 278ms/step - accuracy: 0.0745 - loss: 3.3880"
     ]
    },
    {
     "name": "stderr",
     "output_type": "stream",
     "text": [
      "2024-04-30 13:58:50.139855: W tensorflow/core/lib/png/png_io.cc:89] PNG warning: iCCP: known incorrect sRGB profile\n"
     ]
    },
    {
     "name": "stdout",
     "output_type": "stream",
     "text": [
      "\u001b[1m62/98\u001b[0m \u001b[32m━━━━━━━━━━━━\u001b[0m\u001b[37m━━━━━━━━\u001b[0m \u001b[1m10s\u001b[0m 278ms/step - accuracy: 0.0748 - loss: 3.3880"
     ]
    },
    {
     "name": "stderr",
     "output_type": "stream",
     "text": [
      "2024-04-30 13:58:50.659780: W tensorflow/core/lib/png/png_io.cc:89] PNG warning: iCCP: known incorrect sRGB profile\n"
     ]
    },
    {
     "name": "stdout",
     "output_type": "stream",
     "text": [
      "\u001b[1m67/98\u001b[0m \u001b[32m━━━━━━━━━━━━━\u001b[0m\u001b[37m━━━━━━━\u001b[0m \u001b[1m8s\u001b[0m 274ms/step - accuracy: 0.0754 - loss: 3.3880"
     ]
    },
    {
     "name": "stderr",
     "output_type": "stream",
     "text": [
      "2024-04-30 13:58:51.630338: W tensorflow/core/lib/png/png_io.cc:89] PNG warning: iCCP: known incorrect sRGB profile\n"
     ]
    },
    {
     "name": "stdout",
     "output_type": "stream",
     "text": [
      "\u001b[1m69/98\u001b[0m \u001b[32m━━━━━━━━━━━━━━\u001b[0m\u001b[37m━━━━━━\u001b[0m \u001b[1m7s\u001b[0m 275ms/step - accuracy: 0.0755 - loss: 3.3882"
     ]
    },
    {
     "name": "stderr",
     "output_type": "stream",
     "text": [
      "2024-04-30 13:58:52.212178: W tensorflow/core/lib/png/png_io.cc:89] PNG warning: iCCP: known incorrect sRGB profile\n"
     ]
    },
    {
     "name": "stdout",
     "output_type": "stream",
     "text": [
      "\u001b[1m82/98\u001b[0m \u001b[32m━━━━━━━━━━━━━━━━\u001b[0m\u001b[37m━━━━\u001b[0m \u001b[1m4s\u001b[0m 272ms/step - accuracy: 0.0761 - loss: 3.3893"
     ]
    },
    {
     "name": "stderr",
     "output_type": "stream",
     "text": [
      "2024-04-30 13:58:55.541350: W tensorflow/core/lib/png/png_io.cc:89] PNG warning: iCCP: known incorrect sRGB profile\n"
     ]
    },
    {
     "name": "stdout",
     "output_type": "stream",
     "text": [
      "\u001b[1m83/98\u001b[0m \u001b[32m━━━━━━━━━━━━━━━━\u001b[0m\u001b[37m━━━━\u001b[0m \u001b[1m4s\u001b[0m 271ms/step - accuracy: 0.0761 - loss: 3.3893"
     ]
    },
    {
     "name": "stderr",
     "output_type": "stream",
     "text": [
      "2024-04-30 13:58:56.032137: W tensorflow/core/lib/png/png_io.cc:89] PNG warning: iCCP: known incorrect sRGB profile\n"
     ]
    },
    {
     "name": "stdout",
     "output_type": "stream",
     "text": [
      "\u001b[1m98/98\u001b[0m \u001b[32m━━━━━━━━━━━━━━━━━━━━\u001b[0m\u001b[37m\u001b[0m \u001b[1m0s\u001b[0m 257ms/step - accuracy: 0.0768 - loss: 3.3897"
     ]
    },
    {
     "name": "stderr",
     "output_type": "stream",
     "text": [
      "2024-04-30 13:58:59.474874: W tensorflow/core/lib/png/png_io.cc:89] PNG warning: iCCP: known incorrect sRGB profile\n",
      "2024-04-30 13:59:00.401347: W tensorflow/core/lib/png/png_io.cc:89] PNG warning: iCCP: known incorrect sRGB profile\n"
     ]
    },
    {
     "name": "stdout",
     "output_type": "stream",
     "text": [
      "\u001b[1m98/98\u001b[0m \u001b[32m━━━━━━━━━━━━━━━━━━━━\u001b[0m\u001b[37m\u001b[0m \u001b[1m28s\u001b[0m 283ms/step - accuracy: 0.0769 - loss: 3.3896 - val_accuracy: 0.1425 - val_loss: 3.2315\n",
      "Epoch 7/32\n",
      "\u001b[1m 2/98\u001b[0m \u001b[37m━━━━━━━━━━━━━━━━━━━━\u001b[0m \u001b[1m42s\u001b[0m 444ms/step - accuracy: 0.1016 - loss: 3.3468"
     ]
    },
    {
     "name": "stderr",
     "output_type": "stream",
     "text": [
      "2024-04-30 13:59:02.380472: W tensorflow/core/lib/png/png_io.cc:89] PNG warning: iCCP: known incorrect sRGB profile\n"
     ]
    },
    {
     "name": "stdout",
     "output_type": "stream",
     "text": [
      "\u001b[1m10/98\u001b[0m \u001b[32m━━\u001b[0m\u001b[37m━━━━━━━━━━━━━━━━━━\u001b[0m \u001b[1m30s\u001b[0m 341ms/step - accuracy: 0.1100 - loss: 3.3261"
     ]
    },
    {
     "name": "stderr",
     "output_type": "stream",
     "text": [
      "2024-04-30 13:59:04.562164: W tensorflow/core/lib/png/png_io.cc:89] PNG warning: iCCP: known incorrect sRGB profile\n",
      "2024-04-30 13:59:04.675554: W tensorflow/core/lib/png/png_io.cc:89] PNG warning: iCCP: known incorrect sRGB profile\n"
     ]
    },
    {
     "name": "stdout",
     "output_type": "stream",
     "text": [
      "\u001b[1m12/98\u001b[0m \u001b[32m━━\u001b[0m\u001b[37m━━━━━━━━━━━━━━━━━━\u001b[0m \u001b[1m28s\u001b[0m 331ms/step - accuracy: 0.1084 - loss: 3.3277"
     ]
    },
    {
     "name": "stderr",
     "output_type": "stream",
     "text": [
      "2024-04-30 13:59:05.152619: W tensorflow/core/lib/png/png_io.cc:89] PNG warning: iCCP: known incorrect sRGB profile\n",
      "2024-04-30 13:59:05.298683: W tensorflow/core/lib/png/png_io.cc:89] PNG warning: iCCP: known incorrect sRGB profile\n"
     ]
    },
    {
     "name": "stdout",
     "output_type": "stream",
     "text": [
      "\u001b[1m21/98\u001b[0m \u001b[32m━━━━\u001b[0m\u001b[37m━━━━━━━━━━━━━━━━\u001b[0m \u001b[1m23s\u001b[0m 305ms/step - accuracy: 0.1077 - loss: 3.3242"
     ]
    },
    {
     "name": "stderr",
     "output_type": "stream",
     "text": [
      "2024-04-30 13:59:07.631663: W tensorflow/core/lib/png/png_io.cc:89] PNG warning: iCCP: known incorrect sRGB profile\n"
     ]
    },
    {
     "name": "stdout",
     "output_type": "stream",
     "text": [
      "\u001b[1m24/98\u001b[0m \u001b[32m━━━━\u001b[0m\u001b[37m━━━━━━━━━━━━━━━━\u001b[0m \u001b[1m22s\u001b[0m 300ms/step - accuracy: 0.1069 - loss: 3.3236"
     ]
    },
    {
     "name": "stderr",
     "output_type": "stream",
     "text": [
      "2024-04-30 13:59:08.549149: W tensorflow/core/lib/png/png_io.cc:89] PNG warning: iCCP: known incorrect sRGB profile\n"
     ]
    },
    {
     "name": "stdout",
     "output_type": "stream",
     "text": [
      "\u001b[1m25/98\u001b[0m \u001b[32m━━━━━\u001b[0m\u001b[37m━━━━━━━━━━━━━━━\u001b[0m \u001b[1m21s\u001b[0m 298ms/step - accuracy: 0.1068 - loss: 3.3232"
     ]
    },
    {
     "name": "stderr",
     "output_type": "stream",
     "text": [
      "2024-04-30 13:59:08.769557: W tensorflow/core/lib/png/png_io.cc:89] PNG warning: iCCP: known incorrect sRGB profile\n"
     ]
    },
    {
     "name": "stdout",
     "output_type": "stream",
     "text": [
      "\u001b[1m27/98\u001b[0m \u001b[32m━━━━━\u001b[0m\u001b[37m━━━━━━━━━━━━━━━\u001b[0m \u001b[1m21s\u001b[0m 296ms/step - accuracy: 0.1066 - loss: 3.3225"
     ]
    },
    {
     "name": "stderr",
     "output_type": "stream",
     "text": [
      "2024-04-30 13:59:09.149258: W tensorflow/core/lib/png/png_io.cc:89] PNG warning: iCCP: known incorrect sRGB profile\n"
     ]
    },
    {
     "name": "stdout",
     "output_type": "stream",
     "text": [
      "\u001b[1m31/98\u001b[0m \u001b[32m━━━━━━\u001b[0m\u001b[37m━━━━━━━━━━━━━━\u001b[0m \u001b[1m19s\u001b[0m 286ms/step - accuracy: 0.1060 - loss: 3.3205"
     ]
    },
    {
     "name": "stderr",
     "output_type": "stream",
     "text": [
      "2024-04-30 13:59:10.019750: W tensorflow/core/lib/png/png_io.cc:89] PNG warning: iCCP: known incorrect sRGB profile\n"
     ]
    },
    {
     "name": "stdout",
     "output_type": "stream",
     "text": [
      "\u001b[1m32/98\u001b[0m \u001b[32m━━━━━━\u001b[0m\u001b[37m━━━━━━━━━━━━━━\u001b[0m \u001b[1m18s\u001b[0m 286ms/step - accuracy: 0.1060 - loss: 3.3196"
     ]
    },
    {
     "name": "stderr",
     "output_type": "stream",
     "text": [
      "2024-04-30 13:59:10.490941: W tensorflow/core/lib/png/png_io.cc:89] PNG warning: iCCP: known incorrect sRGB profile\n"
     ]
    },
    {
     "name": "stdout",
     "output_type": "stream",
     "text": [
      "\u001b[1m33/98\u001b[0m \u001b[32m━━━━━━\u001b[0m\u001b[37m━━━━━━━━━━━━━━\u001b[0m \u001b[1m18s\u001b[0m 287ms/step - accuracy: 0.1060 - loss: 3.3187"
     ]
    },
    {
     "name": "stderr",
     "output_type": "stream",
     "text": [
      "2024-04-30 13:59:10.847752: W tensorflow/core/lib/png/png_io.cc:89] PNG warning: iCCP: known incorrect sRGB profile\n"
     ]
    },
    {
     "name": "stdout",
     "output_type": "stream",
     "text": [
      "\u001b[1m35/98\u001b[0m \u001b[32m━━━━━━━\u001b[0m\u001b[37m━━━━━━━━━━━━━\u001b[0m \u001b[1m18s\u001b[0m 286ms/step - accuracy: 0.1063 - loss: 3.3165"
     ]
    },
    {
     "name": "stderr",
     "output_type": "stream",
     "text": [
      "2024-04-30 13:59:11.410364: W tensorflow/core/lib/png/png_io.cc:89] PNG warning: iCCP: known incorrect sRGB profile\n"
     ]
    },
    {
     "name": "stdout",
     "output_type": "stream",
     "text": [
      "\u001b[1m39/98\u001b[0m \u001b[32m━━━━━━━\u001b[0m\u001b[37m━━━━━━━━━━━━━\u001b[0m \u001b[1m16s\u001b[0m 285ms/step - accuracy: 0.1065 - loss: 3.3126"
     ]
    },
    {
     "name": "stderr",
     "output_type": "stream",
     "text": [
      "2024-04-30 13:59:12.255013: W tensorflow/core/lib/png/png_io.cc:89] PNG warning: iCCP: known incorrect sRGB profile\n",
      "2024-04-30 13:59:12.457090: W tensorflow/core/lib/png/png_io.cc:89] PNG warning: iCCP: known incorrect sRGB profile\n"
     ]
    },
    {
     "name": "stdout",
     "output_type": "stream",
     "text": [
      "\u001b[1m41/98\u001b[0m \u001b[32m━━━━━━━━\u001b[0m\u001b[37m━━━━━━━━━━━━\u001b[0m \u001b[1m16s\u001b[0m 284ms/step - accuracy: 0.1065 - loss: 3.3109"
     ]
    },
    {
     "name": "stderr",
     "output_type": "stream",
     "text": [
      "2024-04-30 13:59:13.044321: W tensorflow/core/lib/png/png_io.cc:89] PNG warning: iCCP: known incorrect sRGB profile\n"
     ]
    },
    {
     "name": "stdout",
     "output_type": "stream",
     "text": [
      "\u001b[1m43/98\u001b[0m \u001b[32m━━━━━━━━\u001b[0m\u001b[37m━━━━━━━━━━━━\u001b[0m \u001b[1m15s\u001b[0m 283ms/step - accuracy: 0.1065 - loss: 3.3091"
     ]
    },
    {
     "name": "stderr",
     "output_type": "stream",
     "text": [
      "2024-04-30 13:59:13.507247: W tensorflow/core/lib/png/png_io.cc:89] PNG warning: iCCP: known incorrect sRGB profile\n"
     ]
    },
    {
     "name": "stdout",
     "output_type": "stream",
     "text": [
      "\u001b[1m50/98\u001b[0m \u001b[32m━━━━━━━━━━\u001b[0m\u001b[37m━━━━━━━━━━\u001b[0m \u001b[1m13s\u001b[0m 279ms/step - accuracy: 0.1069 - loss: 3.3020"
     ]
    },
    {
     "name": "stderr",
     "output_type": "stream",
     "text": [
      "2024-04-30 13:59:15.288972: W tensorflow/core/lib/png/png_io.cc:89] PNG warning: iCCP: known incorrect sRGB profile\n"
     ]
    },
    {
     "name": "stdout",
     "output_type": "stream",
     "text": [
      "\u001b[1m67/98\u001b[0m \u001b[32m━━━━━━━━━━━━━\u001b[0m\u001b[37m━━━━━━━\u001b[0m \u001b[1m8s\u001b[0m 274ms/step - accuracy: 0.1066 - loss: 3.2898"
     ]
    },
    {
     "name": "stderr",
     "output_type": "stream",
     "text": [
      "2024-04-30 13:59:19.692313: W tensorflow/core/lib/png/png_io.cc:89] PNG warning: iCCP: known incorrect sRGB profile\n"
     ]
    },
    {
     "name": "stdout",
     "output_type": "stream",
     "text": [
      "\u001b[1m71/98\u001b[0m \u001b[32m━━━━━━━━━━━━━━\u001b[0m\u001b[37m━━━━━━\u001b[0m \u001b[1m7s\u001b[0m 273ms/step - accuracy: 0.1066 - loss: 3.2875"
     ]
    },
    {
     "name": "stderr",
     "output_type": "stream",
     "text": [
      "2024-04-30 13:59:20.738295: W tensorflow/core/lib/png/png_io.cc:89] PNG warning: iCCP: known incorrect sRGB profile\n"
     ]
    },
    {
     "name": "stdout",
     "output_type": "stream",
     "text": [
      "\u001b[1m75/98\u001b[0m \u001b[32m━━━━━━━━━━━━━━━\u001b[0m\u001b[37m━━━━━\u001b[0m \u001b[1m6s\u001b[0m 272ms/step - accuracy: 0.1066 - loss: 3.2857"
     ]
    },
    {
     "name": "stderr",
     "output_type": "stream",
     "text": [
      "2024-04-30 13:59:21.787261: W tensorflow/core/lib/png/png_io.cc:89] PNG warning: iCCP: known incorrect sRGB profile\n"
     ]
    },
    {
     "name": "stdout",
     "output_type": "stream",
     "text": [
      "\u001b[1m78/98\u001b[0m \u001b[32m━━━━━━━━━━━━━━━\u001b[0m\u001b[37m━━━━━\u001b[0m \u001b[1m5s\u001b[0m 273ms/step - accuracy: 0.1067 - loss: 3.2845"
     ]
    },
    {
     "name": "stderr",
     "output_type": "stream",
     "text": [
      "2024-04-30 13:59:22.626388: W tensorflow/core/lib/png/png_io.cc:89] PNG warning: iCCP: known incorrect sRGB profile\n"
     ]
    },
    {
     "name": "stdout",
     "output_type": "stream",
     "text": [
      "\u001b[1m88/98\u001b[0m \u001b[32m━━━━━━━━━━━━━━━━━\u001b[0m\u001b[37m━━━\u001b[0m \u001b[1m2s\u001b[0m 273ms/step - accuracy: 0.1070 - loss: 3.2805"
     ]
    },
    {
     "name": "stderr",
     "output_type": "stream",
     "text": [
      "2024-04-30 13:59:25.221500: W tensorflow/core/lib/png/png_io.cc:89] PNG warning: iCCP: known incorrect sRGB profile\n"
     ]
    },
    {
     "name": "stdout",
     "output_type": "stream",
     "text": [
      "\u001b[1m98/98\u001b[0m \u001b[32m━━━━━━━━━━━━━━━━━━━━\u001b[0m\u001b[37m\u001b[0m \u001b[1m0s\u001b[0m 261ms/step - accuracy: 0.1073 - loss: 3.2768"
     ]
    },
    {
     "name": "stderr",
     "output_type": "stream",
     "text": [
      "2024-04-30 13:59:27.074550: W tensorflow/core/lib/png/png_io.cc:89] PNG warning: iCCP: known incorrect sRGB profile\n",
      "2024-04-30 13:59:28.024099: W tensorflow/core/lib/png/png_io.cc:89] PNG warning: iCCP: known incorrect sRGB profile\n"
     ]
    },
    {
     "name": "stdout",
     "output_type": "stream",
     "text": [
      "\u001b[1m98/98\u001b[0m \u001b[32m━━━━━━━━━━━━━━━━━━━━\u001b[0m\u001b[37m\u001b[0m \u001b[1m28s\u001b[0m 286ms/step - accuracy: 0.1074 - loss: 3.2764 - val_accuracy: 0.2422 - val_loss: 2.8816\n",
      "Epoch 8/32\n",
      "\u001b[1m 2/98\u001b[0m \u001b[37m━━━━━━━━━━━━━━━━━━━━\u001b[0m \u001b[1m35s\u001b[0m 368ms/step - accuracy: 0.0703 - loss: 3.2490"
     ]
    },
    {
     "name": "stderr",
     "output_type": "stream",
     "text": [
      "2024-04-30 13:59:30.281017: W tensorflow/core/lib/png/png_io.cc:89] PNG warning: iCCP: known incorrect sRGB profile\n"
     ]
    },
    {
     "name": "stdout",
     "output_type": "stream",
     "text": [
      "\u001b[1m11/98\u001b[0m \u001b[32m━━\u001b[0m\u001b[37m━━━━━━━━━━━━━━━━━━\u001b[0m \u001b[1m25s\u001b[0m 294ms/step - accuracy: 0.0991 - loss: 3.1796"
     ]
    },
    {
     "name": "stderr",
     "output_type": "stream",
     "text": [
      "2024-04-30 13:59:32.674951: W tensorflow/core/lib/png/png_io.cc:89] PNG warning: iCCP: known incorrect sRGB profile\n",
      "2024-04-30 13:59:32.681251: W tensorflow/core/lib/png/png_io.cc:89] PNG warning: iCCP: known incorrect sRGB profile\n",
      "2024-04-30 13:59:32.882705: W tensorflow/core/lib/png/png_io.cc:89] PNG warning: iCCP: known incorrect sRGB profile\n",
      "2024-04-30 13:59:32.910227: W tensorflow/core/lib/png/png_io.cc:89] PNG warning: iCCP: known incorrect sRGB profile\n"
     ]
    },
    {
     "name": "stdout",
     "output_type": "stream",
     "text": [
      "\u001b[1m16/98\u001b[0m \u001b[32m━━━\u001b[0m\u001b[37m━━━━━━━━━━━━━━━━━\u001b[0m \u001b[1m24s\u001b[0m 297ms/step - accuracy: 0.0996 - loss: 3.1871"
     ]
    },
    {
     "name": "stderr",
     "output_type": "stream",
     "text": [
      "2024-04-30 13:59:34.616294: W tensorflow/core/lib/png/png_io.cc:89] PNG warning: iCCP: known incorrect sRGB profile\n"
     ]
    },
    {
     "name": "stdout",
     "output_type": "stream",
     "text": [
      "\u001b[1m18/98\u001b[0m \u001b[32m━━━\u001b[0m\u001b[37m━━━━━━━━━━━━━━━━━\u001b[0m \u001b[1m24s\u001b[0m 309ms/step - accuracy: 0.0993 - loss: 3.1913"
     ]
    },
    {
     "name": "stderr",
     "output_type": "stream",
     "text": [
      "2024-04-30 13:59:34.960784: W tensorflow/core/lib/png/png_io.cc:89] PNG warning: iCCP: known incorrect sRGB profile\n"
     ]
    },
    {
     "name": "stdout",
     "output_type": "stream",
     "text": [
      "\u001b[1m21/98\u001b[0m \u001b[32m━━━━\u001b[0m\u001b[37m━━━━━━━━━━━━━━━━\u001b[0m \u001b[1m23s\u001b[0m 304ms/step - accuracy: 0.0989 - loss: 3.1965"
     ]
    },
    {
     "name": "stderr",
     "output_type": "stream",
     "text": [
      "2024-04-30 13:59:35.816371: W tensorflow/core/lib/png/png_io.cc:89] PNG warning: iCCP: known incorrect sRGB profile\n"
     ]
    },
    {
     "name": "stdout",
     "output_type": "stream",
     "text": [
      "\u001b[1m23/98\u001b[0m \u001b[32m━━━━\u001b[0m\u001b[37m━━━━━━━━━━━━━━━━\u001b[0m \u001b[1m22s\u001b[0m 302ms/step - accuracy: 0.0991 - loss: 3.1990"
     ]
    },
    {
     "name": "stderr",
     "output_type": "stream",
     "text": [
      "2024-04-30 13:59:36.476784: W tensorflow/core/lib/png/png_io.cc:89] PNG warning: iCCP: known incorrect sRGB profile\n"
     ]
    },
    {
     "name": "stdout",
     "output_type": "stream",
     "text": [
      "\u001b[1m28/98\u001b[0m \u001b[32m━━━━━\u001b[0m\u001b[37m━━━━━━━━━━━━━━━\u001b[0m \u001b[1m20s\u001b[0m 297ms/step - accuracy: 0.0999 - loss: 3.2027"
     ]
    },
    {
     "name": "stderr",
     "output_type": "stream",
     "text": [
      "2024-04-30 13:59:37.855857: W tensorflow/core/lib/png/png_io.cc:89] PNG warning: iCCP: known incorrect sRGB profile\n"
     ]
    },
    {
     "name": "stdout",
     "output_type": "stream",
     "text": [
      "\u001b[1m32/98\u001b[0m \u001b[32m━━━━━━\u001b[0m\u001b[37m━━━━━━━━━━━━━━\u001b[0m \u001b[1m19s\u001b[0m 295ms/step - accuracy: 0.1011 - loss: 3.2032"
     ]
    },
    {
     "name": "stderr",
     "output_type": "stream",
     "text": [
      "2024-04-30 13:59:38.984750: W tensorflow/core/lib/png/png_io.cc:89] PNG warning: iCCP: known incorrect sRGB profile\n",
      "2024-04-30 13:59:38.985631: W tensorflow/core/lib/png/png_io.cc:89] PNG warning: iCCP: known incorrect sRGB profile\n"
     ]
    },
    {
     "name": "stdout",
     "output_type": "stream",
     "text": [
      "\u001b[1m35/98\u001b[0m \u001b[32m━━━━━━━\u001b[0m\u001b[37m━━━━━━━━━━━━━\u001b[0m \u001b[1m18s\u001b[0m 293ms/step - accuracy: 0.1023 - loss: 3.2025"
     ]
    },
    {
     "name": "stderr",
     "output_type": "stream",
     "text": [
      "2024-04-30 13:59:39.770155: W tensorflow/core/lib/png/png_io.cc:89] PNG warning: iCCP: known incorrect sRGB profile\n"
     ]
    },
    {
     "name": "stdout",
     "output_type": "stream",
     "text": [
      "\u001b[1m36/98\u001b[0m \u001b[32m━━━━━━━\u001b[0m\u001b[37m━━━━━━━━━━━━━\u001b[0m \u001b[1m18s\u001b[0m 293ms/step - accuracy: 0.1026 - loss: 3.2021"
     ]
    },
    {
     "name": "stderr",
     "output_type": "stream",
     "text": [
      "2024-04-30 13:59:40.097542: W tensorflow/core/lib/png/png_io.cc:89] PNG warning: iCCP: known incorrect sRGB profile\n"
     ]
    },
    {
     "name": "stdout",
     "output_type": "stream",
     "text": [
      "\u001b[1m38/98\u001b[0m \u001b[32m━━━━━━━\u001b[0m\u001b[37m━━━━━━━━━━━━━\u001b[0m \u001b[1m17s\u001b[0m 291ms/step - accuracy: 0.1034 - loss: 3.2008"
     ]
    },
    {
     "name": "stderr",
     "output_type": "stream",
     "text": [
      "2024-04-30 13:59:40.516253: W tensorflow/core/lib/png/png_io.cc:89] PNG warning: iCCP: known incorrect sRGB profile\n"
     ]
    },
    {
     "name": "stdout",
     "output_type": "stream",
     "text": [
      "\u001b[1m47/98\u001b[0m \u001b[32m━━━━━━━━━\u001b[0m\u001b[37m━━━━━━━━━━━\u001b[0m \u001b[1m14s\u001b[0m 289ms/step - accuracy: 0.1071 - loss: 3.1932"
     ]
    },
    {
     "name": "stderr",
     "output_type": "stream",
     "text": [
      "2024-04-30 13:59:43.178498: W tensorflow/core/lib/png/png_io.cc:89] PNG warning: iCCP: known incorrect sRGB profile\n"
     ]
    },
    {
     "name": "stdout",
     "output_type": "stream",
     "text": [
      "\u001b[1m64/98\u001b[0m \u001b[32m━━━━━━━━━━━━━\u001b[0m\u001b[37m━━━━━━━\u001b[0m \u001b[1m9s\u001b[0m 282ms/step - accuracy: 0.1101 - loss: 3.1836"
     ]
    },
    {
     "name": "stderr",
     "output_type": "stream",
     "text": [
      "2024-04-30 13:59:47.477468: W tensorflow/core/lib/png/png_io.cc:89] PNG warning: iCCP: known incorrect sRGB profile\n"
     ]
    },
    {
     "name": "stdout",
     "output_type": "stream",
     "text": [
      "\u001b[1m66/98\u001b[0m \u001b[32m━━━━━━━━━━━━━\u001b[0m\u001b[37m━━━━━━━\u001b[0m \u001b[1m8s\u001b[0m 280ms/step - accuracy: 0.1104 - loss: 3.1828"
     ]
    },
    {
     "name": "stderr",
     "output_type": "stream",
     "text": [
      "2024-04-30 13:59:48.150643: W tensorflow/core/lib/png/png_io.cc:89] PNG warning: iCCP: known incorrect sRGB profile\n"
     ]
    },
    {
     "name": "stdout",
     "output_type": "stream",
     "text": [
      "\u001b[1m70/98\u001b[0m \u001b[32m━━━━━━━━━━━━━━\u001b[0m\u001b[37m━━━━━━\u001b[0m \u001b[1m7s\u001b[0m 279ms/step - accuracy: 0.1108 - loss: 3.1808"
     ]
    },
    {
     "name": "stderr",
     "output_type": "stream",
     "text": [
      "2024-04-30 13:59:49.037812: W tensorflow/core/lib/png/png_io.cc:89] PNG warning: iCCP: known incorrect sRGB profile\n"
     ]
    },
    {
     "name": "stdout",
     "output_type": "stream",
     "text": [
      "\u001b[1m73/98\u001b[0m \u001b[32m━━━━━━━━━━━━━━\u001b[0m\u001b[37m━━━━━━\u001b[0m \u001b[1m6s\u001b[0m 278ms/step - accuracy: 0.1112 - loss: 3.1792"
     ]
    },
    {
     "name": "stderr",
     "output_type": "stream",
     "text": [
      "2024-04-30 13:59:49.950181: W tensorflow/core/lib/png/png_io.cc:89] PNG warning: iCCP: known incorrect sRGB profile\n"
     ]
    },
    {
     "name": "stdout",
     "output_type": "stream",
     "text": [
      "\u001b[1m76/98\u001b[0m \u001b[32m━━━━━━━━━━━━━━━\u001b[0m\u001b[37m━━━━━\u001b[0m \u001b[1m6s\u001b[0m 278ms/step - accuracy: 0.1116 - loss: 3.1777"
     ]
    },
    {
     "name": "stderr",
     "output_type": "stream",
     "text": [
      "2024-04-30 13:59:50.833544: W tensorflow/core/lib/png/png_io.cc:89] PNG warning: iCCP: known incorrect sRGB profile\n",
      "2024-04-30 13:59:51.023363: W tensorflow/core/lib/png/png_io.cc:89] PNG warning: iCCP: known incorrect sRGB profile\n"
     ]
    },
    {
     "name": "stdout",
     "output_type": "stream",
     "text": [
      "\u001b[1m83/98\u001b[0m \u001b[32m━━━━━━━━━━━━━━━━\u001b[0m\u001b[37m━━━━\u001b[0m \u001b[1m4s\u001b[0m 279ms/step - accuracy: 0.1125 - loss: 3.1740"
     ]
    },
    {
     "name": "stderr",
     "output_type": "stream",
     "text": [
      "2024-04-30 13:59:52.492518: W tensorflow/core/lib/png/png_io.cc:89] PNG warning: iCCP: known incorrect sRGB profile\n"
     ]
    },
    {
     "name": "stdout",
     "output_type": "stream",
     "text": [
      "\u001b[1m98/98\u001b[0m \u001b[32m━━━━━━━━━━━━━━━━━━━━\u001b[0m\u001b[37m\u001b[0m \u001b[1m0s\u001b[0m 262ms/step - accuracy: 0.1146 - loss: 3.1662"
     ]
    },
    {
     "name": "stderr",
     "output_type": "stream",
     "text": [
      "2024-04-30 13:59:55.342589: W tensorflow/core/lib/png/png_io.cc:89] PNG warning: iCCP: known incorrect sRGB profile\n",
      "2024-04-30 13:59:55.511560: W tensorflow/core/lib/png/png_io.cc:89] PNG warning: iCCP: known incorrect sRGB profile\n"
     ]
    },
    {
     "name": "stdout",
     "output_type": "stream",
     "text": [
      "\u001b[1m98/98\u001b[0m \u001b[32m━━━━━━━━━━━━━━━━━━━━\u001b[0m\u001b[37m\u001b[0m \u001b[1m28s\u001b[0m 288ms/step - accuracy: 0.1147 - loss: 3.1658 - val_accuracy: 0.3134 - val_loss: 2.6059\n",
      "Epoch 9/32\n"
     ]
    },
    {
     "name": "stderr",
     "output_type": "stream",
     "text": [
      "2024-04-30 13:59:57.952387: W tensorflow/core/lib/png/png_io.cc:89] PNG warning: iCCP: known incorrect sRGB profile\n"
     ]
    },
    {
     "name": "stdout",
     "output_type": "stream",
     "text": [
      "\u001b[1m12/98\u001b[0m \u001b[32m━━\u001b[0m\u001b[37m━━━━━━━━━━━━━━━━━━\u001b[0m \u001b[1m26s\u001b[0m 303ms/step - accuracy: 0.1742 - loss: 3.0067"
     ]
    },
    {
     "name": "stderr",
     "output_type": "stream",
     "text": [
      "2024-04-30 14:00:01.638287: W tensorflow/core/lib/png/png_io.cc:89] PNG warning: iCCP: known incorrect sRGB profile\n",
      "2024-04-30 14:00:01.653550: W tensorflow/core/lib/png/png_io.cc:89] PNG warning: iCCP: known incorrect sRGB profile\n"
     ]
    },
    {
     "name": "stdout",
     "output_type": "stream",
     "text": [
      "\u001b[1m14/98\u001b[0m \u001b[32m━━\u001b[0m\u001b[37m━━━━━━━━━━━━━━━━━━\u001b[0m \u001b[1m25s\u001b[0m 300ms/step - accuracy: 0.1735 - loss: 3.0083"
     ]
    },
    {
     "name": "stderr",
     "output_type": "stream",
     "text": [
      "2024-04-30 14:00:02.172842: W tensorflow/core/lib/png/png_io.cc:89] PNG warning: iCCP: known incorrect sRGB profile\n"
     ]
    },
    {
     "name": "stdout",
     "output_type": "stream",
     "text": [
      "\u001b[1m15/98\u001b[0m \u001b[32m━━━\u001b[0m\u001b[37m━━━━━━━━━━━━━━━━━\u001b[0m \u001b[1m24s\u001b[0m 299ms/step - accuracy: 0.1735 - loss: 3.0089"
     ]
    },
    {
     "name": "stderr",
     "output_type": "stream",
     "text": [
      "2024-04-30 14:00:02.634712: W tensorflow/core/lib/png/png_io.cc:89] PNG warning: iCCP: known incorrect sRGB profile\n"
     ]
    },
    {
     "name": "stdout",
     "output_type": "stream",
     "text": [
      "\u001b[1m17/98\u001b[0m \u001b[32m━━━\u001b[0m\u001b[37m━━━━━━━━━━━━━━━━━\u001b[0m \u001b[1m23s\u001b[0m 296ms/step - accuracy: 0.1730 - loss: 3.0120"
     ]
    },
    {
     "name": "stderr",
     "output_type": "stream",
     "text": [
      "2024-04-30 14:00:03.263193: W tensorflow/core/lib/png/png_io.cc:89] PNG warning: iCCP: known incorrect sRGB profile\n"
     ]
    },
    {
     "name": "stdout",
     "output_type": "stream",
     "text": [
      "\u001b[1m20/98\u001b[0m \u001b[32m━━━━\u001b[0m\u001b[37m━━━━━━━━━━━━━━━━\u001b[0m \u001b[1m22s\u001b[0m 294ms/step - accuracy: 0.1717 - loss: 3.0155"
     ]
    },
    {
     "name": "stderr",
     "output_type": "stream",
     "text": [
      "2024-04-30 14:00:04.099818: W tensorflow/core/lib/png/png_io.cc:89] PNG warning: iCCP: known incorrect sRGB profile\n"
     ]
    },
    {
     "name": "stdout",
     "output_type": "stream",
     "text": [
      "\u001b[1m24/98\u001b[0m \u001b[32m━━━━\u001b[0m\u001b[37m━━━━━━━━━━━━━━━━\u001b[0m \u001b[1m21s\u001b[0m 292ms/step - accuracy: 0.1715 - loss: 3.0185"
     ]
    },
    {
     "name": "stderr",
     "output_type": "stream",
     "text": [
      "2024-04-30 14:00:05.066047: W tensorflow/core/lib/png/png_io.cc:89] PNG warning: iCCP: known incorrect sRGB profile\n"
     ]
    },
    {
     "name": "stdout",
     "output_type": "stream",
     "text": [
      "\u001b[1m25/98\u001b[0m \u001b[32m━━━━━\u001b[0m\u001b[37m━━━━━━━━━━━━━━━\u001b[0m \u001b[1m21s\u001b[0m 292ms/step - accuracy: 0.1713 - loss: 3.0187"
     ]
    },
    {
     "name": "stderr",
     "output_type": "stream",
     "text": [
      "2024-04-30 14:00:05.387254: W tensorflow/core/lib/png/png_io.cc:89] PNG warning: iCCP: known incorrect sRGB profile\n"
     ]
    },
    {
     "name": "stdout",
     "output_type": "stream",
     "text": [
      "\u001b[1m32/98\u001b[0m \u001b[32m━━━━━━\u001b[0m\u001b[37m━━━━━━━━━━━━━━\u001b[0m \u001b[1m18s\u001b[0m 283ms/step - accuracy: 0.1714 - loss: 3.0158"
     ]
    },
    {
     "name": "stderr",
     "output_type": "stream",
     "text": [
      "2024-04-30 14:00:07.221256: W tensorflow/core/lib/png/png_io.cc:89] PNG warning: iCCP: known incorrect sRGB profile\n"
     ]
    },
    {
     "name": "stdout",
     "output_type": "stream",
     "text": [
      "\u001b[1m36/98\u001b[0m \u001b[32m━━━━━━━\u001b[0m\u001b[37m━━━━━━━━━━━━━\u001b[0m \u001b[1m17s\u001b[0m 281ms/step - accuracy: 0.1721 - loss: 3.0129"
     ]
    },
    {
     "name": "stderr",
     "output_type": "stream",
     "text": [
      "2024-04-30 14:00:08.126390: W tensorflow/core/lib/png/png_io.cc:89] PNG warning: iCCP: known incorrect sRGB profile\n"
     ]
    },
    {
     "name": "stdout",
     "output_type": "stream",
     "text": [
      "\u001b[1m37/98\u001b[0m \u001b[32m━━━━━━━\u001b[0m\u001b[37m━━━━━━━━━━━━━\u001b[0m \u001b[1m17s\u001b[0m 281ms/step - accuracy: 0.1722 - loss: 3.0124"
     ]
    },
    {
     "name": "stderr",
     "output_type": "stream",
     "text": [
      "2024-04-30 14:00:08.373140: W tensorflow/core/lib/png/png_io.cc:89] PNG warning: iCCP: known incorrect sRGB profile\n"
     ]
    },
    {
     "name": "stdout",
     "output_type": "stream",
     "text": [
      "\u001b[1m39/98\u001b[0m \u001b[32m━━━━━━━\u001b[0m\u001b[37m━━━━━━━━━━━━━\u001b[0m \u001b[1m16s\u001b[0m 281ms/step - accuracy: 0.1724 - loss: 3.0114"
     ]
    },
    {
     "name": "stderr",
     "output_type": "stream",
     "text": [
      "2024-04-30 14:00:08.958957: W tensorflow/core/lib/png/png_io.cc:89] PNG warning: iCCP: known incorrect sRGB profile\n",
      "2024-04-30 14:00:09.188119: W tensorflow/core/lib/png/png_io.cc:89] PNG warning: iCCP: known incorrect sRGB profile\n"
     ]
    },
    {
     "name": "stdout",
     "output_type": "stream",
     "text": [
      "\u001b[1m40/98\u001b[0m \u001b[32m━━━━━━━━\u001b[0m\u001b[37m━━━━━━━━━━━━\u001b[0m \u001b[1m16s\u001b[0m 281ms/step - accuracy: 0.1725 - loss: 3.0108"
     ]
    },
    {
     "name": "stderr",
     "output_type": "stream",
     "text": [
      "2024-04-30 14:00:09.398380: W tensorflow/core/lib/png/png_io.cc:89] PNG warning: iCCP: known incorrect sRGB profile\n"
     ]
    },
    {
     "name": "stdout",
     "output_type": "stream",
     "text": [
      "\u001b[1m41/98\u001b[0m \u001b[32m━━━━━━━━\u001b[0m\u001b[37m━━━━━━━━━━━━\u001b[0m \u001b[1m16s\u001b[0m 281ms/step - accuracy: 0.1725 - loss: 3.0104"
     ]
    },
    {
     "name": "stderr",
     "output_type": "stream",
     "text": [
      "2024-04-30 14:00:09.766318: W tensorflow/core/lib/png/png_io.cc:89] PNG warning: iCCP: known incorrect sRGB profile\n"
     ]
    },
    {
     "name": "stdout",
     "output_type": "stream",
     "text": [
      "\u001b[1m49/98\u001b[0m \u001b[32m━━━━━━━━━━\u001b[0m\u001b[37m━━━━━━━━━━\u001b[0m \u001b[1m13s\u001b[0m 280ms/step - accuracy: 0.1731 - loss: 3.0049"
     ]
    },
    {
     "name": "stderr",
     "output_type": "stream",
     "text": [
      "2024-04-30 14:00:11.949648: W tensorflow/core/lib/png/png_io.cc:89] PNG warning: iCCP: known incorrect sRGB profile\n"
     ]
    },
    {
     "name": "stdout",
     "output_type": "stream",
     "text": [
      "\u001b[1m59/98\u001b[0m \u001b[32m━━━━━━━━━━━━\u001b[0m\u001b[37m━━━━━━━━\u001b[0m \u001b[1m10s\u001b[0m 277ms/step - accuracy: 0.1728 - loss: 3.0011"
     ]
    },
    {
     "name": "stderr",
     "output_type": "stream",
     "text": [
      "2024-04-30 14:00:14.344259: W tensorflow/core/lib/png/png_io.cc:89] PNG warning: iCCP: known incorrect sRGB profile\n"
     ]
    },
    {
     "name": "stdout",
     "output_type": "stream",
     "text": [
      "\u001b[1m68/98\u001b[0m \u001b[32m━━━━━━━━━━━━━\u001b[0m\u001b[37m━━━━━━━\u001b[0m \u001b[1m8s\u001b[0m 274ms/step - accuracy: 0.1731 - loss: 2.9970"
     ]
    },
    {
     "name": "stderr",
     "output_type": "stream",
     "text": [
      "2024-04-30 14:00:16.786452: W tensorflow/core/lib/png/png_io.cc:89] PNG warning: iCCP: known incorrect sRGB profile\n"
     ]
    },
    {
     "name": "stdout",
     "output_type": "stream",
     "text": [
      "\u001b[1m70/98\u001b[0m \u001b[32m━━━━━━━━━━━━━━\u001b[0m\u001b[37m━━━━━━\u001b[0m \u001b[1m7s\u001b[0m 274ms/step - accuracy: 0.1732 - loss: 2.9960"
     ]
    },
    {
     "name": "stderr",
     "output_type": "stream",
     "text": [
      "2024-04-30 14:00:17.356742: W tensorflow/core/lib/png/png_io.cc:89] PNG warning: iCCP: known incorrect sRGB profile\n"
     ]
    },
    {
     "name": "stdout",
     "output_type": "stream",
     "text": [
      "\u001b[1m73/98\u001b[0m \u001b[32m━━━━━━━━━━━━━━\u001b[0m\u001b[37m━━━━━━\u001b[0m \u001b[1m6s\u001b[0m 274ms/step - accuracy: 0.1734 - loss: 2.9942"
     ]
    },
    {
     "name": "stderr",
     "output_type": "stream",
     "text": [
      "2024-04-30 14:00:18.021927: W tensorflow/core/lib/png/png_io.cc:89] PNG warning: iCCP: known incorrect sRGB profile\n"
     ]
    },
    {
     "name": "stdout",
     "output_type": "stream",
     "text": [
      "\u001b[1m76/98\u001b[0m \u001b[32m━━━━━━━━━━━━━━━\u001b[0m\u001b[37m━━━━━\u001b[0m \u001b[1m6s\u001b[0m 275ms/step - accuracy: 0.1736 - loss: 2.9925"
     ]
    },
    {
     "name": "stderr",
     "output_type": "stream",
     "text": [
      "2024-04-30 14:00:19.152243: W tensorflow/core/lib/png/png_io.cc:89] PNG warning: iCCP: known incorrect sRGB profile\n"
     ]
    },
    {
     "name": "stdout",
     "output_type": "stream",
     "text": [
      "\u001b[1m88/98\u001b[0m \u001b[32m━━━━━━━━━━━━━━━━━\u001b[0m\u001b[37m━━━\u001b[0m \u001b[1m2s\u001b[0m 276ms/step - accuracy: 0.1740 - loss: 2.9861"
     ]
    },
    {
     "name": "stderr",
     "output_type": "stream",
     "text": [
      "2024-04-30 14:00:22.451745: W tensorflow/core/lib/png/png_io.cc:89] PNG warning: iCCP: known incorrect sRGB profile\n"
     ]
    },
    {
     "name": "stdout",
     "output_type": "stream",
     "text": [
      "\u001b[1m98/98\u001b[0m \u001b[32m━━━━━━━━━━━━━━━━━━━━\u001b[0m\u001b[37m\u001b[0m \u001b[1m0s\u001b[0m 262ms/step - accuracy: 0.1741 - loss: 2.9818"
     ]
    },
    {
     "name": "stderr",
     "output_type": "stream",
     "text": [
      "2024-04-30 14:00:24.721494: W tensorflow/core/lib/png/png_io.cc:89] PNG warning: iCCP: known incorrect sRGB profile\n",
      "2024-04-30 14:00:24.893900: W tensorflow/core/lib/png/png_io.cc:89] PNG warning: iCCP: known incorrect sRGB profile\n"
     ]
    },
    {
     "name": "stdout",
     "output_type": "stream",
     "text": [
      "\u001b[1m98/98\u001b[0m \u001b[32m━━━━━━━━━━━━━━━━━━━━\u001b[0m\u001b[37m\u001b[0m \u001b[1m29s\u001b[0m 288ms/step - accuracy: 0.1741 - loss: 2.9815 - val_accuracy: 0.3419 - val_loss: 2.5505\n",
      "Epoch 10/32\n",
      "\u001b[1m 3/98\u001b[0m \u001b[37m━━━━━━━━━━━━━━━━━━━━\u001b[0m \u001b[1m25s\u001b[0m 268ms/step - accuracy: 0.1059 - loss: 3.0935"
     ]
    },
    {
     "name": "stderr",
     "output_type": "stream",
     "text": [
      "2024-04-30 14:00:27.678004: W tensorflow/core/lib/png/png_io.cc:89] PNG warning: iCCP: known incorrect sRGB profile\n"
     ]
    },
    {
     "name": "stdout",
     "output_type": "stream",
     "text": [
      "\u001b[1m12/98\u001b[0m \u001b[32m━━\u001b[0m\u001b[37m━━━━━━━━━━━━━━━━━━\u001b[0m \u001b[1m27s\u001b[0m 324ms/step - accuracy: 0.1327 - loss: 3.0733"
     ]
    },
    {
     "name": "stderr",
     "output_type": "stream",
     "text": [
      "2024-04-30 14:00:30.490087: W tensorflow/core/lib/png/png_io.cc:89] PNG warning: iCCP: known incorrect sRGB profile\n"
     ]
    },
    {
     "name": "stdout",
     "output_type": "stream",
     "text": [
      "\u001b[1m13/98\u001b[0m \u001b[32m━━\u001b[0m\u001b[37m━━━━━━━━━━━━━━━━━━\u001b[0m \u001b[1m27s\u001b[0m 320ms/step - accuracy: 0.1330 - loss: 3.0717"
     ]
    },
    {
     "name": "stderr",
     "output_type": "stream",
     "text": [
      "2024-04-30 14:00:30.824611: W tensorflow/core/lib/png/png_io.cc:89] PNG warning: iCCP: known incorrect sRGB profile\n"
     ]
    },
    {
     "name": "stdout",
     "output_type": "stream",
     "text": [
      "\u001b[1m14/98\u001b[0m \u001b[32m━━\u001b[0m\u001b[37m━━━━━━━━━━━━━━━━━━\u001b[0m \u001b[1m26s\u001b[0m 317ms/step - accuracy: 0.1331 - loss: 3.0700"
     ]
    },
    {
     "name": "stderr",
     "output_type": "stream",
     "text": [
      "2024-04-30 14:00:31.103415: W tensorflow/core/lib/png/png_io.cc:89] PNG warning: iCCP: known incorrect sRGB profile\n"
     ]
    },
    {
     "name": "stdout",
     "output_type": "stream",
     "text": [
      "\u001b[1m15/98\u001b[0m \u001b[32m━━━\u001b[0m\u001b[37m━━━━━━━━━━━━━━━━━\u001b[0m \u001b[1m26s\u001b[0m 316ms/step - accuracy: 0.1335 - loss: 3.0674"
     ]
    },
    {
     "name": "stderr",
     "output_type": "stream",
     "text": [
      "2024-04-30 14:00:31.398492: W tensorflow/core/lib/png/png_io.cc:89] PNG warning: iCCP: known incorrect sRGB profile\n",
      "2024-04-30 14:00:31.488024: W tensorflow/core/lib/png/png_io.cc:89] PNG warning: iCCP: known incorrect sRGB profile\n",
      "2024-04-30 14:00:31.540625: W tensorflow/core/lib/png/png_io.cc:89] PNG warning: iCCP: known incorrect sRGB profile\n",
      "2024-04-30 14:00:31.581287: W tensorflow/core/lib/png/png_io.cc:89] PNG warning: iCCP: known incorrect sRGB profile\n"
     ]
    },
    {
     "name": "stdout",
     "output_type": "stream",
     "text": [
      "\u001b[1m21/98\u001b[0m \u001b[32m━━━━\u001b[0m\u001b[37m━━━━━━━━━━━━━━━━\u001b[0m \u001b[1m23s\u001b[0m 304ms/step - accuracy: 0.1379 - loss: 3.0462"
     ]
    },
    {
     "name": "stderr",
     "output_type": "stream",
     "text": [
      "2024-04-30 14:00:33.125319: W tensorflow/core/lib/png/png_io.cc:89] PNG warning: iCCP: known incorrect sRGB profile\n"
     ]
    },
    {
     "name": "stdout",
     "output_type": "stream",
     "text": [
      "\u001b[1m25/98\u001b[0m \u001b[32m━━━━━\u001b[0m\u001b[37m━━━━━━━━━━━━━━━\u001b[0m \u001b[1m21s\u001b[0m 299ms/step - accuracy: 0.1422 - loss: 3.0288"
     ]
    },
    {
     "name": "stderr",
     "output_type": "stream",
     "text": [
      "2024-04-30 14:00:34.097712: W tensorflow/core/lib/png/png_io.cc:89] PNG warning: iCCP: known incorrect sRGB profile\n"
     ]
    },
    {
     "name": "stdout",
     "output_type": "stream",
     "text": [
      "\u001b[1m27/98\u001b[0m \u001b[32m━━━━━\u001b[0m\u001b[37m━━━━━━━━━━━━━━━\u001b[0m \u001b[1m20s\u001b[0m 293ms/step - accuracy: 0.1440 - loss: 3.0210"
     ]
    },
    {
     "name": "stderr",
     "output_type": "stream",
     "text": [
      "2024-04-30 14:00:34.689905: W tensorflow/core/lib/png/png_io.cc:89] PNG warning: iCCP: known incorrect sRGB profile\n"
     ]
    },
    {
     "name": "stdout",
     "output_type": "stream",
     "text": [
      "\u001b[1m35/98\u001b[0m \u001b[32m━━━━━━━\u001b[0m\u001b[37m━━━━━━━━━━━━━\u001b[0m \u001b[1m18s\u001b[0m 286ms/step - accuracy: 0.1522 - loss: 2.9936"
     ]
    },
    {
     "name": "stderr",
     "output_type": "stream",
     "text": [
      "2024-04-30 14:00:36.599435: W tensorflow/core/lib/png/png_io.cc:89] PNG warning: iCCP: known incorrect sRGB profile\n"
     ]
    },
    {
     "name": "stdout",
     "output_type": "stream",
     "text": [
      "\u001b[1m36/98\u001b[0m \u001b[32m━━━━━━━\u001b[0m\u001b[37m━━━━━━━━━━━━━\u001b[0m \u001b[1m17s\u001b[0m 286ms/step - accuracy: 0.1531 - loss: 2.9904"
     ]
    },
    {
     "name": "stderr",
     "output_type": "stream",
     "text": [
      "2024-04-30 14:00:36.887795: W tensorflow/core/lib/png/png_io.cc:89] PNG warning: iCCP: known incorrect sRGB profile\n"
     ]
    },
    {
     "name": "stdout",
     "output_type": "stream",
     "text": [
      "\u001b[1m38/98\u001b[0m \u001b[32m━━━━━━━\u001b[0m\u001b[37m━━━━━━━━━━━━━\u001b[0m \u001b[1m17s\u001b[0m 284ms/step - accuracy: 0.1549 - loss: 2.9842"
     ]
    },
    {
     "name": "stderr",
     "output_type": "stream",
     "text": [
      "2024-04-30 14:00:37.401554: W tensorflow/core/lib/png/png_io.cc:89] PNG warning: iCCP: known incorrect sRGB profile\n",
      "2024-04-30 14:00:37.639279: W tensorflow/core/lib/png/png_io.cc:89] PNG warning: iCCP: known incorrect sRGB profile\n"
     ]
    },
    {
     "name": "stdout",
     "output_type": "stream",
     "text": [
      "\u001b[1m41/98\u001b[0m \u001b[32m━━━━━━━━\u001b[0m\u001b[37m━━━━━━━━━━━━\u001b[0m \u001b[1m16s\u001b[0m 284ms/step - accuracy: 0.1573 - loss: 2.9748"
     ]
    },
    {
     "name": "stderr",
     "output_type": "stream",
     "text": [
      "2024-04-30 14:00:38.426518: W tensorflow/core/lib/png/png_io.cc:89] PNG warning: iCCP: known incorrect sRGB profile\n"
     ]
    },
    {
     "name": "stdout",
     "output_type": "stream",
     "text": [
      "\u001b[1m49/98\u001b[0m \u001b[32m━━━━━━━━━━\u001b[0m\u001b[37m━━━━━━━━━━\u001b[0m \u001b[1m13s\u001b[0m 280ms/step - accuracy: 0.1627 - loss: 2.9521"
     ]
    },
    {
     "name": "stderr",
     "output_type": "stream",
     "text": [
      "2024-04-30 14:00:40.517351: W tensorflow/core/lib/png/png_io.cc:89] PNG warning: iCCP: known incorrect sRGB profile\n"
     ]
    },
    {
     "name": "stdout",
     "output_type": "stream",
     "text": [
      "\u001b[1m62/98\u001b[0m \u001b[32m━━━━━━━━━━━━\u001b[0m\u001b[37m━━━━━━━━\u001b[0m \u001b[1m9s\u001b[0m 276ms/step - accuracy: 0.1690 - loss: 2.9270 "
     ]
    },
    {
     "name": "stderr",
     "output_type": "stream",
     "text": [
      "2024-04-30 14:00:43.697149: W tensorflow/core/lib/png/png_io.cc:89] PNG warning: iCCP: known incorrect sRGB profile\n"
     ]
    },
    {
     "name": "stdout",
     "output_type": "stream",
     "text": [
      "\u001b[1m66/98\u001b[0m \u001b[32m━━━━━━━━━━━━━\u001b[0m\u001b[37m━━━━━━━\u001b[0m \u001b[1m8s\u001b[0m 275ms/step - accuracy: 0.1707 - loss: 2.9217"
     ]
    },
    {
     "name": "stderr",
     "output_type": "stream",
     "text": [
      "2024-04-30 14:00:44.809961: W tensorflow/core/lib/png/png_io.cc:89] PNG warning: iCCP: known incorrect sRGB profile\n"
     ]
    },
    {
     "name": "stdout",
     "output_type": "stream",
     "text": [
      "\u001b[1m71/98\u001b[0m \u001b[32m━━━━━━━━━━━━━━\u001b[0m\u001b[37m━━━━━━\u001b[0m \u001b[1m7s\u001b[0m 275ms/step - accuracy: 0.1727 - loss: 2.9159"
     ]
    },
    {
     "name": "stderr",
     "output_type": "stream",
     "text": [
      "2024-04-30 14:00:46.338354: W tensorflow/core/lib/png/png_io.cc:89] PNG warning: iCCP: known incorrect sRGB profile\n"
     ]
    },
    {
     "name": "stdout",
     "output_type": "stream",
     "text": [
      "\u001b[1m77/98\u001b[0m \u001b[32m━━━━━━━━━━━━━━━\u001b[0m\u001b[37m━━━━━\u001b[0m \u001b[1m5s\u001b[0m 276ms/step - accuracy: 0.1749 - loss: 2.9092"
     ]
    },
    {
     "name": "stderr",
     "output_type": "stream",
     "text": [
      "2024-04-30 14:00:47.889862: W tensorflow/core/lib/png/png_io.cc:89] PNG warning: iCCP: known incorrect sRGB profile\n"
     ]
    },
    {
     "name": "stdout",
     "output_type": "stream",
     "text": [
      "\u001b[1m79/98\u001b[0m \u001b[32m━━━━━━━━━━━━━━━━\u001b[0m\u001b[37m━━━━\u001b[0m \u001b[1m5s\u001b[0m 276ms/step - accuracy: 0.1756 - loss: 2.9069"
     ]
    },
    {
     "name": "stderr",
     "output_type": "stream",
     "text": [
      "2024-04-30 14:00:48.642710: W tensorflow/core/lib/png/png_io.cc:89] PNG warning: iCCP: known incorrect sRGB profile\n"
     ]
    },
    {
     "name": "stdout",
     "output_type": "stream",
     "text": [
      "\u001b[1m83/98\u001b[0m \u001b[32m━━━━━━━━━━━━━━━━\u001b[0m\u001b[37m━━━━\u001b[0m \u001b[1m4s\u001b[0m 276ms/step - accuracy: 0.1769 - loss: 2.9027"
     ]
    },
    {
     "name": "stderr",
     "output_type": "stream",
     "text": [
      "2024-04-30 14:00:49.576810: W tensorflow/core/lib/png/png_io.cc:89] PNG warning: iCCP: known incorrect sRGB profile\n"
     ]
    },
    {
     "name": "stdout",
     "output_type": "stream",
     "text": [
      "\u001b[1m98/98\u001b[0m \u001b[32m━━━━━━━━━━━━━━━━━━━━\u001b[0m\u001b[37m\u001b[0m \u001b[1m0s\u001b[0m 263ms/step - accuracy: 0.1818 - loss: 2.8877"
     ]
    },
    {
     "name": "stderr",
     "output_type": "stream",
     "text": [
      "2024-04-30 14:00:53.339231: W tensorflow/core/lib/png/png_io.cc:89] PNG warning: iCCP: known incorrect sRGB profile\n",
      "2024-04-30 14:00:53.996923: W tensorflow/core/lib/png/png_io.cc:89] PNG warning: iCCP: known incorrect sRGB profile\n"
     ]
    },
    {
     "name": "stdout",
     "output_type": "stream",
     "text": [
      "\u001b[1m98/98\u001b[0m \u001b[32m━━━━━━━━━━━━━━━━━━━━\u001b[0m\u001b[37m\u001b[0m \u001b[1m29s\u001b[0m 289ms/step - accuracy: 0.1821 - loss: 2.8868 - val_accuracy: 0.4672 - val_loss: 2.0309\n",
      "Epoch 11/32\n",
      "\u001b[1m 5/98\u001b[0m \u001b[32m━\u001b[0m\u001b[37m━━━━━━━━━━━━━━━━━━━\u001b[0m \u001b[1m26s\u001b[0m 288ms/step - accuracy: 0.2551 - loss: 2.6653"
     ]
    },
    {
     "name": "stderr",
     "output_type": "stream",
     "text": [
      "2024-04-30 14:00:56.865512: W tensorflow/core/lib/png/png_io.cc:89] PNG warning: iCCP: known incorrect sRGB profile\n"
     ]
    },
    {
     "name": "stdout",
     "output_type": "stream",
     "text": [
      "\u001b[1m 7/98\u001b[0m \u001b[32m━\u001b[0m\u001b[37m━━━━━━━━━━━━━━━━━━━\u001b[0m \u001b[1m26s\u001b[0m 290ms/step - accuracy: 0.2633 - loss: 2.6306"
     ]
    },
    {
     "name": "stderr",
     "output_type": "stream",
     "text": [
      "2024-04-30 14:00:57.450655: W tensorflow/core/lib/png/png_io.cc:89] PNG warning: iCCP: known incorrect sRGB profile\n"
     ]
    },
    {
     "name": "stdout",
     "output_type": "stream",
     "text": [
      "\u001b[1m10/98\u001b[0m \u001b[32m━━\u001b[0m\u001b[37m━━━━━━━━━━━━━━━━━━\u001b[0m \u001b[1m28s\u001b[0m 325ms/step - accuracy: 0.2643 - loss: 2.6104"
     ]
    },
    {
     "name": "stderr",
     "output_type": "stream",
     "text": [
      "2024-04-30 14:00:58.567799: W tensorflow/core/lib/png/png_io.cc:89] PNG warning: iCCP: known incorrect sRGB profile\n"
     ]
    },
    {
     "name": "stdout",
     "output_type": "stream",
     "text": [
      "\u001b[1m11/98\u001b[0m \u001b[32m━━\u001b[0m\u001b[37m━━━━━━━━━━━━━━━━━━\u001b[0m \u001b[1m27s\u001b[0m 320ms/step - accuracy: 0.2637 - loss: 2.6067"
     ]
    },
    {
     "name": "stderr",
     "output_type": "stream",
     "text": [
      "2024-04-30 14:00:58.975672: W tensorflow/core/lib/png/png_io.cc:89] PNG warning: iCCP: known incorrect sRGB profile\n"
     ]
    },
    {
     "name": "stdout",
     "output_type": "stream",
     "text": [
      "\u001b[1m14/98\u001b[0m \u001b[32m━━\u001b[0m\u001b[37m━━━━━━━━━━━━━━━━━━\u001b[0m \u001b[1m26s\u001b[0m 311ms/step - accuracy: 0.2614 - loss: 2.6056"
     ]
    },
    {
     "name": "stderr",
     "output_type": "stream",
     "text": [
      "2024-04-30 14:00:59.675898: W tensorflow/core/lib/png/png_io.cc:89] PNG warning: iCCP: known incorrect sRGB profile\n",
      "2024-04-30 14:00:59.833249: W tensorflow/core/lib/png/png_io.cc:89] PNG warning: iCCP: known incorrect sRGB profile\n"
     ]
    },
    {
     "name": "stdout",
     "output_type": "stream",
     "text": [
      "\u001b[1m15/98\u001b[0m \u001b[32m━━━\u001b[0m\u001b[37m━━━━━━━━━━━━━━━━━\u001b[0m \u001b[1m25s\u001b[0m 309ms/step - accuracy: 0.2608 - loss: 2.6066"
     ]
    },
    {
     "name": "stderr",
     "output_type": "stream",
     "text": [
      "2024-04-30 14:00:59.942010: W tensorflow/core/lib/png/png_io.cc:89] PNG warning: iCCP: known incorrect sRGB profile\n"
     ]
    },
    {
     "name": "stdout",
     "output_type": "stream",
     "text": [
      "\u001b[1m19/98\u001b[0m \u001b[32m━━━\u001b[0m\u001b[37m━━━━━━━━━━━━━━━━━\u001b[0m \u001b[1m24s\u001b[0m 309ms/step - accuracy: 0.2581 - loss: 2.6115"
     ]
    },
    {
     "name": "stderr",
     "output_type": "stream",
     "text": [
      "2024-04-30 14:01:01.142982: W tensorflow/core/lib/png/png_io.cc:89] PNG warning: iCCP: known incorrect sRGB profile\n"
     ]
    },
    {
     "name": "stdout",
     "output_type": "stream",
     "text": [
      "\u001b[1m23/98\u001b[0m \u001b[32m━━━━\u001b[0m\u001b[37m━━━━━━━━━━━━━━━━\u001b[0m \u001b[1m23s\u001b[0m 307ms/step - accuracy: 0.2565 - loss: 2.6135"
     ]
    },
    {
     "name": "stderr",
     "output_type": "stream",
     "text": [
      "2024-04-30 14:01:02.439060: W tensorflow/core/lib/png/png_io.cc:89] PNG warning: iCCP: known incorrect sRGB profile\n"
     ]
    },
    {
     "name": "stdout",
     "output_type": "stream",
     "text": [
      "\u001b[1m25/98\u001b[0m \u001b[32m━━━━━\u001b[0m\u001b[37m━━━━━━━━━━━━━━━\u001b[0m \u001b[1m22s\u001b[0m 304ms/step - accuracy: 0.2562 - loss: 2.6140"
     ]
    },
    {
     "name": "stderr",
     "output_type": "stream",
     "text": [
      "2024-04-30 14:01:02.977401: W tensorflow/core/lib/png/png_io.cc:89] PNG warning: iCCP: known incorrect sRGB profile\n"
     ]
    },
    {
     "name": "stdout",
     "output_type": "stream",
     "text": [
      "\u001b[1m30/98\u001b[0m \u001b[32m━━━━━━\u001b[0m\u001b[37m━━━━━━━━━━━━━━\u001b[0m \u001b[1m20s\u001b[0m 300ms/step - accuracy: 0.2566 - loss: 2.6115"
     ]
    },
    {
     "name": "stderr",
     "output_type": "stream",
     "text": [
      "2024-04-30 14:01:04.204485: W tensorflow/core/lib/png/png_io.cc:89] PNG warning: iCCP: known incorrect sRGB profile\n"
     ]
    },
    {
     "name": "stdout",
     "output_type": "stream",
     "text": [
      "\u001b[1m32/98\u001b[0m \u001b[32m━━━━━━\u001b[0m\u001b[37m━━━━━━━━━━━━━━\u001b[0m \u001b[1m19s\u001b[0m 297ms/step - accuracy: 0.2568 - loss: 2.6112"
     ]
    },
    {
     "name": "stderr",
     "output_type": "stream",
     "text": [
      "2024-04-30 14:01:04.938247: W tensorflow/core/lib/png/png_io.cc:89] PNG warning: iCCP: known incorrect sRGB profile\n",
      "2024-04-30 14:01:04.956924: W tensorflow/core/lib/png/png_io.cc:89] PNG warning: iCCP: known incorrect sRGB profile\n"
     ]
    },
    {
     "name": "stdout",
     "output_type": "stream",
     "text": [
      "\u001b[1m36/98\u001b[0m \u001b[32m━━━━━━━\u001b[0m\u001b[37m━━━━━━━━━━━━━\u001b[0m \u001b[1m18s\u001b[0m 291ms/step - accuracy: 0.2567 - loss: 2.6118"
     ]
    },
    {
     "name": "stderr",
     "output_type": "stream",
     "text": [
      "2024-04-30 14:01:05.699901: W tensorflow/core/lib/png/png_io.cc:89] PNG warning: iCCP: known incorrect sRGB profile\n"
     ]
    },
    {
     "name": "stdout",
     "output_type": "stream",
     "text": [
      "\u001b[1m39/98\u001b[0m \u001b[32m━━━━━━━\u001b[0m\u001b[37m━━━━━━━━━━━━━\u001b[0m \u001b[1m17s\u001b[0m 291ms/step - accuracy: 0.2566 - loss: 2.6116"
     ]
    },
    {
     "name": "stderr",
     "output_type": "stream",
     "text": [
      "2024-04-30 14:01:06.801637: W tensorflow/core/lib/png/png_io.cc:89] PNG warning: iCCP: known incorrect sRGB profile\n"
     ]
    },
    {
     "name": "stdout",
     "output_type": "stream",
     "text": [
      "\u001b[1m42/98\u001b[0m \u001b[32m━━━━━━━━\u001b[0m\u001b[37m━━━━━━━━━━━━\u001b[0m \u001b[1m16s\u001b[0m 289ms/step - accuracy: 0.2564 - loss: 2.6119"
     ]
    },
    {
     "name": "stderr",
     "output_type": "stream",
     "text": [
      "2024-04-30 14:01:07.608916: W tensorflow/core/lib/png/png_io.cc:89] PNG warning: iCCP: known incorrect sRGB profile\n"
     ]
    },
    {
     "name": "stdout",
     "output_type": "stream",
     "text": [
      "\u001b[1m44/98\u001b[0m \u001b[32m━━━━━━━━\u001b[0m\u001b[37m━━━━━━━━━━━━\u001b[0m \u001b[1m15s\u001b[0m 288ms/step - accuracy: 0.2562 - loss: 2.6124"
     ]
    },
    {
     "name": "stderr",
     "output_type": "stream",
     "text": [
      "2024-04-30 14:01:07.987014: W tensorflow/core/lib/png/png_io.cc:89] PNG warning: iCCP: known incorrect sRGB profile\n"
     ]
    },
    {
     "name": "stdout",
     "output_type": "stream",
     "text": [
      "\u001b[1m63/98\u001b[0m \u001b[32m━━━━━━━━━━━━\u001b[0m\u001b[37m━━━━━━━━\u001b[0m \u001b[1m9s\u001b[0m 281ms/step - accuracy: 0.2542 - loss: 2.6184 "
     ]
    },
    {
     "name": "stderr",
     "output_type": "stream",
     "text": [
      "2024-04-30 14:01:13.194527: W tensorflow/core/lib/png/png_io.cc:89] PNG warning: iCCP: known incorrect sRGB profile\n"
     ]
    },
    {
     "name": "stdout",
     "output_type": "stream",
     "text": [
      "\u001b[1m71/98\u001b[0m \u001b[32m━━━━━━━━━━━━━━\u001b[0m\u001b[37m━━━━━━\u001b[0m \u001b[1m7s\u001b[0m 280ms/step - accuracy: 0.2543 - loss: 2.6187"
     ]
    },
    {
     "name": "stderr",
     "output_type": "stream",
     "text": [
      "2024-04-30 14:01:15.304714: W tensorflow/core/lib/png/png_io.cc:89] PNG warning: iCCP: known incorrect sRGB profile\n",
      "2024-04-30 14:01:15.321228: W tensorflow/core/lib/png/png_io.cc:89] PNG warning: iCCP: known incorrect sRGB profile\n"
     ]
    },
    {
     "name": "stdout",
     "output_type": "stream",
     "text": [
      "\u001b[1m74/98\u001b[0m \u001b[32m━━━━━━━━━━━━━━━\u001b[0m\u001b[37m━━━━━\u001b[0m \u001b[1m6s\u001b[0m 280ms/step - accuracy: 0.2545 - loss: 2.6186"
     ]
    },
    {
     "name": "stderr",
     "output_type": "stream",
     "text": [
      "2024-04-30 14:01:16.015018: W tensorflow/core/lib/png/png_io.cc:89] PNG warning: iCCP: known incorrect sRGB profile\n"
     ]
    },
    {
     "name": "stdout",
     "output_type": "stream",
     "text": [
      "\u001b[1m75/98\u001b[0m \u001b[32m━━━━━━━━━━━━━━━\u001b[0m\u001b[37m━━━━━\u001b[0m \u001b[1m6s\u001b[0m 279ms/step - accuracy: 0.2546 - loss: 2.6186"
     ]
    },
    {
     "name": "stderr",
     "output_type": "stream",
     "text": [
      "2024-04-30 14:01:16.300433: W tensorflow/core/lib/png/png_io.cc:89] PNG warning: iCCP: known incorrect sRGB profile\n"
     ]
    },
    {
     "name": "stdout",
     "output_type": "stream",
     "text": [
      "\u001b[1m78/98\u001b[0m \u001b[32m━━━━━━━━━━━━━━━\u001b[0m\u001b[37m━━━━━\u001b[0m \u001b[1m5s\u001b[0m 280ms/step - accuracy: 0.2548 - loss: 2.6185"
     ]
    },
    {
     "name": "stderr",
     "output_type": "stream",
     "text": [
      "2024-04-30 14:01:17.120820: W tensorflow/core/lib/png/png_io.cc:89] PNG warning: iCCP: known incorrect sRGB profile\n"
     ]
    },
    {
     "name": "stdout",
     "output_type": "stream",
     "text": [
      "\u001b[1m98/98\u001b[0m \u001b[32m━━━━━━━━━━━━━━━━━━━━\u001b[0m\u001b[37m\u001b[0m \u001b[1m0s\u001b[0m 265ms/step - accuracy: 0.2577 - loss: 2.6141"
     ]
    },
    {
     "name": "stderr",
     "output_type": "stream",
     "text": [
      "2024-04-30 14:01:21.422211: W tensorflow/core/lib/png/png_io.cc:89] PNG warning: iCCP: known incorrect sRGB profile\n",
      "2024-04-30 14:01:23.232185: W tensorflow/core/lib/png/png_io.cc:89] PNG warning: iCCP: known incorrect sRGB profile\n"
     ]
    },
    {
     "name": "stdout",
     "output_type": "stream",
     "text": [
      "\u001b[1m98/98\u001b[0m \u001b[32m━━━━━━━━━━━━━━━━━━━━\u001b[0m\u001b[37m\u001b[0m \u001b[1m29s\u001b[0m 291ms/step - accuracy: 0.2578 - loss: 2.6139 - val_accuracy: 0.5698 - val_loss: 1.8806\n",
      "Epoch 12/32\n",
      "\u001b[1m 6/98\u001b[0m \u001b[32m━\u001b[0m\u001b[37m━━━━━━━━━━━━━━━━━━━\u001b[0m \u001b[1m25s\u001b[0m 273ms/step - accuracy: 0.2248 - loss: 2.7316"
     ]
    },
    {
     "name": "stderr",
     "output_type": "stream",
     "text": [
      "2024-04-30 14:01:25.880770: W tensorflow/core/lib/png/png_io.cc:89] PNG warning: iCCP: known incorrect sRGB profile\n",
      "2024-04-30 14:01:26.036088: W tensorflow/core/lib/png/png_io.cc:89] PNG warning: iCCP: known incorrect sRGB profile\n"
     ]
    },
    {
     "name": "stdout",
     "output_type": "stream",
     "text": [
      "\u001b[1m 8/98\u001b[0m \u001b[32m━\u001b[0m\u001b[37m━━━━━━━━━━━━━━━━━━━\u001b[0m \u001b[1m25s\u001b[0m 279ms/step - accuracy: 0.2353 - loss: 2.6980"
     ]
    },
    {
     "name": "stderr",
     "output_type": "stream",
     "text": [
      "2024-04-30 14:01:26.923151: W tensorflow/core/lib/png/png_io.cc:89] PNG warning: iCCP: known incorrect sRGB profile\n"
     ]
    },
    {
     "name": "stdout",
     "output_type": "stream",
     "text": [
      "\u001b[1m10/98\u001b[0m \u001b[32m━━\u001b[0m\u001b[37m━━━━━━━━━━━━━━━━━━\u001b[0m \u001b[1m29s\u001b[0m 330ms/step - accuracy: 0.2402 - loss: 2.6780"
     ]
    },
    {
     "name": "stderr",
     "output_type": "stream",
     "text": [
      "2024-04-30 14:01:27.567440: W tensorflow/core/lib/png/png_io.cc:89] PNG warning: iCCP: known incorrect sRGB profile\n",
      "2024-04-30 14:01:27.673986: W tensorflow/core/lib/png/png_io.cc:89] PNG warning: iCCP: known incorrect sRGB profile\n"
     ]
    },
    {
     "name": "stdout",
     "output_type": "stream",
     "text": [
      "\u001b[1m13/98\u001b[0m \u001b[32m━━\u001b[0m\u001b[37m━━━━━━━━━━━━━━━━━━\u001b[0m \u001b[1m27s\u001b[0m 319ms/step - accuracy: 0.2469 - loss: 2.6572"
     ]
    },
    {
     "name": "stderr",
     "output_type": "stream",
     "text": [
      "2024-04-30 14:01:28.306883: W tensorflow/core/lib/png/png_io.cc:89] PNG warning: iCCP: known incorrect sRGB profile\n"
     ]
    },
    {
     "name": "stdout",
     "output_type": "stream",
     "text": [
      "\u001b[1m15/98\u001b[0m \u001b[32m━━━\u001b[0m\u001b[37m━━━━━━━━━━━━━━━━━\u001b[0m \u001b[1m25s\u001b[0m 312ms/step - accuracy: 0.2494 - loss: 2.6494"
     ]
    },
    {
     "name": "stderr",
     "output_type": "stream",
     "text": [
      "2024-04-30 14:01:29.045256: W tensorflow/core/lib/png/png_io.cc:89] PNG warning: iCCP: known incorrect sRGB profile\n"
     ]
    },
    {
     "name": "stdout",
     "output_type": "stream",
     "text": [
      "\u001b[1m19/98\u001b[0m \u001b[32m━━━\u001b[0m\u001b[37m━━━━━━━━━━━━━━━━━\u001b[0m \u001b[1m24s\u001b[0m 307ms/step - accuracy: 0.2512 - loss: 2.6400"
     ]
    },
    {
     "name": "stderr",
     "output_type": "stream",
     "text": [
      "2024-04-30 14:01:30.087651: W tensorflow/core/lib/png/png_io.cc:89] PNG warning: iCCP: known incorrect sRGB profile\n"
     ]
    },
    {
     "name": "stdout",
     "output_type": "stream",
     "text": [
      "\u001b[1m23/98\u001b[0m \u001b[32m━━━━\u001b[0m\u001b[37m━━━━━━━━━━━━━━━━\u001b[0m \u001b[1m22s\u001b[0m 302ms/step - accuracy: 0.2532 - loss: 2.6311"
     ]
    },
    {
     "name": "stderr",
     "output_type": "stream",
     "text": [
      "2024-04-30 14:01:31.305917: W tensorflow/core/lib/png/png_io.cc:89] PNG warning: iCCP: known incorrect sRGB profile\n"
     ]
    },
    {
     "name": "stdout",
     "output_type": "stream",
     "text": [
      "\u001b[1m25/98\u001b[0m \u001b[32m━━━━━\u001b[0m\u001b[37m━━━━━━━━━━━━━━━\u001b[0m \u001b[1m21s\u001b[0m 299ms/step - accuracy: 0.2545 - loss: 2.6265"
     ]
    },
    {
     "name": "stderr",
     "output_type": "stream",
     "text": [
      "2024-04-30 14:01:31.801759: W tensorflow/core/lib/png/png_io.cc:89] PNG warning: iCCP: known incorrect sRGB profile\n"
     ]
    },
    {
     "name": "stdout",
     "output_type": "stream",
     "text": [
      "\u001b[1m27/98\u001b[0m \u001b[32m━━━━━\u001b[0m\u001b[37m━━━━━━━━━━━━━━━\u001b[0m \u001b[1m21s\u001b[0m 298ms/step - accuracy: 0.2558 - loss: 2.6224"
     ]
    },
    {
     "name": "stderr",
     "output_type": "stream",
     "text": [
      "2024-04-30 14:01:32.386070: W tensorflow/core/lib/png/png_io.cc:89] PNG warning: iCCP: known incorrect sRGB profile\n"
     ]
    },
    {
     "name": "stdout",
     "output_type": "stream",
     "text": [
      "\u001b[1m34/98\u001b[0m \u001b[32m━━━━━━\u001b[0m\u001b[37m━━━━━━━━━━━━━━\u001b[0m \u001b[1m18s\u001b[0m 290ms/step - accuracy: 0.2609 - loss: 2.6045"
     ]
    },
    {
     "name": "stderr",
     "output_type": "stream",
     "text": [
      "2024-04-30 14:01:34.202141: W tensorflow/core/lib/png/png_io.cc:89] PNG warning: iCCP: known incorrect sRGB profile\n",
      "2024-04-30 14:01:34.224345: W tensorflow/core/lib/png/png_io.cc:89] PNG warning: iCCP: known incorrect sRGB profile\n"
     ]
    },
    {
     "name": "stdout",
     "output_type": "stream",
     "text": [
      "\u001b[1m38/98\u001b[0m \u001b[32m━━━━━━━\u001b[0m\u001b[37m━━━━━━━━━━━━━\u001b[0m \u001b[1m17s\u001b[0m 287ms/step - accuracy: 0.2630 - loss: 2.5978"
     ]
    },
    {
     "name": "stderr",
     "output_type": "stream",
     "text": [
      "2024-04-30 14:01:35.050699: W tensorflow/core/lib/png/png_io.cc:89] PNG warning: iCCP: known incorrect sRGB profile\n"
     ]
    },
    {
     "name": "stdout",
     "output_type": "stream",
     "text": [
      "\u001b[1m42/98\u001b[0m \u001b[32m━━━━━━━━\u001b[0m\u001b[37m━━━━━━━━━━━━\u001b[0m \u001b[1m15s\u001b[0m 284ms/step - accuracy: 0.2651 - loss: 2.5919"
     ]
    },
    {
     "name": "stderr",
     "output_type": "stream",
     "text": [
      "2024-04-30 14:01:36.064015: W tensorflow/core/lib/png/png_io.cc:89] PNG warning: iCCP: known incorrect sRGB profile\n"
     ]
    },
    {
     "name": "stdout",
     "output_type": "stream",
     "text": [
      "\u001b[1m43/98\u001b[0m \u001b[32m━━━━━━━━\u001b[0m\u001b[37m━━━━━━━━━━━━\u001b[0m \u001b[1m15s\u001b[0m 284ms/step - accuracy: 0.2656 - loss: 2.5908"
     ]
    },
    {
     "name": "stderr",
     "output_type": "stream",
     "text": [
      "2024-04-30 14:01:36.599652: W tensorflow/core/lib/png/png_io.cc:89] PNG warning: iCCP: known incorrect sRGB profile\n"
     ]
    },
    {
     "name": "stdout",
     "output_type": "stream",
     "text": [
      "\u001b[1m45/98\u001b[0m \u001b[32m━━━━━━━━━\u001b[0m\u001b[37m━━━━━━━━━━━\u001b[0m \u001b[1m15s\u001b[0m 283ms/step - accuracy: 0.2665 - loss: 2.5889"
     ]
    },
    {
     "name": "stderr",
     "output_type": "stream",
     "text": [
      "2024-04-30 14:01:36.926787: W tensorflow/core/lib/png/png_io.cc:89] PNG warning: iCCP: known incorrect sRGB profile\n"
     ]
    },
    {
     "name": "stdout",
     "output_type": "stream",
     "text": [
      "\u001b[1m50/98\u001b[0m \u001b[32m━━━━━━━━━━\u001b[0m\u001b[37m━━━━━━━━━━\u001b[0m \u001b[1m13s\u001b[0m 283ms/step - accuracy: 0.2688 - loss: 2.5844"
     ]
    },
    {
     "name": "stderr",
     "output_type": "stream",
     "text": [
      "2024-04-30 14:01:38.290864: W tensorflow/core/lib/png/png_io.cc:89] PNG warning: iCCP: known incorrect sRGB profile\n"
     ]
    },
    {
     "name": "stdout",
     "output_type": "stream",
     "text": [
      "\u001b[1m70/98\u001b[0m \u001b[32m━━━━━━━━━━━━━━\u001b[0m\u001b[37m━━━━━━\u001b[0m \u001b[1m7s\u001b[0m 277ms/step - accuracy: 0.2770 - loss: 2.5618"
     ]
    },
    {
     "name": "stderr",
     "output_type": "stream",
     "text": [
      "2024-04-30 14:01:43.736955: W tensorflow/core/lib/png/png_io.cc:89] PNG warning: iCCP: known incorrect sRGB profile\n"
     ]
    },
    {
     "name": "stdout",
     "output_type": "stream",
     "text": [
      "\u001b[1m72/98\u001b[0m \u001b[32m━━━━━━━━━━━━━━\u001b[0m\u001b[37m━━━━━━\u001b[0m \u001b[1m7s\u001b[0m 278ms/step - accuracy: 0.2779 - loss: 2.5592"
     ]
    },
    {
     "name": "stderr",
     "output_type": "stream",
     "text": [
      "2024-04-30 14:01:44.221995: W tensorflow/core/lib/png/png_io.cc:89] PNG warning: iCCP: known incorrect sRGB profile\n"
     ]
    },
    {
     "name": "stdout",
     "output_type": "stream",
     "text": [
      "\u001b[1m76/98\u001b[0m \u001b[32m━━━━━━━━━━━━━━━\u001b[0m\u001b[37m━━━━━\u001b[0m \u001b[1m6s\u001b[0m 279ms/step - accuracy: 0.2796 - loss: 2.5539"
     ]
    },
    {
     "name": "stderr",
     "output_type": "stream",
     "text": [
      "2024-04-30 14:01:45.330170: W tensorflow/core/lib/png/png_io.cc:89] PNG warning: iCCP: known incorrect sRGB profile\n"
     ]
    },
    {
     "name": "stdout",
     "output_type": "stream",
     "text": [
      "\u001b[1m77/98\u001b[0m \u001b[32m━━━━━━━━━━━━━━━\u001b[0m\u001b[37m━━━━━\u001b[0m \u001b[1m5s\u001b[0m 278ms/step - accuracy: 0.2800 - loss: 2.5526"
     ]
    },
    {
     "name": "stderr",
     "output_type": "stream",
     "text": [
      "2024-04-30 14:01:45.782483: W tensorflow/core/lib/png/png_io.cc:89] PNG warning: iCCP: known incorrect sRGB profile\n"
     ]
    },
    {
     "name": "stdout",
     "output_type": "stream",
     "text": [
      "\u001b[1m84/98\u001b[0m \u001b[32m━━━━━━━━━━━━━━━━━\u001b[0m\u001b[37m━━━\u001b[0m \u001b[1m3s\u001b[0m 277ms/step - accuracy: 0.2823 - loss: 2.5445"
     ]
    },
    {
     "name": "stderr",
     "output_type": "stream",
     "text": [
      "2024-04-30 14:01:47.465857: W tensorflow/core/lib/png/png_io.cc:89] PNG warning: iCCP: known incorrect sRGB profile\n"
     ]
    },
    {
     "name": "stdout",
     "output_type": "stream",
     "text": [
      "\u001b[1m98/98\u001b[0m \u001b[32m━━━━━━━━━━━━━━━━━━━━\u001b[0m\u001b[37m\u001b[0m \u001b[1m0s\u001b[0m 261ms/step - accuracy: 0.2862 - loss: 2.5315"
     ]
    },
    {
     "name": "stderr",
     "output_type": "stream",
     "text": [
      "2024-04-30 14:01:49.947664: W tensorflow/core/lib/png/png_io.cc:89] PNG warning: iCCP: known incorrect sRGB profile\n",
      "2024-04-30 14:01:50.763299: W tensorflow/core/lib/png/png_io.cc:89] PNG warning: iCCP: known incorrect sRGB profile\n"
     ]
    },
    {
     "name": "stdout",
     "output_type": "stream",
     "text": [
      "\u001b[1m98/98\u001b[0m \u001b[32m━━━━━━━━━━━━━━━━━━━━\u001b[0m\u001b[37m\u001b[0m \u001b[1m28s\u001b[0m 285ms/step - accuracy: 0.2864 - loss: 2.5306 - val_accuracy: 0.5926 - val_loss: 1.6560\n",
      "Epoch 13/32\n"
     ]
    },
    {
     "name": "stderr",
     "output_type": "stream",
     "text": [
      "2024-04-30 14:01:52.607676: W tensorflow/core/lib/png/png_io.cc:89] PNG warning: iCCP: known incorrect sRGB profile\n"
     ]
    },
    {
     "name": "stdout",
     "output_type": "stream",
     "text": [
      "\u001b[1m 5/98\u001b[0m \u001b[32m━\u001b[0m\u001b[37m━━━━━━━━━━━━━━━━━━━\u001b[0m \u001b[1m25s\u001b[0m 270ms/step - accuracy: 0.3359 - loss: 2.2380"
     ]
    },
    {
     "name": "stderr",
     "output_type": "stream",
     "text": [
      "2024-04-30 14:01:54.037641: W tensorflow/core/lib/png/png_io.cc:89] PNG warning: iCCP: known incorrect sRGB profile\n"
     ]
    },
    {
     "name": "stdout",
     "output_type": "stream",
     "text": [
      "\u001b[1m12/98\u001b[0m \u001b[32m━━\u001b[0m\u001b[37m━━━━━━━━━━━━━━━━━━\u001b[0m \u001b[1m26s\u001b[0m 312ms/step - accuracy: 0.3240 - loss: 2.2897"
     ]
    },
    {
     "name": "stderr",
     "output_type": "stream",
     "text": [
      "2024-04-30 14:01:56.440415: W tensorflow/core/lib/png/png_io.cc:89] PNG warning: iCCP: known incorrect sRGB profile\n"
     ]
    },
    {
     "name": "stdout",
     "output_type": "stream",
     "text": [
      "\u001b[1m13/98\u001b[0m \u001b[32m━━\u001b[0m\u001b[37m━━━━━━━━━━━━━━━━━━\u001b[0m \u001b[1m26s\u001b[0m 308ms/step - accuracy: 0.3239 - loss: 2.2950"
     ]
    },
    {
     "name": "stderr",
     "output_type": "stream",
     "text": [
      "2024-04-30 14:01:56.969917: W tensorflow/core/lib/png/png_io.cc:89] PNG warning: iCCP: known incorrect sRGB profile\n"
     ]
    },
    {
     "name": "stdout",
     "output_type": "stream",
     "text": [
      "\u001b[1m16/98\u001b[0m \u001b[32m━━━\u001b[0m\u001b[37m━━━━━━━━━━━━━━━━━\u001b[0m \u001b[1m25s\u001b[0m 314ms/step - accuracy: 0.3248 - loss: 2.3054"
     ]
    },
    {
     "name": "stderr",
     "output_type": "stream",
     "text": [
      "2024-04-30 14:01:57.642849: W tensorflow/core/lib/png/png_io.cc:89] PNG warning: iCCP: known incorrect sRGB profile\n"
     ]
    },
    {
     "name": "stdout",
     "output_type": "stream",
     "text": [
      "\u001b[1m18/98\u001b[0m \u001b[32m━━━\u001b[0m\u001b[37m━━━━━━━━━━━━━━━━━\u001b[0m \u001b[1m24s\u001b[0m 310ms/step - accuracy: 0.3275 - loss: 2.3077"
     ]
    },
    {
     "name": "stderr",
     "output_type": "stream",
     "text": [
      "2024-04-30 14:01:58.231145: W tensorflow/core/lib/png/png_io.cc:89] PNG warning: iCCP: known incorrect sRGB profile\n"
     ]
    },
    {
     "name": "stdout",
     "output_type": "stream",
     "text": [
      "\u001b[1m20/98\u001b[0m \u001b[32m━━━━\u001b[0m\u001b[37m━━━━━━━━━━━━━━━━\u001b[0m \u001b[1m23s\u001b[0m 307ms/step - accuracy: 0.3306 - loss: 2.3065"
     ]
    },
    {
     "name": "stderr",
     "output_type": "stream",
     "text": [
      "2024-04-30 14:01:58.848372: W tensorflow/core/lib/png/png_io.cc:89] PNG warning: iCCP: known incorrect sRGB profile\n"
     ]
    },
    {
     "name": "stdout",
     "output_type": "stream",
     "text": [
      "\u001b[1m21/98\u001b[0m \u001b[32m━━━━\u001b[0m\u001b[37m━━━━━━━━━━━━━━━━\u001b[0m \u001b[1m23s\u001b[0m 306ms/step - accuracy: 0.3318 - loss: 2.3050"
     ]
    },
    {
     "name": "stderr",
     "output_type": "stream",
     "text": [
      "2024-04-30 14:01:59.256334: W tensorflow/core/lib/png/png_io.cc:89] PNG warning: iCCP: known incorrect sRGB profile\n"
     ]
    },
    {
     "name": "stdout",
     "output_type": "stream",
     "text": [
      "\u001b[1m23/98\u001b[0m \u001b[32m━━━━\u001b[0m\u001b[37m━━━━━━━━━━━━━━━━\u001b[0m \u001b[1m22s\u001b[0m 303ms/step - accuracy: 0.3337 - loss: 2.3028"
     ]
    },
    {
     "name": "stderr",
     "output_type": "stream",
     "text": [
      "2024-04-30 14:01:59.765913: W tensorflow/core/lib/png/png_io.cc:89] PNG warning: iCCP: known incorrect sRGB profile\n"
     ]
    },
    {
     "name": "stdout",
     "output_type": "stream",
     "text": [
      "\u001b[1m25/98\u001b[0m \u001b[32m━━━━━\u001b[0m\u001b[37m━━━━━━━━━━━━━━━\u001b[0m \u001b[1m21s\u001b[0m 300ms/step - accuracy: 0.3351 - loss: 2.3014"
     ]
    },
    {
     "name": "stderr",
     "output_type": "stream",
     "text": [
      "2024-04-30 14:02:00.282637: W tensorflow/core/lib/png/png_io.cc:89] PNG warning: iCCP: known incorrect sRGB profile\n",
      "2024-04-30 14:02:00.396167: W tensorflow/core/lib/png/png_io.cc:89] PNG warning: iCCP: known incorrect sRGB profile\n"
     ]
    },
    {
     "name": "stdout",
     "output_type": "stream",
     "text": [
      "\u001b[1m30/98\u001b[0m \u001b[32m━━━━━━\u001b[0m\u001b[37m━━━━━━━━━━━━━━\u001b[0m \u001b[1m19s\u001b[0m 293ms/step - accuracy: 0.3392 - loss: 2.2938"
     ]
    },
    {
     "name": "stderr",
     "output_type": "stream",
     "text": [
      "2024-04-30 14:02:01.439768: W tensorflow/core/lib/png/png_io.cc:89] PNG warning: iCCP: known incorrect sRGB profile\n"
     ]
    },
    {
     "name": "stdout",
     "output_type": "stream",
     "text": [
      "\u001b[1m35/98\u001b[0m \u001b[32m━━━━━━━\u001b[0m\u001b[37m━━━━━━━━━━━━━\u001b[0m \u001b[1m18s\u001b[0m 286ms/step - accuracy: 0.3411 - loss: 2.2901"
     ]
    },
    {
     "name": "stderr",
     "output_type": "stream",
     "text": [
      "2024-04-30 14:02:02.631640: W tensorflow/core/lib/png/png_io.cc:89] PNG warning: iCCP: known incorrect sRGB profile\n"
     ]
    },
    {
     "name": "stdout",
     "output_type": "stream",
     "text": [
      "\u001b[1m39/98\u001b[0m \u001b[32m━━━━━━━\u001b[0m\u001b[37m━━━━━━━━━━━━━\u001b[0m \u001b[1m16s\u001b[0m 282ms/step - accuracy: 0.3424 - loss: 2.2864"
     ]
    },
    {
     "name": "stderr",
     "output_type": "stream",
     "text": [
      "2024-04-30 14:02:03.826721: W tensorflow/core/lib/png/png_io.cc:89] PNG warning: iCCP: known incorrect sRGB profile\n"
     ]
    },
    {
     "name": "stdout",
     "output_type": "stream",
     "text": [
      "\u001b[1m41/98\u001b[0m \u001b[32m━━━━━━━━\u001b[0m\u001b[37m━━━━━━━━━━━━\u001b[0m \u001b[1m16s\u001b[0m 281ms/step - accuracy: 0.3431 - loss: 2.2845"
     ]
    },
    {
     "name": "stderr",
     "output_type": "stream",
     "text": [
      "2024-04-30 14:02:04.325888: W tensorflow/core/lib/png/png_io.cc:89] PNG warning: iCCP: known incorrect sRGB profile\n",
      "2024-04-30 14:02:04.357777: W tensorflow/core/lib/png/png_io.cc:89] PNG warning: iCCP: known incorrect sRGB profile\n",
      "2024-04-30 14:02:04.458873: W tensorflow/core/lib/png/png_io.cc:89] PNG warning: iCCP: known incorrect sRGB profile\n"
     ]
    },
    {
     "name": "stdout",
     "output_type": "stream",
     "text": [
      "\u001b[1m48/98\u001b[0m \u001b[32m━━━━━━━━━\u001b[0m\u001b[37m━━━━━━━━━━━\u001b[0m \u001b[1m13s\u001b[0m 280ms/step - accuracy: 0.3455 - loss: 2.2797"
     ]
    },
    {
     "name": "stderr",
     "output_type": "stream",
     "text": [
      "2024-04-30 14:02:06.056837: W tensorflow/core/lib/png/png_io.cc:89] PNG warning: iCCP: known incorrect sRGB profile\n"
     ]
    },
    {
     "name": "stdout",
     "output_type": "stream",
     "text": [
      "\u001b[1m57/98\u001b[0m \u001b[32m━━━━━━━━━━━\u001b[0m\u001b[37m━━━━━━━━━\u001b[0m \u001b[1m11s\u001b[0m 276ms/step - accuracy: 0.3486 - loss: 2.2745"
     ]
    },
    {
     "name": "stderr",
     "output_type": "stream",
     "text": [
      "2024-04-30 14:02:08.349468: W tensorflow/core/lib/png/png_io.cc:89] PNG warning: iCCP: known incorrect sRGB profile\n"
     ]
    },
    {
     "name": "stdout",
     "output_type": "stream",
     "text": [
      "\u001b[1m66/98\u001b[0m \u001b[32m━━━━━━━━━━━━━\u001b[0m\u001b[37m━━━━━━━\u001b[0m \u001b[1m8s\u001b[0m 274ms/step - accuracy: 0.3519 - loss: 2.2676"
     ]
    },
    {
     "name": "stderr",
     "output_type": "stream",
     "text": [
      "2024-04-30 14:02:10.693086: W tensorflow/core/lib/png/png_io.cc:89] PNG warning: iCCP: known incorrect sRGB profile\n"
     ]
    },
    {
     "name": "stdout",
     "output_type": "stream",
     "text": [
      "\u001b[1m67/98\u001b[0m \u001b[32m━━━━━━━━━━━━━\u001b[0m\u001b[37m━━━━━━━\u001b[0m \u001b[1m8s\u001b[0m 273ms/step - accuracy: 0.3523 - loss: 2.2666"
     ]
    },
    {
     "name": "stderr",
     "output_type": "stream",
     "text": [
      "2024-04-30 14:02:10.912197: W tensorflow/core/lib/png/png_io.cc:89] PNG warning: iCCP: known incorrect sRGB profile\n"
     ]
    },
    {
     "name": "stdout",
     "output_type": "stream",
     "text": [
      "\u001b[1m80/98\u001b[0m \u001b[32m━━━━━━━━━━━━━━━━\u001b[0m\u001b[37m━━━━\u001b[0m \u001b[1m4s\u001b[0m 272ms/step - accuracy: 0.3572 - loss: 2.2517"
     ]
    },
    {
     "name": "stderr",
     "output_type": "stream",
     "text": [
      "2024-04-30 14:02:14.484193: W tensorflow/core/lib/png/png_io.cc:89] PNG warning: iCCP: known incorrect sRGB profile\n"
     ]
    },
    {
     "name": "stdout",
     "output_type": "stream",
     "text": [
      "\u001b[1m83/98\u001b[0m \u001b[32m━━━━━━━━━━━━━━━━\u001b[0m\u001b[37m━━━━\u001b[0m \u001b[1m4s\u001b[0m 273ms/step - accuracy: 0.3583 - loss: 2.2482"
     ]
    },
    {
     "name": "stderr",
     "output_type": "stream",
     "text": [
      "2024-04-30 14:02:15.368599: W tensorflow/core/lib/png/png_io.cc:89] PNG warning: iCCP: known incorrect sRGB profile\n"
     ]
    },
    {
     "name": "stdout",
     "output_type": "stream",
     "text": [
      "\u001b[1m98/98\u001b[0m \u001b[32m━━━━━━━━━━━━━━━━━━━━\u001b[0m\u001b[37m\u001b[0m \u001b[1m0s\u001b[0m 258ms/step - accuracy: 0.3635 - loss: 2.2306"
     ]
    },
    {
     "name": "stderr",
     "output_type": "stream",
     "text": [
      "2024-04-30 14:02:18.196749: W tensorflow/core/lib/png/png_io.cc:89] PNG warning: iCCP: known incorrect sRGB profile\n",
      "2024-04-30 14:02:18.699385: W tensorflow/core/lib/png/png_io.cc:89] PNG warning: iCCP: known incorrect sRGB profile\n"
     ]
    },
    {
     "name": "stdout",
     "output_type": "stream",
     "text": [
      "\u001b[1m98/98\u001b[0m \u001b[32m━━━━━━━━━━━━━━━━━━━━\u001b[0m\u001b[37m\u001b[0m \u001b[1m28s\u001b[0m 283ms/step - accuracy: 0.3638 - loss: 2.2295 - val_accuracy: 0.7066 - val_loss: 1.2254\n",
      "Epoch 14/32\n"
     ]
    },
    {
     "name": "stderr",
     "output_type": "stream",
     "text": [
      "2024-04-30 14:02:20.916423: W tensorflow/core/lib/png/png_io.cc:89] PNG warning: iCCP: known incorrect sRGB profile\n"
     ]
    },
    {
     "name": "stdout",
     "output_type": "stream",
     "text": [
      "\u001b[1m 1/98\u001b[0m \u001b[37m━━━━━━━━━━━━━━━━━━━━\u001b[0m \u001b[1m1:51\u001b[0m 1s/step - accuracy: 0.4375 - loss: 1.6033"
     ]
    },
    {
     "name": "stderr",
     "output_type": "stream",
     "text": [
      "2024-04-30 14:02:21.564413: W tensorflow/core/lib/png/png_io.cc:89] PNG warning: iCCP: known incorrect sRGB profile\n"
     ]
    },
    {
     "name": "stdout",
     "output_type": "stream",
     "text": [
      "\u001b[1m10/98\u001b[0m \u001b[32m━━\u001b[0m\u001b[37m━━━━━━━━━━━━━━━━━━\u001b[0m \u001b[1m24s\u001b[0m 277ms/step - accuracy: 0.3322 - loss: 2.3111"
     ]
    },
    {
     "name": "stderr",
     "output_type": "stream",
     "text": [
      "2024-04-30 14:02:24.275056: W tensorflow/core/lib/png/png_io.cc:89] PNG warning: iCCP: known incorrect sRGB profile\n"
     ]
    },
    {
     "name": "stdout",
     "output_type": "stream",
     "text": [
      "\u001b[1m13/98\u001b[0m \u001b[32m━━\u001b[0m\u001b[37m━━━━━━━━━━━━━━━━━━\u001b[0m \u001b[1m23s\u001b[0m 275ms/step - accuracy: 0.3363 - loss: 2.3170"
     ]
    },
    {
     "name": "stderr",
     "output_type": "stream",
     "text": [
      "2024-04-30 14:02:24.991509: W tensorflow/core/lib/png/png_io.cc:89] PNG warning: iCCP: known incorrect sRGB profile\n"
     ]
    },
    {
     "name": "stdout",
     "output_type": "stream",
     "text": [
      "\u001b[1m14/98\u001b[0m \u001b[32m━━\u001b[0m\u001b[37m━━━━━━━━━━━━━━━━━━\u001b[0m \u001b[1m23s\u001b[0m 275ms/step - accuracy: 0.3368 - loss: 2.3183"
     ]
    },
    {
     "name": "stderr",
     "output_type": "stream",
     "text": [
      "2024-04-30 14:02:25.298349: W tensorflow/core/lib/png/png_io.cc:89] PNG warning: iCCP: known incorrect sRGB profile\n"
     ]
    },
    {
     "name": "stdout",
     "output_type": "stream",
     "text": [
      "\u001b[1m16/98\u001b[0m \u001b[32m━━━\u001b[0m\u001b[37m━━━━━━━━━━━━━━━━━\u001b[0m \u001b[1m22s\u001b[0m 278ms/step - accuracy: 0.3386 - loss: 2.3165"
     ]
    },
    {
     "name": "stderr",
     "output_type": "stream",
     "text": [
      "2024-04-30 14:02:25.770529: W tensorflow/core/lib/png/png_io.cc:89] PNG warning: iCCP: known incorrect sRGB profile\n"
     ]
    },
    {
     "name": "stdout",
     "output_type": "stream",
     "text": [
      "\u001b[1m19/98\u001b[0m \u001b[32m━━━\u001b[0m\u001b[37m━━━━━━━━━━━━━━━━━\u001b[0m \u001b[1m21s\u001b[0m 277ms/step - accuracy: 0.3406 - loss: 2.3130"
     ]
    },
    {
     "name": "stderr",
     "output_type": "stream",
     "text": [
      "2024-04-30 14:02:26.535075: W tensorflow/core/lib/png/png_io.cc:89] PNG warning: iCCP: known incorrect sRGB profile\n"
     ]
    },
    {
     "name": "stdout",
     "output_type": "stream",
     "text": [
      "\u001b[1m20/98\u001b[0m \u001b[32m━━━━\u001b[0m\u001b[37m━━━━━━━━━━━━━━━━\u001b[0m \u001b[1m21s\u001b[0m 275ms/step - accuracy: 0.3417 - loss: 2.3106"
     ]
    },
    {
     "name": "stderr",
     "output_type": "stream",
     "text": [
      "2024-04-30 14:02:26.965873: W tensorflow/core/lib/png/png_io.cc:89] PNG warning: iCCP: known incorrect sRGB profile\n"
     ]
    },
    {
     "name": "stdout",
     "output_type": "stream",
     "text": [
      "\u001b[1m21/98\u001b[0m \u001b[32m━━━━\u001b[0m\u001b[37m━━━━━━━━━━━━━━━━\u001b[0m \u001b[1m21s\u001b[0m 276ms/step - accuracy: 0.3430 - loss: 2.3076"
     ]
    },
    {
     "name": "stderr",
     "output_type": "stream",
     "text": [
      "2024-04-30 14:02:27.235551: W tensorflow/core/lib/png/png_io.cc:89] PNG warning: iCCP: known incorrect sRGB profile\n",
      "2024-04-30 14:02:27.336482: W tensorflow/core/lib/png/png_io.cc:89] PNG warning: iCCP: known incorrect sRGB profile\n",
      "2024-04-30 14:02:27.346969: W tensorflow/core/lib/png/png_io.cc:89] PNG warning: iCCP: known incorrect sRGB profile\n"
     ]
    },
    {
     "name": "stdout",
     "output_type": "stream",
     "text": [
      "\u001b[1m27/98\u001b[0m \u001b[32m━━━━━\u001b[0m\u001b[37m━━━━━━━━━━━━━━━\u001b[0m \u001b[1m19s\u001b[0m 269ms/step - accuracy: 0.3498 - loss: 2.2849"
     ]
    },
    {
     "name": "stderr",
     "output_type": "stream",
     "text": [
      "2024-04-30 14:02:28.733792: W tensorflow/core/lib/png/png_io.cc:89] PNG warning: iCCP: known incorrect sRGB profile\n"
     ]
    },
    {
     "name": "stdout",
     "output_type": "stream",
     "text": [
      "\u001b[1m29/98\u001b[0m \u001b[32m━━━━━\u001b[0m\u001b[37m━━━━━━━━━━━━━━━\u001b[0m \u001b[1m18s\u001b[0m 269ms/step - accuracy: 0.3516 - loss: 2.2781"
     ]
    },
    {
     "name": "stderr",
     "output_type": "stream",
     "text": [
      "2024-04-30 14:02:29.271125: W tensorflow/core/lib/png/png_io.cc:89] PNG warning: iCCP: known incorrect sRGB profile\n"
     ]
    },
    {
     "name": "stdout",
     "output_type": "stream",
     "text": [
      "\u001b[1m31/98\u001b[0m \u001b[32m━━━━━━\u001b[0m\u001b[37m━━━━━━━━━━━━━━\u001b[0m \u001b[1m18s\u001b[0m 269ms/step - accuracy: 0.3535 - loss: 2.2719"
     ]
    },
    {
     "name": "stderr",
     "output_type": "stream",
     "text": [
      "2024-04-30 14:02:29.572326: W tensorflow/core/lib/png/png_io.cc:89] PNG warning: iCCP: known incorrect sRGB profile\n"
     ]
    },
    {
     "name": "stdout",
     "output_type": "stream",
     "text": [
      "\u001b[1m36/98\u001b[0m \u001b[32m━━━━━━━\u001b[0m\u001b[37m━━━━━━━━━━━━━\u001b[0m \u001b[1m16s\u001b[0m 267ms/step - accuracy: 0.3575 - loss: 2.2588"
     ]
    },
    {
     "name": "stderr",
     "output_type": "stream",
     "text": [
      "2024-04-30 14:02:31.059130: W tensorflow/core/lib/png/png_io.cc:89] PNG warning: iCCP: known incorrect sRGB profile\n"
     ]
    },
    {
     "name": "stdout",
     "output_type": "stream",
     "text": [
      "\u001b[1m44/98\u001b[0m \u001b[32m━━━━━━━━\u001b[0m\u001b[37m━━━━━━━━━━━━\u001b[0m \u001b[1m14s\u001b[0m 268ms/step - accuracy: 0.3623 - loss: 2.2422"
     ]
    },
    {
     "name": "stderr",
     "output_type": "stream",
     "text": [
      "2024-04-30 14:02:33.095849: W tensorflow/core/lib/png/png_io.cc:89] PNG warning: iCCP: known incorrect sRGB profile\n"
     ]
    },
    {
     "name": "stdout",
     "output_type": "stream",
     "text": [
      "\u001b[1m49/98\u001b[0m \u001b[32m━━━━━━━━━━\u001b[0m\u001b[37m━━━━━━━━━━\u001b[0m \u001b[1m13s\u001b[0m 266ms/step - accuracy: 0.3655 - loss: 2.2317"
     ]
    },
    {
     "name": "stderr",
     "output_type": "stream",
     "text": [
      "2024-04-30 14:02:34.478198: W tensorflow/core/lib/png/png_io.cc:89] PNG warning: iCCP: known incorrect sRGB profile\n",
      "2024-04-30 14:02:34.570898: W tensorflow/core/lib/png/png_io.cc:89] PNG warning: iCCP: known incorrect sRGB profile\n"
     ]
    },
    {
     "name": "stdout",
     "output_type": "stream",
     "text": [
      "\u001b[1m67/98\u001b[0m \u001b[32m━━━━━━━━━━━━━\u001b[0m\u001b[37m━━━━━━━\u001b[0m \u001b[1m8s\u001b[0m 266ms/step - accuracy: 0.3782 - loss: 2.1929"
     ]
    },
    {
     "name": "stderr",
     "output_type": "stream",
     "text": [
      "2024-04-30 14:02:39.240984: W tensorflow/core/lib/png/png_io.cc:89] PNG warning: iCCP: known incorrect sRGB profile\n",
      "2024-04-30 14:02:39.270617: W tensorflow/core/lib/png/png_io.cc:89] PNG warning: iCCP: known incorrect sRGB profile\n"
     ]
    },
    {
     "name": "stdout",
     "output_type": "stream",
     "text": [
      "\u001b[1m75/98\u001b[0m \u001b[32m━━━━━━━━━━━━━━━\u001b[0m\u001b[37m━━━━━\u001b[0m \u001b[1m6s\u001b[0m 267ms/step - accuracy: 0.3834 - loss: 2.1766"
     ]
    },
    {
     "name": "stderr",
     "output_type": "stream",
     "text": [
      "2024-04-30 14:02:41.430607: W tensorflow/core/lib/png/png_io.cc:89] PNG warning: iCCP: known incorrect sRGB profile\n",
      "2024-04-30 14:02:41.448712: W tensorflow/core/lib/png/png_io.cc:89] PNG warning: iCCP: known incorrect sRGB profile\n"
     ]
    },
    {
     "name": "stdout",
     "output_type": "stream",
     "text": [
      "\u001b[1m78/98\u001b[0m \u001b[32m━━━━━━━━━━━━━━━\u001b[0m\u001b[37m━━━━━\u001b[0m \u001b[1m5s\u001b[0m 268ms/step - accuracy: 0.3853 - loss: 2.1708"
     ]
    },
    {
     "name": "stderr",
     "output_type": "stream",
     "text": [
      "2024-04-30 14:02:42.144047: W tensorflow/core/lib/png/png_io.cc:89] PNG warning: iCCP: known incorrect sRGB profile\n"
     ]
    },
    {
     "name": "stdout",
     "output_type": "stream",
     "text": [
      "\u001b[1m98/98\u001b[0m \u001b[32m━━━━━━━━━━━━━━━━━━━━\u001b[0m\u001b[37m\u001b[0m \u001b[1m0s\u001b[0m 257ms/step - accuracy: 0.3960 - loss: 2.1361"
     ]
    },
    {
     "name": "stderr",
     "output_type": "stream",
     "text": [
      "2024-04-30 14:02:47.411902: W tensorflow/core/lib/png/png_io.cc:89] PNG warning: iCCP: known incorrect sRGB profile\n",
      "2024-04-30 14:02:47.466092: W tensorflow/core/lib/png/png_io.cc:89] PNG warning: iCCP: known incorrect sRGB profile\n"
     ]
    },
    {
     "name": "stdout",
     "output_type": "stream",
     "text": [
      "\u001b[1m98/98\u001b[0m \u001b[32m━━━━━━━━━━━━━━━━━━━━\u001b[0m\u001b[37m\u001b[0m \u001b[1m29s\u001b[0m 284ms/step - accuracy: 0.3965 - loss: 2.1345 - val_accuracy: 0.7464 - val_loss: 1.0793\n",
      "Epoch 15/32\n",
      "\u001b[1m 3/98\u001b[0m \u001b[37m━━━━━━━━━━━━━━━━━━━━\u001b[0m \u001b[1m30s\u001b[0m 320ms/step - accuracy: 0.4740 - loss: 1.8034"
     ]
    },
    {
     "name": "stderr",
     "output_type": "stream",
     "text": [
      "2024-04-30 14:02:50.347989: W tensorflow/core/lib/png/png_io.cc:89] PNG warning: iCCP: known incorrect sRGB profile\n",
      "2024-04-30 14:02:50.377618: W tensorflow/core/lib/png/png_io.cc:89] PNG warning: iCCP: known incorrect sRGB profile\n"
     ]
    },
    {
     "name": "stdout",
     "output_type": "stream",
     "text": [
      "\u001b[1m 8/98\u001b[0m \u001b[32m━\u001b[0m\u001b[37m━━━━━━━━━━━━━━━━━━━\u001b[0m \u001b[1m32s\u001b[0m 361ms/step - accuracy: 0.4664 - loss: 1.8932"
     ]
    },
    {
     "name": "stderr",
     "output_type": "stream",
     "text": [
      "2024-04-30 14:02:52.348098: W tensorflow/core/lib/png/png_io.cc:89] PNG warning: iCCP: known incorrect sRGB profile\n"
     ]
    },
    {
     "name": "stdout",
     "output_type": "stream",
     "text": [
      "\u001b[1m13/98\u001b[0m \u001b[32m━━\u001b[0m\u001b[37m━━━━━━━━━━━━━━━━━━\u001b[0m \u001b[1m27s\u001b[0m 324ms/step - accuracy: 0.4620 - loss: 1.9061"
     ]
    },
    {
     "name": "stderr",
     "output_type": "stream",
     "text": [
      "2024-04-30 14:02:53.647505: W tensorflow/core/lib/png/png_io.cc:89] PNG warning: iCCP: known incorrect sRGB profile\n",
      "2024-04-30 14:02:53.661699: W tensorflow/core/lib/png/png_io.cc:89] PNG warning: iCCP: known incorrect sRGB profile\n"
     ]
    },
    {
     "name": "stdout",
     "output_type": "stream",
     "text": [
      "\u001b[1m18/98\u001b[0m \u001b[32m━━━\u001b[0m\u001b[37m━━━━━━━━━━━━━━━━━\u001b[0m \u001b[1m24s\u001b[0m 310ms/step - accuracy: 0.4621 - loss: 1.8942"
     ]
    },
    {
     "name": "stderr",
     "output_type": "stream",
     "text": [
      "2024-04-30 14:02:54.958700: W tensorflow/core/lib/png/png_io.cc:89] PNG warning: iCCP: known incorrect sRGB profile\n"
     ]
    },
    {
     "name": "stdout",
     "output_type": "stream",
     "text": [
      "\u001b[1m19/98\u001b[0m \u001b[32m━━━\u001b[0m\u001b[37m━━━━━━━━━━━━━━━━━\u001b[0m \u001b[1m24s\u001b[0m 309ms/step - accuracy: 0.4616 - loss: 1.8933"
     ]
    },
    {
     "name": "stderr",
     "output_type": "stream",
     "text": [
      "2024-04-30 14:02:55.324385: W tensorflow/core/lib/png/png_io.cc:89] PNG warning: iCCP: known incorrect sRGB profile\n"
     ]
    },
    {
     "name": "stdout",
     "output_type": "stream",
     "text": [
      "\u001b[1m20/98\u001b[0m \u001b[32m━━━━\u001b[0m\u001b[37m━━━━━━━━━━━━━━━━\u001b[0m \u001b[1m24s\u001b[0m 310ms/step - accuracy: 0.4616 - loss: 1.8916"
     ]
    },
    {
     "name": "stderr",
     "output_type": "stream",
     "text": [
      "2024-04-30 14:02:55.553992: W tensorflow/core/lib/png/png_io.cc:89] PNG warning: iCCP: known incorrect sRGB profile\n"
     ]
    },
    {
     "name": "stdout",
     "output_type": "stream",
     "text": [
      "\u001b[1m22/98\u001b[0m \u001b[32m━━━━\u001b[0m\u001b[37m━━━━━━━━━━━━━━━━\u001b[0m \u001b[1m23s\u001b[0m 306ms/step - accuracy: 0.4613 - loss: 1.8900"
     ]
    },
    {
     "name": "stderr",
     "output_type": "stream",
     "text": [
      "2024-04-30 14:02:56.203162: W tensorflow/core/lib/png/png_io.cc:89] PNG warning: iCCP: known incorrect sRGB profile\n"
     ]
    },
    {
     "name": "stdout",
     "output_type": "stream",
     "text": [
      "\u001b[1m25/98\u001b[0m \u001b[32m━━━━━\u001b[0m\u001b[37m━━━━━━━━━━━━━━━\u001b[0m \u001b[1m21s\u001b[0m 300ms/step - accuracy: 0.4615 - loss: 1.8847"
     ]
    },
    {
     "name": "stderr",
     "output_type": "stream",
     "text": [
      "2024-04-30 14:02:56.795180: W tensorflow/core/lib/png/png_io.cc:89] PNG warning: iCCP: known incorrect sRGB profile\n"
     ]
    },
    {
     "name": "stdout",
     "output_type": "stream",
     "text": [
      "\u001b[1m27/98\u001b[0m \u001b[32m━━━━━\u001b[0m\u001b[37m━━━━━━━━━━━━━━━\u001b[0m \u001b[1m21s\u001b[0m 297ms/step - accuracy: 0.4626 - loss: 1.8793"
     ]
    },
    {
     "name": "stderr",
     "output_type": "stream",
     "text": [
      "2024-04-30 14:02:57.515488: W tensorflow/core/lib/png/png_io.cc:89] PNG warning: iCCP: known incorrect sRGB profile\n",
      "2024-04-30 14:02:57.554131: W tensorflow/core/lib/png/png_io.cc:89] PNG warning: iCCP: known incorrect sRGB profile\n"
     ]
    },
    {
     "name": "stdout",
     "output_type": "stream",
     "text": [
      "\u001b[1m31/98\u001b[0m \u001b[32m━━━━━━\u001b[0m\u001b[37m━━━━━━━━━━━━━━\u001b[0m \u001b[1m19s\u001b[0m 290ms/step - accuracy: 0.4652 - loss: 1.8689"
     ]
    },
    {
     "name": "stderr",
     "output_type": "stream",
     "text": [
      "2024-04-30 14:02:58.471200: W tensorflow/core/lib/png/png_io.cc:89] PNG warning: iCCP: known incorrect sRGB profile\n"
     ]
    },
    {
     "name": "stdout",
     "output_type": "stream",
     "text": [
      "\u001b[1m33/98\u001b[0m \u001b[32m━━━━━━\u001b[0m\u001b[37m━━━━━━━━━━━━━━\u001b[0m \u001b[1m18s\u001b[0m 289ms/step - accuracy: 0.4666 - loss: 1.8645"
     ]
    },
    {
     "name": "stderr",
     "output_type": "stream",
     "text": [
      "2024-04-30 14:02:59.047251: W tensorflow/core/lib/png/png_io.cc:89] PNG warning: iCCP: known incorrect sRGB profile\n"
     ]
    },
    {
     "name": "stdout",
     "output_type": "stream",
     "text": [
      "\u001b[1m36/98\u001b[0m \u001b[32m━━━━━━━\u001b[0m\u001b[37m━━━━━━━━━━━━━\u001b[0m \u001b[1m17s\u001b[0m 285ms/step - accuracy: 0.4683 - loss: 1.8587"
     ]
    },
    {
     "name": "stderr",
     "output_type": "stream",
     "text": [
      "2024-04-30 14:02:59.787419: W tensorflow/core/lib/png/png_io.cc:89] PNG warning: iCCP: known incorrect sRGB profile\n"
     ]
    },
    {
     "name": "stdout",
     "output_type": "stream",
     "text": [
      "\u001b[1m39/98\u001b[0m \u001b[32m━━━━━━━\u001b[0m\u001b[37m━━━━━━━━━━━━━\u001b[0m \u001b[1m16s\u001b[0m 282ms/step - accuracy: 0.4696 - loss: 1.8547"
     ]
    },
    {
     "name": "stderr",
     "output_type": "stream",
     "text": [
      "2024-04-30 14:03:00.301186: W tensorflow/core/lib/png/png_io.cc:89] PNG warning: iCCP: known incorrect sRGB profile\n"
     ]
    },
    {
     "name": "stdout",
     "output_type": "stream",
     "text": [
      "\u001b[1m41/98\u001b[0m \u001b[32m━━━━━━━━\u001b[0m\u001b[37m━━━━━━━━━━━━\u001b[0m \u001b[1m16s\u001b[0m 283ms/step - accuracy: 0.4703 - loss: 1.8522"
     ]
    },
    {
     "name": "stderr",
     "output_type": "stream",
     "text": [
      "2024-04-30 14:03:01.109362: W tensorflow/core/lib/png/png_io.cc:89] PNG warning: iCCP: known incorrect sRGB profile\n"
     ]
    },
    {
     "name": "stdout",
     "output_type": "stream",
     "text": [
      "\u001b[1m57/98\u001b[0m \u001b[32m━━━━━━━━━━━\u001b[0m\u001b[37m━━━━━━━━━\u001b[0m \u001b[1m11s\u001b[0m 276ms/step - accuracy: 0.4730 - loss: 1.8403"
     ]
    },
    {
     "name": "stderr",
     "output_type": "stream",
     "text": [
      "2024-04-30 14:03:05.119246: W tensorflow/core/lib/png/png_io.cc:89] PNG warning: iCCP: known incorrect sRGB profile\n"
     ]
    },
    {
     "name": "stdout",
     "output_type": "stream",
     "text": [
      "\u001b[1m68/98\u001b[0m \u001b[32m━━━━━━━━━━━━━\u001b[0m\u001b[37m━━━━━━━\u001b[0m \u001b[1m8s\u001b[0m 276ms/step - accuracy: 0.4754 - loss: 1.8290"
     ]
    },
    {
     "name": "stderr",
     "output_type": "stream",
     "text": [
      "2024-04-30 14:03:08.198242: W tensorflow/core/lib/png/png_io.cc:89] PNG warning: iCCP: known incorrect sRGB profile\n"
     ]
    },
    {
     "name": "stdout",
     "output_type": "stream",
     "text": [
      "\u001b[1m70/98\u001b[0m \u001b[32m━━━━━━━━━━━━━━\u001b[0m\u001b[37m━━━━━━\u001b[0m \u001b[1m7s\u001b[0m 274ms/step - accuracy: 0.4759 - loss: 1.8267"
     ]
    },
    {
     "name": "stderr",
     "output_type": "stream",
     "text": [
      "2024-04-30 14:03:08.718406: W tensorflow/core/lib/png/png_io.cc:89] PNG warning: iCCP: known incorrect sRGB profile\n"
     ]
    },
    {
     "name": "stdout",
     "output_type": "stream",
     "text": [
      "\u001b[1m72/98\u001b[0m \u001b[32m━━━━━━━━━━━━━━\u001b[0m\u001b[37m━━━━━━\u001b[0m \u001b[1m7s\u001b[0m 275ms/step - accuracy: 0.4764 - loss: 1.8242"
     ]
    },
    {
     "name": "stderr",
     "output_type": "stream",
     "text": [
      "2024-04-30 14:03:09.321920: W tensorflow/core/lib/png/png_io.cc:89] PNG warning: iCCP: known incorrect sRGB profile\n"
     ]
    },
    {
     "name": "stdout",
     "output_type": "stream",
     "text": [
      "\u001b[1m74/98\u001b[0m \u001b[32m━━━━━━━━━━━━━━━\u001b[0m\u001b[37m━━━━━\u001b[0m \u001b[1m6s\u001b[0m 275ms/step - accuracy: 0.4770 - loss: 1.8217"
     ]
    },
    {
     "name": "stderr",
     "output_type": "stream",
     "text": [
      "2024-04-30 14:03:09.709267: W tensorflow/core/lib/png/png_io.cc:89] PNG warning: iCCP: known incorrect sRGB profile\n"
     ]
    },
    {
     "name": "stdout",
     "output_type": "stream",
     "text": [
      "\u001b[1m85/98\u001b[0m \u001b[32m━━━━━━━━━━━━━━━━━\u001b[0m\u001b[37m━━━\u001b[0m \u001b[1m3s\u001b[0m 274ms/step - accuracy: 0.4810 - loss: 1.8061"
     ]
    },
    {
     "name": "stderr",
     "output_type": "stream",
     "text": [
      "2024-04-30 14:03:12.776194: W tensorflow/core/lib/png/png_io.cc:89] PNG warning: iCCP: known incorrect sRGB profile\n"
     ]
    },
    {
     "name": "stdout",
     "output_type": "stream",
     "text": [
      "\u001b[1m98/98\u001b[0m \u001b[32m━━━━━━━━━━━━━━━━━━━━\u001b[0m\u001b[37m\u001b[0m \u001b[1m0s\u001b[0m 259ms/step - accuracy: 0.4856 - loss: 1.7902"
     ]
    },
    {
     "name": "stderr",
     "output_type": "stream",
     "text": [
      "2024-04-30 14:03:16.072758: W tensorflow/core/lib/png/png_io.cc:89] PNG warning: iCCP: known incorrect sRGB profile\n",
      "2024-04-30 14:03:16.243302: W tensorflow/core/lib/png/png_io.cc:89] PNG warning: iCCP: known incorrect sRGB profile\n"
     ]
    },
    {
     "name": "stdout",
     "output_type": "stream",
     "text": [
      "\u001b[1m98/98\u001b[0m \u001b[32m━━━━━━━━━━━━━━━━━━━━\u001b[0m\u001b[37m\u001b[0m \u001b[1m28s\u001b[0m 284ms/step - accuracy: 0.4859 - loss: 1.7891 - val_accuracy: 0.7436 - val_loss: 1.0388\n",
      "Epoch 16/32\n",
      "\u001b[1m 3/98\u001b[0m \u001b[37m━━━━━━━━━━━━━━━━━━━━\u001b[0m \u001b[1m32s\u001b[0m 339ms/step - accuracy: 0.5833 - loss: 1.5866"
     ]
    },
    {
     "name": "stderr",
     "output_type": "stream",
     "text": [
      "2024-04-30 14:03:18.786820: W tensorflow/core/lib/png/png_io.cc:89] PNG warning: iCCP: known incorrect sRGB profile\n",
      "2024-04-30 14:03:18.919113: W tensorflow/core/lib/png/png_io.cc:89] PNG warning: iCCP: known incorrect sRGB profile\n"
     ]
    },
    {
     "name": "stdout",
     "output_type": "stream",
     "text": [
      "\u001b[1m 9/98\u001b[0m \u001b[32m━\u001b[0m\u001b[37m━━━━━━━━━━━━━━━━━━━\u001b[0m \u001b[1m32s\u001b[0m 366ms/step - accuracy: 0.5500 - loss: 1.6501"
     ]
    },
    {
     "name": "stderr",
     "output_type": "stream",
     "text": [
      "2024-04-30 14:03:20.879242: W tensorflow/core/lib/png/png_io.cc:89] PNG warning: iCCP: known incorrect sRGB profile\n"
     ]
    },
    {
     "name": "stdout",
     "output_type": "stream",
     "text": [
      "\u001b[1m14/98\u001b[0m \u001b[32m━━\u001b[0m\u001b[37m━━━━━━━━━━━━━━━━━━\u001b[0m \u001b[1m27s\u001b[0m 329ms/step - accuracy: 0.5340 - loss: 1.6757"
     ]
    },
    {
     "name": "stderr",
     "output_type": "stream",
     "text": [
      "2024-04-30 14:03:21.985645: W tensorflow/core/lib/png/png_io.cc:89] PNG warning: iCCP: known incorrect sRGB profile\n"
     ]
    },
    {
     "name": "stdout",
     "output_type": "stream",
     "text": [
      "\u001b[1m19/98\u001b[0m \u001b[32m━━━\u001b[0m\u001b[37m━━━━━━━━━━━━━━━━━\u001b[0m \u001b[1m25s\u001b[0m 319ms/step - accuracy: 0.5256 - loss: 1.6881"
     ]
    },
    {
     "name": "stderr",
     "output_type": "stream",
     "text": [
      "2024-04-30 14:03:23.631553: W tensorflow/core/lib/png/png_io.cc:89] PNG warning: iCCP: known incorrect sRGB profile\n"
     ]
    },
    {
     "name": "stdout",
     "output_type": "stream",
     "text": [
      "\u001b[1m21/98\u001b[0m \u001b[32m━━━━\u001b[0m\u001b[37m━━━━━━━━━━━━━━━━\u001b[0m \u001b[1m24s\u001b[0m 315ms/step - accuracy: 0.5230 - loss: 1.6913"
     ]
    },
    {
     "name": "stderr",
     "output_type": "stream",
     "text": [
      "2024-04-30 14:03:24.073732: W tensorflow/core/lib/png/png_io.cc:89] PNG warning: iCCP: known incorrect sRGB profile\n"
     ]
    },
    {
     "name": "stdout",
     "output_type": "stream",
     "text": [
      "\u001b[1m24/98\u001b[0m \u001b[32m━━━━\u001b[0m\u001b[37m━━━━━━━━━━━━━━━━\u001b[0m \u001b[1m22s\u001b[0m 310ms/step - accuracy: 0.5199 - loss: 1.6953"
     ]
    },
    {
     "name": "stderr",
     "output_type": "stream",
     "text": [
      "2024-04-30 14:03:24.854583: W tensorflow/core/lib/png/png_io.cc:89] PNG warning: iCCP: known incorrect sRGB profile\n"
     ]
    },
    {
     "name": "stdout",
     "output_type": "stream",
     "text": [
      "\u001b[1m25/98\u001b[0m \u001b[32m━━━━━\u001b[0m\u001b[37m━━━━━━━━━━━━━━━\u001b[0m \u001b[1m22s\u001b[0m 309ms/step - accuracy: 0.5189 - loss: 1.6963"
     ]
    },
    {
     "name": "stderr",
     "output_type": "stream",
     "text": [
      "2024-04-30 14:03:25.241741: W tensorflow/core/lib/png/png_io.cc:89] PNG warning: iCCP: known incorrect sRGB profile\n"
     ]
    },
    {
     "name": "stdout",
     "output_type": "stream",
     "text": [
      "\u001b[1m26/98\u001b[0m \u001b[32m━━━━━\u001b[0m\u001b[37m━━━━━━━━━━━━━━━\u001b[0m \u001b[1m22s\u001b[0m 307ms/step - accuracy: 0.5180 - loss: 1.6976"
     ]
    },
    {
     "name": "stderr",
     "output_type": "stream",
     "text": [
      "2024-04-30 14:03:25.620928: W tensorflow/core/lib/png/png_io.cc:89] PNG warning: iCCP: known incorrect sRGB profile\n"
     ]
    },
    {
     "name": "stdout",
     "output_type": "stream",
     "text": [
      "\u001b[1m27/98\u001b[0m \u001b[32m━━━━━\u001b[0m\u001b[37m━━━━━━━━━━━━━━━\u001b[0m \u001b[1m21s\u001b[0m 306ms/step - accuracy: 0.5173 - loss: 1.6989"
     ]
    },
    {
     "name": "stderr",
     "output_type": "stream",
     "text": [
      "2024-04-30 14:03:25.840830: W tensorflow/core/lib/png/png_io.cc:89] PNG warning: iCCP: known incorrect sRGB profile\n",
      "2024-04-30 14:03:25.863605: W tensorflow/core/lib/png/png_io.cc:89] PNG warning: iCCP: known incorrect sRGB profile\n"
     ]
    },
    {
     "name": "stdout",
     "output_type": "stream",
     "text": [
      "\u001b[1m33/98\u001b[0m \u001b[32m━━━━━━\u001b[0m\u001b[37m━━━━━━━━━━━━━━\u001b[0m \u001b[1m19s\u001b[0m 295ms/step - accuracy: 0.5139 - loss: 1.7023"
     ]
    },
    {
     "name": "stderr",
     "output_type": "stream",
     "text": [
      "2024-04-30 14:03:27.367268: W tensorflow/core/lib/png/png_io.cc:89] PNG warning: iCCP: known incorrect sRGB profile\n"
     ]
    },
    {
     "name": "stdout",
     "output_type": "stream",
     "text": [
      "\u001b[1m35/98\u001b[0m \u001b[32m━━━━━━━\u001b[0m\u001b[37m━━━━━━━━━━━━━\u001b[0m \u001b[1m18s\u001b[0m 293ms/step - accuracy: 0.5132 - loss: 1.7018"
     ]
    },
    {
     "name": "stderr",
     "output_type": "stream",
     "text": [
      "2024-04-30 14:03:27.905447: W tensorflow/core/lib/png/png_io.cc:89] PNG warning: iCCP: known incorrect sRGB profile\n"
     ]
    },
    {
     "name": "stdout",
     "output_type": "stream",
     "text": [
      "\u001b[1m37/98\u001b[0m \u001b[32m━━━━━━━\u001b[0m\u001b[37m━━━━━━━━━━━━━\u001b[0m \u001b[1m17s\u001b[0m 292ms/step - accuracy: 0.5125 - loss: 1.7019"
     ]
    },
    {
     "name": "stderr",
     "output_type": "stream",
     "text": [
      "2024-04-30 14:03:28.285066: W tensorflow/core/lib/png/png_io.cc:89] PNG warning: iCCP: known incorrect sRGB profile\n"
     ]
    },
    {
     "name": "stdout",
     "output_type": "stream",
     "text": [
      "\u001b[1m40/98\u001b[0m \u001b[32m━━━━━━━━\u001b[0m\u001b[37m━━━━━━━━━━━━\u001b[0m \u001b[1m16s\u001b[0m 290ms/step - accuracy: 0.5118 - loss: 1.7014"
     ]
    },
    {
     "name": "stderr",
     "output_type": "stream",
     "text": [
      "2024-04-30 14:03:29.031637: W tensorflow/core/lib/png/png_io.cc:89] PNG warning: iCCP: known incorrect sRGB profile\n"
     ]
    },
    {
     "name": "stdout",
     "output_type": "stream",
     "text": [
      "\u001b[1m47/98\u001b[0m \u001b[32m━━━━━━━━━\u001b[0m\u001b[37m━━━━━━━━━━━\u001b[0m \u001b[1m14s\u001b[0m 286ms/step - accuracy: 0.5111 - loss: 1.7006"
     ]
    },
    {
     "name": "stderr",
     "output_type": "stream",
     "text": [
      "2024-04-30 14:03:31.126807: W tensorflow/core/lib/png/png_io.cc:89] PNG warning: iCCP: known incorrect sRGB profile\n"
     ]
    },
    {
     "name": "stdout",
     "output_type": "stream",
     "text": [
      "\u001b[1m49/98\u001b[0m \u001b[32m━━━━━━━━━━\u001b[0m\u001b[37m━━━━━━━━━━\u001b[0m \u001b[1m14s\u001b[0m 287ms/step - accuracy: 0.5111 - loss: 1.7000"
     ]
    },
    {
     "name": "stderr",
     "output_type": "stream",
     "text": [
      "2024-04-30 14:03:31.486920: W tensorflow/core/lib/png/png_io.cc:89] PNG warning: iCCP: known incorrect sRGB profile\n"
     ]
    },
    {
     "name": "stdout",
     "output_type": "stream",
     "text": [
      "\u001b[1m50/98\u001b[0m \u001b[32m━━━━━━━━━━\u001b[0m\u001b[37m━━━━━━━━━━\u001b[0m \u001b[1m13s\u001b[0m 287ms/step - accuracy: 0.5111 - loss: 1.6997"
     ]
    },
    {
     "name": "stderr",
     "output_type": "stream",
     "text": [
      "2024-04-30 14:03:31.759973: W tensorflow/core/lib/png/png_io.cc:89] PNG warning: iCCP: known incorrect sRGB profile\n"
     ]
    },
    {
     "name": "stdout",
     "output_type": "stream",
     "text": [
      "\u001b[1m59/98\u001b[0m \u001b[32m━━━━━━━━━━━━\u001b[0m\u001b[37m━━━━━━━━\u001b[0m \u001b[1m10s\u001b[0m 281ms/step - accuracy: 0.5120 - loss: 1.6956"
     ]
    },
    {
     "name": "stderr",
     "output_type": "stream",
     "text": [
      "2024-04-30 14:03:34.191218: W tensorflow/core/lib/png/png_io.cc:89] PNG warning: iCCP: known incorrect sRGB profile\n"
     ]
    },
    {
     "name": "stdout",
     "output_type": "stream",
     "text": [
      "\u001b[1m69/98\u001b[0m \u001b[32m━━━━━━━━━━━━━━\u001b[0m\u001b[37m━━━━━━\u001b[0m \u001b[1m7s\u001b[0m 275ms/step - accuracy: 0.5140 - loss: 1.6884"
     ]
    },
    {
     "name": "stderr",
     "output_type": "stream",
     "text": [
      "2024-04-30 14:03:36.706496: W tensorflow/core/lib/png/png_io.cc:89] PNG warning: iCCP: known incorrect sRGB profile\n"
     ]
    },
    {
     "name": "stdout",
     "output_type": "stream",
     "text": [
      "\u001b[1m71/98\u001b[0m \u001b[32m━━━━━━━━━━━━━━\u001b[0m\u001b[37m━━━━━━\u001b[0m \u001b[1m7s\u001b[0m 276ms/step - accuracy: 0.5145 - loss: 1.6865"
     ]
    },
    {
     "name": "stderr",
     "output_type": "stream",
     "text": [
      "2024-04-30 14:03:37.092924: W tensorflow/core/lib/png/png_io.cc:89] PNG warning: iCCP: known incorrect sRGB profile\n"
     ]
    },
    {
     "name": "stdout",
     "output_type": "stream",
     "text": [
      "\u001b[1m85/98\u001b[0m \u001b[32m━━━━━━━━━━━━━━━━━\u001b[0m\u001b[37m━━━\u001b[0m \u001b[1m3s\u001b[0m 275ms/step - accuracy: 0.5176 - loss: 1.6732"
     ]
    },
    {
     "name": "stderr",
     "output_type": "stream",
     "text": [
      "2024-04-30 14:03:40.993199: W tensorflow/core/lib/png/png_io.cc:89] PNG warning: iCCP: known incorrect sRGB profile\n",
      "2024-04-30 14:03:41.145164: W tensorflow/core/lib/png/png_io.cc:89] PNG warning: iCCP: known incorrect sRGB profile\n"
     ]
    },
    {
     "name": "stdout",
     "output_type": "stream",
     "text": [
      "\u001b[1m98/98\u001b[0m \u001b[32m━━━━━━━━━━━━━━━━━━━━\u001b[0m\u001b[37m\u001b[0m \u001b[1m0s\u001b[0m 259ms/step - accuracy: 0.5207 - loss: 1.6599"
     ]
    },
    {
     "name": "stderr",
     "output_type": "stream",
     "text": [
      "2024-04-30 14:03:43.154686: W tensorflow/core/lib/png/png_io.cc:89] PNG warning: iCCP: known incorrect sRGB profile\n",
      "2024-04-30 14:03:44.611993: W tensorflow/core/lib/png/png_io.cc:89] PNG warning: iCCP: known incorrect sRGB profile\n"
     ]
    },
    {
     "name": "stdout",
     "output_type": "stream",
     "text": [
      "\u001b[1m98/98\u001b[0m \u001b[32m━━━━━━━━━━━━━━━━━━━━\u001b[0m\u001b[37m\u001b[0m \u001b[1m28s\u001b[0m 285ms/step - accuracy: 0.5209 - loss: 1.6589 - val_accuracy: 0.8063 - val_loss: 0.8171\n",
      "Epoch 17/32\n",
      "\u001b[1m 4/98\u001b[0m \u001b[37m━━━━━━━━━━━━━━━━━━━━\u001b[0m \u001b[1m24s\u001b[0m 265ms/step - accuracy: 0.5501 - loss: 1.5273"
     ]
    },
    {
     "name": "stderr",
     "output_type": "stream",
     "text": [
      "2024-04-30 14:03:46.775765: W tensorflow/core/lib/png/png_io.cc:89] PNG warning: iCCP: known incorrect sRGB profile\n"
     ]
    },
    {
     "name": "stdout",
     "output_type": "stream",
     "text": [
      "\u001b[1m11/98\u001b[0m \u001b[32m━━\u001b[0m\u001b[37m━━━━━━━━━━━━━━━━━━\u001b[0m \u001b[1m27s\u001b[0m 314ms/step - accuracy: 0.5811 - loss: 1.4901"
     ]
    },
    {
     "name": "stderr",
     "output_type": "stream",
     "text": [
      "2024-04-30 14:03:49.325967: W tensorflow/core/lib/png/png_io.cc:89] PNG warning: iCCP: known incorrect sRGB profile\n"
     ]
    },
    {
     "name": "stdout",
     "output_type": "stream",
     "text": [
      "\u001b[1m13/98\u001b[0m \u001b[32m━━\u001b[0m\u001b[37m━━━━━━━━━━━━━━━━━━\u001b[0m \u001b[1m26s\u001b[0m 309ms/step - accuracy: 0.5846 - loss: 1.4872"
     ]
    },
    {
     "name": "stderr",
     "output_type": "stream",
     "text": [
      "2024-04-30 14:03:49.741590: W tensorflow/core/lib/png/png_io.cc:89] PNG warning: iCCP: known incorrect sRGB profile\n",
      "2024-04-30 14:03:49.892344: W tensorflow/core/lib/png/png_io.cc:89] PNG warning: iCCP: known incorrect sRGB profile\n"
     ]
    },
    {
     "name": "stdout",
     "output_type": "stream",
     "text": [
      "\u001b[1m15/98\u001b[0m \u001b[32m━━━\u001b[0m\u001b[37m━━━━━━━━━━━━━━━━━\u001b[0m \u001b[1m25s\u001b[0m 308ms/step - accuracy: 0.5877 - loss: 1.4821"
     ]
    },
    {
     "name": "stderr",
     "output_type": "stream",
     "text": [
      "2024-04-30 14:03:50.374319: W tensorflow/core/lib/png/png_io.cc:89] PNG warning: iCCP: known incorrect sRGB profile\n"
     ]
    },
    {
     "name": "stdout",
     "output_type": "stream",
     "text": [
      "\u001b[1m17/98\u001b[0m \u001b[32m━━━\u001b[0m\u001b[37m━━━━━━━━━━━━━━━━━\u001b[0m \u001b[1m24s\u001b[0m 304ms/step - accuracy: 0.5897 - loss: 1.4785"
     ]
    },
    {
     "name": "stderr",
     "output_type": "stream",
     "text": [
      "2024-04-30 14:03:51.005097: W tensorflow/core/lib/png/png_io.cc:89] PNG warning: iCCP: known incorrect sRGB profile\n"
     ]
    },
    {
     "name": "stdout",
     "output_type": "stream",
     "text": [
      "\u001b[1m21/98\u001b[0m \u001b[32m━━━━\u001b[0m\u001b[37m━━━━━━━━━━━━━━━━\u001b[0m \u001b[1m22s\u001b[0m 297ms/step - accuracy: 0.5924 - loss: 1.4704"
     ]
    },
    {
     "name": "stderr",
     "output_type": "stream",
     "text": [
      "2024-04-30 14:03:51.952375: W tensorflow/core/lib/png/png_io.cc:89] PNG warning: iCCP: known incorrect sRGB profile\n"
     ]
    },
    {
     "name": "stdout",
     "output_type": "stream",
     "text": [
      "\u001b[1m23/98\u001b[0m \u001b[32m━━━━\u001b[0m\u001b[37m━━━━━━━━━━━━━━━━\u001b[0m \u001b[1m22s\u001b[0m 296ms/step - accuracy: 0.5925 - loss: 1.4679"
     ]
    },
    {
     "name": "stderr",
     "output_type": "stream",
     "text": [
      "2024-04-30 14:03:52.523401: W tensorflow/core/lib/png/png_io.cc:89] PNG warning: iCCP: known incorrect sRGB profile\n"
     ]
    },
    {
     "name": "stdout",
     "output_type": "stream",
     "text": [
      "\u001b[1m25/98\u001b[0m \u001b[32m━━━━━\u001b[0m\u001b[37m━━━━━━━━━━━━━━━\u001b[0m \u001b[1m21s\u001b[0m 293ms/step - accuracy: 0.5928 - loss: 1.4647"
     ]
    },
    {
     "name": "stderr",
     "output_type": "stream",
     "text": [
      "2024-04-30 14:03:53.175334: W tensorflow/core/lib/png/png_io.cc:89] PNG warning: iCCP: known incorrect sRGB profile\n"
     ]
    },
    {
     "name": "stdout",
     "output_type": "stream",
     "text": [
      "\u001b[1m31/98\u001b[0m \u001b[32m━━━━━━\u001b[0m\u001b[37m━━━━━━━━━━━━━━\u001b[0m \u001b[1m19s\u001b[0m 285ms/step - accuracy: 0.5935 - loss: 1.4556"
     ]
    },
    {
     "name": "stderr",
     "output_type": "stream",
     "text": [
      "2024-04-30 14:03:54.576488: W tensorflow/core/lib/png/png_io.cc:89] PNG warning: iCCP: known incorrect sRGB profile\n",
      "2024-04-30 14:03:54.735630: W tensorflow/core/lib/png/png_io.cc:89] PNG warning: iCCP: known incorrect sRGB profile\n"
     ]
    },
    {
     "name": "stdout",
     "output_type": "stream",
     "text": [
      "\u001b[1m34/98\u001b[0m \u001b[32m━━━━━━\u001b[0m\u001b[37m━━━━━━━━━━━━━━\u001b[0m \u001b[1m18s\u001b[0m 282ms/step - accuracy: 0.5939 - loss: 1.4518"
     ]
    },
    {
     "name": "stderr",
     "output_type": "stream",
     "text": [
      "2024-04-30 14:03:55.334222: W tensorflow/core/lib/png/png_io.cc:89] PNG warning: iCCP: known incorrect sRGB profile\n"
     ]
    },
    {
     "name": "stdout",
     "output_type": "stream",
     "text": [
      "\u001b[1m35/98\u001b[0m \u001b[32m━━━━━━━\u001b[0m\u001b[37m━━━━━━━━━━━━━\u001b[0m \u001b[1m17s\u001b[0m 281ms/step - accuracy: 0.5943 - loss: 1.4502"
     ]
    },
    {
     "name": "stderr",
     "output_type": "stream",
     "text": [
      "2024-04-30 14:03:55.537601: W tensorflow/core/lib/png/png_io.cc:89] PNG warning: iCCP: known incorrect sRGB profile\n"
     ]
    },
    {
     "name": "stdout",
     "output_type": "stream",
     "text": [
      "\u001b[1m37/98\u001b[0m \u001b[32m━━━━━━━\u001b[0m\u001b[37m━━━━━━━━━━━━━\u001b[0m \u001b[1m17s\u001b[0m 279ms/step - accuracy: 0.5952 - loss: 1.4460"
     ]
    },
    {
     "name": "stderr",
     "output_type": "stream",
     "text": [
      "2024-04-30 14:03:56.225768: W tensorflow/core/lib/png/png_io.cc:89] PNG warning: iCCP: known incorrect sRGB profile\n"
     ]
    },
    {
     "name": "stdout",
     "output_type": "stream",
     "text": [
      "\u001b[1m41/98\u001b[0m \u001b[32m━━━━━━━━\u001b[0m\u001b[37m━━━━━━━━━━━━\u001b[0m \u001b[1m15s\u001b[0m 276ms/step - accuracy: 0.5969 - loss: 1.4372"
     ]
    },
    {
     "name": "stderr",
     "output_type": "stream",
     "text": [
      "2024-04-30 14:03:57.040710: W tensorflow/core/lib/png/png_io.cc:89] PNG warning: iCCP: known incorrect sRGB profile\n",
      "2024-04-30 14:03:57.221241: W tensorflow/core/lib/png/png_io.cc:89] PNG warning: iCCP: known incorrect sRGB profile\n"
     ]
    },
    {
     "name": "stdout",
     "output_type": "stream",
     "text": [
      "\u001b[1m50/98\u001b[0m \u001b[32m━━━━━━━━━━\u001b[0m\u001b[37m━━━━━━━━━━\u001b[0m \u001b[1m13s\u001b[0m 272ms/step - accuracy: 0.5997 - loss: 1.4182"
     ]
    },
    {
     "name": "stderr",
     "output_type": "stream",
     "text": [
      "2024-04-30 14:03:59.524570: W tensorflow/core/lib/png/png_io.cc:89] PNG warning: iCCP: known incorrect sRGB profile\n"
     ]
    },
    {
     "name": "stdout",
     "output_type": "stream",
     "text": [
      "\u001b[1m64/98\u001b[0m \u001b[32m━━━━━━━━━━━━━\u001b[0m\u001b[37m━━━━━━━\u001b[0m \u001b[1m9s\u001b[0m 272ms/step - accuracy: 0.6023 - loss: 1.3963"
     ]
    },
    {
     "name": "stderr",
     "output_type": "stream",
     "text": [
      "2024-04-30 14:04:03.317694: W tensorflow/core/lib/png/png_io.cc:89] PNG warning: iCCP: known incorrect sRGB profile\n"
     ]
    },
    {
     "name": "stdout",
     "output_type": "stream",
     "text": [
      "\u001b[1m67/98\u001b[0m \u001b[32m━━━━━━━━━━━━━\u001b[0m\u001b[37m━━━━━━━\u001b[0m \u001b[1m8s\u001b[0m 272ms/step - accuracy: 0.6026 - loss: 1.3927"
     ]
    },
    {
     "name": "stderr",
     "output_type": "stream",
     "text": [
      "2024-04-30 14:04:04.128245: W tensorflow/core/lib/png/png_io.cc:89] PNG warning: iCCP: known incorrect sRGB profile\n"
     ]
    },
    {
     "name": "stdout",
     "output_type": "stream",
     "text": [
      "\u001b[1m72/98\u001b[0m \u001b[32m━━━━━━━━━━━━━━\u001b[0m\u001b[37m━━━━━━\u001b[0m \u001b[1m7s\u001b[0m 270ms/step - accuracy: 0.6033 - loss: 1.3871"
     ]
    },
    {
     "name": "stderr",
     "output_type": "stream",
     "text": [
      "2024-04-30 14:04:05.312530: W tensorflow/core/lib/png/png_io.cc:89] PNG warning: iCCP: known incorrect sRGB profile\n"
     ]
    },
    {
     "name": "stdout",
     "output_type": "stream",
     "text": [
      "\u001b[1m76/98\u001b[0m \u001b[32m━━━━━━━━━━━━━━━\u001b[0m\u001b[37m━━━━━\u001b[0m \u001b[1m5s\u001b[0m 270ms/step - accuracy: 0.6039 - loss: 1.3825"
     ]
    },
    {
     "name": "stderr",
     "output_type": "stream",
     "text": [
      "2024-04-30 14:04:06.237155: W tensorflow/core/lib/png/png_io.cc:89] PNG warning: iCCP: known incorrect sRGB profile\n"
     ]
    },
    {
     "name": "stdout",
     "output_type": "stream",
     "text": [
      "\u001b[1m86/98\u001b[0m \u001b[32m━━━━━━━━━━━━━━━━━\u001b[0m\u001b[37m━━━\u001b[0m \u001b[1m3s\u001b[0m 271ms/step - accuracy: 0.6055 - loss: 1.3737"
     ]
    },
    {
     "name": "stderr",
     "output_type": "stream",
     "text": [
      "2024-04-30 14:04:09.051722: W tensorflow/core/lib/png/png_io.cc:89] PNG warning: iCCP: known incorrect sRGB profile\n"
     ]
    },
    {
     "name": "stdout",
     "output_type": "stream",
     "text": [
      "\u001b[1m88/98\u001b[0m \u001b[32m━━━━━━━━━━━━━━━━━\u001b[0m\u001b[37m━━━\u001b[0m \u001b[1m2s\u001b[0m 271ms/step - accuracy: 0.6058 - loss: 1.3723"
     ]
    },
    {
     "name": "stderr",
     "output_type": "stream",
     "text": [
      "2024-04-30 14:04:09.567554: W tensorflow/core/lib/png/png_io.cc:89] PNG warning: iCCP: known incorrect sRGB profile\n"
     ]
    },
    {
     "name": "stdout",
     "output_type": "stream",
     "text": [
      "\u001b[1m98/98\u001b[0m \u001b[32m━━━━━━━━━━━━━━━━━━━━\u001b[0m\u001b[37m\u001b[0m \u001b[1m0s\u001b[0m 258ms/step - accuracy: 0.6072 - loss: 1.3657"
     ]
    },
    {
     "name": "stderr",
     "output_type": "stream",
     "text": [
      "2024-04-30 14:04:12.675598: W tensorflow/core/lib/png/png_io.cc:89] PNG warning: iCCP: known incorrect sRGB profile\n",
      "2024-04-30 14:04:12.800542: W tensorflow/core/lib/png/png_io.cc:89] PNG warning: iCCP: known incorrect sRGB profile\n"
     ]
    },
    {
     "name": "stdout",
     "output_type": "stream",
     "text": [
      "\u001b[1m98/98\u001b[0m \u001b[32m━━━━━━━━━━━━━━━━━━━━\u001b[0m\u001b[37m\u001b[0m \u001b[1m28s\u001b[0m 284ms/step - accuracy: 0.6073 - loss: 1.3650 - val_accuracy: 0.8148 - val_loss: 0.8418\n",
      "Epoch 18/32\n",
      "\u001b[1m 1/98\u001b[0m \u001b[37m━━━━━━━━━━━━━━━━━━━━\u001b[0m \u001b[1m53s\u001b[0m 556ms/step - accuracy: 0.5625 - loss: 1.6705"
     ]
    },
    {
     "name": "stderr",
     "output_type": "stream",
     "text": [
      "2024-04-30 14:04:14.132036: W tensorflow/core/lib/png/png_io.cc:89] PNG warning: iCCP: known incorrect sRGB profile\n",
      "2024-04-30 14:04:14.670173: W tensorflow/core/lib/png/png_io.cc:89] PNG warning: iCCP: known incorrect sRGB profile\n",
      "2024-04-30 14:04:14.778919: W tensorflow/core/lib/png/png_io.cc:89] PNG warning: iCCP: known incorrect sRGB profile\n"
     ]
    },
    {
     "name": "stdout",
     "output_type": "stream",
     "text": [
      "\u001b[1m12/98\u001b[0m \u001b[32m━━\u001b[0m\u001b[37m━━━━━━━━━━━━━━━━━━\u001b[0m \u001b[1m28s\u001b[0m 328ms/step - accuracy: 0.6068 - loss: 1.4130"
     ]
    },
    {
     "name": "stderr",
     "output_type": "stream",
     "text": [
      "2024-04-30 14:04:17.775097: W tensorflow/core/lib/png/png_io.cc:89] PNG warning: iCCP: known incorrect sRGB profile\n",
      "2024-04-30 14:04:17.836765: W tensorflow/core/lib/png/png_io.cc:89] PNG warning: iCCP: known incorrect sRGB profile\n",
      "2024-04-30 14:04:17.964184: W tensorflow/core/lib/png/png_io.cc:89] PNG warning: iCCP: known incorrect sRGB profile\n"
     ]
    },
    {
     "name": "stdout",
     "output_type": "stream",
     "text": [
      "\u001b[1m15/98\u001b[0m \u001b[32m━━━\u001b[0m\u001b[37m━━━━━━━━━━━━━━━━━\u001b[0m \u001b[1m26s\u001b[0m 316ms/step - accuracy: 0.6053 - loss: 1.4062"
     ]
    },
    {
     "name": "stderr",
     "output_type": "stream",
     "text": [
      "2024-04-30 14:04:18.660208: W tensorflow/core/lib/png/png_io.cc:89] PNG warning: iCCP: known incorrect sRGB profile\n"
     ]
    },
    {
     "name": "stdout",
     "output_type": "stream",
     "text": [
      "\u001b[1m20/98\u001b[0m \u001b[32m━━━━\u001b[0m\u001b[37m━━━━━━━━━━━━━━━━\u001b[0m \u001b[1m23s\u001b[0m 305ms/step - accuracy: 0.6052 - loss: 1.3915"
     ]
    },
    {
     "name": "stderr",
     "output_type": "stream",
     "text": [
      "2024-04-30 14:04:19.962196: W tensorflow/core/lib/png/png_io.cc:89] PNG warning: iCCP: known incorrect sRGB profile\n",
      "2024-04-30 14:04:19.990767: W tensorflow/core/lib/png/png_io.cc:89] PNG warning: iCCP: known incorrect sRGB profile\n"
     ]
    },
    {
     "name": "stdout",
     "output_type": "stream",
     "text": [
      "\u001b[1m27/98\u001b[0m \u001b[32m━━━━━\u001b[0m\u001b[37m━━━━━━━━━━━━━━━\u001b[0m \u001b[1m20s\u001b[0m 289ms/step - accuracy: 0.6074 - loss: 1.3689"
     ]
    },
    {
     "name": "stderr",
     "output_type": "stream",
     "text": [
      "2024-04-30 14:04:21.801226: W tensorflow/core/lib/png/png_io.cc:89] PNG warning: iCCP: known incorrect sRGB profile\n"
     ]
    },
    {
     "name": "stdout",
     "output_type": "stream",
     "text": [
      "\u001b[1m28/98\u001b[0m \u001b[32m━━━━━\u001b[0m\u001b[37m━━━━━━━━━━━━━━━\u001b[0m \u001b[1m20s\u001b[0m 287ms/step - accuracy: 0.6079 - loss: 1.3653"
     ]
    },
    {
     "name": "stderr",
     "output_type": "stream",
     "text": [
      "2024-04-30 14:04:22.031548: W tensorflow/core/lib/png/png_io.cc:89] PNG warning: iCCP: known incorrect sRGB profile\n"
     ]
    },
    {
     "name": "stdout",
     "output_type": "stream",
     "text": [
      "\u001b[1m30/98\u001b[0m \u001b[32m━━━━━━\u001b[0m\u001b[37m━━━━━━━━━━━━━━\u001b[0m \u001b[1m19s\u001b[0m 284ms/step - accuracy: 0.6085 - loss: 1.3596"
     ]
    },
    {
     "name": "stderr",
     "output_type": "stream",
     "text": [
      "2024-04-30 14:04:22.335663: W tensorflow/core/lib/png/png_io.cc:89] PNG warning: iCCP: known incorrect sRGB profile\n",
      "2024-04-30 14:04:22.496535: W tensorflow/core/lib/png/png_io.cc:89] PNG warning: iCCP: known incorrect sRGB profile\n"
     ]
    },
    {
     "name": "stdout",
     "output_type": "stream",
     "text": [
      "\u001b[1m32/98\u001b[0m \u001b[32m━━━━━━\u001b[0m\u001b[37m━━━━━━━━━━━━━━\u001b[0m \u001b[1m18s\u001b[0m 282ms/step - accuracy: 0.6091 - loss: 1.3545"
     ]
    },
    {
     "name": "stderr",
     "output_type": "stream",
     "text": [
      "2024-04-30 14:04:23.022320: W tensorflow/core/lib/png/png_io.cc:89] PNG warning: iCCP: known incorrect sRGB profile\n"
     ]
    },
    {
     "name": "stdout",
     "output_type": "stream",
     "text": [
      "\u001b[1m37/98\u001b[0m \u001b[32m━━━━━━━\u001b[0m\u001b[37m━━━━━━━━━━━━━\u001b[0m \u001b[1m17s\u001b[0m 279ms/step - accuracy: 0.6106 - loss: 1.3429"
     ]
    },
    {
     "name": "stderr",
     "output_type": "stream",
     "text": [
      "2024-04-30 14:04:24.105867: W tensorflow/core/lib/png/png_io.cc:89] PNG warning: iCCP: known incorrect sRGB profile\n"
     ]
    },
    {
     "name": "stdout",
     "output_type": "stream",
     "text": [
      "\u001b[1m40/98\u001b[0m \u001b[32m━━━━━━━━\u001b[0m\u001b[37m━━━━━━━━━━━━\u001b[0m \u001b[1m16s\u001b[0m 277ms/step - accuracy: 0.6116 - loss: 1.3377"
     ]
    },
    {
     "name": "stderr",
     "output_type": "stream",
     "text": [
      "2024-04-30 14:04:25.074320: W tensorflow/core/lib/png/png_io.cc:89] PNG warning: iCCP: known incorrect sRGB profile\n"
     ]
    },
    {
     "name": "stdout",
     "output_type": "stream",
     "text": [
      "\u001b[1m43/98\u001b[0m \u001b[32m━━━━━━━━\u001b[0m\u001b[37m━━━━━━━━━━━━\u001b[0m \u001b[1m15s\u001b[0m 277ms/step - accuracy: 0.6125 - loss: 1.3335"
     ]
    },
    {
     "name": "stderr",
     "output_type": "stream",
     "text": [
      "2024-04-30 14:04:25.785931: W tensorflow/core/lib/png/png_io.cc:89] PNG warning: iCCP: known incorrect sRGB profile\n"
     ]
    },
    {
     "name": "stdout",
     "output_type": "stream",
     "text": [
      "\u001b[1m51/98\u001b[0m \u001b[32m━━━━━━━━━━\u001b[0m\u001b[37m━━━━━━━━━━\u001b[0m \u001b[1m12s\u001b[0m 275ms/step - accuracy: 0.6153 - loss: 1.3225"
     ]
    },
    {
     "name": "stderr",
     "output_type": "stream",
     "text": [
      "2024-04-30 14:04:28.064235: W tensorflow/core/lib/png/png_io.cc:89] PNG warning: iCCP: known incorrect sRGB profile\n"
     ]
    },
    {
     "name": "stdout",
     "output_type": "stream",
     "text": [
      "\u001b[1m71/98\u001b[0m \u001b[32m━━━━━━━━━━━━━━\u001b[0m\u001b[37m━━━━━━\u001b[0m \u001b[1m7s\u001b[0m 270ms/step - accuracy: 0.6201 - loss: 1.3039"
     ]
    },
    {
     "name": "stderr",
     "output_type": "stream",
     "text": [
      "2024-04-30 14:04:33.185667: W tensorflow/core/lib/png/png_io.cc:89] PNG warning: iCCP: known incorrect sRGB profile\n"
     ]
    },
    {
     "name": "stdout",
     "output_type": "stream",
     "text": [
      "\u001b[1m73/98\u001b[0m \u001b[32m━━━━━━━━━━━━━━\u001b[0m\u001b[37m━━━━━━\u001b[0m \u001b[1m6s\u001b[0m 271ms/step - accuracy: 0.6205 - loss: 1.3022"
     ]
    },
    {
     "name": "stderr",
     "output_type": "stream",
     "text": [
      "2024-04-30 14:04:33.749593: W tensorflow/core/lib/png/png_io.cc:89] PNG warning: iCCP: known incorrect sRGB profile\n"
     ]
    },
    {
     "name": "stdout",
     "output_type": "stream",
     "text": [
      "\u001b[1m78/98\u001b[0m \u001b[32m━━━━━━━━━━━━━━━\u001b[0m\u001b[37m━━━━━\u001b[0m \u001b[1m5s\u001b[0m 270ms/step - accuracy: 0.6217 - loss: 1.2980"
     ]
    },
    {
     "name": "stderr",
     "output_type": "stream",
     "text": [
      "2024-04-30 14:04:34.962519: W tensorflow/core/lib/png/png_io.cc:89] PNG warning: iCCP: known incorrect sRGB profile\n"
     ]
    },
    {
     "name": "stdout",
     "output_type": "stream",
     "text": [
      "\u001b[1m86/98\u001b[0m \u001b[32m━━━━━━━━━━━━━━━━━\u001b[0m\u001b[37m━━━\u001b[0m \u001b[1m3s\u001b[0m 270ms/step - accuracy: 0.6236 - loss: 1.2913"
     ]
    },
    {
     "name": "stderr",
     "output_type": "stream",
     "text": [
      "2024-04-30 14:04:37.191265: W tensorflow/core/lib/png/png_io.cc:89] PNG warning: iCCP: known incorrect sRGB profile\n"
     ]
    },
    {
     "name": "stdout",
     "output_type": "stream",
     "text": [
      "\u001b[1m87/98\u001b[0m \u001b[32m━━━━━━━━━━━━━━━━━\u001b[0m\u001b[37m━━━\u001b[0m \u001b[1m2s\u001b[0m 270ms/step - accuracy: 0.6238 - loss: 1.2904"
     ]
    },
    {
     "name": "stderr",
     "output_type": "stream",
     "text": [
      "2024-04-30 14:04:37.471954: W tensorflow/core/lib/png/png_io.cc:89] PNG warning: iCCP: known incorrect sRGB profile\n"
     ]
    },
    {
     "name": "stdout",
     "output_type": "stream",
     "text": [
      "\u001b[1m98/98\u001b[0m \u001b[32m━━━━━━━━━━━━━━━━━━━━\u001b[0m\u001b[37m\u001b[0m \u001b[1m0s\u001b[0m 256ms/step - accuracy: 0.6262 - loss: 1.2817"
     ]
    },
    {
     "name": "stderr",
     "output_type": "stream",
     "text": [
      "2024-04-30 14:04:39.167597: W tensorflow/core/lib/png/png_io.cc:89] PNG warning: iCCP: known incorrect sRGB profile\n",
      "2024-04-30 14:04:40.001152: W tensorflow/core/lib/png/png_io.cc:89] PNG warning: iCCP: known incorrect sRGB profile\n"
     ]
    },
    {
     "name": "stdout",
     "output_type": "stream",
     "text": [
      "\u001b[1m98/98\u001b[0m \u001b[32m━━━━━━━━━━━━━━━━━━━━\u001b[0m\u001b[37m\u001b[0m \u001b[1m28s\u001b[0m 282ms/step - accuracy: 0.6265 - loss: 1.2809 - val_accuracy: 0.8462 - val_loss: 0.7307\n",
      "Epoch 19/32\n",
      "\u001b[1m 2/98\u001b[0m \u001b[37m━━━━━━━━━━━━━━━━━━━━\u001b[0m \u001b[1m38s\u001b[0m 401ms/step - accuracy: 0.5781 - loss: 1.2240"
     ]
    },
    {
     "name": "stderr",
     "output_type": "stream",
     "text": [
      "2024-04-30 14:04:42.465504: W tensorflow/core/lib/png/png_io.cc:89] PNG warning: iCCP: known incorrect sRGB profile\n"
     ]
    },
    {
     "name": "stdout",
     "output_type": "stream",
     "text": [
      "\u001b[1m 3/98\u001b[0m \u001b[37m━━━━━━━━━━━━━━━━━━━━\u001b[0m \u001b[1m45s\u001b[0m 483ms/step - accuracy: 0.5590 - loss: 1.2930"
     ]
    },
    {
     "name": "stderr",
     "output_type": "stream",
     "text": [
      "2024-04-30 14:04:42.940670: W tensorflow/core/lib/png/png_io.cc:89] PNG warning: iCCP: known incorrect sRGB profile\n"
     ]
    },
    {
     "name": "stdout",
     "output_type": "stream",
     "text": [
      "\u001b[1m12/98\u001b[0m \u001b[32m━━\u001b[0m\u001b[37m━━━━━━━━━━━━━━━━━━\u001b[0m \u001b[1m27s\u001b[0m 324ms/step - accuracy: 0.5774 - loss: 1.3537"
     ]
    },
    {
     "name": "stderr",
     "output_type": "stream",
     "text": [
      "2024-04-30 14:04:45.473184: W tensorflow/core/lib/png/png_io.cc:89] PNG warning: iCCP: known incorrect sRGB profile\n"
     ]
    },
    {
     "name": "stdout",
     "output_type": "stream",
     "text": [
      "\u001b[1m14/98\u001b[0m \u001b[32m━━\u001b[0m\u001b[37m━━━━━━━━━━━━━━━━━━\u001b[0m \u001b[1m26s\u001b[0m 315ms/step - accuracy: 0.5838 - loss: 1.3433"
     ]
    },
    {
     "name": "stderr",
     "output_type": "stream",
     "text": [
      "2024-04-30 14:04:46.027562: W tensorflow/core/lib/png/png_io.cc:89] PNG warning: iCCP: known incorrect sRGB profile\n",
      "2024-04-30 14:04:46.184659: W tensorflow/core/lib/png/png_io.cc:89] PNG warning: iCCP: known incorrect sRGB profile\n"
     ]
    },
    {
     "name": "stdout",
     "output_type": "stream",
     "text": [
      "\u001b[1m15/98\u001b[0m \u001b[32m━━━\u001b[0m\u001b[37m━━━━━━━━━━━━━━━━━\u001b[0m \u001b[1m26s\u001b[0m 313ms/step - accuracy: 0.5870 - loss: 1.3379"
     ]
    },
    {
     "name": "stderr",
     "output_type": "stream",
     "text": [
      "2024-04-30 14:04:46.366717: W tensorflow/core/lib/png/png_io.cc:89] PNG warning: iCCP: known incorrect sRGB profile\n"
     ]
    },
    {
     "name": "stdout",
     "output_type": "stream",
     "text": [
      "\u001b[1m16/98\u001b[0m \u001b[32m━━━\u001b[0m\u001b[37m━━━━━━━━━━━━━━━━━\u001b[0m \u001b[1m25s\u001b[0m 311ms/step - accuracy: 0.5897 - loss: 1.3334"
     ]
    },
    {
     "name": "stderr",
     "output_type": "stream",
     "text": [
      "2024-04-30 14:04:46.676537: W tensorflow/core/lib/png/png_io.cc:89] PNG warning: iCCP: known incorrect sRGB profile\n"
     ]
    },
    {
     "name": "stdout",
     "output_type": "stream",
     "text": [
      "\u001b[1m26/98\u001b[0m \u001b[32m━━━━━\u001b[0m\u001b[37m━━━━━━━━━━━━━━━\u001b[0m \u001b[1m21s\u001b[0m 295ms/step - accuracy: 0.6094 - loss: 1.2948"
     ]
    },
    {
     "name": "stderr",
     "output_type": "stream",
     "text": [
      "2024-04-30 14:04:49.181878: W tensorflow/core/lib/png/png_io.cc:89] PNG warning: iCCP: known incorrect sRGB profile\n"
     ]
    },
    {
     "name": "stdout",
     "output_type": "stream",
     "text": [
      "\u001b[1m28/98\u001b[0m \u001b[32m━━━━━\u001b[0m\u001b[37m━━━━━━━━━━━━━━━\u001b[0m \u001b[1m20s\u001b[0m 295ms/step - accuracy: 0.6129 - loss: 1.2858"
     ]
    },
    {
     "name": "stderr",
     "output_type": "stream",
     "text": [
      "2024-04-30 14:04:49.924142: W tensorflow/core/lib/png/png_io.cc:89] PNG warning: iCCP: known incorrect sRGB profile\n"
     ]
    },
    {
     "name": "stdout",
     "output_type": "stream",
     "text": [
      "\u001b[1m30/98\u001b[0m \u001b[32m━━━━━━\u001b[0m\u001b[37m━━━━━━━━━━━━━━\u001b[0m \u001b[1m19s\u001b[0m 291ms/step - accuracy: 0.6163 - loss: 1.2768"
     ]
    },
    {
     "name": "stderr",
     "output_type": "stream",
     "text": [
      "2024-04-30 14:04:50.333183: W tensorflow/core/lib/png/png_io.cc:89] PNG warning: iCCP: known incorrect sRGB profile\n"
     ]
    },
    {
     "name": "stdout",
     "output_type": "stream",
     "text": [
      "\u001b[1m32/98\u001b[0m \u001b[32m━━━━━━\u001b[0m\u001b[37m━━━━━━━━━━━━━━\u001b[0m \u001b[1m19s\u001b[0m 289ms/step - accuracy: 0.6192 - loss: 1.2692"
     ]
    },
    {
     "name": "stderr",
     "output_type": "stream",
     "text": [
      "2024-04-30 14:04:50.779205: W tensorflow/core/lib/png/png_io.cc:89] PNG warning: iCCP: known incorrect sRGB profile\n",
      "2024-04-30 14:04:50.790362: W tensorflow/core/lib/png/png_io.cc:89] PNG warning: iCCP: known incorrect sRGB profile\n"
     ]
    },
    {
     "name": "stdout",
     "output_type": "stream",
     "text": [
      "\u001b[1m37/98\u001b[0m \u001b[32m━━━━━━━\u001b[0m\u001b[37m━━━━━━━━━━━━━\u001b[0m \u001b[1m17s\u001b[0m 284ms/step - accuracy: 0.6243 - loss: 1.2545"
     ]
    },
    {
     "name": "stderr",
     "output_type": "stream",
     "text": [
      "2024-04-30 14:04:52.086141: W tensorflow/core/lib/png/png_io.cc:89] PNG warning: iCCP: known incorrect sRGB profile\n"
     ]
    },
    {
     "name": "stdout",
     "output_type": "stream",
     "text": [
      "\u001b[1m38/98\u001b[0m \u001b[32m━━━━━━━\u001b[0m\u001b[37m━━━━━━━━━━━━━\u001b[0m \u001b[1m17s\u001b[0m 283ms/step - accuracy: 0.6251 - loss: 1.2519"
     ]
    },
    {
     "name": "stderr",
     "output_type": "stream",
     "text": [
      "2024-04-30 14:04:52.325396: W tensorflow/core/lib/png/png_io.cc:89] PNG warning: iCCP: known incorrect sRGB profile\n",
      "2024-04-30 14:04:52.512963: W tensorflow/core/lib/png/png_io.cc:89] PNG warning: iCCP: known incorrect sRGB profile\n",
      "2024-04-30 14:04:52.559595: W tensorflow/core/lib/png/png_io.cc:89] PNG warning: iCCP: known incorrect sRGB profile\n",
      "2024-04-30 14:04:52.562359: W tensorflow/core/lib/png/png_io.cc:89] PNG warning: iCCP: known incorrect sRGB profile\n"
     ]
    },
    {
     "name": "stdout",
     "output_type": "stream",
     "text": [
      "\u001b[1m40/98\u001b[0m \u001b[32m━━━━━━━━\u001b[0m\u001b[37m━━━━━━━━━━━━\u001b[0m \u001b[1m16s\u001b[0m 286ms/step - accuracy: 0.6266 - loss: 1.2471"
     ]
    },
    {
     "name": "stderr",
     "output_type": "stream",
     "text": [
      "2024-04-30 14:04:53.178092: W tensorflow/core/lib/png/png_io.cc:89] PNG warning: iCCP: known incorrect sRGB profile\n"
     ]
    },
    {
     "name": "stdout",
     "output_type": "stream",
     "text": [
      "\u001b[1m59/98\u001b[0m \u001b[32m━━━━━━━━━━━━\u001b[0m\u001b[37m━━━━━━━━\u001b[0m \u001b[1m10s\u001b[0m 278ms/step - accuracy: 0.6381 - loss: 1.2149"
     ]
    },
    {
     "name": "stderr",
     "output_type": "stream",
     "text": [
      "2024-04-30 14:04:58.148016: W tensorflow/core/lib/png/png_io.cc:89] PNG warning: iCCP: known incorrect sRGB profile\n"
     ]
    },
    {
     "name": "stdout",
     "output_type": "stream",
     "text": [
      "\u001b[1m68/98\u001b[0m \u001b[32m━━━━━━━━━━━━━\u001b[0m\u001b[37m━━━━━━━\u001b[0m \u001b[1m8s\u001b[0m 274ms/step - accuracy: 0.6425 - loss: 1.2024"
     ]
    },
    {
     "name": "stderr",
     "output_type": "stream",
     "text": [
      "2024-04-30 14:05:00.145646: W tensorflow/core/lib/png/png_io.cc:89] PNG warning: iCCP: known incorrect sRGB profile\n"
     ]
    },
    {
     "name": "stdout",
     "output_type": "stream",
     "text": [
      "\u001b[1m75/98\u001b[0m \u001b[32m━━━━━━━━━━━━━━━\u001b[0m\u001b[37m━━━━━\u001b[0m \u001b[1m6s\u001b[0m 273ms/step - accuracy: 0.6451 - loss: 1.1947"
     ]
    },
    {
     "name": "stderr",
     "output_type": "stream",
     "text": [
      "2024-04-30 14:05:02.213691: W tensorflow/core/lib/png/png_io.cc:89] PNG warning: iCCP: known incorrect sRGB profile\n"
     ]
    },
    {
     "name": "stdout",
     "output_type": "stream",
     "text": [
      "\u001b[1m78/98\u001b[0m \u001b[32m━━━━━━━━━━━━━━━\u001b[0m\u001b[37m━━━━━\u001b[0m \u001b[1m5s\u001b[0m 273ms/step - accuracy: 0.6461 - loss: 1.1918"
     ]
    },
    {
     "name": "stderr",
     "output_type": "stream",
     "text": [
      "2024-04-30 14:05:03.083075: W tensorflow/core/lib/png/png_io.cc:89] PNG warning: iCCP: known incorrect sRGB profile\n"
     ]
    },
    {
     "name": "stdout",
     "output_type": "stream",
     "text": [
      "\u001b[1m83/98\u001b[0m \u001b[32m━━━━━━━━━━━━━━━━\u001b[0m\u001b[37m━━━━\u001b[0m \u001b[1m4s\u001b[0m 273ms/step - accuracy: 0.6480 - loss: 1.1864"
     ]
    },
    {
     "name": "stderr",
     "output_type": "stream",
     "text": [
      "2024-04-30 14:05:04.494584: W tensorflow/core/lib/png/png_io.cc:89] PNG warning: iCCP: known incorrect sRGB profile\n"
     ]
    },
    {
     "name": "stdout",
     "output_type": "stream",
     "text": [
      "\u001b[1m98/98\u001b[0m \u001b[32m━━━━━━━━━━━━━━━━━━━━\u001b[0m\u001b[37m\u001b[0m \u001b[1m0s\u001b[0m 260ms/step - accuracy: 0.6533 - loss: 1.1709"
     ]
    },
    {
     "name": "stderr",
     "output_type": "stream",
     "text": [
      "2024-04-30 14:05:08.621193: W tensorflow/core/lib/png/png_io.cc:89] PNG warning: iCCP: known incorrect sRGB profile\n",
      "2024-04-30 14:05:09.230880: W tensorflow/core/lib/png/png_io.cc:89] PNG warning: iCCP: known incorrect sRGB profile\n"
     ]
    },
    {
     "name": "stdout",
     "output_type": "stream",
     "text": [
      "\u001b[1m98/98\u001b[0m \u001b[32m━━━━━━━━━━━━━━━━━━━━\u001b[0m\u001b[37m\u001b[0m \u001b[1m28s\u001b[0m 287ms/step - accuracy: 0.6536 - loss: 1.1699 - val_accuracy: 0.8547 - val_loss: 0.6699\n",
      "Epoch 20/32\n",
      "\u001b[1m 1/98\u001b[0m \u001b[37m━━━━━━━━━━━━━━━━━━━━\u001b[0m \u001b[1m1:07\u001b[0m 693ms/step - accuracy: 0.5625 - loss: 1.2876"
     ]
    },
    {
     "name": "stderr",
     "output_type": "stream",
     "text": [
      "2024-04-30 14:05:10.509055: W tensorflow/core/lib/png/png_io.cc:89] PNG warning: iCCP: known incorrect sRGB profile\n"
     ]
    },
    {
     "name": "stdout",
     "output_type": "stream",
     "text": [
      "\u001b[1m 3/98\u001b[0m \u001b[37m━━━━━━━━━━━━━━━━━━━━\u001b[0m \u001b[1m25s\u001b[0m 269ms/step - accuracy: 0.6076 - loss: 1.1906"
     ]
    },
    {
     "name": "stderr",
     "output_type": "stream",
     "text": [
      "2024-04-30 14:05:11.086479: W tensorflow/core/lib/png/png_io.cc:89] PNG warning: iCCP: known incorrect sRGB profile\n"
     ]
    },
    {
     "name": "stdout",
     "output_type": "stream",
     "text": [
      "\u001b[1m 5/98\u001b[0m \u001b[32m━\u001b[0m\u001b[37m━━━━━━━━━━━━━━━━━━━\u001b[0m \u001b[1m24s\u001b[0m 268ms/step - accuracy: 0.6365 - loss: 1.1035"
     ]
    },
    {
     "name": "stderr",
     "output_type": "stream",
     "text": [
      "2024-04-30 14:05:11.912551: W tensorflow/core/lib/png/png_io.cc:89] PNG warning: iCCP: known incorrect sRGB profile\n"
     ]
    },
    {
     "name": "stdout",
     "output_type": "stream",
     "text": [
      "\u001b[1m 7/98\u001b[0m \u001b[32m━\u001b[0m\u001b[37m━━━━━━━━━━━━━━━━━━━\u001b[0m \u001b[1m29s\u001b[0m 323ms/step - accuracy: 0.6519 - loss: 1.0695"
     ]
    },
    {
     "name": "stderr",
     "output_type": "stream",
     "text": [
      "2024-04-30 14:05:12.487525: W tensorflow/core/lib/png/png_io.cc:89] PNG warning: iCCP: known incorrect sRGB profile\n"
     ]
    },
    {
     "name": "stdout",
     "output_type": "stream",
     "text": [
      "\u001b[1m13/98\u001b[0m \u001b[32m━━\u001b[0m\u001b[37m━━━━━━━━━━━━━━━━━━\u001b[0m \u001b[1m25s\u001b[0m 298ms/step - accuracy: 0.6555 - loss: 1.0895"
     ]
    },
    {
     "name": "stderr",
     "output_type": "stream",
     "text": [
      "2024-04-30 14:05:14.135969: W tensorflow/core/lib/png/png_io.cc:89] PNG warning: iCCP: known incorrect sRGB profile\n"
     ]
    },
    {
     "name": "stdout",
     "output_type": "stream",
     "text": [
      "\u001b[1m16/98\u001b[0m \u001b[32m━━━\u001b[0m\u001b[37m━━━━━━━━━━━━━━━━━\u001b[0m \u001b[1m23s\u001b[0m 292ms/step - accuracy: 0.6557 - loss: 1.0996"
     ]
    },
    {
     "name": "stderr",
     "output_type": "stream",
     "text": [
      "2024-04-30 14:05:14.943766: W tensorflow/core/lib/png/png_io.cc:89] PNG warning: iCCP: known incorrect sRGB profile\n"
     ]
    },
    {
     "name": "stdout",
     "output_type": "stream",
     "text": [
      "\u001b[1m22/98\u001b[0m \u001b[32m━━━━\u001b[0m\u001b[37m━━━━━━━━━━━━━━━━\u001b[0m \u001b[1m21s\u001b[0m 287ms/step - accuracy: 0.6530 - loss: 1.1171"
     ]
    },
    {
     "name": "stderr",
     "output_type": "stream",
     "text": [
      "2024-04-30 14:05:16.367775: W tensorflow/core/lib/png/png_io.cc:89] PNG warning: iCCP: known incorrect sRGB profile\n",
      "2024-04-30 14:05:16.529579: W tensorflow/core/lib/png/png_io.cc:89] PNG warning: iCCP: known incorrect sRGB profile\n"
     ]
    },
    {
     "name": "stdout",
     "output_type": "stream",
     "text": [
      "\u001b[1m26/98\u001b[0m \u001b[32m━━━━━\u001b[0m\u001b[37m━━━━━━━━━━━━━━━\u001b[0m \u001b[1m20s\u001b[0m 283ms/step - accuracy: 0.6527 - loss: 1.1193"
     ]
    },
    {
     "name": "stderr",
     "output_type": "stream",
     "text": [
      "2024-04-30 14:05:17.478338: W tensorflow/core/lib/png/png_io.cc:89] PNG warning: iCCP: known incorrect sRGB profile\n"
     ]
    },
    {
     "name": "stdout",
     "output_type": "stream",
     "text": [
      "\u001b[1m28/98\u001b[0m \u001b[32m━━━━━\u001b[0m\u001b[37m━━━━━━━━━━━━━━━\u001b[0m \u001b[1m19s\u001b[0m 284ms/step - accuracy: 0.6523 - loss: 1.1211"
     ]
    },
    {
     "name": "stderr",
     "output_type": "stream",
     "text": [
      "2024-04-30 14:05:18.067823: W tensorflow/core/lib/png/png_io.cc:89] PNG warning: iCCP: known incorrect sRGB profile\n"
     ]
    },
    {
     "name": "stdout",
     "output_type": "stream",
     "text": [
      "\u001b[1m32/98\u001b[0m \u001b[32m━━━━━━\u001b[0m\u001b[37m━━━━━━━━━━━━━━\u001b[0m \u001b[1m18s\u001b[0m 278ms/step - accuracy: 0.6525 - loss: 1.1215"
     ]
    },
    {
     "name": "stderr",
     "output_type": "stream",
     "text": [
      "2024-04-30 14:05:19.009443: W tensorflow/core/lib/png/png_io.cc:89] PNG warning: iCCP: known incorrect sRGB profile\n"
     ]
    },
    {
     "name": "stdout",
     "output_type": "stream",
     "text": [
      "\u001b[1m34/98\u001b[0m \u001b[32m━━━━━━\u001b[0m\u001b[37m━━━━━━━━━━━━━━\u001b[0m \u001b[1m17s\u001b[0m 278ms/step - accuracy: 0.6529 - loss: 1.1218"
     ]
    },
    {
     "name": "stderr",
     "output_type": "stream",
     "text": [
      "2024-04-30 14:05:19.750179: W tensorflow/core/lib/png/png_io.cc:89] PNG warning: iCCP: known incorrect sRGB profile\n"
     ]
    },
    {
     "name": "stdout",
     "output_type": "stream",
     "text": [
      "\u001b[1m39/98\u001b[0m \u001b[32m━━━━━━━\u001b[0m\u001b[37m━━━━━━━━━━━━━\u001b[0m \u001b[1m16s\u001b[0m 277ms/step - accuracy: 0.6541 - loss: 1.1208"
     ]
    },
    {
     "name": "stderr",
     "output_type": "stream",
     "text": [
      "2024-04-30 14:05:21.061393: W tensorflow/core/lib/png/png_io.cc:89] PNG warning: iCCP: known incorrect sRGB profile\n",
      "2024-04-30 14:05:21.065253: W tensorflow/core/lib/png/png_io.cc:89] PNG warning: iCCP: known incorrect sRGB profile\n",
      "2024-04-30 14:05:21.098336: W tensorflow/core/lib/png/png_io.cc:89] PNG warning: iCCP: known incorrect sRGB profile\n"
     ]
    },
    {
     "name": "stdout",
     "output_type": "stream",
     "text": [
      "\u001b[1m41/98\u001b[0m \u001b[32m━━━━━━━━\u001b[0m\u001b[37m━━━━━━━━━━━━\u001b[0m \u001b[1m15s\u001b[0m 277ms/step - accuracy: 0.6548 - loss: 1.1196"
     ]
    },
    {
     "name": "stderr",
     "output_type": "stream",
     "text": [
      "2024-04-30 14:05:21.523245: W tensorflow/core/lib/png/png_io.cc:89] PNG warning: iCCP: known incorrect sRGB profile\n"
     ]
    },
    {
     "name": "stdout",
     "output_type": "stream",
     "text": [
      "\u001b[1m44/98\u001b[0m \u001b[32m━━━━━━━━\u001b[0m\u001b[37m━━━━━━━━━━━━\u001b[0m \u001b[1m14s\u001b[0m 276ms/step - accuracy: 0.6557 - loss: 1.1184"
     ]
    },
    {
     "name": "stderr",
     "output_type": "stream",
     "text": [
      "2024-04-30 14:05:22.176788: W tensorflow/core/lib/png/png_io.cc:89] PNG warning: iCCP: known incorrect sRGB profile\n"
     ]
    },
    {
     "name": "stdout",
     "output_type": "stream",
     "text": [
      "\u001b[1m51/98\u001b[0m \u001b[32m━━━━━━━━━━\u001b[0m\u001b[37m━━━━━━━━━━\u001b[0m \u001b[1m12s\u001b[0m 273ms/step - accuracy: 0.6583 - loss: 1.1141"
     ]
    },
    {
     "name": "stderr",
     "output_type": "stream",
     "text": [
      "2024-04-30 14:05:23.974897: W tensorflow/core/lib/png/png_io.cc:89] PNG warning: iCCP: known incorrect sRGB profile\n"
     ]
    },
    {
     "name": "stdout",
     "output_type": "stream",
     "text": [
      "\u001b[1m57/98\u001b[0m \u001b[32m━━━━━━━━━━━\u001b[0m\u001b[37m━━━━━━━━━\u001b[0m \u001b[1m11s\u001b[0m 270ms/step - accuracy: 0.6607 - loss: 1.1101"
     ]
    },
    {
     "name": "stderr",
     "output_type": "stream",
     "text": [
      "2024-04-30 14:05:25.658464: W tensorflow/core/lib/png/png_io.cc:89] PNG warning: iCCP: known incorrect sRGB profile\n"
     ]
    },
    {
     "name": "stdout",
     "output_type": "stream",
     "text": [
      "\u001b[1m66/98\u001b[0m \u001b[32m━━━━━━━━━━━━━\u001b[0m\u001b[37m━━━━━━━\u001b[0m \u001b[1m8s\u001b[0m 268ms/step - accuracy: 0.6639 - loss: 1.1041"
     ]
    },
    {
     "name": "stderr",
     "output_type": "stream",
     "text": [
      "2024-04-30 14:05:28.003952: W tensorflow/core/lib/png/png_io.cc:89] PNG warning: iCCP: known incorrect sRGB profile\n",
      "2024-04-30 14:05:28.032183: W tensorflow/core/lib/png/png_io.cc:89] PNG warning: iCCP: known incorrect sRGB profile\n"
     ]
    },
    {
     "name": "stdout",
     "output_type": "stream",
     "text": [
      "\u001b[1m69/98\u001b[0m \u001b[32m━━━━━━━━━━━━━━\u001b[0m\u001b[37m━━━━━━\u001b[0m \u001b[1m7s\u001b[0m 268ms/step - accuracy: 0.6648 - loss: 1.1026"
     ]
    },
    {
     "name": "stderr",
     "output_type": "stream",
     "text": [
      "2024-04-30 14:05:28.795061: W tensorflow/core/lib/png/png_io.cc:89] PNG warning: iCCP: known incorrect sRGB profile\n"
     ]
    },
    {
     "name": "stdout",
     "output_type": "stream",
     "text": [
      "\u001b[1m72/98\u001b[0m \u001b[32m━━━━━━━━━━━━━━\u001b[0m\u001b[37m━━━━━━\u001b[0m \u001b[1m6s\u001b[0m 268ms/step - accuracy: 0.6657 - loss: 1.1011"
     ]
    },
    {
     "name": "stderr",
     "output_type": "stream",
     "text": [
      "2024-04-30 14:05:29.527791: W tensorflow/core/lib/png/png_io.cc:89] PNG warning: iCCP: known incorrect sRGB profile\n"
     ]
    },
    {
     "name": "stdout",
     "output_type": "stream",
     "text": [
      "\u001b[1m98/98\u001b[0m \u001b[32m━━━━━━━━━━━━━━━━━━━━\u001b[0m\u001b[37m\u001b[0m \u001b[1m0s\u001b[0m 255ms/step - accuracy: 0.6728 - loss: 1.0866"
     ]
    },
    {
     "name": "stderr",
     "output_type": "stream",
     "text": [
      "2024-04-30 14:05:36.274428: W tensorflow/core/lib/png/png_io.cc:89] PNG warning: iCCP: known incorrect sRGB profile\n",
      "2024-04-30 14:05:37.337612: W tensorflow/core/lib/png/png_io.cc:89] PNG warning: iCCP: known incorrect sRGB profile\n"
     ]
    },
    {
     "name": "stdout",
     "output_type": "stream",
     "text": [
      "\u001b[1m98/98\u001b[0m \u001b[32m━━━━━━━━━━━━━━━━━━━━\u001b[0m\u001b[37m\u001b[0m \u001b[1m28s\u001b[0m 281ms/step - accuracy: 0.6731 - loss: 1.0860 - val_accuracy: 0.8547 - val_loss: 0.7064\n",
      "Epoch 21/32\n",
      "\u001b[1m 4/98\u001b[0m \u001b[37m━━━━━━━━━━━━━━━━━━━━\u001b[0m \u001b[1m29s\u001b[0m 314ms/step - accuracy: 0.7676 - loss: 0.8837"
     ]
    },
    {
     "name": "stderr",
     "output_type": "stream",
     "text": [
      "2024-04-30 14:05:39.270803: W tensorflow/core/lib/png/png_io.cc:89] PNG warning: iCCP: known incorrect sRGB profile\n"
     ]
    },
    {
     "name": "stdout",
     "output_type": "stream",
     "text": [
      "\u001b[1m 5/98\u001b[0m \u001b[32m━\u001b[0m\u001b[37m━━━━━━━━━━━━━━━━━━━\u001b[0m \u001b[1m28s\u001b[0m 302ms/step - accuracy: 0.7603 - loss: 0.9113"
     ]
    },
    {
     "name": "stderr",
     "output_type": "stream",
     "text": [
      "2024-04-30 14:05:39.605151: W tensorflow/core/lib/png/png_io.cc:89] PNG warning: iCCP: known incorrect sRGB profile\n"
     ]
    },
    {
     "name": "stdout",
     "output_type": "stream",
     "text": [
      "\u001b[1m11/98\u001b[0m \u001b[32m━━\u001b[0m\u001b[37m━━━━━━━━━━━━━━━━━━\u001b[0m \u001b[1m28s\u001b[0m 328ms/step - accuracy: 0.7362 - loss: 0.9603"
     ]
    },
    {
     "name": "stderr",
     "output_type": "stream",
     "text": [
      "2024-04-30 14:05:41.643649: W tensorflow/core/lib/png/png_io.cc:89] PNG warning: iCCP: known incorrect sRGB profile\n"
     ]
    },
    {
     "name": "stdout",
     "output_type": "stream",
     "text": [
      "\u001b[1m12/98\u001b[0m \u001b[32m━━\u001b[0m\u001b[37m━━━━━━━━━━━━━━━━━━\u001b[0m \u001b[1m27s\u001b[0m 324ms/step - accuracy: 0.7330 - loss: 0.9698"
     ]
    },
    {
     "name": "stderr",
     "output_type": "stream",
     "text": [
      "2024-04-30 14:05:41.964426: W tensorflow/core/lib/png/png_io.cc:89] PNG warning: iCCP: known incorrect sRGB profile\n",
      "2024-04-30 14:05:42.043950: W tensorflow/core/lib/png/png_io.cc:89] PNG warning: iCCP: known incorrect sRGB profile\n"
     ]
    },
    {
     "name": "stdout",
     "output_type": "stream",
     "text": [
      "\u001b[1m13/98\u001b[0m \u001b[32m━━\u001b[0m\u001b[37m━━━━━━━━━━━━━━━━━━\u001b[0m \u001b[1m27s\u001b[0m 320ms/step - accuracy: 0.7308 - loss: 0.9758"
     ]
    },
    {
     "name": "stderr",
     "output_type": "stream",
     "text": [
      "2024-04-30 14:05:42.226774: W tensorflow/core/lib/png/png_io.cc:89] PNG warning: iCCP: known incorrect sRGB profile\n"
     ]
    },
    {
     "name": "stdout",
     "output_type": "stream",
     "text": [
      "\u001b[1m17/98\u001b[0m \u001b[32m━━━\u001b[0m\u001b[37m━━━━━━━━━━━━━━━━━\u001b[0m \u001b[1m25s\u001b[0m 310ms/step - accuracy: 0.7239 - loss: 0.9907"
     ]
    },
    {
     "name": "stderr",
     "output_type": "stream",
     "text": [
      "2024-04-30 14:05:43.272708: W tensorflow/core/lib/png/png_io.cc:89] PNG warning: iCCP: known incorrect sRGB profile\n"
     ]
    },
    {
     "name": "stdout",
     "output_type": "stream",
     "text": [
      "\u001b[1m18/98\u001b[0m \u001b[32m━━━\u001b[0m\u001b[37m━━━━━━━━━━━━━━━━━\u001b[0m \u001b[1m24s\u001b[0m 309ms/step - accuracy: 0.7230 - loss: 0.9920"
     ]
    },
    {
     "name": "stderr",
     "output_type": "stream",
     "text": [
      "2024-04-30 14:05:43.605319: W tensorflow/core/lib/png/png_io.cc:89] PNG warning: iCCP: known incorrect sRGB profile\n"
     ]
    },
    {
     "name": "stdout",
     "output_type": "stream",
     "text": [
      "\u001b[1m19/98\u001b[0m \u001b[32m━━━\u001b[0m\u001b[37m━━━━━━━━━━━━━━━━━\u001b[0m \u001b[1m24s\u001b[0m 307ms/step - accuracy: 0.7222 - loss: 0.9939"
     ]
    },
    {
     "name": "stderr",
     "output_type": "stream",
     "text": [
      "2024-04-30 14:05:43.837047: W tensorflow/core/lib/png/png_io.cc:89] PNG warning: iCCP: known incorrect sRGB profile\n"
     ]
    },
    {
     "name": "stdout",
     "output_type": "stream",
     "text": [
      "\u001b[1m20/98\u001b[0m \u001b[32m━━━━\u001b[0m\u001b[37m━━━━━━━━━━━━━━━━\u001b[0m \u001b[1m23s\u001b[0m 306ms/step - accuracy: 0.7216 - loss: 0.9948"
     ]
    },
    {
     "name": "stderr",
     "output_type": "stream",
     "text": [
      "2024-04-30 14:05:44.048131: W tensorflow/core/lib/png/png_io.cc:89] PNG warning: iCCP: known incorrect sRGB profile\n"
     ]
    },
    {
     "name": "stdout",
     "output_type": "stream",
     "text": [
      "\u001b[1m24/98\u001b[0m \u001b[32m━━━━\u001b[0m\u001b[37m━━━━━━━━━━━━━━━━\u001b[0m \u001b[1m22s\u001b[0m 303ms/step - accuracy: 0.7208 - loss: 0.9938"
     ]
    },
    {
     "name": "stderr",
     "output_type": "stream",
     "text": [
      "2024-04-30 14:05:45.179008: W tensorflow/core/lib/png/png_io.cc:89] PNG warning: iCCP: known incorrect sRGB profile\n"
     ]
    },
    {
     "name": "stdout",
     "output_type": "stream",
     "text": [
      "\u001b[1m26/98\u001b[0m \u001b[32m━━━━━\u001b[0m\u001b[37m━━━━━━━━━━━━━━━\u001b[0m \u001b[1m21s\u001b[0m 302ms/step - accuracy: 0.7209 - loss: 0.9927"
     ]
    },
    {
     "name": "stderr",
     "output_type": "stream",
     "text": [
      "2024-04-30 14:05:45.984093: W tensorflow/core/lib/png/png_io.cc:89] PNG warning: iCCP: known incorrect sRGB profile\n"
     ]
    },
    {
     "name": "stdout",
     "output_type": "stream",
     "text": [
      "\u001b[1m33/98\u001b[0m \u001b[32m━━━━━━\u001b[0m\u001b[37m━━━━━━━━━━━━━━\u001b[0m \u001b[1m19s\u001b[0m 293ms/step - accuracy: 0.7211 - loss: 0.9910"
     ]
    },
    {
     "name": "stderr",
     "output_type": "stream",
     "text": [
      "2024-04-30 14:05:47.778937: W tensorflow/core/lib/png/png_io.cc:89] PNG warning: iCCP: known incorrect sRGB profile\n",
      "2024-04-30 14:05:47.786904: W tensorflow/core/lib/png/png_io.cc:89] PNG warning: iCCP: known incorrect sRGB profile\n"
     ]
    },
    {
     "name": "stdout",
     "output_type": "stream",
     "text": [
      "\u001b[1m36/98\u001b[0m \u001b[32m━━━━━━━\u001b[0m\u001b[37m━━━━━━━━━━━━━\u001b[0m \u001b[1m17s\u001b[0m 289ms/step - accuracy: 0.7210 - loss: 0.9908"
     ]
    },
    {
     "name": "stderr",
     "output_type": "stream",
     "text": [
      "2024-04-30 14:05:48.526892: W tensorflow/core/lib/png/png_io.cc:89] PNG warning: iCCP: known incorrect sRGB profile\n"
     ]
    },
    {
     "name": "stdout",
     "output_type": "stream",
     "text": [
      "\u001b[1m39/98\u001b[0m \u001b[32m━━━━━━━\u001b[0m\u001b[37m━━━━━━━━━━━━━\u001b[0m \u001b[1m16s\u001b[0m 287ms/step - accuracy: 0.7209 - loss: 0.9901"
     ]
    },
    {
     "name": "stderr",
     "output_type": "stream",
     "text": [
      "2024-04-30 14:05:49.099967: W tensorflow/core/lib/png/png_io.cc:89] PNG warning: iCCP: known incorrect sRGB profile\n"
     ]
    },
    {
     "name": "stdout",
     "output_type": "stream",
     "text": [
      "\u001b[1m44/98\u001b[0m \u001b[32m━━━━━━━━\u001b[0m\u001b[37m━━━━━━━━━━━━\u001b[0m \u001b[1m15s\u001b[0m 285ms/step - accuracy: 0.7214 - loss: 0.9868"
     ]
    },
    {
     "name": "stderr",
     "output_type": "stream",
     "text": [
      "2024-04-30 14:05:50.609314: W tensorflow/core/lib/png/png_io.cc:89] PNG warning: iCCP: known incorrect sRGB profile\n"
     ]
    },
    {
     "name": "stdout",
     "output_type": "stream",
     "text": [
      "\u001b[1m46/98\u001b[0m \u001b[32m━━━━━━━━━\u001b[0m\u001b[37m━━━━━━━━━━━\u001b[0m \u001b[1m14s\u001b[0m 285ms/step - accuracy: 0.7215 - loss: 0.9856"
     ]
    },
    {
     "name": "stderr",
     "output_type": "stream",
     "text": [
      "2024-04-30 14:05:51.008953: W tensorflow/core/lib/png/png_io.cc:89] PNG warning: iCCP: known incorrect sRGB profile\n"
     ]
    },
    {
     "name": "stdout",
     "output_type": "stream",
     "text": [
      "\u001b[1m56/98\u001b[0m \u001b[32m━━━━━━━━━━━\u001b[0m\u001b[37m━━━━━━━━━\u001b[0m \u001b[1m11s\u001b[0m 282ms/step - accuracy: 0.7228 - loss: 0.9775"
     ]
    },
    {
     "name": "stderr",
     "output_type": "stream",
     "text": [
      "2024-04-30 14:05:53.908449: W tensorflow/core/lib/png/png_io.cc:89] PNG warning: iCCP: known incorrect sRGB profile\n"
     ]
    },
    {
     "name": "stdout",
     "output_type": "stream",
     "text": [
      "\u001b[1m64/98\u001b[0m \u001b[32m━━━━━━━━━━━━━\u001b[0m\u001b[37m━━━━━━━\u001b[0m \u001b[1m9s\u001b[0m 277ms/step - accuracy: 0.7236 - loss: 0.9718"
     ]
    },
    {
     "name": "stderr",
     "output_type": "stream",
     "text": [
      "2024-04-30 14:05:55.826674: W tensorflow/core/lib/png/png_io.cc:89] PNG warning: iCCP: known incorrect sRGB profile\n"
     ]
    },
    {
     "name": "stdout",
     "output_type": "stream",
     "text": [
      "\u001b[1m67/98\u001b[0m \u001b[32m━━━━━━━━━━━━━\u001b[0m\u001b[37m━━━━━━━\u001b[0m \u001b[1m8s\u001b[0m 276ms/step - accuracy: 0.7239 - loss: 0.9697"
     ]
    },
    {
     "name": "stderr",
     "output_type": "stream",
     "text": [
      "2024-04-30 14:05:56.592594: W tensorflow/core/lib/png/png_io.cc:89] PNG warning: iCCP: known incorrect sRGB profile\n",
      "2024-04-30 14:05:56.610417: W tensorflow/core/lib/png/png_io.cc:89] PNG warning: iCCP: known incorrect sRGB profile\n"
     ]
    },
    {
     "name": "stdout",
     "output_type": "stream",
     "text": [
      "\u001b[1m73/98\u001b[0m \u001b[32m━━━━━━━━━━━━━━\u001b[0m\u001b[37m━━━━━━\u001b[0m \u001b[1m6s\u001b[0m 277ms/step - accuracy: 0.7245 - loss: 0.9655"
     ]
    },
    {
     "name": "stderr",
     "output_type": "stream",
     "text": [
      "2024-04-30 14:05:58.169105: W tensorflow/core/lib/png/png_io.cc:89] PNG warning: iCCP: known incorrect sRGB profile\n"
     ]
    },
    {
     "name": "stdout",
     "output_type": "stream",
     "text": [
      "\u001b[1m98/98\u001b[0m \u001b[32m━━━━━━━━━━━━━━━━━━━━\u001b[0m\u001b[37m\u001b[0m \u001b[1m0s\u001b[0m 259ms/step - accuracy: 0.7265 - loss: 0.9525"
     ]
    },
    {
     "name": "stderr",
     "output_type": "stream",
     "text": [
      "2024-04-30 14:06:03.695313: W tensorflow/core/lib/png/png_io.cc:89] PNG warning: iCCP: known incorrect sRGB profile\n",
      "2024-04-30 14:06:05.519667: W tensorflow/core/lib/png/png_io.cc:89] PNG warning: iCCP: known incorrect sRGB profile\n"
     ]
    },
    {
     "name": "stdout",
     "output_type": "stream",
     "text": [
      "\u001b[1m98/98\u001b[0m \u001b[32m━━━━━━━━━━━━━━━━━━━━\u001b[0m\u001b[37m\u001b[0m \u001b[1m28s\u001b[0m 285ms/step - accuracy: 0.7265 - loss: 0.9521 - val_accuracy: 0.8718 - val_loss: 0.5576\n",
      "Epoch 22/32\n",
      "\u001b[1m 7/98\u001b[0m \u001b[32m━\u001b[0m\u001b[37m━━━━━━━━━━━━━━━━━━━\u001b[0m \u001b[1m32s\u001b[0m 358ms/step - accuracy: 0.6401 - loss: 1.1230"
     ]
    },
    {
     "name": "stderr",
     "output_type": "stream",
     "text": [
      "2024-04-30 14:06:08.559772: W tensorflow/core/lib/png/png_io.cc:89] PNG warning: iCCP: known incorrect sRGB profile\n"
     ]
    },
    {
     "name": "stdout",
     "output_type": "stream",
     "text": [
      "\u001b[1m 9/98\u001b[0m \u001b[32m━\u001b[0m\u001b[37m━━━━━━━━━━━━━━━━━━━\u001b[0m \u001b[1m29s\u001b[0m 336ms/step - accuracy: 0.6587 - loss: 1.0766"
     ]
    },
    {
     "name": "stderr",
     "output_type": "stream",
     "text": [
      "2024-04-30 14:06:09.150932: W tensorflow/core/lib/png/png_io.cc:89] PNG warning: iCCP: known incorrect sRGB profile\n"
     ]
    },
    {
     "name": "stdout",
     "output_type": "stream",
     "text": [
      "\u001b[1m12/98\u001b[0m \u001b[32m━━\u001b[0m\u001b[37m━━━━━━━━━━━━━━━━━━\u001b[0m \u001b[1m27s\u001b[0m 317ms/step - accuracy: 0.6788 - loss: 1.0285"
     ]
    },
    {
     "name": "stderr",
     "output_type": "stream",
     "text": [
      "2024-04-30 14:06:10.078726: W tensorflow/core/lib/png/png_io.cc:89] PNG warning: iCCP: known incorrect sRGB profile\n",
      "2024-04-30 14:06:10.258244: W tensorflow/core/lib/png/png_io.cc:89] PNG warning: iCCP: known incorrect sRGB profile\n"
     ]
    },
    {
     "name": "stdout",
     "output_type": "stream",
     "text": [
      "\u001b[1m14/98\u001b[0m \u001b[32m━━\u001b[0m\u001b[37m━━━━━━━━━━━━━━━━━━\u001b[0m \u001b[1m26s\u001b[0m 310ms/step - accuracy: 0.6881 - loss: 1.0041"
     ]
    },
    {
     "name": "stderr",
     "output_type": "stream",
     "text": [
      "2024-04-30 14:06:10.422699: W tensorflow/core/lib/png/png_io.cc:89] PNG warning: iCCP: known incorrect sRGB profile\n"
     ]
    },
    {
     "name": "stdout",
     "output_type": "stream",
     "text": [
      "\u001b[1m21/98\u001b[0m \u001b[32m━━━━\u001b[0m\u001b[37m━━━━━━━━━━━━━━━━\u001b[0m \u001b[1m22s\u001b[0m 296ms/step - accuracy: 0.7064 - loss: 0.9617"
     ]
    },
    {
     "name": "stderr",
     "output_type": "stream",
     "text": [
      "2024-04-30 14:06:12.420394: W tensorflow/core/lib/png/png_io.cc:89] PNG warning: iCCP: known incorrect sRGB profile\n",
      "2024-04-30 14:06:12.466967: W tensorflow/core/lib/png/png_io.cc:89] PNG warning: iCCP: known incorrect sRGB profile\n",
      "2024-04-30 14:06:12.563807: W tensorflow/core/lib/png/png_io.cc:89] PNG warning: iCCP: known incorrect sRGB profile\n"
     ]
    },
    {
     "name": "stdout",
     "output_type": "stream",
     "text": [
      "\u001b[1m24/98\u001b[0m \u001b[32m━━━━\u001b[0m\u001b[37m━━━━━━━━━━━━━━━━\u001b[0m \u001b[1m22s\u001b[0m 298ms/step - accuracy: 0.7114 - loss: 0.9495"
     ]
    },
    {
     "name": "stderr",
     "output_type": "stream",
     "text": [
      "2024-04-30 14:06:13.461689: W tensorflow/core/lib/png/png_io.cc:89] PNG warning: iCCP: known incorrect sRGB profile\n"
     ]
    },
    {
     "name": "stdout",
     "output_type": "stream",
     "text": [
      "\u001b[1m27/98\u001b[0m \u001b[32m━━━━━\u001b[0m\u001b[37m━━━━━━━━━━━━━━━\u001b[0m \u001b[1m21s\u001b[0m 296ms/step - accuracy: 0.7151 - loss: 0.9418"
     ]
    },
    {
     "name": "stderr",
     "output_type": "stream",
     "text": [
      "2024-04-30 14:06:14.135620: W tensorflow/core/lib/png/png_io.cc:89] PNG warning: iCCP: known incorrect sRGB profile\n"
     ]
    },
    {
     "name": "stdout",
     "output_type": "stream",
     "text": [
      "\u001b[1m29/98\u001b[0m \u001b[32m━━━━━\u001b[0m\u001b[37m━━━━━━━━━━━━━━━\u001b[0m \u001b[1m20s\u001b[0m 294ms/step - accuracy: 0.7172 - loss: 0.9385"
     ]
    },
    {
     "name": "stderr",
     "output_type": "stream",
     "text": [
      "2024-04-30 14:06:14.630158: W tensorflow/core/lib/png/png_io.cc:89] PNG warning: iCCP: known incorrect sRGB profile\n"
     ]
    },
    {
     "name": "stdout",
     "output_type": "stream",
     "text": [
      "\u001b[1m30/98\u001b[0m \u001b[32m━━━━━━\u001b[0m\u001b[37m━━━━━━━━━━━━━━\u001b[0m \u001b[1m19s\u001b[0m 293ms/step - accuracy: 0.7180 - loss: 0.9372"
     ]
    },
    {
     "name": "stderr",
     "output_type": "stream",
     "text": [
      "2024-04-30 14:06:15.070544: W tensorflow/core/lib/png/png_io.cc:89] PNG warning: iCCP: known incorrect sRGB profile\n"
     ]
    },
    {
     "name": "stdout",
     "output_type": "stream",
     "text": [
      "\u001b[1m37/98\u001b[0m \u001b[32m━━━━━━━\u001b[0m\u001b[37m━━━━━━━━━━━━━\u001b[0m \u001b[1m17s\u001b[0m 283ms/step - accuracy: 0.7229 - loss: 0.9288"
     ]
    },
    {
     "name": "stderr",
     "output_type": "stream",
     "text": [
      "2024-04-30 14:06:16.601436: W tensorflow/core/lib/png/png_io.cc:89] PNG warning: iCCP: known incorrect sRGB profile\n",
      "2024-04-30 14:06:16.785658: W tensorflow/core/lib/png/png_io.cc:89] PNG warning: iCCP: known incorrect sRGB profile\n"
     ]
    },
    {
     "name": "stdout",
     "output_type": "stream",
     "text": [
      "\u001b[1m39/98\u001b[0m \u001b[32m━━━━━━━\u001b[0m\u001b[37m━━━━━━━━━━━━━\u001b[0m \u001b[1m16s\u001b[0m 282ms/step - accuracy: 0.7242 - loss: 0.9263"
     ]
    },
    {
     "name": "stderr",
     "output_type": "stream",
     "text": [
      "2024-04-30 14:06:17.291991: W tensorflow/core/lib/png/png_io.cc:89] PNG warning: iCCP: known incorrect sRGB profile\n",
      "2024-04-30 14:06:17.295054: W tensorflow/core/lib/png/png_io.cc:89] PNG warning: iCCP: known incorrect sRGB profile\n"
     ]
    },
    {
     "name": "stdout",
     "output_type": "stream",
     "text": [
      "\u001b[1m41/98\u001b[0m \u001b[32m━━━━━━━━\u001b[0m\u001b[37m━━━━━━━━━━━━\u001b[0m \u001b[1m15s\u001b[0m 280ms/step - accuracy: 0.7254 - loss: 0.9238"
     ]
    },
    {
     "name": "stderr",
     "output_type": "stream",
     "text": [
      "2024-04-30 14:06:17.585155: W tensorflow/core/lib/png/png_io.cc:89] PNG warning: iCCP: known incorrect sRGB profile\n"
     ]
    },
    {
     "name": "stdout",
     "output_type": "stream",
     "text": [
      "\u001b[1m43/98\u001b[0m \u001b[32m━━━━━━━━\u001b[0m\u001b[37m━━━━━━━━━━━━\u001b[0m \u001b[1m15s\u001b[0m 281ms/step - accuracy: 0.7266 - loss: 0.9212"
     ]
    },
    {
     "name": "stderr",
     "output_type": "stream",
     "text": [
      "2024-04-30 14:06:18.420671: W tensorflow/core/lib/png/png_io.cc:89] PNG warning: iCCP: known incorrect sRGB profile\n"
     ]
    },
    {
     "name": "stdout",
     "output_type": "stream",
     "text": [
      "\u001b[1m60/98\u001b[0m \u001b[32m━━━━━━━━━━━━\u001b[0m\u001b[37m━━━━━━━━\u001b[0m \u001b[1m10s\u001b[0m 273ms/step - accuracy: 0.7340 - loss: 0.9043"
     ]
    },
    {
     "name": "stderr",
     "output_type": "stream",
     "text": [
      "2024-04-30 14:06:22.533822: W tensorflow/core/lib/png/png_io.cc:89] PNG warning: iCCP: known incorrect sRGB profile\n"
     ]
    },
    {
     "name": "stdout",
     "output_type": "stream",
     "text": [
      "\u001b[1m67/98\u001b[0m \u001b[32m━━━━━━━━━━━━━\u001b[0m\u001b[37m━━━━━━━\u001b[0m \u001b[1m8s\u001b[0m 273ms/step - accuracy: 0.7362 - loss: 0.8987"
     ]
    },
    {
     "name": "stderr",
     "output_type": "stream",
     "text": [
      "2024-04-30 14:06:24.392963: W tensorflow/core/lib/png/png_io.cc:89] PNG warning: iCCP: known incorrect sRGB profile\n"
     ]
    },
    {
     "name": "stdout",
     "output_type": "stream",
     "text": [
      "\u001b[1m75/98\u001b[0m \u001b[32m━━━━━━━━━━━━━━━\u001b[0m\u001b[37m━━━━━\u001b[0m \u001b[1m6s\u001b[0m 272ms/step - accuracy: 0.7386 - loss: 0.8929"
     ]
    },
    {
     "name": "stderr",
     "output_type": "stream",
     "text": [
      "2024-04-30 14:06:26.681220: W tensorflow/core/lib/png/png_io.cc:89] PNG warning: iCCP: known incorrect sRGB profile\n"
     ]
    },
    {
     "name": "stdout",
     "output_type": "stream",
     "text": [
      "\u001b[1m76/98\u001b[0m \u001b[32m━━━━━━━━━━━━━━━\u001b[0m\u001b[37m━━━━━\u001b[0m \u001b[1m5s\u001b[0m 272ms/step - accuracy: 0.7388 - loss: 0.8924"
     ]
    },
    {
     "name": "stderr",
     "output_type": "stream",
     "text": [
      "2024-04-30 14:06:26.967416: W tensorflow/core/lib/png/png_io.cc:89] PNG warning: iCCP: known incorrect sRGB profile\n"
     ]
    },
    {
     "name": "stdout",
     "output_type": "stream",
     "text": [
      "\u001b[1m83/98\u001b[0m \u001b[32m━━━━━━━━━━━━━━━━\u001b[0m\u001b[37m━━━━\u001b[0m \u001b[1m4s\u001b[0m 272ms/step - accuracy: 0.7405 - loss: 0.8882"
     ]
    },
    {
     "name": "stderr",
     "output_type": "stream",
     "text": [
      "2024-04-30 14:06:28.696165: W tensorflow/core/lib/png/png_io.cc:89] PNG warning: iCCP: known incorrect sRGB profile\n"
     ]
    },
    {
     "name": "stdout",
     "output_type": "stream",
     "text": [
      "\u001b[1m98/98\u001b[0m \u001b[32m━━━━━━━━━━━━━━━━━━━━\u001b[0m\u001b[37m\u001b[0m \u001b[1m0s\u001b[0m 258ms/step - accuracy: 0.7437 - loss: 0.8792"
     ]
    },
    {
     "name": "stderr",
     "output_type": "stream",
     "text": [
      "2024-04-30 14:06:31.866605: W tensorflow/core/lib/png/png_io.cc:89] PNG warning: iCCP: known incorrect sRGB profile\n",
      "2024-04-30 14:06:32.721196: W tensorflow/core/lib/png/png_io.cc:89] PNG warning: iCCP: known incorrect sRGB profile\n"
     ]
    },
    {
     "name": "stdout",
     "output_type": "stream",
     "text": [
      "\u001b[1m98/98\u001b[0m \u001b[32m━━━━━━━━━━━━━━━━━━━━\u001b[0m\u001b[37m\u001b[0m \u001b[1m28s\u001b[0m 284ms/step - accuracy: 0.7439 - loss: 0.8787 - val_accuracy: 0.8661 - val_loss: 0.5672\n",
      "Epoch 23/32\n"
     ]
    },
    {
     "name": "stderr",
     "output_type": "stream",
     "text": [
      "2024-04-30 14:06:34.373010: W tensorflow/core/lib/png/png_io.cc:89] PNG warning: iCCP: known incorrect sRGB profile\n"
     ]
    },
    {
     "name": "stdout",
     "output_type": "stream",
     "text": [
      "\u001b[1m 2/98\u001b[0m \u001b[37m━━━━━━━━━━━━━━━━━━━━\u001b[0m \u001b[1m25s\u001b[0m 266ms/step - accuracy: 0.6328 - loss: 1.3071 "
     ]
    },
    {
     "name": "stderr",
     "output_type": "stream",
     "text": [
      "2024-04-30 14:06:35.186839: W tensorflow/core/lib/png/png_io.cc:89] PNG warning: iCCP: known incorrect sRGB profile\n"
     ]
    },
    {
     "name": "stdout",
     "output_type": "stream",
     "text": [
      "\u001b[1m 8/98\u001b[0m \u001b[32m━\u001b[0m\u001b[37m━━━━━━━━━━━━━━━━━━━\u001b[0m \u001b[1m32s\u001b[0m 361ms/step - accuracy: 0.6890 - loss: 1.1130"
     ]
    },
    {
     "name": "stderr",
     "output_type": "stream",
     "text": [
      "2024-04-30 14:06:37.283988: W tensorflow/core/lib/png/png_io.cc:89] PNG warning: iCCP: known incorrect sRGB profile\n"
     ]
    },
    {
     "name": "stdout",
     "output_type": "stream",
     "text": [
      "\u001b[1m12/98\u001b[0m \u001b[32m━━\u001b[0m\u001b[37m━━━━━━━━━━━━━━━━━━\u001b[0m \u001b[1m28s\u001b[0m 330ms/step - accuracy: 0.7075 - loss: 1.0521"
     ]
    },
    {
     "name": "stderr",
     "output_type": "stream",
     "text": [
      "2024-04-30 14:06:38.312893: W tensorflow/core/lib/png/png_io.cc:89] PNG warning: iCCP: known incorrect sRGB profile\n"
     ]
    },
    {
     "name": "stdout",
     "output_type": "stream",
     "text": [
      "\u001b[1m13/98\u001b[0m \u001b[32m━━\u001b[0m\u001b[37m━━━━━━━━━━━━━━━━━━\u001b[0m \u001b[1m27s\u001b[0m 325ms/step - accuracy: 0.7113 - loss: 1.0377"
     ]
    },
    {
     "name": "stderr",
     "output_type": "stream",
     "text": [
      "2024-04-30 14:06:38.638865: W tensorflow/core/lib/png/png_io.cc:89] PNG warning: iCCP: known incorrect sRGB profile\n"
     ]
    },
    {
     "name": "stdout",
     "output_type": "stream",
     "text": [
      "\u001b[1m14/98\u001b[0m \u001b[32m━━\u001b[0m\u001b[37m━━━━━━━━━━━━━━━━━━\u001b[0m \u001b[1m26s\u001b[0m 321ms/step - accuracy: 0.7147 - loss: 1.0240"
     ]
    },
    {
     "name": "stderr",
     "output_type": "stream",
     "text": [
      "2024-04-30 14:06:38.963684: W tensorflow/core/lib/png/png_io.cc:89] PNG warning: iCCP: known incorrect sRGB profile\n",
      "2024-04-30 14:06:39.031479: W tensorflow/core/lib/png/png_io.cc:89] PNG warning: iCCP: known incorrect sRGB profile\n"
     ]
    },
    {
     "name": "stdout",
     "output_type": "stream",
     "text": [
      "\u001b[1m20/98\u001b[0m \u001b[32m━━━━\u001b[0m\u001b[37m━━━━━━━━━━━━━━━━\u001b[0m \u001b[1m24s\u001b[0m 315ms/step - accuracy: 0.7298 - loss: 0.9578"
     ]
    },
    {
     "name": "stderr",
     "output_type": "stream",
     "text": [
      "2024-04-30 14:06:40.752845: W tensorflow/core/lib/png/png_io.cc:89] PNG warning: iCCP: known incorrect sRGB profile\n"
     ]
    },
    {
     "name": "stdout",
     "output_type": "stream",
     "text": [
      "\u001b[1m23/98\u001b[0m \u001b[32m━━━━\u001b[0m\u001b[37m━━━━━━━━━━━━━━━━\u001b[0m \u001b[1m23s\u001b[0m 309ms/step - accuracy: 0.7348 - loss: 0.9346"
     ]
    },
    {
     "name": "stderr",
     "output_type": "stream",
     "text": [
      "2024-04-30 14:06:41.414546: W tensorflow/core/lib/png/png_io.cc:89] PNG warning: iCCP: known incorrect sRGB profile\n"
     ]
    },
    {
     "name": "stdout",
     "output_type": "stream",
     "text": [
      "\u001b[1m24/98\u001b[0m \u001b[32m━━━━\u001b[0m\u001b[37m━━━━━━━━━━━━━━━━\u001b[0m \u001b[1m22s\u001b[0m 308ms/step - accuracy: 0.7362 - loss: 0.9281"
     ]
    },
    {
     "name": "stderr",
     "output_type": "stream",
     "text": [
      "2024-04-30 14:06:41.697629: W tensorflow/core/lib/png/png_io.cc:89] PNG warning: iCCP: known incorrect sRGB profile\n"
     ]
    },
    {
     "name": "stdout",
     "output_type": "stream",
     "text": [
      "\u001b[1m25/98\u001b[0m \u001b[32m━━━━━\u001b[0m\u001b[37m━━━━━━━━━━━━━━━\u001b[0m \u001b[1m22s\u001b[0m 307ms/step - accuracy: 0.7376 - loss: 0.9217"
     ]
    },
    {
     "name": "stderr",
     "output_type": "stream",
     "text": [
      "2024-04-30 14:06:42.127311: W tensorflow/core/lib/png/png_io.cc:89] PNG warning: iCCP: known incorrect sRGB profile\n"
     ]
    },
    {
     "name": "stdout",
     "output_type": "stream",
     "text": [
      "\u001b[1m33/98\u001b[0m \u001b[32m━━━━━━\u001b[0m\u001b[37m━━━━━━━━━━━━━━\u001b[0m \u001b[1m18s\u001b[0m 292ms/step - accuracy: 0.7465 - loss: 0.8781"
     ]
    },
    {
     "name": "stderr",
     "output_type": "stream",
     "text": [
      "2024-04-30 14:06:43.893862: W tensorflow/core/lib/png/png_io.cc:89] PNG warning: iCCP: known incorrect sRGB profile\n"
     ]
    },
    {
     "name": "stdout",
     "output_type": "stream",
     "text": [
      "\u001b[1m36/98\u001b[0m \u001b[32m━━━━━━━\u001b[0m\u001b[37m━━━━━━━━━━━━━\u001b[0m \u001b[1m18s\u001b[0m 291ms/step - accuracy: 0.7490 - loss: 0.8660"
     ]
    },
    {
     "name": "stderr",
     "output_type": "stream",
     "text": [
      "2024-04-30 14:06:44.926918: W tensorflow/core/lib/png/png_io.cc:89] PNG warning: iCCP: known incorrect sRGB profile\n",
      "2024-04-30 14:06:44.935617: W tensorflow/core/lib/png/png_io.cc:89] PNG warning: iCCP: known incorrect sRGB profile\n"
     ]
    },
    {
     "name": "stdout",
     "output_type": "stream",
     "text": [
      "\u001b[1m41/98\u001b[0m \u001b[32m━━━━━━━━\u001b[0m\u001b[37m━━━━━━━━━━━━\u001b[0m \u001b[1m16s\u001b[0m 288ms/step - accuracy: 0.7527 - loss: 0.8493"
     ]
    },
    {
     "name": "stderr",
     "output_type": "stream",
     "text": [
      "2024-04-30 14:06:46.248178: W tensorflow/core/lib/png/png_io.cc:89] PNG warning: iCCP: known incorrect sRGB profile\n"
     ]
    },
    {
     "name": "stdout",
     "output_type": "stream",
     "text": [
      "\u001b[1m42/98\u001b[0m \u001b[32m━━━━━━━━\u001b[0m\u001b[37m━━━━━━━━━━━━\u001b[0m \u001b[1m16s\u001b[0m 287ms/step - accuracy: 0.7534 - loss: 0.8463"
     ]
    },
    {
     "name": "stderr",
     "output_type": "stream",
     "text": [
      "2024-04-30 14:06:46.552798: W tensorflow/core/lib/png/png_io.cc:89] PNG warning: iCCP: known incorrect sRGB profile\n"
     ]
    },
    {
     "name": "stdout",
     "output_type": "stream",
     "text": [
      "\u001b[1m45/98\u001b[0m \u001b[32m━━━━━━━━━\u001b[0m\u001b[37m━━━━━━━━━━━\u001b[0m \u001b[1m15s\u001b[0m 285ms/step - accuracy: 0.7556 - loss: 0.8373"
     ]
    },
    {
     "name": "stderr",
     "output_type": "stream",
     "text": [
      "2024-04-30 14:06:47.071572: W tensorflow/core/lib/png/png_io.cc:89] PNG warning: iCCP: known incorrect sRGB profile\n"
     ]
    },
    {
     "name": "stdout",
     "output_type": "stream",
     "text": [
      "\u001b[1m53/98\u001b[0m \u001b[32m━━━━━━━━━━\u001b[0m\u001b[37m━━━━━━━━━━\u001b[0m \u001b[1m12s\u001b[0m 280ms/step - accuracy: 0.7601 - loss: 0.8188"
     ]
    },
    {
     "name": "stderr",
     "output_type": "stream",
     "text": [
      "2024-04-30 14:06:49.090955: W tensorflow/core/lib/png/png_io.cc:89] PNG warning: iCCP: known incorrect sRGB profile\n"
     ]
    },
    {
     "name": "stdout",
     "output_type": "stream",
     "text": [
      "\u001b[1m61/98\u001b[0m \u001b[32m━━━━━━━━━━━━\u001b[0m\u001b[37m━━━━━━━━\u001b[0m \u001b[1m10s\u001b[0m 278ms/step - accuracy: 0.7631 - loss: 0.8064"
     ]
    },
    {
     "name": "stderr",
     "output_type": "stream",
     "text": [
      "2024-04-30 14:06:51.240336: W tensorflow/core/lib/png/png_io.cc:89] PNG warning: iCCP: known incorrect sRGB profile\n"
     ]
    },
    {
     "name": "stdout",
     "output_type": "stream",
     "text": [
      "\u001b[1m67/98\u001b[0m \u001b[32m━━━━━━━━━━━━━\u001b[0m\u001b[37m━━━━━━━\u001b[0m \u001b[1m8s\u001b[0m 277ms/step - accuracy: 0.7651 - loss: 0.7983"
     ]
    },
    {
     "name": "stderr",
     "output_type": "stream",
     "text": [
      "2024-04-30 14:06:52.806326: W tensorflow/core/lib/png/png_io.cc:89] PNG warning: iCCP: known incorrect sRGB profile\n"
     ]
    },
    {
     "name": "stdout",
     "output_type": "stream",
     "text": [
      "\u001b[1m68/98\u001b[0m \u001b[32m━━━━━━━━━━━━━\u001b[0m\u001b[37m━━━━━━━\u001b[0m \u001b[1m8s\u001b[0m 276ms/step - accuracy: 0.7654 - loss: 0.7969"
     ]
    },
    {
     "name": "stderr",
     "output_type": "stream",
     "text": [
      "2024-04-30 14:06:53.243598: W tensorflow/core/lib/png/png_io.cc:89] PNG warning: iCCP: known incorrect sRGB profile\n"
     ]
    },
    {
     "name": "stdout",
     "output_type": "stream",
     "text": [
      "\u001b[1m71/98\u001b[0m \u001b[32m━━━━━━━━━━━━━━\u001b[0m\u001b[37m━━━━━━\u001b[0m \u001b[1m7s\u001b[0m 274ms/step - accuracy: 0.7663 - loss: 0.7932"
     ]
    },
    {
     "name": "stderr",
     "output_type": "stream",
     "text": [
      "2024-04-30 14:06:53.945863: W tensorflow/core/lib/png/png_io.cc:89] PNG warning: iCCP: known incorrect sRGB profile\n"
     ]
    },
    {
     "name": "stdout",
     "output_type": "stream",
     "text": [
      "\u001b[1m74/98\u001b[0m \u001b[32m━━━━━━━━━━━━━━━\u001b[0m\u001b[37m━━━━━\u001b[0m \u001b[1m6s\u001b[0m 273ms/step - accuracy: 0.7671 - loss: 0.7895"
     ]
    },
    {
     "name": "stderr",
     "output_type": "stream",
     "text": [
      "2024-04-30 14:06:54.498961: W tensorflow/core/lib/png/png_io.cc:89] PNG warning: iCCP: known incorrect sRGB profile\n"
     ]
    },
    {
     "name": "stdout",
     "output_type": "stream",
     "text": [
      "\u001b[1m98/98\u001b[0m \u001b[32m━━━━━━━━━━━━━━━━━━━━\u001b[0m\u001b[37m\u001b[0m \u001b[1m0s\u001b[0m 263ms/step - accuracy: 0.7724 - loss: 0.7663"
     ]
    },
    {
     "name": "stderr",
     "output_type": "stream",
     "text": [
      "2024-04-30 14:07:01.373768: W tensorflow/core/lib/png/png_io.cc:89] PNG warning: iCCP: known incorrect sRGB profile\n",
      "2024-04-30 14:07:01.751025: W tensorflow/core/lib/png/png_io.cc:89] PNG warning: iCCP: known incorrect sRGB profile\n"
     ]
    },
    {
     "name": "stdout",
     "output_type": "stream",
     "text": [
      "\u001b[1m98/98\u001b[0m \u001b[32m━━━━━━━━━━━━━━━━━━━━\u001b[0m\u001b[37m\u001b[0m \u001b[1m29s\u001b[0m 289ms/step - accuracy: 0.7726 - loss: 0.7656 - val_accuracy: 0.8746 - val_loss: 0.6632\n",
      "Epoch 24/32\n"
     ]
    },
    {
     "name": "stderr",
     "output_type": "stream",
     "text": [
      "2024-04-30 14:07:03.650891: W tensorflow/core/lib/png/png_io.cc:89] PNG warning: iCCP: known incorrect sRGB profile\n"
     ]
    },
    {
     "name": "stdout",
     "output_type": "stream",
     "text": [
      "\u001b[1m 4/98\u001b[0m \u001b[37m━━━━━━━━━━━━━━━━━━━━\u001b[0m \u001b[1m25s\u001b[0m 274ms/step - accuracy: 0.7285 - loss: 0.7034"
     ]
    },
    {
     "name": "stderr",
     "output_type": "stream",
     "text": [
      "2024-04-30 14:07:04.771587: W tensorflow/core/lib/png/png_io.cc:89] PNG warning: iCCP: known incorrect sRGB profile\n"
     ]
    },
    {
     "name": "stdout",
     "output_type": "stream",
     "text": [
      "\u001b[1m10/98\u001b[0m \u001b[32m━━\u001b[0m\u001b[37m━━━━━━━━━━━━━━━━━━\u001b[0m \u001b[1m24s\u001b[0m 276ms/step - accuracy: 0.7125 - loss: 0.8303"
     ]
    },
    {
     "name": "stderr",
     "output_type": "stream",
     "text": [
      "2024-04-30 14:07:06.434916: W tensorflow/core/lib/png/png_io.cc:89] PNG warning: iCCP: known incorrect sRGB profile\n"
     ]
    },
    {
     "name": "stdout",
     "output_type": "stream",
     "text": [
      "\u001b[1m11/98\u001b[0m \u001b[32m━━\u001b[0m\u001b[37m━━━━━━━━━━━━━━━━━━\u001b[0m \u001b[1m23s\u001b[0m 276ms/step - accuracy: 0.7136 - loss: 0.8300"
     ]
    },
    {
     "name": "stderr",
     "output_type": "stream",
     "text": [
      "2024-04-30 14:07:06.677245: W tensorflow/core/lib/png/png_io.cc:89] PNG warning: iCCP: known incorrect sRGB profile\n"
     ]
    },
    {
     "name": "stdout",
     "output_type": "stream",
     "text": [
      "\u001b[1m12/98\u001b[0m \u001b[32m━━\u001b[0m\u001b[37m━━━━━━━━━━━━━━━━━━\u001b[0m \u001b[1m23s\u001b[0m 277ms/step - accuracy: 0.7133 - loss: 0.8372"
     ]
    },
    {
     "name": "stderr",
     "output_type": "stream",
     "text": [
      "2024-04-30 14:07:07.032819: W tensorflow/core/lib/png/png_io.cc:89] PNG warning: iCCP: known incorrect sRGB profile\n",
      "2024-04-30 14:07:07.044846: W tensorflow/core/lib/png/png_io.cc:89] PNG warning: iCCP: known incorrect sRGB profile\n"
     ]
    },
    {
     "name": "stdout",
     "output_type": "stream",
     "text": [
      "\u001b[1m17/98\u001b[0m \u001b[32m━━━\u001b[0m\u001b[37m━━━━━━━━━━━━━━━━━\u001b[0m \u001b[1m22s\u001b[0m 278ms/step - accuracy: 0.7146 - loss: 0.8532"
     ]
    },
    {
     "name": "stderr",
     "output_type": "stream",
     "text": [
      "2024-04-30 14:07:08.313080: W tensorflow/core/lib/png/png_io.cc:89] PNG warning: iCCP: known incorrect sRGB profile\n",
      "2024-04-30 14:07:08.322304: W tensorflow/core/lib/png/png_io.cc:89] PNG warning: iCCP: known incorrect sRGB profile\n"
     ]
    },
    {
     "name": "stdout",
     "output_type": "stream",
     "text": [
      "\u001b[1m18/98\u001b[0m \u001b[32m━━━\u001b[0m\u001b[37m━━━━━━━━━━━━━━━━━\u001b[0m \u001b[1m22s\u001b[0m 279ms/step - accuracy: 0.7151 - loss: 0.8548"
     ]
    },
    {
     "name": "stderr",
     "output_type": "stream",
     "text": [
      "2024-04-30 14:07:08.693491: W tensorflow/core/lib/png/png_io.cc:89] PNG warning: iCCP: known incorrect sRGB profile\n"
     ]
    },
    {
     "name": "stdout",
     "output_type": "stream",
     "text": [
      "\u001b[1m20/98\u001b[0m \u001b[32m━━━━\u001b[0m\u001b[37m━━━━━━━━━━━━━━━━\u001b[0m \u001b[1m21s\u001b[0m 277ms/step - accuracy: 0.7170 - loss: 0.8550"
     ]
    },
    {
     "name": "stderr",
     "output_type": "stream",
     "text": [
      "2024-04-30 14:07:09.156573: W tensorflow/core/lib/png/png_io.cc:89] PNG warning: iCCP: known incorrect sRGB profile\n"
     ]
    },
    {
     "name": "stdout",
     "output_type": "stream",
     "text": [
      "\u001b[1m22/98\u001b[0m \u001b[32m━━━━\u001b[0m\u001b[37m━━━━━━━━━━━━━━━━\u001b[0m \u001b[1m20s\u001b[0m 275ms/step - accuracy: 0.7190 - loss: 0.8546"
     ]
    },
    {
     "name": "stderr",
     "output_type": "stream",
     "text": [
      "2024-04-30 14:07:09.768103: W tensorflow/core/lib/png/png_io.cc:89] PNG warning: iCCP: known incorrect sRGB profile\n"
     ]
    },
    {
     "name": "stdout",
     "output_type": "stream",
     "text": [
      "\u001b[1m28/98\u001b[0m \u001b[32m━━━━━\u001b[0m\u001b[37m━━━━━━━━━━━━━━━\u001b[0m \u001b[1m18s\u001b[0m 271ms/step - accuracy: 0.7245 - loss: 0.8508"
     ]
    },
    {
     "name": "stderr",
     "output_type": "stream",
     "text": [
      "2024-04-30 14:07:11.136346: W tensorflow/core/lib/png/png_io.cc:89] PNG warning: iCCP: known incorrect sRGB profile\n"
     ]
    },
    {
     "name": "stdout",
     "output_type": "stream",
     "text": [
      "\u001b[1m32/98\u001b[0m \u001b[32m━━━━━━\u001b[0m\u001b[37m━━━━━━━━━━━━━━\u001b[0m \u001b[1m18s\u001b[0m 280ms/step - accuracy: 0.7283 - loss: 0.8481"
     ]
    },
    {
     "name": "stderr",
     "output_type": "stream",
     "text": [
      "2024-04-30 14:07:12.714166: W tensorflow/core/lib/png/png_io.cc:89] PNG warning: iCCP: known incorrect sRGB profile\n"
     ]
    },
    {
     "name": "stdout",
     "output_type": "stream",
     "text": [
      "\u001b[1m38/98\u001b[0m \u001b[32m━━━━━━━\u001b[0m\u001b[37m━━━━━━━━━━━━━\u001b[0m \u001b[1m16s\u001b[0m 282ms/step - accuracy: 0.7340 - loss: 0.8421"
     ]
    },
    {
     "name": "stderr",
     "output_type": "stream",
     "text": [
      "2024-04-30 14:07:14.431633: W tensorflow/core/lib/png/png_io.cc:89] PNG warning: iCCP: known incorrect sRGB profile\n",
      "2024-04-30 14:07:14.494538: W tensorflow/core/lib/png/png_io.cc:89] PNG warning: iCCP: known incorrect sRGB profile\n"
     ]
    },
    {
     "name": "stdout",
     "output_type": "stream",
     "text": [
      "\u001b[1m43/98\u001b[0m \u001b[32m━━━━━━━━\u001b[0m\u001b[37m━━━━━━━━━━━━\u001b[0m \u001b[1m15s\u001b[0m 281ms/step - accuracy: 0.7385 - loss: 0.8364"
     ]
    },
    {
     "name": "stderr",
     "output_type": "stream",
     "text": [
      "2024-04-30 14:07:15.766853: W tensorflow/core/lib/png/png_io.cc:89] PNG warning: iCCP: known incorrect sRGB profile\n"
     ]
    },
    {
     "name": "stdout",
     "output_type": "stream",
     "text": [
      "\u001b[1m45/98\u001b[0m \u001b[32m━━━━━━━━━\u001b[0m\u001b[37m━━━━━━━━━━━\u001b[0m \u001b[1m14s\u001b[0m 280ms/step - accuracy: 0.7400 - loss: 0.8342"
     ]
    },
    {
     "name": "stderr",
     "output_type": "stream",
     "text": [
      "2024-04-30 14:07:16.300296: W tensorflow/core/lib/png/png_io.cc:89] PNG warning: iCCP: known incorrect sRGB profile\n",
      "2024-04-30 14:07:16.367831: W tensorflow/core/lib/png/png_io.cc:89] PNG warning: iCCP: known incorrect sRGB profile\n"
     ]
    },
    {
     "name": "stdout",
     "output_type": "stream",
     "text": [
      "\u001b[1m60/98\u001b[0m \u001b[32m━━━━━━━━━━━━\u001b[0m\u001b[37m━━━━━━━━\u001b[0m \u001b[1m51s\u001b[0m 1s/step - accuracy: 0.7486 - loss: 0.8242"
     ]
    },
    {
     "name": "stderr",
     "output_type": "stream",
     "text": [
      "2024-04-30 14:08:23.631943: W tensorflow/core/lib/png/png_io.cc:89] PNG warning: iCCP: known incorrect sRGB profile\n"
     ]
    },
    {
     "name": "stdout",
     "output_type": "stream",
     "text": [
      "\u001b[1m71/98\u001b[0m \u001b[32m━━━━━━━━━━━━━━\u001b[0m\u001b[37m━━━━━━\u001b[0m \u001b[1m31s\u001b[0m 1s/step - accuracy: 0.7522 - loss: 0.8205"
     ]
    },
    {
     "name": "stderr",
     "output_type": "stream",
     "text": [
      "2024-04-30 14:08:26.421039: W tensorflow/core/lib/png/png_io.cc:89] PNG warning: iCCP: known incorrect sRGB profile\n"
     ]
    },
    {
     "name": "stdout",
     "output_type": "stream",
     "text": [
      "\u001b[1m77/98\u001b[0m \u001b[32m━━━━━━━━━━━━━━━\u001b[0m\u001b[37m━━━━━\u001b[0m \u001b[1m23s\u001b[0m 1s/step - accuracy: 0.7535 - loss: 0.8195"
     ]
    },
    {
     "name": "stderr",
     "output_type": "stream",
     "text": [
      "2024-04-30 14:08:27.733524: W tensorflow/core/lib/png/png_io.cc:89] PNG warning: iCCP: known incorrect sRGB profile\n"
     ]
    },
    {
     "name": "stdout",
     "output_type": "stream",
     "text": [
      "\u001b[1m86/98\u001b[0m \u001b[32m━━━━━━━━━━━━━━━━━\u001b[0m\u001b[37m━━━\u001b[0m \u001b[1m12s\u001b[0m 1s/step - accuracy: 0.7552 - loss: 0.8173"
     ]
    },
    {
     "name": "stderr",
     "output_type": "stream",
     "text": [
      "2024-04-30 14:08:29.678192: W tensorflow/core/lib/png/png_io.cc:89] PNG warning: iCCP: known incorrect sRGB profile\n",
      "2024-04-30 14:08:29.718339: W tensorflow/core/lib/png/png_io.cc:89] PNG warning: iCCP: known incorrect sRGB profile\n"
     ]
    },
    {
     "name": "stdout",
     "output_type": "stream",
     "text": [
      "\u001b[1m98/98\u001b[0m \u001b[32m━━━━━━━━━━━━━━━━━━━━\u001b[0m\u001b[37m\u001b[0m \u001b[1m0s\u001b[0m 924ms/step - accuracy: 0.7571 - loss: 0.8152"
     ]
    },
    {
     "name": "stderr",
     "output_type": "stream",
     "text": [
      "2024-04-30 14:08:33.695125: W tensorflow/core/lib/png/png_io.cc:89] PNG warning: iCCP: known incorrect sRGB profile\n",
      "2024-04-30 14:08:34.804323: W tensorflow/core/lib/png/png_io.cc:89] PNG warning: iCCP: known incorrect sRGB profile\n"
     ]
    },
    {
     "name": "stdout",
     "output_type": "stream",
     "text": [
      "\u001b[1m98/98\u001b[0m \u001b[32m━━━━━━━━━━━━━━━━━━━━\u001b[0m\u001b[37m\u001b[0m \u001b[1m93s\u001b[0m 942ms/step - accuracy: 0.7572 - loss: 0.8150 - val_accuracy: 0.8832 - val_loss: 0.5340\n",
      "Epoch 25/32\n",
      "\u001b[1m 1/98\u001b[0m \u001b[37m━━━━━━━━━━━━━━━━━━━━\u001b[0m \u001b[1m1:30\u001b[0m 937ms/step - accuracy: 0.7500 - loss: 0.6047"
     ]
    },
    {
     "name": "stderr",
     "output_type": "stream",
     "text": [
      "2024-04-30 14:08:36.308600: W tensorflow/core/lib/png/png_io.cc:89] PNG warning: iCCP: known incorrect sRGB profile\n"
     ]
    },
    {
     "name": "stdout",
     "output_type": "stream",
     "text": [
      "\u001b[1m 6/98\u001b[0m \u001b[32m━\u001b[0m\u001b[37m━━━━━━━━━━━━━━━━━━━\u001b[0m \u001b[1m22s\u001b[0m 242ms/step - accuracy: 0.7255 - loss: 0.7656"
     ]
    },
    {
     "name": "stderr",
     "output_type": "stream",
     "text": [
      "2024-04-30 14:08:37.435917: W tensorflow/core/lib/png/png_io.cc:89] PNG warning: iCCP: known incorrect sRGB profile\n"
     ]
    },
    {
     "name": "stdout",
     "output_type": "stream",
     "text": [
      "\u001b[1m 8/98\u001b[0m \u001b[32m━\u001b[0m\u001b[37m━━━━━━━━━━━━━━━━━━━\u001b[0m \u001b[1m20s\u001b[0m 230ms/step - accuracy: 0.7301 - loss: 0.7704"
     ]
    },
    {
     "name": "stderr",
     "output_type": "stream",
     "text": [
      "2024-04-30 14:08:37.752418: W tensorflow/core/lib/png/png_io.cc:89] PNG warning: iCCP: known incorrect sRGB profile\n"
     ]
    },
    {
     "name": "stdout",
     "output_type": "stream",
     "text": [
      "\u001b[1m11/98\u001b[0m \u001b[32m━━\u001b[0m\u001b[37m━━━━━━━━━━━━━━━━━━\u001b[0m \u001b[1m19s\u001b[0m 227ms/step - accuracy: 0.7374 - loss: 0.7760"
     ]
    },
    {
     "name": "stderr",
     "output_type": "stream",
     "text": [
      "2024-04-30 14:08:38.395849: W tensorflow/core/lib/png/png_io.cc:89] PNG warning: iCCP: known incorrect sRGB profile\n"
     ]
    },
    {
     "name": "stdout",
     "output_type": "stream",
     "text": [
      "\u001b[1m12/98\u001b[0m \u001b[32m━━\u001b[0m\u001b[37m━━━━━━━━━━━━━━━━━━\u001b[0m \u001b[1m19s\u001b[0m 225ms/step - accuracy: 0.7400 - loss: 0.7758"
     ]
    },
    {
     "name": "stderr",
     "output_type": "stream",
     "text": [
      "2024-04-30 14:08:38.659301: W tensorflow/core/lib/png/png_io.cc:89] PNG warning: iCCP: known incorrect sRGB profile\n",
      "2024-04-30 14:08:38.824503: W tensorflow/core/lib/png/png_io.cc:89] PNG warning: iCCP: known incorrect sRGB profile\n"
     ]
    },
    {
     "name": "stdout",
     "output_type": "stream",
     "text": [
      "\u001b[1m19/98\u001b[0m \u001b[32m━━━\u001b[0m\u001b[37m━━━━━━━━━━━━━━━━━\u001b[0m \u001b[1m16s\u001b[0m 215ms/step - accuracy: 0.7514 - loss: 0.7729"
     ]
    },
    {
     "name": "stderr",
     "output_type": "stream",
     "text": [
      "2024-04-30 14:08:40.190873: W tensorflow/core/lib/png/png_io.cc:89] PNG warning: iCCP: known incorrect sRGB profile\n"
     ]
    },
    {
     "name": "stdout",
     "output_type": "stream",
     "text": [
      "\u001b[1m24/98\u001b[0m \u001b[32m━━━━\u001b[0m\u001b[37m━━━━━━━━━━━━━━━━\u001b[0m \u001b[1m15s\u001b[0m 213ms/step - accuracy: 0.7561 - loss: 0.7674"
     ]
    },
    {
     "name": "stderr",
     "output_type": "stream",
     "text": [
      "2024-04-30 14:08:41.239476: W tensorflow/core/lib/png/png_io.cc:89] PNG warning: iCCP: known incorrect sRGB profile\n"
     ]
    },
    {
     "name": "stdout",
     "output_type": "stream",
     "text": [
      "\u001b[1m25/98\u001b[0m \u001b[32m━━━━━\u001b[0m\u001b[37m━━━━━━━━━━━━━━━\u001b[0m \u001b[1m15s\u001b[0m 213ms/step - accuracy: 0.7569 - loss: 0.7658"
     ]
    },
    {
     "name": "stderr",
     "output_type": "stream",
     "text": [
      "2024-04-30 14:08:41.476129: W tensorflow/core/lib/png/png_io.cc:89] PNG warning: iCCP: known incorrect sRGB profile\n"
     ]
    },
    {
     "name": "stdout",
     "output_type": "stream",
     "text": [
      "\u001b[1m31/98\u001b[0m \u001b[32m━━━━━━\u001b[0m\u001b[37m━━━━━━━━━━━━━━\u001b[0m \u001b[1m14s\u001b[0m 213ms/step - accuracy: 0.7600 - loss: 0.7602"
     ]
    },
    {
     "name": "stderr",
     "output_type": "stream",
     "text": [
      "2024-04-30 14:08:42.529824: W tensorflow/core/lib/png/png_io.cc:89] PNG warning: iCCP: known incorrect sRGB profile\n",
      "2024-04-30 14:08:42.580803: W tensorflow/core/lib/png/png_io.cc:89] PNG warning: iCCP: known incorrect sRGB profile\n"
     ]
    },
    {
     "name": "stdout",
     "output_type": "stream",
     "text": [
      "\u001b[1m32/98\u001b[0m \u001b[32m━━━━━━\u001b[0m\u001b[37m━━━━━━━━━━━━━━\u001b[0m \u001b[1m14s\u001b[0m 213ms/step - accuracy: 0.7605 - loss: 0.7594"
     ]
    },
    {
     "name": "stderr",
     "output_type": "stream",
     "text": [
      "2024-04-30 14:08:42.742061: W tensorflow/core/lib/png/png_io.cc:89] PNG warning: iCCP: known incorrect sRGB profile\n"
     ]
    },
    {
     "name": "stdout",
     "output_type": "stream",
     "text": [
      "\u001b[1m34/98\u001b[0m \u001b[32m━━━━━━\u001b[0m\u001b[37m━━━━━━━━━━━━━━\u001b[0m \u001b[1m13s\u001b[0m 213ms/step - accuracy: 0.7616 - loss: 0.7578"
     ]
    },
    {
     "name": "stderr",
     "output_type": "stream",
     "text": [
      "2024-04-30 14:08:43.178746: W tensorflow/core/lib/png/png_io.cc:89] PNG warning: iCCP: known incorrect sRGB profile\n"
     ]
    },
    {
     "name": "stdout",
     "output_type": "stream",
     "text": [
      "\u001b[1m39/98\u001b[0m \u001b[32m━━━━━━━\u001b[0m\u001b[37m━━━━━━━━━━━━━\u001b[0m \u001b[1m12s\u001b[0m 214ms/step - accuracy: 0.7644 - loss: 0.7524"
     ]
    },
    {
     "name": "stderr",
     "output_type": "stream",
     "text": [
      "2024-04-30 14:08:44.275682: W tensorflow/core/lib/png/png_io.cc:89] PNG warning: iCCP: known incorrect sRGB profile\n"
     ]
    },
    {
     "name": "stdout",
     "output_type": "stream",
     "text": [
      "\u001b[1m42/98\u001b[0m \u001b[32m━━━━━━━━\u001b[0m\u001b[37m━━━━━━━━━━━━\u001b[0m \u001b[1m11s\u001b[0m 213ms/step - accuracy: 0.7657 - loss: 0.7497"
     ]
    },
    {
     "name": "stderr",
     "output_type": "stream",
     "text": [
      "2024-04-30 14:08:44.881011: W tensorflow/core/lib/png/png_io.cc:89] PNG warning: iCCP: known incorrect sRGB profile\n"
     ]
    },
    {
     "name": "stdout",
     "output_type": "stream",
     "text": [
      "\u001b[1m45/98\u001b[0m \u001b[32m━━━━━━━━━\u001b[0m\u001b[37m━━━━━━━━━━━\u001b[0m \u001b[1m11s\u001b[0m 212ms/step - accuracy: 0.7670 - loss: 0.7473"
     ]
    },
    {
     "name": "stderr",
     "output_type": "stream",
     "text": [
      "2024-04-30 14:08:45.659121: W tensorflow/core/lib/png/png_io.cc:89] PNG warning: iCCP: known incorrect sRGB profile\n"
     ]
    },
    {
     "name": "stdout",
     "output_type": "stream",
     "text": [
      "\u001b[1m49/98\u001b[0m \u001b[32m━━━━━━━━━━\u001b[0m\u001b[37m━━━━━━━━━━\u001b[0m \u001b[1m10s\u001b[0m 214ms/step - accuracy: 0.7686 - loss: 0.7442"
     ]
    },
    {
     "name": "stderr",
     "output_type": "stream",
     "text": [
      "2024-04-30 14:08:46.582133: W tensorflow/core/lib/png/png_io.cc:89] PNG warning: iCCP: known incorrect sRGB profile\n"
     ]
    },
    {
     "name": "stdout",
     "output_type": "stream",
     "text": [
      "\u001b[1m52/98\u001b[0m \u001b[32m━━━━━━━━━━\u001b[0m\u001b[37m━━━━━━━━━━\u001b[0m \u001b[1m9s\u001b[0m 213ms/step - accuracy: 0.7697 - loss: 0.7417 "
     ]
    },
    {
     "name": "stderr",
     "output_type": "stream",
     "text": [
      "2024-04-30 14:08:47.023704: W tensorflow/core/lib/png/png_io.cc:89] PNG warning: iCCP: known incorrect sRGB profile\n"
     ]
    },
    {
     "name": "stdout",
     "output_type": "stream",
     "text": [
      "\u001b[1m61/98\u001b[0m \u001b[32m━━━━━━━━━━━━\u001b[0m\u001b[37m━━━━━━━━\u001b[0m \u001b[1m7s\u001b[0m 212ms/step - accuracy: 0.7722 - loss: 0.7369"
     ]
    },
    {
     "name": "stderr",
     "output_type": "stream",
     "text": [
      "2024-04-30 14:08:49.072634: W tensorflow/core/lib/png/png_io.cc:89] PNG warning: iCCP: known incorrect sRGB profile\n"
     ]
    },
    {
     "name": "stdout",
     "output_type": "stream",
     "text": [
      "\u001b[1m74/98\u001b[0m \u001b[32m━━━━━━━━━━━━━━━\u001b[0m\u001b[37m━━━━━\u001b[0m \u001b[1m5s\u001b[0m 212ms/step - accuracy: 0.7762 - loss: 0.7291"
     ]
    },
    {
     "name": "stderr",
     "output_type": "stream",
     "text": [
      "2024-04-30 14:08:51.582587: W tensorflow/core/lib/png/png_io.cc:89] PNG warning: iCCP: known incorrect sRGB profile\n"
     ]
    },
    {
     "name": "stdout",
     "output_type": "stream",
     "text": [
      "\u001b[1m86/98\u001b[0m \u001b[32m━━━━━━━━━━━━━━━━━\u001b[0m\u001b[37m━━━\u001b[0m \u001b[1m2s\u001b[0m 214ms/step - accuracy: 0.7792 - loss: 0.7242"
     ]
    },
    {
     "name": "stderr",
     "output_type": "stream",
     "text": [
      "2024-04-30 14:08:54.358749: W tensorflow/core/lib/png/png_io.cc:89] PNG warning: iCCP: known incorrect sRGB profile\n"
     ]
    },
    {
     "name": "stdout",
     "output_type": "stream",
     "text": [
      "\u001b[1m88/98\u001b[0m \u001b[32m━━━━━━━━━━━━━━━━━\u001b[0m\u001b[37m━━━\u001b[0m \u001b[1m2s\u001b[0m 215ms/step - accuracy: 0.7797 - loss: 0.7232"
     ]
    },
    {
     "name": "stderr",
     "output_type": "stream",
     "text": [
      "2024-04-30 14:08:55.041845: W tensorflow/core/lib/png/png_io.cc:89] PNG warning: iCCP: known incorrect sRGB profile\n",
      "2024-04-30 14:08:55.053477: W tensorflow/core/lib/png/png_io.cc:89] PNG warning: iCCP: known incorrect sRGB profile\n"
     ]
    },
    {
     "name": "stdout",
     "output_type": "stream",
     "text": [
      "\u001b[1m98/98\u001b[0m \u001b[32m━━━━━━━━━━━━━━━━━━━━\u001b[0m\u001b[37m\u001b[0m \u001b[1m0s\u001b[0m 207ms/step - accuracy: 0.7819 - loss: 0.7187"
     ]
    },
    {
     "name": "stderr",
     "output_type": "stream",
     "text": [
      "2024-04-30 14:08:56.899620: W tensorflow/core/lib/png/png_io.cc:89] PNG warning: iCCP: known incorrect sRGB profile\n",
      "2024-04-30 14:08:57.528316: W tensorflow/core/lib/png/png_io.cc:89] PNG warning: iCCP: known incorrect sRGB profile\n"
     ]
    },
    {
     "name": "stdout",
     "output_type": "stream",
     "text": [
      "\u001b[1m98/98\u001b[0m \u001b[32m━━━━━━━━━━━━━━━━━━━━\u001b[0m\u001b[37m\u001b[0m \u001b[1m23s\u001b[0m 228ms/step - accuracy: 0.7821 - loss: 0.7182 - val_accuracy: 0.8974 - val_loss: 0.5811\n",
      "Epoch 26/32\n",
      "\u001b[1m 1/98\u001b[0m \u001b[37m━━━━━━━━━━━━━━━━━━━━\u001b[0m \u001b[1m46s\u001b[0m 475ms/step - accuracy: 0.8438 - loss: 0.4741"
     ]
    },
    {
     "name": "stderr",
     "output_type": "stream",
     "text": [
      "2024-04-30 14:08:58.876520: W tensorflow/core/lib/png/png_io.cc:89] PNG warning: iCCP: known incorrect sRGB profile\n"
     ]
    },
    {
     "name": "stdout",
     "output_type": "stream",
     "text": [
      "\u001b[1m 4/98\u001b[0m \u001b[37m━━━━━━━━━━━━━━━━━━━━\u001b[0m \u001b[1m25s\u001b[0m 267ms/step - accuracy: 0.8229 - loss: 0.6036"
     ]
    },
    {
     "name": "stderr",
     "output_type": "stream",
     "text": [
      "2024-04-30 14:08:59.600736: W tensorflow/core/lib/png/png_io.cc:89] PNG warning: iCCP: known incorrect sRGB profile\n",
      "2024-04-30 14:08:59.661663: W tensorflow/core/lib/png/png_io.cc:89] PNG warning: iCCP: known incorrect sRGB profile\n"
     ]
    },
    {
     "name": "stdout",
     "output_type": "stream",
     "text": [
      "\u001b[1m12/98\u001b[0m \u001b[32m━━\u001b[0m\u001b[37m━━━━━━━━━━━━━━━━━━\u001b[0m \u001b[1m21s\u001b[0m 254ms/step - accuracy: 0.8026 - loss: 0.6710"
     ]
    },
    {
     "name": "stderr",
     "output_type": "stream",
     "text": [
      "2024-04-30 14:09:01.605614: W tensorflow/core/lib/png/png_io.cc:89] PNG warning: iCCP: known incorrect sRGB profile\n"
     ]
    },
    {
     "name": "stdout",
     "output_type": "stream",
     "text": [
      "\u001b[1m15/98\u001b[0m \u001b[32m━━━\u001b[0m\u001b[37m━━━━━━━━━━━━━━━━━\u001b[0m \u001b[1m20s\u001b[0m 251ms/step - accuracy: 0.8044 - loss: 0.6724"
     ]
    },
    {
     "name": "stderr",
     "output_type": "stream",
     "text": [
      "2024-04-30 14:09:02.413620: W tensorflow/core/lib/png/png_io.cc:89] PNG warning: iCCP: known incorrect sRGB profile\n"
     ]
    },
    {
     "name": "stdout",
     "output_type": "stream",
     "text": [
      "\u001b[1m18/98\u001b[0m \u001b[32m━━━\u001b[0m\u001b[37m━━━━━━━━━━━━━━━━━\u001b[0m \u001b[1m19s\u001b[0m 250ms/step - accuracy: 0.8070 - loss: 0.6653"
     ]
    },
    {
     "name": "stderr",
     "output_type": "stream",
     "text": [
      "2024-04-30 14:09:03.191953: W tensorflow/core/lib/png/png_io.cc:89] PNG warning: iCCP: known incorrect sRGB profile\n",
      "2024-04-30 14:09:03.245702: W tensorflow/core/lib/png/png_io.cc:89] PNG warning: iCCP: known incorrect sRGB profile\n"
     ]
    },
    {
     "name": "stdout",
     "output_type": "stream",
     "text": [
      "\u001b[1m21/98\u001b[0m \u001b[32m━━━━\u001b[0m\u001b[37m━━━━━━━━━━━━━━━━\u001b[0m \u001b[1m21s\u001b[0m 274ms/step - accuracy: 0.8093 - loss: 0.6570"
     ]
    },
    {
     "name": "stderr",
     "output_type": "stream",
     "text": [
      "2024-04-30 14:09:04.329053: W tensorflow/core/lib/png/png_io.cc:89] PNG warning: iCCP: known incorrect sRGB profile\n"
     ]
    },
    {
     "name": "stdout",
     "output_type": "stream",
     "text": [
      "\u001b[1m23/98\u001b[0m \u001b[32m━━━━\u001b[0m\u001b[37m━━━━━━━━━━━━━━━━\u001b[0m \u001b[1m21s\u001b[0m 280ms/step - accuracy: 0.8108 - loss: 0.6509"
     ]
    },
    {
     "name": "stderr",
     "output_type": "stream",
     "text": [
      "2024-04-30 14:09:04.937115: W tensorflow/core/lib/png/png_io.cc:89] PNG warning: iCCP: known incorrect sRGB profile\n"
     ]
    },
    {
     "name": "stdout",
     "output_type": "stream",
     "text": [
      "\u001b[1m24/98\u001b[0m \u001b[32m━━━━\u001b[0m\u001b[37m━━━━━━━━━━━━━━━━\u001b[0m \u001b[1m20s\u001b[0m 282ms/step - accuracy: 0.8115 - loss: 0.6482"
     ]
    },
    {
     "name": "stderr",
     "output_type": "stream",
     "text": [
      "2024-04-30 14:09:05.266639: W tensorflow/core/lib/png/png_io.cc:89] PNG warning: iCCP: known incorrect sRGB profile\n"
     ]
    },
    {
     "name": "stdout",
     "output_type": "stream",
     "text": [
      "\u001b[1m29/98\u001b[0m \u001b[32m━━━━━\u001b[0m\u001b[37m━━━━━━━━━━━━━━━\u001b[0m \u001b[1m18s\u001b[0m 273ms/step - accuracy: 0.8127 - loss: 0.6404"
     ]
    },
    {
     "name": "stderr",
     "output_type": "stream",
     "text": [
      "2024-04-30 14:09:06.401177: W tensorflow/core/lib/png/png_io.cc:89] PNG warning: iCCP: known incorrect sRGB profile\n"
     ]
    },
    {
     "name": "stdout",
     "output_type": "stream",
     "text": [
      "\u001b[1m35/98\u001b[0m \u001b[32m━━━━━━━\u001b[0m\u001b[37m━━━━━━━━━━━━━\u001b[0m \u001b[1m16s\u001b[0m 262ms/step - accuracy: 0.8131 - loss: 0.6358"
     ]
    },
    {
     "name": "stderr",
     "output_type": "stream",
     "text": [
      "2024-04-30 14:09:07.700766: W tensorflow/core/lib/png/png_io.cc:89] PNG warning: iCCP: known incorrect sRGB profile\n",
      "2024-04-30 14:09:07.890311: W tensorflow/core/lib/png/png_io.cc:89] PNG warning: iCCP: known incorrect sRGB profile\n"
     ]
    },
    {
     "name": "stdout",
     "output_type": "stream",
     "text": [
      "\u001b[1m36/98\u001b[0m \u001b[32m━━━━━━━\u001b[0m\u001b[37m━━━━━━━━━━━━━\u001b[0m \u001b[1m16s\u001b[0m 264ms/step - accuracy: 0.8132 - loss: 0.6357"
     ]
    },
    {
     "name": "stderr",
     "output_type": "stream",
     "text": [
      "2024-04-30 14:09:08.178649: W tensorflow/core/lib/png/png_io.cc:89] PNG warning: iCCP: known incorrect sRGB profile\n"
     ]
    },
    {
     "name": "stdout",
     "output_type": "stream",
     "text": [
      "\u001b[1m38/98\u001b[0m \u001b[32m━━━━━━━\u001b[0m\u001b[37m━━━━━━━━━━━━━\u001b[0m \u001b[1m15s\u001b[0m 263ms/step - accuracy: 0.8133 - loss: 0.6353"
     ]
    },
    {
     "name": "stderr",
     "output_type": "stream",
     "text": [
      "2024-04-30 14:09:08.511806: W tensorflow/core/lib/png/png_io.cc:89] PNG warning: iCCP: known incorrect sRGB profile\n"
     ]
    },
    {
     "name": "stdout",
     "output_type": "stream",
     "text": [
      "\u001b[1m44/98\u001b[0m \u001b[32m━━━━━━━━\u001b[0m\u001b[37m━━━━━━━━━━━━\u001b[0m \u001b[1m14s\u001b[0m 260ms/step - accuracy: 0.8131 - loss: 0.6358"
     ]
    },
    {
     "name": "stderr",
     "output_type": "stream",
     "text": [
      "2024-04-30 14:09:10.129431: W tensorflow/core/lib/png/png_io.cc:89] PNG warning: iCCP: known incorrect sRGB profile\n"
     ]
    },
    {
     "name": "stdout",
     "output_type": "stream",
     "text": [
      "\u001b[1m56/98\u001b[0m \u001b[32m━━━━━━━━━━━\u001b[0m\u001b[37m━━━━━━━━━\u001b[0m \u001b[1m10s\u001b[0m 254ms/step - accuracy: 0.8132 - loss: 0.6357"
     ]
    },
    {
     "name": "stderr",
     "output_type": "stream",
     "text": [
      "2024-04-30 14:09:12.765264: W tensorflow/core/lib/png/png_io.cc:89] PNG warning: iCCP: known incorrect sRGB profile\n"
     ]
    },
    {
     "name": "stdout",
     "output_type": "stream",
     "text": [
      "\u001b[1m61/98\u001b[0m \u001b[32m━━━━━━━━━━━━\u001b[0m\u001b[37m━━━━━━━━\u001b[0m \u001b[1m9s\u001b[0m 254ms/step - accuracy: 0.8133 - loss: 0.6360"
     ]
    },
    {
     "name": "stderr",
     "output_type": "stream",
     "text": [
      "2024-04-30 14:09:14.178923: W tensorflow/core/lib/png/png_io.cc:89] PNG warning: iCCP: known incorrect sRGB profile\n",
      "2024-04-30 14:09:14.230894: W tensorflow/core/lib/png/png_io.cc:89] PNG warning: iCCP: known incorrect sRGB profile\n"
     ]
    },
    {
     "name": "stdout",
     "output_type": "stream",
     "text": [
      "\u001b[1m63/98\u001b[0m \u001b[32m━━━━━━━━━━━━\u001b[0m\u001b[37m━━━━━━━━\u001b[0m \u001b[1m8s\u001b[0m 253ms/step - accuracy: 0.8133 - loss: 0.6359"
     ]
    },
    {
     "name": "stderr",
     "output_type": "stream",
     "text": [
      "2024-04-30 14:09:14.647729: W tensorflow/core/lib/png/png_io.cc:89] PNG warning: iCCP: known incorrect sRGB profile\n"
     ]
    },
    {
     "name": "stdout",
     "output_type": "stream",
     "text": [
      "\u001b[1m68/98\u001b[0m \u001b[32m━━━━━━━━━━━━━\u001b[0m\u001b[37m━━━━━━━\u001b[0m \u001b[1m7s\u001b[0m 251ms/step - accuracy: 0.8133 - loss: 0.6358"
     ]
    },
    {
     "name": "stderr",
     "output_type": "stream",
     "text": [
      "2024-04-30 14:09:15.813237: W tensorflow/core/lib/png/png_io.cc:89] PNG warning: iCCP: known incorrect sRGB profile\n",
      "2024-04-30 14:09:15.819834: W tensorflow/core/lib/png/png_io.cc:89] PNG warning: iCCP: known incorrect sRGB profile\n"
     ]
    },
    {
     "name": "stdout",
     "output_type": "stream",
     "text": [
      "\u001b[1m88/98\u001b[0m \u001b[32m━━━━━━━━━━━━━━━━━\u001b[0m\u001b[37m━━━\u001b[0m \u001b[1m2s\u001b[0m 249ms/step - accuracy: 0.8132 - loss: 0.6348"
     ]
    },
    {
     "name": "stderr",
     "output_type": "stream",
     "text": [
      "2024-04-30 14:09:20.459857: W tensorflow/core/lib/png/png_io.cc:89] PNG warning: iCCP: known incorrect sRGB profile\n"
     ]
    },
    {
     "name": "stdout",
     "output_type": "stream",
     "text": [
      "\u001b[1m98/98\u001b[0m \u001b[32m━━━━━━━━━━━━━━━━━━━━\u001b[0m\u001b[37m\u001b[0m \u001b[1m0s\u001b[0m 237ms/step - accuracy: 0.8136 - loss: 0.6333"
     ]
    },
    {
     "name": "stderr",
     "output_type": "stream",
     "text": [
      "2024-04-30 14:09:22.734666: W tensorflow/core/lib/png/png_io.cc:89] PNG warning: iCCP: known incorrect sRGB profile\n",
      "2024-04-30 14:09:23.476030: W tensorflow/core/lib/png/png_io.cc:89] PNG warning: iCCP: known incorrect sRGB profile\n"
     ]
    },
    {
     "name": "stdout",
     "output_type": "stream",
     "text": [
      "\u001b[1m98/98\u001b[0m \u001b[32m━━━━━━━━━━━━━━━━━━━━\u001b[0m\u001b[37m\u001b[0m \u001b[1m26s\u001b[0m 260ms/step - accuracy: 0.8136 - loss: 0.6332 - val_accuracy: 0.9060 - val_loss: 0.5362\n",
      "Epoch 27/32\n",
      "\u001b[1m 4/98\u001b[0m \u001b[37m━━━━━━━━━━━━━━━━━━━━\u001b[0m \u001b[1m35s\u001b[0m 378ms/step - accuracy: 0.8086 - loss: 0.6542"
     ]
    },
    {
     "name": "stderr",
     "output_type": "stream",
     "text": [
      "2024-04-30 14:09:25.836249: W tensorflow/core/lib/png/png_io.cc:89] PNG warning: iCCP: known incorrect sRGB profile\n"
     ]
    },
    {
     "name": "stdout",
     "output_type": "stream",
     "text": [
      "\u001b[1m11/98\u001b[0m \u001b[32m━━\u001b[0m\u001b[37m━━━━━━━━━━━━━━━━━━\u001b[0m \u001b[1m26s\u001b[0m 300ms/step - accuracy: 0.8193 - loss: 0.6253"
     ]
    },
    {
     "name": "stderr",
     "output_type": "stream",
     "text": [
      "2024-04-30 14:09:27.642975: W tensorflow/core/lib/png/png_io.cc:89] PNG warning: iCCP: known incorrect sRGB profile\n"
     ]
    },
    {
     "name": "stdout",
     "output_type": "stream",
     "text": [
      "\u001b[1m12/98\u001b[0m \u001b[32m━━\u001b[0m\u001b[37m━━━━━━━━━━━━━━━━━━\u001b[0m \u001b[1m25s\u001b[0m 297ms/step - accuracy: 0.8212 - loss: 0.6203"
     ]
    },
    {
     "name": "stderr",
     "output_type": "stream",
     "text": [
      "2024-04-30 14:09:27.988853: W tensorflow/core/lib/png/png_io.cc:89] PNG warning: iCCP: known incorrect sRGB profile\n",
      "2024-04-30 14:09:28.067197: W tensorflow/core/lib/png/png_io.cc:89] PNG warning: iCCP: known incorrect sRGB profile\n"
     ]
    },
    {
     "name": "stdout",
     "output_type": "stream",
     "text": [
      "\u001b[1m14/98\u001b[0m \u001b[32m━━\u001b[0m\u001b[37m━━━━━━━━━━━━━━━━━━\u001b[0m \u001b[1m24s\u001b[0m 294ms/step - accuracy: 0.8234 - loss: 0.6156"
     ]
    },
    {
     "name": "stderr",
     "output_type": "stream",
     "text": [
      "2024-04-30 14:09:28.375200: W tensorflow/core/lib/png/png_io.cc:89] PNG warning: iCCP: known incorrect sRGB profile\n"
     ]
    },
    {
     "name": "stdout",
     "output_type": "stream",
     "text": [
      "\u001b[1m16/98\u001b[0m \u001b[32m━━━\u001b[0m\u001b[37m━━━━━━━━━━━━━━━━━\u001b[0m \u001b[1m23s\u001b[0m 290ms/step - accuracy: 0.8252 - loss: 0.6128"
     ]
    },
    {
     "name": "stderr",
     "output_type": "stream",
     "text": [
      "2024-04-30 14:09:28.880040: W tensorflow/core/lib/png/png_io.cc:89] PNG warning: iCCP: known incorrect sRGB profile\n"
     ]
    },
    {
     "name": "stdout",
     "output_type": "stream",
     "text": [
      "\u001b[1m17/98\u001b[0m \u001b[32m━━━\u001b[0m\u001b[37m━━━━━━━━━━━━━━━━━\u001b[0m \u001b[1m23s\u001b[0m 289ms/step - accuracy: 0.8261 - loss: 0.6110"
     ]
    },
    {
     "name": "stderr",
     "output_type": "stream",
     "text": [
      "2024-04-30 14:09:29.181394: W tensorflow/core/lib/png/png_io.cc:89] PNG warning: iCCP: known incorrect sRGB profile\n"
     ]
    },
    {
     "name": "stdout",
     "output_type": "stream",
     "text": [
      "\u001b[1m21/98\u001b[0m \u001b[32m━━━━\u001b[0m\u001b[37m━━━━━━━━━━━━━━━━\u001b[0m \u001b[1m21s\u001b[0m 285ms/step - accuracy: 0.8289 - loss: 0.6051"
     ]
    },
    {
     "name": "stderr",
     "output_type": "stream",
     "text": [
      "2024-04-30 14:09:30.277909: W tensorflow/core/lib/png/png_io.cc:89] PNG warning: iCCP: known incorrect sRGB profile\n"
     ]
    },
    {
     "name": "stdout",
     "output_type": "stream",
     "text": [
      "\u001b[1m23/98\u001b[0m \u001b[32m━━━━\u001b[0m\u001b[37m━━━━━━━━━━━━━━━━\u001b[0m \u001b[1m21s\u001b[0m 283ms/step - accuracy: 0.8301 - loss: 0.6029"
     ]
    },
    {
     "name": "stderr",
     "output_type": "stream",
     "text": [
      "2024-04-30 14:09:30.865368: W tensorflow/core/lib/png/png_io.cc:89] PNG warning: iCCP: known incorrect sRGB profile\n"
     ]
    },
    {
     "name": "stdout",
     "output_type": "stream",
     "text": [
      "\u001b[1m26/98\u001b[0m \u001b[32m━━━━━\u001b[0m\u001b[37m━━━━━━━━━━━━━━━\u001b[0m \u001b[1m19s\u001b[0m 277ms/step - accuracy: 0.8317 - loss: 0.6003"
     ]
    },
    {
     "name": "stderr",
     "output_type": "stream",
     "text": [
      "2024-04-30 14:09:31.427357: W tensorflow/core/lib/png/png_io.cc:89] PNG warning: iCCP: known incorrect sRGB profile\n"
     ]
    },
    {
     "name": "stdout",
     "output_type": "stream",
     "text": [
      "\u001b[1m31/98\u001b[0m \u001b[32m━━━━━━\u001b[0m\u001b[37m━━━━━━━━━━━━━━\u001b[0m \u001b[1m18s\u001b[0m 270ms/step - accuracy: 0.8328 - loss: 0.5983"
     ]
    },
    {
     "name": "stderr",
     "output_type": "stream",
     "text": [
      "2024-04-30 14:09:32.800326: W tensorflow/core/lib/png/png_io.cc:89] PNG warning: iCCP: known incorrect sRGB profile\n"
     ]
    },
    {
     "name": "stdout",
     "output_type": "stream",
     "text": [
      "\u001b[1m33/98\u001b[0m \u001b[32m━━━━━━\u001b[0m\u001b[37m━━━━━━━━━━━━━━\u001b[0m \u001b[1m17s\u001b[0m 267ms/step - accuracy: 0.8331 - loss: 0.5983"
     ]
    },
    {
     "name": "stderr",
     "output_type": "stream",
     "text": [
      "2024-04-30 14:09:33.040004: W tensorflow/core/lib/png/png_io.cc:89] PNG warning: iCCP: known incorrect sRGB profile\n"
     ]
    },
    {
     "name": "stdout",
     "output_type": "stream",
     "text": [
      "\u001b[1m37/98\u001b[0m \u001b[32m━━━━━━━\u001b[0m\u001b[37m━━━━━━━━━━━━━\u001b[0m \u001b[1m16s\u001b[0m 265ms/step - accuracy: 0.8340 - loss: 0.5978"
     ]
    },
    {
     "name": "stderr",
     "output_type": "stream",
     "text": [
      "2024-04-30 14:09:34.242996: W tensorflow/core/lib/png/png_io.cc:89] PNG warning: iCCP: known incorrect sRGB profile\n"
     ]
    },
    {
     "name": "stdout",
     "output_type": "stream",
     "text": [
      "\u001b[1m40/98\u001b[0m \u001b[32m━━━━━━━━\u001b[0m\u001b[37m━━━━━━━━━━━━\u001b[0m \u001b[1m15s\u001b[0m 262ms/step - accuracy: 0.8344 - loss: 0.5968"
     ]
    },
    {
     "name": "stderr",
     "output_type": "stream",
     "text": [
      "2024-04-30 14:09:34.732669: W tensorflow/core/lib/png/png_io.cc:89] PNG warning: iCCP: known incorrect sRGB profile\n"
     ]
    },
    {
     "name": "stdout",
     "output_type": "stream",
     "text": [
      "\u001b[1m44/98\u001b[0m \u001b[32m━━━━━━━━\u001b[0m\u001b[37m━━━━━━━━━━━━\u001b[0m \u001b[1m14s\u001b[0m 262ms/step - accuracy: 0.8345 - loss: 0.5959"
     ]
    },
    {
     "name": "stderr",
     "output_type": "stream",
     "text": [
      "2024-04-30 14:09:35.964377: W tensorflow/core/lib/png/png_io.cc:89] PNG warning: iCCP: known incorrect sRGB profile\n"
     ]
    },
    {
     "name": "stdout",
     "output_type": "stream",
     "text": [
      "\u001b[1m47/98\u001b[0m \u001b[32m━━━━━━━━━\u001b[0m\u001b[37m━━━━━━━━━━━\u001b[0m \u001b[1m13s\u001b[0m 259ms/step - accuracy: 0.8344 - loss: 0.5962"
     ]
    },
    {
     "name": "stderr",
     "output_type": "stream",
     "text": [
      "2024-04-30 14:09:36.631942: W tensorflow/core/lib/png/png_io.cc:89] PNG warning: iCCP: known incorrect sRGB profile\n"
     ]
    },
    {
     "name": "stdout",
     "output_type": "stream",
     "text": [
      "\u001b[1m55/98\u001b[0m \u001b[32m━━━━━━━━━━━\u001b[0m\u001b[37m━━━━━━━━━\u001b[0m \u001b[1m10s\u001b[0m 254ms/step - accuracy: 0.8342 - loss: 0.5973"
     ]
    },
    {
     "name": "stderr",
     "output_type": "stream",
     "text": [
      "2024-04-30 14:09:38.440831: W tensorflow/core/lib/png/png_io.cc:89] PNG warning: iCCP: known incorrect sRGB profile\n"
     ]
    },
    {
     "name": "stdout",
     "output_type": "stream",
     "text": [
      "\u001b[1m58/98\u001b[0m \u001b[32m━━━━━━━━━━━\u001b[0m\u001b[37m━━━━━━━━━\u001b[0m \u001b[1m10s\u001b[0m 254ms/step - accuracy: 0.8341 - loss: 0.5973"
     ]
    },
    {
     "name": "stderr",
     "output_type": "stream",
     "text": [
      "2024-04-30 14:09:39.032014: W tensorflow/core/lib/png/png_io.cc:89] PNG warning: iCCP: known incorrect sRGB profile\n"
     ]
    },
    {
     "name": "stdout",
     "output_type": "stream",
     "text": [
      "\u001b[1m62/98\u001b[0m \u001b[32m━━━━━━━━━━━━\u001b[0m\u001b[37m━━━━━━━━\u001b[0m \u001b[1m9s\u001b[0m 253ms/step - accuracy: 0.8340 - loss: 0.5967"
     ]
    },
    {
     "name": "stderr",
     "output_type": "stream",
     "text": [
      "2024-04-30 14:09:40.151549: W tensorflow/core/lib/png/png_io.cc:89] PNG warning: iCCP: known incorrect sRGB profile\n"
     ]
    },
    {
     "name": "stdout",
     "output_type": "stream",
     "text": [
      "\u001b[1m71/98\u001b[0m \u001b[32m━━━━━━━━━━━━━━\u001b[0m\u001b[37m━━━━━━\u001b[0m \u001b[1m6s\u001b[0m 250ms/step - accuracy: 0.8338 - loss: 0.5952"
     ]
    },
    {
     "name": "stderr",
     "output_type": "stream",
     "text": [
      "2024-04-30 14:09:42.118751: W tensorflow/core/lib/png/png_io.cc:89] PNG warning: iCCP: known incorrect sRGB profile\n"
     ]
    },
    {
     "name": "stdout",
     "output_type": "stream",
     "text": [
      "\u001b[1m76/98\u001b[0m \u001b[32m━━━━━━━━━━━━━━━\u001b[0m\u001b[37m━━━━━\u001b[0m \u001b[1m5s\u001b[0m 252ms/step - accuracy: 0.8338 - loss: 0.5944"
     ]
    },
    {
     "name": "stderr",
     "output_type": "stream",
     "text": [
      "2024-04-30 14:09:43.366698: W tensorflow/core/lib/png/png_io.cc:89] PNG warning: iCCP: known incorrect sRGB profile\n"
     ]
    },
    {
     "name": "stdout",
     "output_type": "stream",
     "text": [
      "\u001b[1m77/98\u001b[0m \u001b[32m━━━━━━━━━━━━━━━\u001b[0m\u001b[37m━━━━━\u001b[0m \u001b[1m5s\u001b[0m 252ms/step - accuracy: 0.8338 - loss: 0.5943"
     ]
    },
    {
     "name": "stderr",
     "output_type": "stream",
     "text": [
      "2024-04-30 14:09:43.909026: W tensorflow/core/lib/png/png_io.cc:89] PNG warning: iCCP: known incorrect sRGB profile\n"
     ]
    },
    {
     "name": "stdout",
     "output_type": "stream",
     "text": [
      "\u001b[1m80/98\u001b[0m \u001b[32m━━━━━━━━━━━━━━━━\u001b[0m\u001b[37m━━━━\u001b[0m \u001b[1m4s\u001b[0m 255ms/step - accuracy: 0.8338 - loss: 0.5935"
     ]
    },
    {
     "name": "stderr",
     "output_type": "stream",
     "text": [
      "2024-04-30 14:09:44.839095: W tensorflow/core/lib/png/png_io.cc:89] PNG warning: iCCP: known incorrect sRGB profile\n"
     ]
    },
    {
     "name": "stdout",
     "output_type": "stream",
     "text": [
      "\u001b[1m98/98\u001b[0m \u001b[32m━━━━━━━━━━━━━━━━━━━━\u001b[0m\u001b[37m\u001b[0m \u001b[1m0s\u001b[0m 243ms/step - accuracy: 0.8350 - loss: 0.5878"
     ]
    },
    {
     "name": "stderr",
     "output_type": "stream",
     "text": [
      "2024-04-30 14:09:49.029331: W tensorflow/core/lib/png/png_io.cc:89] PNG warning: iCCP: known incorrect sRGB profile\n",
      "2024-04-30 14:09:49.098394: W tensorflow/core/lib/png/png_io.cc:89] PNG warning: iCCP: known incorrect sRGB profile\n"
     ]
    },
    {
     "name": "stdout",
     "output_type": "stream",
     "text": [
      "\u001b[1m98/98\u001b[0m \u001b[32m━━━━━━━━━━━━━━━━━━━━\u001b[0m\u001b[37m\u001b[0m \u001b[1m26s\u001b[0m 267ms/step - accuracy: 0.8351 - loss: 0.5874 - val_accuracy: 0.9174 - val_loss: 0.4644\n",
      "Epoch 28/32\n",
      "\u001b[1m 3/98\u001b[0m \u001b[37m━━━━━━━━━━━━━━━━━━━━\u001b[0m \u001b[1m26s\u001b[0m 277ms/step - accuracy: 0.9028 - loss: 0.4145"
     ]
    },
    {
     "name": "stderr",
     "output_type": "stream",
     "text": [
      "2024-04-30 14:09:52.322130: W tensorflow/core/lib/png/png_io.cc:89] PNG warning: iCCP: known incorrect sRGB profile\n"
     ]
    },
    {
     "name": "stdout",
     "output_type": "stream",
     "text": [
      "\u001b[1m12/98\u001b[0m \u001b[32m━━\u001b[0m\u001b[37m━━━━━━━━━━━━━━━━━━\u001b[0m \u001b[1m22s\u001b[0m 266ms/step - accuracy: 0.8660 - loss: 0.5525"
     ]
    },
    {
     "name": "stderr",
     "output_type": "stream",
     "text": [
      "2024-04-30 14:09:54.743743: W tensorflow/core/lib/png/png_io.cc:89] PNG warning: iCCP: known incorrect sRGB profile\n"
     ]
    },
    {
     "name": "stdout",
     "output_type": "stream",
     "text": [
      "\u001b[1m14/98\u001b[0m \u001b[32m━━\u001b[0m\u001b[37m━━━━━━━━━━━━━━━━━━\u001b[0m \u001b[1m22s\u001b[0m 266ms/step - accuracy: 0.8655 - loss: 0.5535"
     ]
    },
    {
     "name": "stderr",
     "output_type": "stream",
     "text": [
      "2024-04-30 14:09:55.076555: W tensorflow/core/lib/png/png_io.cc:89] PNG warning: iCCP: known incorrect sRGB profile\n"
     ]
    },
    {
     "name": "stdout",
     "output_type": "stream",
     "text": [
      "\u001b[1m15/98\u001b[0m \u001b[32m━━━\u001b[0m\u001b[37m━━━━━━━━━━━━━━━━━\u001b[0m \u001b[1m21s\u001b[0m 265ms/step - accuracy: 0.8651 - loss: 0.5537"
     ]
    },
    {
     "name": "stderr",
     "output_type": "stream",
     "text": [
      "2024-04-30 14:09:55.465291: W tensorflow/core/lib/png/png_io.cc:89] PNG warning: iCCP: known incorrect sRGB profile\n"
     ]
    },
    {
     "name": "stdout",
     "output_type": "stream",
     "text": [
      "\u001b[1m20/98\u001b[0m \u001b[32m━━━━\u001b[0m\u001b[37m━━━━━━━━━━━━━━━━\u001b[0m \u001b[1m20s\u001b[0m 265ms/step - accuracy: 0.8646 - loss: 0.5503"
     ]
    },
    {
     "name": "stderr",
     "output_type": "stream",
     "text": [
      "2024-04-30 14:09:56.604967: W tensorflow/core/lib/png/png_io.cc:89] PNG warning: iCCP: known incorrect sRGB profile\n",
      "2024-04-30 14:09:56.605915: W tensorflow/core/lib/png/png_io.cc:89] PNG warning: iCCP: known incorrect sRGB profile\n",
      "2024-04-30 14:09:56.798988: W tensorflow/core/lib/png/png_io.cc:89] PNG warning: iCCP: known incorrect sRGB profile\n"
     ]
    },
    {
     "name": "stdout",
     "output_type": "stream",
     "text": [
      "\u001b[1m22/98\u001b[0m \u001b[32m━━━━\u001b[0m\u001b[37m━━━━━━━━━━━━━━━━\u001b[0m \u001b[1m19s\u001b[0m 262ms/step - accuracy: 0.8643 - loss: 0.5477"
     ]
    },
    {
     "name": "stderr",
     "output_type": "stream",
     "text": [
      "2024-04-30 14:09:57.093677: W tensorflow/core/lib/png/png_io.cc:89] PNG warning: iCCP: known incorrect sRGB profile\n",
      "2024-04-30 14:09:57.269946: W tensorflow/core/lib/png/png_io.cc:89] PNG warning: iCCP: known incorrect sRGB profile\n"
     ]
    },
    {
     "name": "stdout",
     "output_type": "stream",
     "text": [
      "\u001b[1m25/98\u001b[0m \u001b[32m━━━━━\u001b[0m\u001b[37m━━━━━━━━━━━━━━━\u001b[0m \u001b[1m18s\u001b[0m 260ms/step - accuracy: 0.8638 - loss: 0.5426"
     ]
    },
    {
     "name": "stderr",
     "output_type": "stream",
     "text": [
      "2024-04-30 14:09:57.989501: W tensorflow/core/lib/png/png_io.cc:89] PNG warning: iCCP: known incorrect sRGB profile\n"
     ]
    },
    {
     "name": "stdout",
     "output_type": "stream",
     "text": [
      "\u001b[1m28/98\u001b[0m \u001b[32m━━━━━\u001b[0m\u001b[37m━━━━━━━━━━━━━━━\u001b[0m \u001b[1m18s\u001b[0m 258ms/step - accuracy: 0.8633 - loss: 0.5376"
     ]
    },
    {
     "name": "stderr",
     "output_type": "stream",
     "text": [
      "2024-04-30 14:09:58.730799: W tensorflow/core/lib/png/png_io.cc:89] PNG warning: iCCP: known incorrect sRGB profile\n"
     ]
    },
    {
     "name": "stdout",
     "output_type": "stream",
     "text": [
      "\u001b[1m32/98\u001b[0m \u001b[32m━━━━━━\u001b[0m\u001b[37m━━━━━━━━━━━━━━\u001b[0m \u001b[1m16s\u001b[0m 254ms/step - accuracy: 0.8626 - loss: 0.5321"
     ]
    },
    {
     "name": "stderr",
     "output_type": "stream",
     "text": [
      "2024-04-30 14:09:59.444836: W tensorflow/core/lib/png/png_io.cc:89] PNG warning: iCCP: known incorrect sRGB profile\n"
     ]
    },
    {
     "name": "stdout",
     "output_type": "stream",
     "text": [
      "\u001b[1m38/98\u001b[0m \u001b[32m━━━━━━━\u001b[0m\u001b[37m━━━━━━━━━━━━━\u001b[0m \u001b[1m15s\u001b[0m 251ms/step - accuracy: 0.8619 - loss: 0.5259"
     ]
    },
    {
     "name": "stderr",
     "output_type": "stream",
     "text": [
      "2024-04-30 14:10:00.832814: W tensorflow/core/lib/png/png_io.cc:89] PNG warning: iCCP: known incorrect sRGB profile\n",
      "2024-04-30 14:10:00.852095: W tensorflow/core/lib/png/png_io.cc:89] PNG warning: iCCP: known incorrect sRGB profile\n",
      "2024-04-30 14:10:01.056146: W tensorflow/core/lib/png/png_io.cc:89] PNG warning: iCCP: known incorrect sRGB profile\n",
      "2024-04-30 14:10:01.057347: W tensorflow/core/lib/png/png_io.cc:89] PNG warning: iCCP: known incorrect sRGB profile\n"
     ]
    },
    {
     "name": "stdout",
     "output_type": "stream",
     "text": [
      "\u001b[1m55/98\u001b[0m \u001b[32m━━━━━━━━━━━\u001b[0m\u001b[37m━━━━━━━━━\u001b[0m \u001b[1m10s\u001b[0m 252ms/step - accuracy: 0.8581 - loss: 0.5265"
     ]
    },
    {
     "name": "stderr",
     "output_type": "stream",
     "text": [
      "2024-04-30 14:10:05.380946: W tensorflow/core/lib/png/png_io.cc:89] PNG warning: iCCP: known incorrect sRGB profile\n",
      "2024-04-30 14:10:05.481708: W tensorflow/core/lib/png/png_io.cc:89] PNG warning: iCCP: known incorrect sRGB profile\n"
     ]
    },
    {
     "name": "stdout",
     "output_type": "stream",
     "text": [
      "\u001b[1m61/98\u001b[0m \u001b[32m━━━━━━━━━━━━\u001b[0m\u001b[37m━━━━━━━━\u001b[0m \u001b[1m9s\u001b[0m 253ms/step - accuracy: 0.8567 - loss: 0.5299"
     ]
    },
    {
     "name": "stderr",
     "output_type": "stream",
     "text": [
      "2024-04-30 14:10:06.934879: W tensorflow/core/lib/png/png_io.cc:89] PNG warning: iCCP: known incorrect sRGB profile\n"
     ]
    },
    {
     "name": "stdout",
     "output_type": "stream",
     "text": [
      "\u001b[1m66/98\u001b[0m \u001b[32m━━━━━━━━━━━━━\u001b[0m\u001b[37m━━━━━━━\u001b[0m \u001b[1m8s\u001b[0m 253ms/step - accuracy: 0.8557 - loss: 0.5329"
     ]
    },
    {
     "name": "stderr",
     "output_type": "stream",
     "text": [
      "2024-04-30 14:10:08.175223: W tensorflow/core/lib/png/png_io.cc:89] PNG warning: iCCP: known incorrect sRGB profile\n",
      "2024-04-30 14:10:08.219672: W tensorflow/core/lib/png/png_io.cc:89] PNG warning: iCCP: known incorrect sRGB profile\n"
     ]
    },
    {
     "name": "stdout",
     "output_type": "stream",
     "text": [
      "\u001b[1m79/98\u001b[0m \u001b[32m━━━━━━━━━━━━━━━━\u001b[0m\u001b[37m━━━━\u001b[0m \u001b[1m4s\u001b[0m 255ms/step - accuracy: 0.8533 - loss: 0.5395"
     ]
    },
    {
     "name": "stderr",
     "output_type": "stream",
     "text": [
      "2024-04-30 14:10:11.504010: W tensorflow/core/lib/png/png_io.cc:89] PNG warning: iCCP: known incorrect sRGB profile\n"
     ]
    },
    {
     "name": "stdout",
     "output_type": "stream",
     "text": [
      "\u001b[1m87/98\u001b[0m \u001b[32m━━━━━━━━━━━━━━━━━\u001b[0m\u001b[37m━━━\u001b[0m \u001b[1m2s\u001b[0m 255ms/step - accuracy: 0.8520 - loss: 0.5429"
     ]
    },
    {
     "name": "stderr",
     "output_type": "stream",
     "text": [
      "2024-04-30 14:10:13.540066: W tensorflow/core/lib/png/png_io.cc:89] PNG warning: iCCP: known incorrect sRGB profile\n"
     ]
    },
    {
     "name": "stdout",
     "output_type": "stream",
     "text": [
      "\u001b[1m98/98\u001b[0m \u001b[32m━━━━━━━━━━━━━━━━━━━━\u001b[0m\u001b[37m\u001b[0m \u001b[1m0s\u001b[0m 244ms/step - accuracy: 0.8503 - loss: 0.5471"
     ]
    },
    {
     "name": "stderr",
     "output_type": "stream",
     "text": [
      "2024-04-30 14:10:15.969778: W tensorflow/core/lib/png/png_io.cc:89] PNG warning: iCCP: known incorrect sRGB profile\n",
      "2024-04-30 14:10:16.349399: W tensorflow/core/lib/png/png_io.cc:89] PNG warning: iCCP: known incorrect sRGB profile\n"
     ]
    },
    {
     "name": "stdout",
     "output_type": "stream",
     "text": [
      "\u001b[1m98/98\u001b[0m \u001b[32m━━━━━━━━━━━━━━━━━━━━\u001b[0m\u001b[37m\u001b[0m \u001b[1m27s\u001b[0m 269ms/step - accuracy: 0.8501 - loss: 0.5474 - val_accuracy: 0.8946 - val_loss: 0.5535\n",
      "Epoch 29/32\n"
     ]
    },
    {
     "name": "stderr",
     "output_type": "stream",
     "text": [
      "2024-04-30 14:10:18.204304: W tensorflow/core/lib/png/png_io.cc:89] PNG warning: iCCP: known incorrect sRGB profile\n"
     ]
    },
    {
     "name": "stdout",
     "output_type": "stream",
     "text": [
      "\u001b[1m 4/98\u001b[0m \u001b[37m━━━━━━━━━━━━━━━━━━━━\u001b[0m \u001b[1m25s\u001b[0m 269ms/step - accuracy: 0.9036 - loss: 0.3045"
     ]
    },
    {
     "name": "stderr",
     "output_type": "stream",
     "text": [
      "2024-04-30 14:10:19.099886: W tensorflow/core/lib/png/png_io.cc:89] PNG warning: iCCP: known incorrect sRGB profile\n"
     ]
    },
    {
     "name": "stdout",
     "output_type": "stream",
     "text": [
      "\u001b[1m 5/98\u001b[0m \u001b[32m━\u001b[0m\u001b[37m━━━━━━━━━━━━━━━━━━━\u001b[0m \u001b[1m25s\u001b[0m 272ms/step - accuracy: 0.9017 - loss: 0.3301"
     ]
    },
    {
     "name": "stderr",
     "output_type": "stream",
     "text": [
      "2024-04-30 14:10:19.497731: W tensorflow/core/lib/png/png_io.cc:89] PNG warning: iCCP: known incorrect sRGB profile\n"
     ]
    },
    {
     "name": "stdout",
     "output_type": "stream",
     "text": [
      "\u001b[1m 9/98\u001b[0m \u001b[32m━\u001b[0m\u001b[37m━━━━━━━━━━━━━━━━━━━\u001b[0m \u001b[1m29s\u001b[0m 327ms/step - accuracy: 0.8950 - loss: 0.3768"
     ]
    },
    {
     "name": "stderr",
     "output_type": "stream",
     "text": [
      "2024-04-30 14:10:21.017232: W tensorflow/core/lib/png/png_io.cc:89] PNG warning: iCCP: known incorrect sRGB profile\n"
     ]
    },
    {
     "name": "stdout",
     "output_type": "stream",
     "text": [
      "\u001b[1m13/98\u001b[0m \u001b[32m━━\u001b[0m\u001b[37m━━━━━━━━━━━━━━━━━━\u001b[0m \u001b[1m26s\u001b[0m 307ms/step - accuracy: 0.8898 - loss: 0.3982"
     ]
    },
    {
     "name": "stderr",
     "output_type": "stream",
     "text": [
      "2024-04-30 14:10:22.068944: W tensorflow/core/lib/png/png_io.cc:89] PNG warning: iCCP: known incorrect sRGB profile\n",
      "2024-04-30 14:10:22.097726: W tensorflow/core/lib/png/png_io.cc:89] PNG warning: iCCP: known incorrect sRGB profile\n",
      "2024-04-30 14:10:22.236395: W tensorflow/core/lib/png/png_io.cc:89] PNG warning: iCCP: known incorrect sRGB profile\n"
     ]
    },
    {
     "name": "stdout",
     "output_type": "stream",
     "text": [
      "\u001b[1m20/98\u001b[0m \u001b[32m━━━━\u001b[0m\u001b[37m━━━━━━━━━━━━━━━━\u001b[0m \u001b[1m22s\u001b[0m 294ms/step - accuracy: 0.8846 - loss: 0.4245"
     ]
    },
    {
     "name": "stderr",
     "output_type": "stream",
     "text": [
      "2024-04-30 14:10:23.865943: W tensorflow/core/lib/png/png_io.cc:89] PNG warning: iCCP: known incorrect sRGB profile\n",
      "2024-04-30 14:10:24.053778: W tensorflow/core/lib/png/png_io.cc:89] PNG warning: iCCP: known incorrect sRGB profile\n"
     ]
    },
    {
     "name": "stdout",
     "output_type": "stream",
     "text": [
      "\u001b[1m24/98\u001b[0m \u001b[32m━━━━\u001b[0m\u001b[37m━━━━━━━━━━━━━━━━\u001b[0m \u001b[1m21s\u001b[0m 290ms/step - accuracy: 0.8833 - loss: 0.4321"
     ]
    },
    {
     "name": "stderr",
     "output_type": "stream",
     "text": [
      "2024-04-30 14:10:24.953994: W tensorflow/core/lib/png/png_io.cc:89] PNG warning: iCCP: known incorrect sRGB profile\n",
      "2024-04-30 14:10:24.977990: W tensorflow/core/lib/png/png_io.cc:89] PNG warning: iCCP: known incorrect sRGB profile\n"
     ]
    },
    {
     "name": "stdout",
     "output_type": "stream",
     "text": [
      "\u001b[1m29/98\u001b[0m \u001b[32m━━━━━\u001b[0m\u001b[37m━━━━━━━━━━━━━━━\u001b[0m \u001b[1m19s\u001b[0m 285ms/step - accuracy: 0.8823 - loss: 0.4388"
     ]
    },
    {
     "name": "stderr",
     "output_type": "stream",
     "text": [
      "2024-04-30 14:10:26.426049: W tensorflow/core/lib/png/png_io.cc:89] PNG warning: iCCP: known incorrect sRGB profile\n"
     ]
    },
    {
     "name": "stdout",
     "output_type": "stream",
     "text": [
      "\u001b[1m32/98\u001b[0m \u001b[32m━━━━━━\u001b[0m\u001b[37m━━━━━━━━━━━━━━\u001b[0m \u001b[1m18s\u001b[0m 281ms/step - accuracy: 0.8817 - loss: 0.4423"
     ]
    },
    {
     "name": "stderr",
     "output_type": "stream",
     "text": [
      "2024-04-30 14:10:26.979762: W tensorflow/core/lib/png/png_io.cc:89] PNG warning: iCCP: known incorrect sRGB profile\n"
     ]
    },
    {
     "name": "stdout",
     "output_type": "stream",
     "text": [
      "\u001b[1m33/98\u001b[0m \u001b[32m━━━━━━\u001b[0m\u001b[37m━━━━━━━━━━━━━━\u001b[0m \u001b[1m18s\u001b[0m 281ms/step - accuracy: 0.8815 - loss: 0.4439"
     ]
    },
    {
     "name": "stderr",
     "output_type": "stream",
     "text": [
      "2024-04-30 14:10:27.294353: W tensorflow/core/lib/png/png_io.cc:89] PNG warning: iCCP: known incorrect sRGB profile\n"
     ]
    },
    {
     "name": "stdout",
     "output_type": "stream",
     "text": [
      "\u001b[1m38/98\u001b[0m \u001b[32m━━━━━━━\u001b[0m\u001b[37m━━━━━━━━━━━━━\u001b[0m \u001b[1m16s\u001b[0m 277ms/step - accuracy: 0.8799 - loss: 0.4522"
     ]
    },
    {
     "name": "stderr",
     "output_type": "stream",
     "text": [
      "2024-04-30 14:10:28.671378: W tensorflow/core/lib/png/png_io.cc:89] PNG warning: iCCP: known incorrect sRGB profile\n",
      "2024-04-30 14:10:28.676276: W tensorflow/core/lib/png/png_io.cc:89] PNG warning: iCCP: known incorrect sRGB profile\n",
      "2024-04-30 14:10:28.786620: W tensorflow/core/lib/png/png_io.cc:89] PNG warning: iCCP: known incorrect sRGB profile\n"
     ]
    },
    {
     "name": "stdout",
     "output_type": "stream",
     "text": [
      "\u001b[1m53/98\u001b[0m \u001b[32m━━━━━━━━━━\u001b[0m\u001b[37m━━━━━━━━━━\u001b[0m \u001b[1m12s\u001b[0m 271ms/step - accuracy: 0.8760 - loss: 0.4687"
     ]
    },
    {
     "name": "stderr",
     "output_type": "stream",
     "text": [
      "2024-04-30 14:10:32.550519: W tensorflow/core/lib/png/png_io.cc:89] PNG warning: iCCP: known incorrect sRGB profile\n"
     ]
    },
    {
     "name": "stdout",
     "output_type": "stream",
     "text": [
      "\u001b[1m67/98\u001b[0m \u001b[32m━━━━━━━━━━━━━\u001b[0m\u001b[37m━━━━━━━\u001b[0m \u001b[1m8s\u001b[0m 268ms/step - accuracy: 0.8727 - loss: 0.4814"
     ]
    },
    {
     "name": "stderr",
     "output_type": "stream",
     "text": [
      "2024-04-30 14:10:36.117220: W tensorflow/core/lib/png/png_io.cc:89] PNG warning: iCCP: known incorrect sRGB profile\n"
     ]
    },
    {
     "name": "stdout",
     "output_type": "stream",
     "text": [
      "\u001b[1m68/98\u001b[0m \u001b[32m━━━━━━━━━━━━━\u001b[0m\u001b[37m━━━━━━━\u001b[0m \u001b[1m8s\u001b[0m 268ms/step - accuracy: 0.8725 - loss: 0.4821"
     ]
    },
    {
     "name": "stderr",
     "output_type": "stream",
     "text": [
      "2024-04-30 14:10:36.412134: W tensorflow/core/lib/png/png_io.cc:89] PNG warning: iCCP: known incorrect sRGB profile\n"
     ]
    },
    {
     "name": "stdout",
     "output_type": "stream",
     "text": [
      "\u001b[1m73/98\u001b[0m \u001b[32m━━━━━━━━━━━━━━\u001b[0m\u001b[37m━━━━━━\u001b[0m \u001b[1m6s\u001b[0m 267ms/step - accuracy: 0.8716 - loss: 0.4852"
     ]
    },
    {
     "name": "stderr",
     "output_type": "stream",
     "text": [
      "2024-04-30 14:10:37.677291: W tensorflow/core/lib/png/png_io.cc:89] PNG warning: iCCP: known incorrect sRGB profile\n"
     ]
    },
    {
     "name": "stdout",
     "output_type": "stream",
     "text": [
      "\u001b[1m81/98\u001b[0m \u001b[32m━━━━━━━━━━━━━━━━\u001b[0m\u001b[37m━━━━\u001b[0m \u001b[1m4s\u001b[0m 268ms/step - accuracy: 0.8704 - loss: 0.4885"
     ]
    },
    {
     "name": "stderr",
     "output_type": "stream",
     "text": [
      "2024-04-30 14:10:39.882076: W tensorflow/core/lib/png/png_io.cc:89] PNG warning: iCCP: known incorrect sRGB profile\n",
      "2024-04-30 14:10:39.940378: W tensorflow/core/lib/png/png_io.cc:89] PNG warning: iCCP: known incorrect sRGB profile\n"
     ]
    },
    {
     "name": "stdout",
     "output_type": "stream",
     "text": [
      "\u001b[1m98/98\u001b[0m \u001b[32m━━━━━━━━━━━━━━━━━━━━\u001b[0m\u001b[37m\u001b[0m \u001b[1m0s\u001b[0m 250ms/step - accuracy: 0.8689 - loss: 0.4926"
     ]
    },
    {
     "name": "stderr",
     "output_type": "stream",
     "text": [
      "2024-04-30 14:10:42.968778: W tensorflow/core/lib/png/png_io.cc:89] PNG warning: iCCP: known incorrect sRGB profile\n",
      "2024-04-30 14:10:43.519577: W tensorflow/core/lib/png/png_io.cc:89] PNG warning: iCCP: known incorrect sRGB profile\n"
     ]
    },
    {
     "name": "stdout",
     "output_type": "stream",
     "text": [
      "\u001b[1m98/98\u001b[0m \u001b[32m━━━━━━━━━━━━━━━━━━━━\u001b[0m\u001b[37m\u001b[0m \u001b[1m27s\u001b[0m 275ms/step - accuracy: 0.8688 - loss: 0.4928 - val_accuracy: 0.9345 - val_loss: 0.5217\n",
      "Epoch 30/32\n",
      "\u001b[1m 8/98\u001b[0m \u001b[32m━\u001b[0m\u001b[37m━━━━━━━━━━━━━━━━━━━\u001b[0m \u001b[1m25s\u001b[0m 281ms/step - accuracy: 0.8577 - loss: 0.5219"
     ]
    },
    {
     "name": "stderr",
     "output_type": "stream",
     "text": [
      "2024-04-30 14:10:47.437604: W tensorflow/core/lib/png/png_io.cc:89] PNG warning: iCCP: known incorrect sRGB profile\n",
      "2024-04-30 14:10:47.443422: W tensorflow/core/lib/png/png_io.cc:89] PNG warning: iCCP: known incorrect sRGB profile\n",
      "2024-04-30 14:10:47.562328: W tensorflow/core/lib/png/png_io.cc:89] PNG warning: iCCP: known incorrect sRGB profile\n"
     ]
    },
    {
     "name": "stdout",
     "output_type": "stream",
     "text": [
      "\u001b[1m14/98\u001b[0m \u001b[32m━━\u001b[0m\u001b[37m━━━━━━━━━━━━━━━━━━\u001b[0m \u001b[1m25s\u001b[0m 299ms/step - accuracy: 0.8582 - loss: 0.4988"
     ]
    },
    {
     "name": "stderr",
     "output_type": "stream",
     "text": [
      "2024-04-30 14:10:49.424661: W tensorflow/core/lib/png/png_io.cc:89] PNG warning: iCCP: known incorrect sRGB profile\n"
     ]
    },
    {
     "name": "stdout",
     "output_type": "stream",
     "text": [
      "\u001b[1m16/98\u001b[0m \u001b[32m━━━\u001b[0m\u001b[37m━━━━━━━━━━━━━━━━━\u001b[0m \u001b[1m24s\u001b[0m 297ms/step - accuracy: 0.8592 - loss: 0.4919"
     ]
    },
    {
     "name": "stderr",
     "output_type": "stream",
     "text": [
      "2024-04-30 14:10:50.021801: W tensorflow/core/lib/png/png_io.cc:89] PNG warning: iCCP: known incorrect sRGB profile\n",
      "2024-04-30 14:10:50.217047: W tensorflow/core/lib/png/png_io.cc:89] PNG warning: iCCP: known incorrect sRGB profile\n"
     ]
    },
    {
     "name": "stdout",
     "output_type": "stream",
     "text": [
      "\u001b[1m19/98\u001b[0m \u001b[32m━━━\u001b[0m\u001b[37m━━━━━━━━━━━━━━━━━\u001b[0m \u001b[1m23s\u001b[0m 292ms/step - accuracy: 0.8609 - loss: 0.4830"
     ]
    },
    {
     "name": "stderr",
     "output_type": "stream",
     "text": [
      "2024-04-30 14:10:50.689131: W tensorflow/core/lib/png/png_io.cc:89] PNG warning: iCCP: known incorrect sRGB profile\n"
     ]
    },
    {
     "name": "stdout",
     "output_type": "stream",
     "text": [
      "\u001b[1m20/98\u001b[0m \u001b[32m━━━━\u001b[0m\u001b[37m━━━━━━━━━━━━━━━━\u001b[0m \u001b[1m22s\u001b[0m 291ms/step - accuracy: 0.8612 - loss: 0.4815"
     ]
    },
    {
     "name": "stderr",
     "output_type": "stream",
     "text": [
      "2024-04-30 14:10:51.107286: W tensorflow/core/lib/png/png_io.cc:89] PNG warning: iCCP: known incorrect sRGB profile\n"
     ]
    },
    {
     "name": "stdout",
     "output_type": "stream",
     "text": [
      "\u001b[1m24/98\u001b[0m \u001b[32m━━━━\u001b[0m\u001b[37m━━━━━━━━━━━━━━━━\u001b[0m \u001b[1m21s\u001b[0m 292ms/step - accuracy: 0.8615 - loss: 0.4780"
     ]
    },
    {
     "name": "stderr",
     "output_type": "stream",
     "text": [
      "2024-04-30 14:10:52.198031: W tensorflow/core/lib/png/png_io.cc:89] PNG warning: iCCP: known incorrect sRGB profile\n",
      "2024-04-30 14:10:52.291238: W tensorflow/core/lib/png/png_io.cc:89] PNG warning: iCCP: known incorrect sRGB profile\n"
     ]
    },
    {
     "name": "stdout",
     "output_type": "stream",
     "text": [
      "\u001b[1m25/98\u001b[0m \u001b[32m━━━━━\u001b[0m\u001b[37m━━━━━━━━━━━━━━━\u001b[0m \u001b[1m21s\u001b[0m 291ms/step - accuracy: 0.8616 - loss: 0.4772"
     ]
    },
    {
     "name": "stderr",
     "output_type": "stream",
     "text": [
      "2024-04-30 14:10:52.488493: W tensorflow/core/lib/png/png_io.cc:89] PNG warning: iCCP: known incorrect sRGB profile\n",
      "2024-04-30 14:10:52.535558: W tensorflow/core/lib/png/png_io.cc:89] PNG warning: iCCP: known incorrect sRGB profile\n"
     ]
    },
    {
     "name": "stdout",
     "output_type": "stream",
     "text": [
      "\u001b[1m29/98\u001b[0m \u001b[32m━━━━━\u001b[0m\u001b[37m━━━━━━━━━━━━━━━\u001b[0m \u001b[1m19s\u001b[0m 288ms/step - accuracy: 0.8624 - loss: 0.4739"
     ]
    },
    {
     "name": "stderr",
     "output_type": "stream",
     "text": [
      "2024-04-30 14:10:53.546579: W tensorflow/core/lib/png/png_io.cc:89] PNG warning: iCCP: known incorrect sRGB profile\n",
      "2024-04-30 14:10:53.651161: W tensorflow/core/lib/png/png_io.cc:89] PNG warning: iCCP: known incorrect sRGB profile\n"
     ]
    },
    {
     "name": "stdout",
     "output_type": "stream",
     "text": [
      "\u001b[1m32/98\u001b[0m \u001b[32m━━━━━━\u001b[0m\u001b[37m━━━━━━━━━━━━━━\u001b[0m \u001b[1m18s\u001b[0m 284ms/step - accuracy: 0.8629 - loss: 0.4735"
     ]
    },
    {
     "name": "stderr",
     "output_type": "stream",
     "text": [
      "2024-04-30 14:10:54.425527: W tensorflow/core/lib/png/png_io.cc:89] PNG warning: iCCP: known incorrect sRGB profile\n"
     ]
    },
    {
     "name": "stdout",
     "output_type": "stream",
     "text": [
      "\u001b[1m34/98\u001b[0m \u001b[32m━━━━━━\u001b[0m\u001b[37m━━━━━━━━━━━━━━\u001b[0m \u001b[1m18s\u001b[0m 282ms/step - accuracy: 0.8631 - loss: 0.4739"
     ]
    },
    {
     "name": "stderr",
     "output_type": "stream",
     "text": [
      "2024-04-30 14:10:54.761860: W tensorflow/core/lib/png/png_io.cc:89] PNG warning: iCCP: known incorrect sRGB profile\n"
     ]
    },
    {
     "name": "stdout",
     "output_type": "stream",
     "text": [
      "\u001b[1m38/98\u001b[0m \u001b[32m━━━━━━━\u001b[0m\u001b[37m━━━━━━━━━━━━━\u001b[0m \u001b[1m17s\u001b[0m 284ms/step - accuracy: 0.8633 - loss: 0.4756"
     ]
    },
    {
     "name": "stderr",
     "output_type": "stream",
     "text": [
      "2024-04-30 14:10:55.881517: W tensorflow/core/lib/png/png_io.cc:89] PNG warning: iCCP: known incorrect sRGB profile\n"
     ]
    },
    {
     "name": "stdout",
     "output_type": "stream",
     "text": [
      "\u001b[1m58/98\u001b[0m \u001b[32m━━━━━━━━━━━\u001b[0m\u001b[37m━━━━━━━━━\u001b[0m \u001b[1m11s\u001b[0m 277ms/step - accuracy: 0.8617 - loss: 0.4894"
     ]
    },
    {
     "name": "stderr",
     "output_type": "stream",
     "text": [
      "2024-04-30 14:11:01.364961: W tensorflow/core/lib/png/png_io.cc:89] PNG warning: iCCP: known incorrect sRGB profile\n",
      "2024-04-30 14:11:01.387913: W tensorflow/core/lib/png/png_io.cc:89] PNG warning: iCCP: known incorrect sRGB profile\n"
     ]
    },
    {
     "name": "stdout",
     "output_type": "stream",
     "text": [
      "\u001b[1m73/98\u001b[0m \u001b[32m━━━━━━━━━━━━━━\u001b[0m\u001b[37m━━━━━━\u001b[0m \u001b[1m6s\u001b[0m 272ms/step - accuracy: 0.8603 - loss: 0.4957"
     ]
    },
    {
     "name": "stderr",
     "output_type": "stream",
     "text": [
      "2024-04-30 14:11:05.018047: W tensorflow/core/lib/png/png_io.cc:89] PNG warning: iCCP: known incorrect sRGB profile\n"
     ]
    },
    {
     "name": "stdout",
     "output_type": "stream",
     "text": [
      "\u001b[1m75/98\u001b[0m \u001b[32m━━━━━━━━━━━━━━━\u001b[0m\u001b[37m━━━━━\u001b[0m \u001b[1m6s\u001b[0m 272ms/step - accuracy: 0.8601 - loss: 0.4961"
     ]
    },
    {
     "name": "stderr",
     "output_type": "stream",
     "text": [
      "2024-04-30 14:11:05.759353: W tensorflow/core/lib/png/png_io.cc:89] PNG warning: iCCP: known incorrect sRGB profile\n"
     ]
    },
    {
     "name": "stdout",
     "output_type": "stream",
     "text": [
      "\u001b[1m79/98\u001b[0m \u001b[32m━━━━━━━━━━━━━━━━\u001b[0m\u001b[37m━━━━\u001b[0m \u001b[1m5s\u001b[0m 272ms/step - accuracy: 0.8599 - loss: 0.4967"
     ]
    },
    {
     "name": "stderr",
     "output_type": "stream",
     "text": [
      "2024-04-30 14:11:06.619004: W tensorflow/core/lib/png/png_io.cc:89] PNG warning: iCCP: known incorrect sRGB profile\n"
     ]
    },
    {
     "name": "stdout",
     "output_type": "stream",
     "text": [
      "\u001b[1m84/98\u001b[0m \u001b[32m━━━━━━━━━━━━━━━━━\u001b[0m\u001b[37m━━━\u001b[0m \u001b[1m3s\u001b[0m 271ms/step - accuracy: 0.8599 - loss: 0.4968"
     ]
    },
    {
     "name": "stderr",
     "output_type": "stream",
     "text": [
      "2024-04-30 14:11:07.912956: W tensorflow/core/lib/png/png_io.cc:89] PNG warning: iCCP: known incorrect sRGB profile\n"
     ]
    },
    {
     "name": "stdout",
     "output_type": "stream",
     "text": [
      "\u001b[1m98/98\u001b[0m \u001b[32m━━━━━━━━━━━━━━━━━━━━\u001b[0m\u001b[37m\u001b[0m \u001b[1m0s\u001b[0m 256ms/step - accuracy: 0.8600 - loss: 0.4966"
     ]
    },
    {
     "name": "stderr",
     "output_type": "stream",
     "text": [
      "2024-04-30 14:11:11.653056: W tensorflow/core/lib/png/png_io.cc:89] PNG warning: iCCP: known incorrect sRGB profile\n",
      "2024-04-30 14:11:12.105179: W tensorflow/core/lib/png/png_io.cc:89] PNG warning: iCCP: known incorrect sRGB profile\n"
     ]
    },
    {
     "name": "stdout",
     "output_type": "stream",
     "text": [
      "\u001b[1m98/98\u001b[0m \u001b[32m━━━━━━━━━━━━━━━━━━━━\u001b[0m\u001b[37m\u001b[0m \u001b[1m28s\u001b[0m 281ms/step - accuracy: 0.8600 - loss: 0.4965 - val_accuracy: 0.9231 - val_loss: 0.4603\n",
      "Epoch 31/32\n",
      "\u001b[1m 3/98\u001b[0m \u001b[37m━━━━━━━━━━━━━━━━━━━━\u001b[0m \u001b[1m25s\u001b[0m 269ms/step - accuracy: 0.7830 - loss: 0.8596"
     ]
    },
    {
     "name": "stderr",
     "output_type": "stream",
     "text": [
      "2024-04-30 14:11:14.046568: W tensorflow/core/lib/png/png_io.cc:89] PNG warning: iCCP: known incorrect sRGB profile\n"
     ]
    },
    {
     "name": "stdout",
     "output_type": "stream",
     "text": [
      "\u001b[1m 7/98\u001b[0m \u001b[32m━\u001b[0m\u001b[37m━━━━━━━━━━━━━━━━━━━\u001b[0m \u001b[1m33s\u001b[0m 363ms/step - accuracy: 0.8025 - loss: 0.6939"
     ]
    },
    {
     "name": "stderr",
     "output_type": "stream",
     "text": [
      "2024-04-30 14:11:15.692018: W tensorflow/core/lib/png/png_io.cc:89] PNG warning: iCCP: known incorrect sRGB profile\n"
     ]
    },
    {
     "name": "stdout",
     "output_type": "stream",
     "text": [
      "\u001b[1m10/98\u001b[0m \u001b[32m━━\u001b[0m\u001b[37m━━━━━━━━━━━━━━━━━━\u001b[0m \u001b[1m29s\u001b[0m 334ms/step - accuracy: 0.8183 - loss: 0.6201"
     ]
    },
    {
     "name": "stderr",
     "output_type": "stream",
     "text": [
      "2024-04-30 14:11:16.482218: W tensorflow/core/lib/png/png_io.cc:89] PNG warning: iCCP: known incorrect sRGB profile\n"
     ]
    },
    {
     "name": "stdout",
     "output_type": "stream",
     "text": [
      "\u001b[1m12/98\u001b[0m \u001b[32m━━\u001b[0m\u001b[37m━━━━━━━━━━━━━━━━━━\u001b[0m \u001b[1m27s\u001b[0m 323ms/step - accuracy: 0.8250 - loss: 0.5918"
     ]
    },
    {
     "name": "stderr",
     "output_type": "stream",
     "text": [
      "2024-04-30 14:11:16.981642: W tensorflow/core/lib/png/png_io.cc:89] PNG warning: iCCP: known incorrect sRGB profile\n"
     ]
    },
    {
     "name": "stdout",
     "output_type": "stream",
     "text": [
      "\u001b[1m13/98\u001b[0m \u001b[32m━━\u001b[0m\u001b[37m━━━━━━━━━━━━━━━━━━\u001b[0m \u001b[1m27s\u001b[0m 320ms/step - accuracy: 0.8277 - loss: 0.5804"
     ]
    },
    {
     "name": "stderr",
     "output_type": "stream",
     "text": [
      "2024-04-30 14:11:17.223577: W tensorflow/core/lib/png/png_io.cc:89] PNG warning: iCCP: known incorrect sRGB profile\n",
      "2024-04-30 14:11:17.378654: W tensorflow/core/lib/png/png_io.cc:89] PNG warning: iCCP: known incorrect sRGB profile\n"
     ]
    },
    {
     "name": "stdout",
     "output_type": "stream",
     "text": [
      "\u001b[1m16/98\u001b[0m \u001b[32m━━━\u001b[0m\u001b[37m━━━━━━━━━━━━━━━━━\u001b[0m \u001b[1m25s\u001b[0m 311ms/step - accuracy: 0.8339 - loss: 0.5576"
     ]
    },
    {
     "name": "stderr",
     "output_type": "stream",
     "text": [
      "2024-04-30 14:11:18.130077: W tensorflow/core/lib/png/png_io.cc:89] PNG warning: iCCP: known incorrect sRGB profile\n",
      "2024-04-30 14:11:18.236575: W tensorflow/core/lib/png/png_io.cc:89] PNG warning: iCCP: known incorrect sRGB profile\n"
     ]
    },
    {
     "name": "stdout",
     "output_type": "stream",
     "text": [
      "\u001b[1m21/98\u001b[0m \u001b[32m━━━━\u001b[0m\u001b[37m━━━━━━━━━━━━━━━━\u001b[0m \u001b[1m23s\u001b[0m 302ms/step - accuracy: 0.8429 - loss: 0.5290"
     ]
    },
    {
     "name": "stderr",
     "output_type": "stream",
     "text": [
      "2024-04-30 14:11:19.399068: W tensorflow/core/lib/png/png_io.cc:89] PNG warning: iCCP: known incorrect sRGB profile\n"
     ]
    },
    {
     "name": "stdout",
     "output_type": "stream",
     "text": [
      "\u001b[1m24/98\u001b[0m \u001b[32m━━━━\u001b[0m\u001b[37m━━━━━━━━━━━━━━━━\u001b[0m \u001b[1m22s\u001b[0m 298ms/step - accuracy: 0.8470 - loss: 0.5167"
     ]
    },
    {
     "name": "stderr",
     "output_type": "stream",
     "text": [
      "2024-04-30 14:11:20.407958: W tensorflow/core/lib/png/png_io.cc:89] PNG warning: iCCP: known incorrect sRGB profile\n"
     ]
    },
    {
     "name": "stdout",
     "output_type": "stream",
     "text": [
      "\u001b[1m27/98\u001b[0m \u001b[32m━━━━━\u001b[0m\u001b[37m━━━━━━━━━━━━━━━\u001b[0m \u001b[1m20s\u001b[0m 296ms/step - accuracy: 0.8508 - loss: 0.5051"
     ]
    },
    {
     "name": "stderr",
     "output_type": "stream",
     "text": [
      "2024-04-30 14:11:21.051955: W tensorflow/core/lib/png/png_io.cc:89] PNG warning: iCCP: known incorrect sRGB profile\n"
     ]
    },
    {
     "name": "stdout",
     "output_type": "stream",
     "text": [
      "\u001b[1m28/98\u001b[0m \u001b[32m━━━━━\u001b[0m\u001b[37m━━━━━━━━━━━━━━━\u001b[0m \u001b[1m20s\u001b[0m 295ms/step - accuracy: 0.8518 - loss: 0.5015"
     ]
    },
    {
     "name": "stderr",
     "output_type": "stream",
     "text": [
      "2024-04-30 14:11:21.496934: W tensorflow/core/lib/png/png_io.cc:89] PNG warning: iCCP: known incorrect sRGB profile\n"
     ]
    },
    {
     "name": "stdout",
     "output_type": "stream",
     "text": [
      "\u001b[1m31/98\u001b[0m \u001b[32m━━━━━━\u001b[0m\u001b[37m━━━━━━━━━━━━━━\u001b[0m \u001b[1m19s\u001b[0m 292ms/step - accuracy: 0.8546 - loss: 0.4928"
     ]
    },
    {
     "name": "stderr",
     "output_type": "stream",
     "text": [
      "2024-04-30 14:11:22.264977: W tensorflow/core/lib/png/png_io.cc:89] PNG warning: iCCP: known incorrect sRGB profile\n"
     ]
    },
    {
     "name": "stdout",
     "output_type": "stream",
     "text": [
      "\u001b[1m35/98\u001b[0m \u001b[32m━━━━━━━\u001b[0m\u001b[37m━━━━━━━━━━━━━\u001b[0m \u001b[1m18s\u001b[0m 287ms/step - accuracy: 0.8577 - loss: 0.4838"
     ]
    },
    {
     "name": "stderr",
     "output_type": "stream",
     "text": [
      "2024-04-30 14:11:23.277472: W tensorflow/core/lib/png/png_io.cc:89] PNG warning: iCCP: known incorrect sRGB profile\n"
     ]
    },
    {
     "name": "stdout",
     "output_type": "stream",
     "text": [
      "\u001b[1m38/98\u001b[0m \u001b[32m━━━━━━━\u001b[0m\u001b[37m━━━━━━━━━━━━━\u001b[0m \u001b[1m17s\u001b[0m 286ms/step - accuracy: 0.8596 - loss: 0.4776"
     ]
    },
    {
     "name": "stderr",
     "output_type": "stream",
     "text": [
      "2024-04-30 14:11:24.081967: W tensorflow/core/lib/png/png_io.cc:89] PNG warning: iCCP: known incorrect sRGB profile\n"
     ]
    },
    {
     "name": "stdout",
     "output_type": "stream",
     "text": [
      "\u001b[1m41/98\u001b[0m \u001b[32m━━━━━━━━\u001b[0m\u001b[37m━━━━━━━━━━━━\u001b[0m \u001b[1m16s\u001b[0m 285ms/step - accuracy: 0.8612 - loss: 0.4723"
     ]
    },
    {
     "name": "stderr",
     "output_type": "stream",
     "text": [
      "2024-04-30 14:11:24.872458: W tensorflow/core/lib/png/png_io.cc:89] PNG warning: iCCP: known incorrect sRGB profile\n"
     ]
    },
    {
     "name": "stdout",
     "output_type": "stream",
     "text": [
      "\u001b[1m46/98\u001b[0m \u001b[32m━━━━━━━━━\u001b[0m\u001b[37m━━━━━━━━━━━\u001b[0m \u001b[1m14s\u001b[0m 281ms/step - accuracy: 0.8635 - loss: 0.4642"
     ]
    },
    {
     "name": "stderr",
     "output_type": "stream",
     "text": [
      "2024-04-30 14:11:26.198864: W tensorflow/core/lib/png/png_io.cc:89] PNG warning: iCCP: known incorrect sRGB profile\n"
     ]
    },
    {
     "name": "stdout",
     "output_type": "stream",
     "text": [
      "\u001b[1m49/98\u001b[0m \u001b[32m━━━━━━━━━━\u001b[0m\u001b[37m━━━━━━━━━━\u001b[0m \u001b[1m13s\u001b[0m 278ms/step - accuracy: 0.8648 - loss: 0.4600"
     ]
    },
    {
     "name": "stderr",
     "output_type": "stream",
     "text": [
      "2024-04-30 14:11:26.872571: W tensorflow/core/lib/png/png_io.cc:89] PNG warning: iCCP: known incorrect sRGB profile\n"
     ]
    },
    {
     "name": "stdout",
     "output_type": "stream",
     "text": [
      "\u001b[1m63/98\u001b[0m \u001b[32m━━━━━━━━━━━━\u001b[0m\u001b[37m━━━━━━━━\u001b[0m \u001b[1m9s\u001b[0m 274ms/step - accuracy: 0.8687 - loss: 0.4475"
     ]
    },
    {
     "name": "stderr",
     "output_type": "stream",
     "text": [
      "2024-04-30 14:11:30.327850: W tensorflow/core/lib/png/png_io.cc:89] PNG warning: iCCP: known incorrect sRGB profile\n"
     ]
    },
    {
     "name": "stdout",
     "output_type": "stream",
     "text": [
      "\u001b[1m65/98\u001b[0m \u001b[32m━━━━━━━━━━━━━\u001b[0m\u001b[37m━━━━━━━\u001b[0m \u001b[1m9s\u001b[0m 273ms/step - accuracy: 0.8693 - loss: 0.4459"
     ]
    },
    {
     "name": "stderr",
     "output_type": "stream",
     "text": [
      "2024-04-30 14:11:31.022684: W tensorflow/core/lib/png/png_io.cc:89] PNG warning: iCCP: known incorrect sRGB profile\n"
     ]
    },
    {
     "name": "stdout",
     "output_type": "stream",
     "text": [
      "\u001b[1m68/98\u001b[0m \u001b[32m━━━━━━━━━━━━━\u001b[0m\u001b[37m━━━━━━━\u001b[0m \u001b[1m8s\u001b[0m 273ms/step - accuracy: 0.8700 - loss: 0.4437"
     ]
    },
    {
     "name": "stderr",
     "output_type": "stream",
     "text": [
      "2024-04-30 14:11:31.647743: W tensorflow/core/lib/png/png_io.cc:89] PNG warning: iCCP: known incorrect sRGB profile\n"
     ]
    },
    {
     "name": "stdout",
     "output_type": "stream",
     "text": [
      "\u001b[1m72/98\u001b[0m \u001b[32m━━━━━━━━━━━━━━\u001b[0m\u001b[37m━━━━━━\u001b[0m \u001b[1m7s\u001b[0m 273ms/step - accuracy: 0.8708 - loss: 0.4410"
     ]
    },
    {
     "name": "stderr",
     "output_type": "stream",
     "text": [
      "2024-04-30 14:11:32.797413: W tensorflow/core/lib/png/png_io.cc:89] PNG warning: iCCP: known incorrect sRGB profile\n"
     ]
    },
    {
     "name": "stdout",
     "output_type": "stream",
     "text": [
      "\u001b[1m86/98\u001b[0m \u001b[32m━━━━━━━━━━━━━━━━━\u001b[0m\u001b[37m━━━\u001b[0m \u001b[1m3s\u001b[0m 272ms/step - accuracy: 0.8727 - loss: 0.4338"
     ]
    },
    {
     "name": "stderr",
     "output_type": "stream",
     "text": [
      "2024-04-30 14:11:36.500298: W tensorflow/core/lib/png/png_io.cc:89] PNG warning: iCCP: known incorrect sRGB profile\n"
     ]
    },
    {
     "name": "stdout",
     "output_type": "stream",
     "text": [
      "\u001b[1m98/98\u001b[0m \u001b[32m━━━━━━━━━━━━━━━━━━━━\u001b[0m\u001b[37m\u001b[0m \u001b[1m0s\u001b[0m 258ms/step - accuracy: 0.8741 - loss: 0.4292"
     ]
    },
    {
     "name": "stderr",
     "output_type": "stream",
     "text": [
      "2024-04-30 14:11:39.349974: W tensorflow/core/lib/png/png_io.cc:89] PNG warning: iCCP: known incorrect sRGB profile\n",
      "2024-04-30 14:11:39.595401: W tensorflow/core/lib/png/png_io.cc:89] PNG warning: iCCP: known incorrect sRGB profile\n"
     ]
    },
    {
     "name": "stdout",
     "output_type": "stream",
     "text": [
      "\u001b[1m98/98\u001b[0m \u001b[32m━━━━━━━━━━━━━━━━━━━━\u001b[0m\u001b[37m\u001b[0m \u001b[1m28s\u001b[0m 283ms/step - accuracy: 0.8742 - loss: 0.4289 - val_accuracy: 0.9259 - val_loss: 0.4232\n",
      "Epoch 32/32\n",
      "\u001b[1m 7/98\u001b[0m \u001b[32m━\u001b[0m\u001b[37m━━━━━━━━━━━━━━━━━━━\u001b[0m \u001b[1m30s\u001b[0m 336ms/step - accuracy: 0.9275 - loss: 0.3060"
     ]
    },
    {
     "name": "stderr",
     "output_type": "stream",
     "text": [
      "2024-04-30 14:11:43.680946: W tensorflow/core/lib/png/png_io.cc:89] PNG warning: iCCP: known incorrect sRGB profile\n"
     ]
    },
    {
     "name": "stdout",
     "output_type": "stream",
     "text": [
      "\u001b[1m12/98\u001b[0m \u001b[32m━━\u001b[0m\u001b[37m━━━━━━━━━━━━━━━━━━\u001b[0m \u001b[1m26s\u001b[0m 304ms/step - accuracy: 0.9175 - loss: 0.3159"
     ]
    },
    {
     "name": "stderr",
     "output_type": "stream",
     "text": [
      "2024-04-30 14:11:44.797584: W tensorflow/core/lib/png/png_io.cc:89] PNG warning: iCCP: known incorrect sRGB profile\n"
     ]
    },
    {
     "name": "stdout",
     "output_type": "stream",
     "text": [
      "\u001b[1m13/98\u001b[0m \u001b[32m━━\u001b[0m\u001b[37m━━━━━━━━━━━━━━━━━━\u001b[0m \u001b[1m25s\u001b[0m 301ms/step - accuracy: 0.9168 - loss: 0.3146"
     ]
    },
    {
     "name": "stderr",
     "output_type": "stream",
     "text": [
      "2024-04-30 14:11:45.223939: W tensorflow/core/lib/png/png_io.cc:89] PNG warning: iCCP: known incorrect sRGB profile\n",
      "2024-04-30 14:11:45.343265: W tensorflow/core/lib/png/png_io.cc:89] PNG warning: iCCP: known incorrect sRGB profile\n",
      "2024-04-30 14:11:45.353954: W tensorflow/core/lib/png/png_io.cc:89] PNG warning: iCCP: known incorrect sRGB profile\n"
     ]
    },
    {
     "name": "stdout",
     "output_type": "stream",
     "text": [
      "\u001b[1m17/98\u001b[0m \u001b[32m━━━\u001b[0m\u001b[37m━━━━━━━━━━━━━━━━━\u001b[0m \u001b[1m23s\u001b[0m 292ms/step - accuracy: 0.9152 - loss: 0.3135"
     ]
    },
    {
     "name": "stderr",
     "output_type": "stream",
     "text": [
      "2024-04-30 14:11:46.272767: W tensorflow/core/lib/png/png_io.cc:89] PNG warning: iCCP: known incorrect sRGB profile\n"
     ]
    },
    {
     "name": "stdout",
     "output_type": "stream",
     "text": [
      "\u001b[1m21/98\u001b[0m \u001b[32m━━━━\u001b[0m\u001b[37m━━━━━━━━━━━━━━━━\u001b[0m \u001b[1m22s\u001b[0m 290ms/step - accuracy: 0.9129 - loss: 0.3178"
     ]
    },
    {
     "name": "stderr",
     "output_type": "stream",
     "text": [
      "2024-04-30 14:11:47.412891: W tensorflow/core/lib/png/png_io.cc:89] PNG warning: iCCP: known incorrect sRGB profile\n",
      "2024-04-30 14:11:47.422294: W tensorflow/core/lib/png/png_io.cc:89] PNG warning: iCCP: known incorrect sRGB profile\n",
      "2024-04-30 14:11:47.595540: W tensorflow/core/lib/png/png_io.cc:89] PNG warning: iCCP: known incorrect sRGB profile\n"
     ]
    },
    {
     "name": "stdout",
     "output_type": "stream",
     "text": [
      "\u001b[1m25/98\u001b[0m \u001b[32m━━━━━\u001b[0m\u001b[37m━━━━━━━━━━━━━━━\u001b[0m \u001b[1m20s\u001b[0m 286ms/step - accuracy: 0.9116 - loss: 0.3191"
     ]
    },
    {
     "name": "stderr",
     "output_type": "stream",
     "text": [
      "2024-04-30 14:11:48.333212: W tensorflow/core/lib/png/png_io.cc:89] PNG warning: iCCP: known incorrect sRGB profile\n"
     ]
    },
    {
     "name": "stdout",
     "output_type": "stream",
     "text": [
      "\u001b[1m26/98\u001b[0m \u001b[32m━━━━━\u001b[0m\u001b[37m━━━━━━━━━━━━━━━\u001b[0m \u001b[1m20s\u001b[0m 285ms/step - accuracy: 0.9114 - loss: 0.3192"
     ]
    },
    {
     "name": "stderr",
     "output_type": "stream",
     "text": [
      "2024-04-30 14:11:48.630632: W tensorflow/core/lib/png/png_io.cc:89] PNG warning: iCCP: known incorrect sRGB profile\n"
     ]
    },
    {
     "name": "stdout",
     "output_type": "stream",
     "text": [
      "\u001b[1m31/98\u001b[0m \u001b[32m━━━━━━\u001b[0m\u001b[37m━━━━━━━━━━━━━━\u001b[0m \u001b[1m18s\u001b[0m 280ms/step - accuracy: 0.9107 - loss: 0.3184"
     ]
    },
    {
     "name": "stderr",
     "output_type": "stream",
     "text": [
      "2024-04-30 14:11:50.037402: W tensorflow/core/lib/png/png_io.cc:89] PNG warning: iCCP: known incorrect sRGB profile\n"
     ]
    },
    {
     "name": "stdout",
     "output_type": "stream",
     "text": [
      "\u001b[1m35/98\u001b[0m \u001b[32m━━━━━━━\u001b[0m\u001b[37m━━━━━━━━━━━━━\u001b[0m \u001b[1m17s\u001b[0m 274ms/step - accuracy: 0.9095 - loss: 0.3198"
     ]
    },
    {
     "name": "stderr",
     "output_type": "stream",
     "text": [
      "2024-04-30 14:11:51.001194: W tensorflow/core/lib/png/png_io.cc:89] PNG warning: iCCP: known incorrect sRGB profile\n"
     ]
    },
    {
     "name": "stdout",
     "output_type": "stream",
     "text": [
      "\u001b[1m37/98\u001b[0m \u001b[32m━━━━━━━\u001b[0m\u001b[37m━━━━━━━━━━━━━\u001b[0m \u001b[1m16s\u001b[0m 274ms/step - accuracy: 0.9087 - loss: 0.3213"
     ]
    },
    {
     "name": "stderr",
     "output_type": "stream",
     "text": [
      "2024-04-30 14:11:51.497317: W tensorflow/core/lib/png/png_io.cc:89] PNG warning: iCCP: known incorrect sRGB profile\n",
      "2024-04-30 14:11:51.503258: W tensorflow/core/lib/png/png_io.cc:89] PNG warning: iCCP: known incorrect sRGB profile\n"
     ]
    },
    {
     "name": "stdout",
     "output_type": "stream",
     "text": [
      "\u001b[1m39/98\u001b[0m \u001b[32m━━━━━━━\u001b[0m\u001b[37m━━━━━━━━━━━━━\u001b[0m \u001b[1m16s\u001b[0m 274ms/step - accuracy: 0.9080 - loss: 0.3230"
     ]
    },
    {
     "name": "stderr",
     "output_type": "stream",
     "text": [
      "2024-04-30 14:11:52.069780: W tensorflow/core/lib/png/png_io.cc:89] PNG warning: iCCP: known incorrect sRGB profile\n"
     ]
    },
    {
     "name": "stdout",
     "output_type": "stream",
     "text": [
      "\u001b[1m45/98\u001b[0m \u001b[32m━━━━━━━━━\u001b[0m\u001b[37m━━━━━━━━━━━\u001b[0m \u001b[1m14s\u001b[0m 273ms/step - accuracy: 0.9063 - loss: 0.3276"
     ]
    },
    {
     "name": "stderr",
     "output_type": "stream",
     "text": [
      "2024-04-30 14:11:53.688751: W tensorflow/core/lib/png/png_io.cc:89] PNG warning: iCCP: known incorrect sRGB profile\n"
     ]
    },
    {
     "name": "stdout",
     "output_type": "stream",
     "text": [
      "\u001b[1m62/98\u001b[0m \u001b[32m━━━━━━━━━━━━\u001b[0m\u001b[37m━━━━━━━━\u001b[0m \u001b[1m9s\u001b[0m 267ms/step - accuracy: 0.9044 - loss: 0.3360"
     ]
    },
    {
     "name": "stderr",
     "output_type": "stream",
     "text": [
      "2024-04-30 14:11:57.751005: W tensorflow/core/lib/png/png_io.cc:89] PNG warning: iCCP: known incorrect sRGB profile\n",
      "2024-04-30 14:11:58.003706: W tensorflow/core/lib/png/png_io.cc:89] PNG warning: iCCP: known incorrect sRGB profile\n"
     ]
    },
    {
     "name": "stdout",
     "output_type": "stream",
     "text": [
      "\u001b[1m66/98\u001b[0m \u001b[32m━━━━━━━━━━━━━\u001b[0m\u001b[37m━━━━━━━\u001b[0m \u001b[1m8s\u001b[0m 267ms/step - accuracy: 0.9041 - loss: 0.3372"
     ]
    },
    {
     "name": "stderr",
     "output_type": "stream",
     "text": [
      "2024-04-30 14:11:58.851812: W tensorflow/core/lib/png/png_io.cc:89] PNG warning: iCCP: known incorrect sRGB profile\n"
     ]
    },
    {
     "name": "stdout",
     "output_type": "stream",
     "text": [
      "\u001b[1m69/98\u001b[0m \u001b[32m━━━━━━━━━━━━━━\u001b[0m\u001b[37m━━━━━━\u001b[0m \u001b[1m7s\u001b[0m 267ms/step - accuracy: 0.9039 - loss: 0.3383"
     ]
    },
    {
     "name": "stderr",
     "output_type": "stream",
     "text": [
      "2024-04-30 14:11:59.790334: W tensorflow/core/lib/png/png_io.cc:89] PNG warning: iCCP: known incorrect sRGB profile\n"
     ]
    },
    {
     "name": "stdout",
     "output_type": "stream",
     "text": [
      "\u001b[1m73/98\u001b[0m \u001b[32m━━━━━━━━━━━━━━\u001b[0m\u001b[37m━━━━━━\u001b[0m \u001b[1m6s\u001b[0m 266ms/step - accuracy: 0.9035 - loss: 0.3398"
     ]
    },
    {
     "name": "stderr",
     "output_type": "stream",
     "text": [
      "2024-04-30 14:12:00.824533: W tensorflow/core/lib/png/png_io.cc:89] PNG warning: iCCP: known incorrect sRGB profile\n"
     ]
    },
    {
     "name": "stdout",
     "output_type": "stream",
     "text": [
      "\u001b[1m76/98\u001b[0m \u001b[32m━━━━━━━━━━━━━━━\u001b[0m\u001b[37m━━━━━\u001b[0m \u001b[1m5s\u001b[0m 267ms/step - accuracy: 0.9033 - loss: 0.3407"
     ]
    },
    {
     "name": "stderr",
     "output_type": "stream",
     "text": [
      "2024-04-30 14:12:01.581198: W tensorflow/core/lib/png/png_io.cc:89] PNG warning: iCCP: known incorrect sRGB profile\n"
     ]
    },
    {
     "name": "stdout",
     "output_type": "stream",
     "text": [
      "\u001b[1m98/98\u001b[0m \u001b[32m━━━━━━━━━━━━━━━━━━━━\u001b[0m\u001b[37m\u001b[0m \u001b[1m0s\u001b[0m 255ms/step - accuracy: 0.9022 - loss: 0.3446"
     ]
    },
    {
     "name": "stderr",
     "output_type": "stream",
     "text": [
      "2024-04-30 14:12:07.116056: W tensorflow/core/lib/png/png_io.cc:89] PNG warning: iCCP: known incorrect sRGB profile\n",
      "2024-04-30 14:12:07.625499: W tensorflow/core/lib/png/png_io.cc:89] PNG warning: iCCP: known incorrect sRGB profile\n"
     ]
    },
    {
     "name": "stdout",
     "output_type": "stream",
     "text": [
      "\u001b[1m98/98\u001b[0m \u001b[32m━━━━━━━━━━━━━━━━━━━━\u001b[0m\u001b[37m\u001b[0m \u001b[1m28s\u001b[0m 281ms/step - accuracy: 0.9022 - loss: 0.3446 - val_accuracy: 0.9316 - val_loss: 0.4705\n"
     ]
    }
   ],
   "source": [
    "training_history = cnn.fit(x=training_set,validation_data=validation_set,epochs=32)"
   ]
  },
  {
   "cell_type": "markdown",
   "metadata": {},
   "source": [
    "Evaluating Model"
   ]
  },
  {
   "cell_type": "code",
   "execution_count": 123,
   "metadata": {},
   "outputs": [
    {
     "name": "stdout",
     "output_type": "stream",
     "text": [
      "\u001b[1m 2/98\u001b[0m \u001b[37m━━━━━━━━━━━━━━━━━━━━\u001b[0m \u001b[1m13s\u001b[0m 144ms/step - accuracy: 1.0000 - loss: 0.0434"
     ]
    },
    {
     "name": "stderr",
     "output_type": "stream",
     "text": [
      "2024-04-30 14:12:09.438058: W tensorflow/core/lib/png/png_io.cc:89] PNG warning: iCCP: known incorrect sRGB profile\n"
     ]
    },
    {
     "name": "stdout",
     "output_type": "stream",
     "text": [
      "\u001b[1m 8/98\u001b[0m \u001b[32m━\u001b[0m\u001b[37m━━━━━━━━━━━━━━━━━━━\u001b[0m \u001b[1m14s\u001b[0m 156ms/step - accuracy: 0.9578 - loss: 0.1300"
     ]
    },
    {
     "name": "stderr",
     "output_type": "stream",
     "text": [
      "2024-04-30 14:12:10.157951: W tensorflow/core/lib/png/png_io.cc:89] PNG warning: iCCP: known incorrect sRGB profile\n"
     ]
    },
    {
     "name": "stdout",
     "output_type": "stream",
     "text": [
      "\u001b[1m 9/98\u001b[0m \u001b[32m━\u001b[0m\u001b[37m━━━━━━━━━━━━━━━━━━━\u001b[0m \u001b[1m14s\u001b[0m 165ms/step - accuracy: 0.9567 - loss: 0.1405"
     ]
    },
    {
     "name": "stderr",
     "output_type": "stream",
     "text": [
      "2024-04-30 14:12:10.429845: W tensorflow/core/lib/png/png_io.cc:89] PNG warning: iCCP: known incorrect sRGB profile\n"
     ]
    },
    {
     "name": "stdout",
     "output_type": "stream",
     "text": [
      "\u001b[1m12/98\u001b[0m \u001b[32m━━\u001b[0m\u001b[37m━━━━━━━━━━━━━━━━━━\u001b[0m \u001b[1m16s\u001b[0m 197ms/step - accuracy: 0.9559 - loss: 0.1569"
     ]
    },
    {
     "name": "stderr",
     "output_type": "stream",
     "text": [
      "2024-04-30 14:12:11.386638: W tensorflow/core/lib/png/png_io.cc:89] PNG warning: iCCP: known incorrect sRGB profile\n"
     ]
    },
    {
     "name": "stdout",
     "output_type": "stream",
     "text": [
      "\u001b[1m14/98\u001b[0m \u001b[32m━━\u001b[0m\u001b[37m━━━━━━━━━━━━━━━━━━\u001b[0m \u001b[1m18s\u001b[0m 218ms/step - accuracy: 0.9561 - loss: 0.1605"
     ]
    },
    {
     "name": "stderr",
     "output_type": "stream",
     "text": [
      "2024-04-30 14:12:12.260189: W tensorflow/core/lib/png/png_io.cc:89] PNG warning: iCCP: known incorrect sRGB profile\n",
      "2024-04-30 14:12:12.420189: W tensorflow/core/lib/png/png_io.cc:89] PNG warning: iCCP: known incorrect sRGB profile\n"
     ]
    },
    {
     "name": "stdout",
     "output_type": "stream",
     "text": [
      "\u001b[1m17/98\u001b[0m \u001b[32m━━━\u001b[0m\u001b[37m━━━━━━━━━━━━━━━━━\u001b[0m \u001b[1m17s\u001b[0m 215ms/step - accuracy: 0.9561 - loss: 0.1629"
     ]
    },
    {
     "name": "stderr",
     "output_type": "stream",
     "text": [
      "2024-04-30 14:12:12.496871: W tensorflow/core/lib/png/png_io.cc:89] PNG warning: iCCP: known incorrect sRGB profile\n",
      "2024-04-30 14:12:12.573764: W tensorflow/core/lib/png/png_io.cc:89] PNG warning: iCCP: known incorrect sRGB profile\n"
     ]
    },
    {
     "name": "stdout",
     "output_type": "stream",
     "text": [
      "\u001b[1m31/98\u001b[0m \u001b[32m━━━━━━\u001b[0m\u001b[37m━━━━━━━━━━━━━━\u001b[0m \u001b[1m12s\u001b[0m 183ms/step - accuracy: 0.9569 - loss: 0.1607"
     ]
    },
    {
     "name": "stderr",
     "output_type": "stream",
     "text": [
      "2024-04-30 14:12:14.610297: W tensorflow/core/lib/png/png_io.cc:89] PNG warning: iCCP: known incorrect sRGB profile\n"
     ]
    },
    {
     "name": "stdout",
     "output_type": "stream",
     "text": [
      "\u001b[1m34/98\u001b[0m \u001b[32m━━━━━━\u001b[0m\u001b[37m━━━━━━━━━━━━━━\u001b[0m \u001b[1m11s\u001b[0m 179ms/step - accuracy: 0.9566 - loss: 0.1614"
     ]
    },
    {
     "name": "stderr",
     "output_type": "stream",
     "text": [
      "2024-04-30 14:12:15.075327: W tensorflow/core/lib/png/png_io.cc:89] PNG warning: iCCP: known incorrect sRGB profile\n",
      "2024-04-30 14:12:15.139861: W tensorflow/core/lib/png/png_io.cc:89] PNG warning: iCCP: known incorrect sRGB profile\n"
     ]
    },
    {
     "name": "stdout",
     "output_type": "stream",
     "text": [
      "\u001b[1m37/98\u001b[0m \u001b[32m━━━━━━━\u001b[0m\u001b[37m━━━━━━━━━━━━━\u001b[0m \u001b[1m11s\u001b[0m 181ms/step - accuracy: 0.9563 - loss: 0.1623"
     ]
    },
    {
     "name": "stderr",
     "output_type": "stream",
     "text": [
      "2024-04-30 14:12:15.791021: W tensorflow/core/lib/png/png_io.cc:89] PNG warning: iCCP: known incorrect sRGB profile\n"
     ]
    },
    {
     "name": "stdout",
     "output_type": "stream",
     "text": [
      "\u001b[1m41/98\u001b[0m \u001b[32m━━━━━━━━\u001b[0m\u001b[37m━━━━━━━━━━━━\u001b[0m \u001b[1m10s\u001b[0m 178ms/step - accuracy: 0.9558 - loss: 0.1638"
     ]
    },
    {
     "name": "stderr",
     "output_type": "stream",
     "text": [
      "2024-04-30 14:12:16.229748: W tensorflow/core/lib/png/png_io.cc:89] PNG warning: iCCP: known incorrect sRGB profile\n",
      "2024-04-30 14:12:16.357262: W tensorflow/core/lib/png/png_io.cc:89] PNG warning: iCCP: known incorrect sRGB profile\n"
     ]
    },
    {
     "name": "stdout",
     "output_type": "stream",
     "text": [
      "\u001b[1m46/98\u001b[0m \u001b[32m━━━━━━━━━\u001b[0m\u001b[37m━━━━━━━━━━━\u001b[0m \u001b[1m9s\u001b[0m 177ms/step - accuracy: 0.9556 - loss: 0.1645"
     ]
    },
    {
     "name": "stderr",
     "output_type": "stream",
     "text": [
      "2024-04-30 14:12:17.112174: W tensorflow/core/lib/png/png_io.cc:89] PNG warning: iCCP: known incorrect sRGB profile\n"
     ]
    },
    {
     "name": "stdout",
     "output_type": "stream",
     "text": [
      "\u001b[1m48/98\u001b[0m \u001b[32m━━━━━━━━━\u001b[0m\u001b[37m━━━━━━━━━━━\u001b[0m \u001b[1m9s\u001b[0m 187ms/step - accuracy: 0.9555 - loss: 0.1646"
     ]
    },
    {
     "name": "stderr",
     "output_type": "stream",
     "text": [
      "2024-04-30 14:12:17.815576: W tensorflow/core/lib/png/png_io.cc:89] PNG warning: iCCP: known incorrect sRGB profile\n",
      "2024-04-30 14:12:17.881134: W tensorflow/core/lib/png/png_io.cc:89] PNG warning: iCCP: known incorrect sRGB profile\n"
     ]
    },
    {
     "name": "stdout",
     "output_type": "stream",
     "text": [
      "\u001b[1m57/98\u001b[0m \u001b[32m━━━━━━━━━━━\u001b[0m\u001b[37m━━━━━━━━━\u001b[0m \u001b[1m7s\u001b[0m 175ms/step - accuracy: 0.9553 - loss: 0.1649"
     ]
    },
    {
     "name": "stderr",
     "output_type": "stream",
     "text": [
      "2024-04-30 14:12:19.055059: W tensorflow/core/lib/png/png_io.cc:89] PNG warning: iCCP: known incorrect sRGB profile\n"
     ]
    },
    {
     "name": "stdout",
     "output_type": "stream",
     "text": [
      "\u001b[1m72/98\u001b[0m \u001b[32m━━━━━━━━━━━━━━\u001b[0m\u001b[37m━━━━━━\u001b[0m \u001b[1m4s\u001b[0m 176ms/step - accuracy: 0.9555 - loss: 0.1647"
     ]
    },
    {
     "name": "stderr",
     "output_type": "stream",
     "text": [
      "2024-04-30 14:12:22.002065: W tensorflow/core/lib/png/png_io.cc:89] PNG warning: iCCP: known incorrect sRGB profile\n"
     ]
    },
    {
     "name": "stdout",
     "output_type": "stream",
     "text": [
      "\u001b[1m81/98\u001b[0m \u001b[32m━━━━━━━━━━━━━━━━\u001b[0m\u001b[37m━━━━\u001b[0m \u001b[1m2s\u001b[0m 175ms/step - accuracy: 0.9556 - loss: 0.1641"
     ]
    },
    {
     "name": "stderr",
     "output_type": "stream",
     "text": [
      "2024-04-30 14:12:23.052588: W tensorflow/core/lib/png/png_io.cc:89] PNG warning: iCCP: known incorrect sRGB profile\n",
      "2024-04-30 14:12:23.053942: W tensorflow/core/lib/png/png_io.cc:89] PNG warning: iCCP: known incorrect sRGB profile\n"
     ]
    },
    {
     "name": "stdout",
     "output_type": "stream",
     "text": [
      "\u001b[1m82/98\u001b[0m \u001b[32m━━━━━━━━━━━━━━━━\u001b[0m\u001b[37m━━━━\u001b[0m \u001b[1m2s\u001b[0m 174ms/step - accuracy: 0.9557 - loss: 0.1640"
     ]
    },
    {
     "name": "stderr",
     "output_type": "stream",
     "text": [
      "2024-04-30 14:12:23.352897: W tensorflow/core/lib/png/png_io.cc:89] PNG warning: iCCP: known incorrect sRGB profile\n"
     ]
    },
    {
     "name": "stdout",
     "output_type": "stream",
     "text": [
      "\u001b[1m87/98\u001b[0m \u001b[32m━━━━━━━━━━━━━━━━━\u001b[0m\u001b[37m━━━\u001b[0m \u001b[1m1s\u001b[0m 179ms/step - accuracy: 0.9557 - loss: 0.1635"
     ]
    },
    {
     "name": "stderr",
     "output_type": "stream",
     "text": [
      "2024-04-30 14:12:24.472544: W tensorflow/core/lib/png/png_io.cc:89] PNG warning: iCCP: known incorrect sRGB profile\n"
     ]
    },
    {
     "name": "stdout",
     "output_type": "stream",
     "text": [
      "\u001b[1m98/98\u001b[0m \u001b[32m━━━━━━━━━━━━━━━━━━━━\u001b[0m\u001b[37m\u001b[0m \u001b[1m17s\u001b[0m 176ms/step - accuracy: 0.9560 - loss: 0.1619\n",
      "Training accuracy: 0.9589084982872009\n"
     ]
    }
   ],
   "source": [
    "\n",
    "#Training set Accuracy\n",
    "train_loss, train_acc = cnn.evaluate(training_set)\n",
    "print('Training accuracy:', train_acc)\n"
   ]
  },
  {
   "cell_type": "code",
   "execution_count": 124,
   "metadata": {},
   "outputs": [
    {
     "name": "stdout",
     "output_type": "stream",
     "text": [
      "\u001b[1m 3/11\u001b[0m \u001b[32m━━━━━\u001b[0m\u001b[37m━━━━━━━━━━━━━━━\u001b[0m \u001b[1m1s\u001b[0m 175ms/step - accuracy: 0.9149 - loss: 0.3013"
     ]
    },
    {
     "name": "stderr",
     "output_type": "stream",
     "text": [
      "2024-04-30 14:12:27.092665: W tensorflow/core/lib/png/png_io.cc:89] PNG warning: iCCP: known incorrect sRGB profile\n"
     ]
    },
    {
     "name": "stdout",
     "output_type": "stream",
     "text": [
      "\u001b[1m 9/11\u001b[0m \u001b[32m━━━━━━━━━━━━━━━━\u001b[0m\u001b[37m━━━━\u001b[0m \u001b[1m0s\u001b[0m 212ms/step - accuracy: 0.9273 - loss: 0.4478"
     ]
    },
    {
     "name": "stderr",
     "output_type": "stream",
     "text": [
      "2024-04-30 14:12:28.402213: W tensorflow/core/lib/png/png_io.cc:89] PNG warning: iCCP: known incorrect sRGB profile\n"
     ]
    },
    {
     "name": "stdout",
     "output_type": "stream",
     "text": [
      "\u001b[1m11/11\u001b[0m \u001b[32m━━━━━━━━━━━━━━━━━━━━\u001b[0m\u001b[37m\u001b[0m \u001b[1m3s\u001b[0m 213ms/step - accuracy: 0.9288 - loss: 0.4521\n",
      "Validation accuracy: 0.9316239356994629\n"
     ]
    }
   ],
   "source": [
    "\n",
    "#Validation set Accuracy\n",
    "val_loss, val_acc = cnn.evaluate(validation_set)\n",
    "print('Validation accuracy:', val_acc)"
   ]
  },
  {
   "cell_type": "code",
   "execution_count": 125,
   "metadata": {},
   "outputs": [
    {
     "name": "stderr",
     "output_type": "stream",
     "text": [
      "WARNING:absl:You are saving your model as an HDF5 file via `model.save()` or `keras.saving.save_model(model)`. This file format is considered legacy. We recommend using instead the native Keras format, e.g. `model.save('my_model.keras')` or `keras.saving.save_model(model, 'my_model.keras')`. \n"
     ]
    }
   ],
   "source": [
    "# Saving Model\n",
    "cnn.save('trained_model.h5')"
   ]
  },
  {
   "cell_type": "code",
   "execution_count": 126,
   "metadata": {},
   "outputs": [
    {
     "data": {
      "text/plain": [
       "{'accuracy': [0.0272873193025589,\n",
       "  0.03820224851369858,\n",
       "  0.03788122162222862,\n",
       "  0.04558587446808815,\n",
       "  0.0725521668791771,\n",
       "  0.08314606547355652,\n",
       "  0.11075441539287567,\n",
       "  0.12744782865047455,\n",
       "  0.17528089880943298,\n",
       "  0.21059389412403107,\n",
       "  0.2699839472770691,\n",
       "  0.31171751022338867,\n",
       "  0.39518457651138306,\n",
       "  0.4430176615715027,\n",
       "  0.5197432041168213,\n",
       "  0.5441412329673767,\n",
       "  0.6208667755126953,\n",
       "  0.6478330492973328,\n",
       "  0.6853932738304138,\n",
       "  0.7008025646209717,\n",
       "  0.7313001751899719,\n",
       "  0.7637239098548889,\n",
       "  0.7890850901603699,\n",
       "  0.7704654932022095,\n",
       "  0.803531289100647,\n",
       "  0.8182985782623291,\n",
       "  0.8426966071128845,\n",
       "  0.837239146232605,\n",
       "  0.8609951734542847,\n",
       "  0.8616372346878052,\n",
       "  0.8847512006759644,\n",
       "  0.9001604914665222],\n",
       " 'loss': [8.959395408630371,\n",
       "  3.576237916946411,\n",
       "  3.5518202781677246,\n",
       "  3.525038480758667,\n",
       "  3.435819387435913,\n",
       "  3.3866608142852783,\n",
       "  3.239426851272583,\n",
       "  3.120593786239624,\n",
       "  2.94779109954834,\n",
       "  2.7992594242095947,\n",
       "  2.5891456604003906,\n",
       "  2.4461755752563477,\n",
       "  2.12376070022583,\n",
       "  1.9804604053497314,\n",
       "  1.6821781396865845,\n",
       "  1.5604770183563232,\n",
       "  1.3015309572219849,\n",
       "  1.2019003629684448,\n",
       "  1.0752407312393188,\n",
       "  1.019380807876587,\n",
       "  0.9166036248207092,\n",
       "  0.82771235704422,\n",
       "  0.704806923866272,\n",
       "  0.7951439023017883,\n",
       "  0.6734456419944763,\n",
       "  0.6170998811721802,\n",
       "  0.553960919380188,\n",
       "  0.5751834511756897,\n",
       "  0.5118860006332397,\n",
       "  0.49330177903175354,\n",
       "  0.39368298649787903,\n",
       "  0.35126277804374695],\n",
       " 'val_accuracy': [0.03133903071284294,\n",
       "  0.03988603875041008,\n",
       "  0.03418803587555885,\n",
       "  0.07122506946325302,\n",
       "  0.1111111119389534,\n",
       "  0.14245013892650604,\n",
       "  0.2421652376651764,\n",
       "  0.31339031457901,\n",
       "  0.34188035130500793,\n",
       "  0.4672364592552185,\n",
       "  0.5698005557060242,\n",
       "  0.5925925970077515,\n",
       "  0.7065526843070984,\n",
       "  0.74643874168396,\n",
       "  0.7435897588729858,\n",
       "  0.8062677979469299,\n",
       "  0.8148148059844971,\n",
       "  0.8461538553237915,\n",
       "  0.8547008633613586,\n",
       "  0.8547008633613586,\n",
       "  0.8717948794364929,\n",
       "  0.8660968542098999,\n",
       "  0.874643862247467,\n",
       "  0.8831908702850342,\n",
       "  0.8974359035491943,\n",
       "  0.9059829115867615,\n",
       "  0.9173789024353027,\n",
       "  0.8945869207382202,\n",
       "  0.934472918510437,\n",
       "  0.9230769276618958,\n",
       "  0.9259259104728699,\n",
       "  0.9316239356994629],\n",
       " 'val_loss': [3.580892562866211,\n",
       "  3.5738985538482666,\n",
       "  3.577347755432129,\n",
       "  3.521465539932251,\n",
       "  3.35440731048584,\n",
       "  3.2315046787261963,\n",
       "  2.881619930267334,\n",
       "  2.605903387069702,\n",
       "  2.5504870414733887,\n",
       "  2.030905246734619,\n",
       "  1.8806376457214355,\n",
       "  1.655987024307251,\n",
       "  1.2253650426864624,\n",
       "  1.0792945623397827,\n",
       "  1.0387989282608032,\n",
       "  0.8170823454856873,\n",
       "  0.8417961001396179,\n",
       "  0.7307153344154358,\n",
       "  0.6698876023292542,\n",
       "  0.7063536643981934,\n",
       "  0.557617723941803,\n",
       "  0.5672263503074646,\n",
       "  0.6631545424461365,\n",
       "  0.5339764356613159,\n",
       "  0.5811406970024109,\n",
       "  0.5361748337745667,\n",
       "  0.4643632173538208,\n",
       "  0.5534554719924927,\n",
       "  0.5216944217681885,\n",
       "  0.4602545201778412,\n",
       "  0.4231788218021393,\n",
       "  0.4705130159854889]}"
      ]
     },
     "execution_count": 126,
     "metadata": {},
     "output_type": "execute_result"
    }
   ],
   "source": [
    "training_history.history # return dictionary of history"
   ]
  },
  {
   "cell_type": "code",
   "execution_count": 127,
   "metadata": {},
   "outputs": [],
   "source": [
    "# Recording History\n",
    "\n",
    "import json\n",
    "with open('training_hist.json','w') as f:\n",
    "  json.dump(training_history.history,f)"
   ]
  },
  {
   "cell_type": "code",
   "execution_count": 128,
   "metadata": {},
   "outputs": [
    {
     "name": "stdout",
     "output_type": "stream",
     "text": [
      "dict_keys(['accuracy', 'loss', 'val_accuracy', 'val_loss'])\n"
     ]
    }
   ],
   "source": [
    "print(training_history.history.keys())"
   ]
  },
  {
   "cell_type": "markdown",
   "metadata": {},
   "source": [
    "Calculating Accuracy of Model Achieved on Validation set"
   ]
  },
  {
   "cell_type": "code",
   "execution_count": 129,
   "metadata": {},
   "outputs": [
    {
     "name": "stdout",
     "output_type": "stream",
     "text": [
      "Validation set Accuracy: 93.16239356994629 %\n"
     ]
    }
   ],
   "source": [
    "print(\"Validation set Accuracy: {} %\".format(training_history.history['val_accuracy'][-1] * 100))\n",
    "# final accuracy"
   ]
  },
  {
   "cell_type": "markdown",
   "metadata": {},
   "source": [
    "ACCURACY VISUALIZATION"
   ]
  },
  {
   "cell_type": "markdown",
   "metadata": {},
   "source": [
    "Training visualization"
   ]
  },
  {
   "cell_type": "code",
   "execution_count": 130,
   "metadata": {},
   "outputs": [
    {
     "data": {
      "image/png": "[encoded data removed]",
      "text/plain": [
       "<Figure size 640x480 with 1 Axes>"
      ]
     },
     "metadata": {},
     "output_type": "display_data"
    }
   ],
   "source": [
    "epochs = [i for i in range(1,33)]\n",
    "plt.plot(epochs,training_history.history['accuracy'],color='red')\n",
    "plt.xlabel('No of Epochs')\n",
    "plt.ylabel('Training Accuracy')\n",
    "plt.title('Visualization of Training Accuracy Result')\n",
    "plt.show()"
   ]
  },
  {
   "cell_type": "code",
   "execution_count": 131,
   "metadata": {},
   "outputs": [],
   "source": [
    "#epochs"
   ]
  },
  {
   "cell_type": "markdown",
   "metadata": {},
   "source": [
    "Validation Accuracy"
   ]
  },
  {
   "cell_type": "code",
   "execution_count": 132,
   "metadata": {},
   "outputs": [
    {
     "data": {
      "image/png": "[encoded data removed]",
      "text/plain": [
       "<Figure size 640x480 with 1 Axes>"
      ]
     },
     "metadata": {},
     "output_type": "display_data"
    }
   ],
   "source": [
    "plt.plot(epochs,training_history.history['val_accuracy'],color='blue')\n",
    "plt.xlabel('No of Epochs')\n",
    "plt.ylabel('Validation Accuracy')\n",
    "plt.title('Visualization of Validation Accuracy Result')\n",
    "plt.show()"
   ]
  },
  {
   "cell_type": "markdown",
   "metadata": {},
   "source": [
    "Test Set Evaluation"
   ]
  },
  {
   "cell_type": "code",
   "execution_count": 133,
   "metadata": {},
   "outputs": [
    {
     "name": "stdout",
     "output_type": "stream",
     "text": [
      "Found 359 files belonging to 36 classes.\n"
     ]
    }
   ],
   "source": [
    "test_set = tf.keras.utils.image_dataset_from_directory(\n",
    "\t'/Users/pranshmaurya/Desktop/AIML_Project/archive/test',\n",
    "\tlabels = 'inferred',\n",
    "\tlabel_mode = 'categorical',\n",
    "\tclass_names = None,\n",
    "\tcolor_mode = 'rgb',\n",
    "\tbatch_size = 32,\n",
    "\timage_size = (64, 64),\n",
    " \tshuffle = True,\n",
    "  seed = None,\n",
    "  validation_split = None,\n",
    "  subset = None,\n",
    "  interpolation = 'bilinear',\n",
    "  follow_links = False,\n",
    "  crop_to_aspect_ratio = False\n",
    ")"
   ]
  },
  {
   "cell_type": "code",
   "execution_count": 134,
   "metadata": {},
   "outputs": [
    {
     "name": "stdout",
     "output_type": "stream",
     "text": [
      "\u001b[1m 5/12\u001b[0m \u001b[32m━━━━━━━━\u001b[0m\u001b[37m━━━━━━━━━━━━\u001b[0m \u001b[1m1s\u001b[0m 237ms/step - accuracy: 0.9306 - loss: 0.3416"
     ]
    },
    {
     "name": "stderr",
     "output_type": "stream",
     "text": [
      "2024-04-30 14:12:31.155749: W tensorflow/core/lib/png/png_io.cc:89] PNG warning: iCCP: known incorrect sRGB profile\n"
     ]
    },
    {
     "name": "stdout",
     "output_type": "stream",
     "text": [
      "\u001b[1m 7/12\u001b[0m \u001b[32m━━━━━━━━━━━\u001b[0m\u001b[37m━━━━━━━━━\u001b[0m \u001b[1m1s\u001b[0m 244ms/step - accuracy: 0.9271 - loss: 0.3645"
     ]
    },
    {
     "name": "stderr",
     "output_type": "stream",
     "text": [
      "2024-04-30 14:12:31.498668: W tensorflow/core/lib/png/png_io.cc:89] PNG warning: iCCP: known incorrect sRGB profile\n"
     ]
    },
    {
     "name": "stdout",
     "output_type": "stream",
     "text": [
      "\u001b[1m12/12\u001b[0m \u001b[32m━━━━━━━━━━━━━━━━━━━━\u001b[0m\u001b[37m\u001b[0m \u001b[1m3s\u001b[0m 217ms/step - accuracy: 0.9267 - loss: 0.4289\n",
      "Test accuracy: 0.9331476092338562\n"
     ]
    }
   ],
   "source": [
    "\n",
    "test_loss,test_acc = cnn.evaluate(test_set)\n",
    "print('Test accuracy:', test_acc)"
   ]
  }
 ],
 "metadata": {
  "kernelspec": {
   "display_name": "Python 3",
   "language": "python",
   "name": "python3"
  },
  "language_info": {
   "codemirror_mode": {
    "name": "ipython",
    "version": 3
   },
   "file_extension": ".py",
   "mimetype": "text/x-python",
   "name": "python",
   "nbconvert_exporter": "python",
   "pygments_lexer": "ipython3",
   "version": "3.12.3"
  }
 },
 "nbformat": 4,
 "nbformat_minor": 2
}
